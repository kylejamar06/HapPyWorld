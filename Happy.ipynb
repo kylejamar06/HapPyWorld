{
 "cells": [
  {
   "cell_type": "code",
   "execution_count": 12,
   "metadata": {},
   "outputs": [],
   "source": [
    "# Importing Dependencies\n",
    "\n",
    "import os\n",
    "import csv\n",
    "import pandas as pd\n"
   ]
  },
  {
   "cell_type": "code",
   "execution_count": 13,
   "metadata": {},
   "outputs": [],
   "source": [
    "# Import & compare file heads of our various CSVs. We'll use 2019.csv as our template and create new\n",
    "# dataframes of off the rest to ensure the data is congruent.\n",
    "\n",
    "csvpath_2015 = os.path.join('Resources', '2015.csv')\n",
    "csvpath_2016 = os.path.join('Resources', '2016.csv')\n",
    "csvpath_2017 = os.path.join('Resources', '2017.csv')\n",
    "csvpath_2018 = os.path.join('Resources', '2018.csv')\n",
    "csvpath_2019 = os.path.join('Resources', '2019.csv')\n",
    "\n",
    "csv_2015 = pd.read_csv(csvpath_2015)"
   ]
  },
  {
   "cell_type": "code",
   "execution_count": 14,
   "metadata": {},
   "outputs": [],
   "source": [
    "csv_2016 = pd.read_csv(csvpath_2016)"
   ]
  },
  {
   "cell_type": "code",
   "execution_count": 15,
   "metadata": {},
   "outputs": [],
   "source": [
    "csv_2017 = pd.read_csv(csvpath_2017)"
   ]
  },
  {
   "cell_type": "code",
   "execution_count": 16,
   "metadata": {},
   "outputs": [],
   "source": [
    "csv_2018 = pd.read_csv(csvpath_2018)"
   ]
  },
  {
   "cell_type": "code",
   "execution_count": 17,
   "metadata": {},
   "outputs": [],
   "source": [
    "csv_2019 = pd.read_csv(csvpath_2019)"
   ]
  },
  {
   "cell_type": "code",
   "execution_count": null,
   "metadata": {},
   "outputs": [],
   "source": []
  },
  {
   "cell_type": "code",
   "execution_count": 18,
   "metadata": {
    "scrolled": true
   },
   "outputs": [],
   "source": [
    "# 2019 & 2018 datasets are the same in structure & column naming convention.  Restructure / Rename\n",
    "# datasets from 2015 - 2017.\n",
    "\n",
    "# Convert / Fix 2017 Data\n",
    "\n",
    "csv_2017_restructured = csv_2017[[\"Happiness.Rank\",\n",
    "                                  \"Country\",\n",
    "                                  \"Happiness.Score\",\n",
    "                                  \"Economy..GDP.per.Capita.\",\n",
    "                                  \"Family\",\n",
    "                                  \"Health..Life.Expectancy.\",\n",
    "                                  \"Freedom\",\n",
    "                                  \"Generosity\",\n",
    "                                  \"Trust..Government.Corruption.\"]]\n",
    "\n",
    "csv_2017_restructured = csv_2017_restructured.rename(columns={\"Happiness.Rank\": \"Overall rank\",\n",
    "                                      \"Country\": \"Country or region\",\n",
    "                                      \"Happiness.Score\": \"Score\",\n",
    "                                      \"Economy..GDP.per.Capita.\": \"GDP per capita\",\n",
    "                                      \"Family\": \"Social support\",\n",
    "                                      \"Health..Life.Expectancy.\": \"Healthy life expectancy\",\n",
    "                                      \"Freedom\": \"Freedom to make life choices\",\n",
    "                                      \"Generosity\": \"Generosity\",\n",
    "                                      \"Trust..Government.Corruption.\": \"Perceptions of corruption\"})\n"
   ]
  },
  {
   "cell_type": "code",
   "execution_count": 31,
   "metadata": {},
   "outputs": [],
   "source": [
    "# 2019 & 2018 datasets are the same in structure & column naming convention.  Restructure / Rename\n",
    "# datasets from 2015 - 2017.\n",
    "\n",
    "# Convert / fix 2016 Data\n",
    "\n",
    "csv_2016_restructured = csv_2016[[\"Happiness Rank\",\n",
    "                                 \"Country\",\n",
    "                                  \"Happiness Score\",\n",
    "                                  \"Economy (GDP per Capita)\",\n",
    "                                  \"Family\",\n",
    "                                  \"Health (Life Expectancy)\",\n",
    "                                  \"Freedom\",\n",
    "                                  \"Generosity\",\n",
    "                                  \"Trust (Government Corruption)\"]]\n",
    "\n",
    "csv_2016_restructured = csv_2016_restructured.rename(columns={\"Happiness Rank\": \"Overall rank\",\n",
    "                                      \"Country\": \"Country or region\",\n",
    "                                      \"Happiness Score\": \"Score\",\n",
    "                                      \"Economy (GDP per Capita)\": \"GDP per capita\",\n",
    "                                      \"Family\": \"Social support\",\n",
    "                                      \"Health (Life Expectancy)\": \"Healthy life expectancy\",\n",
    "                                      \"Freedom\": \"Freedom to make life choices\",\n",
    "                                      \"Generosity\": \"Generosity\",\n",
    "                                      \"Trust (Government Corruption)\": \"Perceptions of corruption\"})"
   ]
  },
  {
   "cell_type": "code",
   "execution_count": 32,
   "metadata": {},
   "outputs": [
    {
     "data": {
      "text/html": [
       "<div>\n",
       "<style scoped>\n",
       "    .dataframe tbody tr th:only-of-type {\n",
       "        vertical-align: middle;\n",
       "    }\n",
       "\n",
       "    .dataframe tbody tr th {\n",
       "        vertical-align: top;\n",
       "    }\n",
       "\n",
       "    .dataframe thead th {\n",
       "        text-align: right;\n",
       "    }\n",
       "</style>\n",
       "<table border=\"1\" class=\"dataframe\">\n",
       "  <thead>\n",
       "    <tr style=\"text-align: right;\">\n",
       "      <th></th>\n",
       "      <th>Overall rank</th>\n",
       "      <th>Country or region</th>\n",
       "      <th>Score</th>\n",
       "      <th>GDP per capita</th>\n",
       "      <th>Social support</th>\n",
       "      <th>Healthy life expectancy</th>\n",
       "      <th>Freedom to make life choices</th>\n",
       "      <th>Generosity</th>\n",
       "      <th>Perceptions of corruption</th>\n",
       "      <th>Year</th>\n",
       "    </tr>\n",
       "  </thead>\n",
       "  <tbody>\n",
       "    <tr>\n",
       "      <th>0</th>\n",
       "      <td>1</td>\n",
       "      <td>Switzerland</td>\n",
       "      <td>7.587</td>\n",
       "      <td>1.39651</td>\n",
       "      <td>1.34951</td>\n",
       "      <td>0.94143</td>\n",
       "      <td>0.66557</td>\n",
       "      <td>0.29678</td>\n",
       "      <td>0.41978</td>\n",
       "      <td>2015</td>\n",
       "    </tr>\n",
       "    <tr>\n",
       "      <th>1</th>\n",
       "      <td>2</td>\n",
       "      <td>Iceland</td>\n",
       "      <td>7.561</td>\n",
       "      <td>1.30232</td>\n",
       "      <td>1.40223</td>\n",
       "      <td>0.94784</td>\n",
       "      <td>0.62877</td>\n",
       "      <td>0.43630</td>\n",
       "      <td>0.14145</td>\n",
       "      <td>2015</td>\n",
       "    </tr>\n",
       "    <tr>\n",
       "      <th>2</th>\n",
       "      <td>3</td>\n",
       "      <td>Denmark</td>\n",
       "      <td>7.527</td>\n",
       "      <td>1.32548</td>\n",
       "      <td>1.36058</td>\n",
       "      <td>0.87464</td>\n",
       "      <td>0.64938</td>\n",
       "      <td>0.34139</td>\n",
       "      <td>0.48357</td>\n",
       "      <td>2015</td>\n",
       "    </tr>\n",
       "    <tr>\n",
       "      <th>3</th>\n",
       "      <td>4</td>\n",
       "      <td>Norway</td>\n",
       "      <td>7.522</td>\n",
       "      <td>1.45900</td>\n",
       "      <td>1.33095</td>\n",
       "      <td>0.88521</td>\n",
       "      <td>0.66973</td>\n",
       "      <td>0.34699</td>\n",
       "      <td>0.36503</td>\n",
       "      <td>2015</td>\n",
       "    </tr>\n",
       "    <tr>\n",
       "      <th>4</th>\n",
       "      <td>5</td>\n",
       "      <td>Canada</td>\n",
       "      <td>7.427</td>\n",
       "      <td>1.32629</td>\n",
       "      <td>1.32261</td>\n",
       "      <td>0.90563</td>\n",
       "      <td>0.63297</td>\n",
       "      <td>0.45811</td>\n",
       "      <td>0.32957</td>\n",
       "      <td>2015</td>\n",
       "    </tr>\n",
       "  </tbody>\n",
       "</table>\n",
       "</div>"
      ],
      "text/plain": [
       "   Overall rank Country or region  Score  GDP per capita  Social support  \\\n",
       "0             1       Switzerland  7.587         1.39651         1.34951   \n",
       "1             2           Iceland  7.561         1.30232         1.40223   \n",
       "2             3           Denmark  7.527         1.32548         1.36058   \n",
       "3             4            Norway  7.522         1.45900         1.33095   \n",
       "4             5            Canada  7.427         1.32629         1.32261   \n",
       "\n",
       "   Healthy life expectancy  Freedom to make life choices  Generosity  \\\n",
       "0                  0.94143                       0.66557     0.29678   \n",
       "1                  0.94784                       0.62877     0.43630   \n",
       "2                  0.87464                       0.64938     0.34139   \n",
       "3                  0.88521                       0.66973     0.34699   \n",
       "4                  0.90563                       0.63297     0.45811   \n",
       "\n",
       "   Perceptions of corruption  Year  \n",
       "0                    0.41978  2015  \n",
       "1                    0.14145  2015  \n",
       "2                    0.48357  2015  \n",
       "3                    0.36503  2015  \n",
       "4                    0.32957  2015  "
      ]
     },
     "execution_count": 32,
     "metadata": {},
     "output_type": "execute_result"
    }
   ],
   "source": [
    "# 2019 & 2018 datasets are the same in structure & column naming convention.  Restructure / Rename\n",
    "# datasets from 2015 - 2017.\n",
    "\n",
    "# Convert / fix 2015 Data\n",
    "\n",
    "csv_2015_restructured = csv_2015[[\"Happiness Rank\",\n",
    "                                 \"Country\",\n",
    "                                  \"Happiness Score\",\n",
    "                                  \"Economy (GDP per Capita)\",\n",
    "                                  \"Family\",\n",
    "                                  \"Health (Life Expectancy)\",\n",
    "                                  \"Freedom\",\n",
    "                                  \"Generosity\",\n",
    "                                  \"Trust (Government Corruption)\"]]\n",
    "\n",
    "csv_2015_restructured = csv_2015_restructured.rename(columns={\"Happiness Rank\": \"Overall rank\",\n",
    "                                      \"Country\": \"Country or region\",\n",
    "                                      \"Happiness Score\": \"Score\",\n",
    "                                      \"Economy (GDP per Capita)\": \"GDP per capita\",\n",
    "                                      \"Family\": \"Social support\",\n",
    "                                      \"Health (Life Expectancy)\": \"Healthy life expectancy\",\n",
    "                                      \"Freedom\": \"Freedom to make life choices\",\n",
    "                                      \"Generosity\": \"Generosity\",\n",
    "                                      \"Trust (Government Corruption)\": \"Perceptions of corruption\"})"
   ]
  },
  {
   "cell_type": "code",
   "execution_count": 34,
   "metadata": {},
   "outputs": [],
   "source": [
    "#Add new \"Year\" column to each csv.\n",
    "csv_2019[\"Year\"] = 2019\n",
    "csv_2018[\"Year\"] = 2018\n",
    "csv_2017_restructured[\"Year\"] = 2017\n",
    "csv_2016_restructured[\"Year\"] = 2016\n",
    "csv_2015_restructured[\"Year\"] = 2015"
   ]
  },
  {
   "cell_type": "code",
   "execution_count": 38,
   "metadata": {},
   "outputs": [
    {
     "data": {
      "text/plain": [
       "Jordan                      5\n",
       "Liberia                     5\n",
       "Bulgaria                    5\n",
       "Vietnam                     5\n",
       "Algeria                     5\n",
       "                           ..\n",
       "Djibouti                    1\n",
       "North Macedonia             1\n",
       "Taiwan Province of China    1\n",
       "Hong Kong S.A.R., China     1\n",
       "Oman                        1\n",
       "Name: Country or region, Length: 170, dtype: int64"
      ]
     },
     "execution_count": 38,
     "metadata": {},
     "output_type": "execute_result"
    }
   ],
   "source": [
    "#Combine 2015-2019 data into one csv.\n",
    "csv_years_combined = csv_2015_restructured.append(csv_2016_restructured)\n",
    "csv_years_combined = csv_years_combined.append(csv_2017_restructured)\n",
    "csv_years_combined = csv_years_combined.append(csv_2018)\n",
    "csv_years_combined = csv_years_combined.append(csv_2019)\n",
    "csv_years_combined[\"Country or region\"].value_counts()"
   ]
  },
  {
   "cell_type": "code",
   "execution_count": null,
   "metadata": {},
   "outputs": [],
   "source": []
  }
 ],
 "metadata": {
  "kernelspec": {
   "display_name": "Python 3",
   "language": "python",
   "name": "python3"
  },
  "language_info": {
   "codemirror_mode": {
    "name": "ipython",
    "version": 3
   },
   "file_extension": ".py",
   "mimetype": "text/x-python",
   "name": "python",
   "nbconvert_exporter": "python",
   "pygments_lexer": "ipython3",
   "version": "3.6.12"
  }
 },
 "nbformat": 4,
 "nbformat_minor": 5
}

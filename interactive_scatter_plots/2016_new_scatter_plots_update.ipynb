{
 "cells": [
  {
   "cell_type": "code",
   "execution_count": 2,
   "metadata": {},
   "outputs": [],
   "source": [
    "#Dependencies\n",
    "\n",
    "import numpy as np # linear algebra\n",
    "import pandas as pd # data processing, CSV file I/O (e.g. pd.read_csv)\n",
    "import plotly.express as px # for visualization \n",
    "import os\n",
    "import plotly.graph_objects as go\n",
    "from scipy.stats import linregress\n",
    "import scipy.stats as sts"
   ]
  },
  {
   "cell_type": "code",
   "execution_count": 3,
   "metadata": {},
   "outputs": [],
   "source": [
    "#bring in csv file to work with\n",
    "\n",
    "csvpath_2016 = os.path.join('..','Resources', '2016.csv')\n",
    "csv_2016 = pd.read_csv(csvpath_2016)\n"
   ]
  },
  {
   "cell_type": "code",
   "execution_count": 4,
   "metadata": {},
   "outputs": [
    {
     "data": {
      "text/html": [
       "<div>\n",
       "<style scoped>\n",
       "    .dataframe tbody tr th:only-of-type {\n",
       "        vertical-align: middle;\n",
       "    }\n",
       "\n",
       "    .dataframe tbody tr th {\n",
       "        vertical-align: top;\n",
       "    }\n",
       "\n",
       "    .dataframe thead th {\n",
       "        text-align: right;\n",
       "    }\n",
       "</style>\n",
       "<table border=\"1\" class=\"dataframe\">\n",
       "  <thead>\n",
       "    <tr style=\"text-align: right;\">\n",
       "      <th></th>\n",
       "      <th>Overall rank</th>\n",
       "      <th>Country</th>\n",
       "      <th>Region</th>\n",
       "      <th>Score</th>\n",
       "      <th>GDP per capita</th>\n",
       "      <th>Social support</th>\n",
       "      <th>Healthy life expectancy</th>\n",
       "      <th>Freedom to make life choices</th>\n",
       "      <th>Generosity</th>\n",
       "      <th>Perceptions of corruption</th>\n",
       "    </tr>\n",
       "  </thead>\n",
       "  <tbody>\n",
       "    <tr>\n",
       "      <th>0</th>\n",
       "      <td>1</td>\n",
       "      <td>Denmark</td>\n",
       "      <td>Western Europe</td>\n",
       "      <td>7.526</td>\n",
       "      <td>1.44178</td>\n",
       "      <td>1.16374</td>\n",
       "      <td>0.79504</td>\n",
       "      <td>0.57941</td>\n",
       "      <td>0.36171</td>\n",
       "      <td>0.44453</td>\n",
       "    </tr>\n",
       "    <tr>\n",
       "      <th>1</th>\n",
       "      <td>2</td>\n",
       "      <td>Switzerland</td>\n",
       "      <td>Western Europe</td>\n",
       "      <td>7.509</td>\n",
       "      <td>1.52733</td>\n",
       "      <td>1.14524</td>\n",
       "      <td>0.86303</td>\n",
       "      <td>0.58557</td>\n",
       "      <td>0.28083</td>\n",
       "      <td>0.41203</td>\n",
       "    </tr>\n",
       "    <tr>\n",
       "      <th>2</th>\n",
       "      <td>3</td>\n",
       "      <td>Iceland</td>\n",
       "      <td>Western Europe</td>\n",
       "      <td>7.501</td>\n",
       "      <td>1.42666</td>\n",
       "      <td>1.18326</td>\n",
       "      <td>0.86733</td>\n",
       "      <td>0.56624</td>\n",
       "      <td>0.47678</td>\n",
       "      <td>0.14975</td>\n",
       "    </tr>\n",
       "    <tr>\n",
       "      <th>3</th>\n",
       "      <td>4</td>\n",
       "      <td>Norway</td>\n",
       "      <td>Western Europe</td>\n",
       "      <td>7.498</td>\n",
       "      <td>1.57744</td>\n",
       "      <td>1.12690</td>\n",
       "      <td>0.79579</td>\n",
       "      <td>0.59609</td>\n",
       "      <td>0.37895</td>\n",
       "      <td>0.35776</td>\n",
       "    </tr>\n",
       "    <tr>\n",
       "      <th>4</th>\n",
       "      <td>5</td>\n",
       "      <td>Finland</td>\n",
       "      <td>Western Europe</td>\n",
       "      <td>7.413</td>\n",
       "      <td>1.40598</td>\n",
       "      <td>1.13464</td>\n",
       "      <td>0.81091</td>\n",
       "      <td>0.57104</td>\n",
       "      <td>0.25492</td>\n",
       "      <td>0.41004</td>\n",
       "    </tr>\n",
       "    <tr>\n",
       "      <th>5</th>\n",
       "      <td>6</td>\n",
       "      <td>Canada</td>\n",
       "      <td>North America</td>\n",
       "      <td>7.404</td>\n",
       "      <td>1.44015</td>\n",
       "      <td>1.09610</td>\n",
       "      <td>0.82760</td>\n",
       "      <td>0.57370</td>\n",
       "      <td>0.44834</td>\n",
       "      <td>0.31329</td>\n",
       "    </tr>\n",
       "    <tr>\n",
       "      <th>6</th>\n",
       "      <td>7</td>\n",
       "      <td>Netherlands</td>\n",
       "      <td>Western Europe</td>\n",
       "      <td>7.339</td>\n",
       "      <td>1.46468</td>\n",
       "      <td>1.02912</td>\n",
       "      <td>0.81231</td>\n",
       "      <td>0.55211</td>\n",
       "      <td>0.47416</td>\n",
       "      <td>0.29927</td>\n",
       "    </tr>\n",
       "    <tr>\n",
       "      <th>7</th>\n",
       "      <td>8</td>\n",
       "      <td>New Zealand</td>\n",
       "      <td>Australia and New Zealand</td>\n",
       "      <td>7.334</td>\n",
       "      <td>1.36066</td>\n",
       "      <td>1.17278</td>\n",
       "      <td>0.83096</td>\n",
       "      <td>0.58147</td>\n",
       "      <td>0.49401</td>\n",
       "      <td>0.41904</td>\n",
       "    </tr>\n",
       "    <tr>\n",
       "      <th>8</th>\n",
       "      <td>9</td>\n",
       "      <td>Australia</td>\n",
       "      <td>Australia and New Zealand</td>\n",
       "      <td>7.313</td>\n",
       "      <td>1.44443</td>\n",
       "      <td>1.10476</td>\n",
       "      <td>0.85120</td>\n",
       "      <td>0.56837</td>\n",
       "      <td>0.47407</td>\n",
       "      <td>0.32331</td>\n",
       "    </tr>\n",
       "    <tr>\n",
       "      <th>9</th>\n",
       "      <td>10</td>\n",
       "      <td>Sweden</td>\n",
       "      <td>Western Europe</td>\n",
       "      <td>7.291</td>\n",
       "      <td>1.45181</td>\n",
       "      <td>1.08764</td>\n",
       "      <td>0.83121</td>\n",
       "      <td>0.58218</td>\n",
       "      <td>0.38254</td>\n",
       "      <td>0.40867</td>\n",
       "    </tr>\n",
       "    <tr>\n",
       "      <th>10</th>\n",
       "      <td>11</td>\n",
       "      <td>Israel</td>\n",
       "      <td>Middle East and Northern Africa</td>\n",
       "      <td>7.267</td>\n",
       "      <td>1.33766</td>\n",
       "      <td>0.99537</td>\n",
       "      <td>0.84917</td>\n",
       "      <td>0.36432</td>\n",
       "      <td>0.32288</td>\n",
       "      <td>0.08728</td>\n",
       "    </tr>\n",
       "    <tr>\n",
       "      <th>11</th>\n",
       "      <td>12</td>\n",
       "      <td>Austria</td>\n",
       "      <td>Western Europe</td>\n",
       "      <td>7.119</td>\n",
       "      <td>1.45038</td>\n",
       "      <td>1.08383</td>\n",
       "      <td>0.80565</td>\n",
       "      <td>0.54355</td>\n",
       "      <td>0.32865</td>\n",
       "      <td>0.21348</td>\n",
       "    </tr>\n",
       "    <tr>\n",
       "      <th>12</th>\n",
       "      <td>13</td>\n",
       "      <td>United States</td>\n",
       "      <td>North America</td>\n",
       "      <td>7.104</td>\n",
       "      <td>1.50796</td>\n",
       "      <td>1.04782</td>\n",
       "      <td>0.77900</td>\n",
       "      <td>0.48163</td>\n",
       "      <td>0.41077</td>\n",
       "      <td>0.14868</td>\n",
       "    </tr>\n",
       "    <tr>\n",
       "      <th>13</th>\n",
       "      <td>14</td>\n",
       "      <td>Costa Rica</td>\n",
       "      <td>Latin America and Caribbean</td>\n",
       "      <td>7.087</td>\n",
       "      <td>1.06879</td>\n",
       "      <td>1.02152</td>\n",
       "      <td>0.76146</td>\n",
       "      <td>0.55225</td>\n",
       "      <td>0.22553</td>\n",
       "      <td>0.10547</td>\n",
       "    </tr>\n",
       "    <tr>\n",
       "      <th>14</th>\n",
       "      <td>15</td>\n",
       "      <td>Puerto Rico</td>\n",
       "      <td>Latin America and Caribbean</td>\n",
       "      <td>7.039</td>\n",
       "      <td>1.35943</td>\n",
       "      <td>1.08113</td>\n",
       "      <td>0.77758</td>\n",
       "      <td>0.46823</td>\n",
       "      <td>0.22202</td>\n",
       "      <td>0.12275</td>\n",
       "    </tr>\n",
       "  </tbody>\n",
       "</table>\n",
       "</div>"
      ],
      "text/plain": [
       "    Overall rank        Country                           Region  Score  \\\n",
       "0              1        Denmark                   Western Europe  7.526   \n",
       "1              2    Switzerland                   Western Europe  7.509   \n",
       "2              3        Iceland                   Western Europe  7.501   \n",
       "3              4         Norway                   Western Europe  7.498   \n",
       "4              5        Finland                   Western Europe  7.413   \n",
       "5              6         Canada                    North America  7.404   \n",
       "6              7    Netherlands                   Western Europe  7.339   \n",
       "7              8    New Zealand        Australia and New Zealand  7.334   \n",
       "8              9      Australia        Australia and New Zealand  7.313   \n",
       "9             10         Sweden                   Western Europe  7.291   \n",
       "10            11         Israel  Middle East and Northern Africa  7.267   \n",
       "11            12        Austria                   Western Europe  7.119   \n",
       "12            13  United States                    North America  7.104   \n",
       "13            14     Costa Rica      Latin America and Caribbean  7.087   \n",
       "14            15    Puerto Rico      Latin America and Caribbean  7.039   \n",
       "\n",
       "    GDP per capita  Social support  Healthy life expectancy  \\\n",
       "0          1.44178         1.16374                  0.79504   \n",
       "1          1.52733         1.14524                  0.86303   \n",
       "2          1.42666         1.18326                  0.86733   \n",
       "3          1.57744         1.12690                  0.79579   \n",
       "4          1.40598         1.13464                  0.81091   \n",
       "5          1.44015         1.09610                  0.82760   \n",
       "6          1.46468         1.02912                  0.81231   \n",
       "7          1.36066         1.17278                  0.83096   \n",
       "8          1.44443         1.10476                  0.85120   \n",
       "9          1.45181         1.08764                  0.83121   \n",
       "10         1.33766         0.99537                  0.84917   \n",
       "11         1.45038         1.08383                  0.80565   \n",
       "12         1.50796         1.04782                  0.77900   \n",
       "13         1.06879         1.02152                  0.76146   \n",
       "14         1.35943         1.08113                  0.77758   \n",
       "\n",
       "    Freedom to make life choices  Generosity  Perceptions of corruption  \n",
       "0                        0.57941     0.36171                    0.44453  \n",
       "1                        0.58557     0.28083                    0.41203  \n",
       "2                        0.56624     0.47678                    0.14975  \n",
       "3                        0.59609     0.37895                    0.35776  \n",
       "4                        0.57104     0.25492                    0.41004  \n",
       "5                        0.57370     0.44834                    0.31329  \n",
       "6                        0.55211     0.47416                    0.29927  \n",
       "7                        0.58147     0.49401                    0.41904  \n",
       "8                        0.56837     0.47407                    0.32331  \n",
       "9                        0.58218     0.38254                    0.40867  \n",
       "10                       0.36432     0.32288                    0.08728  \n",
       "11                       0.54355     0.32865                    0.21348  \n",
       "12                       0.48163     0.41077                    0.14868  \n",
       "13                       0.55225     0.22553                    0.10547  \n",
       "14                       0.46823     0.22202                    0.12275  "
      ]
     },
     "execution_count": 4,
     "metadata": {},
     "output_type": "execute_result"
    }
   ],
   "source": [
    "# Restructure / Rename\n",
    "# datasets from 2015 - 2017.\n",
    "#added region as as column************\n",
    "\n",
    "# Convert / fix 2015 Data\n",
    "\n",
    "csv_2016_restructured = csv_2016[[\"Happiness Rank\",\n",
    "                                 \"Country\",\n",
    "                                  \"Region\",\n",
    "                                  \"Happiness Score\",\n",
    "                                  \"Economy (GDP per Capita)\",\n",
    "                                  \"Family\",\n",
    "                                  \"Health (Life Expectancy)\",\n",
    "                                  \"Freedom\",\n",
    "                                  \"Generosity\",\n",
    "                                  \"Trust (Government Corruption)\"]]\n",
    "\n",
    "csv_2016_restructured = csv_2016_restructured.rename(columns={\"Happiness Rank\": \"Overall rank\",\n",
    "                                      \"Country\": \"Country\",\n",
    "                                      \"Region\": \"Region\",                        \n",
    "                                      \"Happiness Score\": \"Score\",\n",
    "                                      \"Economy (GDP per Capita)\": \"GDP per capita\",\n",
    "                                      \"Family\": \"Social support\",\n",
    "                                      \"Health (Life Expectancy)\": \"Healthy life expectancy\",\n",
    "                                      \"Freedom\": \"Freedom to make life choices\",\n",
    "                                      \"Generosity\": \"Generosity\",\n",
    "                                      \"Trust (Government Corruption)\": \"Perceptions of corruption\"})\n",
    "csv_2016_restructured.head(15)"
   ]
  },
  {
   "cell_type": "code",
   "execution_count": 5,
   "metadata": {},
   "outputs": [
    {
     "data": {
      "text/plain": [
       "Europe                             50\n",
       "Sub-Saharan Africa                 38\n",
       "Latin America and Caribbean        24\n",
       "Asia                               22\n",
       "Middle East and Northern Africa    19\n",
       "North America                       2\n",
       "Australia and New Zealand           2\n",
       "Name: Region, dtype: int64"
      ]
     },
     "execution_count": 5,
     "metadata": {},
     "output_type": "execute_result"
    }
   ],
   "source": [
    "#see how many regions there are in dataset\n",
    "#csv_2015_restructured[\"Region\"].value_counts()\n",
    "  \n",
    "# renaming regions in dataset to be able to have less groups for better visualization\n",
    "#Making \"Asia\" one large group instead of three\n",
    "csv_2016_restructured[\"Region\"]= csv_2016_restructured[\"Region\"].replace(\"Southeastern Asia\", \"Asia\") \n",
    "csv_2016_restructured[\"Region\"]= csv_2016_restructured[\"Region\"].replace(\"Southern Asia\", \"Asia\")\n",
    "csv_2016_restructured[\"Region\"]= csv_2016_restructured[\"Region\"].replace(\"Eastern Asia\", \"Asia\")\n",
    "\n",
    "#making Europe into one group instead of two separate ones\n",
    "csv_2016_restructured[\"Region\"]= csv_2016_restructured[\"Region\"].replace(\"Central and Eastern Europe\", \"Europe\")\n",
    "csv_2016_restructured[\"Region\"]= csv_2016_restructured[\"Region\"].replace(\"Western Europe\", \"Europe\")\n",
    "\n",
    "#counting to make sure I did it correctly\n",
    "\n",
    "csv_2016_restructured[\"Region\"].value_counts()\n",
    "  "
   ]
  },
  {
   "cell_type": "code",
   "execution_count": 13,
   "metadata": {},
   "outputs": [
    {
     "name": "stdout",
     "output_type": "stream",
     "text": [
      "slope:0.29\n",
      "intercept:-0.58\n",
      "R-squared: 0.6246\n",
      "y=0.29x + -0.58\n"
     ]
    },
    {
     "data": {
      "application/vnd.plotly.v1+json": {
       "config": {
        "plotlyServerURL": "https://plot.ly"
       },
       "data": [
        {
         "hovertemplate": "<b>%{hovertext}</b><br><br>Region=Europe<br>Score=%{x}<br>GDP per capita=%{y}<extra></extra>",
         "hovertext": [
          "Denmark",
          "Switzerland",
          "Iceland",
          "Norway",
          "Finland",
          "Netherlands",
          "Sweden",
          "Austria",
          "Germany",
          "Belgium",
          "Ireland",
          "Luxembourg",
          "United Kingdom",
          "Czech Republic",
          "Malta",
          "France",
          "Spain",
          "Slovakia",
          "Uzbekistan",
          "Italy",
          "Kazakhstan",
          "Moldova",
          "Russia",
          "Poland",
          "Lithuania",
          "Belarus",
          "North Cyprus",
          "Slovenia",
          "Turkmenistan",
          "Latvia",
          "Cyprus",
          "Romania",
          "Estonia",
          "Croatia",
          "Kosovo",
          "Azerbaijan",
          "Kyrgyzstan",
          "Serbia",
          "Bosnia and Herzegovina",
          "Montenegro",
          "Hungary",
          "Portugal",
          "Macedonia",
          "Greece",
          "Tajikistan",
          "Albania",
          "Armenia",
          "Ukraine",
          "Georgia",
          "Bulgaria"
         ],
         "legendgroup": "Europe",
         "marker": {
          "color": "#636efa",
          "line": {
           "color": "DarkSlateGrey",
           "width": 1
          },
          "size": 10,
          "symbol": "circle"
         },
         "mode": "markers",
         "name": "Europe",
         "orientation": "v",
         "showlegend": true,
         "type": "scatter",
         "x": [
          7.526,
          7.5089999999999995,
          7.501,
          7.497999999999999,
          7.412999999999999,
          7.3389999999999995,
          7.291,
          7.119,
          6.994,
          6.928999999999999,
          6.907,
          6.871,
          6.725,
          6.596,
          6.4879999999999995,
          6.478,
          6.361000000000001,
          6.077999999999999,
          5.987,
          5.977,
          5.919,
          5.897,
          5.856,
          5.835,
          5.813,
          5.8020000000000005,
          5.771,
          5.768,
          5.6579999999999995,
          5.56,
          5.546,
          5.528,
          5.517,
          5.4879999999999995,
          5.401,
          5.291,
          5.185,
          5.1770000000000005,
          5.162999999999999,
          5.1610000000000005,
          5.145,
          5.122999999999999,
          5.121,
          5.033,
          4.996,
          4.655,
          4.36,
          4.324,
          4.252,
          4.217
         ],
         "xaxis": "x",
         "y": [
          1.4417799999999998,
          1.5273299999999999,
          1.42666,
          1.57744,
          1.40598,
          1.46468,
          1.45181,
          1.45038,
          1.44787,
          1.42539,
          1.4834100000000001,
          1.6975200000000001,
          1.40283,
          1.30915,
          1.30782,
          1.39488,
          1.34253,
          1.27973,
          0.7359100000000001,
          1.35495,
          1.22943,
          0.69177,
          1.2322799999999998,
          1.24585,
          1.2692,
          1.1306200000000002,
          1.31141,
          1.2994700000000001,
          1.08017,
          1.2178799999999999,
          1.31857,
          1.1697,
          1.2796399999999999,
          1.18649,
          0.90145,
          1.12373,
          0.5604399999999999,
          1.03437,
          0.9338299999999999,
          1.07838,
          1.24142,
          1.27607,
          1.0193,
          1.24886,
          0.48835,
          0.9553,
          0.8608600000000001,
          0.87287,
          0.8379200000000001,
          1.11306
         ],
         "yaxis": "y"
        },
        {
         "hovertemplate": "<b>%{hovertext}</b><br><br>Region=North America<br>Score=%{x}<br>GDP per capita=%{y}<extra></extra>",
         "hovertext": [
          "Canada",
          "United States"
         ],
         "legendgroup": "North America",
         "marker": {
          "color": "#EF553B",
          "line": {
           "color": "DarkSlateGrey",
           "width": 1
          },
          "size": 10,
          "symbol": "circle"
         },
         "mode": "markers",
         "name": "North America",
         "orientation": "v",
         "showlegend": true,
         "type": "scatter",
         "x": [
          7.404,
          7.104
         ],
         "xaxis": "x",
         "y": [
          1.44015,
          1.50796
         ],
         "yaxis": "y"
        },
        {
         "hovertemplate": "<b>%{hovertext}</b><br><br>Region=Australia and New Zealand<br>Score=%{x}<br>GDP per capita=%{y}<extra></extra>",
         "hovertext": [
          "New Zealand",
          "Australia"
         ],
         "legendgroup": "Australia and New Zealand",
         "marker": {
          "color": "#00cc96",
          "line": {
           "color": "DarkSlateGrey",
           "width": 1
          },
          "size": 10,
          "symbol": "circle"
         },
         "mode": "markers",
         "name": "Australia and New Zealand",
         "orientation": "v",
         "showlegend": true,
         "type": "scatter",
         "x": [
          7.334,
          7.313
         ],
         "xaxis": "x",
         "y": [
          1.36066,
          1.4444299999999999
         ],
         "yaxis": "y"
        },
        {
         "hovertemplate": "<b>%{hovertext}</b><br><br>Region=Middle East and Northern Africa<br>Score=%{x}<br>GDP per capita=%{y}<extra></extra>",
         "hovertext": [
          "Israel",
          "United Arab Emirates",
          "Saudi Arabia",
          "Qatar",
          "Algeria",
          "Kuwait",
          "Bahrain",
          "Libya",
          "Turkey",
          "Jordan",
          "Morocco",
          "Lebanon",
          "Tunisia",
          "Iran",
          "Palestinian Territories",
          "Iraq",
          "Egypt",
          "Yemen",
          "Syria"
         ],
         "legendgroup": "Middle East and Northern Africa",
         "marker": {
          "color": "#ab63fa",
          "line": {
           "color": "DarkSlateGrey",
           "width": 1
          },
          "size": 10,
          "symbol": "circle"
         },
         "mode": "markers",
         "name": "Middle East and Northern Africa",
         "orientation": "v",
         "showlegend": true,
         "type": "scatter",
         "x": [
          7.267,
          6.5729999999999995,
          6.379,
          6.375,
          6.355,
          6.239,
          6.218,
          5.615,
          5.388999999999999,
          5.303,
          5.151,
          5.129,
          5.045,
          4.813,
          4.754,
          4.575,
          4.362,
          3.7239999999999998,
          3.069
         ],
         "xaxis": "x",
         "y": [
          1.33766,
          1.57352,
          1.48953,
          1.82427,
          1.05266,
          1.61714,
          1.44024,
          1.0668799999999998,
          1.1649200000000002,
          0.9967299999999999,
          0.8405799999999999,
          1.12268,
          0.97724,
          1.11758,
          0.67024,
          1.07474,
          0.95395,
          0.57939,
          0.7471899999999999
         ],
         "yaxis": "y"
        },
        {
         "hovertemplate": "<b>%{hovertext}</b><br><br>Region=Latin America and Caribbean<br>Score=%{x}<br>GDP per capita=%{y}<extra></extra>",
         "hovertext": [
          "Costa Rica",
          "Puerto Rico",
          "Brazil",
          "Mexico",
          "Chile",
          "Panama",
          "Argentina",
          "Uruguay",
          "Colombia",
          "Guatemala",
          "Suriname",
          "Trinidad and Tobago",
          "Venezuela",
          "El Salvador",
          "Nicaragua",
          "Ecuador",
          "Belize",
          "Bolivia",
          "Peru",
          "Paraguay",
          "Jamaica",
          "Dominican Republic",
          "Honduras",
          "Haiti"
         ],
         "legendgroup": "Latin America and Caribbean",
         "marker": {
          "color": "#FFA15A",
          "line": {
           "color": "DarkSlateGrey",
           "width": 1
          },
          "size": 10,
          "symbol": "circle"
         },
         "mode": "markers",
         "name": "Latin America and Caribbean",
         "orientation": "v",
         "showlegend": true,
         "type": "scatter",
         "x": [
          7.087000000000001,
          7.039,
          6.952000000000001,
          6.778,
          6.705,
          6.7010000000000005,
          6.65,
          6.545,
          6.481,
          6.324,
          6.269,
          6.167999999999999,
          6.084,
          6.068,
          5.992000000000001,
          5.976,
          5.956,
          5.822,
          5.742999999999999,
          5.537999999999999,
          5.51,
          5.155,
          4.871,
          4.0280000000000005
         ],
         "xaxis": "x",
         "y": [
          1.06879,
          1.35943,
          1.08754,
          1.1150799999999998,
          1.2167,
          1.18306,
          1.15137,
          1.18157,
          1.0303200000000001,
          0.83454,
          1.09686,
          1.32572,
          1.1336700000000002,
          0.8737,
          0.69384,
          0.97306,
          0.87616,
          0.79422,
          0.9960200000000001,
          0.8937299999999999,
          0.89333,
          1.02787,
          0.69429,
          0.34097
         ],
         "yaxis": "y"
        },
        {
         "hovertemplate": "<b>%{hovertext}</b><br><br>Region=Asia<br>Score=%{x}<br>GDP per capita=%{y}<extra></extra>",
         "hovertext": [
          "Singapore",
          "Thailand",
          "Taiwan",
          "Malaysia",
          "Japan",
          "South Korea",
          "Hong Kong",
          "Indonesia",
          "Philippines",
          "China",
          "Bhutan",
          "Pakistan",
          "Vietnam",
          "Mongolia",
          "Laos",
          "Nepal",
          "Bangladesh",
          "Sri Lanka",
          "India",
          "Myanmar",
          "Cambodia",
          "Afghanistan"
         ],
         "legendgroup": "Asia",
         "marker": {
          "color": "#19d3f3",
          "line": {
           "color": "DarkSlateGrey",
           "width": 1
          },
          "size": 10,
          "symbol": "circle"
         },
         "mode": "markers",
         "name": "Asia",
         "orientation": "v",
         "showlegend": true,
         "type": "scatter",
         "x": [
          6.739,
          6.474,
          6.379,
          6.005,
          5.921,
          5.835,
          5.457999999999999,
          5.314,
          5.279,
          5.245,
          5.196000000000001,
          5.132000000000001,
          5.061,
          4.907,
          4.876,
          4.793,
          4.643,
          4.415,
          4.404,
          4.395,
          3.907,
          3.36
         ],
         "xaxis": "x",
         "y": [
          1.64555,
          1.0893,
          1.39729,
          1.25142,
          1.3800700000000001,
          1.35948,
          1.5107,
          0.95104,
          0.81217,
          1.0278,
          0.8527,
          0.68816,
          0.74037,
          0.9885299999999999,
          0.68042,
          0.44626000000000005,
          0.54177,
          0.9731799999999999,
          0.74036,
          0.34112,
          0.55604,
          0.38227
         ],
         "yaxis": "y"
        },
        {
         "hovertemplate": "<b>%{hovertext}</b><br><br>Region=Sub-Saharan Africa<br>Score=%{x}<br>GDP per capita=%{y}<extra></extra>",
         "hovertext": [
          "Mauritius",
          "Somalia",
          "Somaliland Region",
          "Nigeria",
          "Zambia",
          "Sierra Leone",
          "Namibia",
          "Cameroon",
          "Ethiopia",
          "South Africa",
          "Kenya",
          "Ghana",
          "Congo (Kinshasa)",
          "Congo (Brazzaville)",
          "Senegal",
          "Mauritania",
          "Zimbabwe",
          "Malawi",
          "Sudan",
          "Gabon",
          "Mali",
          "Botswana",
          "Comoros",
          "Ivory Coast",
          "Angola",
          "Niger",
          "South Sudan",
          "Chad",
          "Burkina Faso",
          "Uganda",
          "Madagascar",
          "Tanzania",
          "Liberia",
          "Guinea",
          "Rwanda",
          "Benin",
          "Togo",
          "Burundi"
         ],
         "legendgroup": "Sub-Saharan Africa",
         "marker": {
          "color": "#FF6692",
          "line": {
           "color": "DarkSlateGrey",
           "width": 1
          },
          "size": 10,
          "symbol": "circle"
         },
         "mode": "markers",
         "name": "Sub-Saharan Africa",
         "orientation": "v",
         "showlegend": true,
         "type": "scatter",
         "x": [
          5.648,
          5.44,
          5.0569999999999995,
          4.875,
          4.795,
          4.635,
          4.574,
          4.513,
          4.508,
          4.459,
          4.356,
          4.276,
          4.272,
          4.236000000000001,
          4.218999999999999,
          4.2010000000000005,
          4.1930000000000005,
          4.156000000000001,
          4.138999999999999,
          4.121,
          4.073,
          3.9739999999999998,
          3.9560000000000004,
          3.9160000000000004,
          3.866,
          3.8560000000000003,
          3.832,
          3.763,
          3.739,
          3.739,
          3.695,
          3.6660000000000004,
          3.622,
          3.6069999999999998,
          3.515,
          3.484,
          3.303,
          2.905
         ],
         "xaxis": "x",
         "y": [
          1.14372,
          0,
          0.25558000000000003,
          0.75216,
          0.61202,
          0.36485,
          0.9328700000000001,
          0.5249699999999999,
          0.29283000000000003,
          1.02416,
          0.52267,
          0.63107,
          0.05661,
          0.7710899999999999,
          0.44314,
          0.6139100000000001,
          0.35041,
          0.08709,
          0.63069,
          1.15851,
          0.31292,
          1.09426,
          0.27509,
          0.55507,
          0.84731,
          0.1327,
          0.39394,
          0.42213999999999996,
          0.31995,
          0.34719,
          0.27954,
          0.47155,
          0.10705999999999999,
          0.22415,
          0.32846,
          0.39499,
          0.28123000000000004,
          0.06831
         ],
         "yaxis": "y"
        }
       ],
       "layout": {
        "height": 600,
        "legend": {
         "title": {
          "text": "Region"
         },
         "tracegroupgap": 0
        },
        "template": {
         "data": {
          "bar": [
           {
            "error_x": {
             "color": "#2a3f5f"
            },
            "error_y": {
             "color": "#2a3f5f"
            },
            "marker": {
             "line": {
              "color": "#E5ECF6",
              "width": 0.5
             }
            },
            "type": "bar"
           }
          ],
          "barpolar": [
           {
            "marker": {
             "line": {
              "color": "#E5ECF6",
              "width": 0.5
             }
            },
            "type": "barpolar"
           }
          ],
          "carpet": [
           {
            "aaxis": {
             "endlinecolor": "#2a3f5f",
             "gridcolor": "white",
             "linecolor": "white",
             "minorgridcolor": "white",
             "startlinecolor": "#2a3f5f"
            },
            "baxis": {
             "endlinecolor": "#2a3f5f",
             "gridcolor": "white",
             "linecolor": "white",
             "minorgridcolor": "white",
             "startlinecolor": "#2a3f5f"
            },
            "type": "carpet"
           }
          ],
          "choropleth": [
           {
            "colorbar": {
             "outlinewidth": 0,
             "ticks": ""
            },
            "type": "choropleth"
           }
          ],
          "contour": [
           {
            "colorbar": {
             "outlinewidth": 0,
             "ticks": ""
            },
            "colorscale": [
             [
              0,
              "#0d0887"
             ],
             [
              0.1111111111111111,
              "#46039f"
             ],
             [
              0.2222222222222222,
              "#7201a8"
             ],
             [
              0.3333333333333333,
              "#9c179e"
             ],
             [
              0.4444444444444444,
              "#bd3786"
             ],
             [
              0.5555555555555556,
              "#d8576b"
             ],
             [
              0.6666666666666666,
              "#ed7953"
             ],
             [
              0.7777777777777778,
              "#fb9f3a"
             ],
             [
              0.8888888888888888,
              "#fdca26"
             ],
             [
              1,
              "#f0f921"
             ]
            ],
            "type": "contour"
           }
          ],
          "contourcarpet": [
           {
            "colorbar": {
             "outlinewidth": 0,
             "ticks": ""
            },
            "type": "contourcarpet"
           }
          ],
          "heatmap": [
           {
            "colorbar": {
             "outlinewidth": 0,
             "ticks": ""
            },
            "colorscale": [
             [
              0,
              "#0d0887"
             ],
             [
              0.1111111111111111,
              "#46039f"
             ],
             [
              0.2222222222222222,
              "#7201a8"
             ],
             [
              0.3333333333333333,
              "#9c179e"
             ],
             [
              0.4444444444444444,
              "#bd3786"
             ],
             [
              0.5555555555555556,
              "#d8576b"
             ],
             [
              0.6666666666666666,
              "#ed7953"
             ],
             [
              0.7777777777777778,
              "#fb9f3a"
             ],
             [
              0.8888888888888888,
              "#fdca26"
             ],
             [
              1,
              "#f0f921"
             ]
            ],
            "type": "heatmap"
           }
          ],
          "heatmapgl": [
           {
            "colorbar": {
             "outlinewidth": 0,
             "ticks": ""
            },
            "colorscale": [
             [
              0,
              "#0d0887"
             ],
             [
              0.1111111111111111,
              "#46039f"
             ],
             [
              0.2222222222222222,
              "#7201a8"
             ],
             [
              0.3333333333333333,
              "#9c179e"
             ],
             [
              0.4444444444444444,
              "#bd3786"
             ],
             [
              0.5555555555555556,
              "#d8576b"
             ],
             [
              0.6666666666666666,
              "#ed7953"
             ],
             [
              0.7777777777777778,
              "#fb9f3a"
             ],
             [
              0.8888888888888888,
              "#fdca26"
             ],
             [
              1,
              "#f0f921"
             ]
            ],
            "type": "heatmapgl"
           }
          ],
          "histogram": [
           {
            "marker": {
             "colorbar": {
              "outlinewidth": 0,
              "ticks": ""
             }
            },
            "type": "histogram"
           }
          ],
          "histogram2d": [
           {
            "colorbar": {
             "outlinewidth": 0,
             "ticks": ""
            },
            "colorscale": [
             [
              0,
              "#0d0887"
             ],
             [
              0.1111111111111111,
              "#46039f"
             ],
             [
              0.2222222222222222,
              "#7201a8"
             ],
             [
              0.3333333333333333,
              "#9c179e"
             ],
             [
              0.4444444444444444,
              "#bd3786"
             ],
             [
              0.5555555555555556,
              "#d8576b"
             ],
             [
              0.6666666666666666,
              "#ed7953"
             ],
             [
              0.7777777777777778,
              "#fb9f3a"
             ],
             [
              0.8888888888888888,
              "#fdca26"
             ],
             [
              1,
              "#f0f921"
             ]
            ],
            "type": "histogram2d"
           }
          ],
          "histogram2dcontour": [
           {
            "colorbar": {
             "outlinewidth": 0,
             "ticks": ""
            },
            "colorscale": [
             [
              0,
              "#0d0887"
             ],
             [
              0.1111111111111111,
              "#46039f"
             ],
             [
              0.2222222222222222,
              "#7201a8"
             ],
             [
              0.3333333333333333,
              "#9c179e"
             ],
             [
              0.4444444444444444,
              "#bd3786"
             ],
             [
              0.5555555555555556,
              "#d8576b"
             ],
             [
              0.6666666666666666,
              "#ed7953"
             ],
             [
              0.7777777777777778,
              "#fb9f3a"
             ],
             [
              0.8888888888888888,
              "#fdca26"
             ],
             [
              1,
              "#f0f921"
             ]
            ],
            "type": "histogram2dcontour"
           }
          ],
          "mesh3d": [
           {
            "colorbar": {
             "outlinewidth": 0,
             "ticks": ""
            },
            "type": "mesh3d"
           }
          ],
          "parcoords": [
           {
            "line": {
             "colorbar": {
              "outlinewidth": 0,
              "ticks": ""
             }
            },
            "type": "parcoords"
           }
          ],
          "pie": [
           {
            "automargin": true,
            "type": "pie"
           }
          ],
          "scatter": [
           {
            "marker": {
             "colorbar": {
              "outlinewidth": 0,
              "ticks": ""
             }
            },
            "type": "scatter"
           }
          ],
          "scatter3d": [
           {
            "line": {
             "colorbar": {
              "outlinewidth": 0,
              "ticks": ""
             }
            },
            "marker": {
             "colorbar": {
              "outlinewidth": 0,
              "ticks": ""
             }
            },
            "type": "scatter3d"
           }
          ],
          "scattercarpet": [
           {
            "marker": {
             "colorbar": {
              "outlinewidth": 0,
              "ticks": ""
             }
            },
            "type": "scattercarpet"
           }
          ],
          "scattergeo": [
           {
            "marker": {
             "colorbar": {
              "outlinewidth": 0,
              "ticks": ""
             }
            },
            "type": "scattergeo"
           }
          ],
          "scattergl": [
           {
            "marker": {
             "colorbar": {
              "outlinewidth": 0,
              "ticks": ""
             }
            },
            "type": "scattergl"
           }
          ],
          "scattermapbox": [
           {
            "marker": {
             "colorbar": {
              "outlinewidth": 0,
              "ticks": ""
             }
            },
            "type": "scattermapbox"
           }
          ],
          "scatterpolar": [
           {
            "marker": {
             "colorbar": {
              "outlinewidth": 0,
              "ticks": ""
             }
            },
            "type": "scatterpolar"
           }
          ],
          "scatterpolargl": [
           {
            "marker": {
             "colorbar": {
              "outlinewidth": 0,
              "ticks": ""
             }
            },
            "type": "scatterpolargl"
           }
          ],
          "scatterternary": [
           {
            "marker": {
             "colorbar": {
              "outlinewidth": 0,
              "ticks": ""
             }
            },
            "type": "scatterternary"
           }
          ],
          "surface": [
           {
            "colorbar": {
             "outlinewidth": 0,
             "ticks": ""
            },
            "colorscale": [
             [
              0,
              "#0d0887"
             ],
             [
              0.1111111111111111,
              "#46039f"
             ],
             [
              0.2222222222222222,
              "#7201a8"
             ],
             [
              0.3333333333333333,
              "#9c179e"
             ],
             [
              0.4444444444444444,
              "#bd3786"
             ],
             [
              0.5555555555555556,
              "#d8576b"
             ],
             [
              0.6666666666666666,
              "#ed7953"
             ],
             [
              0.7777777777777778,
              "#fb9f3a"
             ],
             [
              0.8888888888888888,
              "#fdca26"
             ],
             [
              1,
              "#f0f921"
             ]
            ],
            "type": "surface"
           }
          ],
          "table": [
           {
            "cells": {
             "fill": {
              "color": "#EBF0F8"
             },
             "line": {
              "color": "white"
             }
            },
            "header": {
             "fill": {
              "color": "#C8D4E3"
             },
             "line": {
              "color": "white"
             }
            },
            "type": "table"
           }
          ]
         },
         "layout": {
          "annotationdefaults": {
           "arrowcolor": "#2a3f5f",
           "arrowhead": 0,
           "arrowwidth": 1
          },
          "autotypenumbers": "strict",
          "coloraxis": {
           "colorbar": {
            "outlinewidth": 0,
            "ticks": ""
           }
          },
          "colorscale": {
           "diverging": [
            [
             0,
             "#8e0152"
            ],
            [
             0.1,
             "#c51b7d"
            ],
            [
             0.2,
             "#de77ae"
            ],
            [
             0.3,
             "#f1b6da"
            ],
            [
             0.4,
             "#fde0ef"
            ],
            [
             0.5,
             "#f7f7f7"
            ],
            [
             0.6,
             "#e6f5d0"
            ],
            [
             0.7,
             "#b8e186"
            ],
            [
             0.8,
             "#7fbc41"
            ],
            [
             0.9,
             "#4d9221"
            ],
            [
             1,
             "#276419"
            ]
           ],
           "sequential": [
            [
             0,
             "#0d0887"
            ],
            [
             0.1111111111111111,
             "#46039f"
            ],
            [
             0.2222222222222222,
             "#7201a8"
            ],
            [
             0.3333333333333333,
             "#9c179e"
            ],
            [
             0.4444444444444444,
             "#bd3786"
            ],
            [
             0.5555555555555556,
             "#d8576b"
            ],
            [
             0.6666666666666666,
             "#ed7953"
            ],
            [
             0.7777777777777778,
             "#fb9f3a"
            ],
            [
             0.8888888888888888,
             "#fdca26"
            ],
            [
             1,
             "#f0f921"
            ]
           ],
           "sequentialminus": [
            [
             0,
             "#0d0887"
            ],
            [
             0.1111111111111111,
             "#46039f"
            ],
            [
             0.2222222222222222,
             "#7201a8"
            ],
            [
             0.3333333333333333,
             "#9c179e"
            ],
            [
             0.4444444444444444,
             "#bd3786"
            ],
            [
             0.5555555555555556,
             "#d8576b"
            ],
            [
             0.6666666666666666,
             "#ed7953"
            ],
            [
             0.7777777777777778,
             "#fb9f3a"
            ],
            [
             0.8888888888888888,
             "#fdca26"
            ],
            [
             1,
             "#f0f921"
            ]
           ]
          },
          "colorway": [
           "#636efa",
           "#EF553B",
           "#00cc96",
           "#ab63fa",
           "#FFA15A",
           "#19d3f3",
           "#FF6692",
           "#B6E880",
           "#FF97FF",
           "#FECB52"
          ],
          "font": {
           "color": "#2a3f5f"
          },
          "geo": {
           "bgcolor": "white",
           "lakecolor": "white",
           "landcolor": "#E5ECF6",
           "showlakes": true,
           "showland": true,
           "subunitcolor": "white"
          },
          "hoverlabel": {
           "align": "left"
          },
          "hovermode": "closest",
          "mapbox": {
           "style": "light"
          },
          "paper_bgcolor": "white",
          "plot_bgcolor": "#E5ECF6",
          "polar": {
           "angularaxis": {
            "gridcolor": "white",
            "linecolor": "white",
            "ticks": ""
           },
           "bgcolor": "#E5ECF6",
           "radialaxis": {
            "gridcolor": "white",
            "linecolor": "white",
            "ticks": ""
           }
          },
          "scene": {
           "xaxis": {
            "backgroundcolor": "#E5ECF6",
            "gridcolor": "white",
            "gridwidth": 2,
            "linecolor": "white",
            "showbackground": true,
            "ticks": "",
            "zerolinecolor": "white"
           },
           "yaxis": {
            "backgroundcolor": "#E5ECF6",
            "gridcolor": "white",
            "gridwidth": 2,
            "linecolor": "white",
            "showbackground": true,
            "ticks": "",
            "zerolinecolor": "white"
           },
           "zaxis": {
            "backgroundcolor": "#E5ECF6",
            "gridcolor": "white",
            "gridwidth": 2,
            "linecolor": "white",
            "showbackground": true,
            "ticks": "",
            "zerolinecolor": "white"
           }
          },
          "shapedefaults": {
           "line": {
            "color": "#2a3f5f"
           }
          },
          "ternary": {
           "aaxis": {
            "gridcolor": "white",
            "linecolor": "white",
            "ticks": ""
           },
           "baxis": {
            "gridcolor": "white",
            "linecolor": "white",
            "ticks": ""
           },
           "bgcolor": "#E5ECF6",
           "caxis": {
            "gridcolor": "white",
            "linecolor": "white",
            "ticks": ""
           }
          },
          "title": {
           "x": 0.05
          },
          "xaxis": {
           "automargin": true,
           "gridcolor": "white",
           "linecolor": "white",
           "ticks": "",
           "title": {
            "standoff": 15
           },
           "zerolinecolor": "white",
           "zerolinewidth": 2
          },
          "yaxis": {
           "automargin": true,
           "gridcolor": "white",
           "linecolor": "white",
           "ticks": "",
           "title": {
            "standoff": 15
           },
           "zerolinecolor": "white",
           "zerolinewidth": 2
          }
         }
        },
        "title": {
         "text": "Happiness Score compared to GDP per Capita Score"
        },
        "width": 1000,
        "xaxis": {
         "anchor": "y",
         "domain": [
          0,
          1
         ],
         "range": [
          0,
          8
         ],
         "title": {
          "text": "Happiness Score"
         }
        },
        "yaxis": {
         "anchor": "x",
         "domain": [
          0,
          1
         ],
         "title": {
          "text": "GDP per Capita"
         }
        }
       }
      },
      "text/html": [
       "<div>                            <div id=\"3f583eb0-95ad-4b77-919e-8150710acd31\" class=\"plotly-graph-div\" style=\"height:600px; width:1000px;\"></div>            <script type=\"text/javascript\">                require([\"plotly\"], function(Plotly) {                    window.PLOTLYENV=window.PLOTLYENV || {};                                    if (document.getElementById(\"3f583eb0-95ad-4b77-919e-8150710acd31\")) {                    Plotly.newPlot(                        \"3f583eb0-95ad-4b77-919e-8150710acd31\",                        [{\"hovertemplate\": \"<b>%{hovertext}</b><br><br>Region=Europe<br>Score=%{x}<br>GDP per capita=%{y}<extra></extra>\", \"hovertext\": [\"Denmark\", \"Switzerland\", \"Iceland\", \"Norway\", \"Finland\", \"Netherlands\", \"Sweden\", \"Austria\", \"Germany\", \"Belgium\", \"Ireland\", \"Luxembourg\", \"United Kingdom\", \"Czech Republic\", \"Malta\", \"France\", \"Spain\", \"Slovakia\", \"Uzbekistan\", \"Italy\", \"Kazakhstan\", \"Moldova\", \"Russia\", \"Poland\", \"Lithuania\", \"Belarus\", \"North Cyprus\", \"Slovenia\", \"Turkmenistan\", \"Latvia\", \"Cyprus\", \"Romania\", \"Estonia\", \"Croatia\", \"Kosovo\", \"Azerbaijan\", \"Kyrgyzstan\", \"Serbia\", \"Bosnia and Herzegovina\", \"Montenegro\", \"Hungary\", \"Portugal\", \"Macedonia\", \"Greece\", \"Tajikistan\", \"Albania\", \"Armenia\", \"Ukraine\", \"Georgia\", \"Bulgaria\"], \"legendgroup\": \"Europe\", \"marker\": {\"color\": \"#636efa\", \"line\": {\"color\": \"DarkSlateGrey\", \"width\": 1}, \"size\": 10, \"symbol\": \"circle\"}, \"mode\": \"markers\", \"name\": \"Europe\", \"orientation\": \"v\", \"showlegend\": true, \"type\": \"scatter\", \"x\": [7.526, 7.5089999999999995, 7.501, 7.497999999999999, 7.412999999999999, 7.3389999999999995, 7.291, 7.119, 6.994, 6.928999999999999, 6.907, 6.871, 6.725, 6.596, 6.4879999999999995, 6.478, 6.361000000000001, 6.077999999999999, 5.987, 5.977, 5.919, 5.897, 5.856, 5.835, 5.813, 5.8020000000000005, 5.771, 5.768, 5.6579999999999995, 5.56, 5.546, 5.528, 5.517, 5.4879999999999995, 5.401, 5.291, 5.185, 5.1770000000000005, 5.162999999999999, 5.1610000000000005, 5.145, 5.122999999999999, 5.121, 5.033, 4.996, 4.655, 4.36, 4.324, 4.252, 4.217], \"xaxis\": \"x\", \"y\": [1.4417799999999998, 1.5273299999999999, 1.42666, 1.57744, 1.40598, 1.46468, 1.45181, 1.45038, 1.44787, 1.42539, 1.4834100000000001, 1.6975200000000001, 1.40283, 1.30915, 1.30782, 1.39488, 1.34253, 1.27973, 0.7359100000000001, 1.35495, 1.22943, 0.69177, 1.2322799999999998, 1.24585, 1.2692, 1.1306200000000002, 1.31141, 1.2994700000000001, 1.08017, 1.2178799999999999, 1.31857, 1.1697, 1.2796399999999999, 1.18649, 0.90145, 1.12373, 0.5604399999999999, 1.03437, 0.9338299999999999, 1.07838, 1.24142, 1.27607, 1.0193, 1.24886, 0.48835, 0.9553, 0.8608600000000001, 0.87287, 0.8379200000000001, 1.11306], \"yaxis\": \"y\"}, {\"hovertemplate\": \"<b>%{hovertext}</b><br><br>Region=North America<br>Score=%{x}<br>GDP per capita=%{y}<extra></extra>\", \"hovertext\": [\"Canada\", \"United States\"], \"legendgroup\": \"North America\", \"marker\": {\"color\": \"#EF553B\", \"line\": {\"color\": \"DarkSlateGrey\", \"width\": 1}, \"size\": 10, \"symbol\": \"circle\"}, \"mode\": \"markers\", \"name\": \"North America\", \"orientation\": \"v\", \"showlegend\": true, \"type\": \"scatter\", \"x\": [7.404, 7.104], \"xaxis\": \"x\", \"y\": [1.44015, 1.50796], \"yaxis\": \"y\"}, {\"hovertemplate\": \"<b>%{hovertext}</b><br><br>Region=Australia and New Zealand<br>Score=%{x}<br>GDP per capita=%{y}<extra></extra>\", \"hovertext\": [\"New Zealand\", \"Australia\"], \"legendgroup\": \"Australia and New Zealand\", \"marker\": {\"color\": \"#00cc96\", \"line\": {\"color\": \"DarkSlateGrey\", \"width\": 1}, \"size\": 10, \"symbol\": \"circle\"}, \"mode\": \"markers\", \"name\": \"Australia and New Zealand\", \"orientation\": \"v\", \"showlegend\": true, \"type\": \"scatter\", \"x\": [7.334, 7.313], \"xaxis\": \"x\", \"y\": [1.36066, 1.4444299999999999], \"yaxis\": \"y\"}, {\"hovertemplate\": \"<b>%{hovertext}</b><br><br>Region=Middle East and Northern Africa<br>Score=%{x}<br>GDP per capita=%{y}<extra></extra>\", \"hovertext\": [\"Israel\", \"United Arab Emirates\", \"Saudi Arabia\", \"Qatar\", \"Algeria\", \"Kuwait\", \"Bahrain\", \"Libya\", \"Turkey\", \"Jordan\", \"Morocco\", \"Lebanon\", \"Tunisia\", \"Iran\", \"Palestinian Territories\", \"Iraq\", \"Egypt\", \"Yemen\", \"Syria\"], \"legendgroup\": \"Middle East and Northern Africa\", \"marker\": {\"color\": \"#ab63fa\", \"line\": {\"color\": \"DarkSlateGrey\", \"width\": 1}, \"size\": 10, \"symbol\": \"circle\"}, \"mode\": \"markers\", \"name\": \"Middle East and Northern Africa\", \"orientation\": \"v\", \"showlegend\": true, \"type\": \"scatter\", \"x\": [7.267, 6.5729999999999995, 6.379, 6.375, 6.355, 6.239, 6.218, 5.615, 5.388999999999999, 5.303, 5.151, 5.129, 5.045, 4.813, 4.754, 4.575, 4.362, 3.7239999999999998, 3.069], \"xaxis\": \"x\", \"y\": [1.33766, 1.57352, 1.48953, 1.82427, 1.05266, 1.61714, 1.44024, 1.0668799999999998, 1.1649200000000002, 0.9967299999999999, 0.8405799999999999, 1.12268, 0.97724, 1.11758, 0.67024, 1.07474, 0.95395, 0.57939, 0.7471899999999999], \"yaxis\": \"y\"}, {\"hovertemplate\": \"<b>%{hovertext}</b><br><br>Region=Latin America and Caribbean<br>Score=%{x}<br>GDP per capita=%{y}<extra></extra>\", \"hovertext\": [\"Costa Rica\", \"Puerto Rico\", \"Brazil\", \"Mexico\", \"Chile\", \"Panama\", \"Argentina\", \"Uruguay\", \"Colombia\", \"Guatemala\", \"Suriname\", \"Trinidad and Tobago\", \"Venezuela\", \"El Salvador\", \"Nicaragua\", \"Ecuador\", \"Belize\", \"Bolivia\", \"Peru\", \"Paraguay\", \"Jamaica\", \"Dominican Republic\", \"Honduras\", \"Haiti\"], \"legendgroup\": \"Latin America and Caribbean\", \"marker\": {\"color\": \"#FFA15A\", \"line\": {\"color\": \"DarkSlateGrey\", \"width\": 1}, \"size\": 10, \"symbol\": \"circle\"}, \"mode\": \"markers\", \"name\": \"Latin America and Caribbean\", \"orientation\": \"v\", \"showlegend\": true, \"type\": \"scatter\", \"x\": [7.087000000000001, 7.039, 6.952000000000001, 6.778, 6.705, 6.7010000000000005, 6.65, 6.545, 6.481, 6.324, 6.269, 6.167999999999999, 6.084, 6.068, 5.992000000000001, 5.976, 5.956, 5.822, 5.742999999999999, 5.537999999999999, 5.51, 5.155, 4.871, 4.0280000000000005], \"xaxis\": \"x\", \"y\": [1.06879, 1.35943, 1.08754, 1.1150799999999998, 1.2167, 1.18306, 1.15137, 1.18157, 1.0303200000000001, 0.83454, 1.09686, 1.32572, 1.1336700000000002, 0.8737, 0.69384, 0.97306, 0.87616, 0.79422, 0.9960200000000001, 0.8937299999999999, 0.89333, 1.02787, 0.69429, 0.34097], \"yaxis\": \"y\"}, {\"hovertemplate\": \"<b>%{hovertext}</b><br><br>Region=Asia<br>Score=%{x}<br>GDP per capita=%{y}<extra></extra>\", \"hovertext\": [\"Singapore\", \"Thailand\", \"Taiwan\", \"Malaysia\", \"Japan\", \"South Korea\", \"Hong Kong\", \"Indonesia\", \"Philippines\", \"China\", \"Bhutan\", \"Pakistan\", \"Vietnam\", \"Mongolia\", \"Laos\", \"Nepal\", \"Bangladesh\", \"Sri Lanka\", \"India\", \"Myanmar\", \"Cambodia\", \"Afghanistan\"], \"legendgroup\": \"Asia\", \"marker\": {\"color\": \"#19d3f3\", \"line\": {\"color\": \"DarkSlateGrey\", \"width\": 1}, \"size\": 10, \"symbol\": \"circle\"}, \"mode\": \"markers\", \"name\": \"Asia\", \"orientation\": \"v\", \"showlegend\": true, \"type\": \"scatter\", \"x\": [6.739, 6.474, 6.379, 6.005, 5.921, 5.835, 5.457999999999999, 5.314, 5.279, 5.245, 5.196000000000001, 5.132000000000001, 5.061, 4.907, 4.876, 4.793, 4.643, 4.415, 4.404, 4.395, 3.907, 3.36], \"xaxis\": \"x\", \"y\": [1.64555, 1.0893, 1.39729, 1.25142, 1.3800700000000001, 1.35948, 1.5107, 0.95104, 0.81217, 1.0278, 0.8527, 0.68816, 0.74037, 0.9885299999999999, 0.68042, 0.44626000000000005, 0.54177, 0.9731799999999999, 0.74036, 0.34112, 0.55604, 0.38227], \"yaxis\": \"y\"}, {\"hovertemplate\": \"<b>%{hovertext}</b><br><br>Region=Sub-Saharan Africa<br>Score=%{x}<br>GDP per capita=%{y}<extra></extra>\", \"hovertext\": [\"Mauritius\", \"Somalia\", \"Somaliland Region\", \"Nigeria\", \"Zambia\", \"Sierra Leone\", \"Namibia\", \"Cameroon\", \"Ethiopia\", \"South Africa\", \"Kenya\", \"Ghana\", \"Congo (Kinshasa)\", \"Congo (Brazzaville)\", \"Senegal\", \"Mauritania\", \"Zimbabwe\", \"Malawi\", \"Sudan\", \"Gabon\", \"Mali\", \"Botswana\", \"Comoros\", \"Ivory Coast\", \"Angola\", \"Niger\", \"South Sudan\", \"Chad\", \"Burkina Faso\", \"Uganda\", \"Madagascar\", \"Tanzania\", \"Liberia\", \"Guinea\", \"Rwanda\", \"Benin\", \"Togo\", \"Burundi\"], \"legendgroup\": \"Sub-Saharan Africa\", \"marker\": {\"color\": \"#FF6692\", \"line\": {\"color\": \"DarkSlateGrey\", \"width\": 1}, \"size\": 10, \"symbol\": \"circle\"}, \"mode\": \"markers\", \"name\": \"Sub-Saharan Africa\", \"orientation\": \"v\", \"showlegend\": true, \"type\": \"scatter\", \"x\": [5.648, 5.44, 5.0569999999999995, 4.875, 4.795, 4.635, 4.574, 4.513, 4.508, 4.459, 4.356, 4.276, 4.272, 4.236000000000001, 4.218999999999999, 4.2010000000000005, 4.1930000000000005, 4.156000000000001, 4.138999999999999, 4.121, 4.073, 3.9739999999999998, 3.9560000000000004, 3.9160000000000004, 3.866, 3.8560000000000003, 3.832, 3.763, 3.739, 3.739, 3.695, 3.6660000000000004, 3.622, 3.6069999999999998, 3.515, 3.484, 3.303, 2.905], \"xaxis\": \"x\", \"y\": [1.14372, 0.0, 0.25558000000000003, 0.75216, 0.61202, 0.36485, 0.9328700000000001, 0.5249699999999999, 0.29283000000000003, 1.02416, 0.52267, 0.63107, 0.05661, 0.7710899999999999, 0.44314, 0.6139100000000001, 0.35041, 0.08709, 0.63069, 1.15851, 0.31292, 1.09426, 0.27509, 0.55507, 0.84731, 0.1327, 0.39394, 0.42213999999999996, 0.31995, 0.34719, 0.27954, 0.47155, 0.10705999999999999, 0.22415, 0.32846, 0.39499, 0.28123000000000004, 0.06831], \"yaxis\": \"y\"}],                        {\"height\": 600, \"legend\": {\"title\": {\"text\": \"Region\"}, \"tracegroupgap\": 0}, \"template\": {\"data\": {\"bar\": [{\"error_x\": {\"color\": \"#2a3f5f\"}, \"error_y\": {\"color\": \"#2a3f5f\"}, \"marker\": {\"line\": {\"color\": \"#E5ECF6\", \"width\": 0.5}}, \"type\": \"bar\"}], \"barpolar\": [{\"marker\": {\"line\": {\"color\": \"#E5ECF6\", \"width\": 0.5}}, \"type\": \"barpolar\"}], \"carpet\": [{\"aaxis\": {\"endlinecolor\": \"#2a3f5f\", \"gridcolor\": \"white\", \"linecolor\": \"white\", \"minorgridcolor\": \"white\", \"startlinecolor\": \"#2a3f5f\"}, \"baxis\": {\"endlinecolor\": \"#2a3f5f\", \"gridcolor\": \"white\", \"linecolor\": \"white\", \"minorgridcolor\": \"white\", \"startlinecolor\": \"#2a3f5f\"}, \"type\": \"carpet\"}], \"choropleth\": [{\"colorbar\": {\"outlinewidth\": 0, \"ticks\": \"\"}, \"type\": \"choropleth\"}], \"contour\": [{\"colorbar\": {\"outlinewidth\": 0, \"ticks\": \"\"}, \"colorscale\": [[0.0, \"#0d0887\"], [0.1111111111111111, \"#46039f\"], [0.2222222222222222, \"#7201a8\"], [0.3333333333333333, \"#9c179e\"], [0.4444444444444444, \"#bd3786\"], [0.5555555555555556, \"#d8576b\"], [0.6666666666666666, \"#ed7953\"], [0.7777777777777778, \"#fb9f3a\"], [0.8888888888888888, \"#fdca26\"], [1.0, \"#f0f921\"]], \"type\": \"contour\"}], \"contourcarpet\": [{\"colorbar\": {\"outlinewidth\": 0, \"ticks\": \"\"}, \"type\": \"contourcarpet\"}], \"heatmap\": [{\"colorbar\": {\"outlinewidth\": 0, \"ticks\": \"\"}, \"colorscale\": [[0.0, \"#0d0887\"], [0.1111111111111111, \"#46039f\"], [0.2222222222222222, \"#7201a8\"], [0.3333333333333333, \"#9c179e\"], [0.4444444444444444, \"#bd3786\"], [0.5555555555555556, \"#d8576b\"], [0.6666666666666666, \"#ed7953\"], [0.7777777777777778, \"#fb9f3a\"], [0.8888888888888888, \"#fdca26\"], [1.0, \"#f0f921\"]], \"type\": \"heatmap\"}], \"heatmapgl\": [{\"colorbar\": {\"outlinewidth\": 0, \"ticks\": \"\"}, \"colorscale\": [[0.0, \"#0d0887\"], [0.1111111111111111, \"#46039f\"], [0.2222222222222222, \"#7201a8\"], [0.3333333333333333, \"#9c179e\"], [0.4444444444444444, \"#bd3786\"], [0.5555555555555556, \"#d8576b\"], [0.6666666666666666, \"#ed7953\"], [0.7777777777777778, \"#fb9f3a\"], [0.8888888888888888, \"#fdca26\"], [1.0, \"#f0f921\"]], \"type\": \"heatmapgl\"}], \"histogram\": [{\"marker\": {\"colorbar\": {\"outlinewidth\": 0, \"ticks\": \"\"}}, \"type\": \"histogram\"}], \"histogram2d\": [{\"colorbar\": {\"outlinewidth\": 0, \"ticks\": \"\"}, \"colorscale\": [[0.0, \"#0d0887\"], [0.1111111111111111, \"#46039f\"], [0.2222222222222222, \"#7201a8\"], [0.3333333333333333, \"#9c179e\"], [0.4444444444444444, \"#bd3786\"], [0.5555555555555556, \"#d8576b\"], [0.6666666666666666, \"#ed7953\"], [0.7777777777777778, \"#fb9f3a\"], [0.8888888888888888, \"#fdca26\"], [1.0, \"#f0f921\"]], \"type\": \"histogram2d\"}], \"histogram2dcontour\": [{\"colorbar\": {\"outlinewidth\": 0, \"ticks\": \"\"}, \"colorscale\": [[0.0, \"#0d0887\"], [0.1111111111111111, \"#46039f\"], [0.2222222222222222, \"#7201a8\"], [0.3333333333333333, \"#9c179e\"], [0.4444444444444444, \"#bd3786\"], [0.5555555555555556, \"#d8576b\"], [0.6666666666666666, \"#ed7953\"], [0.7777777777777778, \"#fb9f3a\"], [0.8888888888888888, \"#fdca26\"], [1.0, \"#f0f921\"]], \"type\": \"histogram2dcontour\"}], \"mesh3d\": [{\"colorbar\": {\"outlinewidth\": 0, \"ticks\": \"\"}, \"type\": \"mesh3d\"}], \"parcoords\": [{\"line\": {\"colorbar\": {\"outlinewidth\": 0, \"ticks\": \"\"}}, \"type\": \"parcoords\"}], \"pie\": [{\"automargin\": true, \"type\": \"pie\"}], \"scatter\": [{\"marker\": {\"colorbar\": {\"outlinewidth\": 0, \"ticks\": \"\"}}, \"type\": \"scatter\"}], \"scatter3d\": [{\"line\": {\"colorbar\": {\"outlinewidth\": 0, \"ticks\": \"\"}}, \"marker\": {\"colorbar\": {\"outlinewidth\": 0, \"ticks\": \"\"}}, \"type\": \"scatter3d\"}], \"scattercarpet\": [{\"marker\": {\"colorbar\": {\"outlinewidth\": 0, \"ticks\": \"\"}}, \"type\": \"scattercarpet\"}], \"scattergeo\": [{\"marker\": {\"colorbar\": {\"outlinewidth\": 0, \"ticks\": \"\"}}, \"type\": \"scattergeo\"}], \"scattergl\": [{\"marker\": {\"colorbar\": {\"outlinewidth\": 0, \"ticks\": \"\"}}, \"type\": \"scattergl\"}], \"scattermapbox\": [{\"marker\": {\"colorbar\": {\"outlinewidth\": 0, \"ticks\": \"\"}}, \"type\": \"scattermapbox\"}], \"scatterpolar\": [{\"marker\": {\"colorbar\": {\"outlinewidth\": 0, \"ticks\": \"\"}}, \"type\": \"scatterpolar\"}], \"scatterpolargl\": [{\"marker\": {\"colorbar\": {\"outlinewidth\": 0, \"ticks\": \"\"}}, \"type\": \"scatterpolargl\"}], \"scatterternary\": [{\"marker\": {\"colorbar\": {\"outlinewidth\": 0, \"ticks\": \"\"}}, \"type\": \"scatterternary\"}], \"surface\": [{\"colorbar\": {\"outlinewidth\": 0, \"ticks\": \"\"}, \"colorscale\": [[0.0, \"#0d0887\"], [0.1111111111111111, \"#46039f\"], [0.2222222222222222, \"#7201a8\"], [0.3333333333333333, \"#9c179e\"], [0.4444444444444444, \"#bd3786\"], [0.5555555555555556, \"#d8576b\"], [0.6666666666666666, \"#ed7953\"], [0.7777777777777778, \"#fb9f3a\"], [0.8888888888888888, \"#fdca26\"], [1.0, \"#f0f921\"]], \"type\": \"surface\"}], \"table\": [{\"cells\": {\"fill\": {\"color\": \"#EBF0F8\"}, \"line\": {\"color\": \"white\"}}, \"header\": {\"fill\": {\"color\": \"#C8D4E3\"}, \"line\": {\"color\": \"white\"}}, \"type\": \"table\"}]}, \"layout\": {\"annotationdefaults\": {\"arrowcolor\": \"#2a3f5f\", \"arrowhead\": 0, \"arrowwidth\": 1}, \"autotypenumbers\": \"strict\", \"coloraxis\": {\"colorbar\": {\"outlinewidth\": 0, \"ticks\": \"\"}}, \"colorscale\": {\"diverging\": [[0, \"#8e0152\"], [0.1, \"#c51b7d\"], [0.2, \"#de77ae\"], [0.3, \"#f1b6da\"], [0.4, \"#fde0ef\"], [0.5, \"#f7f7f7\"], [0.6, \"#e6f5d0\"], [0.7, \"#b8e186\"], [0.8, \"#7fbc41\"], [0.9, \"#4d9221\"], [1, \"#276419\"]], \"sequential\": [[0.0, \"#0d0887\"], [0.1111111111111111, \"#46039f\"], [0.2222222222222222, \"#7201a8\"], [0.3333333333333333, \"#9c179e\"], [0.4444444444444444, \"#bd3786\"], [0.5555555555555556, \"#d8576b\"], [0.6666666666666666, \"#ed7953\"], [0.7777777777777778, \"#fb9f3a\"], [0.8888888888888888, \"#fdca26\"], [1.0, \"#f0f921\"]], \"sequentialminus\": [[0.0, \"#0d0887\"], [0.1111111111111111, \"#46039f\"], [0.2222222222222222, \"#7201a8\"], [0.3333333333333333, \"#9c179e\"], [0.4444444444444444, \"#bd3786\"], [0.5555555555555556, \"#d8576b\"], [0.6666666666666666, \"#ed7953\"], [0.7777777777777778, \"#fb9f3a\"], [0.8888888888888888, \"#fdca26\"], [1.0, \"#f0f921\"]]}, \"colorway\": [\"#636efa\", \"#EF553B\", \"#00cc96\", \"#ab63fa\", \"#FFA15A\", \"#19d3f3\", \"#FF6692\", \"#B6E880\", \"#FF97FF\", \"#FECB52\"], \"font\": {\"color\": \"#2a3f5f\"}, \"geo\": {\"bgcolor\": \"white\", \"lakecolor\": \"white\", \"landcolor\": \"#E5ECF6\", \"showlakes\": true, \"showland\": true, \"subunitcolor\": \"white\"}, \"hoverlabel\": {\"align\": \"left\"}, \"hovermode\": \"closest\", \"mapbox\": {\"style\": \"light\"}, \"paper_bgcolor\": \"white\", \"plot_bgcolor\": \"#E5ECF6\", \"polar\": {\"angularaxis\": {\"gridcolor\": \"white\", \"linecolor\": \"white\", \"ticks\": \"\"}, \"bgcolor\": \"#E5ECF6\", \"radialaxis\": {\"gridcolor\": \"white\", \"linecolor\": \"white\", \"ticks\": \"\"}}, \"scene\": {\"xaxis\": {\"backgroundcolor\": \"#E5ECF6\", \"gridcolor\": \"white\", \"gridwidth\": 2, \"linecolor\": \"white\", \"showbackground\": true, \"ticks\": \"\", \"zerolinecolor\": \"white\"}, \"yaxis\": {\"backgroundcolor\": \"#E5ECF6\", \"gridcolor\": \"white\", \"gridwidth\": 2, \"linecolor\": \"white\", \"showbackground\": true, \"ticks\": \"\", \"zerolinecolor\": \"white\"}, \"zaxis\": {\"backgroundcolor\": \"#E5ECF6\", \"gridcolor\": \"white\", \"gridwidth\": 2, \"linecolor\": \"white\", \"showbackground\": true, \"ticks\": \"\", \"zerolinecolor\": \"white\"}}, \"shapedefaults\": {\"line\": {\"color\": \"#2a3f5f\"}}, \"ternary\": {\"aaxis\": {\"gridcolor\": \"white\", \"linecolor\": \"white\", \"ticks\": \"\"}, \"baxis\": {\"gridcolor\": \"white\", \"linecolor\": \"white\", \"ticks\": \"\"}, \"bgcolor\": \"#E5ECF6\", \"caxis\": {\"gridcolor\": \"white\", \"linecolor\": \"white\", \"ticks\": \"\"}}, \"title\": {\"x\": 0.05}, \"xaxis\": {\"automargin\": true, \"gridcolor\": \"white\", \"linecolor\": \"white\", \"ticks\": \"\", \"title\": {\"standoff\": 15}, \"zerolinecolor\": \"white\", \"zerolinewidth\": 2}, \"yaxis\": {\"automargin\": true, \"gridcolor\": \"white\", \"linecolor\": \"white\", \"ticks\": \"\", \"title\": {\"standoff\": 15}, \"zerolinecolor\": \"white\", \"zerolinewidth\": 2}}}, \"title\": {\"text\": \"Happiness Score compared to GDP per Capita Score\"}, \"width\": 1000, \"xaxis\": {\"anchor\": \"y\", \"domain\": [0.0, 1.0], \"range\": [0, 8], \"title\": {\"text\": \"Happiness Score\"}}, \"yaxis\": {\"anchor\": \"x\", \"domain\": [0.0, 1.0], \"title\": {\"text\": \"GDP per Capita\"}}},                        {\"responsive\": true}                    ).then(function(){\n",
       "                            \n",
       "var gd = document.getElementById('3f583eb0-95ad-4b77-919e-8150710acd31');\n",
       "var x = new MutationObserver(function (mutations, observer) {{\n",
       "        var display = window.getComputedStyle(gd).display;\n",
       "        if (!display || display === 'none') {{\n",
       "            console.log([gd, 'removed!']);\n",
       "            Plotly.purge(gd);\n",
       "            observer.disconnect();\n",
       "        }}\n",
       "}});\n",
       "\n",
       "// Listen for the removal of the full notebook cells\n",
       "var notebookContainer = gd.closest('#notebook-container');\n",
       "if (notebookContainer) {{\n",
       "    x.observe(notebookContainer, {childList: true});\n",
       "}}\n",
       "\n",
       "// Listen for the clearing of the current output cell\n",
       "var outputEl = gd.closest('.output');\n",
       "if (outputEl) {{\n",
       "    x.observe(outputEl, {childList: true});\n",
       "}}\n",
       "\n",
       "                        })                };                });            </script>        </div>"
      ]
     },
     "metadata": {},
     "output_type": "display_data"
    }
   ],
   "source": [
    "#happiness score vs. gdp\n",
    "\n",
    "#establish x and y values\n",
    "x_values = csv_2016_restructured[\"Score\"]\n",
    "y_values = csv_2016_restructured[\"GDP per capita\"]\n",
    "\n",
    "#px.scatter\n",
    "fig = px.scatter(csv_2016_restructured, x_values, y_values, color=\"Region\", hover_name=\"Country\",\n",
    "                range_x=[0,8], title=\"Happiness Score compared to GDP per Capita Score\",\n",
    "                width= 1000, height =600) # use trendline=\"ols\" to see all lin reg equations\n",
    "\n",
    "#set axes labels\n",
    "fig.update_xaxes(title_text='Happiness Score')\n",
    "fig.update_yaxes(title_text='GDP per Capita')\n",
    "\n",
    "#formatting\n",
    "#marker size and colors\n",
    "fig.update_traces(marker=dict(size=10,\n",
    "                              line=dict(width=1, \n",
    "                                        color='DarkSlateGrey')))\n",
    "\n",
    "\n",
    "#linear regression\n",
    "#use linregress from dependencies to inplement linear regression\n",
    "(slope, intercept, rvalue, pvalue, stderr) = linregress(x_values, y_values)\n",
    "regress_values = x_values * slope + intercept\n",
    "\n",
    "#print out all variables calculated above (rvalue, pvalue...)\n",
    "print(f\"slope:{round(slope, 2)}\")\n",
    "print(f\"intercept:{round(intercept,2)}\")\n",
    "res = sts.linregress(x_values, y_values)\n",
    "print(f\"R-squared: {res.rvalue**2:.4f}\")\n",
    "\n",
    "\n",
    "#print out line eq for reference\n",
    "line_eq = (f\"y={round(slope, 2)}x + {round(intercept, 2)}\")\n",
    "print(line_eq)\n",
    "\n",
    "fig.show()\n"
   ]
  },
  {
   "cell_type": "code",
   "execution_count": 12,
   "metadata": {},
   "outputs": [
    {
     "name": "stdout",
     "output_type": "stream",
     "text": [
      "slope:0.17\n",
      "intercept:-0.14\n",
      "R-squared: 0.5465\n",
      "y=0.17x + -0.14\n"
     ]
    },
    {
     "data": {
      "application/vnd.plotly.v1+json": {
       "config": {
        "plotlyServerURL": "https://plot.ly"
       },
       "data": [
        {
         "hovertemplate": "<b>%{hovertext}</b><br><br>Region=Europe<br>Score=%{x}<br>Social support=%{y}<extra></extra>",
         "hovertext": [
          "Denmark",
          "Switzerland",
          "Iceland",
          "Norway",
          "Finland",
          "Netherlands",
          "Sweden",
          "Austria",
          "Germany",
          "Belgium",
          "Ireland",
          "Luxembourg",
          "United Kingdom",
          "Czech Republic",
          "Malta",
          "France",
          "Spain",
          "Slovakia",
          "Uzbekistan",
          "Italy",
          "Kazakhstan",
          "Moldova",
          "Russia",
          "Poland",
          "Lithuania",
          "Belarus",
          "North Cyprus",
          "Slovenia",
          "Turkmenistan",
          "Latvia",
          "Cyprus",
          "Romania",
          "Estonia",
          "Croatia",
          "Kosovo",
          "Azerbaijan",
          "Kyrgyzstan",
          "Serbia",
          "Bosnia and Herzegovina",
          "Montenegro",
          "Hungary",
          "Portugal",
          "Macedonia",
          "Greece",
          "Tajikistan",
          "Albania",
          "Armenia",
          "Ukraine",
          "Georgia",
          "Bulgaria"
         ],
         "legendgroup": "Europe",
         "marker": {
          "color": "#636efa",
          "line": {
           "color": "DarkSlateGrey",
           "width": 1
          },
          "size": 10,
          "symbol": "circle"
         },
         "mode": "markers",
         "name": "Europe",
         "orientation": "v",
         "showlegend": true,
         "type": "scatter",
         "x": [
          7.526,
          7.5089999999999995,
          7.501,
          7.497999999999999,
          7.412999999999999,
          7.3389999999999995,
          7.291,
          7.119,
          6.994,
          6.928999999999999,
          6.907,
          6.871,
          6.725,
          6.596,
          6.4879999999999995,
          6.478,
          6.361000000000001,
          6.077999999999999,
          5.987,
          5.977,
          5.919,
          5.897,
          5.856,
          5.835,
          5.813,
          5.8020000000000005,
          5.771,
          5.768,
          5.6579999999999995,
          5.56,
          5.546,
          5.528,
          5.517,
          5.4879999999999995,
          5.401,
          5.291,
          5.185,
          5.1770000000000005,
          5.162999999999999,
          5.1610000000000005,
          5.145,
          5.122999999999999,
          5.121,
          5.033,
          4.996,
          4.655,
          4.36,
          4.324,
          4.252,
          4.217
         ],
         "xaxis": "x",
         "y": [
          1.16374,
          1.14524,
          1.18326,
          1.1269,
          1.1346399999999999,
          1.02912,
          1.08764,
          1.0838299999999998,
          1.09774,
          1.05249,
          1.16157,
          1.03999,
          1.0867200000000001,
          1.00793,
          1.09879,
          1.00508,
          1.12945,
          1.0826799999999999,
          1.1681,
          1.04167,
          0.95544,
          0.8313200000000001,
          1.05261,
          1.04685,
          1.0641100000000001,
          1.04993,
          0.81826,
          1.05613,
          1.03817,
          0.95025,
          0.70697,
          0.7280300000000001,
          1.0516299999999998,
          0.6080899999999999,
          0.66062,
          0.76042,
          0.95434,
          0.81329,
          0.64367,
          0.74173,
          0.9316399999999999,
          0.9436700000000001,
          0.78236,
          0.75473,
          0.75602,
          0.50163,
          0.6247699999999999,
          1.01413,
          0.19249000000000002,
          0.92542
         ],
         "yaxis": "y"
        },
        {
         "hovertemplate": "<b>%{hovertext}</b><br><br>Region=North America<br>Score=%{x}<br>Social support=%{y}<extra></extra>",
         "hovertext": [
          "Canada",
          "United States"
         ],
         "legendgroup": "North America",
         "marker": {
          "color": "#EF553B",
          "line": {
           "color": "DarkSlateGrey",
           "width": 1
          },
          "size": 10,
          "symbol": "circle"
         },
         "mode": "markers",
         "name": "North America",
         "orientation": "v",
         "showlegend": true,
         "type": "scatter",
         "x": [
          7.404,
          7.104
         ],
         "xaxis": "x",
         "y": [
          1.0961,
          1.04782
         ],
         "yaxis": "y"
        },
        {
         "hovertemplate": "<b>%{hovertext}</b><br><br>Region=Australia and New Zealand<br>Score=%{x}<br>Social support=%{y}<extra></extra>",
         "hovertext": [
          "New Zealand",
          "Australia"
         ],
         "legendgroup": "Australia and New Zealand",
         "marker": {
          "color": "#00cc96",
          "line": {
           "color": "DarkSlateGrey",
           "width": 1
          },
          "size": 10,
          "symbol": "circle"
         },
         "mode": "markers",
         "name": "Australia and New Zealand",
         "orientation": "v",
         "showlegend": true,
         "type": "scatter",
         "x": [
          7.334,
          7.313
         ],
         "xaxis": "x",
         "y": [
          1.17278,
          1.10476
         ],
         "yaxis": "y"
        },
        {
         "hovertemplate": "<b>%{hovertext}</b><br><br>Region=Middle East and Northern Africa<br>Score=%{x}<br>Social support=%{y}<extra></extra>",
         "hovertext": [
          "Israel",
          "United Arab Emirates",
          "Saudi Arabia",
          "Qatar",
          "Algeria",
          "Kuwait",
          "Bahrain",
          "Libya",
          "Turkey",
          "Jordan",
          "Morocco",
          "Lebanon",
          "Tunisia",
          "Iran",
          "Palestinian Territories",
          "Iraq",
          "Egypt",
          "Yemen",
          "Syria"
         ],
         "legendgroup": "Middle East and Northern Africa",
         "marker": {
          "color": "#ab63fa",
          "line": {
           "color": "DarkSlateGrey",
           "width": 1
          },
          "size": 10,
          "symbol": "circle"
         },
         "mode": "markers",
         "name": "Middle East and Northern Africa",
         "orientation": "v",
         "showlegend": true,
         "type": "scatter",
         "x": [
          7.267,
          6.5729999999999995,
          6.379,
          6.375,
          6.355,
          6.239,
          6.218,
          5.615,
          5.388999999999999,
          5.303,
          5.151,
          5.129,
          5.045,
          4.813,
          4.754,
          4.575,
          4.362,
          3.7239999999999998,
          3.069
         ],
         "xaxis": "x",
         "y": [
          0.9953700000000001,
          0.8711399999999999,
          0.84829,
          0.87964,
          0.83309,
          0.8775799999999999,
          0.9439700000000001,
          0.95076,
          0.8771700000000001,
          0.86216,
          0.38595,
          0.64184,
          0.43165,
          0.38856999999999997,
          0.71629,
          0.59205,
          0.49813,
          0.47493,
          0.14866
         ],
         "yaxis": "y"
        },
        {
         "hovertemplate": "<b>%{hovertext}</b><br><br>Region=Latin America and Caribbean<br>Score=%{x}<br>Social support=%{y}<extra></extra>",
         "hovertext": [
          "Costa Rica",
          "Puerto Rico",
          "Brazil",
          "Mexico",
          "Chile",
          "Panama",
          "Argentina",
          "Uruguay",
          "Colombia",
          "Guatemala",
          "Suriname",
          "Trinidad and Tobago",
          "Venezuela",
          "El Salvador",
          "Nicaragua",
          "Ecuador",
          "Belize",
          "Bolivia",
          "Peru",
          "Paraguay",
          "Jamaica",
          "Dominican Republic",
          "Honduras",
          "Haiti"
         ],
         "legendgroup": "Latin America and Caribbean",
         "marker": {
          "color": "#FFA15A",
          "line": {
           "color": "DarkSlateGrey",
           "width": 1
          },
          "size": 10,
          "symbol": "circle"
         },
         "mode": "markers",
         "name": "Latin America and Caribbean",
         "orientation": "v",
         "showlegend": true,
         "type": "scatter",
         "x": [
          7.087000000000001,
          7.039,
          6.952000000000001,
          6.778,
          6.705,
          6.7010000000000005,
          6.65,
          6.545,
          6.481,
          6.324,
          6.269,
          6.167999999999999,
          6.084,
          6.068,
          5.992000000000001,
          5.976,
          5.956,
          5.822,
          5.742999999999999,
          5.537999999999999,
          5.51,
          5.155,
          4.871,
          4.0280000000000005
         ],
         "xaxis": "x",
         "y": [
          1.02152,
          1.08113,
          1.03938,
          0.7146,
          0.9058700000000001,
          0.9891200000000001,
          1.0661200000000002,
          1.0314299999999998,
          1.02169,
          0.8711899999999999,
          0.77866,
          0.98569,
          1.03302,
          0.80975,
          0.8952100000000001,
          0.85974,
          0.68655,
          0.8377899999999999,
          0.81255,
          1.11111,
          0.96372,
          0.9949600000000001,
          0.7559600000000001,
          0.29561
         ],
         "yaxis": "y"
        },
        {
         "hovertemplate": "<b>%{hovertext}</b><br><br>Region=Asia<br>Score=%{x}<br>Social support=%{y}<extra></extra>",
         "hovertext": [
          "Singapore",
          "Thailand",
          "Taiwan",
          "Malaysia",
          "Japan",
          "South Korea",
          "Hong Kong",
          "Indonesia",
          "Philippines",
          "China",
          "Bhutan",
          "Pakistan",
          "Vietnam",
          "Mongolia",
          "Laos",
          "Nepal",
          "Bangladesh",
          "Sri Lanka",
          "India",
          "Myanmar",
          "Cambodia",
          "Afghanistan"
         ],
         "legendgroup": "Asia",
         "marker": {
          "color": "#19d3f3",
          "line": {
           "color": "DarkSlateGrey",
           "width": 1
          },
          "size": 10,
          "symbol": "circle"
         },
         "mode": "markers",
         "name": "Asia",
         "orientation": "v",
         "showlegend": true,
         "type": "scatter",
         "x": [
          6.739,
          6.474,
          6.379,
          6.005,
          5.921,
          5.835,
          5.457999999999999,
          5.314,
          5.279,
          5.245,
          5.196000000000001,
          5.132000000000001,
          5.061,
          4.907,
          4.876,
          4.793,
          4.643,
          4.415,
          4.404,
          4.395,
          3.907,
          3.36
         ],
         "xaxis": "x",
         "y": [
          0.8675799999999999,
          1.04477,
          0.92624,
          0.88025,
          1.06054,
          0.7219399999999999,
          0.87021,
          0.87625,
          0.87877,
          0.79381,
          0.9083600000000001,
          0.26135,
          0.7911699999999999,
          1.0898299999999999,
          0.5497,
          0.69699,
          0.24749000000000002,
          0.84783,
          0.29247,
          0.69981,
          0.5375,
          0.11037000000000001
         ],
         "yaxis": "y"
        },
        {
         "hovertemplate": "<b>%{hovertext}</b><br><br>Region=Sub-Saharan Africa<br>Score=%{x}<br>Social support=%{y}<extra></extra>",
         "hovertext": [
          "Mauritius",
          "Somalia",
          "Somaliland Region",
          "Nigeria",
          "Zambia",
          "Sierra Leone",
          "Namibia",
          "Cameroon",
          "Ethiopia",
          "South Africa",
          "Kenya",
          "Ghana",
          "Congo (Kinshasa)",
          "Congo (Brazzaville)",
          "Senegal",
          "Mauritania",
          "Zimbabwe",
          "Malawi",
          "Sudan",
          "Gabon",
          "Mali",
          "Botswana",
          "Comoros",
          "Ivory Coast",
          "Angola",
          "Niger",
          "South Sudan",
          "Chad",
          "Burkina Faso",
          "Uganda",
          "Madagascar",
          "Tanzania",
          "Liberia",
          "Guinea",
          "Rwanda",
          "Benin",
          "Togo",
          "Burundi"
         ],
         "legendgroup": "Sub-Saharan Africa",
         "marker": {
          "color": "#FF6692",
          "line": {
           "color": "DarkSlateGrey",
           "width": 1
          },
          "size": 10,
          "symbol": "circle"
         },
         "mode": "markers",
         "name": "Sub-Saharan Africa",
         "orientation": "v",
         "showlegend": true,
         "type": "scatter",
         "x": [
          5.648,
          5.44,
          5.0569999999999995,
          4.875,
          4.795,
          4.635,
          4.574,
          4.513,
          4.508,
          4.459,
          4.356,
          4.276,
          4.272,
          4.236000000000001,
          4.218999999999999,
          4.2010000000000005,
          4.1930000000000005,
          4.156000000000001,
          4.138999999999999,
          4.121,
          4.073,
          3.9739999999999998,
          3.9560000000000004,
          3.9160000000000004,
          3.866,
          3.8560000000000003,
          3.832,
          3.763,
          3.739,
          3.739,
          3.695,
          3.6660000000000004,
          3.622,
          3.6069999999999998,
          3.515,
          3.484,
          3.303,
          2.905
         ],
         "xaxis": "x",
         "y": [
          0.75695,
          0.33613000000000004,
          0.75862,
          0.64498,
          0.6376,
          0.628,
          0.70362,
          0.62542,
          0.37932,
          0.9605299999999999,
          0.7624,
          0.49353,
          0.80676,
          0.47798999999999997,
          0.7741600000000001,
          0.8414200000000001,
          0.71478,
          0.147,
          0.8192799999999999,
          0.72368,
          0.8633299999999999,
          0.89186,
          0.60323,
          0.57576,
          0.66366,
          0.6053,
          0.18519000000000002,
          0.63178,
          0.63054,
          0.90981,
          0.46115,
          0.77623,
          0.50353,
          0.3109,
          0.6158600000000001,
          0.10419,
          0,
          0.23442
         ],
         "yaxis": "y"
        }
       ],
       "layout": {
        "height": 600,
        "legend": {
         "title": {
          "text": "Region"
         },
         "tracegroupgap": 0
        },
        "template": {
         "data": {
          "bar": [
           {
            "error_x": {
             "color": "#2a3f5f"
            },
            "error_y": {
             "color": "#2a3f5f"
            },
            "marker": {
             "line": {
              "color": "#E5ECF6",
              "width": 0.5
             }
            },
            "type": "bar"
           }
          ],
          "barpolar": [
           {
            "marker": {
             "line": {
              "color": "#E5ECF6",
              "width": 0.5
             }
            },
            "type": "barpolar"
           }
          ],
          "carpet": [
           {
            "aaxis": {
             "endlinecolor": "#2a3f5f",
             "gridcolor": "white",
             "linecolor": "white",
             "minorgridcolor": "white",
             "startlinecolor": "#2a3f5f"
            },
            "baxis": {
             "endlinecolor": "#2a3f5f",
             "gridcolor": "white",
             "linecolor": "white",
             "minorgridcolor": "white",
             "startlinecolor": "#2a3f5f"
            },
            "type": "carpet"
           }
          ],
          "choropleth": [
           {
            "colorbar": {
             "outlinewidth": 0,
             "ticks": ""
            },
            "type": "choropleth"
           }
          ],
          "contour": [
           {
            "colorbar": {
             "outlinewidth": 0,
             "ticks": ""
            },
            "colorscale": [
             [
              0,
              "#0d0887"
             ],
             [
              0.1111111111111111,
              "#46039f"
             ],
             [
              0.2222222222222222,
              "#7201a8"
             ],
             [
              0.3333333333333333,
              "#9c179e"
             ],
             [
              0.4444444444444444,
              "#bd3786"
             ],
             [
              0.5555555555555556,
              "#d8576b"
             ],
             [
              0.6666666666666666,
              "#ed7953"
             ],
             [
              0.7777777777777778,
              "#fb9f3a"
             ],
             [
              0.8888888888888888,
              "#fdca26"
             ],
             [
              1,
              "#f0f921"
             ]
            ],
            "type": "contour"
           }
          ],
          "contourcarpet": [
           {
            "colorbar": {
             "outlinewidth": 0,
             "ticks": ""
            },
            "type": "contourcarpet"
           }
          ],
          "heatmap": [
           {
            "colorbar": {
             "outlinewidth": 0,
             "ticks": ""
            },
            "colorscale": [
             [
              0,
              "#0d0887"
             ],
             [
              0.1111111111111111,
              "#46039f"
             ],
             [
              0.2222222222222222,
              "#7201a8"
             ],
             [
              0.3333333333333333,
              "#9c179e"
             ],
             [
              0.4444444444444444,
              "#bd3786"
             ],
             [
              0.5555555555555556,
              "#d8576b"
             ],
             [
              0.6666666666666666,
              "#ed7953"
             ],
             [
              0.7777777777777778,
              "#fb9f3a"
             ],
             [
              0.8888888888888888,
              "#fdca26"
             ],
             [
              1,
              "#f0f921"
             ]
            ],
            "type": "heatmap"
           }
          ],
          "heatmapgl": [
           {
            "colorbar": {
             "outlinewidth": 0,
             "ticks": ""
            },
            "colorscale": [
             [
              0,
              "#0d0887"
             ],
             [
              0.1111111111111111,
              "#46039f"
             ],
             [
              0.2222222222222222,
              "#7201a8"
             ],
             [
              0.3333333333333333,
              "#9c179e"
             ],
             [
              0.4444444444444444,
              "#bd3786"
             ],
             [
              0.5555555555555556,
              "#d8576b"
             ],
             [
              0.6666666666666666,
              "#ed7953"
             ],
             [
              0.7777777777777778,
              "#fb9f3a"
             ],
             [
              0.8888888888888888,
              "#fdca26"
             ],
             [
              1,
              "#f0f921"
             ]
            ],
            "type": "heatmapgl"
           }
          ],
          "histogram": [
           {
            "marker": {
             "colorbar": {
              "outlinewidth": 0,
              "ticks": ""
             }
            },
            "type": "histogram"
           }
          ],
          "histogram2d": [
           {
            "colorbar": {
             "outlinewidth": 0,
             "ticks": ""
            },
            "colorscale": [
             [
              0,
              "#0d0887"
             ],
             [
              0.1111111111111111,
              "#46039f"
             ],
             [
              0.2222222222222222,
              "#7201a8"
             ],
             [
              0.3333333333333333,
              "#9c179e"
             ],
             [
              0.4444444444444444,
              "#bd3786"
             ],
             [
              0.5555555555555556,
              "#d8576b"
             ],
             [
              0.6666666666666666,
              "#ed7953"
             ],
             [
              0.7777777777777778,
              "#fb9f3a"
             ],
             [
              0.8888888888888888,
              "#fdca26"
             ],
             [
              1,
              "#f0f921"
             ]
            ],
            "type": "histogram2d"
           }
          ],
          "histogram2dcontour": [
           {
            "colorbar": {
             "outlinewidth": 0,
             "ticks": ""
            },
            "colorscale": [
             [
              0,
              "#0d0887"
             ],
             [
              0.1111111111111111,
              "#46039f"
             ],
             [
              0.2222222222222222,
              "#7201a8"
             ],
             [
              0.3333333333333333,
              "#9c179e"
             ],
             [
              0.4444444444444444,
              "#bd3786"
             ],
             [
              0.5555555555555556,
              "#d8576b"
             ],
             [
              0.6666666666666666,
              "#ed7953"
             ],
             [
              0.7777777777777778,
              "#fb9f3a"
             ],
             [
              0.8888888888888888,
              "#fdca26"
             ],
             [
              1,
              "#f0f921"
             ]
            ],
            "type": "histogram2dcontour"
           }
          ],
          "mesh3d": [
           {
            "colorbar": {
             "outlinewidth": 0,
             "ticks": ""
            },
            "type": "mesh3d"
           }
          ],
          "parcoords": [
           {
            "line": {
             "colorbar": {
              "outlinewidth": 0,
              "ticks": ""
             }
            },
            "type": "parcoords"
           }
          ],
          "pie": [
           {
            "automargin": true,
            "type": "pie"
           }
          ],
          "scatter": [
           {
            "marker": {
             "colorbar": {
              "outlinewidth": 0,
              "ticks": ""
             }
            },
            "type": "scatter"
           }
          ],
          "scatter3d": [
           {
            "line": {
             "colorbar": {
              "outlinewidth": 0,
              "ticks": ""
             }
            },
            "marker": {
             "colorbar": {
              "outlinewidth": 0,
              "ticks": ""
             }
            },
            "type": "scatter3d"
           }
          ],
          "scattercarpet": [
           {
            "marker": {
             "colorbar": {
              "outlinewidth": 0,
              "ticks": ""
             }
            },
            "type": "scattercarpet"
           }
          ],
          "scattergeo": [
           {
            "marker": {
             "colorbar": {
              "outlinewidth": 0,
              "ticks": ""
             }
            },
            "type": "scattergeo"
           }
          ],
          "scattergl": [
           {
            "marker": {
             "colorbar": {
              "outlinewidth": 0,
              "ticks": ""
             }
            },
            "type": "scattergl"
           }
          ],
          "scattermapbox": [
           {
            "marker": {
             "colorbar": {
              "outlinewidth": 0,
              "ticks": ""
             }
            },
            "type": "scattermapbox"
           }
          ],
          "scatterpolar": [
           {
            "marker": {
             "colorbar": {
              "outlinewidth": 0,
              "ticks": ""
             }
            },
            "type": "scatterpolar"
           }
          ],
          "scatterpolargl": [
           {
            "marker": {
             "colorbar": {
              "outlinewidth": 0,
              "ticks": ""
             }
            },
            "type": "scatterpolargl"
           }
          ],
          "scatterternary": [
           {
            "marker": {
             "colorbar": {
              "outlinewidth": 0,
              "ticks": ""
             }
            },
            "type": "scatterternary"
           }
          ],
          "surface": [
           {
            "colorbar": {
             "outlinewidth": 0,
             "ticks": ""
            },
            "colorscale": [
             [
              0,
              "#0d0887"
             ],
             [
              0.1111111111111111,
              "#46039f"
             ],
             [
              0.2222222222222222,
              "#7201a8"
             ],
             [
              0.3333333333333333,
              "#9c179e"
             ],
             [
              0.4444444444444444,
              "#bd3786"
             ],
             [
              0.5555555555555556,
              "#d8576b"
             ],
             [
              0.6666666666666666,
              "#ed7953"
             ],
             [
              0.7777777777777778,
              "#fb9f3a"
             ],
             [
              0.8888888888888888,
              "#fdca26"
             ],
             [
              1,
              "#f0f921"
             ]
            ],
            "type": "surface"
           }
          ],
          "table": [
           {
            "cells": {
             "fill": {
              "color": "#EBF0F8"
             },
             "line": {
              "color": "white"
             }
            },
            "header": {
             "fill": {
              "color": "#C8D4E3"
             },
             "line": {
              "color": "white"
             }
            },
            "type": "table"
           }
          ]
         },
         "layout": {
          "annotationdefaults": {
           "arrowcolor": "#2a3f5f",
           "arrowhead": 0,
           "arrowwidth": 1
          },
          "autotypenumbers": "strict",
          "coloraxis": {
           "colorbar": {
            "outlinewidth": 0,
            "ticks": ""
           }
          },
          "colorscale": {
           "diverging": [
            [
             0,
             "#8e0152"
            ],
            [
             0.1,
             "#c51b7d"
            ],
            [
             0.2,
             "#de77ae"
            ],
            [
             0.3,
             "#f1b6da"
            ],
            [
             0.4,
             "#fde0ef"
            ],
            [
             0.5,
             "#f7f7f7"
            ],
            [
             0.6,
             "#e6f5d0"
            ],
            [
             0.7,
             "#b8e186"
            ],
            [
             0.8,
             "#7fbc41"
            ],
            [
             0.9,
             "#4d9221"
            ],
            [
             1,
             "#276419"
            ]
           ],
           "sequential": [
            [
             0,
             "#0d0887"
            ],
            [
             0.1111111111111111,
             "#46039f"
            ],
            [
             0.2222222222222222,
             "#7201a8"
            ],
            [
             0.3333333333333333,
             "#9c179e"
            ],
            [
             0.4444444444444444,
             "#bd3786"
            ],
            [
             0.5555555555555556,
             "#d8576b"
            ],
            [
             0.6666666666666666,
             "#ed7953"
            ],
            [
             0.7777777777777778,
             "#fb9f3a"
            ],
            [
             0.8888888888888888,
             "#fdca26"
            ],
            [
             1,
             "#f0f921"
            ]
           ],
           "sequentialminus": [
            [
             0,
             "#0d0887"
            ],
            [
             0.1111111111111111,
             "#46039f"
            ],
            [
             0.2222222222222222,
             "#7201a8"
            ],
            [
             0.3333333333333333,
             "#9c179e"
            ],
            [
             0.4444444444444444,
             "#bd3786"
            ],
            [
             0.5555555555555556,
             "#d8576b"
            ],
            [
             0.6666666666666666,
             "#ed7953"
            ],
            [
             0.7777777777777778,
             "#fb9f3a"
            ],
            [
             0.8888888888888888,
             "#fdca26"
            ],
            [
             1,
             "#f0f921"
            ]
           ]
          },
          "colorway": [
           "#636efa",
           "#EF553B",
           "#00cc96",
           "#ab63fa",
           "#FFA15A",
           "#19d3f3",
           "#FF6692",
           "#B6E880",
           "#FF97FF",
           "#FECB52"
          ],
          "font": {
           "color": "#2a3f5f"
          },
          "geo": {
           "bgcolor": "white",
           "lakecolor": "white",
           "landcolor": "#E5ECF6",
           "showlakes": true,
           "showland": true,
           "subunitcolor": "white"
          },
          "hoverlabel": {
           "align": "left"
          },
          "hovermode": "closest",
          "mapbox": {
           "style": "light"
          },
          "paper_bgcolor": "white",
          "plot_bgcolor": "#E5ECF6",
          "polar": {
           "angularaxis": {
            "gridcolor": "white",
            "linecolor": "white",
            "ticks": ""
           },
           "bgcolor": "#E5ECF6",
           "radialaxis": {
            "gridcolor": "white",
            "linecolor": "white",
            "ticks": ""
           }
          },
          "scene": {
           "xaxis": {
            "backgroundcolor": "#E5ECF6",
            "gridcolor": "white",
            "gridwidth": 2,
            "linecolor": "white",
            "showbackground": true,
            "ticks": "",
            "zerolinecolor": "white"
           },
           "yaxis": {
            "backgroundcolor": "#E5ECF6",
            "gridcolor": "white",
            "gridwidth": 2,
            "linecolor": "white",
            "showbackground": true,
            "ticks": "",
            "zerolinecolor": "white"
           },
           "zaxis": {
            "backgroundcolor": "#E5ECF6",
            "gridcolor": "white",
            "gridwidth": 2,
            "linecolor": "white",
            "showbackground": true,
            "ticks": "",
            "zerolinecolor": "white"
           }
          },
          "shapedefaults": {
           "line": {
            "color": "#2a3f5f"
           }
          },
          "ternary": {
           "aaxis": {
            "gridcolor": "white",
            "linecolor": "white",
            "ticks": ""
           },
           "baxis": {
            "gridcolor": "white",
            "linecolor": "white",
            "ticks": ""
           },
           "bgcolor": "#E5ECF6",
           "caxis": {
            "gridcolor": "white",
            "linecolor": "white",
            "ticks": ""
           }
          },
          "title": {
           "x": 0.05
          },
          "xaxis": {
           "automargin": true,
           "gridcolor": "white",
           "linecolor": "white",
           "ticks": "",
           "title": {
            "standoff": 15
           },
           "zerolinecolor": "white",
           "zerolinewidth": 2
          },
          "yaxis": {
           "automargin": true,
           "gridcolor": "white",
           "linecolor": "white",
           "ticks": "",
           "title": {
            "standoff": 15
           },
           "zerolinecolor": "white",
           "zerolinewidth": 2
          }
         }
        },
        "title": {
         "text": "Happiness Score compared to Social Score Support "
        },
        "width": 1000,
        "xaxis": {
         "anchor": "y",
         "domain": [
          0,
          1
         ],
         "range": [
          0,
          8
         ],
         "title": {
          "text": "Happiness Score"
         }
        },
        "yaxis": {
         "anchor": "x",
         "domain": [
          0,
          1
         ],
         "title": {
          "text": "Social Support Score"
         }
        }
       }
      },
      "text/html": [
       "<div>                            <div id=\"d99b6c6c-63a7-4fd6-96b4-42ca17a55161\" class=\"plotly-graph-div\" style=\"height:600px; width:1000px;\"></div>            <script type=\"text/javascript\">                require([\"plotly\"], function(Plotly) {                    window.PLOTLYENV=window.PLOTLYENV || {};                                    if (document.getElementById(\"d99b6c6c-63a7-4fd6-96b4-42ca17a55161\")) {                    Plotly.newPlot(                        \"d99b6c6c-63a7-4fd6-96b4-42ca17a55161\",                        [{\"hovertemplate\": \"<b>%{hovertext}</b><br><br>Region=Europe<br>Score=%{x}<br>Social support=%{y}<extra></extra>\", \"hovertext\": [\"Denmark\", \"Switzerland\", \"Iceland\", \"Norway\", \"Finland\", \"Netherlands\", \"Sweden\", \"Austria\", \"Germany\", \"Belgium\", \"Ireland\", \"Luxembourg\", \"United Kingdom\", \"Czech Republic\", \"Malta\", \"France\", \"Spain\", \"Slovakia\", \"Uzbekistan\", \"Italy\", \"Kazakhstan\", \"Moldova\", \"Russia\", \"Poland\", \"Lithuania\", \"Belarus\", \"North Cyprus\", \"Slovenia\", \"Turkmenistan\", \"Latvia\", \"Cyprus\", \"Romania\", \"Estonia\", \"Croatia\", \"Kosovo\", \"Azerbaijan\", \"Kyrgyzstan\", \"Serbia\", \"Bosnia and Herzegovina\", \"Montenegro\", \"Hungary\", \"Portugal\", \"Macedonia\", \"Greece\", \"Tajikistan\", \"Albania\", \"Armenia\", \"Ukraine\", \"Georgia\", \"Bulgaria\"], \"legendgroup\": \"Europe\", \"marker\": {\"color\": \"#636efa\", \"line\": {\"color\": \"DarkSlateGrey\", \"width\": 1}, \"size\": 10, \"symbol\": \"circle\"}, \"mode\": \"markers\", \"name\": \"Europe\", \"orientation\": \"v\", \"showlegend\": true, \"type\": \"scatter\", \"x\": [7.526, 7.5089999999999995, 7.501, 7.497999999999999, 7.412999999999999, 7.3389999999999995, 7.291, 7.119, 6.994, 6.928999999999999, 6.907, 6.871, 6.725, 6.596, 6.4879999999999995, 6.478, 6.361000000000001, 6.077999999999999, 5.987, 5.977, 5.919, 5.897, 5.856, 5.835, 5.813, 5.8020000000000005, 5.771, 5.768, 5.6579999999999995, 5.56, 5.546, 5.528, 5.517, 5.4879999999999995, 5.401, 5.291, 5.185, 5.1770000000000005, 5.162999999999999, 5.1610000000000005, 5.145, 5.122999999999999, 5.121, 5.033, 4.996, 4.655, 4.36, 4.324, 4.252, 4.217], \"xaxis\": \"x\", \"y\": [1.16374, 1.14524, 1.18326, 1.1269, 1.1346399999999999, 1.02912, 1.08764, 1.0838299999999998, 1.09774, 1.05249, 1.16157, 1.03999, 1.0867200000000001, 1.00793, 1.09879, 1.00508, 1.12945, 1.0826799999999999, 1.1681, 1.04167, 0.95544, 0.8313200000000001, 1.05261, 1.04685, 1.0641100000000001, 1.04993, 0.81826, 1.05613, 1.03817, 0.95025, 0.70697, 0.7280300000000001, 1.0516299999999998, 0.6080899999999999, 0.66062, 0.76042, 0.95434, 0.81329, 0.64367, 0.74173, 0.9316399999999999, 0.9436700000000001, 0.78236, 0.75473, 0.75602, 0.50163, 0.6247699999999999, 1.01413, 0.19249000000000002, 0.92542], \"yaxis\": \"y\"}, {\"hovertemplate\": \"<b>%{hovertext}</b><br><br>Region=North America<br>Score=%{x}<br>Social support=%{y}<extra></extra>\", \"hovertext\": [\"Canada\", \"United States\"], \"legendgroup\": \"North America\", \"marker\": {\"color\": \"#EF553B\", \"line\": {\"color\": \"DarkSlateGrey\", \"width\": 1}, \"size\": 10, \"symbol\": \"circle\"}, \"mode\": \"markers\", \"name\": \"North America\", \"orientation\": \"v\", \"showlegend\": true, \"type\": \"scatter\", \"x\": [7.404, 7.104], \"xaxis\": \"x\", \"y\": [1.0961, 1.04782], \"yaxis\": \"y\"}, {\"hovertemplate\": \"<b>%{hovertext}</b><br><br>Region=Australia and New Zealand<br>Score=%{x}<br>Social support=%{y}<extra></extra>\", \"hovertext\": [\"New Zealand\", \"Australia\"], \"legendgroup\": \"Australia and New Zealand\", \"marker\": {\"color\": \"#00cc96\", \"line\": {\"color\": \"DarkSlateGrey\", \"width\": 1}, \"size\": 10, \"symbol\": \"circle\"}, \"mode\": \"markers\", \"name\": \"Australia and New Zealand\", \"orientation\": \"v\", \"showlegend\": true, \"type\": \"scatter\", \"x\": [7.334, 7.313], \"xaxis\": \"x\", \"y\": [1.17278, 1.10476], \"yaxis\": \"y\"}, {\"hovertemplate\": \"<b>%{hovertext}</b><br><br>Region=Middle East and Northern Africa<br>Score=%{x}<br>Social support=%{y}<extra></extra>\", \"hovertext\": [\"Israel\", \"United Arab Emirates\", \"Saudi Arabia\", \"Qatar\", \"Algeria\", \"Kuwait\", \"Bahrain\", \"Libya\", \"Turkey\", \"Jordan\", \"Morocco\", \"Lebanon\", \"Tunisia\", \"Iran\", \"Palestinian Territories\", \"Iraq\", \"Egypt\", \"Yemen\", \"Syria\"], \"legendgroup\": \"Middle East and Northern Africa\", \"marker\": {\"color\": \"#ab63fa\", \"line\": {\"color\": \"DarkSlateGrey\", \"width\": 1}, \"size\": 10, \"symbol\": \"circle\"}, \"mode\": \"markers\", \"name\": \"Middle East and Northern Africa\", \"orientation\": \"v\", \"showlegend\": true, \"type\": \"scatter\", \"x\": [7.267, 6.5729999999999995, 6.379, 6.375, 6.355, 6.239, 6.218, 5.615, 5.388999999999999, 5.303, 5.151, 5.129, 5.045, 4.813, 4.754, 4.575, 4.362, 3.7239999999999998, 3.069], \"xaxis\": \"x\", \"y\": [0.9953700000000001, 0.8711399999999999, 0.84829, 0.87964, 0.83309, 0.8775799999999999, 0.9439700000000001, 0.95076, 0.8771700000000001, 0.86216, 0.38595, 0.64184, 0.43165, 0.38856999999999997, 0.71629, 0.59205, 0.49813, 0.47493, 0.14866], \"yaxis\": \"y\"}, {\"hovertemplate\": \"<b>%{hovertext}</b><br><br>Region=Latin America and Caribbean<br>Score=%{x}<br>Social support=%{y}<extra></extra>\", \"hovertext\": [\"Costa Rica\", \"Puerto Rico\", \"Brazil\", \"Mexico\", \"Chile\", \"Panama\", \"Argentina\", \"Uruguay\", \"Colombia\", \"Guatemala\", \"Suriname\", \"Trinidad and Tobago\", \"Venezuela\", \"El Salvador\", \"Nicaragua\", \"Ecuador\", \"Belize\", \"Bolivia\", \"Peru\", \"Paraguay\", \"Jamaica\", \"Dominican Republic\", \"Honduras\", \"Haiti\"], \"legendgroup\": \"Latin America and Caribbean\", \"marker\": {\"color\": \"#FFA15A\", \"line\": {\"color\": \"DarkSlateGrey\", \"width\": 1}, \"size\": 10, \"symbol\": \"circle\"}, \"mode\": \"markers\", \"name\": \"Latin America and Caribbean\", \"orientation\": \"v\", \"showlegend\": true, \"type\": \"scatter\", \"x\": [7.087000000000001, 7.039, 6.952000000000001, 6.778, 6.705, 6.7010000000000005, 6.65, 6.545, 6.481, 6.324, 6.269, 6.167999999999999, 6.084, 6.068, 5.992000000000001, 5.976, 5.956, 5.822, 5.742999999999999, 5.537999999999999, 5.51, 5.155, 4.871, 4.0280000000000005], \"xaxis\": \"x\", \"y\": [1.02152, 1.08113, 1.03938, 0.7146, 0.9058700000000001, 0.9891200000000001, 1.0661200000000002, 1.0314299999999998, 1.02169, 0.8711899999999999, 0.77866, 0.98569, 1.03302, 0.80975, 0.8952100000000001, 0.85974, 0.68655, 0.8377899999999999, 0.81255, 1.11111, 0.96372, 0.9949600000000001, 0.7559600000000001, 0.29561], \"yaxis\": \"y\"}, {\"hovertemplate\": \"<b>%{hovertext}</b><br><br>Region=Asia<br>Score=%{x}<br>Social support=%{y}<extra></extra>\", \"hovertext\": [\"Singapore\", \"Thailand\", \"Taiwan\", \"Malaysia\", \"Japan\", \"South Korea\", \"Hong Kong\", \"Indonesia\", \"Philippines\", \"China\", \"Bhutan\", \"Pakistan\", \"Vietnam\", \"Mongolia\", \"Laos\", \"Nepal\", \"Bangladesh\", \"Sri Lanka\", \"India\", \"Myanmar\", \"Cambodia\", \"Afghanistan\"], \"legendgroup\": \"Asia\", \"marker\": {\"color\": \"#19d3f3\", \"line\": {\"color\": \"DarkSlateGrey\", \"width\": 1}, \"size\": 10, \"symbol\": \"circle\"}, \"mode\": \"markers\", \"name\": \"Asia\", \"orientation\": \"v\", \"showlegend\": true, \"type\": \"scatter\", \"x\": [6.739, 6.474, 6.379, 6.005, 5.921, 5.835, 5.457999999999999, 5.314, 5.279, 5.245, 5.196000000000001, 5.132000000000001, 5.061, 4.907, 4.876, 4.793, 4.643, 4.415, 4.404, 4.395, 3.907, 3.36], \"xaxis\": \"x\", \"y\": [0.8675799999999999, 1.04477, 0.92624, 0.88025, 1.06054, 0.7219399999999999, 0.87021, 0.87625, 0.87877, 0.79381, 0.9083600000000001, 0.26135, 0.7911699999999999, 1.0898299999999999, 0.5497, 0.69699, 0.24749000000000002, 0.84783, 0.29247, 0.69981, 0.5375, 0.11037000000000001], \"yaxis\": \"y\"}, {\"hovertemplate\": \"<b>%{hovertext}</b><br><br>Region=Sub-Saharan Africa<br>Score=%{x}<br>Social support=%{y}<extra></extra>\", \"hovertext\": [\"Mauritius\", \"Somalia\", \"Somaliland Region\", \"Nigeria\", \"Zambia\", \"Sierra Leone\", \"Namibia\", \"Cameroon\", \"Ethiopia\", \"South Africa\", \"Kenya\", \"Ghana\", \"Congo (Kinshasa)\", \"Congo (Brazzaville)\", \"Senegal\", \"Mauritania\", \"Zimbabwe\", \"Malawi\", \"Sudan\", \"Gabon\", \"Mali\", \"Botswana\", \"Comoros\", \"Ivory Coast\", \"Angola\", \"Niger\", \"South Sudan\", \"Chad\", \"Burkina Faso\", \"Uganda\", \"Madagascar\", \"Tanzania\", \"Liberia\", \"Guinea\", \"Rwanda\", \"Benin\", \"Togo\", \"Burundi\"], \"legendgroup\": \"Sub-Saharan Africa\", \"marker\": {\"color\": \"#FF6692\", \"line\": {\"color\": \"DarkSlateGrey\", \"width\": 1}, \"size\": 10, \"symbol\": \"circle\"}, \"mode\": \"markers\", \"name\": \"Sub-Saharan Africa\", \"orientation\": \"v\", \"showlegend\": true, \"type\": \"scatter\", \"x\": [5.648, 5.44, 5.0569999999999995, 4.875, 4.795, 4.635, 4.574, 4.513, 4.508, 4.459, 4.356, 4.276, 4.272, 4.236000000000001, 4.218999999999999, 4.2010000000000005, 4.1930000000000005, 4.156000000000001, 4.138999999999999, 4.121, 4.073, 3.9739999999999998, 3.9560000000000004, 3.9160000000000004, 3.866, 3.8560000000000003, 3.832, 3.763, 3.739, 3.739, 3.695, 3.6660000000000004, 3.622, 3.6069999999999998, 3.515, 3.484, 3.303, 2.905], \"xaxis\": \"x\", \"y\": [0.75695, 0.33613000000000004, 0.75862, 0.64498, 0.6376, 0.628, 0.70362, 0.62542, 0.37932, 0.9605299999999999, 0.7624, 0.49353, 0.80676, 0.47798999999999997, 0.7741600000000001, 0.8414200000000001, 0.71478, 0.147, 0.8192799999999999, 0.72368, 0.8633299999999999, 0.89186, 0.60323, 0.57576, 0.66366, 0.6053, 0.18519000000000002, 0.63178, 0.63054, 0.90981, 0.46115, 0.77623, 0.50353, 0.3109, 0.6158600000000001, 0.10419, 0.0, 0.23442], \"yaxis\": \"y\"}],                        {\"height\": 600, \"legend\": {\"title\": {\"text\": \"Region\"}, \"tracegroupgap\": 0}, \"template\": {\"data\": {\"bar\": [{\"error_x\": {\"color\": \"#2a3f5f\"}, \"error_y\": {\"color\": \"#2a3f5f\"}, \"marker\": {\"line\": {\"color\": \"#E5ECF6\", \"width\": 0.5}}, \"type\": \"bar\"}], \"barpolar\": [{\"marker\": {\"line\": {\"color\": \"#E5ECF6\", \"width\": 0.5}}, \"type\": \"barpolar\"}], \"carpet\": [{\"aaxis\": {\"endlinecolor\": \"#2a3f5f\", \"gridcolor\": \"white\", \"linecolor\": \"white\", \"minorgridcolor\": \"white\", \"startlinecolor\": \"#2a3f5f\"}, \"baxis\": {\"endlinecolor\": \"#2a3f5f\", \"gridcolor\": \"white\", \"linecolor\": \"white\", \"minorgridcolor\": \"white\", \"startlinecolor\": \"#2a3f5f\"}, \"type\": \"carpet\"}], \"choropleth\": [{\"colorbar\": {\"outlinewidth\": 0, \"ticks\": \"\"}, \"type\": \"choropleth\"}], \"contour\": [{\"colorbar\": {\"outlinewidth\": 0, \"ticks\": \"\"}, \"colorscale\": [[0.0, \"#0d0887\"], [0.1111111111111111, \"#46039f\"], [0.2222222222222222, \"#7201a8\"], [0.3333333333333333, \"#9c179e\"], [0.4444444444444444, \"#bd3786\"], [0.5555555555555556, \"#d8576b\"], [0.6666666666666666, \"#ed7953\"], [0.7777777777777778, \"#fb9f3a\"], [0.8888888888888888, \"#fdca26\"], [1.0, \"#f0f921\"]], \"type\": \"contour\"}], \"contourcarpet\": [{\"colorbar\": {\"outlinewidth\": 0, \"ticks\": \"\"}, \"type\": \"contourcarpet\"}], \"heatmap\": [{\"colorbar\": {\"outlinewidth\": 0, \"ticks\": \"\"}, \"colorscale\": [[0.0, \"#0d0887\"], [0.1111111111111111, \"#46039f\"], [0.2222222222222222, \"#7201a8\"], [0.3333333333333333, \"#9c179e\"], [0.4444444444444444, \"#bd3786\"], [0.5555555555555556, \"#d8576b\"], [0.6666666666666666, \"#ed7953\"], [0.7777777777777778, \"#fb9f3a\"], [0.8888888888888888, \"#fdca26\"], [1.0, \"#f0f921\"]], \"type\": \"heatmap\"}], \"heatmapgl\": [{\"colorbar\": {\"outlinewidth\": 0, \"ticks\": \"\"}, \"colorscale\": [[0.0, \"#0d0887\"], [0.1111111111111111, \"#46039f\"], [0.2222222222222222, \"#7201a8\"], [0.3333333333333333, \"#9c179e\"], [0.4444444444444444, \"#bd3786\"], [0.5555555555555556, \"#d8576b\"], [0.6666666666666666, \"#ed7953\"], [0.7777777777777778, \"#fb9f3a\"], [0.8888888888888888, \"#fdca26\"], [1.0, \"#f0f921\"]], \"type\": \"heatmapgl\"}], \"histogram\": [{\"marker\": {\"colorbar\": {\"outlinewidth\": 0, \"ticks\": \"\"}}, \"type\": \"histogram\"}], \"histogram2d\": [{\"colorbar\": {\"outlinewidth\": 0, \"ticks\": \"\"}, \"colorscale\": [[0.0, \"#0d0887\"], [0.1111111111111111, \"#46039f\"], [0.2222222222222222, \"#7201a8\"], [0.3333333333333333, \"#9c179e\"], [0.4444444444444444, \"#bd3786\"], [0.5555555555555556, \"#d8576b\"], [0.6666666666666666, \"#ed7953\"], [0.7777777777777778, \"#fb9f3a\"], [0.8888888888888888, \"#fdca26\"], [1.0, \"#f0f921\"]], \"type\": \"histogram2d\"}], \"histogram2dcontour\": [{\"colorbar\": {\"outlinewidth\": 0, \"ticks\": \"\"}, \"colorscale\": [[0.0, \"#0d0887\"], [0.1111111111111111, \"#46039f\"], [0.2222222222222222, \"#7201a8\"], [0.3333333333333333, \"#9c179e\"], [0.4444444444444444, \"#bd3786\"], [0.5555555555555556, \"#d8576b\"], [0.6666666666666666, \"#ed7953\"], [0.7777777777777778, \"#fb9f3a\"], [0.8888888888888888, \"#fdca26\"], [1.0, \"#f0f921\"]], \"type\": \"histogram2dcontour\"}], \"mesh3d\": [{\"colorbar\": {\"outlinewidth\": 0, \"ticks\": \"\"}, \"type\": \"mesh3d\"}], \"parcoords\": [{\"line\": {\"colorbar\": {\"outlinewidth\": 0, \"ticks\": \"\"}}, \"type\": \"parcoords\"}], \"pie\": [{\"automargin\": true, \"type\": \"pie\"}], \"scatter\": [{\"marker\": {\"colorbar\": {\"outlinewidth\": 0, \"ticks\": \"\"}}, \"type\": \"scatter\"}], \"scatter3d\": [{\"line\": {\"colorbar\": {\"outlinewidth\": 0, \"ticks\": \"\"}}, \"marker\": {\"colorbar\": {\"outlinewidth\": 0, \"ticks\": \"\"}}, \"type\": \"scatter3d\"}], \"scattercarpet\": [{\"marker\": {\"colorbar\": {\"outlinewidth\": 0, \"ticks\": \"\"}}, \"type\": \"scattercarpet\"}], \"scattergeo\": [{\"marker\": {\"colorbar\": {\"outlinewidth\": 0, \"ticks\": \"\"}}, \"type\": \"scattergeo\"}], \"scattergl\": [{\"marker\": {\"colorbar\": {\"outlinewidth\": 0, \"ticks\": \"\"}}, \"type\": \"scattergl\"}], \"scattermapbox\": [{\"marker\": {\"colorbar\": {\"outlinewidth\": 0, \"ticks\": \"\"}}, \"type\": \"scattermapbox\"}], \"scatterpolar\": [{\"marker\": {\"colorbar\": {\"outlinewidth\": 0, \"ticks\": \"\"}}, \"type\": \"scatterpolar\"}], \"scatterpolargl\": [{\"marker\": {\"colorbar\": {\"outlinewidth\": 0, \"ticks\": \"\"}}, \"type\": \"scatterpolargl\"}], \"scatterternary\": [{\"marker\": {\"colorbar\": {\"outlinewidth\": 0, \"ticks\": \"\"}}, \"type\": \"scatterternary\"}], \"surface\": [{\"colorbar\": {\"outlinewidth\": 0, \"ticks\": \"\"}, \"colorscale\": [[0.0, \"#0d0887\"], [0.1111111111111111, \"#46039f\"], [0.2222222222222222, \"#7201a8\"], [0.3333333333333333, \"#9c179e\"], [0.4444444444444444, \"#bd3786\"], [0.5555555555555556, \"#d8576b\"], [0.6666666666666666, \"#ed7953\"], [0.7777777777777778, \"#fb9f3a\"], [0.8888888888888888, \"#fdca26\"], [1.0, \"#f0f921\"]], \"type\": \"surface\"}], \"table\": [{\"cells\": {\"fill\": {\"color\": \"#EBF0F8\"}, \"line\": {\"color\": \"white\"}}, \"header\": {\"fill\": {\"color\": \"#C8D4E3\"}, \"line\": {\"color\": \"white\"}}, \"type\": \"table\"}]}, \"layout\": {\"annotationdefaults\": {\"arrowcolor\": \"#2a3f5f\", \"arrowhead\": 0, \"arrowwidth\": 1}, \"autotypenumbers\": \"strict\", \"coloraxis\": {\"colorbar\": {\"outlinewidth\": 0, \"ticks\": \"\"}}, \"colorscale\": {\"diverging\": [[0, \"#8e0152\"], [0.1, \"#c51b7d\"], [0.2, \"#de77ae\"], [0.3, \"#f1b6da\"], [0.4, \"#fde0ef\"], [0.5, \"#f7f7f7\"], [0.6, \"#e6f5d0\"], [0.7, \"#b8e186\"], [0.8, \"#7fbc41\"], [0.9, \"#4d9221\"], [1, \"#276419\"]], \"sequential\": [[0.0, \"#0d0887\"], [0.1111111111111111, \"#46039f\"], [0.2222222222222222, \"#7201a8\"], [0.3333333333333333, \"#9c179e\"], [0.4444444444444444, \"#bd3786\"], [0.5555555555555556, \"#d8576b\"], [0.6666666666666666, \"#ed7953\"], [0.7777777777777778, \"#fb9f3a\"], [0.8888888888888888, \"#fdca26\"], [1.0, \"#f0f921\"]], \"sequentialminus\": [[0.0, \"#0d0887\"], [0.1111111111111111, \"#46039f\"], [0.2222222222222222, \"#7201a8\"], [0.3333333333333333, \"#9c179e\"], [0.4444444444444444, \"#bd3786\"], [0.5555555555555556, \"#d8576b\"], [0.6666666666666666, \"#ed7953\"], [0.7777777777777778, \"#fb9f3a\"], [0.8888888888888888, \"#fdca26\"], [1.0, \"#f0f921\"]]}, \"colorway\": [\"#636efa\", \"#EF553B\", \"#00cc96\", \"#ab63fa\", \"#FFA15A\", \"#19d3f3\", \"#FF6692\", \"#B6E880\", \"#FF97FF\", \"#FECB52\"], \"font\": {\"color\": \"#2a3f5f\"}, \"geo\": {\"bgcolor\": \"white\", \"lakecolor\": \"white\", \"landcolor\": \"#E5ECF6\", \"showlakes\": true, \"showland\": true, \"subunitcolor\": \"white\"}, \"hoverlabel\": {\"align\": \"left\"}, \"hovermode\": \"closest\", \"mapbox\": {\"style\": \"light\"}, \"paper_bgcolor\": \"white\", \"plot_bgcolor\": \"#E5ECF6\", \"polar\": {\"angularaxis\": {\"gridcolor\": \"white\", \"linecolor\": \"white\", \"ticks\": \"\"}, \"bgcolor\": \"#E5ECF6\", \"radialaxis\": {\"gridcolor\": \"white\", \"linecolor\": \"white\", \"ticks\": \"\"}}, \"scene\": {\"xaxis\": {\"backgroundcolor\": \"#E5ECF6\", \"gridcolor\": \"white\", \"gridwidth\": 2, \"linecolor\": \"white\", \"showbackground\": true, \"ticks\": \"\", \"zerolinecolor\": \"white\"}, \"yaxis\": {\"backgroundcolor\": \"#E5ECF6\", \"gridcolor\": \"white\", \"gridwidth\": 2, \"linecolor\": \"white\", \"showbackground\": true, \"ticks\": \"\", \"zerolinecolor\": \"white\"}, \"zaxis\": {\"backgroundcolor\": \"#E5ECF6\", \"gridcolor\": \"white\", \"gridwidth\": 2, \"linecolor\": \"white\", \"showbackground\": true, \"ticks\": \"\", \"zerolinecolor\": \"white\"}}, \"shapedefaults\": {\"line\": {\"color\": \"#2a3f5f\"}}, \"ternary\": {\"aaxis\": {\"gridcolor\": \"white\", \"linecolor\": \"white\", \"ticks\": \"\"}, \"baxis\": {\"gridcolor\": \"white\", \"linecolor\": \"white\", \"ticks\": \"\"}, \"bgcolor\": \"#E5ECF6\", \"caxis\": {\"gridcolor\": \"white\", \"linecolor\": \"white\", \"ticks\": \"\"}}, \"title\": {\"x\": 0.05}, \"xaxis\": {\"automargin\": true, \"gridcolor\": \"white\", \"linecolor\": \"white\", \"ticks\": \"\", \"title\": {\"standoff\": 15}, \"zerolinecolor\": \"white\", \"zerolinewidth\": 2}, \"yaxis\": {\"automargin\": true, \"gridcolor\": \"white\", \"linecolor\": \"white\", \"ticks\": \"\", \"title\": {\"standoff\": 15}, \"zerolinecolor\": \"white\", \"zerolinewidth\": 2}}}, \"title\": {\"text\": \"Happiness Score compared to Social Score Support \"}, \"width\": 1000, \"xaxis\": {\"anchor\": \"y\", \"domain\": [0.0, 1.0], \"range\": [0, 8], \"title\": {\"text\": \"Happiness Score\"}}, \"yaxis\": {\"anchor\": \"x\", \"domain\": [0.0, 1.0], \"title\": {\"text\": \"Social Support Score\"}}},                        {\"responsive\": true}                    ).then(function(){\n",
       "                            \n",
       "var gd = document.getElementById('d99b6c6c-63a7-4fd6-96b4-42ca17a55161');\n",
       "var x = new MutationObserver(function (mutations, observer) {{\n",
       "        var display = window.getComputedStyle(gd).display;\n",
       "        if (!display || display === 'none') {{\n",
       "            console.log([gd, 'removed!']);\n",
       "            Plotly.purge(gd);\n",
       "            observer.disconnect();\n",
       "        }}\n",
       "}});\n",
       "\n",
       "// Listen for the removal of the full notebook cells\n",
       "var notebookContainer = gd.closest('#notebook-container');\n",
       "if (notebookContainer) {{\n",
       "    x.observe(notebookContainer, {childList: true});\n",
       "}}\n",
       "\n",
       "// Listen for the clearing of the current output cell\n",
       "var outputEl = gd.closest('.output');\n",
       "if (outputEl) {{\n",
       "    x.observe(outputEl, {childList: true});\n",
       "}}\n",
       "\n",
       "                        })                };                });            </script>        </div>"
      ]
     },
     "metadata": {},
     "output_type": "display_data"
    }
   ],
   "source": [
    "#happiness score vs social support\n",
    "\n",
    "#establish x and y values\n",
    "x_values = csv_2016_restructured[\"Score\"]\n",
    "y_values = csv_2016_restructured[\"Social support\"]\n",
    "\n",
    "#px.scatter\n",
    "fig = px.scatter(csv_2016_restructured, x_values, y_values, color=\"Region\", hover_name=\"Country\",\n",
    "                range_x=[0,8], title=\"Happiness Score compared to Social Score Support \",\n",
    "                width= 1000, height =600) # use trendline=\"ols\" to see all lin reg equations\n",
    "\n",
    "#set axes labels\n",
    "fig.update_xaxes(title_text='Happiness Score')\n",
    "fig.update_yaxes(title_text='Social Support Score')\n",
    "\n",
    "\n",
    "#formatting\n",
    "#marker size and colors\n",
    "fig.update_traces(marker=dict(size=10,\n",
    "                              line=dict(width=1, \n",
    "                                        color='DarkSlateGrey')))\n",
    "\n",
    "\n",
    "#linear regression\n",
    "#use linregress from dependencies to inplement linear regression\n",
    "(slope, intercept, rvalue, pvalue, stderr) = linregress(x_values, y_values)\n",
    "regress_values = x_values * slope + intercept\n",
    "\n",
    "#print out all variables calculated above (rvalue, pvalue...)\n",
    "print(f\"slope:{round(slope, 2)}\")\n",
    "print(f\"intercept:{round(intercept,2)}\")\n",
    "res = sts.linregress(x_values, y_values)\n",
    "print(f\"R-squared: {res.rvalue**2:.4f}\")\n",
    "\n",
    "\n",
    "#print out line eq for reference\n",
    "line_eq = (f\"y={round(slope, 2)}x + {round(intercept, 2)}\")\n",
    "print(line_eq)\n",
    "\n",
    "fig.show()"
   ]
  },
  {
   "cell_type": "code",
   "execution_count": 14,
   "metadata": {},
   "outputs": [
    {
     "name": "stdout",
     "output_type": "stream",
     "text": [
      "slope:0.15\n",
      "intercept:-0.27\n",
      "R-squared: 0.5858\n",
      "y=0.15x + -0.27\n"
     ]
    },
    {
     "data": {
      "application/vnd.plotly.v1+json": {
       "config": {
        "plotlyServerURL": "https://plot.ly"
       },
       "data": [
        {
         "hovertemplate": "<b>%{hovertext}</b><br><br>Region=Europe<br>Score=%{x}<br>Healthy life expectancy=%{y}<extra></extra>",
         "hovertext": [
          "Denmark",
          "Switzerland",
          "Iceland",
          "Norway",
          "Finland",
          "Netherlands",
          "Sweden",
          "Austria",
          "Germany",
          "Belgium",
          "Ireland",
          "Luxembourg",
          "United Kingdom",
          "Czech Republic",
          "Malta",
          "France",
          "Spain",
          "Slovakia",
          "Uzbekistan",
          "Italy",
          "Kazakhstan",
          "Moldova",
          "Russia",
          "Poland",
          "Lithuania",
          "Belarus",
          "North Cyprus",
          "Slovenia",
          "Turkmenistan",
          "Latvia",
          "Cyprus",
          "Romania",
          "Estonia",
          "Croatia",
          "Kosovo",
          "Azerbaijan",
          "Kyrgyzstan",
          "Serbia",
          "Bosnia and Herzegovina",
          "Montenegro",
          "Hungary",
          "Portugal",
          "Macedonia",
          "Greece",
          "Tajikistan",
          "Albania",
          "Armenia",
          "Ukraine",
          "Georgia",
          "Bulgaria"
         ],
         "legendgroup": "Europe",
         "marker": {
          "color": "#636efa",
          "line": {
           "color": "DarkSlateGrey",
           "width": 1
          },
          "size": 10,
          "symbol": "circle"
         },
         "mode": "markers",
         "name": "Europe",
         "orientation": "v",
         "showlegend": true,
         "type": "scatter",
         "x": [
          7.526,
          7.5089999999999995,
          7.501,
          7.497999999999999,
          7.412999999999999,
          7.3389999999999995,
          7.291,
          7.119,
          6.994,
          6.928999999999999,
          6.907,
          6.871,
          6.725,
          6.596,
          6.4879999999999995,
          6.478,
          6.361000000000001,
          6.077999999999999,
          5.987,
          5.977,
          5.919,
          5.897,
          5.856,
          5.835,
          5.813,
          5.8020000000000005,
          5.771,
          5.768,
          5.6579999999999995,
          5.56,
          5.546,
          5.528,
          5.517,
          5.4879999999999995,
          5.401,
          5.291,
          5.185,
          5.1770000000000005,
          5.162999999999999,
          5.1610000000000005,
          5.145,
          5.122999999999999,
          5.121,
          5.033,
          4.996,
          4.655,
          4.36,
          4.324,
          4.252,
          4.217
         ],
         "xaxis": "x",
         "y": [
          0.79504,
          0.86303,
          0.8673299999999999,
          0.79579,
          0.81091,
          0.8123100000000001,
          0.83121,
          0.80565,
          0.81487,
          0.8195899999999999,
          0.81455,
          0.8454200000000001,
          0.80991,
          0.76376,
          0.80315,
          0.83795,
          0.8789600000000001,
          0.70367,
          0.50163,
          0.8510200000000001,
          0.57386,
          0.5230899999999999,
          0.58991,
          0.69058,
          0.64674,
          0.6310399999999999,
          0.8414200000000001,
          0.79151,
          0.44006000000000006,
          0.63952,
          0.8488,
          0.67602,
          0.68098,
          0.70524,
          0.54,
          0.54504,
          0.5544899999999999,
          0.6458,
          0.7076600000000001,
          0.6353300000000001,
          0.67608,
          0.7936300000000001,
          0.6473800000000001,
          0.80029,
          0.5311899999999999,
          0.73007,
          0.64083,
          0.58628,
          0.64035,
          0.67806
         ],
         "yaxis": "y"
        },
        {
         "hovertemplate": "<b>%{hovertext}</b><br><br>Region=North America<br>Score=%{x}<br>Healthy life expectancy=%{y}<extra></extra>",
         "hovertext": [
          "Canada",
          "United States"
         ],
         "legendgroup": "North America",
         "marker": {
          "color": "#EF553B",
          "line": {
           "color": "DarkSlateGrey",
           "width": 1
          },
          "size": 10,
          "symbol": "circle"
         },
         "mode": "markers",
         "name": "North America",
         "orientation": "v",
         "showlegend": true,
         "type": "scatter",
         "x": [
          7.404,
          7.104
         ],
         "xaxis": "x",
         "y": [
          0.8276,
          0.779
         ],
         "yaxis": "y"
        },
        {
         "hovertemplate": "<b>%{hovertext}</b><br><br>Region=Australia and New Zealand<br>Score=%{x}<br>Healthy life expectancy=%{y}<extra></extra>",
         "hovertext": [
          "New Zealand",
          "Australia"
         ],
         "legendgroup": "Australia and New Zealand",
         "marker": {
          "color": "#00cc96",
          "line": {
           "color": "DarkSlateGrey",
           "width": 1
          },
          "size": 10,
          "symbol": "circle"
         },
         "mode": "markers",
         "name": "Australia and New Zealand",
         "orientation": "v",
         "showlegend": true,
         "type": "scatter",
         "x": [
          7.334,
          7.313
         ],
         "xaxis": "x",
         "y": [
          0.83096,
          0.8512
         ],
         "yaxis": "y"
        },
        {
         "hovertemplate": "<b>%{hovertext}</b><br><br>Region=Middle East and Northern Africa<br>Score=%{x}<br>Healthy life expectancy=%{y}<extra></extra>",
         "hovertext": [
          "Israel",
          "United Arab Emirates",
          "Saudi Arabia",
          "Qatar",
          "Algeria",
          "Kuwait",
          "Bahrain",
          "Libya",
          "Turkey",
          "Jordan",
          "Morocco",
          "Lebanon",
          "Tunisia",
          "Iran",
          "Palestinian Territories",
          "Iraq",
          "Egypt",
          "Yemen",
          "Syria"
         ],
         "legendgroup": "Middle East and Northern Africa",
         "marker": {
          "color": "#ab63fa",
          "line": {
           "color": "DarkSlateGrey",
           "width": 1
          },
          "size": 10,
          "symbol": "circle"
         },
         "mode": "markers",
         "name": "Middle East and Northern Africa",
         "orientation": "v",
         "showlegend": true,
         "type": "scatter",
         "x": [
          7.267,
          6.5729999999999995,
          6.379,
          6.375,
          6.355,
          6.239,
          6.218,
          5.615,
          5.388999999999999,
          5.303,
          5.151,
          5.129,
          5.045,
          4.813,
          4.754,
          4.575,
          4.362,
          3.7239999999999998,
          3.069
         ],
         "xaxis": "x",
         "y": [
          0.8491700000000001,
          0.72993,
          0.59267,
          0.71723,
          0.6180399999999999,
          0.63569,
          0.65696,
          0.52304,
          0.64718,
          0.60712,
          0.5947100000000001,
          0.76171,
          0.59577,
          0.64232,
          0.56844,
          0.51076,
          0.5211600000000001,
          0.31048000000000003,
          0.6299399999999999
         ],
         "yaxis": "y"
        },
        {
         "hovertemplate": "<b>%{hovertext}</b><br><br>Region=Latin America and Caribbean<br>Score=%{x}<br>Healthy life expectancy=%{y}<extra></extra>",
         "hovertext": [
          "Costa Rica",
          "Puerto Rico",
          "Brazil",
          "Mexico",
          "Chile",
          "Panama",
          "Argentina",
          "Uruguay",
          "Colombia",
          "Guatemala",
          "Suriname",
          "Trinidad and Tobago",
          "Venezuela",
          "El Salvador",
          "Nicaragua",
          "Ecuador",
          "Belize",
          "Bolivia",
          "Peru",
          "Paraguay",
          "Jamaica",
          "Dominican Republic",
          "Honduras",
          "Haiti"
         ],
         "legendgroup": "Latin America and Caribbean",
         "marker": {
          "color": "#FFA15A",
          "line": {
           "color": "DarkSlateGrey",
           "width": 1
          },
          "size": 10,
          "symbol": "circle"
         },
         "mode": "markers",
         "name": "Latin America and Caribbean",
         "orientation": "v",
         "showlegend": true,
         "type": "scatter",
         "x": [
          7.087000000000001,
          7.039,
          6.952000000000001,
          6.778,
          6.705,
          6.7010000000000005,
          6.65,
          6.545,
          6.481,
          6.324,
          6.269,
          6.167999999999999,
          6.084,
          6.068,
          5.992000000000001,
          5.976,
          5.956,
          5.822,
          5.742999999999999,
          5.537999999999999,
          5.51,
          5.155,
          4.871,
          4.0280000000000005
         ],
         "xaxis": "x",
         "y": [
          0.76146,
          0.77758,
          0.61415,
          0.71143,
          0.8188300000000001,
          0.70835,
          0.69711,
          0.72183,
          0.59659,
          0.5403899999999999,
          0.5093300000000001,
          0.52608,
          0.6190399999999999,
          0.596,
          0.65213,
          0.68613,
          0.45569,
          0.4697,
          0.6299399999999999,
          0.58295,
          0.5946899999999999,
          0.5766899999999999,
          0.5838300000000001,
          0.27494
         ],
         "yaxis": "y"
        },
        {
         "hovertemplate": "<b>%{hovertext}</b><br><br>Region=Asia<br>Score=%{x}<br>Healthy life expectancy=%{y}<extra></extra>",
         "hovertext": [
          "Singapore",
          "Thailand",
          "Taiwan",
          "Malaysia",
          "Japan",
          "South Korea",
          "Hong Kong",
          "Indonesia",
          "Philippines",
          "China",
          "Bhutan",
          "Pakistan",
          "Vietnam",
          "Mongolia",
          "Laos",
          "Nepal",
          "Bangladesh",
          "Sri Lanka",
          "India",
          "Myanmar",
          "Cambodia",
          "Afghanistan"
         ],
         "legendgroup": "Asia",
         "marker": {
          "color": "#19d3f3",
          "line": {
           "color": "DarkSlateGrey",
           "width": 1
          },
          "size": 10,
          "symbol": "circle"
         },
         "mode": "markers",
         "name": "Asia",
         "orientation": "v",
         "showlegend": true,
         "type": "scatter",
         "x": [
          6.739,
          6.474,
          6.379,
          6.005,
          5.921,
          5.835,
          5.457999999999999,
          5.314,
          5.279,
          5.245,
          5.196000000000001,
          5.132000000000001,
          5.061,
          4.907,
          4.876,
          4.793,
          4.643,
          4.415,
          4.404,
          4.395,
          3.907,
          3.36
         ],
         "xaxis": "x",
         "y": [
          0.94719,
          0.64915,
          0.79565,
          0.62366,
          0.91491,
          0.88645,
          0.9527700000000001,
          0.49373999999999996,
          0.47036000000000006,
          0.73561,
          0.49759,
          0.40306,
          0.66157,
          0.55469,
          0.38291,
          0.50073,
          0.52989,
          0.62007,
          0.45091000000000003,
          0.3988,
          0.42494,
          0.17344
         ],
         "yaxis": "y"
        },
        {
         "hovertemplate": "<b>%{hovertext}</b><br><br>Region=Sub-Saharan Africa<br>Score=%{x}<br>Healthy life expectancy=%{y}<extra></extra>",
         "hovertext": [
          "Mauritius",
          "Somalia",
          "Somaliland Region",
          "Nigeria",
          "Zambia",
          "Sierra Leone",
          "Namibia",
          "Cameroon",
          "Ethiopia",
          "South Africa",
          "Kenya",
          "Ghana",
          "Congo (Kinshasa)",
          "Congo (Brazzaville)",
          "Senegal",
          "Mauritania",
          "Zimbabwe",
          "Malawi",
          "Sudan",
          "Gabon",
          "Mali",
          "Botswana",
          "Comoros",
          "Ivory Coast",
          "Angola",
          "Niger",
          "South Sudan",
          "Chad",
          "Burkina Faso",
          "Uganda",
          "Madagascar",
          "Tanzania",
          "Liberia",
          "Guinea",
          "Rwanda",
          "Benin",
          "Togo",
          "Burundi"
         ],
         "legendgroup": "Sub-Saharan Africa",
         "marker": {
          "color": "#FF6692",
          "line": {
           "color": "DarkSlateGrey",
           "width": 1
          },
          "size": 10,
          "symbol": "circle"
         },
         "mode": "markers",
         "name": "Sub-Saharan Africa",
         "orientation": "v",
         "showlegend": true,
         "type": "scatter",
         "x": [
          5.648,
          5.44,
          5.0569999999999995,
          4.875,
          4.795,
          4.635,
          4.574,
          4.513,
          4.508,
          4.459,
          4.356,
          4.276,
          4.272,
          4.236000000000001,
          4.218999999999999,
          4.2010000000000005,
          4.1930000000000005,
          4.156000000000001,
          4.138999999999999,
          4.121,
          4.073,
          3.9739999999999998,
          3.9560000000000004,
          3.9160000000000004,
          3.866,
          3.8560000000000003,
          3.832,
          3.763,
          3.739,
          3.739,
          3.695,
          3.6660000000000004,
          3.622,
          3.6069999999999998,
          3.515,
          3.484,
          3.303,
          2.905
         ],
         "xaxis": "x",
         "y": [
          0.66189,
          0.11465999999999998,
          0.33108000000000004,
          0.05108,
          0.23573000000000002,
          0,
          0.34745,
          0.12697999999999998,
          0.34578000000000003,
          0.18611,
          0.30146999999999996,
          0.29681,
          0.188,
          0.28212,
          0.40457,
          0.28639000000000003,
          0.1595,
          0.29364,
          0.29759,
          0.3494,
          0.16347,
          0.34752,
          0.29980999999999997,
          0.04476,
          0.04991,
          0.26161999999999996,
          0.15780999999999998,
          0.038239999999999996,
          0.21297,
          0.19625,
          0.37109000000000003,
          0.35700000000000004,
          0.23165,
          0.18829,
          0.31865,
          0.21028000000000002,
          0.24811,
          0.15747
         ],
         "yaxis": "y"
        }
       ],
       "layout": {
        "height": 600,
        "legend": {
         "title": {
          "text": "Region"
         },
         "tracegroupgap": 0
        },
        "template": {
         "data": {
          "bar": [
           {
            "error_x": {
             "color": "#2a3f5f"
            },
            "error_y": {
             "color": "#2a3f5f"
            },
            "marker": {
             "line": {
              "color": "#E5ECF6",
              "width": 0.5
             }
            },
            "type": "bar"
           }
          ],
          "barpolar": [
           {
            "marker": {
             "line": {
              "color": "#E5ECF6",
              "width": 0.5
             }
            },
            "type": "barpolar"
           }
          ],
          "carpet": [
           {
            "aaxis": {
             "endlinecolor": "#2a3f5f",
             "gridcolor": "white",
             "linecolor": "white",
             "minorgridcolor": "white",
             "startlinecolor": "#2a3f5f"
            },
            "baxis": {
             "endlinecolor": "#2a3f5f",
             "gridcolor": "white",
             "linecolor": "white",
             "minorgridcolor": "white",
             "startlinecolor": "#2a3f5f"
            },
            "type": "carpet"
           }
          ],
          "choropleth": [
           {
            "colorbar": {
             "outlinewidth": 0,
             "ticks": ""
            },
            "type": "choropleth"
           }
          ],
          "contour": [
           {
            "colorbar": {
             "outlinewidth": 0,
             "ticks": ""
            },
            "colorscale": [
             [
              0,
              "#0d0887"
             ],
             [
              0.1111111111111111,
              "#46039f"
             ],
             [
              0.2222222222222222,
              "#7201a8"
             ],
             [
              0.3333333333333333,
              "#9c179e"
             ],
             [
              0.4444444444444444,
              "#bd3786"
             ],
             [
              0.5555555555555556,
              "#d8576b"
             ],
             [
              0.6666666666666666,
              "#ed7953"
             ],
             [
              0.7777777777777778,
              "#fb9f3a"
             ],
             [
              0.8888888888888888,
              "#fdca26"
             ],
             [
              1,
              "#f0f921"
             ]
            ],
            "type": "contour"
           }
          ],
          "contourcarpet": [
           {
            "colorbar": {
             "outlinewidth": 0,
             "ticks": ""
            },
            "type": "contourcarpet"
           }
          ],
          "heatmap": [
           {
            "colorbar": {
             "outlinewidth": 0,
             "ticks": ""
            },
            "colorscale": [
             [
              0,
              "#0d0887"
             ],
             [
              0.1111111111111111,
              "#46039f"
             ],
             [
              0.2222222222222222,
              "#7201a8"
             ],
             [
              0.3333333333333333,
              "#9c179e"
             ],
             [
              0.4444444444444444,
              "#bd3786"
             ],
             [
              0.5555555555555556,
              "#d8576b"
             ],
             [
              0.6666666666666666,
              "#ed7953"
             ],
             [
              0.7777777777777778,
              "#fb9f3a"
             ],
             [
              0.8888888888888888,
              "#fdca26"
             ],
             [
              1,
              "#f0f921"
             ]
            ],
            "type": "heatmap"
           }
          ],
          "heatmapgl": [
           {
            "colorbar": {
             "outlinewidth": 0,
             "ticks": ""
            },
            "colorscale": [
             [
              0,
              "#0d0887"
             ],
             [
              0.1111111111111111,
              "#46039f"
             ],
             [
              0.2222222222222222,
              "#7201a8"
             ],
             [
              0.3333333333333333,
              "#9c179e"
             ],
             [
              0.4444444444444444,
              "#bd3786"
             ],
             [
              0.5555555555555556,
              "#d8576b"
             ],
             [
              0.6666666666666666,
              "#ed7953"
             ],
             [
              0.7777777777777778,
              "#fb9f3a"
             ],
             [
              0.8888888888888888,
              "#fdca26"
             ],
             [
              1,
              "#f0f921"
             ]
            ],
            "type": "heatmapgl"
           }
          ],
          "histogram": [
           {
            "marker": {
             "colorbar": {
              "outlinewidth": 0,
              "ticks": ""
             }
            },
            "type": "histogram"
           }
          ],
          "histogram2d": [
           {
            "colorbar": {
             "outlinewidth": 0,
             "ticks": ""
            },
            "colorscale": [
             [
              0,
              "#0d0887"
             ],
             [
              0.1111111111111111,
              "#46039f"
             ],
             [
              0.2222222222222222,
              "#7201a8"
             ],
             [
              0.3333333333333333,
              "#9c179e"
             ],
             [
              0.4444444444444444,
              "#bd3786"
             ],
             [
              0.5555555555555556,
              "#d8576b"
             ],
             [
              0.6666666666666666,
              "#ed7953"
             ],
             [
              0.7777777777777778,
              "#fb9f3a"
             ],
             [
              0.8888888888888888,
              "#fdca26"
             ],
             [
              1,
              "#f0f921"
             ]
            ],
            "type": "histogram2d"
           }
          ],
          "histogram2dcontour": [
           {
            "colorbar": {
             "outlinewidth": 0,
             "ticks": ""
            },
            "colorscale": [
             [
              0,
              "#0d0887"
             ],
             [
              0.1111111111111111,
              "#46039f"
             ],
             [
              0.2222222222222222,
              "#7201a8"
             ],
             [
              0.3333333333333333,
              "#9c179e"
             ],
             [
              0.4444444444444444,
              "#bd3786"
             ],
             [
              0.5555555555555556,
              "#d8576b"
             ],
             [
              0.6666666666666666,
              "#ed7953"
             ],
             [
              0.7777777777777778,
              "#fb9f3a"
             ],
             [
              0.8888888888888888,
              "#fdca26"
             ],
             [
              1,
              "#f0f921"
             ]
            ],
            "type": "histogram2dcontour"
           }
          ],
          "mesh3d": [
           {
            "colorbar": {
             "outlinewidth": 0,
             "ticks": ""
            },
            "type": "mesh3d"
           }
          ],
          "parcoords": [
           {
            "line": {
             "colorbar": {
              "outlinewidth": 0,
              "ticks": ""
             }
            },
            "type": "parcoords"
           }
          ],
          "pie": [
           {
            "automargin": true,
            "type": "pie"
           }
          ],
          "scatter": [
           {
            "marker": {
             "colorbar": {
              "outlinewidth": 0,
              "ticks": ""
             }
            },
            "type": "scatter"
           }
          ],
          "scatter3d": [
           {
            "line": {
             "colorbar": {
              "outlinewidth": 0,
              "ticks": ""
             }
            },
            "marker": {
             "colorbar": {
              "outlinewidth": 0,
              "ticks": ""
             }
            },
            "type": "scatter3d"
           }
          ],
          "scattercarpet": [
           {
            "marker": {
             "colorbar": {
              "outlinewidth": 0,
              "ticks": ""
             }
            },
            "type": "scattercarpet"
           }
          ],
          "scattergeo": [
           {
            "marker": {
             "colorbar": {
              "outlinewidth": 0,
              "ticks": ""
             }
            },
            "type": "scattergeo"
           }
          ],
          "scattergl": [
           {
            "marker": {
             "colorbar": {
              "outlinewidth": 0,
              "ticks": ""
             }
            },
            "type": "scattergl"
           }
          ],
          "scattermapbox": [
           {
            "marker": {
             "colorbar": {
              "outlinewidth": 0,
              "ticks": ""
             }
            },
            "type": "scattermapbox"
           }
          ],
          "scatterpolar": [
           {
            "marker": {
             "colorbar": {
              "outlinewidth": 0,
              "ticks": ""
             }
            },
            "type": "scatterpolar"
           }
          ],
          "scatterpolargl": [
           {
            "marker": {
             "colorbar": {
              "outlinewidth": 0,
              "ticks": ""
             }
            },
            "type": "scatterpolargl"
           }
          ],
          "scatterternary": [
           {
            "marker": {
             "colorbar": {
              "outlinewidth": 0,
              "ticks": ""
             }
            },
            "type": "scatterternary"
           }
          ],
          "surface": [
           {
            "colorbar": {
             "outlinewidth": 0,
             "ticks": ""
            },
            "colorscale": [
             [
              0,
              "#0d0887"
             ],
             [
              0.1111111111111111,
              "#46039f"
             ],
             [
              0.2222222222222222,
              "#7201a8"
             ],
             [
              0.3333333333333333,
              "#9c179e"
             ],
             [
              0.4444444444444444,
              "#bd3786"
             ],
             [
              0.5555555555555556,
              "#d8576b"
             ],
             [
              0.6666666666666666,
              "#ed7953"
             ],
             [
              0.7777777777777778,
              "#fb9f3a"
             ],
             [
              0.8888888888888888,
              "#fdca26"
             ],
             [
              1,
              "#f0f921"
             ]
            ],
            "type": "surface"
           }
          ],
          "table": [
           {
            "cells": {
             "fill": {
              "color": "#EBF0F8"
             },
             "line": {
              "color": "white"
             }
            },
            "header": {
             "fill": {
              "color": "#C8D4E3"
             },
             "line": {
              "color": "white"
             }
            },
            "type": "table"
           }
          ]
         },
         "layout": {
          "annotationdefaults": {
           "arrowcolor": "#2a3f5f",
           "arrowhead": 0,
           "arrowwidth": 1
          },
          "autotypenumbers": "strict",
          "coloraxis": {
           "colorbar": {
            "outlinewidth": 0,
            "ticks": ""
           }
          },
          "colorscale": {
           "diverging": [
            [
             0,
             "#8e0152"
            ],
            [
             0.1,
             "#c51b7d"
            ],
            [
             0.2,
             "#de77ae"
            ],
            [
             0.3,
             "#f1b6da"
            ],
            [
             0.4,
             "#fde0ef"
            ],
            [
             0.5,
             "#f7f7f7"
            ],
            [
             0.6,
             "#e6f5d0"
            ],
            [
             0.7,
             "#b8e186"
            ],
            [
             0.8,
             "#7fbc41"
            ],
            [
             0.9,
             "#4d9221"
            ],
            [
             1,
             "#276419"
            ]
           ],
           "sequential": [
            [
             0,
             "#0d0887"
            ],
            [
             0.1111111111111111,
             "#46039f"
            ],
            [
             0.2222222222222222,
             "#7201a8"
            ],
            [
             0.3333333333333333,
             "#9c179e"
            ],
            [
             0.4444444444444444,
             "#bd3786"
            ],
            [
             0.5555555555555556,
             "#d8576b"
            ],
            [
             0.6666666666666666,
             "#ed7953"
            ],
            [
             0.7777777777777778,
             "#fb9f3a"
            ],
            [
             0.8888888888888888,
             "#fdca26"
            ],
            [
             1,
             "#f0f921"
            ]
           ],
           "sequentialminus": [
            [
             0,
             "#0d0887"
            ],
            [
             0.1111111111111111,
             "#46039f"
            ],
            [
             0.2222222222222222,
             "#7201a8"
            ],
            [
             0.3333333333333333,
             "#9c179e"
            ],
            [
             0.4444444444444444,
             "#bd3786"
            ],
            [
             0.5555555555555556,
             "#d8576b"
            ],
            [
             0.6666666666666666,
             "#ed7953"
            ],
            [
             0.7777777777777778,
             "#fb9f3a"
            ],
            [
             0.8888888888888888,
             "#fdca26"
            ],
            [
             1,
             "#f0f921"
            ]
           ]
          },
          "colorway": [
           "#636efa",
           "#EF553B",
           "#00cc96",
           "#ab63fa",
           "#FFA15A",
           "#19d3f3",
           "#FF6692",
           "#B6E880",
           "#FF97FF",
           "#FECB52"
          ],
          "font": {
           "color": "#2a3f5f"
          },
          "geo": {
           "bgcolor": "white",
           "lakecolor": "white",
           "landcolor": "#E5ECF6",
           "showlakes": true,
           "showland": true,
           "subunitcolor": "white"
          },
          "hoverlabel": {
           "align": "left"
          },
          "hovermode": "closest",
          "mapbox": {
           "style": "light"
          },
          "paper_bgcolor": "white",
          "plot_bgcolor": "#E5ECF6",
          "polar": {
           "angularaxis": {
            "gridcolor": "white",
            "linecolor": "white",
            "ticks": ""
           },
           "bgcolor": "#E5ECF6",
           "radialaxis": {
            "gridcolor": "white",
            "linecolor": "white",
            "ticks": ""
           }
          },
          "scene": {
           "xaxis": {
            "backgroundcolor": "#E5ECF6",
            "gridcolor": "white",
            "gridwidth": 2,
            "linecolor": "white",
            "showbackground": true,
            "ticks": "",
            "zerolinecolor": "white"
           },
           "yaxis": {
            "backgroundcolor": "#E5ECF6",
            "gridcolor": "white",
            "gridwidth": 2,
            "linecolor": "white",
            "showbackground": true,
            "ticks": "",
            "zerolinecolor": "white"
           },
           "zaxis": {
            "backgroundcolor": "#E5ECF6",
            "gridcolor": "white",
            "gridwidth": 2,
            "linecolor": "white",
            "showbackground": true,
            "ticks": "",
            "zerolinecolor": "white"
           }
          },
          "shapedefaults": {
           "line": {
            "color": "#2a3f5f"
           }
          },
          "ternary": {
           "aaxis": {
            "gridcolor": "white",
            "linecolor": "white",
            "ticks": ""
           },
           "baxis": {
            "gridcolor": "white",
            "linecolor": "white",
            "ticks": ""
           },
           "bgcolor": "#E5ECF6",
           "caxis": {
            "gridcolor": "white",
            "linecolor": "white",
            "ticks": ""
           }
          },
          "title": {
           "x": 0.05
          },
          "xaxis": {
           "automargin": true,
           "gridcolor": "white",
           "linecolor": "white",
           "ticks": "",
           "title": {
            "standoff": 15
           },
           "zerolinecolor": "white",
           "zerolinewidth": 2
          },
          "yaxis": {
           "automargin": true,
           "gridcolor": "white",
           "linecolor": "white",
           "ticks": "",
           "title": {
            "standoff": 15
           },
           "zerolinecolor": "white",
           "zerolinewidth": 2
          }
         }
        },
        "title": {
         "text": "Happiness Score compared to Healthy Life Expectancy Score"
        },
        "width": 1000,
        "xaxis": {
         "anchor": "y",
         "domain": [
          0,
          1
         ],
         "range": [
          0,
          8
         ],
         "title": {
          "text": "Happiness Score"
         }
        },
        "yaxis": {
         "anchor": "x",
         "domain": [
          0,
          1
         ],
         "title": {
          "text": "Healthy Life Expectancy"
         }
        }
       }
      },
      "text/html": [
       "<div>                            <div id=\"c60de70c-fe0c-4c72-bcab-11caa9414907\" class=\"plotly-graph-div\" style=\"height:600px; width:1000px;\"></div>            <script type=\"text/javascript\">                require([\"plotly\"], function(Plotly) {                    window.PLOTLYENV=window.PLOTLYENV || {};                                    if (document.getElementById(\"c60de70c-fe0c-4c72-bcab-11caa9414907\")) {                    Plotly.newPlot(                        \"c60de70c-fe0c-4c72-bcab-11caa9414907\",                        [{\"hovertemplate\": \"<b>%{hovertext}</b><br><br>Region=Europe<br>Score=%{x}<br>Healthy life expectancy=%{y}<extra></extra>\", \"hovertext\": [\"Denmark\", \"Switzerland\", \"Iceland\", \"Norway\", \"Finland\", \"Netherlands\", \"Sweden\", \"Austria\", \"Germany\", \"Belgium\", \"Ireland\", \"Luxembourg\", \"United Kingdom\", \"Czech Republic\", \"Malta\", \"France\", \"Spain\", \"Slovakia\", \"Uzbekistan\", \"Italy\", \"Kazakhstan\", \"Moldova\", \"Russia\", \"Poland\", \"Lithuania\", \"Belarus\", \"North Cyprus\", \"Slovenia\", \"Turkmenistan\", \"Latvia\", \"Cyprus\", \"Romania\", \"Estonia\", \"Croatia\", \"Kosovo\", \"Azerbaijan\", \"Kyrgyzstan\", \"Serbia\", \"Bosnia and Herzegovina\", \"Montenegro\", \"Hungary\", \"Portugal\", \"Macedonia\", \"Greece\", \"Tajikistan\", \"Albania\", \"Armenia\", \"Ukraine\", \"Georgia\", \"Bulgaria\"], \"legendgroup\": \"Europe\", \"marker\": {\"color\": \"#636efa\", \"line\": {\"color\": \"DarkSlateGrey\", \"width\": 1}, \"size\": 10, \"symbol\": \"circle\"}, \"mode\": \"markers\", \"name\": \"Europe\", \"orientation\": \"v\", \"showlegend\": true, \"type\": \"scatter\", \"x\": [7.526, 7.5089999999999995, 7.501, 7.497999999999999, 7.412999999999999, 7.3389999999999995, 7.291, 7.119, 6.994, 6.928999999999999, 6.907, 6.871, 6.725, 6.596, 6.4879999999999995, 6.478, 6.361000000000001, 6.077999999999999, 5.987, 5.977, 5.919, 5.897, 5.856, 5.835, 5.813, 5.8020000000000005, 5.771, 5.768, 5.6579999999999995, 5.56, 5.546, 5.528, 5.517, 5.4879999999999995, 5.401, 5.291, 5.185, 5.1770000000000005, 5.162999999999999, 5.1610000000000005, 5.145, 5.122999999999999, 5.121, 5.033, 4.996, 4.655, 4.36, 4.324, 4.252, 4.217], \"xaxis\": \"x\", \"y\": [0.79504, 0.86303, 0.8673299999999999, 0.79579, 0.81091, 0.8123100000000001, 0.83121, 0.80565, 0.81487, 0.8195899999999999, 0.81455, 0.8454200000000001, 0.80991, 0.76376, 0.80315, 0.83795, 0.8789600000000001, 0.70367, 0.50163, 0.8510200000000001, 0.57386, 0.5230899999999999, 0.58991, 0.69058, 0.64674, 0.6310399999999999, 0.8414200000000001, 0.79151, 0.44006000000000006, 0.63952, 0.8488, 0.67602, 0.68098, 0.70524, 0.54, 0.54504, 0.5544899999999999, 0.6458, 0.7076600000000001, 0.6353300000000001, 0.67608, 0.7936300000000001, 0.6473800000000001, 0.80029, 0.5311899999999999, 0.73007, 0.64083, 0.58628, 0.64035, 0.67806], \"yaxis\": \"y\"}, {\"hovertemplate\": \"<b>%{hovertext}</b><br><br>Region=North America<br>Score=%{x}<br>Healthy life expectancy=%{y}<extra></extra>\", \"hovertext\": [\"Canada\", \"United States\"], \"legendgroup\": \"North America\", \"marker\": {\"color\": \"#EF553B\", \"line\": {\"color\": \"DarkSlateGrey\", \"width\": 1}, \"size\": 10, \"symbol\": \"circle\"}, \"mode\": \"markers\", \"name\": \"North America\", \"orientation\": \"v\", \"showlegend\": true, \"type\": \"scatter\", \"x\": [7.404, 7.104], \"xaxis\": \"x\", \"y\": [0.8276, 0.779], \"yaxis\": \"y\"}, {\"hovertemplate\": \"<b>%{hovertext}</b><br><br>Region=Australia and New Zealand<br>Score=%{x}<br>Healthy life expectancy=%{y}<extra></extra>\", \"hovertext\": [\"New Zealand\", \"Australia\"], \"legendgroup\": \"Australia and New Zealand\", \"marker\": {\"color\": \"#00cc96\", \"line\": {\"color\": \"DarkSlateGrey\", \"width\": 1}, \"size\": 10, \"symbol\": \"circle\"}, \"mode\": \"markers\", \"name\": \"Australia and New Zealand\", \"orientation\": \"v\", \"showlegend\": true, \"type\": \"scatter\", \"x\": [7.334, 7.313], \"xaxis\": \"x\", \"y\": [0.83096, 0.8512], \"yaxis\": \"y\"}, {\"hovertemplate\": \"<b>%{hovertext}</b><br><br>Region=Middle East and Northern Africa<br>Score=%{x}<br>Healthy life expectancy=%{y}<extra></extra>\", \"hovertext\": [\"Israel\", \"United Arab Emirates\", \"Saudi Arabia\", \"Qatar\", \"Algeria\", \"Kuwait\", \"Bahrain\", \"Libya\", \"Turkey\", \"Jordan\", \"Morocco\", \"Lebanon\", \"Tunisia\", \"Iran\", \"Palestinian Territories\", \"Iraq\", \"Egypt\", \"Yemen\", \"Syria\"], \"legendgroup\": \"Middle East and Northern Africa\", \"marker\": {\"color\": \"#ab63fa\", \"line\": {\"color\": \"DarkSlateGrey\", \"width\": 1}, \"size\": 10, \"symbol\": \"circle\"}, \"mode\": \"markers\", \"name\": \"Middle East and Northern Africa\", \"orientation\": \"v\", \"showlegend\": true, \"type\": \"scatter\", \"x\": [7.267, 6.5729999999999995, 6.379, 6.375, 6.355, 6.239, 6.218, 5.615, 5.388999999999999, 5.303, 5.151, 5.129, 5.045, 4.813, 4.754, 4.575, 4.362, 3.7239999999999998, 3.069], \"xaxis\": \"x\", \"y\": [0.8491700000000001, 0.72993, 0.59267, 0.71723, 0.6180399999999999, 0.63569, 0.65696, 0.52304, 0.64718, 0.60712, 0.5947100000000001, 0.76171, 0.59577, 0.64232, 0.56844, 0.51076, 0.5211600000000001, 0.31048000000000003, 0.6299399999999999], \"yaxis\": \"y\"}, {\"hovertemplate\": \"<b>%{hovertext}</b><br><br>Region=Latin America and Caribbean<br>Score=%{x}<br>Healthy life expectancy=%{y}<extra></extra>\", \"hovertext\": [\"Costa Rica\", \"Puerto Rico\", \"Brazil\", \"Mexico\", \"Chile\", \"Panama\", \"Argentina\", \"Uruguay\", \"Colombia\", \"Guatemala\", \"Suriname\", \"Trinidad and Tobago\", \"Venezuela\", \"El Salvador\", \"Nicaragua\", \"Ecuador\", \"Belize\", \"Bolivia\", \"Peru\", \"Paraguay\", \"Jamaica\", \"Dominican Republic\", \"Honduras\", \"Haiti\"], \"legendgroup\": \"Latin America and Caribbean\", \"marker\": {\"color\": \"#FFA15A\", \"line\": {\"color\": \"DarkSlateGrey\", \"width\": 1}, \"size\": 10, \"symbol\": \"circle\"}, \"mode\": \"markers\", \"name\": \"Latin America and Caribbean\", \"orientation\": \"v\", \"showlegend\": true, \"type\": \"scatter\", \"x\": [7.087000000000001, 7.039, 6.952000000000001, 6.778, 6.705, 6.7010000000000005, 6.65, 6.545, 6.481, 6.324, 6.269, 6.167999999999999, 6.084, 6.068, 5.992000000000001, 5.976, 5.956, 5.822, 5.742999999999999, 5.537999999999999, 5.51, 5.155, 4.871, 4.0280000000000005], \"xaxis\": \"x\", \"y\": [0.76146, 0.77758, 0.61415, 0.71143, 0.8188300000000001, 0.70835, 0.69711, 0.72183, 0.59659, 0.5403899999999999, 0.5093300000000001, 0.52608, 0.6190399999999999, 0.596, 0.65213, 0.68613, 0.45569, 0.4697, 0.6299399999999999, 0.58295, 0.5946899999999999, 0.5766899999999999, 0.5838300000000001, 0.27494], \"yaxis\": \"y\"}, {\"hovertemplate\": \"<b>%{hovertext}</b><br><br>Region=Asia<br>Score=%{x}<br>Healthy life expectancy=%{y}<extra></extra>\", \"hovertext\": [\"Singapore\", \"Thailand\", \"Taiwan\", \"Malaysia\", \"Japan\", \"South Korea\", \"Hong Kong\", \"Indonesia\", \"Philippines\", \"China\", \"Bhutan\", \"Pakistan\", \"Vietnam\", \"Mongolia\", \"Laos\", \"Nepal\", \"Bangladesh\", \"Sri Lanka\", \"India\", \"Myanmar\", \"Cambodia\", \"Afghanistan\"], \"legendgroup\": \"Asia\", \"marker\": {\"color\": \"#19d3f3\", \"line\": {\"color\": \"DarkSlateGrey\", \"width\": 1}, \"size\": 10, \"symbol\": \"circle\"}, \"mode\": \"markers\", \"name\": \"Asia\", \"orientation\": \"v\", \"showlegend\": true, \"type\": \"scatter\", \"x\": [6.739, 6.474, 6.379, 6.005, 5.921, 5.835, 5.457999999999999, 5.314, 5.279, 5.245, 5.196000000000001, 5.132000000000001, 5.061, 4.907, 4.876, 4.793, 4.643, 4.415, 4.404, 4.395, 3.907, 3.36], \"xaxis\": \"x\", \"y\": [0.94719, 0.64915, 0.79565, 0.62366, 0.91491, 0.88645, 0.9527700000000001, 0.49373999999999996, 0.47036000000000006, 0.73561, 0.49759, 0.40306, 0.66157, 0.55469, 0.38291, 0.50073, 0.52989, 0.62007, 0.45091000000000003, 0.3988, 0.42494, 0.17344], \"yaxis\": \"y\"}, {\"hovertemplate\": \"<b>%{hovertext}</b><br><br>Region=Sub-Saharan Africa<br>Score=%{x}<br>Healthy life expectancy=%{y}<extra></extra>\", \"hovertext\": [\"Mauritius\", \"Somalia\", \"Somaliland Region\", \"Nigeria\", \"Zambia\", \"Sierra Leone\", \"Namibia\", \"Cameroon\", \"Ethiopia\", \"South Africa\", \"Kenya\", \"Ghana\", \"Congo (Kinshasa)\", \"Congo (Brazzaville)\", \"Senegal\", \"Mauritania\", \"Zimbabwe\", \"Malawi\", \"Sudan\", \"Gabon\", \"Mali\", \"Botswana\", \"Comoros\", \"Ivory Coast\", \"Angola\", \"Niger\", \"South Sudan\", \"Chad\", \"Burkina Faso\", \"Uganda\", \"Madagascar\", \"Tanzania\", \"Liberia\", \"Guinea\", \"Rwanda\", \"Benin\", \"Togo\", \"Burundi\"], \"legendgroup\": \"Sub-Saharan Africa\", \"marker\": {\"color\": \"#FF6692\", \"line\": {\"color\": \"DarkSlateGrey\", \"width\": 1}, \"size\": 10, \"symbol\": \"circle\"}, \"mode\": \"markers\", \"name\": \"Sub-Saharan Africa\", \"orientation\": \"v\", \"showlegend\": true, \"type\": \"scatter\", \"x\": [5.648, 5.44, 5.0569999999999995, 4.875, 4.795, 4.635, 4.574, 4.513, 4.508, 4.459, 4.356, 4.276, 4.272, 4.236000000000001, 4.218999999999999, 4.2010000000000005, 4.1930000000000005, 4.156000000000001, 4.138999999999999, 4.121, 4.073, 3.9739999999999998, 3.9560000000000004, 3.9160000000000004, 3.866, 3.8560000000000003, 3.832, 3.763, 3.739, 3.739, 3.695, 3.6660000000000004, 3.622, 3.6069999999999998, 3.515, 3.484, 3.303, 2.905], \"xaxis\": \"x\", \"y\": [0.66189, 0.11465999999999998, 0.33108000000000004, 0.05108, 0.23573000000000002, 0.0, 0.34745, 0.12697999999999998, 0.34578000000000003, 0.18611, 0.30146999999999996, 0.29681, 0.188, 0.28212, 0.40457, 0.28639000000000003, 0.1595, 0.29364, 0.29759, 0.3494, 0.16347, 0.34752, 0.29980999999999997, 0.04476, 0.04991, 0.26161999999999996, 0.15780999999999998, 0.038239999999999996, 0.21297, 0.19625, 0.37109000000000003, 0.35700000000000004, 0.23165, 0.18829, 0.31865, 0.21028000000000002, 0.24811, 0.15747], \"yaxis\": \"y\"}],                        {\"height\": 600, \"legend\": {\"title\": {\"text\": \"Region\"}, \"tracegroupgap\": 0}, \"template\": {\"data\": {\"bar\": [{\"error_x\": {\"color\": \"#2a3f5f\"}, \"error_y\": {\"color\": \"#2a3f5f\"}, \"marker\": {\"line\": {\"color\": \"#E5ECF6\", \"width\": 0.5}}, \"type\": \"bar\"}], \"barpolar\": [{\"marker\": {\"line\": {\"color\": \"#E5ECF6\", \"width\": 0.5}}, \"type\": \"barpolar\"}], \"carpet\": [{\"aaxis\": {\"endlinecolor\": \"#2a3f5f\", \"gridcolor\": \"white\", \"linecolor\": \"white\", \"minorgridcolor\": \"white\", \"startlinecolor\": \"#2a3f5f\"}, \"baxis\": {\"endlinecolor\": \"#2a3f5f\", \"gridcolor\": \"white\", \"linecolor\": \"white\", \"minorgridcolor\": \"white\", \"startlinecolor\": \"#2a3f5f\"}, \"type\": \"carpet\"}], \"choropleth\": [{\"colorbar\": {\"outlinewidth\": 0, \"ticks\": \"\"}, \"type\": \"choropleth\"}], \"contour\": [{\"colorbar\": {\"outlinewidth\": 0, \"ticks\": \"\"}, \"colorscale\": [[0.0, \"#0d0887\"], [0.1111111111111111, \"#46039f\"], [0.2222222222222222, \"#7201a8\"], [0.3333333333333333, \"#9c179e\"], [0.4444444444444444, \"#bd3786\"], [0.5555555555555556, \"#d8576b\"], [0.6666666666666666, \"#ed7953\"], [0.7777777777777778, \"#fb9f3a\"], [0.8888888888888888, \"#fdca26\"], [1.0, \"#f0f921\"]], \"type\": \"contour\"}], \"contourcarpet\": [{\"colorbar\": {\"outlinewidth\": 0, \"ticks\": \"\"}, \"type\": \"contourcarpet\"}], \"heatmap\": [{\"colorbar\": {\"outlinewidth\": 0, \"ticks\": \"\"}, \"colorscale\": [[0.0, \"#0d0887\"], [0.1111111111111111, \"#46039f\"], [0.2222222222222222, \"#7201a8\"], [0.3333333333333333, \"#9c179e\"], [0.4444444444444444, \"#bd3786\"], [0.5555555555555556, \"#d8576b\"], [0.6666666666666666, \"#ed7953\"], [0.7777777777777778, \"#fb9f3a\"], [0.8888888888888888, \"#fdca26\"], [1.0, \"#f0f921\"]], \"type\": \"heatmap\"}], \"heatmapgl\": [{\"colorbar\": {\"outlinewidth\": 0, \"ticks\": \"\"}, \"colorscale\": [[0.0, \"#0d0887\"], [0.1111111111111111, \"#46039f\"], [0.2222222222222222, \"#7201a8\"], [0.3333333333333333, \"#9c179e\"], [0.4444444444444444, \"#bd3786\"], [0.5555555555555556, \"#d8576b\"], [0.6666666666666666, \"#ed7953\"], [0.7777777777777778, \"#fb9f3a\"], [0.8888888888888888, \"#fdca26\"], [1.0, \"#f0f921\"]], \"type\": \"heatmapgl\"}], \"histogram\": [{\"marker\": {\"colorbar\": {\"outlinewidth\": 0, \"ticks\": \"\"}}, \"type\": \"histogram\"}], \"histogram2d\": [{\"colorbar\": {\"outlinewidth\": 0, \"ticks\": \"\"}, \"colorscale\": [[0.0, \"#0d0887\"], [0.1111111111111111, \"#46039f\"], [0.2222222222222222, \"#7201a8\"], [0.3333333333333333, \"#9c179e\"], [0.4444444444444444, \"#bd3786\"], [0.5555555555555556, \"#d8576b\"], [0.6666666666666666, \"#ed7953\"], [0.7777777777777778, \"#fb9f3a\"], [0.8888888888888888, \"#fdca26\"], [1.0, \"#f0f921\"]], \"type\": \"histogram2d\"}], \"histogram2dcontour\": [{\"colorbar\": {\"outlinewidth\": 0, \"ticks\": \"\"}, \"colorscale\": [[0.0, \"#0d0887\"], [0.1111111111111111, \"#46039f\"], [0.2222222222222222, \"#7201a8\"], [0.3333333333333333, \"#9c179e\"], [0.4444444444444444, \"#bd3786\"], [0.5555555555555556, \"#d8576b\"], [0.6666666666666666, \"#ed7953\"], [0.7777777777777778, \"#fb9f3a\"], [0.8888888888888888, \"#fdca26\"], [1.0, \"#f0f921\"]], \"type\": \"histogram2dcontour\"}], \"mesh3d\": [{\"colorbar\": {\"outlinewidth\": 0, \"ticks\": \"\"}, \"type\": \"mesh3d\"}], \"parcoords\": [{\"line\": {\"colorbar\": {\"outlinewidth\": 0, \"ticks\": \"\"}}, \"type\": \"parcoords\"}], \"pie\": [{\"automargin\": true, \"type\": \"pie\"}], \"scatter\": [{\"marker\": {\"colorbar\": {\"outlinewidth\": 0, \"ticks\": \"\"}}, \"type\": \"scatter\"}], \"scatter3d\": [{\"line\": {\"colorbar\": {\"outlinewidth\": 0, \"ticks\": \"\"}}, \"marker\": {\"colorbar\": {\"outlinewidth\": 0, \"ticks\": \"\"}}, \"type\": \"scatter3d\"}], \"scattercarpet\": [{\"marker\": {\"colorbar\": {\"outlinewidth\": 0, \"ticks\": \"\"}}, \"type\": \"scattercarpet\"}], \"scattergeo\": [{\"marker\": {\"colorbar\": {\"outlinewidth\": 0, \"ticks\": \"\"}}, \"type\": \"scattergeo\"}], \"scattergl\": [{\"marker\": {\"colorbar\": {\"outlinewidth\": 0, \"ticks\": \"\"}}, \"type\": \"scattergl\"}], \"scattermapbox\": [{\"marker\": {\"colorbar\": {\"outlinewidth\": 0, \"ticks\": \"\"}}, \"type\": \"scattermapbox\"}], \"scatterpolar\": [{\"marker\": {\"colorbar\": {\"outlinewidth\": 0, \"ticks\": \"\"}}, \"type\": \"scatterpolar\"}], \"scatterpolargl\": [{\"marker\": {\"colorbar\": {\"outlinewidth\": 0, \"ticks\": \"\"}}, \"type\": \"scatterpolargl\"}], \"scatterternary\": [{\"marker\": {\"colorbar\": {\"outlinewidth\": 0, \"ticks\": \"\"}}, \"type\": \"scatterternary\"}], \"surface\": [{\"colorbar\": {\"outlinewidth\": 0, \"ticks\": \"\"}, \"colorscale\": [[0.0, \"#0d0887\"], [0.1111111111111111, \"#46039f\"], [0.2222222222222222, \"#7201a8\"], [0.3333333333333333, \"#9c179e\"], [0.4444444444444444, \"#bd3786\"], [0.5555555555555556, \"#d8576b\"], [0.6666666666666666, \"#ed7953\"], [0.7777777777777778, \"#fb9f3a\"], [0.8888888888888888, \"#fdca26\"], [1.0, \"#f0f921\"]], \"type\": \"surface\"}], \"table\": [{\"cells\": {\"fill\": {\"color\": \"#EBF0F8\"}, \"line\": {\"color\": \"white\"}}, \"header\": {\"fill\": {\"color\": \"#C8D4E3\"}, \"line\": {\"color\": \"white\"}}, \"type\": \"table\"}]}, \"layout\": {\"annotationdefaults\": {\"arrowcolor\": \"#2a3f5f\", \"arrowhead\": 0, \"arrowwidth\": 1}, \"autotypenumbers\": \"strict\", \"coloraxis\": {\"colorbar\": {\"outlinewidth\": 0, \"ticks\": \"\"}}, \"colorscale\": {\"diverging\": [[0, \"#8e0152\"], [0.1, \"#c51b7d\"], [0.2, \"#de77ae\"], [0.3, \"#f1b6da\"], [0.4, \"#fde0ef\"], [0.5, \"#f7f7f7\"], [0.6, \"#e6f5d0\"], [0.7, \"#b8e186\"], [0.8, \"#7fbc41\"], [0.9, \"#4d9221\"], [1, \"#276419\"]], \"sequential\": [[0.0, \"#0d0887\"], [0.1111111111111111, \"#46039f\"], [0.2222222222222222, \"#7201a8\"], [0.3333333333333333, \"#9c179e\"], [0.4444444444444444, \"#bd3786\"], [0.5555555555555556, \"#d8576b\"], [0.6666666666666666, \"#ed7953\"], [0.7777777777777778, \"#fb9f3a\"], [0.8888888888888888, \"#fdca26\"], [1.0, \"#f0f921\"]], \"sequentialminus\": [[0.0, \"#0d0887\"], [0.1111111111111111, \"#46039f\"], [0.2222222222222222, \"#7201a8\"], [0.3333333333333333, \"#9c179e\"], [0.4444444444444444, \"#bd3786\"], [0.5555555555555556, \"#d8576b\"], [0.6666666666666666, \"#ed7953\"], [0.7777777777777778, \"#fb9f3a\"], [0.8888888888888888, \"#fdca26\"], [1.0, \"#f0f921\"]]}, \"colorway\": [\"#636efa\", \"#EF553B\", \"#00cc96\", \"#ab63fa\", \"#FFA15A\", \"#19d3f3\", \"#FF6692\", \"#B6E880\", \"#FF97FF\", \"#FECB52\"], \"font\": {\"color\": \"#2a3f5f\"}, \"geo\": {\"bgcolor\": \"white\", \"lakecolor\": \"white\", \"landcolor\": \"#E5ECF6\", \"showlakes\": true, \"showland\": true, \"subunitcolor\": \"white\"}, \"hoverlabel\": {\"align\": \"left\"}, \"hovermode\": \"closest\", \"mapbox\": {\"style\": \"light\"}, \"paper_bgcolor\": \"white\", \"plot_bgcolor\": \"#E5ECF6\", \"polar\": {\"angularaxis\": {\"gridcolor\": \"white\", \"linecolor\": \"white\", \"ticks\": \"\"}, \"bgcolor\": \"#E5ECF6\", \"radialaxis\": {\"gridcolor\": \"white\", \"linecolor\": \"white\", \"ticks\": \"\"}}, \"scene\": {\"xaxis\": {\"backgroundcolor\": \"#E5ECF6\", \"gridcolor\": \"white\", \"gridwidth\": 2, \"linecolor\": \"white\", \"showbackground\": true, \"ticks\": \"\", \"zerolinecolor\": \"white\"}, \"yaxis\": {\"backgroundcolor\": \"#E5ECF6\", \"gridcolor\": \"white\", \"gridwidth\": 2, \"linecolor\": \"white\", \"showbackground\": true, \"ticks\": \"\", \"zerolinecolor\": \"white\"}, \"zaxis\": {\"backgroundcolor\": \"#E5ECF6\", \"gridcolor\": \"white\", \"gridwidth\": 2, \"linecolor\": \"white\", \"showbackground\": true, \"ticks\": \"\", \"zerolinecolor\": \"white\"}}, \"shapedefaults\": {\"line\": {\"color\": \"#2a3f5f\"}}, \"ternary\": {\"aaxis\": {\"gridcolor\": \"white\", \"linecolor\": \"white\", \"ticks\": \"\"}, \"baxis\": {\"gridcolor\": \"white\", \"linecolor\": \"white\", \"ticks\": \"\"}, \"bgcolor\": \"#E5ECF6\", \"caxis\": {\"gridcolor\": \"white\", \"linecolor\": \"white\", \"ticks\": \"\"}}, \"title\": {\"x\": 0.05}, \"xaxis\": {\"automargin\": true, \"gridcolor\": \"white\", \"linecolor\": \"white\", \"ticks\": \"\", \"title\": {\"standoff\": 15}, \"zerolinecolor\": \"white\", \"zerolinewidth\": 2}, \"yaxis\": {\"automargin\": true, \"gridcolor\": \"white\", \"linecolor\": \"white\", \"ticks\": \"\", \"title\": {\"standoff\": 15}, \"zerolinecolor\": \"white\", \"zerolinewidth\": 2}}}, \"title\": {\"text\": \"Happiness Score compared to Healthy Life Expectancy Score\"}, \"width\": 1000, \"xaxis\": {\"anchor\": \"y\", \"domain\": [0.0, 1.0], \"range\": [0, 8], \"title\": {\"text\": \"Happiness Score\"}}, \"yaxis\": {\"anchor\": \"x\", \"domain\": [0.0, 1.0], \"title\": {\"text\": \"Healthy Life Expectancy\"}}},                        {\"responsive\": true}                    ).then(function(){\n",
       "                            \n",
       "var gd = document.getElementById('c60de70c-fe0c-4c72-bcab-11caa9414907');\n",
       "var x = new MutationObserver(function (mutations, observer) {{\n",
       "        var display = window.getComputedStyle(gd).display;\n",
       "        if (!display || display === 'none') {{\n",
       "            console.log([gd, 'removed!']);\n",
       "            Plotly.purge(gd);\n",
       "            observer.disconnect();\n",
       "        }}\n",
       "}});\n",
       "\n",
       "// Listen for the removal of the full notebook cells\n",
       "var notebookContainer = gd.closest('#notebook-container');\n",
       "if (notebookContainer) {{\n",
       "    x.observe(notebookContainer, {childList: true});\n",
       "}}\n",
       "\n",
       "// Listen for the clearing of the current output cell\n",
       "var outputEl = gd.closest('.output');\n",
       "if (outputEl) {{\n",
       "    x.observe(outputEl, {childList: true});\n",
       "}}\n",
       "\n",
       "                        })                };                });            </script>        </div>"
      ]
     },
     "metadata": {},
     "output_type": "display_data"
    }
   ],
   "source": [
    "#happiness score vs healthy life expectancy\n",
    "\n",
    "#establish x and y values\n",
    "x_values = csv_2016_restructured[\"Score\"]\n",
    "y_values = csv_2016_restructured[\"Healthy life expectancy\"]\n",
    "\n",
    "df = px.data.iris() # iris is a pandas DataFrame\n",
    "\n",
    "#px.scatter\n",
    "fig = px.scatter(csv_2016_restructured, x_values, y_values, color=\"Region\", hover_name=\"Country\",\n",
    "                range_x=[0,8], title=\"Happiness Score compared to Healthy Life Expectancy Score\",\n",
    "                width= 1000, height =600) # use trendline=\"ols\" to see all lin reg equations\n",
    "\n",
    "#set axes labels\n",
    "fig.update_xaxes(title_text='Happiness Score')\n",
    "fig.update_yaxes(title_text='Healthy Life Expectancy')\n",
    "\n",
    "\n",
    "#formatting\n",
    "#marker size and colors\n",
    "fig.update_traces(marker=dict(size=10,\n",
    "                              line=dict(width=1, \n",
    "                                        color='DarkSlateGrey')))\n",
    "\n",
    "\n",
    "#linear regression\n",
    "#use linregress from dependencies to inplement linear regression\n",
    "(slope, intercept, rvalue, pvalue, stderr) = linregress(x_values, y_values)\n",
    "regress_values = x_values * slope + intercept\n",
    "\n",
    "#print out all variables calculated above (rvalue, pvalue...)\n",
    "print(f\"slope:{round(slope, 2)}\")\n",
    "print(f\"intercept:{round(intercept,2)}\")\n",
    "res = sts.linregress(x_values, y_values)\n",
    "print(f\"R-squared: {res.rvalue**2:.4f}\")\n",
    "\n",
    "\n",
    "#print out line eq for reference\n",
    "line_eq = (f\"y={round(slope, 2)}x + {round(intercept, 2)}\")\n",
    "print(line_eq)\n",
    "\n",
    "fig.show()"
   ]
  },
  {
   "cell_type": "code",
   "execution_count": 15,
   "metadata": {},
   "outputs": [
    {
     "name": "stdout",
     "output_type": "stream",
     "text": [
      "slope:0.07\n",
      "intercept:-0.02\n",
      "R-squared: 0.3213\n",
      "y=0.07x + -0.02\n"
     ]
    },
    {
     "data": {
      "application/vnd.plotly.v1+json": {
       "config": {
        "plotlyServerURL": "https://plot.ly"
       },
       "data": [
        {
         "hovertemplate": "<b>%{hovertext}</b><br><br>Region=Europe<br>Score=%{x}<br>Freedom to make life choices=%{y}<extra></extra>",
         "hovertext": [
          "Denmark",
          "Switzerland",
          "Iceland",
          "Norway",
          "Finland",
          "Netherlands",
          "Sweden",
          "Austria",
          "Germany",
          "Belgium",
          "Ireland",
          "Luxembourg",
          "United Kingdom",
          "Czech Republic",
          "Malta",
          "France",
          "Spain",
          "Slovakia",
          "Uzbekistan",
          "Italy",
          "Kazakhstan",
          "Moldova",
          "Russia",
          "Poland",
          "Lithuania",
          "Belarus",
          "North Cyprus",
          "Slovenia",
          "Turkmenistan",
          "Latvia",
          "Cyprus",
          "Romania",
          "Estonia",
          "Croatia",
          "Kosovo",
          "Azerbaijan",
          "Kyrgyzstan",
          "Serbia",
          "Bosnia and Herzegovina",
          "Montenegro",
          "Hungary",
          "Portugal",
          "Macedonia",
          "Greece",
          "Tajikistan",
          "Albania",
          "Armenia",
          "Ukraine",
          "Georgia",
          "Bulgaria"
         ],
         "legendgroup": "Europe",
         "marker": {
          "color": "#636efa",
          "line": {
           "color": "DarkSlateGrey",
           "width": 1
          },
          "size": 10,
          "symbol": "circle"
         },
         "mode": "markers",
         "name": "Europe",
         "orientation": "v",
         "showlegend": true,
         "type": "scatter",
         "x": [
          7.526,
          7.5089999999999995,
          7.501,
          7.497999999999999,
          7.412999999999999,
          7.3389999999999995,
          7.291,
          7.119,
          6.994,
          6.928999999999999,
          6.907,
          6.871,
          6.725,
          6.596,
          6.4879999999999995,
          6.478,
          6.361000000000001,
          6.077999999999999,
          5.987,
          5.977,
          5.919,
          5.897,
          5.856,
          5.835,
          5.813,
          5.8020000000000005,
          5.771,
          5.768,
          5.6579999999999995,
          5.56,
          5.546,
          5.528,
          5.517,
          5.4879999999999995,
          5.401,
          5.291,
          5.185,
          5.1770000000000005,
          5.162999999999999,
          5.1610000000000005,
          5.145,
          5.122999999999999,
          5.121,
          5.033,
          4.996,
          4.655,
          4.36,
          4.324,
          4.252,
          4.217
         ],
         "xaxis": "x",
         "y": [
          0.5794100000000001,
          0.58557,
          0.56624,
          0.59609,
          0.57104,
          0.55211,
          0.58218,
          0.54355,
          0.53466,
          0.51354,
          0.54008,
          0.5487,
          0.50036,
          0.41418,
          0.54994,
          0.46562,
          0.37545,
          0.23390999999999998,
          0.60848,
          0.18827,
          0.4052,
          0.25201999999999997,
          0.32682,
          0.4519,
          0.18929,
          0.29091,
          0.43596,
          0.53164,
          0.37408,
          0.27996,
          0.29507,
          0.36712,
          0.41511000000000003,
          0.23906999999999998,
          0.14396,
          0.35327,
          0.40212,
          0.15718,
          0.09511,
          0.15111,
          0.1977,
          0.44727,
          0.27668000000000004,
          0.05822000000000001,
          0.43408,
          0.31866,
          0.14037,
          0.12859,
          0.32461,
          0.21219000000000002
         ],
         "yaxis": "y"
        },
        {
         "hovertemplate": "<b>%{hovertext}</b><br><br>Region=North America<br>Score=%{x}<br>Freedom to make life choices=%{y}<extra></extra>",
         "hovertext": [
          "Canada",
          "United States"
         ],
         "legendgroup": "North America",
         "marker": {
          "color": "#EF553B",
          "line": {
           "color": "DarkSlateGrey",
           "width": 1
          },
          "size": 10,
          "symbol": "circle"
         },
         "mode": "markers",
         "name": "North America",
         "orientation": "v",
         "showlegend": true,
         "type": "scatter",
         "x": [
          7.404,
          7.104
         ],
         "xaxis": "x",
         "y": [
          0.5737,
          0.48163
         ],
         "yaxis": "y"
        },
        {
         "hovertemplate": "<b>%{hovertext}</b><br><br>Region=Australia and New Zealand<br>Score=%{x}<br>Freedom to make life choices=%{y}<extra></extra>",
         "hovertext": [
          "New Zealand",
          "Australia"
         ],
         "legendgroup": "Australia and New Zealand",
         "marker": {
          "color": "#00cc96",
          "line": {
           "color": "DarkSlateGrey",
           "width": 1
          },
          "size": 10,
          "symbol": "circle"
         },
         "mode": "markers",
         "name": "Australia and New Zealand",
         "orientation": "v",
         "showlegend": true,
         "type": "scatter",
         "x": [
          7.334,
          7.313
         ],
         "xaxis": "x",
         "y": [
          0.5814699999999999,
          0.5683699999999999
         ],
         "yaxis": "y"
        },
        {
         "hovertemplate": "<b>%{hovertext}</b><br><br>Region=Middle East and Northern Africa<br>Score=%{x}<br>Freedom to make life choices=%{y}<extra></extra>",
         "hovertext": [
          "Israel",
          "United Arab Emirates",
          "Saudi Arabia",
          "Qatar",
          "Algeria",
          "Kuwait",
          "Bahrain",
          "Libya",
          "Turkey",
          "Jordan",
          "Morocco",
          "Lebanon",
          "Tunisia",
          "Iran",
          "Palestinian Territories",
          "Iraq",
          "Egypt",
          "Yemen",
          "Syria"
         ],
         "legendgroup": "Middle East and Northern Africa",
         "marker": {
          "color": "#ab63fa",
          "line": {
           "color": "DarkSlateGrey",
           "width": 1
          },
          "size": 10,
          "symbol": "circle"
         },
         "mode": "markers",
         "name": "Middle East and Northern Africa",
         "orientation": "v",
         "showlegend": true,
         "type": "scatter",
         "x": [
          7.267,
          6.5729999999999995,
          6.379,
          6.375,
          6.355,
          6.239,
          6.218,
          5.615,
          5.388999999999999,
          5.303,
          5.151,
          5.129,
          5.045,
          4.813,
          4.754,
          4.575,
          4.362,
          3.7239999999999998,
          3.069
         ],
         "xaxis": "x",
         "y": [
          0.36432,
          0.56215,
          0.37904,
          0.56679,
          0.21006,
          0.43166000000000004,
          0.47375,
          0.40671999999999997,
          0.23889000000000002,
          0.36023,
          0.25645999999999997,
          0.26228,
          0.23553000000000002,
          0.22544,
          0.17744000000000001,
          0.24856,
          0.18847,
          0.2287,
          0.06912
         ],
         "yaxis": "y"
        },
        {
         "hovertemplate": "<b>%{hovertext}</b><br><br>Region=Latin America and Caribbean<br>Score=%{x}<br>Freedom to make life choices=%{y}<extra></extra>",
         "hovertext": [
          "Costa Rica",
          "Puerto Rico",
          "Brazil",
          "Mexico",
          "Chile",
          "Panama",
          "Argentina",
          "Uruguay",
          "Colombia",
          "Guatemala",
          "Suriname",
          "Trinidad and Tobago",
          "Venezuela",
          "El Salvador",
          "Nicaragua",
          "Ecuador",
          "Belize",
          "Bolivia",
          "Peru",
          "Paraguay",
          "Jamaica",
          "Dominican Republic",
          "Honduras",
          "Haiti"
         ],
         "legendgroup": "Latin America and Caribbean",
         "marker": {
          "color": "#FFA15A",
          "line": {
           "color": "DarkSlateGrey",
           "width": 1
          },
          "size": 10,
          "symbol": "circle"
         },
         "mode": "markers",
         "name": "Latin America and Caribbean",
         "orientation": "v",
         "showlegend": true,
         "type": "scatter",
         "x": [
          7.087000000000001,
          7.039,
          6.952000000000001,
          6.778,
          6.705,
          6.7010000000000005,
          6.65,
          6.545,
          6.481,
          6.324,
          6.269,
          6.167999999999999,
          6.084,
          6.068,
          5.992000000000001,
          5.976,
          5.956,
          5.822,
          5.742999999999999,
          5.537999999999999,
          5.51,
          5.155,
          4.871,
          4.0280000000000005
         ],
         "xaxis": "x",
         "y": [
          0.55225,
          0.46823000000000004,
          0.40425,
          0.37709000000000004,
          0.37789,
          0.48927,
          0.42283999999999994,
          0.54388,
          0.44735,
          0.50379,
          0.5223399999999999,
          0.48453,
          0.19847,
          0.37269,
          0.46581999999999996,
          0.4027,
          0.51231,
          0.50961,
          0.37501999999999996,
          0.46235,
          0.43596999999999997,
          0.52259,
          0.26755,
          0.12072000000000001
         ],
         "yaxis": "y"
        },
        {
         "hovertemplate": "<b>%{hovertext}</b><br><br>Region=Asia<br>Score=%{x}<br>Freedom to make life choices=%{y}<extra></extra>",
         "hovertext": [
          "Singapore",
          "Thailand",
          "Taiwan",
          "Malaysia",
          "Japan",
          "South Korea",
          "Hong Kong",
          "Indonesia",
          "Philippines",
          "China",
          "Bhutan",
          "Pakistan",
          "Vietnam",
          "Mongolia",
          "Laos",
          "Nepal",
          "Bangladesh",
          "Sri Lanka",
          "India",
          "Myanmar",
          "Cambodia",
          "Afghanistan"
         ],
         "legendgroup": "Asia",
         "marker": {
          "color": "#19d3f3",
          "line": {
           "color": "DarkSlateGrey",
           "width": 1
          },
          "size": 10,
          "symbol": "circle"
         },
         "mode": "markers",
         "name": "Asia",
         "orientation": "v",
         "showlegend": true,
         "type": "scatter",
         "x": [
          6.739,
          6.474,
          6.379,
          6.005,
          5.921,
          5.835,
          5.457999999999999,
          5.314,
          5.279,
          5.245,
          5.196000000000001,
          5.132000000000001,
          5.061,
          4.907,
          4.876,
          4.793,
          4.643,
          4.415,
          4.404,
          4.395,
          3.907,
          3.36
         ],
         "xaxis": "x",
         "y": [
          0.4877,
          0.49553,
          0.32377,
          0.39031,
          0.46761,
          0.25168,
          0.48078999999999994,
          0.39237,
          0.5485399999999999,
          0.44011999999999996,
          0.46074,
          0.14622000000000002,
          0.5595399999999999,
          0.35972,
          0.52168,
          0.37012,
          0.39778,
          0.50817,
          0.40285,
          0.42691999999999997,
          0.5885199999999999,
          0.1643
         ],
         "yaxis": "y"
        },
        {
         "hovertemplate": "<b>%{hovertext}</b><br><br>Region=Sub-Saharan Africa<br>Score=%{x}<br>Freedom to make life choices=%{y}<extra></extra>",
         "hovertext": [
          "Mauritius",
          "Somalia",
          "Somaliland Region",
          "Nigeria",
          "Zambia",
          "Sierra Leone",
          "Namibia",
          "Cameroon",
          "Ethiopia",
          "South Africa",
          "Kenya",
          "Ghana",
          "Congo (Kinshasa)",
          "Congo (Brazzaville)",
          "Senegal",
          "Mauritania",
          "Zimbabwe",
          "Malawi",
          "Sudan",
          "Gabon",
          "Mali",
          "Botswana",
          "Comoros",
          "Ivory Coast",
          "Angola",
          "Niger",
          "South Sudan",
          "Chad",
          "Burkina Faso",
          "Uganda",
          "Madagascar",
          "Tanzania",
          "Liberia",
          "Guinea",
          "Rwanda",
          "Benin",
          "Togo",
          "Burundi"
         ],
         "legendgroup": "Sub-Saharan Africa",
         "marker": {
          "color": "#FF6692",
          "line": {
           "color": "DarkSlateGrey",
           "width": 1
          },
          "size": 10,
          "symbol": "circle"
         },
         "mode": "markers",
         "name": "Sub-Saharan Africa",
         "orientation": "v",
         "showlegend": true,
         "type": "scatter",
         "x": [
          5.648,
          5.44,
          5.0569999999999995,
          4.875,
          4.795,
          4.635,
          4.574,
          4.513,
          4.508,
          4.459,
          4.356,
          4.276,
          4.272,
          4.236000000000001,
          4.218999999999999,
          4.2010000000000005,
          4.1930000000000005,
          4.156000000000001,
          4.138999999999999,
          4.121,
          4.073,
          3.9739999999999998,
          3.9560000000000004,
          3.9160000000000004,
          3.866,
          3.8560000000000003,
          3.832,
          3.763,
          3.739,
          3.739,
          3.695,
          3.6660000000000004,
          3.622,
          3.6069999999999998,
          3.515,
          3.484,
          3.303,
          2.905
         ],
         "xaxis": "x",
         "y": [
          0.46145,
          0.5677800000000001,
          0.3913,
          0.27854,
          0.42662,
          0.30685,
          0.48613999999999996,
          0.42736,
          0.36703,
          0.42483000000000004,
          0.40576,
          0.40973000000000004,
          0.15602,
          0.37938,
          0.31056,
          0.1268,
          0.25429,
          0.4143,
          0,
          0.28098,
          0.27544,
          0.44088999999999995,
          0.15412,
          0.40663,
          0.00589,
          0.38040999999999997,
          0.19662000000000002,
          0.12807000000000002,
          0.3337,
          0.43653000000000003,
          0.13684000000000002,
          0.3176,
          0.25748000000000004,
          0.30953,
          0.5432,
          0.39747,
          0.34678000000000003,
          0.0432
         ],
         "yaxis": "y"
        }
       ],
       "layout": {
        "height": 600,
        "legend": {
         "title": {
          "text": "Region"
         },
         "tracegroupgap": 0
        },
        "template": {
         "data": {
          "bar": [
           {
            "error_x": {
             "color": "#2a3f5f"
            },
            "error_y": {
             "color": "#2a3f5f"
            },
            "marker": {
             "line": {
              "color": "#E5ECF6",
              "width": 0.5
             }
            },
            "type": "bar"
           }
          ],
          "barpolar": [
           {
            "marker": {
             "line": {
              "color": "#E5ECF6",
              "width": 0.5
             }
            },
            "type": "barpolar"
           }
          ],
          "carpet": [
           {
            "aaxis": {
             "endlinecolor": "#2a3f5f",
             "gridcolor": "white",
             "linecolor": "white",
             "minorgridcolor": "white",
             "startlinecolor": "#2a3f5f"
            },
            "baxis": {
             "endlinecolor": "#2a3f5f",
             "gridcolor": "white",
             "linecolor": "white",
             "minorgridcolor": "white",
             "startlinecolor": "#2a3f5f"
            },
            "type": "carpet"
           }
          ],
          "choropleth": [
           {
            "colorbar": {
             "outlinewidth": 0,
             "ticks": ""
            },
            "type": "choropleth"
           }
          ],
          "contour": [
           {
            "colorbar": {
             "outlinewidth": 0,
             "ticks": ""
            },
            "colorscale": [
             [
              0,
              "#0d0887"
             ],
             [
              0.1111111111111111,
              "#46039f"
             ],
             [
              0.2222222222222222,
              "#7201a8"
             ],
             [
              0.3333333333333333,
              "#9c179e"
             ],
             [
              0.4444444444444444,
              "#bd3786"
             ],
             [
              0.5555555555555556,
              "#d8576b"
             ],
             [
              0.6666666666666666,
              "#ed7953"
             ],
             [
              0.7777777777777778,
              "#fb9f3a"
             ],
             [
              0.8888888888888888,
              "#fdca26"
             ],
             [
              1,
              "#f0f921"
             ]
            ],
            "type": "contour"
           }
          ],
          "contourcarpet": [
           {
            "colorbar": {
             "outlinewidth": 0,
             "ticks": ""
            },
            "type": "contourcarpet"
           }
          ],
          "heatmap": [
           {
            "colorbar": {
             "outlinewidth": 0,
             "ticks": ""
            },
            "colorscale": [
             [
              0,
              "#0d0887"
             ],
             [
              0.1111111111111111,
              "#46039f"
             ],
             [
              0.2222222222222222,
              "#7201a8"
             ],
             [
              0.3333333333333333,
              "#9c179e"
             ],
             [
              0.4444444444444444,
              "#bd3786"
             ],
             [
              0.5555555555555556,
              "#d8576b"
             ],
             [
              0.6666666666666666,
              "#ed7953"
             ],
             [
              0.7777777777777778,
              "#fb9f3a"
             ],
             [
              0.8888888888888888,
              "#fdca26"
             ],
             [
              1,
              "#f0f921"
             ]
            ],
            "type": "heatmap"
           }
          ],
          "heatmapgl": [
           {
            "colorbar": {
             "outlinewidth": 0,
             "ticks": ""
            },
            "colorscale": [
             [
              0,
              "#0d0887"
             ],
             [
              0.1111111111111111,
              "#46039f"
             ],
             [
              0.2222222222222222,
              "#7201a8"
             ],
             [
              0.3333333333333333,
              "#9c179e"
             ],
             [
              0.4444444444444444,
              "#bd3786"
             ],
             [
              0.5555555555555556,
              "#d8576b"
             ],
             [
              0.6666666666666666,
              "#ed7953"
             ],
             [
              0.7777777777777778,
              "#fb9f3a"
             ],
             [
              0.8888888888888888,
              "#fdca26"
             ],
             [
              1,
              "#f0f921"
             ]
            ],
            "type": "heatmapgl"
           }
          ],
          "histogram": [
           {
            "marker": {
             "colorbar": {
              "outlinewidth": 0,
              "ticks": ""
             }
            },
            "type": "histogram"
           }
          ],
          "histogram2d": [
           {
            "colorbar": {
             "outlinewidth": 0,
             "ticks": ""
            },
            "colorscale": [
             [
              0,
              "#0d0887"
             ],
             [
              0.1111111111111111,
              "#46039f"
             ],
             [
              0.2222222222222222,
              "#7201a8"
             ],
             [
              0.3333333333333333,
              "#9c179e"
             ],
             [
              0.4444444444444444,
              "#bd3786"
             ],
             [
              0.5555555555555556,
              "#d8576b"
             ],
             [
              0.6666666666666666,
              "#ed7953"
             ],
             [
              0.7777777777777778,
              "#fb9f3a"
             ],
             [
              0.8888888888888888,
              "#fdca26"
             ],
             [
              1,
              "#f0f921"
             ]
            ],
            "type": "histogram2d"
           }
          ],
          "histogram2dcontour": [
           {
            "colorbar": {
             "outlinewidth": 0,
             "ticks": ""
            },
            "colorscale": [
             [
              0,
              "#0d0887"
             ],
             [
              0.1111111111111111,
              "#46039f"
             ],
             [
              0.2222222222222222,
              "#7201a8"
             ],
             [
              0.3333333333333333,
              "#9c179e"
             ],
             [
              0.4444444444444444,
              "#bd3786"
             ],
             [
              0.5555555555555556,
              "#d8576b"
             ],
             [
              0.6666666666666666,
              "#ed7953"
             ],
             [
              0.7777777777777778,
              "#fb9f3a"
             ],
             [
              0.8888888888888888,
              "#fdca26"
             ],
             [
              1,
              "#f0f921"
             ]
            ],
            "type": "histogram2dcontour"
           }
          ],
          "mesh3d": [
           {
            "colorbar": {
             "outlinewidth": 0,
             "ticks": ""
            },
            "type": "mesh3d"
           }
          ],
          "parcoords": [
           {
            "line": {
             "colorbar": {
              "outlinewidth": 0,
              "ticks": ""
             }
            },
            "type": "parcoords"
           }
          ],
          "pie": [
           {
            "automargin": true,
            "type": "pie"
           }
          ],
          "scatter": [
           {
            "marker": {
             "colorbar": {
              "outlinewidth": 0,
              "ticks": ""
             }
            },
            "type": "scatter"
           }
          ],
          "scatter3d": [
           {
            "line": {
             "colorbar": {
              "outlinewidth": 0,
              "ticks": ""
             }
            },
            "marker": {
             "colorbar": {
              "outlinewidth": 0,
              "ticks": ""
             }
            },
            "type": "scatter3d"
           }
          ],
          "scattercarpet": [
           {
            "marker": {
             "colorbar": {
              "outlinewidth": 0,
              "ticks": ""
             }
            },
            "type": "scattercarpet"
           }
          ],
          "scattergeo": [
           {
            "marker": {
             "colorbar": {
              "outlinewidth": 0,
              "ticks": ""
             }
            },
            "type": "scattergeo"
           }
          ],
          "scattergl": [
           {
            "marker": {
             "colorbar": {
              "outlinewidth": 0,
              "ticks": ""
             }
            },
            "type": "scattergl"
           }
          ],
          "scattermapbox": [
           {
            "marker": {
             "colorbar": {
              "outlinewidth": 0,
              "ticks": ""
             }
            },
            "type": "scattermapbox"
           }
          ],
          "scatterpolar": [
           {
            "marker": {
             "colorbar": {
              "outlinewidth": 0,
              "ticks": ""
             }
            },
            "type": "scatterpolar"
           }
          ],
          "scatterpolargl": [
           {
            "marker": {
             "colorbar": {
              "outlinewidth": 0,
              "ticks": ""
             }
            },
            "type": "scatterpolargl"
           }
          ],
          "scatterternary": [
           {
            "marker": {
             "colorbar": {
              "outlinewidth": 0,
              "ticks": ""
             }
            },
            "type": "scatterternary"
           }
          ],
          "surface": [
           {
            "colorbar": {
             "outlinewidth": 0,
             "ticks": ""
            },
            "colorscale": [
             [
              0,
              "#0d0887"
             ],
             [
              0.1111111111111111,
              "#46039f"
             ],
             [
              0.2222222222222222,
              "#7201a8"
             ],
             [
              0.3333333333333333,
              "#9c179e"
             ],
             [
              0.4444444444444444,
              "#bd3786"
             ],
             [
              0.5555555555555556,
              "#d8576b"
             ],
             [
              0.6666666666666666,
              "#ed7953"
             ],
             [
              0.7777777777777778,
              "#fb9f3a"
             ],
             [
              0.8888888888888888,
              "#fdca26"
             ],
             [
              1,
              "#f0f921"
             ]
            ],
            "type": "surface"
           }
          ],
          "table": [
           {
            "cells": {
             "fill": {
              "color": "#EBF0F8"
             },
             "line": {
              "color": "white"
             }
            },
            "header": {
             "fill": {
              "color": "#C8D4E3"
             },
             "line": {
              "color": "white"
             }
            },
            "type": "table"
           }
          ]
         },
         "layout": {
          "annotationdefaults": {
           "arrowcolor": "#2a3f5f",
           "arrowhead": 0,
           "arrowwidth": 1
          },
          "autotypenumbers": "strict",
          "coloraxis": {
           "colorbar": {
            "outlinewidth": 0,
            "ticks": ""
           }
          },
          "colorscale": {
           "diverging": [
            [
             0,
             "#8e0152"
            ],
            [
             0.1,
             "#c51b7d"
            ],
            [
             0.2,
             "#de77ae"
            ],
            [
             0.3,
             "#f1b6da"
            ],
            [
             0.4,
             "#fde0ef"
            ],
            [
             0.5,
             "#f7f7f7"
            ],
            [
             0.6,
             "#e6f5d0"
            ],
            [
             0.7,
             "#b8e186"
            ],
            [
             0.8,
             "#7fbc41"
            ],
            [
             0.9,
             "#4d9221"
            ],
            [
             1,
             "#276419"
            ]
           ],
           "sequential": [
            [
             0,
             "#0d0887"
            ],
            [
             0.1111111111111111,
             "#46039f"
            ],
            [
             0.2222222222222222,
             "#7201a8"
            ],
            [
             0.3333333333333333,
             "#9c179e"
            ],
            [
             0.4444444444444444,
             "#bd3786"
            ],
            [
             0.5555555555555556,
             "#d8576b"
            ],
            [
             0.6666666666666666,
             "#ed7953"
            ],
            [
             0.7777777777777778,
             "#fb9f3a"
            ],
            [
             0.8888888888888888,
             "#fdca26"
            ],
            [
             1,
             "#f0f921"
            ]
           ],
           "sequentialminus": [
            [
             0,
             "#0d0887"
            ],
            [
             0.1111111111111111,
             "#46039f"
            ],
            [
             0.2222222222222222,
             "#7201a8"
            ],
            [
             0.3333333333333333,
             "#9c179e"
            ],
            [
             0.4444444444444444,
             "#bd3786"
            ],
            [
             0.5555555555555556,
             "#d8576b"
            ],
            [
             0.6666666666666666,
             "#ed7953"
            ],
            [
             0.7777777777777778,
             "#fb9f3a"
            ],
            [
             0.8888888888888888,
             "#fdca26"
            ],
            [
             1,
             "#f0f921"
            ]
           ]
          },
          "colorway": [
           "#636efa",
           "#EF553B",
           "#00cc96",
           "#ab63fa",
           "#FFA15A",
           "#19d3f3",
           "#FF6692",
           "#B6E880",
           "#FF97FF",
           "#FECB52"
          ],
          "font": {
           "color": "#2a3f5f"
          },
          "geo": {
           "bgcolor": "white",
           "lakecolor": "white",
           "landcolor": "#E5ECF6",
           "showlakes": true,
           "showland": true,
           "subunitcolor": "white"
          },
          "hoverlabel": {
           "align": "left"
          },
          "hovermode": "closest",
          "mapbox": {
           "style": "light"
          },
          "paper_bgcolor": "white",
          "plot_bgcolor": "#E5ECF6",
          "polar": {
           "angularaxis": {
            "gridcolor": "white",
            "linecolor": "white",
            "ticks": ""
           },
           "bgcolor": "#E5ECF6",
           "radialaxis": {
            "gridcolor": "white",
            "linecolor": "white",
            "ticks": ""
           }
          },
          "scene": {
           "xaxis": {
            "backgroundcolor": "#E5ECF6",
            "gridcolor": "white",
            "gridwidth": 2,
            "linecolor": "white",
            "showbackground": true,
            "ticks": "",
            "zerolinecolor": "white"
           },
           "yaxis": {
            "backgroundcolor": "#E5ECF6",
            "gridcolor": "white",
            "gridwidth": 2,
            "linecolor": "white",
            "showbackground": true,
            "ticks": "",
            "zerolinecolor": "white"
           },
           "zaxis": {
            "backgroundcolor": "#E5ECF6",
            "gridcolor": "white",
            "gridwidth": 2,
            "linecolor": "white",
            "showbackground": true,
            "ticks": "",
            "zerolinecolor": "white"
           }
          },
          "shapedefaults": {
           "line": {
            "color": "#2a3f5f"
           }
          },
          "ternary": {
           "aaxis": {
            "gridcolor": "white",
            "linecolor": "white",
            "ticks": ""
           },
           "baxis": {
            "gridcolor": "white",
            "linecolor": "white",
            "ticks": ""
           },
           "bgcolor": "#E5ECF6",
           "caxis": {
            "gridcolor": "white",
            "linecolor": "white",
            "ticks": ""
           }
          },
          "title": {
           "x": 0.05
          },
          "xaxis": {
           "automargin": true,
           "gridcolor": "white",
           "linecolor": "white",
           "ticks": "",
           "title": {
            "standoff": 15
           },
           "zerolinecolor": "white",
           "zerolinewidth": 2
          },
          "yaxis": {
           "automargin": true,
           "gridcolor": "white",
           "linecolor": "white",
           "ticks": "",
           "title": {
            "standoff": 15
           },
           "zerolinecolor": "white",
           "zerolinewidth": 2
          }
         }
        },
        "title": {
         "text": "Happiness Score compared to Freedom to Make Life Choices Score"
        },
        "width": 1000,
        "xaxis": {
         "anchor": "y",
         "domain": [
          0,
          1
         ],
         "range": [
          0,
          8
         ],
         "title": {
          "text": "Happiness Score"
         }
        },
        "yaxis": {
         "anchor": "x",
         "domain": [
          0,
          1
         ],
         "title": {
          "text": "Freedom to Make Life Choices Score"
         }
        }
       }
      },
      "text/html": [
       "<div>                            <div id=\"a7884b82-9cf1-4f47-a631-030def437123\" class=\"plotly-graph-div\" style=\"height:600px; width:1000px;\"></div>            <script type=\"text/javascript\">                require([\"plotly\"], function(Plotly) {                    window.PLOTLYENV=window.PLOTLYENV || {};                                    if (document.getElementById(\"a7884b82-9cf1-4f47-a631-030def437123\")) {                    Plotly.newPlot(                        \"a7884b82-9cf1-4f47-a631-030def437123\",                        [{\"hovertemplate\": \"<b>%{hovertext}</b><br><br>Region=Europe<br>Score=%{x}<br>Freedom to make life choices=%{y}<extra></extra>\", \"hovertext\": [\"Denmark\", \"Switzerland\", \"Iceland\", \"Norway\", \"Finland\", \"Netherlands\", \"Sweden\", \"Austria\", \"Germany\", \"Belgium\", \"Ireland\", \"Luxembourg\", \"United Kingdom\", \"Czech Republic\", \"Malta\", \"France\", \"Spain\", \"Slovakia\", \"Uzbekistan\", \"Italy\", \"Kazakhstan\", \"Moldova\", \"Russia\", \"Poland\", \"Lithuania\", \"Belarus\", \"North Cyprus\", \"Slovenia\", \"Turkmenistan\", \"Latvia\", \"Cyprus\", \"Romania\", \"Estonia\", \"Croatia\", \"Kosovo\", \"Azerbaijan\", \"Kyrgyzstan\", \"Serbia\", \"Bosnia and Herzegovina\", \"Montenegro\", \"Hungary\", \"Portugal\", \"Macedonia\", \"Greece\", \"Tajikistan\", \"Albania\", \"Armenia\", \"Ukraine\", \"Georgia\", \"Bulgaria\"], \"legendgroup\": \"Europe\", \"marker\": {\"color\": \"#636efa\", \"line\": {\"color\": \"DarkSlateGrey\", \"width\": 1}, \"size\": 10, \"symbol\": \"circle\"}, \"mode\": \"markers\", \"name\": \"Europe\", \"orientation\": \"v\", \"showlegend\": true, \"type\": \"scatter\", \"x\": [7.526, 7.5089999999999995, 7.501, 7.497999999999999, 7.412999999999999, 7.3389999999999995, 7.291, 7.119, 6.994, 6.928999999999999, 6.907, 6.871, 6.725, 6.596, 6.4879999999999995, 6.478, 6.361000000000001, 6.077999999999999, 5.987, 5.977, 5.919, 5.897, 5.856, 5.835, 5.813, 5.8020000000000005, 5.771, 5.768, 5.6579999999999995, 5.56, 5.546, 5.528, 5.517, 5.4879999999999995, 5.401, 5.291, 5.185, 5.1770000000000005, 5.162999999999999, 5.1610000000000005, 5.145, 5.122999999999999, 5.121, 5.033, 4.996, 4.655, 4.36, 4.324, 4.252, 4.217], \"xaxis\": \"x\", \"y\": [0.5794100000000001, 0.58557, 0.56624, 0.59609, 0.57104, 0.55211, 0.58218, 0.54355, 0.53466, 0.51354, 0.54008, 0.5487, 0.50036, 0.41418, 0.54994, 0.46562, 0.37545, 0.23390999999999998, 0.60848, 0.18827, 0.4052, 0.25201999999999997, 0.32682, 0.4519, 0.18929, 0.29091, 0.43596, 0.53164, 0.37408, 0.27996, 0.29507, 0.36712, 0.41511000000000003, 0.23906999999999998, 0.14396, 0.35327, 0.40212, 0.15718, 0.09511, 0.15111, 0.1977, 0.44727, 0.27668000000000004, 0.05822000000000001, 0.43408, 0.31866, 0.14037, 0.12859, 0.32461, 0.21219000000000002], \"yaxis\": \"y\"}, {\"hovertemplate\": \"<b>%{hovertext}</b><br><br>Region=North America<br>Score=%{x}<br>Freedom to make life choices=%{y}<extra></extra>\", \"hovertext\": [\"Canada\", \"United States\"], \"legendgroup\": \"North America\", \"marker\": {\"color\": \"#EF553B\", \"line\": {\"color\": \"DarkSlateGrey\", \"width\": 1}, \"size\": 10, \"symbol\": \"circle\"}, \"mode\": \"markers\", \"name\": \"North America\", \"orientation\": \"v\", \"showlegend\": true, \"type\": \"scatter\", \"x\": [7.404, 7.104], \"xaxis\": \"x\", \"y\": [0.5737, 0.48163], \"yaxis\": \"y\"}, {\"hovertemplate\": \"<b>%{hovertext}</b><br><br>Region=Australia and New Zealand<br>Score=%{x}<br>Freedom to make life choices=%{y}<extra></extra>\", \"hovertext\": [\"New Zealand\", \"Australia\"], \"legendgroup\": \"Australia and New Zealand\", \"marker\": {\"color\": \"#00cc96\", \"line\": {\"color\": \"DarkSlateGrey\", \"width\": 1}, \"size\": 10, \"symbol\": \"circle\"}, \"mode\": \"markers\", \"name\": \"Australia and New Zealand\", \"orientation\": \"v\", \"showlegend\": true, \"type\": \"scatter\", \"x\": [7.334, 7.313], \"xaxis\": \"x\", \"y\": [0.5814699999999999, 0.5683699999999999], \"yaxis\": \"y\"}, {\"hovertemplate\": \"<b>%{hovertext}</b><br><br>Region=Middle East and Northern Africa<br>Score=%{x}<br>Freedom to make life choices=%{y}<extra></extra>\", \"hovertext\": [\"Israel\", \"United Arab Emirates\", \"Saudi Arabia\", \"Qatar\", \"Algeria\", \"Kuwait\", \"Bahrain\", \"Libya\", \"Turkey\", \"Jordan\", \"Morocco\", \"Lebanon\", \"Tunisia\", \"Iran\", \"Palestinian Territories\", \"Iraq\", \"Egypt\", \"Yemen\", \"Syria\"], \"legendgroup\": \"Middle East and Northern Africa\", \"marker\": {\"color\": \"#ab63fa\", \"line\": {\"color\": \"DarkSlateGrey\", \"width\": 1}, \"size\": 10, \"symbol\": \"circle\"}, \"mode\": \"markers\", \"name\": \"Middle East and Northern Africa\", \"orientation\": \"v\", \"showlegend\": true, \"type\": \"scatter\", \"x\": [7.267, 6.5729999999999995, 6.379, 6.375, 6.355, 6.239, 6.218, 5.615, 5.388999999999999, 5.303, 5.151, 5.129, 5.045, 4.813, 4.754, 4.575, 4.362, 3.7239999999999998, 3.069], \"xaxis\": \"x\", \"y\": [0.36432, 0.56215, 0.37904, 0.56679, 0.21006, 0.43166000000000004, 0.47375, 0.40671999999999997, 0.23889000000000002, 0.36023, 0.25645999999999997, 0.26228, 0.23553000000000002, 0.22544, 0.17744000000000001, 0.24856, 0.18847, 0.2287, 0.06912], \"yaxis\": \"y\"}, {\"hovertemplate\": \"<b>%{hovertext}</b><br><br>Region=Latin America and Caribbean<br>Score=%{x}<br>Freedom to make life choices=%{y}<extra></extra>\", \"hovertext\": [\"Costa Rica\", \"Puerto Rico\", \"Brazil\", \"Mexico\", \"Chile\", \"Panama\", \"Argentina\", \"Uruguay\", \"Colombia\", \"Guatemala\", \"Suriname\", \"Trinidad and Tobago\", \"Venezuela\", \"El Salvador\", \"Nicaragua\", \"Ecuador\", \"Belize\", \"Bolivia\", \"Peru\", \"Paraguay\", \"Jamaica\", \"Dominican Republic\", \"Honduras\", \"Haiti\"], \"legendgroup\": \"Latin America and Caribbean\", \"marker\": {\"color\": \"#FFA15A\", \"line\": {\"color\": \"DarkSlateGrey\", \"width\": 1}, \"size\": 10, \"symbol\": \"circle\"}, \"mode\": \"markers\", \"name\": \"Latin America and Caribbean\", \"orientation\": \"v\", \"showlegend\": true, \"type\": \"scatter\", \"x\": [7.087000000000001, 7.039, 6.952000000000001, 6.778, 6.705, 6.7010000000000005, 6.65, 6.545, 6.481, 6.324, 6.269, 6.167999999999999, 6.084, 6.068, 5.992000000000001, 5.976, 5.956, 5.822, 5.742999999999999, 5.537999999999999, 5.51, 5.155, 4.871, 4.0280000000000005], \"xaxis\": \"x\", \"y\": [0.55225, 0.46823000000000004, 0.40425, 0.37709000000000004, 0.37789, 0.48927, 0.42283999999999994, 0.54388, 0.44735, 0.50379, 0.5223399999999999, 0.48453, 0.19847, 0.37269, 0.46581999999999996, 0.4027, 0.51231, 0.50961, 0.37501999999999996, 0.46235, 0.43596999999999997, 0.52259, 0.26755, 0.12072000000000001], \"yaxis\": \"y\"}, {\"hovertemplate\": \"<b>%{hovertext}</b><br><br>Region=Asia<br>Score=%{x}<br>Freedom to make life choices=%{y}<extra></extra>\", \"hovertext\": [\"Singapore\", \"Thailand\", \"Taiwan\", \"Malaysia\", \"Japan\", \"South Korea\", \"Hong Kong\", \"Indonesia\", \"Philippines\", \"China\", \"Bhutan\", \"Pakistan\", \"Vietnam\", \"Mongolia\", \"Laos\", \"Nepal\", \"Bangladesh\", \"Sri Lanka\", \"India\", \"Myanmar\", \"Cambodia\", \"Afghanistan\"], \"legendgroup\": \"Asia\", \"marker\": {\"color\": \"#19d3f3\", \"line\": {\"color\": \"DarkSlateGrey\", \"width\": 1}, \"size\": 10, \"symbol\": \"circle\"}, \"mode\": \"markers\", \"name\": \"Asia\", \"orientation\": \"v\", \"showlegend\": true, \"type\": \"scatter\", \"x\": [6.739, 6.474, 6.379, 6.005, 5.921, 5.835, 5.457999999999999, 5.314, 5.279, 5.245, 5.196000000000001, 5.132000000000001, 5.061, 4.907, 4.876, 4.793, 4.643, 4.415, 4.404, 4.395, 3.907, 3.36], \"xaxis\": \"x\", \"y\": [0.4877, 0.49553, 0.32377, 0.39031, 0.46761, 0.25168, 0.48078999999999994, 0.39237, 0.5485399999999999, 0.44011999999999996, 0.46074, 0.14622000000000002, 0.5595399999999999, 0.35972, 0.52168, 0.37012, 0.39778, 0.50817, 0.40285, 0.42691999999999997, 0.5885199999999999, 0.1643], \"yaxis\": \"y\"}, {\"hovertemplate\": \"<b>%{hovertext}</b><br><br>Region=Sub-Saharan Africa<br>Score=%{x}<br>Freedom to make life choices=%{y}<extra></extra>\", \"hovertext\": [\"Mauritius\", \"Somalia\", \"Somaliland Region\", \"Nigeria\", \"Zambia\", \"Sierra Leone\", \"Namibia\", \"Cameroon\", \"Ethiopia\", \"South Africa\", \"Kenya\", \"Ghana\", \"Congo (Kinshasa)\", \"Congo (Brazzaville)\", \"Senegal\", \"Mauritania\", \"Zimbabwe\", \"Malawi\", \"Sudan\", \"Gabon\", \"Mali\", \"Botswana\", \"Comoros\", \"Ivory Coast\", \"Angola\", \"Niger\", \"South Sudan\", \"Chad\", \"Burkina Faso\", \"Uganda\", \"Madagascar\", \"Tanzania\", \"Liberia\", \"Guinea\", \"Rwanda\", \"Benin\", \"Togo\", \"Burundi\"], \"legendgroup\": \"Sub-Saharan Africa\", \"marker\": {\"color\": \"#FF6692\", \"line\": {\"color\": \"DarkSlateGrey\", \"width\": 1}, \"size\": 10, \"symbol\": \"circle\"}, \"mode\": \"markers\", \"name\": \"Sub-Saharan Africa\", \"orientation\": \"v\", \"showlegend\": true, \"type\": \"scatter\", \"x\": [5.648, 5.44, 5.0569999999999995, 4.875, 4.795, 4.635, 4.574, 4.513, 4.508, 4.459, 4.356, 4.276, 4.272, 4.236000000000001, 4.218999999999999, 4.2010000000000005, 4.1930000000000005, 4.156000000000001, 4.138999999999999, 4.121, 4.073, 3.9739999999999998, 3.9560000000000004, 3.9160000000000004, 3.866, 3.8560000000000003, 3.832, 3.763, 3.739, 3.739, 3.695, 3.6660000000000004, 3.622, 3.6069999999999998, 3.515, 3.484, 3.303, 2.905], \"xaxis\": \"x\", \"y\": [0.46145, 0.5677800000000001, 0.3913, 0.27854, 0.42662, 0.30685, 0.48613999999999996, 0.42736, 0.36703, 0.42483000000000004, 0.40576, 0.40973000000000004, 0.15602, 0.37938, 0.31056, 0.1268, 0.25429, 0.4143, 0.0, 0.28098, 0.27544, 0.44088999999999995, 0.15412, 0.40663, 0.00589, 0.38040999999999997, 0.19662000000000002, 0.12807000000000002, 0.3337, 0.43653000000000003, 0.13684000000000002, 0.3176, 0.25748000000000004, 0.30953, 0.5432, 0.39747, 0.34678000000000003, 0.0432], \"yaxis\": \"y\"}],                        {\"height\": 600, \"legend\": {\"title\": {\"text\": \"Region\"}, \"tracegroupgap\": 0}, \"template\": {\"data\": {\"bar\": [{\"error_x\": {\"color\": \"#2a3f5f\"}, \"error_y\": {\"color\": \"#2a3f5f\"}, \"marker\": {\"line\": {\"color\": \"#E5ECF6\", \"width\": 0.5}}, \"type\": \"bar\"}], \"barpolar\": [{\"marker\": {\"line\": {\"color\": \"#E5ECF6\", \"width\": 0.5}}, \"type\": \"barpolar\"}], \"carpet\": [{\"aaxis\": {\"endlinecolor\": \"#2a3f5f\", \"gridcolor\": \"white\", \"linecolor\": \"white\", \"minorgridcolor\": \"white\", \"startlinecolor\": \"#2a3f5f\"}, \"baxis\": {\"endlinecolor\": \"#2a3f5f\", \"gridcolor\": \"white\", \"linecolor\": \"white\", \"minorgridcolor\": \"white\", \"startlinecolor\": \"#2a3f5f\"}, \"type\": \"carpet\"}], \"choropleth\": [{\"colorbar\": {\"outlinewidth\": 0, \"ticks\": \"\"}, \"type\": \"choropleth\"}], \"contour\": [{\"colorbar\": {\"outlinewidth\": 0, \"ticks\": \"\"}, \"colorscale\": [[0.0, \"#0d0887\"], [0.1111111111111111, \"#46039f\"], [0.2222222222222222, \"#7201a8\"], [0.3333333333333333, \"#9c179e\"], [0.4444444444444444, \"#bd3786\"], [0.5555555555555556, \"#d8576b\"], [0.6666666666666666, \"#ed7953\"], [0.7777777777777778, \"#fb9f3a\"], [0.8888888888888888, \"#fdca26\"], [1.0, \"#f0f921\"]], \"type\": \"contour\"}], \"contourcarpet\": [{\"colorbar\": {\"outlinewidth\": 0, \"ticks\": \"\"}, \"type\": \"contourcarpet\"}], \"heatmap\": [{\"colorbar\": {\"outlinewidth\": 0, \"ticks\": \"\"}, \"colorscale\": [[0.0, \"#0d0887\"], [0.1111111111111111, \"#46039f\"], [0.2222222222222222, \"#7201a8\"], [0.3333333333333333, \"#9c179e\"], [0.4444444444444444, \"#bd3786\"], [0.5555555555555556, \"#d8576b\"], [0.6666666666666666, \"#ed7953\"], [0.7777777777777778, \"#fb9f3a\"], [0.8888888888888888, \"#fdca26\"], [1.0, \"#f0f921\"]], \"type\": \"heatmap\"}], \"heatmapgl\": [{\"colorbar\": {\"outlinewidth\": 0, \"ticks\": \"\"}, \"colorscale\": [[0.0, \"#0d0887\"], [0.1111111111111111, \"#46039f\"], [0.2222222222222222, \"#7201a8\"], [0.3333333333333333, \"#9c179e\"], [0.4444444444444444, \"#bd3786\"], [0.5555555555555556, \"#d8576b\"], [0.6666666666666666, \"#ed7953\"], [0.7777777777777778, \"#fb9f3a\"], [0.8888888888888888, \"#fdca26\"], [1.0, \"#f0f921\"]], \"type\": \"heatmapgl\"}], \"histogram\": [{\"marker\": {\"colorbar\": {\"outlinewidth\": 0, \"ticks\": \"\"}}, \"type\": \"histogram\"}], \"histogram2d\": [{\"colorbar\": {\"outlinewidth\": 0, \"ticks\": \"\"}, \"colorscale\": [[0.0, \"#0d0887\"], [0.1111111111111111, \"#46039f\"], [0.2222222222222222, \"#7201a8\"], [0.3333333333333333, \"#9c179e\"], [0.4444444444444444, \"#bd3786\"], [0.5555555555555556, \"#d8576b\"], [0.6666666666666666, \"#ed7953\"], [0.7777777777777778, \"#fb9f3a\"], [0.8888888888888888, \"#fdca26\"], [1.0, \"#f0f921\"]], \"type\": \"histogram2d\"}], \"histogram2dcontour\": [{\"colorbar\": {\"outlinewidth\": 0, \"ticks\": \"\"}, \"colorscale\": [[0.0, \"#0d0887\"], [0.1111111111111111, \"#46039f\"], [0.2222222222222222, \"#7201a8\"], [0.3333333333333333, \"#9c179e\"], [0.4444444444444444, \"#bd3786\"], [0.5555555555555556, \"#d8576b\"], [0.6666666666666666, \"#ed7953\"], [0.7777777777777778, \"#fb9f3a\"], [0.8888888888888888, \"#fdca26\"], [1.0, \"#f0f921\"]], \"type\": \"histogram2dcontour\"}], \"mesh3d\": [{\"colorbar\": {\"outlinewidth\": 0, \"ticks\": \"\"}, \"type\": \"mesh3d\"}], \"parcoords\": [{\"line\": {\"colorbar\": {\"outlinewidth\": 0, \"ticks\": \"\"}}, \"type\": \"parcoords\"}], \"pie\": [{\"automargin\": true, \"type\": \"pie\"}], \"scatter\": [{\"marker\": {\"colorbar\": {\"outlinewidth\": 0, \"ticks\": \"\"}}, \"type\": \"scatter\"}], \"scatter3d\": [{\"line\": {\"colorbar\": {\"outlinewidth\": 0, \"ticks\": \"\"}}, \"marker\": {\"colorbar\": {\"outlinewidth\": 0, \"ticks\": \"\"}}, \"type\": \"scatter3d\"}], \"scattercarpet\": [{\"marker\": {\"colorbar\": {\"outlinewidth\": 0, \"ticks\": \"\"}}, \"type\": \"scattercarpet\"}], \"scattergeo\": [{\"marker\": {\"colorbar\": {\"outlinewidth\": 0, \"ticks\": \"\"}}, \"type\": \"scattergeo\"}], \"scattergl\": [{\"marker\": {\"colorbar\": {\"outlinewidth\": 0, \"ticks\": \"\"}}, \"type\": \"scattergl\"}], \"scattermapbox\": [{\"marker\": {\"colorbar\": {\"outlinewidth\": 0, \"ticks\": \"\"}}, \"type\": \"scattermapbox\"}], \"scatterpolar\": [{\"marker\": {\"colorbar\": {\"outlinewidth\": 0, \"ticks\": \"\"}}, \"type\": \"scatterpolar\"}], \"scatterpolargl\": [{\"marker\": {\"colorbar\": {\"outlinewidth\": 0, \"ticks\": \"\"}}, \"type\": \"scatterpolargl\"}], \"scatterternary\": [{\"marker\": {\"colorbar\": {\"outlinewidth\": 0, \"ticks\": \"\"}}, \"type\": \"scatterternary\"}], \"surface\": [{\"colorbar\": {\"outlinewidth\": 0, \"ticks\": \"\"}, \"colorscale\": [[0.0, \"#0d0887\"], [0.1111111111111111, \"#46039f\"], [0.2222222222222222, \"#7201a8\"], [0.3333333333333333, \"#9c179e\"], [0.4444444444444444, \"#bd3786\"], [0.5555555555555556, \"#d8576b\"], [0.6666666666666666, \"#ed7953\"], [0.7777777777777778, \"#fb9f3a\"], [0.8888888888888888, \"#fdca26\"], [1.0, \"#f0f921\"]], \"type\": \"surface\"}], \"table\": [{\"cells\": {\"fill\": {\"color\": \"#EBF0F8\"}, \"line\": {\"color\": \"white\"}}, \"header\": {\"fill\": {\"color\": \"#C8D4E3\"}, \"line\": {\"color\": \"white\"}}, \"type\": \"table\"}]}, \"layout\": {\"annotationdefaults\": {\"arrowcolor\": \"#2a3f5f\", \"arrowhead\": 0, \"arrowwidth\": 1}, \"autotypenumbers\": \"strict\", \"coloraxis\": {\"colorbar\": {\"outlinewidth\": 0, \"ticks\": \"\"}}, \"colorscale\": {\"diverging\": [[0, \"#8e0152\"], [0.1, \"#c51b7d\"], [0.2, \"#de77ae\"], [0.3, \"#f1b6da\"], [0.4, \"#fde0ef\"], [0.5, \"#f7f7f7\"], [0.6, \"#e6f5d0\"], [0.7, \"#b8e186\"], [0.8, \"#7fbc41\"], [0.9, \"#4d9221\"], [1, \"#276419\"]], \"sequential\": [[0.0, \"#0d0887\"], [0.1111111111111111, \"#46039f\"], [0.2222222222222222, \"#7201a8\"], [0.3333333333333333, \"#9c179e\"], [0.4444444444444444, \"#bd3786\"], [0.5555555555555556, \"#d8576b\"], [0.6666666666666666, \"#ed7953\"], [0.7777777777777778, \"#fb9f3a\"], [0.8888888888888888, \"#fdca26\"], [1.0, \"#f0f921\"]], \"sequentialminus\": [[0.0, \"#0d0887\"], [0.1111111111111111, \"#46039f\"], [0.2222222222222222, \"#7201a8\"], [0.3333333333333333, \"#9c179e\"], [0.4444444444444444, \"#bd3786\"], [0.5555555555555556, \"#d8576b\"], [0.6666666666666666, \"#ed7953\"], [0.7777777777777778, \"#fb9f3a\"], [0.8888888888888888, \"#fdca26\"], [1.0, \"#f0f921\"]]}, \"colorway\": [\"#636efa\", \"#EF553B\", \"#00cc96\", \"#ab63fa\", \"#FFA15A\", \"#19d3f3\", \"#FF6692\", \"#B6E880\", \"#FF97FF\", \"#FECB52\"], \"font\": {\"color\": \"#2a3f5f\"}, \"geo\": {\"bgcolor\": \"white\", \"lakecolor\": \"white\", \"landcolor\": \"#E5ECF6\", \"showlakes\": true, \"showland\": true, \"subunitcolor\": \"white\"}, \"hoverlabel\": {\"align\": \"left\"}, \"hovermode\": \"closest\", \"mapbox\": {\"style\": \"light\"}, \"paper_bgcolor\": \"white\", \"plot_bgcolor\": \"#E5ECF6\", \"polar\": {\"angularaxis\": {\"gridcolor\": \"white\", \"linecolor\": \"white\", \"ticks\": \"\"}, \"bgcolor\": \"#E5ECF6\", \"radialaxis\": {\"gridcolor\": \"white\", \"linecolor\": \"white\", \"ticks\": \"\"}}, \"scene\": {\"xaxis\": {\"backgroundcolor\": \"#E5ECF6\", \"gridcolor\": \"white\", \"gridwidth\": 2, \"linecolor\": \"white\", \"showbackground\": true, \"ticks\": \"\", \"zerolinecolor\": \"white\"}, \"yaxis\": {\"backgroundcolor\": \"#E5ECF6\", \"gridcolor\": \"white\", \"gridwidth\": 2, \"linecolor\": \"white\", \"showbackground\": true, \"ticks\": \"\", \"zerolinecolor\": \"white\"}, \"zaxis\": {\"backgroundcolor\": \"#E5ECF6\", \"gridcolor\": \"white\", \"gridwidth\": 2, \"linecolor\": \"white\", \"showbackground\": true, \"ticks\": \"\", \"zerolinecolor\": \"white\"}}, \"shapedefaults\": {\"line\": {\"color\": \"#2a3f5f\"}}, \"ternary\": {\"aaxis\": {\"gridcolor\": \"white\", \"linecolor\": \"white\", \"ticks\": \"\"}, \"baxis\": {\"gridcolor\": \"white\", \"linecolor\": \"white\", \"ticks\": \"\"}, \"bgcolor\": \"#E5ECF6\", \"caxis\": {\"gridcolor\": \"white\", \"linecolor\": \"white\", \"ticks\": \"\"}}, \"title\": {\"x\": 0.05}, \"xaxis\": {\"automargin\": true, \"gridcolor\": \"white\", \"linecolor\": \"white\", \"ticks\": \"\", \"title\": {\"standoff\": 15}, \"zerolinecolor\": \"white\", \"zerolinewidth\": 2}, \"yaxis\": {\"automargin\": true, \"gridcolor\": \"white\", \"linecolor\": \"white\", \"ticks\": \"\", \"title\": {\"standoff\": 15}, \"zerolinecolor\": \"white\", \"zerolinewidth\": 2}}}, \"title\": {\"text\": \"Happiness Score compared to Freedom to Make Life Choices Score\"}, \"width\": 1000, \"xaxis\": {\"anchor\": \"y\", \"domain\": [0.0, 1.0], \"range\": [0, 8], \"title\": {\"text\": \"Happiness Score\"}}, \"yaxis\": {\"anchor\": \"x\", \"domain\": [0.0, 1.0], \"title\": {\"text\": \"Freedom to Make Life Choices Score\"}}},                        {\"responsive\": true}                    ).then(function(){\n",
       "                            \n",
       "var gd = document.getElementById('a7884b82-9cf1-4f47-a631-030def437123');\n",
       "var x = new MutationObserver(function (mutations, observer) {{\n",
       "        var display = window.getComputedStyle(gd).display;\n",
       "        if (!display || display === 'none') {{\n",
       "            console.log([gd, 'removed!']);\n",
       "            Plotly.purge(gd);\n",
       "            observer.disconnect();\n",
       "        }}\n",
       "}});\n",
       "\n",
       "// Listen for the removal of the full notebook cells\n",
       "var notebookContainer = gd.closest('#notebook-container');\n",
       "if (notebookContainer) {{\n",
       "    x.observe(notebookContainer, {childList: true});\n",
       "}}\n",
       "\n",
       "// Listen for the clearing of the current output cell\n",
       "var outputEl = gd.closest('.output');\n",
       "if (outputEl) {{\n",
       "    x.observe(outputEl, {childList: true});\n",
       "}}\n",
       "\n",
       "                        })                };                });            </script>        </div>"
      ]
     },
     "metadata": {},
     "output_type": "display_data"
    }
   ],
   "source": [
    "#happiness score vs freedom to make life choices\n",
    "\n",
    "#establish x and y values\n",
    "x_values = csv_2016_restructured[\"Score\"]\n",
    "y_values = csv_2016_restructured[\"Freedom to make life choices\"]\n",
    "\n",
    "#px.scatter\n",
    "fig = px.scatter(csv_2016_restructured, x_values, y_values, color=\"Region\", hover_name=\"Country\",\n",
    "                range_x=[0,8], title=\"Happiness Score compared to Freedom to Make Life Choices Score\",\n",
    "                width= 1000, height =600) # use trendline=\"ols\" to see all lin reg equations\n",
    "\n",
    "#set axes labels\n",
    "fig.update_xaxes(title_text='Happiness Score')\n",
    "fig.update_yaxes(title_text='Freedom to Make Life Choices Score')\n",
    "\n",
    "\n",
    "#formatting\n",
    "#marker size and colors\n",
    "fig.update_traces(marker=dict(size=10,\n",
    "                              line=dict(width=1, \n",
    "                                        color='DarkSlateGrey')))\n",
    "\n",
    "#linear regression\n",
    "#use linregress from dependencies to inplement linear regression\n",
    "(slope, intercept, rvalue, pvalue, stderr) = linregress(x_values, y_values)\n",
    "regress_values = x_values * slope + intercept\n",
    "\n",
    "#print out all variables calculated above (rvalue, pvalue...)\n",
    "print(f\"slope:{round(slope, 2)}\")\n",
    "print(f\"intercept:{round(intercept,2)}\")\n",
    "res = sts.linregress(x_values, y_values)\n",
    "print(f\"R-squared: {res.rvalue**2:.4f}\")\n",
    "\n",
    "\n",
    "#print out line eq for reference\n",
    "line_eq = (f\"y={round(slope, 2)}x + {round(intercept, 2)}\")\n",
    "print(line_eq)\n",
    "\n",
    "fig.show()"
   ]
  },
  {
   "cell_type": "code",
   "execution_count": 16,
   "metadata": {},
   "outputs": [
    {
     "name": "stdout",
     "output_type": "stream",
     "text": [
      "slope:0.02\n",
      "intercept:0.14\n",
      "R-squared: 0.0246\n",
      "y=0.02x + 0.14\n"
     ]
    },
    {
     "data": {
      "application/vnd.plotly.v1+json": {
       "config": {
        "plotlyServerURL": "https://plot.ly"
       },
       "data": [
        {
         "hovertemplate": "<b>%{hovertext}</b><br><br>Region=Europe<br>Score=%{x}<br>Generosity=%{y}<extra></extra>",
         "hovertext": [
          "Denmark",
          "Switzerland",
          "Iceland",
          "Norway",
          "Finland",
          "Netherlands",
          "Sweden",
          "Austria",
          "Germany",
          "Belgium",
          "Ireland",
          "Luxembourg",
          "United Kingdom",
          "Czech Republic",
          "Malta",
          "France",
          "Spain",
          "Slovakia",
          "Uzbekistan",
          "Italy",
          "Kazakhstan",
          "Moldova",
          "Russia",
          "Poland",
          "Lithuania",
          "Belarus",
          "North Cyprus",
          "Slovenia",
          "Turkmenistan",
          "Latvia",
          "Cyprus",
          "Romania",
          "Estonia",
          "Croatia",
          "Kosovo",
          "Azerbaijan",
          "Kyrgyzstan",
          "Serbia",
          "Bosnia and Herzegovina",
          "Montenegro",
          "Hungary",
          "Portugal",
          "Macedonia",
          "Greece",
          "Tajikistan",
          "Albania",
          "Armenia",
          "Ukraine",
          "Georgia",
          "Bulgaria"
         ],
         "legendgroup": "Europe",
         "marker": {
          "color": "#636efa",
          "line": {
           "color": "DarkSlateGrey",
           "width": 1
          },
          "size": 10,
          "symbol": "circle"
         },
         "mode": "markers",
         "name": "Europe",
         "orientation": "v",
         "showlegend": true,
         "type": "scatter",
         "x": [
          7.526,
          7.5089999999999995,
          7.501,
          7.497999999999999,
          7.412999999999999,
          7.3389999999999995,
          7.291,
          7.119,
          6.994,
          6.928999999999999,
          6.907,
          6.871,
          6.725,
          6.596,
          6.4879999999999995,
          6.478,
          6.361000000000001,
          6.077999999999999,
          5.987,
          5.977,
          5.919,
          5.897,
          5.856,
          5.835,
          5.813,
          5.8020000000000005,
          5.771,
          5.768,
          5.6579999999999995,
          5.56,
          5.546,
          5.528,
          5.517,
          5.4879999999999995,
          5.401,
          5.291,
          5.185,
          5.1770000000000005,
          5.162999999999999,
          5.1610000000000005,
          5.145,
          5.122999999999999,
          5.121,
          5.033,
          4.996,
          4.655,
          4.36,
          4.324,
          4.252,
          4.217
         ],
         "xaxis": "x",
         "y": [
          0.36171,
          0.28083,
          0.47678000000000004,
          0.37895,
          0.25492,
          0.47416,
          0.38254,
          0.32865,
          0.30451999999999996,
          0.2424,
          0.44963000000000003,
          0.27571,
          0.50156,
          0.09929,
          0.56237,
          0.1216,
          0.17665,
          0.13837,
          0.34326,
          0.16684000000000002,
          0.15011,
          0.19997,
          0.027360000000000002,
          0.14443,
          0.02025,
          0.13942000000000002,
          0.26322,
          0.25738,
          0.22566999999999998,
          0.17445,
          0.27906,
          0.12889,
          0.08423,
          0.18434,
          0.27992,
          0.0564,
          0.38432,
          0.20736999999999997,
          0.29889,
          0.17190999999999998,
          0.099,
          0.11690999999999999,
          0.23506999999999997,
          0,
          0.25998000000000004,
          0.1684,
          0.07793,
          0.20363,
          0.06786,
          0.12793
         ],
         "yaxis": "y"
        },
        {
         "hovertemplate": "<b>%{hovertext}</b><br><br>Region=North America<br>Score=%{x}<br>Generosity=%{y}<extra></extra>",
         "hovertext": [
          "Canada",
          "United States"
         ],
         "legendgroup": "North America",
         "marker": {
          "color": "#EF553B",
          "line": {
           "color": "DarkSlateGrey",
           "width": 1
          },
          "size": 10,
          "symbol": "circle"
         },
         "mode": "markers",
         "name": "North America",
         "orientation": "v",
         "showlegend": true,
         "type": "scatter",
         "x": [
          7.404,
          7.104
         ],
         "xaxis": "x",
         "y": [
          0.44833999999999996,
          0.41076999999999997
         ],
         "yaxis": "y"
        },
        {
         "hovertemplate": "<b>%{hovertext}</b><br><br>Region=Australia and New Zealand<br>Score=%{x}<br>Generosity=%{y}<extra></extra>",
         "hovertext": [
          "New Zealand",
          "Australia"
         ],
         "legendgroup": "Australia and New Zealand",
         "marker": {
          "color": "#00cc96",
          "line": {
           "color": "DarkSlateGrey",
           "width": 1
          },
          "size": 10,
          "symbol": "circle"
         },
         "mode": "markers",
         "name": "Australia and New Zealand",
         "orientation": "v",
         "showlegend": true,
         "type": "scatter",
         "x": [
          7.334,
          7.313
         ],
         "xaxis": "x",
         "y": [
          0.49401000000000006,
          0.47407
         ],
         "yaxis": "y"
        },
        {
         "hovertemplate": "<b>%{hovertext}</b><br><br>Region=Middle East and Northern Africa<br>Score=%{x}<br>Generosity=%{y}<extra></extra>",
         "hovertext": [
          "Israel",
          "United Arab Emirates",
          "Saudi Arabia",
          "Qatar",
          "Algeria",
          "Kuwait",
          "Bahrain",
          "Libya",
          "Turkey",
          "Jordan",
          "Morocco",
          "Lebanon",
          "Tunisia",
          "Iran",
          "Palestinian Territories",
          "Iraq",
          "Egypt",
          "Yemen",
          "Syria"
         ],
         "legendgroup": "Middle East and Northern Africa",
         "marker": {
          "color": "#ab63fa",
          "line": {
           "color": "DarkSlateGrey",
           "width": 1
          },
          "size": 10,
          "symbol": "circle"
         },
         "mode": "markers",
         "name": "Middle East and Northern Africa",
         "orientation": "v",
         "showlegend": true,
         "type": "scatter",
         "x": [
          7.267,
          6.5729999999999995,
          6.379,
          6.375,
          6.355,
          6.239,
          6.218,
          5.615,
          5.388999999999999,
          5.303,
          5.151,
          5.129,
          5.045,
          4.813,
          4.754,
          4.575,
          4.362,
          3.7239999999999998,
          3.069
         ],
         "xaxis": "x",
         "y": [
          0.32288,
          0.26591,
          0.15457,
          0.32388,
          0.07044,
          0.15965,
          0.17147,
          0.17087,
          0.04707,
          0.14262,
          0.040530000000000004,
          0.23693000000000003,
          0.03936,
          0.38538,
          0.11154000000000001,
          0.19589,
          0.12705999999999998,
          0.09821,
          0.48396999999999996
         ],
         "yaxis": "y"
        },
        {
         "hovertemplate": "<b>%{hovertext}</b><br><br>Region=Latin America and Caribbean<br>Score=%{x}<br>Generosity=%{y}<extra></extra>",
         "hovertext": [
          "Costa Rica",
          "Puerto Rico",
          "Brazil",
          "Mexico",
          "Chile",
          "Panama",
          "Argentina",
          "Uruguay",
          "Colombia",
          "Guatemala",
          "Suriname",
          "Trinidad and Tobago",
          "Venezuela",
          "El Salvador",
          "Nicaragua",
          "Ecuador",
          "Belize",
          "Bolivia",
          "Peru",
          "Paraguay",
          "Jamaica",
          "Dominican Republic",
          "Honduras",
          "Haiti"
         ],
         "legendgroup": "Latin America and Caribbean",
         "marker": {
          "color": "#FFA15A",
          "line": {
           "color": "DarkSlateGrey",
           "width": 1
          },
          "size": 10,
          "symbol": "circle"
         },
         "mode": "markers",
         "name": "Latin America and Caribbean",
         "orientation": "v",
         "showlegend": true,
         "type": "scatter",
         "x": [
          7.087000000000001,
          7.039,
          6.952000000000001,
          6.778,
          6.705,
          6.7010000000000005,
          6.65,
          6.545,
          6.481,
          6.324,
          6.269,
          6.167999999999999,
          6.084,
          6.068,
          5.992000000000001,
          5.976,
          5.956,
          5.822,
          5.742999999999999,
          5.537999999999999,
          5.51,
          5.155,
          4.871,
          4.0280000000000005
         ],
         "xaxis": "x",
         "y": [
          0.22553,
          0.22202,
          0.15775999999999998,
          0.11735,
          0.31595,
          0.2418,
          0.10989000000000002,
          0.18056,
          0.15625999999999998,
          0.28808,
          0.16665,
          0.31935,
          0.0425,
          0.08877,
          0.29773,
          0.10074,
          0.23684000000000002,
          0.21698,
          0.14527,
          0.25296,
          0.22245,
          0.21286,
          0.2044,
          0.47958
         ],
         "yaxis": "y"
        },
        {
         "hovertemplate": "<b>%{hovertext}</b><br><br>Region=Asia<br>Score=%{x}<br>Generosity=%{y}<extra></extra>",
         "hovertext": [
          "Singapore",
          "Thailand",
          "Taiwan",
          "Malaysia",
          "Japan",
          "South Korea",
          "Hong Kong",
          "Indonesia",
          "Philippines",
          "China",
          "Bhutan",
          "Pakistan",
          "Vietnam",
          "Mongolia",
          "Laos",
          "Nepal",
          "Bangladesh",
          "Sri Lanka",
          "India",
          "Myanmar",
          "Cambodia",
          "Afghanistan"
         ],
         "legendgroup": "Asia",
         "marker": {
          "color": "#19d3f3",
          "line": {
           "color": "DarkSlateGrey",
           "width": 1
          },
          "size": 10,
          "symbol": "circle"
         },
         "mode": "markers",
         "name": "Asia",
         "orientation": "v",
         "showlegend": true,
         "type": "scatter",
         "x": [
          6.739,
          6.474,
          6.379,
          6.005,
          5.921,
          5.835,
          5.457999999999999,
          5.314,
          5.279,
          5.245,
          5.196000000000001,
          5.132000000000001,
          5.061,
          4.907,
          4.876,
          4.793,
          4.643,
          4.415,
          4.404,
          4.395,
          3.907,
          3.36
         ],
         "xaxis": "x",
         "y": [
          0.32706,
          0.58696,
          0.25495,
          0.41473999999999994,
          0.10224,
          0.18824000000000002,
          0.40097,
          0.56521,
          0.21674000000000002,
          0.049589999999999995,
          0.48546000000000006,
          0.31185,
          0.25075,
          0.34539000000000003,
          0.43078999999999995,
          0.3816,
          0.19132000000000002,
          0.46978000000000003,
          0.25028,
          0.81971,
          0.40339,
          0.31268
         ],
         "yaxis": "y"
        },
        {
         "hovertemplate": "<b>%{hovertext}</b><br><br>Region=Sub-Saharan Africa<br>Score=%{x}<br>Generosity=%{y}<extra></extra>",
         "hovertext": [
          "Mauritius",
          "Somalia",
          "Somaliland Region",
          "Nigeria",
          "Zambia",
          "Sierra Leone",
          "Namibia",
          "Cameroon",
          "Ethiopia",
          "South Africa",
          "Kenya",
          "Ghana",
          "Congo (Kinshasa)",
          "Congo (Brazzaville)",
          "Senegal",
          "Mauritania",
          "Zimbabwe",
          "Malawi",
          "Sudan",
          "Gabon",
          "Mali",
          "Botswana",
          "Comoros",
          "Ivory Coast",
          "Angola",
          "Niger",
          "South Sudan",
          "Chad",
          "Burkina Faso",
          "Uganda",
          "Madagascar",
          "Tanzania",
          "Liberia",
          "Guinea",
          "Rwanda",
          "Benin",
          "Togo",
          "Burundi"
         ],
         "legendgroup": "Sub-Saharan Africa",
         "marker": {
          "color": "#FF6692",
          "line": {
           "color": "DarkSlateGrey",
           "width": 1
          },
          "size": 10,
          "symbol": "circle"
         },
         "mode": "markers",
         "name": "Sub-Saharan Africa",
         "orientation": "v",
         "showlegend": true,
         "type": "scatter",
         "x": [
          5.648,
          5.44,
          5.0569999999999995,
          4.875,
          4.795,
          4.635,
          4.574,
          4.513,
          4.508,
          4.459,
          4.356,
          4.276,
          4.272,
          4.236000000000001,
          4.218999999999999,
          4.2010000000000005,
          4.1930000000000005,
          4.156000000000001,
          4.138999999999999,
          4.121,
          4.073,
          3.9739999999999998,
          3.9560000000000004,
          3.9160000000000004,
          3.866,
          3.8560000000000003,
          3.832,
          3.763,
          3.739,
          3.739,
          3.695,
          3.6660000000000004,
          3.622,
          3.6069999999999998,
          3.515,
          3.484,
          3.303,
          2.905
         ],
         "xaxis": "x",
         "y": [
          0.36951,
          0.27225,
          0.51479,
          0.23219,
          0.17865999999999999,
          0.23897,
          0.07795,
          0.2268,
          0.29522,
          0.13656,
          0.41328000000000004,
          0.21203000000000002,
          0.25458000000000003,
          0.12077,
          0.19103,
          0.22685999999999998,
          0.18503,
          0.30968,
          0.18077000000000001,
          0.062439999999999996,
          0.21064000000000002,
          0.12425,
          0.1827,
          0.20338,
          0.12070999999999998,
          0.2097,
          0.25899,
          0.18667,
          0.24353000000000002,
          0.27102,
          0.2204,
          0.31472,
          0.24063,
          0.29914,
          0.23551999999999998,
          0.2018,
          0.17517,
          0.2029
         ],
         "yaxis": "y"
        }
       ],
       "layout": {
        "height": 600,
        "legend": {
         "title": {
          "text": "Region"
         },
         "tracegroupgap": 0
        },
        "template": {
         "data": {
          "bar": [
           {
            "error_x": {
             "color": "#2a3f5f"
            },
            "error_y": {
             "color": "#2a3f5f"
            },
            "marker": {
             "line": {
              "color": "#E5ECF6",
              "width": 0.5
             }
            },
            "type": "bar"
           }
          ],
          "barpolar": [
           {
            "marker": {
             "line": {
              "color": "#E5ECF6",
              "width": 0.5
             }
            },
            "type": "barpolar"
           }
          ],
          "carpet": [
           {
            "aaxis": {
             "endlinecolor": "#2a3f5f",
             "gridcolor": "white",
             "linecolor": "white",
             "minorgridcolor": "white",
             "startlinecolor": "#2a3f5f"
            },
            "baxis": {
             "endlinecolor": "#2a3f5f",
             "gridcolor": "white",
             "linecolor": "white",
             "minorgridcolor": "white",
             "startlinecolor": "#2a3f5f"
            },
            "type": "carpet"
           }
          ],
          "choropleth": [
           {
            "colorbar": {
             "outlinewidth": 0,
             "ticks": ""
            },
            "type": "choropleth"
           }
          ],
          "contour": [
           {
            "colorbar": {
             "outlinewidth": 0,
             "ticks": ""
            },
            "colorscale": [
             [
              0,
              "#0d0887"
             ],
             [
              0.1111111111111111,
              "#46039f"
             ],
             [
              0.2222222222222222,
              "#7201a8"
             ],
             [
              0.3333333333333333,
              "#9c179e"
             ],
             [
              0.4444444444444444,
              "#bd3786"
             ],
             [
              0.5555555555555556,
              "#d8576b"
             ],
             [
              0.6666666666666666,
              "#ed7953"
             ],
             [
              0.7777777777777778,
              "#fb9f3a"
             ],
             [
              0.8888888888888888,
              "#fdca26"
             ],
             [
              1,
              "#f0f921"
             ]
            ],
            "type": "contour"
           }
          ],
          "contourcarpet": [
           {
            "colorbar": {
             "outlinewidth": 0,
             "ticks": ""
            },
            "type": "contourcarpet"
           }
          ],
          "heatmap": [
           {
            "colorbar": {
             "outlinewidth": 0,
             "ticks": ""
            },
            "colorscale": [
             [
              0,
              "#0d0887"
             ],
             [
              0.1111111111111111,
              "#46039f"
             ],
             [
              0.2222222222222222,
              "#7201a8"
             ],
             [
              0.3333333333333333,
              "#9c179e"
             ],
             [
              0.4444444444444444,
              "#bd3786"
             ],
             [
              0.5555555555555556,
              "#d8576b"
             ],
             [
              0.6666666666666666,
              "#ed7953"
             ],
             [
              0.7777777777777778,
              "#fb9f3a"
             ],
             [
              0.8888888888888888,
              "#fdca26"
             ],
             [
              1,
              "#f0f921"
             ]
            ],
            "type": "heatmap"
           }
          ],
          "heatmapgl": [
           {
            "colorbar": {
             "outlinewidth": 0,
             "ticks": ""
            },
            "colorscale": [
             [
              0,
              "#0d0887"
             ],
             [
              0.1111111111111111,
              "#46039f"
             ],
             [
              0.2222222222222222,
              "#7201a8"
             ],
             [
              0.3333333333333333,
              "#9c179e"
             ],
             [
              0.4444444444444444,
              "#bd3786"
             ],
             [
              0.5555555555555556,
              "#d8576b"
             ],
             [
              0.6666666666666666,
              "#ed7953"
             ],
             [
              0.7777777777777778,
              "#fb9f3a"
             ],
             [
              0.8888888888888888,
              "#fdca26"
             ],
             [
              1,
              "#f0f921"
             ]
            ],
            "type": "heatmapgl"
           }
          ],
          "histogram": [
           {
            "marker": {
             "colorbar": {
              "outlinewidth": 0,
              "ticks": ""
             }
            },
            "type": "histogram"
           }
          ],
          "histogram2d": [
           {
            "colorbar": {
             "outlinewidth": 0,
             "ticks": ""
            },
            "colorscale": [
             [
              0,
              "#0d0887"
             ],
             [
              0.1111111111111111,
              "#46039f"
             ],
             [
              0.2222222222222222,
              "#7201a8"
             ],
             [
              0.3333333333333333,
              "#9c179e"
             ],
             [
              0.4444444444444444,
              "#bd3786"
             ],
             [
              0.5555555555555556,
              "#d8576b"
             ],
             [
              0.6666666666666666,
              "#ed7953"
             ],
             [
              0.7777777777777778,
              "#fb9f3a"
             ],
             [
              0.8888888888888888,
              "#fdca26"
             ],
             [
              1,
              "#f0f921"
             ]
            ],
            "type": "histogram2d"
           }
          ],
          "histogram2dcontour": [
           {
            "colorbar": {
             "outlinewidth": 0,
             "ticks": ""
            },
            "colorscale": [
             [
              0,
              "#0d0887"
             ],
             [
              0.1111111111111111,
              "#46039f"
             ],
             [
              0.2222222222222222,
              "#7201a8"
             ],
             [
              0.3333333333333333,
              "#9c179e"
             ],
             [
              0.4444444444444444,
              "#bd3786"
             ],
             [
              0.5555555555555556,
              "#d8576b"
             ],
             [
              0.6666666666666666,
              "#ed7953"
             ],
             [
              0.7777777777777778,
              "#fb9f3a"
             ],
             [
              0.8888888888888888,
              "#fdca26"
             ],
             [
              1,
              "#f0f921"
             ]
            ],
            "type": "histogram2dcontour"
           }
          ],
          "mesh3d": [
           {
            "colorbar": {
             "outlinewidth": 0,
             "ticks": ""
            },
            "type": "mesh3d"
           }
          ],
          "parcoords": [
           {
            "line": {
             "colorbar": {
              "outlinewidth": 0,
              "ticks": ""
             }
            },
            "type": "parcoords"
           }
          ],
          "pie": [
           {
            "automargin": true,
            "type": "pie"
           }
          ],
          "scatter": [
           {
            "marker": {
             "colorbar": {
              "outlinewidth": 0,
              "ticks": ""
             }
            },
            "type": "scatter"
           }
          ],
          "scatter3d": [
           {
            "line": {
             "colorbar": {
              "outlinewidth": 0,
              "ticks": ""
             }
            },
            "marker": {
             "colorbar": {
              "outlinewidth": 0,
              "ticks": ""
             }
            },
            "type": "scatter3d"
           }
          ],
          "scattercarpet": [
           {
            "marker": {
             "colorbar": {
              "outlinewidth": 0,
              "ticks": ""
             }
            },
            "type": "scattercarpet"
           }
          ],
          "scattergeo": [
           {
            "marker": {
             "colorbar": {
              "outlinewidth": 0,
              "ticks": ""
             }
            },
            "type": "scattergeo"
           }
          ],
          "scattergl": [
           {
            "marker": {
             "colorbar": {
              "outlinewidth": 0,
              "ticks": ""
             }
            },
            "type": "scattergl"
           }
          ],
          "scattermapbox": [
           {
            "marker": {
             "colorbar": {
              "outlinewidth": 0,
              "ticks": ""
             }
            },
            "type": "scattermapbox"
           }
          ],
          "scatterpolar": [
           {
            "marker": {
             "colorbar": {
              "outlinewidth": 0,
              "ticks": ""
             }
            },
            "type": "scatterpolar"
           }
          ],
          "scatterpolargl": [
           {
            "marker": {
             "colorbar": {
              "outlinewidth": 0,
              "ticks": ""
             }
            },
            "type": "scatterpolargl"
           }
          ],
          "scatterternary": [
           {
            "marker": {
             "colorbar": {
              "outlinewidth": 0,
              "ticks": ""
             }
            },
            "type": "scatterternary"
           }
          ],
          "surface": [
           {
            "colorbar": {
             "outlinewidth": 0,
             "ticks": ""
            },
            "colorscale": [
             [
              0,
              "#0d0887"
             ],
             [
              0.1111111111111111,
              "#46039f"
             ],
             [
              0.2222222222222222,
              "#7201a8"
             ],
             [
              0.3333333333333333,
              "#9c179e"
             ],
             [
              0.4444444444444444,
              "#bd3786"
             ],
             [
              0.5555555555555556,
              "#d8576b"
             ],
             [
              0.6666666666666666,
              "#ed7953"
             ],
             [
              0.7777777777777778,
              "#fb9f3a"
             ],
             [
              0.8888888888888888,
              "#fdca26"
             ],
             [
              1,
              "#f0f921"
             ]
            ],
            "type": "surface"
           }
          ],
          "table": [
           {
            "cells": {
             "fill": {
              "color": "#EBF0F8"
             },
             "line": {
              "color": "white"
             }
            },
            "header": {
             "fill": {
              "color": "#C8D4E3"
             },
             "line": {
              "color": "white"
             }
            },
            "type": "table"
           }
          ]
         },
         "layout": {
          "annotationdefaults": {
           "arrowcolor": "#2a3f5f",
           "arrowhead": 0,
           "arrowwidth": 1
          },
          "autotypenumbers": "strict",
          "coloraxis": {
           "colorbar": {
            "outlinewidth": 0,
            "ticks": ""
           }
          },
          "colorscale": {
           "diverging": [
            [
             0,
             "#8e0152"
            ],
            [
             0.1,
             "#c51b7d"
            ],
            [
             0.2,
             "#de77ae"
            ],
            [
             0.3,
             "#f1b6da"
            ],
            [
             0.4,
             "#fde0ef"
            ],
            [
             0.5,
             "#f7f7f7"
            ],
            [
             0.6,
             "#e6f5d0"
            ],
            [
             0.7,
             "#b8e186"
            ],
            [
             0.8,
             "#7fbc41"
            ],
            [
             0.9,
             "#4d9221"
            ],
            [
             1,
             "#276419"
            ]
           ],
           "sequential": [
            [
             0,
             "#0d0887"
            ],
            [
             0.1111111111111111,
             "#46039f"
            ],
            [
             0.2222222222222222,
             "#7201a8"
            ],
            [
             0.3333333333333333,
             "#9c179e"
            ],
            [
             0.4444444444444444,
             "#bd3786"
            ],
            [
             0.5555555555555556,
             "#d8576b"
            ],
            [
             0.6666666666666666,
             "#ed7953"
            ],
            [
             0.7777777777777778,
             "#fb9f3a"
            ],
            [
             0.8888888888888888,
             "#fdca26"
            ],
            [
             1,
             "#f0f921"
            ]
           ],
           "sequentialminus": [
            [
             0,
             "#0d0887"
            ],
            [
             0.1111111111111111,
             "#46039f"
            ],
            [
             0.2222222222222222,
             "#7201a8"
            ],
            [
             0.3333333333333333,
             "#9c179e"
            ],
            [
             0.4444444444444444,
             "#bd3786"
            ],
            [
             0.5555555555555556,
             "#d8576b"
            ],
            [
             0.6666666666666666,
             "#ed7953"
            ],
            [
             0.7777777777777778,
             "#fb9f3a"
            ],
            [
             0.8888888888888888,
             "#fdca26"
            ],
            [
             1,
             "#f0f921"
            ]
           ]
          },
          "colorway": [
           "#636efa",
           "#EF553B",
           "#00cc96",
           "#ab63fa",
           "#FFA15A",
           "#19d3f3",
           "#FF6692",
           "#B6E880",
           "#FF97FF",
           "#FECB52"
          ],
          "font": {
           "color": "#2a3f5f"
          },
          "geo": {
           "bgcolor": "white",
           "lakecolor": "white",
           "landcolor": "#E5ECF6",
           "showlakes": true,
           "showland": true,
           "subunitcolor": "white"
          },
          "hoverlabel": {
           "align": "left"
          },
          "hovermode": "closest",
          "mapbox": {
           "style": "light"
          },
          "paper_bgcolor": "white",
          "plot_bgcolor": "#E5ECF6",
          "polar": {
           "angularaxis": {
            "gridcolor": "white",
            "linecolor": "white",
            "ticks": ""
           },
           "bgcolor": "#E5ECF6",
           "radialaxis": {
            "gridcolor": "white",
            "linecolor": "white",
            "ticks": ""
           }
          },
          "scene": {
           "xaxis": {
            "backgroundcolor": "#E5ECF6",
            "gridcolor": "white",
            "gridwidth": 2,
            "linecolor": "white",
            "showbackground": true,
            "ticks": "",
            "zerolinecolor": "white"
           },
           "yaxis": {
            "backgroundcolor": "#E5ECF6",
            "gridcolor": "white",
            "gridwidth": 2,
            "linecolor": "white",
            "showbackground": true,
            "ticks": "",
            "zerolinecolor": "white"
           },
           "zaxis": {
            "backgroundcolor": "#E5ECF6",
            "gridcolor": "white",
            "gridwidth": 2,
            "linecolor": "white",
            "showbackground": true,
            "ticks": "",
            "zerolinecolor": "white"
           }
          },
          "shapedefaults": {
           "line": {
            "color": "#2a3f5f"
           }
          },
          "ternary": {
           "aaxis": {
            "gridcolor": "white",
            "linecolor": "white",
            "ticks": ""
           },
           "baxis": {
            "gridcolor": "white",
            "linecolor": "white",
            "ticks": ""
           },
           "bgcolor": "#E5ECF6",
           "caxis": {
            "gridcolor": "white",
            "linecolor": "white",
            "ticks": ""
           }
          },
          "title": {
           "x": 0.05
          },
          "xaxis": {
           "automargin": true,
           "gridcolor": "white",
           "linecolor": "white",
           "ticks": "",
           "title": {
            "standoff": 15
           },
           "zerolinecolor": "white",
           "zerolinewidth": 2
          },
          "yaxis": {
           "automargin": true,
           "gridcolor": "white",
           "linecolor": "white",
           "ticks": "",
           "title": {
            "standoff": 15
           },
           "zerolinecolor": "white",
           "zerolinewidth": 2
          }
         }
        },
        "title": {
         "text": "Happiness Score compared to Generosity Score"
        },
        "width": 1000,
        "xaxis": {
         "anchor": "y",
         "domain": [
          0,
          1
         ],
         "range": [
          0,
          8
         ],
         "title": {
          "text": "Happiness Score"
         }
        },
        "yaxis": {
         "anchor": "x",
         "domain": [
          0,
          1
         ],
         "title": {
          "text": "Generosity Score"
         }
        }
       }
      },
      "text/html": [
       "<div>                            <div id=\"91ec0900-ae8b-4785-9b22-c78ac76c67bb\" class=\"plotly-graph-div\" style=\"height:600px; width:1000px;\"></div>            <script type=\"text/javascript\">                require([\"plotly\"], function(Plotly) {                    window.PLOTLYENV=window.PLOTLYENV || {};                                    if (document.getElementById(\"91ec0900-ae8b-4785-9b22-c78ac76c67bb\")) {                    Plotly.newPlot(                        \"91ec0900-ae8b-4785-9b22-c78ac76c67bb\",                        [{\"hovertemplate\": \"<b>%{hovertext}</b><br><br>Region=Europe<br>Score=%{x}<br>Generosity=%{y}<extra></extra>\", \"hovertext\": [\"Denmark\", \"Switzerland\", \"Iceland\", \"Norway\", \"Finland\", \"Netherlands\", \"Sweden\", \"Austria\", \"Germany\", \"Belgium\", \"Ireland\", \"Luxembourg\", \"United Kingdom\", \"Czech Republic\", \"Malta\", \"France\", \"Spain\", \"Slovakia\", \"Uzbekistan\", \"Italy\", \"Kazakhstan\", \"Moldova\", \"Russia\", \"Poland\", \"Lithuania\", \"Belarus\", \"North Cyprus\", \"Slovenia\", \"Turkmenistan\", \"Latvia\", \"Cyprus\", \"Romania\", \"Estonia\", \"Croatia\", \"Kosovo\", \"Azerbaijan\", \"Kyrgyzstan\", \"Serbia\", \"Bosnia and Herzegovina\", \"Montenegro\", \"Hungary\", \"Portugal\", \"Macedonia\", \"Greece\", \"Tajikistan\", \"Albania\", \"Armenia\", \"Ukraine\", \"Georgia\", \"Bulgaria\"], \"legendgroup\": \"Europe\", \"marker\": {\"color\": \"#636efa\", \"line\": {\"color\": \"DarkSlateGrey\", \"width\": 1}, \"size\": 10, \"symbol\": \"circle\"}, \"mode\": \"markers\", \"name\": \"Europe\", \"orientation\": \"v\", \"showlegend\": true, \"type\": \"scatter\", \"x\": [7.526, 7.5089999999999995, 7.501, 7.497999999999999, 7.412999999999999, 7.3389999999999995, 7.291, 7.119, 6.994, 6.928999999999999, 6.907, 6.871, 6.725, 6.596, 6.4879999999999995, 6.478, 6.361000000000001, 6.077999999999999, 5.987, 5.977, 5.919, 5.897, 5.856, 5.835, 5.813, 5.8020000000000005, 5.771, 5.768, 5.6579999999999995, 5.56, 5.546, 5.528, 5.517, 5.4879999999999995, 5.401, 5.291, 5.185, 5.1770000000000005, 5.162999999999999, 5.1610000000000005, 5.145, 5.122999999999999, 5.121, 5.033, 4.996, 4.655, 4.36, 4.324, 4.252, 4.217], \"xaxis\": \"x\", \"y\": [0.36171, 0.28083, 0.47678000000000004, 0.37895, 0.25492, 0.47416, 0.38254, 0.32865, 0.30451999999999996, 0.2424, 0.44963000000000003, 0.27571, 0.50156, 0.09929, 0.56237, 0.1216, 0.17665, 0.13837, 0.34326, 0.16684000000000002, 0.15011, 0.19997, 0.027360000000000002, 0.14443, 0.02025, 0.13942000000000002, 0.26322, 0.25738, 0.22566999999999998, 0.17445, 0.27906, 0.12889, 0.08423, 0.18434, 0.27992, 0.0564, 0.38432, 0.20736999999999997, 0.29889, 0.17190999999999998, 0.099, 0.11690999999999999, 0.23506999999999997, 0.0, 0.25998000000000004, 0.1684, 0.07793, 0.20363, 0.06786, 0.12793], \"yaxis\": \"y\"}, {\"hovertemplate\": \"<b>%{hovertext}</b><br><br>Region=North America<br>Score=%{x}<br>Generosity=%{y}<extra></extra>\", \"hovertext\": [\"Canada\", \"United States\"], \"legendgroup\": \"North America\", \"marker\": {\"color\": \"#EF553B\", \"line\": {\"color\": \"DarkSlateGrey\", \"width\": 1}, \"size\": 10, \"symbol\": \"circle\"}, \"mode\": \"markers\", \"name\": \"North America\", \"orientation\": \"v\", \"showlegend\": true, \"type\": \"scatter\", \"x\": [7.404, 7.104], \"xaxis\": \"x\", \"y\": [0.44833999999999996, 0.41076999999999997], \"yaxis\": \"y\"}, {\"hovertemplate\": \"<b>%{hovertext}</b><br><br>Region=Australia and New Zealand<br>Score=%{x}<br>Generosity=%{y}<extra></extra>\", \"hovertext\": [\"New Zealand\", \"Australia\"], \"legendgroup\": \"Australia and New Zealand\", \"marker\": {\"color\": \"#00cc96\", \"line\": {\"color\": \"DarkSlateGrey\", \"width\": 1}, \"size\": 10, \"symbol\": \"circle\"}, \"mode\": \"markers\", \"name\": \"Australia and New Zealand\", \"orientation\": \"v\", \"showlegend\": true, \"type\": \"scatter\", \"x\": [7.334, 7.313], \"xaxis\": \"x\", \"y\": [0.49401000000000006, 0.47407], \"yaxis\": \"y\"}, {\"hovertemplate\": \"<b>%{hovertext}</b><br><br>Region=Middle East and Northern Africa<br>Score=%{x}<br>Generosity=%{y}<extra></extra>\", \"hovertext\": [\"Israel\", \"United Arab Emirates\", \"Saudi Arabia\", \"Qatar\", \"Algeria\", \"Kuwait\", \"Bahrain\", \"Libya\", \"Turkey\", \"Jordan\", \"Morocco\", \"Lebanon\", \"Tunisia\", \"Iran\", \"Palestinian Territories\", \"Iraq\", \"Egypt\", \"Yemen\", \"Syria\"], \"legendgroup\": \"Middle East and Northern Africa\", \"marker\": {\"color\": \"#ab63fa\", \"line\": {\"color\": \"DarkSlateGrey\", \"width\": 1}, \"size\": 10, \"symbol\": \"circle\"}, \"mode\": \"markers\", \"name\": \"Middle East and Northern Africa\", \"orientation\": \"v\", \"showlegend\": true, \"type\": \"scatter\", \"x\": [7.267, 6.5729999999999995, 6.379, 6.375, 6.355, 6.239, 6.218, 5.615, 5.388999999999999, 5.303, 5.151, 5.129, 5.045, 4.813, 4.754, 4.575, 4.362, 3.7239999999999998, 3.069], \"xaxis\": \"x\", \"y\": [0.32288, 0.26591, 0.15457, 0.32388, 0.07044, 0.15965, 0.17147, 0.17087, 0.04707, 0.14262, 0.040530000000000004, 0.23693000000000003, 0.03936, 0.38538, 0.11154000000000001, 0.19589, 0.12705999999999998, 0.09821, 0.48396999999999996], \"yaxis\": \"y\"}, {\"hovertemplate\": \"<b>%{hovertext}</b><br><br>Region=Latin America and Caribbean<br>Score=%{x}<br>Generosity=%{y}<extra></extra>\", \"hovertext\": [\"Costa Rica\", \"Puerto Rico\", \"Brazil\", \"Mexico\", \"Chile\", \"Panama\", \"Argentina\", \"Uruguay\", \"Colombia\", \"Guatemala\", \"Suriname\", \"Trinidad and Tobago\", \"Venezuela\", \"El Salvador\", \"Nicaragua\", \"Ecuador\", \"Belize\", \"Bolivia\", \"Peru\", \"Paraguay\", \"Jamaica\", \"Dominican Republic\", \"Honduras\", \"Haiti\"], \"legendgroup\": \"Latin America and Caribbean\", \"marker\": {\"color\": \"#FFA15A\", \"line\": {\"color\": \"DarkSlateGrey\", \"width\": 1}, \"size\": 10, \"symbol\": \"circle\"}, \"mode\": \"markers\", \"name\": \"Latin America and Caribbean\", \"orientation\": \"v\", \"showlegend\": true, \"type\": \"scatter\", \"x\": [7.087000000000001, 7.039, 6.952000000000001, 6.778, 6.705, 6.7010000000000005, 6.65, 6.545, 6.481, 6.324, 6.269, 6.167999999999999, 6.084, 6.068, 5.992000000000001, 5.976, 5.956, 5.822, 5.742999999999999, 5.537999999999999, 5.51, 5.155, 4.871, 4.0280000000000005], \"xaxis\": \"x\", \"y\": [0.22553, 0.22202, 0.15775999999999998, 0.11735, 0.31595, 0.2418, 0.10989000000000002, 0.18056, 0.15625999999999998, 0.28808, 0.16665, 0.31935, 0.0425, 0.08877, 0.29773, 0.10074, 0.23684000000000002, 0.21698, 0.14527, 0.25296, 0.22245, 0.21286, 0.2044, 0.47958], \"yaxis\": \"y\"}, {\"hovertemplate\": \"<b>%{hovertext}</b><br><br>Region=Asia<br>Score=%{x}<br>Generosity=%{y}<extra></extra>\", \"hovertext\": [\"Singapore\", \"Thailand\", \"Taiwan\", \"Malaysia\", \"Japan\", \"South Korea\", \"Hong Kong\", \"Indonesia\", \"Philippines\", \"China\", \"Bhutan\", \"Pakistan\", \"Vietnam\", \"Mongolia\", \"Laos\", \"Nepal\", \"Bangladesh\", \"Sri Lanka\", \"India\", \"Myanmar\", \"Cambodia\", \"Afghanistan\"], \"legendgroup\": \"Asia\", \"marker\": {\"color\": \"#19d3f3\", \"line\": {\"color\": \"DarkSlateGrey\", \"width\": 1}, \"size\": 10, \"symbol\": \"circle\"}, \"mode\": \"markers\", \"name\": \"Asia\", \"orientation\": \"v\", \"showlegend\": true, \"type\": \"scatter\", \"x\": [6.739, 6.474, 6.379, 6.005, 5.921, 5.835, 5.457999999999999, 5.314, 5.279, 5.245, 5.196000000000001, 5.132000000000001, 5.061, 4.907, 4.876, 4.793, 4.643, 4.415, 4.404, 4.395, 3.907, 3.36], \"xaxis\": \"x\", \"y\": [0.32706, 0.58696, 0.25495, 0.41473999999999994, 0.10224, 0.18824000000000002, 0.40097, 0.56521, 0.21674000000000002, 0.049589999999999995, 0.48546000000000006, 0.31185, 0.25075, 0.34539000000000003, 0.43078999999999995, 0.3816, 0.19132000000000002, 0.46978000000000003, 0.25028, 0.81971, 0.40339, 0.31268], \"yaxis\": \"y\"}, {\"hovertemplate\": \"<b>%{hovertext}</b><br><br>Region=Sub-Saharan Africa<br>Score=%{x}<br>Generosity=%{y}<extra></extra>\", \"hovertext\": [\"Mauritius\", \"Somalia\", \"Somaliland Region\", \"Nigeria\", \"Zambia\", \"Sierra Leone\", \"Namibia\", \"Cameroon\", \"Ethiopia\", \"South Africa\", \"Kenya\", \"Ghana\", \"Congo (Kinshasa)\", \"Congo (Brazzaville)\", \"Senegal\", \"Mauritania\", \"Zimbabwe\", \"Malawi\", \"Sudan\", \"Gabon\", \"Mali\", \"Botswana\", \"Comoros\", \"Ivory Coast\", \"Angola\", \"Niger\", \"South Sudan\", \"Chad\", \"Burkina Faso\", \"Uganda\", \"Madagascar\", \"Tanzania\", \"Liberia\", \"Guinea\", \"Rwanda\", \"Benin\", \"Togo\", \"Burundi\"], \"legendgroup\": \"Sub-Saharan Africa\", \"marker\": {\"color\": \"#FF6692\", \"line\": {\"color\": \"DarkSlateGrey\", \"width\": 1}, \"size\": 10, \"symbol\": \"circle\"}, \"mode\": \"markers\", \"name\": \"Sub-Saharan Africa\", \"orientation\": \"v\", \"showlegend\": true, \"type\": \"scatter\", \"x\": [5.648, 5.44, 5.0569999999999995, 4.875, 4.795, 4.635, 4.574, 4.513, 4.508, 4.459, 4.356, 4.276, 4.272, 4.236000000000001, 4.218999999999999, 4.2010000000000005, 4.1930000000000005, 4.156000000000001, 4.138999999999999, 4.121, 4.073, 3.9739999999999998, 3.9560000000000004, 3.9160000000000004, 3.866, 3.8560000000000003, 3.832, 3.763, 3.739, 3.739, 3.695, 3.6660000000000004, 3.622, 3.6069999999999998, 3.515, 3.484, 3.303, 2.905], \"xaxis\": \"x\", \"y\": [0.36951, 0.27225, 0.51479, 0.23219, 0.17865999999999999, 0.23897, 0.07795, 0.2268, 0.29522, 0.13656, 0.41328000000000004, 0.21203000000000002, 0.25458000000000003, 0.12077, 0.19103, 0.22685999999999998, 0.18503, 0.30968, 0.18077000000000001, 0.062439999999999996, 0.21064000000000002, 0.12425, 0.1827, 0.20338, 0.12070999999999998, 0.2097, 0.25899, 0.18667, 0.24353000000000002, 0.27102, 0.2204, 0.31472, 0.24063, 0.29914, 0.23551999999999998, 0.2018, 0.17517, 0.2029], \"yaxis\": \"y\"}],                        {\"height\": 600, \"legend\": {\"title\": {\"text\": \"Region\"}, \"tracegroupgap\": 0}, \"template\": {\"data\": {\"bar\": [{\"error_x\": {\"color\": \"#2a3f5f\"}, \"error_y\": {\"color\": \"#2a3f5f\"}, \"marker\": {\"line\": {\"color\": \"#E5ECF6\", \"width\": 0.5}}, \"type\": \"bar\"}], \"barpolar\": [{\"marker\": {\"line\": {\"color\": \"#E5ECF6\", \"width\": 0.5}}, \"type\": \"barpolar\"}], \"carpet\": [{\"aaxis\": {\"endlinecolor\": \"#2a3f5f\", \"gridcolor\": \"white\", \"linecolor\": \"white\", \"minorgridcolor\": \"white\", \"startlinecolor\": \"#2a3f5f\"}, \"baxis\": {\"endlinecolor\": \"#2a3f5f\", \"gridcolor\": \"white\", \"linecolor\": \"white\", \"minorgridcolor\": \"white\", \"startlinecolor\": \"#2a3f5f\"}, \"type\": \"carpet\"}], \"choropleth\": [{\"colorbar\": {\"outlinewidth\": 0, \"ticks\": \"\"}, \"type\": \"choropleth\"}], \"contour\": [{\"colorbar\": {\"outlinewidth\": 0, \"ticks\": \"\"}, \"colorscale\": [[0.0, \"#0d0887\"], [0.1111111111111111, \"#46039f\"], [0.2222222222222222, \"#7201a8\"], [0.3333333333333333, \"#9c179e\"], [0.4444444444444444, \"#bd3786\"], [0.5555555555555556, \"#d8576b\"], [0.6666666666666666, \"#ed7953\"], [0.7777777777777778, \"#fb9f3a\"], [0.8888888888888888, \"#fdca26\"], [1.0, \"#f0f921\"]], \"type\": \"contour\"}], \"contourcarpet\": [{\"colorbar\": {\"outlinewidth\": 0, \"ticks\": \"\"}, \"type\": \"contourcarpet\"}], \"heatmap\": [{\"colorbar\": {\"outlinewidth\": 0, \"ticks\": \"\"}, \"colorscale\": [[0.0, \"#0d0887\"], [0.1111111111111111, \"#46039f\"], [0.2222222222222222, \"#7201a8\"], [0.3333333333333333, \"#9c179e\"], [0.4444444444444444, \"#bd3786\"], [0.5555555555555556, \"#d8576b\"], [0.6666666666666666, \"#ed7953\"], [0.7777777777777778, \"#fb9f3a\"], [0.8888888888888888, \"#fdca26\"], [1.0, \"#f0f921\"]], \"type\": \"heatmap\"}], \"heatmapgl\": [{\"colorbar\": {\"outlinewidth\": 0, \"ticks\": \"\"}, \"colorscale\": [[0.0, \"#0d0887\"], [0.1111111111111111, \"#46039f\"], [0.2222222222222222, \"#7201a8\"], [0.3333333333333333, \"#9c179e\"], [0.4444444444444444, \"#bd3786\"], [0.5555555555555556, \"#d8576b\"], [0.6666666666666666, \"#ed7953\"], [0.7777777777777778, \"#fb9f3a\"], [0.8888888888888888, \"#fdca26\"], [1.0, \"#f0f921\"]], \"type\": \"heatmapgl\"}], \"histogram\": [{\"marker\": {\"colorbar\": {\"outlinewidth\": 0, \"ticks\": \"\"}}, \"type\": \"histogram\"}], \"histogram2d\": [{\"colorbar\": {\"outlinewidth\": 0, \"ticks\": \"\"}, \"colorscale\": [[0.0, \"#0d0887\"], [0.1111111111111111, \"#46039f\"], [0.2222222222222222, \"#7201a8\"], [0.3333333333333333, \"#9c179e\"], [0.4444444444444444, \"#bd3786\"], [0.5555555555555556, \"#d8576b\"], [0.6666666666666666, \"#ed7953\"], [0.7777777777777778, \"#fb9f3a\"], [0.8888888888888888, \"#fdca26\"], [1.0, \"#f0f921\"]], \"type\": \"histogram2d\"}], \"histogram2dcontour\": [{\"colorbar\": {\"outlinewidth\": 0, \"ticks\": \"\"}, \"colorscale\": [[0.0, \"#0d0887\"], [0.1111111111111111, \"#46039f\"], [0.2222222222222222, \"#7201a8\"], [0.3333333333333333, \"#9c179e\"], [0.4444444444444444, \"#bd3786\"], [0.5555555555555556, \"#d8576b\"], [0.6666666666666666, \"#ed7953\"], [0.7777777777777778, \"#fb9f3a\"], [0.8888888888888888, \"#fdca26\"], [1.0, \"#f0f921\"]], \"type\": \"histogram2dcontour\"}], \"mesh3d\": [{\"colorbar\": {\"outlinewidth\": 0, \"ticks\": \"\"}, \"type\": \"mesh3d\"}], \"parcoords\": [{\"line\": {\"colorbar\": {\"outlinewidth\": 0, \"ticks\": \"\"}}, \"type\": \"parcoords\"}], \"pie\": [{\"automargin\": true, \"type\": \"pie\"}], \"scatter\": [{\"marker\": {\"colorbar\": {\"outlinewidth\": 0, \"ticks\": \"\"}}, \"type\": \"scatter\"}], \"scatter3d\": [{\"line\": {\"colorbar\": {\"outlinewidth\": 0, \"ticks\": \"\"}}, \"marker\": {\"colorbar\": {\"outlinewidth\": 0, \"ticks\": \"\"}}, \"type\": \"scatter3d\"}], \"scattercarpet\": [{\"marker\": {\"colorbar\": {\"outlinewidth\": 0, \"ticks\": \"\"}}, \"type\": \"scattercarpet\"}], \"scattergeo\": [{\"marker\": {\"colorbar\": {\"outlinewidth\": 0, \"ticks\": \"\"}}, \"type\": \"scattergeo\"}], \"scattergl\": [{\"marker\": {\"colorbar\": {\"outlinewidth\": 0, \"ticks\": \"\"}}, \"type\": \"scattergl\"}], \"scattermapbox\": [{\"marker\": {\"colorbar\": {\"outlinewidth\": 0, \"ticks\": \"\"}}, \"type\": \"scattermapbox\"}], \"scatterpolar\": [{\"marker\": {\"colorbar\": {\"outlinewidth\": 0, \"ticks\": \"\"}}, \"type\": \"scatterpolar\"}], \"scatterpolargl\": [{\"marker\": {\"colorbar\": {\"outlinewidth\": 0, \"ticks\": \"\"}}, \"type\": \"scatterpolargl\"}], \"scatterternary\": [{\"marker\": {\"colorbar\": {\"outlinewidth\": 0, \"ticks\": \"\"}}, \"type\": \"scatterternary\"}], \"surface\": [{\"colorbar\": {\"outlinewidth\": 0, \"ticks\": \"\"}, \"colorscale\": [[0.0, \"#0d0887\"], [0.1111111111111111, \"#46039f\"], [0.2222222222222222, \"#7201a8\"], [0.3333333333333333, \"#9c179e\"], [0.4444444444444444, \"#bd3786\"], [0.5555555555555556, \"#d8576b\"], [0.6666666666666666, \"#ed7953\"], [0.7777777777777778, \"#fb9f3a\"], [0.8888888888888888, \"#fdca26\"], [1.0, \"#f0f921\"]], \"type\": \"surface\"}], \"table\": [{\"cells\": {\"fill\": {\"color\": \"#EBF0F8\"}, \"line\": {\"color\": \"white\"}}, \"header\": {\"fill\": {\"color\": \"#C8D4E3\"}, \"line\": {\"color\": \"white\"}}, \"type\": \"table\"}]}, \"layout\": {\"annotationdefaults\": {\"arrowcolor\": \"#2a3f5f\", \"arrowhead\": 0, \"arrowwidth\": 1}, \"autotypenumbers\": \"strict\", \"coloraxis\": {\"colorbar\": {\"outlinewidth\": 0, \"ticks\": \"\"}}, \"colorscale\": {\"diverging\": [[0, \"#8e0152\"], [0.1, \"#c51b7d\"], [0.2, \"#de77ae\"], [0.3, \"#f1b6da\"], [0.4, \"#fde0ef\"], [0.5, \"#f7f7f7\"], [0.6, \"#e6f5d0\"], [0.7, \"#b8e186\"], [0.8, \"#7fbc41\"], [0.9, \"#4d9221\"], [1, \"#276419\"]], \"sequential\": [[0.0, \"#0d0887\"], [0.1111111111111111, \"#46039f\"], [0.2222222222222222, \"#7201a8\"], [0.3333333333333333, \"#9c179e\"], [0.4444444444444444, \"#bd3786\"], [0.5555555555555556, \"#d8576b\"], [0.6666666666666666, \"#ed7953\"], [0.7777777777777778, \"#fb9f3a\"], [0.8888888888888888, \"#fdca26\"], [1.0, \"#f0f921\"]], \"sequentialminus\": [[0.0, \"#0d0887\"], [0.1111111111111111, \"#46039f\"], [0.2222222222222222, \"#7201a8\"], [0.3333333333333333, \"#9c179e\"], [0.4444444444444444, \"#bd3786\"], [0.5555555555555556, \"#d8576b\"], [0.6666666666666666, \"#ed7953\"], [0.7777777777777778, \"#fb9f3a\"], [0.8888888888888888, \"#fdca26\"], [1.0, \"#f0f921\"]]}, \"colorway\": [\"#636efa\", \"#EF553B\", \"#00cc96\", \"#ab63fa\", \"#FFA15A\", \"#19d3f3\", \"#FF6692\", \"#B6E880\", \"#FF97FF\", \"#FECB52\"], \"font\": {\"color\": \"#2a3f5f\"}, \"geo\": {\"bgcolor\": \"white\", \"lakecolor\": \"white\", \"landcolor\": \"#E5ECF6\", \"showlakes\": true, \"showland\": true, \"subunitcolor\": \"white\"}, \"hoverlabel\": {\"align\": \"left\"}, \"hovermode\": \"closest\", \"mapbox\": {\"style\": \"light\"}, \"paper_bgcolor\": \"white\", \"plot_bgcolor\": \"#E5ECF6\", \"polar\": {\"angularaxis\": {\"gridcolor\": \"white\", \"linecolor\": \"white\", \"ticks\": \"\"}, \"bgcolor\": \"#E5ECF6\", \"radialaxis\": {\"gridcolor\": \"white\", \"linecolor\": \"white\", \"ticks\": \"\"}}, \"scene\": {\"xaxis\": {\"backgroundcolor\": \"#E5ECF6\", \"gridcolor\": \"white\", \"gridwidth\": 2, \"linecolor\": \"white\", \"showbackground\": true, \"ticks\": \"\", \"zerolinecolor\": \"white\"}, \"yaxis\": {\"backgroundcolor\": \"#E5ECF6\", \"gridcolor\": \"white\", \"gridwidth\": 2, \"linecolor\": \"white\", \"showbackground\": true, \"ticks\": \"\", \"zerolinecolor\": \"white\"}, \"zaxis\": {\"backgroundcolor\": \"#E5ECF6\", \"gridcolor\": \"white\", \"gridwidth\": 2, \"linecolor\": \"white\", \"showbackground\": true, \"ticks\": \"\", \"zerolinecolor\": \"white\"}}, \"shapedefaults\": {\"line\": {\"color\": \"#2a3f5f\"}}, \"ternary\": {\"aaxis\": {\"gridcolor\": \"white\", \"linecolor\": \"white\", \"ticks\": \"\"}, \"baxis\": {\"gridcolor\": \"white\", \"linecolor\": \"white\", \"ticks\": \"\"}, \"bgcolor\": \"#E5ECF6\", \"caxis\": {\"gridcolor\": \"white\", \"linecolor\": \"white\", \"ticks\": \"\"}}, \"title\": {\"x\": 0.05}, \"xaxis\": {\"automargin\": true, \"gridcolor\": \"white\", \"linecolor\": \"white\", \"ticks\": \"\", \"title\": {\"standoff\": 15}, \"zerolinecolor\": \"white\", \"zerolinewidth\": 2}, \"yaxis\": {\"automargin\": true, \"gridcolor\": \"white\", \"linecolor\": \"white\", \"ticks\": \"\", \"title\": {\"standoff\": 15}, \"zerolinecolor\": \"white\", \"zerolinewidth\": 2}}}, \"title\": {\"text\": \"Happiness Score compared to Generosity Score\"}, \"width\": 1000, \"xaxis\": {\"anchor\": \"y\", \"domain\": [0.0, 1.0], \"range\": [0, 8], \"title\": {\"text\": \"Happiness Score\"}}, \"yaxis\": {\"anchor\": \"x\", \"domain\": [0.0, 1.0], \"title\": {\"text\": \"Generosity Score\"}}},                        {\"responsive\": true}                    ).then(function(){\n",
       "                            \n",
       "var gd = document.getElementById('91ec0900-ae8b-4785-9b22-c78ac76c67bb');\n",
       "var x = new MutationObserver(function (mutations, observer) {{\n",
       "        var display = window.getComputedStyle(gd).display;\n",
       "        if (!display || display === 'none') {{\n",
       "            console.log([gd, 'removed!']);\n",
       "            Plotly.purge(gd);\n",
       "            observer.disconnect();\n",
       "        }}\n",
       "}});\n",
       "\n",
       "// Listen for the removal of the full notebook cells\n",
       "var notebookContainer = gd.closest('#notebook-container');\n",
       "if (notebookContainer) {{\n",
       "    x.observe(notebookContainer, {childList: true});\n",
       "}}\n",
       "\n",
       "// Listen for the clearing of the current output cell\n",
       "var outputEl = gd.closest('.output');\n",
       "if (outputEl) {{\n",
       "    x.observe(outputEl, {childList: true});\n",
       "}}\n",
       "\n",
       "                        })                };                });            </script>        </div>"
      ]
     },
     "metadata": {},
     "output_type": "display_data"
    }
   ],
   "source": [
    "#happiness score vs generosity\n",
    "\n",
    "#establish x and y values\n",
    "x_values = csv_2016_restructured[\"Score\"]\n",
    "y_values = csv_2016_restructured[\"Generosity\"]\n",
    "\n",
    "#px.scatter\n",
    "fig = px.scatter(csv_2016_restructured, x_values, y_values, color=\"Region\", hover_name=\"Country\",\n",
    "                range_x=[0,8], title=\"Happiness Score compared to Generosity Score\",\n",
    "                width= 1000, height =600) # use trendline=\"ols\" to see all lin reg equations\n",
    "\n",
    "#set axes labels\n",
    "fig.update_xaxes(title_text='Happiness Score')\n",
    "fig.update_yaxes(title_text='Generosity Score')\n",
    "\n",
    "\n",
    "#formatting\n",
    "#marker size and colors\n",
    "fig.update_traces(marker=dict(size=10,\n",
    "                              line=dict(width=1, \n",
    "                                        color='DarkSlateGrey')))\n",
    "\n",
    "#linear regression\n",
    "#use linregress from dependencies to inplement linear regression\n",
    "(slope, intercept, rvalue, pvalue, stderr) = linregress(x_values, y_values)\n",
    "regress_values = x_values * slope + intercept\n",
    "\n",
    "#print out all variables calculated above (rvalue, pvalue...)\n",
    "print(f\"slope:{round(slope, 2)}\")\n",
    "print(f\"intercept:{round(intercept,2)}\")\n",
    "res = sts.linregress(x_values, y_values)\n",
    "print(f\"R-squared: {res.rvalue**2:.4f}\")\n",
    "\n",
    "\n",
    "#print out line eq for reference\n",
    "line_eq = (f\"y={round(slope, 2)}x + {round(intercept, 2)}\")\n",
    "print(line_eq)\n",
    "\n",
    "fig.show()"
   ]
  },
  {
   "cell_type": "code",
   "execution_count": 17,
   "metadata": {},
   "outputs": [
    {
     "name": "stdout",
     "output_type": "stream",
     "text": [
      "slope:0.04\n",
      "intercept:-0.07\n",
      "R-squared: 0.1616\n",
      "y=0.04x + -0.07\n"
     ]
    },
    {
     "data": {
      "application/vnd.plotly.v1+json": {
       "config": {
        "plotlyServerURL": "https://plot.ly"
       },
       "data": [
        {
         "hovertemplate": "<b>%{hovertext}</b><br><br>Region=Europe<br>Score=%{x}<br>Perceptions of corruption=%{y}<extra></extra>",
         "hovertext": [
          "Denmark",
          "Switzerland",
          "Iceland",
          "Norway",
          "Finland",
          "Netherlands",
          "Sweden",
          "Austria",
          "Germany",
          "Belgium",
          "Ireland",
          "Luxembourg",
          "United Kingdom",
          "Czech Republic",
          "Malta",
          "France",
          "Spain",
          "Slovakia",
          "Uzbekistan",
          "Italy",
          "Kazakhstan",
          "Moldova",
          "Russia",
          "Poland",
          "Lithuania",
          "Belarus",
          "North Cyprus",
          "Slovenia",
          "Turkmenistan",
          "Latvia",
          "Cyprus",
          "Romania",
          "Estonia",
          "Croatia",
          "Kosovo",
          "Azerbaijan",
          "Kyrgyzstan",
          "Serbia",
          "Bosnia and Herzegovina",
          "Montenegro",
          "Hungary",
          "Portugal",
          "Macedonia",
          "Greece",
          "Tajikistan",
          "Albania",
          "Armenia",
          "Ukraine",
          "Georgia",
          "Bulgaria"
         ],
         "legendgroup": "Europe",
         "marker": {
          "color": "#636efa",
          "line": {
           "color": "DarkSlateGrey",
           "width": 1
          },
          "size": 10,
          "symbol": "circle"
         },
         "mode": "markers",
         "name": "Europe",
         "orientation": "v",
         "showlegend": true,
         "type": "scatter",
         "x": [
          7.526,
          7.5089999999999995,
          7.501,
          7.497999999999999,
          7.412999999999999,
          7.3389999999999995,
          7.291,
          7.119,
          6.994,
          6.928999999999999,
          6.907,
          6.871,
          6.725,
          6.596,
          6.4879999999999995,
          6.478,
          6.361000000000001,
          6.077999999999999,
          5.987,
          5.977,
          5.919,
          5.897,
          5.856,
          5.835,
          5.813,
          5.8020000000000005,
          5.771,
          5.768,
          5.6579999999999995,
          5.56,
          5.546,
          5.528,
          5.517,
          5.4879999999999995,
          5.401,
          5.291,
          5.185,
          5.1770000000000005,
          5.162999999999999,
          5.1610000000000005,
          5.145,
          5.122999999999999,
          5.121,
          5.033,
          4.996,
          4.655,
          4.36,
          4.324,
          4.252,
          4.217
         ],
         "xaxis": "x",
         "y": [
          0.44453000000000004,
          0.41203,
          0.14975,
          0.35775999999999997,
          0.41003999999999996,
          0.29927,
          0.40867,
          0.21348000000000003,
          0.28551,
          0.26248,
          0.29754,
          0.35329,
          0.27399,
          0.03986,
          0.17554,
          0.17808,
          0.06137000000000001,
          0.02947,
          0.28333,
          0.02556,
          0.11132,
          0.019030000000000002,
          0.03586,
          0.055,
          0.0182,
          0.17457,
          0.16577999999999998,
          0.03635,
          0.28467,
          0.0889,
          0.05227999999999999,
          0.006790000000000001,
          0.18519000000000002,
          0.04002,
          0.06547,
          0.17914000000000002,
          0.047619999999999996,
          0.04339,
          0,
          0.12721,
          0.044719999999999996,
          0.01521,
          0.07047,
          0.04127,
          0.13509000000000002,
          0.05301,
          0.036160000000000005,
          0.01829,
          0.3188,
          0.00615
         ],
         "yaxis": "y"
        },
        {
         "hovertemplate": "<b>%{hovertext}</b><br><br>Region=North America<br>Score=%{x}<br>Perceptions of corruption=%{y}<extra></extra>",
         "hovertext": [
          "Canada",
          "United States"
         ],
         "legendgroup": "North America",
         "marker": {
          "color": "#EF553B",
          "line": {
           "color": "DarkSlateGrey",
           "width": 1
          },
          "size": 10,
          "symbol": "circle"
         },
         "mode": "markers",
         "name": "North America",
         "orientation": "v",
         "showlegend": true,
         "type": "scatter",
         "x": [
          7.404,
          7.104
         ],
         "xaxis": "x",
         "y": [
          0.31329,
          0.14868
         ],
         "yaxis": "y"
        },
        {
         "hovertemplate": "<b>%{hovertext}</b><br><br>Region=Australia and New Zealand<br>Score=%{x}<br>Perceptions of corruption=%{y}<extra></extra>",
         "hovertext": [
          "New Zealand",
          "Australia"
         ],
         "legendgroup": "Australia and New Zealand",
         "marker": {
          "color": "#00cc96",
          "line": {
           "color": "DarkSlateGrey",
           "width": 1
          },
          "size": 10,
          "symbol": "circle"
         },
         "mode": "markers",
         "name": "Australia and New Zealand",
         "orientation": "v",
         "showlegend": true,
         "type": "scatter",
         "x": [
          7.334,
          7.313
         ],
         "xaxis": "x",
         "y": [
          0.41903999999999997,
          0.32331
         ],
         "yaxis": "y"
        },
        {
         "hovertemplate": "<b>%{hovertext}</b><br><br>Region=Middle East and Northern Africa<br>Score=%{x}<br>Perceptions of corruption=%{y}<extra></extra>",
         "hovertext": [
          "Israel",
          "United Arab Emirates",
          "Saudi Arabia",
          "Qatar",
          "Algeria",
          "Kuwait",
          "Bahrain",
          "Libya",
          "Turkey",
          "Jordan",
          "Morocco",
          "Lebanon",
          "Tunisia",
          "Iran",
          "Palestinian Territories",
          "Iraq",
          "Egypt",
          "Yemen",
          "Syria"
         ],
         "legendgroup": "Middle East and Northern Africa",
         "marker": {
          "color": "#ab63fa",
          "line": {
           "color": "DarkSlateGrey",
           "width": 1
          },
          "size": 10,
          "symbol": "circle"
         },
         "mode": "markers",
         "name": "Middle East and Northern Africa",
         "orientation": "v",
         "showlegend": true,
         "type": "scatter",
         "x": [
          7.267,
          6.5729999999999995,
          6.379,
          6.375,
          6.355,
          6.239,
          6.218,
          5.615,
          5.388999999999999,
          5.303,
          5.151,
          5.129,
          5.045,
          4.813,
          4.754,
          4.575,
          4.362,
          3.7239999999999998,
          3.069
         ],
         "xaxis": "x",
         "y": [
          0.08728,
          0.35561,
          0.30008,
          0.48049,
          0.16157,
          0.23669,
          0.25772,
          0.10339000000000001,
          0.12347999999999999,
          0.13297,
          0.08404,
          0.030610000000000002,
          0.0817,
          0.0557,
          0.10613,
          0.13635999999999998,
          0.10393,
          0.05892000000000001,
          0.17232999999999998
         ],
         "yaxis": "y"
        },
        {
         "hovertemplate": "<b>%{hovertext}</b><br><br>Region=Latin America and Caribbean<br>Score=%{x}<br>Perceptions of corruption=%{y}<extra></extra>",
         "hovertext": [
          "Costa Rica",
          "Puerto Rico",
          "Brazil",
          "Mexico",
          "Chile",
          "Panama",
          "Argentina",
          "Uruguay",
          "Colombia",
          "Guatemala",
          "Suriname",
          "Trinidad and Tobago",
          "Venezuela",
          "El Salvador",
          "Nicaragua",
          "Ecuador",
          "Belize",
          "Bolivia",
          "Peru",
          "Paraguay",
          "Jamaica",
          "Dominican Republic",
          "Honduras",
          "Haiti"
         ],
         "legendgroup": "Latin America and Caribbean",
         "marker": {
          "color": "#FFA15A",
          "line": {
           "color": "DarkSlateGrey",
           "width": 1
          },
          "size": 10,
          "symbol": "circle"
         },
         "mode": "markers",
         "name": "Latin America and Caribbean",
         "orientation": "v",
         "showlegend": true,
         "type": "scatter",
         "x": [
          7.087000000000001,
          7.039,
          6.952000000000001,
          6.778,
          6.705,
          6.7010000000000005,
          6.65,
          6.545,
          6.481,
          6.324,
          6.269,
          6.167999999999999,
          6.084,
          6.068,
          5.992000000000001,
          5.976,
          5.956,
          5.822,
          5.742999999999999,
          5.537999999999999,
          5.51,
          5.155,
          4.871,
          4.0280000000000005
         ],
         "xaxis": "x",
         "y": [
          0.10547000000000001,
          0.12275,
          0.14165999999999998,
          0.18355,
          0.11450999999999999,
          0.08423,
          0.07296,
          0.21394000000000002,
          0.053989999999999996,
          0.08701,
          0.12692,
          0.01241,
          0.08304,
          0.10613,
          0.16292,
          0.18037,
          0.10770999999999999,
          0.07746,
          0.05292,
          0.07396,
          0.04294,
          0.12372000000000001,
          0.06906,
          0.14476
         ],
         "yaxis": "y"
        },
        {
         "hovertemplate": "<b>%{hovertext}</b><br><br>Region=Asia<br>Score=%{x}<br>Perceptions of corruption=%{y}<extra></extra>",
         "hovertext": [
          "Singapore",
          "Thailand",
          "Taiwan",
          "Malaysia",
          "Japan",
          "South Korea",
          "Hong Kong",
          "Indonesia",
          "Philippines",
          "China",
          "Bhutan",
          "Pakistan",
          "Vietnam",
          "Mongolia",
          "Laos",
          "Nepal",
          "Bangladesh",
          "Sri Lanka",
          "India",
          "Myanmar",
          "Cambodia",
          "Afghanistan"
         ],
         "legendgroup": "Asia",
         "marker": {
          "color": "#19d3f3",
          "line": {
           "color": "DarkSlateGrey",
           "width": 1
          },
          "size": 10,
          "symbol": "circle"
         },
         "mode": "markers",
         "name": "Asia",
         "orientation": "v",
         "showlegend": true,
         "type": "scatter",
         "x": [
          6.739,
          6.474,
          6.379,
          6.005,
          5.921,
          5.835,
          5.457999999999999,
          5.314,
          5.279,
          5.245,
          5.196000000000001,
          5.132000000000001,
          5.061,
          4.907,
          4.876,
          4.793,
          4.643,
          4.415,
          4.404,
          4.395,
          3.907,
          3.36
         ],
         "xaxis": "x",
         "y": [
          0.46986999999999995,
          0.02833,
          0.0663,
          0.09081,
          0.18985,
          0.07716,
          0.31647,
          0.00322,
          0.11757000000000001,
          0.02745,
          0.1616,
          0.1388,
          0.11556,
          0.03285,
          0.22423,
          0.07007999999999999,
          0.12583,
          0.07964,
          0.08722,
          0.20243,
          0.08092,
          0.07112
         ],
         "yaxis": "y"
        },
        {
         "hovertemplate": "<b>%{hovertext}</b><br><br>Region=Sub-Saharan Africa<br>Score=%{x}<br>Perceptions of corruption=%{y}<extra></extra>",
         "hovertext": [
          "Mauritius",
          "Somalia",
          "Somaliland Region",
          "Nigeria",
          "Zambia",
          "Sierra Leone",
          "Namibia",
          "Cameroon",
          "Ethiopia",
          "South Africa",
          "Kenya",
          "Ghana",
          "Congo (Kinshasa)",
          "Congo (Brazzaville)",
          "Senegal",
          "Mauritania",
          "Zimbabwe",
          "Malawi",
          "Sudan",
          "Gabon",
          "Mali",
          "Botswana",
          "Comoros",
          "Ivory Coast",
          "Angola",
          "Niger",
          "South Sudan",
          "Chad",
          "Burkina Faso",
          "Uganda",
          "Madagascar",
          "Tanzania",
          "Liberia",
          "Guinea",
          "Rwanda",
          "Benin",
          "Togo",
          "Burundi"
         ],
         "legendgroup": "Sub-Saharan Africa",
         "marker": {
          "color": "#FF6692",
          "line": {
           "color": "DarkSlateGrey",
           "width": 1
          },
          "size": 10,
          "symbol": "circle"
         },
         "mode": "markers",
         "name": "Sub-Saharan Africa",
         "orientation": "v",
         "showlegend": true,
         "type": "scatter",
         "x": [
          5.648,
          5.44,
          5.0569999999999995,
          4.875,
          4.795,
          4.635,
          4.574,
          4.513,
          4.508,
          4.459,
          4.356,
          4.276,
          4.272,
          4.236000000000001,
          4.218999999999999,
          4.2010000000000005,
          4.1930000000000005,
          4.156000000000001,
          4.138999999999999,
          4.121,
          4.073,
          3.9739999999999998,
          3.9560000000000004,
          3.9160000000000004,
          3.866,
          3.8560000000000003,
          3.832,
          3.763,
          3.739,
          3.739,
          3.695,
          3.6660000000000004,
          3.622,
          3.6069999999999998,
          3.515,
          3.484,
          3.303,
          2.905
         ],
         "xaxis": "x",
         "y": [
          0.05202999999999999,
          0.3118,
          0.36794,
          0.0305,
          0.11479,
          0.08196,
          0.10397999999999999,
          0.06126,
          0.1717,
          0.08415,
          0.06686,
          0.0326,
          0.06075,
          0.09752999999999999,
          0.11681,
          0.17955,
          0.08582000000000001,
          0.07564,
          0.10039,
          0.09314,
          0.13647,
          0.10769000000000001,
          0.18437,
          0.1553,
          0.08434,
          0.17176,
          0.13015,
          0.04952,
          0.12533,
          0.06442,
          0.07506,
          0.05099,
          0.04852,
          0.1192,
          0.50521,
          0.06681000000000001,
          0.11587,
          0.09419
         ],
         "yaxis": "y"
        }
       ],
       "layout": {
        "height": 600,
        "legend": {
         "title": {
          "text": "Region"
         },
         "tracegroupgap": 0
        },
        "template": {
         "data": {
          "bar": [
           {
            "error_x": {
             "color": "#2a3f5f"
            },
            "error_y": {
             "color": "#2a3f5f"
            },
            "marker": {
             "line": {
              "color": "#E5ECF6",
              "width": 0.5
             }
            },
            "type": "bar"
           }
          ],
          "barpolar": [
           {
            "marker": {
             "line": {
              "color": "#E5ECF6",
              "width": 0.5
             }
            },
            "type": "barpolar"
           }
          ],
          "carpet": [
           {
            "aaxis": {
             "endlinecolor": "#2a3f5f",
             "gridcolor": "white",
             "linecolor": "white",
             "minorgridcolor": "white",
             "startlinecolor": "#2a3f5f"
            },
            "baxis": {
             "endlinecolor": "#2a3f5f",
             "gridcolor": "white",
             "linecolor": "white",
             "minorgridcolor": "white",
             "startlinecolor": "#2a3f5f"
            },
            "type": "carpet"
           }
          ],
          "choropleth": [
           {
            "colorbar": {
             "outlinewidth": 0,
             "ticks": ""
            },
            "type": "choropleth"
           }
          ],
          "contour": [
           {
            "colorbar": {
             "outlinewidth": 0,
             "ticks": ""
            },
            "colorscale": [
             [
              0,
              "#0d0887"
             ],
             [
              0.1111111111111111,
              "#46039f"
             ],
             [
              0.2222222222222222,
              "#7201a8"
             ],
             [
              0.3333333333333333,
              "#9c179e"
             ],
             [
              0.4444444444444444,
              "#bd3786"
             ],
             [
              0.5555555555555556,
              "#d8576b"
             ],
             [
              0.6666666666666666,
              "#ed7953"
             ],
             [
              0.7777777777777778,
              "#fb9f3a"
             ],
             [
              0.8888888888888888,
              "#fdca26"
             ],
             [
              1,
              "#f0f921"
             ]
            ],
            "type": "contour"
           }
          ],
          "contourcarpet": [
           {
            "colorbar": {
             "outlinewidth": 0,
             "ticks": ""
            },
            "type": "contourcarpet"
           }
          ],
          "heatmap": [
           {
            "colorbar": {
             "outlinewidth": 0,
             "ticks": ""
            },
            "colorscale": [
             [
              0,
              "#0d0887"
             ],
             [
              0.1111111111111111,
              "#46039f"
             ],
             [
              0.2222222222222222,
              "#7201a8"
             ],
             [
              0.3333333333333333,
              "#9c179e"
             ],
             [
              0.4444444444444444,
              "#bd3786"
             ],
             [
              0.5555555555555556,
              "#d8576b"
             ],
             [
              0.6666666666666666,
              "#ed7953"
             ],
             [
              0.7777777777777778,
              "#fb9f3a"
             ],
             [
              0.8888888888888888,
              "#fdca26"
             ],
             [
              1,
              "#f0f921"
             ]
            ],
            "type": "heatmap"
           }
          ],
          "heatmapgl": [
           {
            "colorbar": {
             "outlinewidth": 0,
             "ticks": ""
            },
            "colorscale": [
             [
              0,
              "#0d0887"
             ],
             [
              0.1111111111111111,
              "#46039f"
             ],
             [
              0.2222222222222222,
              "#7201a8"
             ],
             [
              0.3333333333333333,
              "#9c179e"
             ],
             [
              0.4444444444444444,
              "#bd3786"
             ],
             [
              0.5555555555555556,
              "#d8576b"
             ],
             [
              0.6666666666666666,
              "#ed7953"
             ],
             [
              0.7777777777777778,
              "#fb9f3a"
             ],
             [
              0.8888888888888888,
              "#fdca26"
             ],
             [
              1,
              "#f0f921"
             ]
            ],
            "type": "heatmapgl"
           }
          ],
          "histogram": [
           {
            "marker": {
             "colorbar": {
              "outlinewidth": 0,
              "ticks": ""
             }
            },
            "type": "histogram"
           }
          ],
          "histogram2d": [
           {
            "colorbar": {
             "outlinewidth": 0,
             "ticks": ""
            },
            "colorscale": [
             [
              0,
              "#0d0887"
             ],
             [
              0.1111111111111111,
              "#46039f"
             ],
             [
              0.2222222222222222,
              "#7201a8"
             ],
             [
              0.3333333333333333,
              "#9c179e"
             ],
             [
              0.4444444444444444,
              "#bd3786"
             ],
             [
              0.5555555555555556,
              "#d8576b"
             ],
             [
              0.6666666666666666,
              "#ed7953"
             ],
             [
              0.7777777777777778,
              "#fb9f3a"
             ],
             [
              0.8888888888888888,
              "#fdca26"
             ],
             [
              1,
              "#f0f921"
             ]
            ],
            "type": "histogram2d"
           }
          ],
          "histogram2dcontour": [
           {
            "colorbar": {
             "outlinewidth": 0,
             "ticks": ""
            },
            "colorscale": [
             [
              0,
              "#0d0887"
             ],
             [
              0.1111111111111111,
              "#46039f"
             ],
             [
              0.2222222222222222,
              "#7201a8"
             ],
             [
              0.3333333333333333,
              "#9c179e"
             ],
             [
              0.4444444444444444,
              "#bd3786"
             ],
             [
              0.5555555555555556,
              "#d8576b"
             ],
             [
              0.6666666666666666,
              "#ed7953"
             ],
             [
              0.7777777777777778,
              "#fb9f3a"
             ],
             [
              0.8888888888888888,
              "#fdca26"
             ],
             [
              1,
              "#f0f921"
             ]
            ],
            "type": "histogram2dcontour"
           }
          ],
          "mesh3d": [
           {
            "colorbar": {
             "outlinewidth": 0,
             "ticks": ""
            },
            "type": "mesh3d"
           }
          ],
          "parcoords": [
           {
            "line": {
             "colorbar": {
              "outlinewidth": 0,
              "ticks": ""
             }
            },
            "type": "parcoords"
           }
          ],
          "pie": [
           {
            "automargin": true,
            "type": "pie"
           }
          ],
          "scatter": [
           {
            "marker": {
             "colorbar": {
              "outlinewidth": 0,
              "ticks": ""
             }
            },
            "type": "scatter"
           }
          ],
          "scatter3d": [
           {
            "line": {
             "colorbar": {
              "outlinewidth": 0,
              "ticks": ""
             }
            },
            "marker": {
             "colorbar": {
              "outlinewidth": 0,
              "ticks": ""
             }
            },
            "type": "scatter3d"
           }
          ],
          "scattercarpet": [
           {
            "marker": {
             "colorbar": {
              "outlinewidth": 0,
              "ticks": ""
             }
            },
            "type": "scattercarpet"
           }
          ],
          "scattergeo": [
           {
            "marker": {
             "colorbar": {
              "outlinewidth": 0,
              "ticks": ""
             }
            },
            "type": "scattergeo"
           }
          ],
          "scattergl": [
           {
            "marker": {
             "colorbar": {
              "outlinewidth": 0,
              "ticks": ""
             }
            },
            "type": "scattergl"
           }
          ],
          "scattermapbox": [
           {
            "marker": {
             "colorbar": {
              "outlinewidth": 0,
              "ticks": ""
             }
            },
            "type": "scattermapbox"
           }
          ],
          "scatterpolar": [
           {
            "marker": {
             "colorbar": {
              "outlinewidth": 0,
              "ticks": ""
             }
            },
            "type": "scatterpolar"
           }
          ],
          "scatterpolargl": [
           {
            "marker": {
             "colorbar": {
              "outlinewidth": 0,
              "ticks": ""
             }
            },
            "type": "scatterpolargl"
           }
          ],
          "scatterternary": [
           {
            "marker": {
             "colorbar": {
              "outlinewidth": 0,
              "ticks": ""
             }
            },
            "type": "scatterternary"
           }
          ],
          "surface": [
           {
            "colorbar": {
             "outlinewidth": 0,
             "ticks": ""
            },
            "colorscale": [
             [
              0,
              "#0d0887"
             ],
             [
              0.1111111111111111,
              "#46039f"
             ],
             [
              0.2222222222222222,
              "#7201a8"
             ],
             [
              0.3333333333333333,
              "#9c179e"
             ],
             [
              0.4444444444444444,
              "#bd3786"
             ],
             [
              0.5555555555555556,
              "#d8576b"
             ],
             [
              0.6666666666666666,
              "#ed7953"
             ],
             [
              0.7777777777777778,
              "#fb9f3a"
             ],
             [
              0.8888888888888888,
              "#fdca26"
             ],
             [
              1,
              "#f0f921"
             ]
            ],
            "type": "surface"
           }
          ],
          "table": [
           {
            "cells": {
             "fill": {
              "color": "#EBF0F8"
             },
             "line": {
              "color": "white"
             }
            },
            "header": {
             "fill": {
              "color": "#C8D4E3"
             },
             "line": {
              "color": "white"
             }
            },
            "type": "table"
           }
          ]
         },
         "layout": {
          "annotationdefaults": {
           "arrowcolor": "#2a3f5f",
           "arrowhead": 0,
           "arrowwidth": 1
          },
          "autotypenumbers": "strict",
          "coloraxis": {
           "colorbar": {
            "outlinewidth": 0,
            "ticks": ""
           }
          },
          "colorscale": {
           "diverging": [
            [
             0,
             "#8e0152"
            ],
            [
             0.1,
             "#c51b7d"
            ],
            [
             0.2,
             "#de77ae"
            ],
            [
             0.3,
             "#f1b6da"
            ],
            [
             0.4,
             "#fde0ef"
            ],
            [
             0.5,
             "#f7f7f7"
            ],
            [
             0.6,
             "#e6f5d0"
            ],
            [
             0.7,
             "#b8e186"
            ],
            [
             0.8,
             "#7fbc41"
            ],
            [
             0.9,
             "#4d9221"
            ],
            [
             1,
             "#276419"
            ]
           ],
           "sequential": [
            [
             0,
             "#0d0887"
            ],
            [
             0.1111111111111111,
             "#46039f"
            ],
            [
             0.2222222222222222,
             "#7201a8"
            ],
            [
             0.3333333333333333,
             "#9c179e"
            ],
            [
             0.4444444444444444,
             "#bd3786"
            ],
            [
             0.5555555555555556,
             "#d8576b"
            ],
            [
             0.6666666666666666,
             "#ed7953"
            ],
            [
             0.7777777777777778,
             "#fb9f3a"
            ],
            [
             0.8888888888888888,
             "#fdca26"
            ],
            [
             1,
             "#f0f921"
            ]
           ],
           "sequentialminus": [
            [
             0,
             "#0d0887"
            ],
            [
             0.1111111111111111,
             "#46039f"
            ],
            [
             0.2222222222222222,
             "#7201a8"
            ],
            [
             0.3333333333333333,
             "#9c179e"
            ],
            [
             0.4444444444444444,
             "#bd3786"
            ],
            [
             0.5555555555555556,
             "#d8576b"
            ],
            [
             0.6666666666666666,
             "#ed7953"
            ],
            [
             0.7777777777777778,
             "#fb9f3a"
            ],
            [
             0.8888888888888888,
             "#fdca26"
            ],
            [
             1,
             "#f0f921"
            ]
           ]
          },
          "colorway": [
           "#636efa",
           "#EF553B",
           "#00cc96",
           "#ab63fa",
           "#FFA15A",
           "#19d3f3",
           "#FF6692",
           "#B6E880",
           "#FF97FF",
           "#FECB52"
          ],
          "font": {
           "color": "#2a3f5f"
          },
          "geo": {
           "bgcolor": "white",
           "lakecolor": "white",
           "landcolor": "#E5ECF6",
           "showlakes": true,
           "showland": true,
           "subunitcolor": "white"
          },
          "hoverlabel": {
           "align": "left"
          },
          "hovermode": "closest",
          "mapbox": {
           "style": "light"
          },
          "paper_bgcolor": "white",
          "plot_bgcolor": "#E5ECF6",
          "polar": {
           "angularaxis": {
            "gridcolor": "white",
            "linecolor": "white",
            "ticks": ""
           },
           "bgcolor": "#E5ECF6",
           "radialaxis": {
            "gridcolor": "white",
            "linecolor": "white",
            "ticks": ""
           }
          },
          "scene": {
           "xaxis": {
            "backgroundcolor": "#E5ECF6",
            "gridcolor": "white",
            "gridwidth": 2,
            "linecolor": "white",
            "showbackground": true,
            "ticks": "",
            "zerolinecolor": "white"
           },
           "yaxis": {
            "backgroundcolor": "#E5ECF6",
            "gridcolor": "white",
            "gridwidth": 2,
            "linecolor": "white",
            "showbackground": true,
            "ticks": "",
            "zerolinecolor": "white"
           },
           "zaxis": {
            "backgroundcolor": "#E5ECF6",
            "gridcolor": "white",
            "gridwidth": 2,
            "linecolor": "white",
            "showbackground": true,
            "ticks": "",
            "zerolinecolor": "white"
           }
          },
          "shapedefaults": {
           "line": {
            "color": "#2a3f5f"
           }
          },
          "ternary": {
           "aaxis": {
            "gridcolor": "white",
            "linecolor": "white",
            "ticks": ""
           },
           "baxis": {
            "gridcolor": "white",
            "linecolor": "white",
            "ticks": ""
           },
           "bgcolor": "#E5ECF6",
           "caxis": {
            "gridcolor": "white",
            "linecolor": "white",
            "ticks": ""
           }
          },
          "title": {
           "x": 0.05
          },
          "xaxis": {
           "automargin": true,
           "gridcolor": "white",
           "linecolor": "white",
           "ticks": "",
           "title": {
            "standoff": 15
           },
           "zerolinecolor": "white",
           "zerolinewidth": 2
          },
          "yaxis": {
           "automargin": true,
           "gridcolor": "white",
           "linecolor": "white",
           "ticks": "",
           "title": {
            "standoff": 15
           },
           "zerolinecolor": "white",
           "zerolinewidth": 2
          }
         }
        },
        "title": {
         "text": "Happiness Score compared to Perception of Corruption Score"
        },
        "width": 1000,
        "xaxis": {
         "anchor": "y",
         "domain": [
          0,
          1
         ],
         "range": [
          0,
          8
         ],
         "title": {
          "text": "Happiness Score"
         }
        },
        "yaxis": {
         "anchor": "x",
         "domain": [
          0,
          1
         ],
         "title": {
          "text": "Perception of Corruption Score"
         }
        }
       }
      },
      "text/html": [
       "<div>                            <div id=\"4c8269ae-eb8d-4b0b-b91d-9403f8f05df9\" class=\"plotly-graph-div\" style=\"height:600px; width:1000px;\"></div>            <script type=\"text/javascript\">                require([\"plotly\"], function(Plotly) {                    window.PLOTLYENV=window.PLOTLYENV || {};                                    if (document.getElementById(\"4c8269ae-eb8d-4b0b-b91d-9403f8f05df9\")) {                    Plotly.newPlot(                        \"4c8269ae-eb8d-4b0b-b91d-9403f8f05df9\",                        [{\"hovertemplate\": \"<b>%{hovertext}</b><br><br>Region=Europe<br>Score=%{x}<br>Perceptions of corruption=%{y}<extra></extra>\", \"hovertext\": [\"Denmark\", \"Switzerland\", \"Iceland\", \"Norway\", \"Finland\", \"Netherlands\", \"Sweden\", \"Austria\", \"Germany\", \"Belgium\", \"Ireland\", \"Luxembourg\", \"United Kingdom\", \"Czech Republic\", \"Malta\", \"France\", \"Spain\", \"Slovakia\", \"Uzbekistan\", \"Italy\", \"Kazakhstan\", \"Moldova\", \"Russia\", \"Poland\", \"Lithuania\", \"Belarus\", \"North Cyprus\", \"Slovenia\", \"Turkmenistan\", \"Latvia\", \"Cyprus\", \"Romania\", \"Estonia\", \"Croatia\", \"Kosovo\", \"Azerbaijan\", \"Kyrgyzstan\", \"Serbia\", \"Bosnia and Herzegovina\", \"Montenegro\", \"Hungary\", \"Portugal\", \"Macedonia\", \"Greece\", \"Tajikistan\", \"Albania\", \"Armenia\", \"Ukraine\", \"Georgia\", \"Bulgaria\"], \"legendgroup\": \"Europe\", \"marker\": {\"color\": \"#636efa\", \"line\": {\"color\": \"DarkSlateGrey\", \"width\": 1}, \"size\": 10, \"symbol\": \"circle\"}, \"mode\": \"markers\", \"name\": \"Europe\", \"orientation\": \"v\", \"showlegend\": true, \"type\": \"scatter\", \"x\": [7.526, 7.5089999999999995, 7.501, 7.497999999999999, 7.412999999999999, 7.3389999999999995, 7.291, 7.119, 6.994, 6.928999999999999, 6.907, 6.871, 6.725, 6.596, 6.4879999999999995, 6.478, 6.361000000000001, 6.077999999999999, 5.987, 5.977, 5.919, 5.897, 5.856, 5.835, 5.813, 5.8020000000000005, 5.771, 5.768, 5.6579999999999995, 5.56, 5.546, 5.528, 5.517, 5.4879999999999995, 5.401, 5.291, 5.185, 5.1770000000000005, 5.162999999999999, 5.1610000000000005, 5.145, 5.122999999999999, 5.121, 5.033, 4.996, 4.655, 4.36, 4.324, 4.252, 4.217], \"xaxis\": \"x\", \"y\": [0.44453000000000004, 0.41203, 0.14975, 0.35775999999999997, 0.41003999999999996, 0.29927, 0.40867, 0.21348000000000003, 0.28551, 0.26248, 0.29754, 0.35329, 0.27399, 0.03986, 0.17554, 0.17808, 0.06137000000000001, 0.02947, 0.28333, 0.02556, 0.11132, 0.019030000000000002, 0.03586, 0.055, 0.0182, 0.17457, 0.16577999999999998, 0.03635, 0.28467, 0.0889, 0.05227999999999999, 0.006790000000000001, 0.18519000000000002, 0.04002, 0.06547, 0.17914000000000002, 0.047619999999999996, 0.04339, 0.0, 0.12721, 0.044719999999999996, 0.01521, 0.07047, 0.04127, 0.13509000000000002, 0.05301, 0.036160000000000005, 0.01829, 0.3188, 0.00615], \"yaxis\": \"y\"}, {\"hovertemplate\": \"<b>%{hovertext}</b><br><br>Region=North America<br>Score=%{x}<br>Perceptions of corruption=%{y}<extra></extra>\", \"hovertext\": [\"Canada\", \"United States\"], \"legendgroup\": \"North America\", \"marker\": {\"color\": \"#EF553B\", \"line\": {\"color\": \"DarkSlateGrey\", \"width\": 1}, \"size\": 10, \"symbol\": \"circle\"}, \"mode\": \"markers\", \"name\": \"North America\", \"orientation\": \"v\", \"showlegend\": true, \"type\": \"scatter\", \"x\": [7.404, 7.104], \"xaxis\": \"x\", \"y\": [0.31329, 0.14868], \"yaxis\": \"y\"}, {\"hovertemplate\": \"<b>%{hovertext}</b><br><br>Region=Australia and New Zealand<br>Score=%{x}<br>Perceptions of corruption=%{y}<extra></extra>\", \"hovertext\": [\"New Zealand\", \"Australia\"], \"legendgroup\": \"Australia and New Zealand\", \"marker\": {\"color\": \"#00cc96\", \"line\": {\"color\": \"DarkSlateGrey\", \"width\": 1}, \"size\": 10, \"symbol\": \"circle\"}, \"mode\": \"markers\", \"name\": \"Australia and New Zealand\", \"orientation\": \"v\", \"showlegend\": true, \"type\": \"scatter\", \"x\": [7.334, 7.313], \"xaxis\": \"x\", \"y\": [0.41903999999999997, 0.32331], \"yaxis\": \"y\"}, {\"hovertemplate\": \"<b>%{hovertext}</b><br><br>Region=Middle East and Northern Africa<br>Score=%{x}<br>Perceptions of corruption=%{y}<extra></extra>\", \"hovertext\": [\"Israel\", \"United Arab Emirates\", \"Saudi Arabia\", \"Qatar\", \"Algeria\", \"Kuwait\", \"Bahrain\", \"Libya\", \"Turkey\", \"Jordan\", \"Morocco\", \"Lebanon\", \"Tunisia\", \"Iran\", \"Palestinian Territories\", \"Iraq\", \"Egypt\", \"Yemen\", \"Syria\"], \"legendgroup\": \"Middle East and Northern Africa\", \"marker\": {\"color\": \"#ab63fa\", \"line\": {\"color\": \"DarkSlateGrey\", \"width\": 1}, \"size\": 10, \"symbol\": \"circle\"}, \"mode\": \"markers\", \"name\": \"Middle East and Northern Africa\", \"orientation\": \"v\", \"showlegend\": true, \"type\": \"scatter\", \"x\": [7.267, 6.5729999999999995, 6.379, 6.375, 6.355, 6.239, 6.218, 5.615, 5.388999999999999, 5.303, 5.151, 5.129, 5.045, 4.813, 4.754, 4.575, 4.362, 3.7239999999999998, 3.069], \"xaxis\": \"x\", \"y\": [0.08728, 0.35561, 0.30008, 0.48049, 0.16157, 0.23669, 0.25772, 0.10339000000000001, 0.12347999999999999, 0.13297, 0.08404, 0.030610000000000002, 0.0817, 0.0557, 0.10613, 0.13635999999999998, 0.10393, 0.05892000000000001, 0.17232999999999998], \"yaxis\": \"y\"}, {\"hovertemplate\": \"<b>%{hovertext}</b><br><br>Region=Latin America and Caribbean<br>Score=%{x}<br>Perceptions of corruption=%{y}<extra></extra>\", \"hovertext\": [\"Costa Rica\", \"Puerto Rico\", \"Brazil\", \"Mexico\", \"Chile\", \"Panama\", \"Argentina\", \"Uruguay\", \"Colombia\", \"Guatemala\", \"Suriname\", \"Trinidad and Tobago\", \"Venezuela\", \"El Salvador\", \"Nicaragua\", \"Ecuador\", \"Belize\", \"Bolivia\", \"Peru\", \"Paraguay\", \"Jamaica\", \"Dominican Republic\", \"Honduras\", \"Haiti\"], \"legendgroup\": \"Latin America and Caribbean\", \"marker\": {\"color\": \"#FFA15A\", \"line\": {\"color\": \"DarkSlateGrey\", \"width\": 1}, \"size\": 10, \"symbol\": \"circle\"}, \"mode\": \"markers\", \"name\": \"Latin America and Caribbean\", \"orientation\": \"v\", \"showlegend\": true, \"type\": \"scatter\", \"x\": [7.087000000000001, 7.039, 6.952000000000001, 6.778, 6.705, 6.7010000000000005, 6.65, 6.545, 6.481, 6.324, 6.269, 6.167999999999999, 6.084, 6.068, 5.992000000000001, 5.976, 5.956, 5.822, 5.742999999999999, 5.537999999999999, 5.51, 5.155, 4.871, 4.0280000000000005], \"xaxis\": \"x\", \"y\": [0.10547000000000001, 0.12275, 0.14165999999999998, 0.18355, 0.11450999999999999, 0.08423, 0.07296, 0.21394000000000002, 0.053989999999999996, 0.08701, 0.12692, 0.01241, 0.08304, 0.10613, 0.16292, 0.18037, 0.10770999999999999, 0.07746, 0.05292, 0.07396, 0.04294, 0.12372000000000001, 0.06906, 0.14476], \"yaxis\": \"y\"}, {\"hovertemplate\": \"<b>%{hovertext}</b><br><br>Region=Asia<br>Score=%{x}<br>Perceptions of corruption=%{y}<extra></extra>\", \"hovertext\": [\"Singapore\", \"Thailand\", \"Taiwan\", \"Malaysia\", \"Japan\", \"South Korea\", \"Hong Kong\", \"Indonesia\", \"Philippines\", \"China\", \"Bhutan\", \"Pakistan\", \"Vietnam\", \"Mongolia\", \"Laos\", \"Nepal\", \"Bangladesh\", \"Sri Lanka\", \"India\", \"Myanmar\", \"Cambodia\", \"Afghanistan\"], \"legendgroup\": \"Asia\", \"marker\": {\"color\": \"#19d3f3\", \"line\": {\"color\": \"DarkSlateGrey\", \"width\": 1}, \"size\": 10, \"symbol\": \"circle\"}, \"mode\": \"markers\", \"name\": \"Asia\", \"orientation\": \"v\", \"showlegend\": true, \"type\": \"scatter\", \"x\": [6.739, 6.474, 6.379, 6.005, 5.921, 5.835, 5.457999999999999, 5.314, 5.279, 5.245, 5.196000000000001, 5.132000000000001, 5.061, 4.907, 4.876, 4.793, 4.643, 4.415, 4.404, 4.395, 3.907, 3.36], \"xaxis\": \"x\", \"y\": [0.46986999999999995, 0.02833, 0.0663, 0.09081, 0.18985, 0.07716, 0.31647, 0.00322, 0.11757000000000001, 0.02745, 0.1616, 0.1388, 0.11556, 0.03285, 0.22423, 0.07007999999999999, 0.12583, 0.07964, 0.08722, 0.20243, 0.08092, 0.07112], \"yaxis\": \"y\"}, {\"hovertemplate\": \"<b>%{hovertext}</b><br><br>Region=Sub-Saharan Africa<br>Score=%{x}<br>Perceptions of corruption=%{y}<extra></extra>\", \"hovertext\": [\"Mauritius\", \"Somalia\", \"Somaliland Region\", \"Nigeria\", \"Zambia\", \"Sierra Leone\", \"Namibia\", \"Cameroon\", \"Ethiopia\", \"South Africa\", \"Kenya\", \"Ghana\", \"Congo (Kinshasa)\", \"Congo (Brazzaville)\", \"Senegal\", \"Mauritania\", \"Zimbabwe\", \"Malawi\", \"Sudan\", \"Gabon\", \"Mali\", \"Botswana\", \"Comoros\", \"Ivory Coast\", \"Angola\", \"Niger\", \"South Sudan\", \"Chad\", \"Burkina Faso\", \"Uganda\", \"Madagascar\", \"Tanzania\", \"Liberia\", \"Guinea\", \"Rwanda\", \"Benin\", \"Togo\", \"Burundi\"], \"legendgroup\": \"Sub-Saharan Africa\", \"marker\": {\"color\": \"#FF6692\", \"line\": {\"color\": \"DarkSlateGrey\", \"width\": 1}, \"size\": 10, \"symbol\": \"circle\"}, \"mode\": \"markers\", \"name\": \"Sub-Saharan Africa\", \"orientation\": \"v\", \"showlegend\": true, \"type\": \"scatter\", \"x\": [5.648, 5.44, 5.0569999999999995, 4.875, 4.795, 4.635, 4.574, 4.513, 4.508, 4.459, 4.356, 4.276, 4.272, 4.236000000000001, 4.218999999999999, 4.2010000000000005, 4.1930000000000005, 4.156000000000001, 4.138999999999999, 4.121, 4.073, 3.9739999999999998, 3.9560000000000004, 3.9160000000000004, 3.866, 3.8560000000000003, 3.832, 3.763, 3.739, 3.739, 3.695, 3.6660000000000004, 3.622, 3.6069999999999998, 3.515, 3.484, 3.303, 2.905], \"xaxis\": \"x\", \"y\": [0.05202999999999999, 0.3118, 0.36794, 0.0305, 0.11479, 0.08196, 0.10397999999999999, 0.06126, 0.1717, 0.08415, 0.06686, 0.0326, 0.06075, 0.09752999999999999, 0.11681, 0.17955, 0.08582000000000001, 0.07564, 0.10039, 0.09314, 0.13647, 0.10769000000000001, 0.18437, 0.1553, 0.08434, 0.17176, 0.13015, 0.04952, 0.12533, 0.06442, 0.07506, 0.05099, 0.04852, 0.1192, 0.50521, 0.06681000000000001, 0.11587, 0.09419], \"yaxis\": \"y\"}],                        {\"height\": 600, \"legend\": {\"title\": {\"text\": \"Region\"}, \"tracegroupgap\": 0}, \"template\": {\"data\": {\"bar\": [{\"error_x\": {\"color\": \"#2a3f5f\"}, \"error_y\": {\"color\": \"#2a3f5f\"}, \"marker\": {\"line\": {\"color\": \"#E5ECF6\", \"width\": 0.5}}, \"type\": \"bar\"}], \"barpolar\": [{\"marker\": {\"line\": {\"color\": \"#E5ECF6\", \"width\": 0.5}}, \"type\": \"barpolar\"}], \"carpet\": [{\"aaxis\": {\"endlinecolor\": \"#2a3f5f\", \"gridcolor\": \"white\", \"linecolor\": \"white\", \"minorgridcolor\": \"white\", \"startlinecolor\": \"#2a3f5f\"}, \"baxis\": {\"endlinecolor\": \"#2a3f5f\", \"gridcolor\": \"white\", \"linecolor\": \"white\", \"minorgridcolor\": \"white\", \"startlinecolor\": \"#2a3f5f\"}, \"type\": \"carpet\"}], \"choropleth\": [{\"colorbar\": {\"outlinewidth\": 0, \"ticks\": \"\"}, \"type\": \"choropleth\"}], \"contour\": [{\"colorbar\": {\"outlinewidth\": 0, \"ticks\": \"\"}, \"colorscale\": [[0.0, \"#0d0887\"], [0.1111111111111111, \"#46039f\"], [0.2222222222222222, \"#7201a8\"], [0.3333333333333333, \"#9c179e\"], [0.4444444444444444, \"#bd3786\"], [0.5555555555555556, \"#d8576b\"], [0.6666666666666666, \"#ed7953\"], [0.7777777777777778, \"#fb9f3a\"], [0.8888888888888888, \"#fdca26\"], [1.0, \"#f0f921\"]], \"type\": \"contour\"}], \"contourcarpet\": [{\"colorbar\": {\"outlinewidth\": 0, \"ticks\": \"\"}, \"type\": \"contourcarpet\"}], \"heatmap\": [{\"colorbar\": {\"outlinewidth\": 0, \"ticks\": \"\"}, \"colorscale\": [[0.0, \"#0d0887\"], [0.1111111111111111, \"#46039f\"], [0.2222222222222222, \"#7201a8\"], [0.3333333333333333, \"#9c179e\"], [0.4444444444444444, \"#bd3786\"], [0.5555555555555556, \"#d8576b\"], [0.6666666666666666, \"#ed7953\"], [0.7777777777777778, \"#fb9f3a\"], [0.8888888888888888, \"#fdca26\"], [1.0, \"#f0f921\"]], \"type\": \"heatmap\"}], \"heatmapgl\": [{\"colorbar\": {\"outlinewidth\": 0, \"ticks\": \"\"}, \"colorscale\": [[0.0, \"#0d0887\"], [0.1111111111111111, \"#46039f\"], [0.2222222222222222, \"#7201a8\"], [0.3333333333333333, \"#9c179e\"], [0.4444444444444444, \"#bd3786\"], [0.5555555555555556, \"#d8576b\"], [0.6666666666666666, \"#ed7953\"], [0.7777777777777778, \"#fb9f3a\"], [0.8888888888888888, \"#fdca26\"], [1.0, \"#f0f921\"]], \"type\": \"heatmapgl\"}], \"histogram\": [{\"marker\": {\"colorbar\": {\"outlinewidth\": 0, \"ticks\": \"\"}}, \"type\": \"histogram\"}], \"histogram2d\": [{\"colorbar\": {\"outlinewidth\": 0, \"ticks\": \"\"}, \"colorscale\": [[0.0, \"#0d0887\"], [0.1111111111111111, \"#46039f\"], [0.2222222222222222, \"#7201a8\"], [0.3333333333333333, \"#9c179e\"], [0.4444444444444444, \"#bd3786\"], [0.5555555555555556, \"#d8576b\"], [0.6666666666666666, \"#ed7953\"], [0.7777777777777778, \"#fb9f3a\"], [0.8888888888888888, \"#fdca26\"], [1.0, \"#f0f921\"]], \"type\": \"histogram2d\"}], \"histogram2dcontour\": [{\"colorbar\": {\"outlinewidth\": 0, \"ticks\": \"\"}, \"colorscale\": [[0.0, \"#0d0887\"], [0.1111111111111111, \"#46039f\"], [0.2222222222222222, \"#7201a8\"], [0.3333333333333333, \"#9c179e\"], [0.4444444444444444, \"#bd3786\"], [0.5555555555555556, \"#d8576b\"], [0.6666666666666666, \"#ed7953\"], [0.7777777777777778, \"#fb9f3a\"], [0.8888888888888888, \"#fdca26\"], [1.0, \"#f0f921\"]], \"type\": \"histogram2dcontour\"}], \"mesh3d\": [{\"colorbar\": {\"outlinewidth\": 0, \"ticks\": \"\"}, \"type\": \"mesh3d\"}], \"parcoords\": [{\"line\": {\"colorbar\": {\"outlinewidth\": 0, \"ticks\": \"\"}}, \"type\": \"parcoords\"}], \"pie\": [{\"automargin\": true, \"type\": \"pie\"}], \"scatter\": [{\"marker\": {\"colorbar\": {\"outlinewidth\": 0, \"ticks\": \"\"}}, \"type\": \"scatter\"}], \"scatter3d\": [{\"line\": {\"colorbar\": {\"outlinewidth\": 0, \"ticks\": \"\"}}, \"marker\": {\"colorbar\": {\"outlinewidth\": 0, \"ticks\": \"\"}}, \"type\": \"scatter3d\"}], \"scattercarpet\": [{\"marker\": {\"colorbar\": {\"outlinewidth\": 0, \"ticks\": \"\"}}, \"type\": \"scattercarpet\"}], \"scattergeo\": [{\"marker\": {\"colorbar\": {\"outlinewidth\": 0, \"ticks\": \"\"}}, \"type\": \"scattergeo\"}], \"scattergl\": [{\"marker\": {\"colorbar\": {\"outlinewidth\": 0, \"ticks\": \"\"}}, \"type\": \"scattergl\"}], \"scattermapbox\": [{\"marker\": {\"colorbar\": {\"outlinewidth\": 0, \"ticks\": \"\"}}, \"type\": \"scattermapbox\"}], \"scatterpolar\": [{\"marker\": {\"colorbar\": {\"outlinewidth\": 0, \"ticks\": \"\"}}, \"type\": \"scatterpolar\"}], \"scatterpolargl\": [{\"marker\": {\"colorbar\": {\"outlinewidth\": 0, \"ticks\": \"\"}}, \"type\": \"scatterpolargl\"}], \"scatterternary\": [{\"marker\": {\"colorbar\": {\"outlinewidth\": 0, \"ticks\": \"\"}}, \"type\": \"scatterternary\"}], \"surface\": [{\"colorbar\": {\"outlinewidth\": 0, \"ticks\": \"\"}, \"colorscale\": [[0.0, \"#0d0887\"], [0.1111111111111111, \"#46039f\"], [0.2222222222222222, \"#7201a8\"], [0.3333333333333333, \"#9c179e\"], [0.4444444444444444, \"#bd3786\"], [0.5555555555555556, \"#d8576b\"], [0.6666666666666666, \"#ed7953\"], [0.7777777777777778, \"#fb9f3a\"], [0.8888888888888888, \"#fdca26\"], [1.0, \"#f0f921\"]], \"type\": \"surface\"}], \"table\": [{\"cells\": {\"fill\": {\"color\": \"#EBF0F8\"}, \"line\": {\"color\": \"white\"}}, \"header\": {\"fill\": {\"color\": \"#C8D4E3\"}, \"line\": {\"color\": \"white\"}}, \"type\": \"table\"}]}, \"layout\": {\"annotationdefaults\": {\"arrowcolor\": \"#2a3f5f\", \"arrowhead\": 0, \"arrowwidth\": 1}, \"autotypenumbers\": \"strict\", \"coloraxis\": {\"colorbar\": {\"outlinewidth\": 0, \"ticks\": \"\"}}, \"colorscale\": {\"diverging\": [[0, \"#8e0152\"], [0.1, \"#c51b7d\"], [0.2, \"#de77ae\"], [0.3, \"#f1b6da\"], [0.4, \"#fde0ef\"], [0.5, \"#f7f7f7\"], [0.6, \"#e6f5d0\"], [0.7, \"#b8e186\"], [0.8, \"#7fbc41\"], [0.9, \"#4d9221\"], [1, \"#276419\"]], \"sequential\": [[0.0, \"#0d0887\"], [0.1111111111111111, \"#46039f\"], [0.2222222222222222, \"#7201a8\"], [0.3333333333333333, \"#9c179e\"], [0.4444444444444444, \"#bd3786\"], [0.5555555555555556, \"#d8576b\"], [0.6666666666666666, \"#ed7953\"], [0.7777777777777778, \"#fb9f3a\"], [0.8888888888888888, \"#fdca26\"], [1.0, \"#f0f921\"]], \"sequentialminus\": [[0.0, \"#0d0887\"], [0.1111111111111111, \"#46039f\"], [0.2222222222222222, \"#7201a8\"], [0.3333333333333333, \"#9c179e\"], [0.4444444444444444, \"#bd3786\"], [0.5555555555555556, \"#d8576b\"], [0.6666666666666666, \"#ed7953\"], [0.7777777777777778, \"#fb9f3a\"], [0.8888888888888888, \"#fdca26\"], [1.0, \"#f0f921\"]]}, \"colorway\": [\"#636efa\", \"#EF553B\", \"#00cc96\", \"#ab63fa\", \"#FFA15A\", \"#19d3f3\", \"#FF6692\", \"#B6E880\", \"#FF97FF\", \"#FECB52\"], \"font\": {\"color\": \"#2a3f5f\"}, \"geo\": {\"bgcolor\": \"white\", \"lakecolor\": \"white\", \"landcolor\": \"#E5ECF6\", \"showlakes\": true, \"showland\": true, \"subunitcolor\": \"white\"}, \"hoverlabel\": {\"align\": \"left\"}, \"hovermode\": \"closest\", \"mapbox\": {\"style\": \"light\"}, \"paper_bgcolor\": \"white\", \"plot_bgcolor\": \"#E5ECF6\", \"polar\": {\"angularaxis\": {\"gridcolor\": \"white\", \"linecolor\": \"white\", \"ticks\": \"\"}, \"bgcolor\": \"#E5ECF6\", \"radialaxis\": {\"gridcolor\": \"white\", \"linecolor\": \"white\", \"ticks\": \"\"}}, \"scene\": {\"xaxis\": {\"backgroundcolor\": \"#E5ECF6\", \"gridcolor\": \"white\", \"gridwidth\": 2, \"linecolor\": \"white\", \"showbackground\": true, \"ticks\": \"\", \"zerolinecolor\": \"white\"}, \"yaxis\": {\"backgroundcolor\": \"#E5ECF6\", \"gridcolor\": \"white\", \"gridwidth\": 2, \"linecolor\": \"white\", \"showbackground\": true, \"ticks\": \"\", \"zerolinecolor\": \"white\"}, \"zaxis\": {\"backgroundcolor\": \"#E5ECF6\", \"gridcolor\": \"white\", \"gridwidth\": 2, \"linecolor\": \"white\", \"showbackground\": true, \"ticks\": \"\", \"zerolinecolor\": \"white\"}}, \"shapedefaults\": {\"line\": {\"color\": \"#2a3f5f\"}}, \"ternary\": {\"aaxis\": {\"gridcolor\": \"white\", \"linecolor\": \"white\", \"ticks\": \"\"}, \"baxis\": {\"gridcolor\": \"white\", \"linecolor\": \"white\", \"ticks\": \"\"}, \"bgcolor\": \"#E5ECF6\", \"caxis\": {\"gridcolor\": \"white\", \"linecolor\": \"white\", \"ticks\": \"\"}}, \"title\": {\"x\": 0.05}, \"xaxis\": {\"automargin\": true, \"gridcolor\": \"white\", \"linecolor\": \"white\", \"ticks\": \"\", \"title\": {\"standoff\": 15}, \"zerolinecolor\": \"white\", \"zerolinewidth\": 2}, \"yaxis\": {\"automargin\": true, \"gridcolor\": \"white\", \"linecolor\": \"white\", \"ticks\": \"\", \"title\": {\"standoff\": 15}, \"zerolinecolor\": \"white\", \"zerolinewidth\": 2}}}, \"title\": {\"text\": \"Happiness Score compared to Perception of Corruption Score\"}, \"width\": 1000, \"xaxis\": {\"anchor\": \"y\", \"domain\": [0.0, 1.0], \"range\": [0, 8], \"title\": {\"text\": \"Happiness Score\"}}, \"yaxis\": {\"anchor\": \"x\", \"domain\": [0.0, 1.0], \"title\": {\"text\": \"Perception of Corruption Score\"}}},                        {\"responsive\": true}                    ).then(function(){\n",
       "                            \n",
       "var gd = document.getElementById('4c8269ae-eb8d-4b0b-b91d-9403f8f05df9');\n",
       "var x = new MutationObserver(function (mutations, observer) {{\n",
       "        var display = window.getComputedStyle(gd).display;\n",
       "        if (!display || display === 'none') {{\n",
       "            console.log([gd, 'removed!']);\n",
       "            Plotly.purge(gd);\n",
       "            observer.disconnect();\n",
       "        }}\n",
       "}});\n",
       "\n",
       "// Listen for the removal of the full notebook cells\n",
       "var notebookContainer = gd.closest('#notebook-container');\n",
       "if (notebookContainer) {{\n",
       "    x.observe(notebookContainer, {childList: true});\n",
       "}}\n",
       "\n",
       "// Listen for the clearing of the current output cell\n",
       "var outputEl = gd.closest('.output');\n",
       "if (outputEl) {{\n",
       "    x.observe(outputEl, {childList: true});\n",
       "}}\n",
       "\n",
       "                        })                };                });            </script>        </div>"
      ]
     },
     "metadata": {},
     "output_type": "display_data"
    }
   ],
   "source": [
    "#happiness score vs perception of corruption\n",
    "\n",
    "#establish x and y values\n",
    "x_values = csv_2016_restructured[\"Score\"]\n",
    "y_values = csv_2016_restructured[\"Perceptions of corruption\"]\n",
    "\n",
    "#px.scatter\n",
    "fig = px.scatter(csv_2016_restructured, x_values, y_values, color=\"Region\", hover_name=\"Country\",\n",
    "                range_x=[0,8], title=\"Happiness Score compared to Perception of Corruption Score\",\n",
    "                width= 1000, height =600) # use trendline=\"ols\" to see all lin reg equations\n",
    "\n",
    "#set axes labels\n",
    "fig.update_xaxes(title_text='Happiness Score')\n",
    "fig.update_yaxes(title_text='Perception of Corruption Score')\n",
    "\n",
    "\n",
    "#formatting\n",
    "#marker size and colors\n",
    "fig.update_traces(marker=dict(size=10,\n",
    "                              line=dict(width=1, \n",
    "                                        color='DarkSlateGrey')))\n",
    "\n",
    "#linear regression\n",
    "#use linregress from dependencies to inplement linear regression\n",
    "(slope, intercept, rvalue, pvalue, stderr) = linregress(x_values, y_values)\n",
    "regress_values = x_values * slope + intercept\n",
    "\n",
    "#print out all variables calculated above (rvalue, pvalue...)\n",
    "print(f\"slope:{round(slope, 2)}\")\n",
    "print(f\"intercept:{round(intercept,2)}\")\n",
    "res = sts.linregress(x_values, y_values)\n",
    "print(f\"R-squared: {res.rvalue**2:.4f}\")\n",
    "\n",
    "\n",
    "#print out line eq for reference\n",
    "line_eq = (f\"y={round(slope, 2)}x + {round(intercept, 2)}\")\n",
    "print(line_eq)\n",
    "\n",
    "fig.show()\n"
   ]
  },
  {
   "cell_type": "code",
   "execution_count": null,
   "metadata": {},
   "outputs": [],
   "source": []
  }
 ],
 "metadata": {
  "kernelspec": {
   "display_name": "Python 3",
   "language": "python",
   "name": "python3"
  },
  "language_info": {
   "codemirror_mode": {
    "name": "ipython",
    "version": 3
   },
   "file_extension": ".py",
   "mimetype": "text/x-python",
   "name": "python",
   "nbconvert_exporter": "python",
   "pygments_lexer": "ipython3",
   "version": "3.6.12"
  }
 },
 "nbformat": 4,
 "nbformat_minor": 4
}

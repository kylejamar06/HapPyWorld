{
 "cells": [
  {
   "cell_type": "code",
   "execution_count": 1,
   "metadata": {},
   "outputs": [],
   "source": [
    "#Dependencies\n",
    "\n",
    "import numpy as np # linear algebra\n",
    "import pandas as pd # data processing, CSV file I/O (e.g. pd.read_csv)\n",
    "import plotly.express as px # for visualization \n",
    "import os\n",
    "import plotly.graph_objects as go\n",
    "from scipy.stats import linregress\n",
    "import scipy.stats as sts"
   ]
  },
  {
   "cell_type": "code",
   "execution_count": 2,
   "metadata": {},
   "outputs": [],
   "source": [
    "#import 2018 data\n",
    "\n",
    "csvpath_2018 = os.path.join('..','Resources', '2018.csv')\n",
    "csv_2018 = pd.read_csv(csvpath_2018)\n",
    "csv_2018.head(15)\n",
    "csv_2018.dropna(how=\"all\")\n",
    "\n",
    "#import happy_region df so we can merge and make region column\n",
    "\n",
    "csvpath_region = os.path.join('..','happy_regions.csv')\n",
    "csv_happy_regions = pd.read_csv(csvpath_region)\n",
    "\n",
    "#lets take out just country and region columns\n",
    "new_region_df = csv_happy_regions[[\"Country\", \"Region\"]]\n",
    "\n",
    "#rename column so it matches with the newly structured csv below\n",
    "new_region_df = new_region_df.rename(columns={\"Country\": \"Country or region\"})\n",
    "\n",
    "#let's merge df with region category with csv 2018\n",
    "merged_2018 = pd.merge(csv_2018, new_region_df, on=\"Country or region\")\n",
    "#merged_2018\n",
    "\n"
   ]
  },
  {
   "cell_type": "code",
   "execution_count": 13,
   "metadata": {},
   "outputs": [
    {
     "data": {
      "text/html": [
       "<div>\n",
       "<style scoped>\n",
       "    .dataframe tbody tr th:only-of-type {\n",
       "        vertical-align: middle;\n",
       "    }\n",
       "\n",
       "    .dataframe tbody tr th {\n",
       "        vertical-align: top;\n",
       "    }\n",
       "\n",
       "    .dataframe thead th {\n",
       "        text-align: right;\n",
       "    }\n",
       "</style>\n",
       "<table border=\"1\" class=\"dataframe\">\n",
       "  <thead>\n",
       "    <tr style=\"text-align: right;\">\n",
       "      <th></th>\n",
       "      <th>Overall rank</th>\n",
       "      <th>Country or region</th>\n",
       "      <th>Score</th>\n",
       "      <th>GDP per capita</th>\n",
       "      <th>Social support</th>\n",
       "      <th>Healthy life expectancy</th>\n",
       "      <th>Freedom to make life choices</th>\n",
       "      <th>Generosity</th>\n",
       "      <th>Perceptions of corruption</th>\n",
       "      <th>Region</th>\n",
       "    </tr>\n",
       "  </thead>\n",
       "  <tbody>\n",
       "    <tr>\n",
       "      <th>0</th>\n",
       "      <td>1</td>\n",
       "      <td>Finland</td>\n",
       "      <td>7.632</td>\n",
       "      <td>1.305</td>\n",
       "      <td>1.592</td>\n",
       "      <td>0.874</td>\n",
       "      <td>0.681</td>\n",
       "      <td>0.202</td>\n",
       "      <td>0.393</td>\n",
       "      <td>Europe</td>\n",
       "    </tr>\n",
       "    <tr>\n",
       "      <th>1</th>\n",
       "      <td>2</td>\n",
       "      <td>Norway</td>\n",
       "      <td>7.594</td>\n",
       "      <td>1.456</td>\n",
       "      <td>1.582</td>\n",
       "      <td>0.861</td>\n",
       "      <td>0.686</td>\n",
       "      <td>0.286</td>\n",
       "      <td>0.340</td>\n",
       "      <td>Europe</td>\n",
       "    </tr>\n",
       "    <tr>\n",
       "      <th>2</th>\n",
       "      <td>3</td>\n",
       "      <td>Denmark</td>\n",
       "      <td>7.555</td>\n",
       "      <td>1.351</td>\n",
       "      <td>1.590</td>\n",
       "      <td>0.868</td>\n",
       "      <td>0.683</td>\n",
       "      <td>0.284</td>\n",
       "      <td>0.408</td>\n",
       "      <td>Europe</td>\n",
       "    </tr>\n",
       "    <tr>\n",
       "      <th>3</th>\n",
       "      <td>4</td>\n",
       "      <td>Iceland</td>\n",
       "      <td>7.495</td>\n",
       "      <td>1.343</td>\n",
       "      <td>1.644</td>\n",
       "      <td>0.914</td>\n",
       "      <td>0.677</td>\n",
       "      <td>0.353</td>\n",
       "      <td>0.138</td>\n",
       "      <td>Europe</td>\n",
       "    </tr>\n",
       "    <tr>\n",
       "      <th>4</th>\n",
       "      <td>5</td>\n",
       "      <td>Switzerland</td>\n",
       "      <td>7.487</td>\n",
       "      <td>1.420</td>\n",
       "      <td>1.549</td>\n",
       "      <td>0.927</td>\n",
       "      <td>0.660</td>\n",
       "      <td>0.256</td>\n",
       "      <td>0.357</td>\n",
       "      <td>Europe</td>\n",
       "    </tr>\n",
       "    <tr>\n",
       "      <th>5</th>\n",
       "      <td>6</td>\n",
       "      <td>Netherlands</td>\n",
       "      <td>7.441</td>\n",
       "      <td>1.361</td>\n",
       "      <td>1.488</td>\n",
       "      <td>0.878</td>\n",
       "      <td>0.638</td>\n",
       "      <td>0.333</td>\n",
       "      <td>0.295</td>\n",
       "      <td>Europe</td>\n",
       "    </tr>\n",
       "    <tr>\n",
       "      <th>6</th>\n",
       "      <td>7</td>\n",
       "      <td>Canada</td>\n",
       "      <td>7.328</td>\n",
       "      <td>1.330</td>\n",
       "      <td>1.532</td>\n",
       "      <td>0.896</td>\n",
       "      <td>0.653</td>\n",
       "      <td>0.321</td>\n",
       "      <td>0.291</td>\n",
       "      <td>North America</td>\n",
       "    </tr>\n",
       "    <tr>\n",
       "      <th>7</th>\n",
       "      <td>8</td>\n",
       "      <td>New Zealand</td>\n",
       "      <td>7.324</td>\n",
       "      <td>1.268</td>\n",
       "      <td>1.601</td>\n",
       "      <td>0.876</td>\n",
       "      <td>0.669</td>\n",
       "      <td>0.365</td>\n",
       "      <td>0.389</td>\n",
       "      <td>Australia and New Zealand</td>\n",
       "    </tr>\n",
       "    <tr>\n",
       "      <th>8</th>\n",
       "      <td>9</td>\n",
       "      <td>Sweden</td>\n",
       "      <td>7.314</td>\n",
       "      <td>1.355</td>\n",
       "      <td>1.501</td>\n",
       "      <td>0.913</td>\n",
       "      <td>0.659</td>\n",
       "      <td>0.285</td>\n",
       "      <td>0.383</td>\n",
       "      <td>Europe</td>\n",
       "    </tr>\n",
       "    <tr>\n",
       "      <th>9</th>\n",
       "      <td>10</td>\n",
       "      <td>Australia</td>\n",
       "      <td>7.272</td>\n",
       "      <td>1.340</td>\n",
       "      <td>1.573</td>\n",
       "      <td>0.910</td>\n",
       "      <td>0.647</td>\n",
       "      <td>0.361</td>\n",
       "      <td>0.302</td>\n",
       "      <td>Australia and New Zealand</td>\n",
       "    </tr>\n",
       "  </tbody>\n",
       "</table>\n",
       "</div>"
      ],
      "text/plain": [
       "   Overall rank Country or region  Score  GDP per capita  Social support  \\\n",
       "0             1           Finland  7.632           1.305           1.592   \n",
       "1             2            Norway  7.594           1.456           1.582   \n",
       "2             3           Denmark  7.555           1.351           1.590   \n",
       "3             4           Iceland  7.495           1.343           1.644   \n",
       "4             5       Switzerland  7.487           1.420           1.549   \n",
       "5             6       Netherlands  7.441           1.361           1.488   \n",
       "6             7            Canada  7.328           1.330           1.532   \n",
       "7             8       New Zealand  7.324           1.268           1.601   \n",
       "8             9            Sweden  7.314           1.355           1.501   \n",
       "9            10         Australia  7.272           1.340           1.573   \n",
       "\n",
       "   Healthy life expectancy  Freedom to make life choices  Generosity  \\\n",
       "0                    0.874                         0.681       0.202   \n",
       "1                    0.861                         0.686       0.286   \n",
       "2                    0.868                         0.683       0.284   \n",
       "3                    0.914                         0.677       0.353   \n",
       "4                    0.927                         0.660       0.256   \n",
       "5                    0.878                         0.638       0.333   \n",
       "6                    0.896                         0.653       0.321   \n",
       "7                    0.876                         0.669       0.365   \n",
       "8                    0.913                         0.659       0.285   \n",
       "9                    0.910                         0.647       0.361   \n",
       "\n",
       "   Perceptions of corruption                     Region  \n",
       "0                      0.393                     Europe  \n",
       "1                      0.340                     Europe  \n",
       "2                      0.408                     Europe  \n",
       "3                      0.138                     Europe  \n",
       "4                      0.357                     Europe  \n",
       "5                      0.295                     Europe  \n",
       "6                      0.291              North America  \n",
       "7                      0.389  Australia and New Zealand  \n",
       "8                      0.383                     Europe  \n",
       "9                      0.302  Australia and New Zealand  "
      ]
     },
     "execution_count": 13,
     "metadata": {},
     "output_type": "execute_result"
    }
   ],
   "source": [
    "#write it as csv so we can look at it\n",
    "#output file for data\n",
    "output_file = os.path.join(\"../clean_csvs/2018_csv_regions.csv\")\n",
    "#open output file\n",
    "with open(output_file, 'w') as datafile:\n",
    "    merged_2018.to_csv(output_file)\n",
    "\n",
    "merged_2018.head(10)"
   ]
  },
  {
   "cell_type": "code",
   "execution_count": 14,
   "metadata": {},
   "outputs": [
    {
     "name": "stdout",
     "output_type": "stream",
     "text": [
      "slope:0.28\n",
      "intercept:-0.61\n",
      "R-squared: 0.6572\n",
      "y=0.28x + -0.61\n"
     ]
    },
    {
     "data": {
      "application/vnd.plotly.v1+json": {
       "config": {
        "plotlyServerURL": "https://plot.ly"
       },
       "data": [
        {
         "hovertemplate": "<b>%{hovertext}</b><br><br>Region=Europe<br>Score=%{x}<br>GDP per capita=%{y}<extra></extra>",
         "hovertext": [
          "Finland",
          "Norway",
          "Denmark",
          "Iceland",
          "Switzerland",
          "Netherlands",
          "Sweden",
          "United Kingdom",
          "Austria",
          "Ireland",
          "Germany",
          "Belgium",
          "Luxembourg",
          "Czech Republic",
          "Malta",
          "France",
          "Spain",
          "Slovakia",
          "Poland",
          "Uzbekistan",
          "Italy",
          "Lithuania",
          "Slovenia",
          "Romania",
          "Latvia",
          "Russia",
          "Kazakhstan",
          "Cyprus",
          "Estonia",
          "Kosovo",
          "Moldova",
          "Turkmenistan",
          "Hungary",
          "Belarus",
          "Portugal",
          "Serbia",
          "Greece",
          "Montenegro",
          "Croatia",
          "Azerbaijan",
          "Tajikistan",
          "Macedonia",
          "Kyrgyzstan",
          "Bosnia and Herzegovina",
          "Bulgaria",
          "Albania",
          "Georgia",
          "Armenia",
          "Ukraine"
         ],
         "legendgroup": "Europe",
         "marker": {
          "color": "#636efa",
          "line": {
           "color": "DarkSlateGrey",
           "width": 1
          },
          "size": 10,
          "symbol": "circle"
         },
         "mode": "markers",
         "name": "Europe",
         "orientation": "v",
         "showlegend": true,
         "type": "scatter",
         "x": [
          7.632000000000001,
          7.593999999999999,
          7.555,
          7.495,
          7.487,
          7.441,
          7.314,
          7.19,
          7.138999999999999,
          6.977,
          6.965,
          6.9270000000000005,
          6.91,
          6.711,
          6.627000000000001,
          6.489,
          6.31,
          6.172999999999999,
          6.122999999999999,
          6.096,
          6,
          5.952000000000001,
          5.9479999999999995,
          5.945,
          5.933,
          5.81,
          5.79,
          5.7620000000000005,
          5.739,
          5.662000000000001,
          5.64,
          5.636,
          5.62,
          5.483,
          5.41,
          5.398,
          5.358,
          5.347,
          5.321000000000001,
          5.2010000000000005,
          5.199,
          5.185,
          5.131,
          5.129,
          4.933,
          4.586,
          4.34,
          4.321000000000001,
          4.103
         ],
         "xaxis": "x",
         "y": [
          1.305,
          1.456,
          1.351,
          1.3430000000000002,
          1.42,
          1.361,
          1.355,
          1.244,
          1.341,
          1.4480000000000002,
          1.34,
          1.324,
          1.5759999999999998,
          1.2329999999999999,
          1.27,
          1.2930000000000001,
          1.251,
          1.21,
          1.176,
          0.7190000000000001,
          1.264,
          1.197,
          1.219,
          1.1159999999999999,
          1.148,
          1.151,
          1.143,
          1.229,
          1.2,
          0.855,
          0.657,
          1.016,
          1.171,
          1.0390000000000001,
          1.188,
          0.975,
          1.1540000000000001,
          1.0170000000000001,
          1.115,
          1.024,
          0.474,
          0.9590000000000001,
          0.53,
          0.915,
          1.054,
          0.9159999999999999,
          0.853,
          0.816,
          0.7929999999999999
         ],
         "yaxis": "y"
        },
        {
         "hovertemplate": "<b>%{hovertext}</b><br><br>Region=North America<br>Score=%{x}<br>GDP per capita=%{y}<extra></extra>",
         "hovertext": [
          "Canada",
          "United States"
         ],
         "legendgroup": "North America",
         "marker": {
          "color": "#EF553B",
          "line": {
           "color": "DarkSlateGrey",
           "width": 1
          },
          "size": 10,
          "symbol": "circle"
         },
         "mode": "markers",
         "name": "North America",
         "orientation": "v",
         "showlegend": true,
         "type": "scatter",
         "x": [
          7.327999999999999,
          6.886
         ],
         "xaxis": "x",
         "y": [
          1.33,
          1.3980000000000001
         ],
         "yaxis": "y"
        },
        {
         "hovertemplate": "<b>%{hovertext}</b><br><br>Region=Australia and New Zealand<br>Score=%{x}<br>GDP per capita=%{y}<extra></extra>",
         "hovertext": [
          "New Zealand",
          "Australia"
         ],
         "legendgroup": "Australia and New Zealand",
         "marker": {
          "color": "#00cc96",
          "line": {
           "color": "DarkSlateGrey",
           "width": 1
          },
          "size": 10,
          "symbol": "circle"
         },
         "mode": "markers",
         "name": "Australia and New Zealand",
         "orientation": "v",
         "showlegend": true,
         "type": "scatter",
         "x": [
          7.324,
          7.272
         ],
         "xaxis": "x",
         "y": [
          1.268,
          1.34
         ],
         "yaxis": "y"
        },
        {
         "hovertemplate": "<b>%{hovertext}</b><br><br>Region=Latin America and Caribbean<br>Score=%{x}<br>GDP per capita=%{y}<extra></extra>",
         "hovertext": [
          "Costa Rica",
          "Mexico",
          "Chile",
          "Panama",
          "Brazil",
          "Argentina",
          "Guatemala",
          "Uruguay",
          "Colombia",
          "El Salvador",
          "Nicaragua",
          "Ecuador",
          "Jamaica",
          "Bolivia",
          "Paraguay",
          "Peru",
          "Honduras",
          "Dominican Republic",
          "Venezuela",
          "Haiti"
         ],
         "legendgroup": "Latin America and Caribbean",
         "marker": {
          "color": "#ab63fa",
          "line": {
           "color": "DarkSlateGrey",
           "width": 1
          },
          "size": 10,
          "symbol": "circle"
         },
         "mode": "markers",
         "name": "Latin America and Caribbean",
         "orientation": "v",
         "showlegend": true,
         "type": "scatter",
         "x": [
          7.072,
          6.4879999999999995,
          6.476,
          6.43,
          6.419,
          6.388,
          6.382000000000001,
          6.379,
          6.26,
          6.167000000000001,
          6.141,
          5.973,
          5.89,
          5.752000000000001,
          5.681,
          5.662999999999999,
          5.504,
          5.3020000000000005,
          4.806,
          3.582
         ],
         "xaxis": "x",
         "y": [
          1.01,
          1.038,
          1.131,
          1.112,
          0.986,
          1.073,
          0.7809999999999999,
          1.093,
          0.96,
          0.8059999999999999,
          0.6679999999999999,
          0.889,
          0.8190000000000001,
          0.7509999999999999,
          0.835,
          0.934,
          0.62,
          0.982,
          0.996,
          0.315
         ],
         "yaxis": "y"
        },
        {
         "hovertemplate": "<b>%{hovertext}</b><br><br>Region=Middle East and Northern Africa<br>Score=%{x}<br>GDP per capita=%{y}<extra></extra>",
         "hovertext": [
          "Israel",
          "United Arab Emirates",
          "Qatar",
          "Saudi Arabia",
          "Bahrain",
          "Kuwait",
          "Libya",
          "Turkey",
          "Lebanon",
          "Algeria",
          "Morocco",
          "Jordan",
          "Palestinian Territories",
          "Iran",
          "Tunisia",
          "Iraq",
          "Egypt",
          "Syria",
          "Yemen"
         ],
         "legendgroup": "Middle East and Northern Africa",
         "marker": {
          "color": "#FFA15A",
          "line": {
           "color": "DarkSlateGrey",
           "width": 1
          },
          "size": 10,
          "symbol": "circle"
         },
         "mode": "markers",
         "name": "Middle East and Northern Africa",
         "orientation": "v",
         "showlegend": true,
         "type": "scatter",
         "x": [
          6.814,
          6.774,
          6.374,
          6.371,
          6.105,
          6.082999999999999,
          5.566,
          5.483,
          5.358,
          5.295,
          5.254,
          5.1610000000000005,
          4.743,
          4.707,
          4.592,
          4.456,
          4.419,
          3.4619999999999997,
          3.355
         ],
         "xaxis": "x",
         "y": [
          1.301,
          2.096,
          1.649,
          1.379,
          1.338,
          1.474,
          0.985,
          1.148,
          0.965,
          0.9790000000000001,
          0.779,
          0.8220000000000001,
          0.642,
          1.0590000000000002,
          0.9,
          1.01,
          0.885,
          0.6890000000000001,
          0.442
         ],
         "yaxis": "y"
        },
        {
         "hovertemplate": "<b>%{hovertext}</b><br><br>Region=Asia<br>Score=%{x}<br>GDP per capita=%{y}<extra></extra>",
         "hovertext": [
          "Taiwan",
          "Singapore",
          "Malaysia",
          "Thailand",
          "Japan",
          "South Korea",
          "Philippines",
          "Pakistan",
          "Hong Kong",
          "China",
          "Mongolia",
          "Vietnam",
          "Indonesia",
          "Bhutan",
          "Nepal",
          "Laos",
          "Bangladesh",
          "Sri Lanka",
          "Cambodia",
          "Myanmar",
          "India",
          "Afghanistan"
         ],
         "legendgroup": "Asia",
         "marker": {
          "color": "#19d3f3",
          "line": {
           "color": "DarkSlateGrey",
           "width": 1
          },
          "size": 10,
          "symbol": "circle"
         },
         "mode": "markers",
         "name": "Asia",
         "orientation": "v",
         "showlegend": true,
         "type": "scatter",
         "x": [
          6.441,
          6.343,
          6.322,
          6.072,
          5.915,
          5.875,
          5.524,
          5.472,
          5.43,
          5.246,
          5.125,
          5.103,
          5.093,
          5.082,
          4.88,
          4.623,
          4.5,
          4.471,
          4.433,
          4.308,
          4.19,
          3.6319999999999997
         ],
         "xaxis": "x",
         "y": [
          1.365,
          1.5290000000000001,
          1.161,
          1.016,
          1.294,
          1.266,
          0.775,
          0.652,
          1.405,
          0.9890000000000001,
          0.914,
          0.715,
          0.899,
          0.7959999999999999,
          0.425,
          0.72,
          0.532,
          0.9179999999999999,
          0.5489999999999999,
          0.682,
          0.721,
          0.332
         ],
         "yaxis": "y"
        },
        {
         "hovertemplate": "<b>%{hovertext}</b><br><br>Region=Sub-Saharan Africa<br>Score=%{x}<br>GDP per capita=%{y}<extra></extra>",
         "hovertext": [
          "Mauritius",
          "Nigeria",
          "Cameroon",
          "Gabon",
          "South Africa",
          "Ivory Coast",
          "Ghana",
          "Senegal",
          "Sierra Leone",
          "Congo (Brazzaville)",
          "Mali",
          "Burkina Faso",
          "Mozambique",
          "Kenya",
          "Zambia",
          "Mauritania",
          "Ethiopia",
          "Chad",
          "Congo (Kinshasa)",
          "Niger",
          "Uganda",
          "Benin",
          "Sudan",
          "Togo",
          "Guinea",
          "Lesotho",
          "Angola",
          "Madagascar",
          "Zimbabwe",
          "Botswana",
          "Malawi",
          "Liberia",
          "Rwanda",
          "Tanzania",
          "Central African Republic",
          "Burundi"
         ],
         "legendgroup": "Sub-Saharan Africa",
         "marker": {
          "color": "#FF6692",
          "line": {
           "color": "DarkSlateGrey",
           "width": 1
          },
          "size": 10,
          "symbol": "circle"
         },
         "mode": "markers",
         "name": "Sub-Saharan Africa",
         "orientation": "v",
         "showlegend": true,
         "type": "scatter",
         "x": [
          5.891,
          5.155,
          4.975,
          4.758,
          4.724,
          4.671,
          4.657,
          4.631,
          4.571000000000001,
          4.559,
          4.447,
          4.4239999999999995,
          4.417,
          4.41,
          4.377,
          4.356,
          4.35,
          4.301,
          4.245,
          4.166,
          4.1610000000000005,
          4.141,
          4.138999999999999,
          3.9989999999999997,
          3.964,
          3.8080000000000003,
          3.795,
          3.7739999999999996,
          3.6919999999999997,
          3.59,
          3.5869999999999997,
          3.495,
          3.408,
          3.303,
          3.083,
          2.905
         ],
         "xaxis": "x",
         "y": [
          1.09,
          0.6890000000000001,
          0.535,
          1.036,
          0.94,
          0.541,
          0.5920000000000001,
          0.429,
          0.256,
          0.682,
          0.37,
          0.314,
          0.198,
          0.493,
          0.562,
          0.557,
          0.308,
          0.358,
          0.069,
          0.131,
          0.322,
          0.37799999999999995,
          0.605,
          0.259,
          0.344,
          0.47200000000000003,
          0.73,
          0.262,
          0.35700000000000004,
          1.0170000000000001,
          0.18600000000000003,
          0.076,
          0.332,
          0.455,
          0.024,
          0.091
         ],
         "yaxis": "y"
        }
       ],
       "layout": {
        "height": 600,
        "legend": {
         "title": {
          "text": "Region"
         },
         "tracegroupgap": 0
        },
        "template": {
         "data": {
          "bar": [
           {
            "error_x": {
             "color": "#2a3f5f"
            },
            "error_y": {
             "color": "#2a3f5f"
            },
            "marker": {
             "line": {
              "color": "#E5ECF6",
              "width": 0.5
             }
            },
            "type": "bar"
           }
          ],
          "barpolar": [
           {
            "marker": {
             "line": {
              "color": "#E5ECF6",
              "width": 0.5
             }
            },
            "type": "barpolar"
           }
          ],
          "carpet": [
           {
            "aaxis": {
             "endlinecolor": "#2a3f5f",
             "gridcolor": "white",
             "linecolor": "white",
             "minorgridcolor": "white",
             "startlinecolor": "#2a3f5f"
            },
            "baxis": {
             "endlinecolor": "#2a3f5f",
             "gridcolor": "white",
             "linecolor": "white",
             "minorgridcolor": "white",
             "startlinecolor": "#2a3f5f"
            },
            "type": "carpet"
           }
          ],
          "choropleth": [
           {
            "colorbar": {
             "outlinewidth": 0,
             "ticks": ""
            },
            "type": "choropleth"
           }
          ],
          "contour": [
           {
            "colorbar": {
             "outlinewidth": 0,
             "ticks": ""
            },
            "colorscale": [
             [
              0,
              "#0d0887"
             ],
             [
              0.1111111111111111,
              "#46039f"
             ],
             [
              0.2222222222222222,
              "#7201a8"
             ],
             [
              0.3333333333333333,
              "#9c179e"
             ],
             [
              0.4444444444444444,
              "#bd3786"
             ],
             [
              0.5555555555555556,
              "#d8576b"
             ],
             [
              0.6666666666666666,
              "#ed7953"
             ],
             [
              0.7777777777777778,
              "#fb9f3a"
             ],
             [
              0.8888888888888888,
              "#fdca26"
             ],
             [
              1,
              "#f0f921"
             ]
            ],
            "type": "contour"
           }
          ],
          "contourcarpet": [
           {
            "colorbar": {
             "outlinewidth": 0,
             "ticks": ""
            },
            "type": "contourcarpet"
           }
          ],
          "heatmap": [
           {
            "colorbar": {
             "outlinewidth": 0,
             "ticks": ""
            },
            "colorscale": [
             [
              0,
              "#0d0887"
             ],
             [
              0.1111111111111111,
              "#46039f"
             ],
             [
              0.2222222222222222,
              "#7201a8"
             ],
             [
              0.3333333333333333,
              "#9c179e"
             ],
             [
              0.4444444444444444,
              "#bd3786"
             ],
             [
              0.5555555555555556,
              "#d8576b"
             ],
             [
              0.6666666666666666,
              "#ed7953"
             ],
             [
              0.7777777777777778,
              "#fb9f3a"
             ],
             [
              0.8888888888888888,
              "#fdca26"
             ],
             [
              1,
              "#f0f921"
             ]
            ],
            "type": "heatmap"
           }
          ],
          "heatmapgl": [
           {
            "colorbar": {
             "outlinewidth": 0,
             "ticks": ""
            },
            "colorscale": [
             [
              0,
              "#0d0887"
             ],
             [
              0.1111111111111111,
              "#46039f"
             ],
             [
              0.2222222222222222,
              "#7201a8"
             ],
             [
              0.3333333333333333,
              "#9c179e"
             ],
             [
              0.4444444444444444,
              "#bd3786"
             ],
             [
              0.5555555555555556,
              "#d8576b"
             ],
             [
              0.6666666666666666,
              "#ed7953"
             ],
             [
              0.7777777777777778,
              "#fb9f3a"
             ],
             [
              0.8888888888888888,
              "#fdca26"
             ],
             [
              1,
              "#f0f921"
             ]
            ],
            "type": "heatmapgl"
           }
          ],
          "histogram": [
           {
            "marker": {
             "colorbar": {
              "outlinewidth": 0,
              "ticks": ""
             }
            },
            "type": "histogram"
           }
          ],
          "histogram2d": [
           {
            "colorbar": {
             "outlinewidth": 0,
             "ticks": ""
            },
            "colorscale": [
             [
              0,
              "#0d0887"
             ],
             [
              0.1111111111111111,
              "#46039f"
             ],
             [
              0.2222222222222222,
              "#7201a8"
             ],
             [
              0.3333333333333333,
              "#9c179e"
             ],
             [
              0.4444444444444444,
              "#bd3786"
             ],
             [
              0.5555555555555556,
              "#d8576b"
             ],
             [
              0.6666666666666666,
              "#ed7953"
             ],
             [
              0.7777777777777778,
              "#fb9f3a"
             ],
             [
              0.8888888888888888,
              "#fdca26"
             ],
             [
              1,
              "#f0f921"
             ]
            ],
            "type": "histogram2d"
           }
          ],
          "histogram2dcontour": [
           {
            "colorbar": {
             "outlinewidth": 0,
             "ticks": ""
            },
            "colorscale": [
             [
              0,
              "#0d0887"
             ],
             [
              0.1111111111111111,
              "#46039f"
             ],
             [
              0.2222222222222222,
              "#7201a8"
             ],
             [
              0.3333333333333333,
              "#9c179e"
             ],
             [
              0.4444444444444444,
              "#bd3786"
             ],
             [
              0.5555555555555556,
              "#d8576b"
             ],
             [
              0.6666666666666666,
              "#ed7953"
             ],
             [
              0.7777777777777778,
              "#fb9f3a"
             ],
             [
              0.8888888888888888,
              "#fdca26"
             ],
             [
              1,
              "#f0f921"
             ]
            ],
            "type": "histogram2dcontour"
           }
          ],
          "mesh3d": [
           {
            "colorbar": {
             "outlinewidth": 0,
             "ticks": ""
            },
            "type": "mesh3d"
           }
          ],
          "parcoords": [
           {
            "line": {
             "colorbar": {
              "outlinewidth": 0,
              "ticks": ""
             }
            },
            "type": "parcoords"
           }
          ],
          "pie": [
           {
            "automargin": true,
            "type": "pie"
           }
          ],
          "scatter": [
           {
            "marker": {
             "colorbar": {
              "outlinewidth": 0,
              "ticks": ""
             }
            },
            "type": "scatter"
           }
          ],
          "scatter3d": [
           {
            "line": {
             "colorbar": {
              "outlinewidth": 0,
              "ticks": ""
             }
            },
            "marker": {
             "colorbar": {
              "outlinewidth": 0,
              "ticks": ""
             }
            },
            "type": "scatter3d"
           }
          ],
          "scattercarpet": [
           {
            "marker": {
             "colorbar": {
              "outlinewidth": 0,
              "ticks": ""
             }
            },
            "type": "scattercarpet"
           }
          ],
          "scattergeo": [
           {
            "marker": {
             "colorbar": {
              "outlinewidth": 0,
              "ticks": ""
             }
            },
            "type": "scattergeo"
           }
          ],
          "scattergl": [
           {
            "marker": {
             "colorbar": {
              "outlinewidth": 0,
              "ticks": ""
             }
            },
            "type": "scattergl"
           }
          ],
          "scattermapbox": [
           {
            "marker": {
             "colorbar": {
              "outlinewidth": 0,
              "ticks": ""
             }
            },
            "type": "scattermapbox"
           }
          ],
          "scatterpolar": [
           {
            "marker": {
             "colorbar": {
              "outlinewidth": 0,
              "ticks": ""
             }
            },
            "type": "scatterpolar"
           }
          ],
          "scatterpolargl": [
           {
            "marker": {
             "colorbar": {
              "outlinewidth": 0,
              "ticks": ""
             }
            },
            "type": "scatterpolargl"
           }
          ],
          "scatterternary": [
           {
            "marker": {
             "colorbar": {
              "outlinewidth": 0,
              "ticks": ""
             }
            },
            "type": "scatterternary"
           }
          ],
          "surface": [
           {
            "colorbar": {
             "outlinewidth": 0,
             "ticks": ""
            },
            "colorscale": [
             [
              0,
              "#0d0887"
             ],
             [
              0.1111111111111111,
              "#46039f"
             ],
             [
              0.2222222222222222,
              "#7201a8"
             ],
             [
              0.3333333333333333,
              "#9c179e"
             ],
             [
              0.4444444444444444,
              "#bd3786"
             ],
             [
              0.5555555555555556,
              "#d8576b"
             ],
             [
              0.6666666666666666,
              "#ed7953"
             ],
             [
              0.7777777777777778,
              "#fb9f3a"
             ],
             [
              0.8888888888888888,
              "#fdca26"
             ],
             [
              1,
              "#f0f921"
             ]
            ],
            "type": "surface"
           }
          ],
          "table": [
           {
            "cells": {
             "fill": {
              "color": "#EBF0F8"
             },
             "line": {
              "color": "white"
             }
            },
            "header": {
             "fill": {
              "color": "#C8D4E3"
             },
             "line": {
              "color": "white"
             }
            },
            "type": "table"
           }
          ]
         },
         "layout": {
          "annotationdefaults": {
           "arrowcolor": "#2a3f5f",
           "arrowhead": 0,
           "arrowwidth": 1
          },
          "autotypenumbers": "strict",
          "coloraxis": {
           "colorbar": {
            "outlinewidth": 0,
            "ticks": ""
           }
          },
          "colorscale": {
           "diverging": [
            [
             0,
             "#8e0152"
            ],
            [
             0.1,
             "#c51b7d"
            ],
            [
             0.2,
             "#de77ae"
            ],
            [
             0.3,
             "#f1b6da"
            ],
            [
             0.4,
             "#fde0ef"
            ],
            [
             0.5,
             "#f7f7f7"
            ],
            [
             0.6,
             "#e6f5d0"
            ],
            [
             0.7,
             "#b8e186"
            ],
            [
             0.8,
             "#7fbc41"
            ],
            [
             0.9,
             "#4d9221"
            ],
            [
             1,
             "#276419"
            ]
           ],
           "sequential": [
            [
             0,
             "#0d0887"
            ],
            [
             0.1111111111111111,
             "#46039f"
            ],
            [
             0.2222222222222222,
             "#7201a8"
            ],
            [
             0.3333333333333333,
             "#9c179e"
            ],
            [
             0.4444444444444444,
             "#bd3786"
            ],
            [
             0.5555555555555556,
             "#d8576b"
            ],
            [
             0.6666666666666666,
             "#ed7953"
            ],
            [
             0.7777777777777778,
             "#fb9f3a"
            ],
            [
             0.8888888888888888,
             "#fdca26"
            ],
            [
             1,
             "#f0f921"
            ]
           ],
           "sequentialminus": [
            [
             0,
             "#0d0887"
            ],
            [
             0.1111111111111111,
             "#46039f"
            ],
            [
             0.2222222222222222,
             "#7201a8"
            ],
            [
             0.3333333333333333,
             "#9c179e"
            ],
            [
             0.4444444444444444,
             "#bd3786"
            ],
            [
             0.5555555555555556,
             "#d8576b"
            ],
            [
             0.6666666666666666,
             "#ed7953"
            ],
            [
             0.7777777777777778,
             "#fb9f3a"
            ],
            [
             0.8888888888888888,
             "#fdca26"
            ],
            [
             1,
             "#f0f921"
            ]
           ]
          },
          "colorway": [
           "#636efa",
           "#EF553B",
           "#00cc96",
           "#ab63fa",
           "#FFA15A",
           "#19d3f3",
           "#FF6692",
           "#B6E880",
           "#FF97FF",
           "#FECB52"
          ],
          "font": {
           "color": "#2a3f5f"
          },
          "geo": {
           "bgcolor": "white",
           "lakecolor": "white",
           "landcolor": "#E5ECF6",
           "showlakes": true,
           "showland": true,
           "subunitcolor": "white"
          },
          "hoverlabel": {
           "align": "left"
          },
          "hovermode": "closest",
          "mapbox": {
           "style": "light"
          },
          "paper_bgcolor": "white",
          "plot_bgcolor": "#E5ECF6",
          "polar": {
           "angularaxis": {
            "gridcolor": "white",
            "linecolor": "white",
            "ticks": ""
           },
           "bgcolor": "#E5ECF6",
           "radialaxis": {
            "gridcolor": "white",
            "linecolor": "white",
            "ticks": ""
           }
          },
          "scene": {
           "xaxis": {
            "backgroundcolor": "#E5ECF6",
            "gridcolor": "white",
            "gridwidth": 2,
            "linecolor": "white",
            "showbackground": true,
            "ticks": "",
            "zerolinecolor": "white"
           },
           "yaxis": {
            "backgroundcolor": "#E5ECF6",
            "gridcolor": "white",
            "gridwidth": 2,
            "linecolor": "white",
            "showbackground": true,
            "ticks": "",
            "zerolinecolor": "white"
           },
           "zaxis": {
            "backgroundcolor": "#E5ECF6",
            "gridcolor": "white",
            "gridwidth": 2,
            "linecolor": "white",
            "showbackground": true,
            "ticks": "",
            "zerolinecolor": "white"
           }
          },
          "shapedefaults": {
           "line": {
            "color": "#2a3f5f"
           }
          },
          "ternary": {
           "aaxis": {
            "gridcolor": "white",
            "linecolor": "white",
            "ticks": ""
           },
           "baxis": {
            "gridcolor": "white",
            "linecolor": "white",
            "ticks": ""
           },
           "bgcolor": "#E5ECF6",
           "caxis": {
            "gridcolor": "white",
            "linecolor": "white",
            "ticks": ""
           }
          },
          "title": {
           "x": 0.05
          },
          "xaxis": {
           "automargin": true,
           "gridcolor": "white",
           "linecolor": "white",
           "ticks": "",
           "title": {
            "standoff": 15
           },
           "zerolinecolor": "white",
           "zerolinewidth": 2
          },
          "yaxis": {
           "automargin": true,
           "gridcolor": "white",
           "linecolor": "white",
           "ticks": "",
           "title": {
            "standoff": 15
           },
           "zerolinecolor": "white",
           "zerolinewidth": 2
          }
         }
        },
        "title": {
         "text": "Happiness Score compared to GDP per Capita Score"
        },
        "width": 1000,
        "xaxis": {
         "anchor": "y",
         "domain": [
          0,
          1
         ],
         "range": [
          0,
          8
         ],
         "title": {
          "text": "Happiness Score"
         }
        },
        "yaxis": {
         "anchor": "x",
         "domain": [
          0,
          1
         ],
         "title": {
          "text": "GDP per Capita Score"
         }
        }
       }
      },
      "text/html": [
       "<div>                            <div id=\"7c8ccb10-0a30-453b-abd9-248254b5ccaa\" class=\"plotly-graph-div\" style=\"height:600px; width:1000px;\"></div>            <script type=\"text/javascript\">                require([\"plotly\"], function(Plotly) {                    window.PLOTLYENV=window.PLOTLYENV || {};                                    if (document.getElementById(\"7c8ccb10-0a30-453b-abd9-248254b5ccaa\")) {                    Plotly.newPlot(                        \"7c8ccb10-0a30-453b-abd9-248254b5ccaa\",                        [{\"hovertemplate\": \"<b>%{hovertext}</b><br><br>Region=Europe<br>Score=%{x}<br>GDP per capita=%{y}<extra></extra>\", \"hovertext\": [\"Finland\", \"Norway\", \"Denmark\", \"Iceland\", \"Switzerland\", \"Netherlands\", \"Sweden\", \"United Kingdom\", \"Austria\", \"Ireland\", \"Germany\", \"Belgium\", \"Luxembourg\", \"Czech Republic\", \"Malta\", \"France\", \"Spain\", \"Slovakia\", \"Poland\", \"Uzbekistan\", \"Italy\", \"Lithuania\", \"Slovenia\", \"Romania\", \"Latvia\", \"Russia\", \"Kazakhstan\", \"Cyprus\", \"Estonia\", \"Kosovo\", \"Moldova\", \"Turkmenistan\", \"Hungary\", \"Belarus\", \"Portugal\", \"Serbia\", \"Greece\", \"Montenegro\", \"Croatia\", \"Azerbaijan\", \"Tajikistan\", \"Macedonia\", \"Kyrgyzstan\", \"Bosnia and Herzegovina\", \"Bulgaria\", \"Albania\", \"Georgia\", \"Armenia\", \"Ukraine\"], \"legendgroup\": \"Europe\", \"marker\": {\"color\": \"#636efa\", \"line\": {\"color\": \"DarkSlateGrey\", \"width\": 1}, \"size\": 10, \"symbol\": \"circle\"}, \"mode\": \"markers\", \"name\": \"Europe\", \"orientation\": \"v\", \"showlegend\": true, \"type\": \"scatter\", \"x\": [7.632000000000001, 7.593999999999999, 7.555, 7.495, 7.487, 7.441, 7.314, 7.19, 7.138999999999999, 6.977, 6.965, 6.9270000000000005, 6.91, 6.711, 6.627000000000001, 6.489, 6.31, 6.172999999999999, 6.122999999999999, 6.096, 6.0, 5.952000000000001, 5.9479999999999995, 5.945, 5.933, 5.81, 5.79, 5.7620000000000005, 5.739, 5.662000000000001, 5.64, 5.636, 5.62, 5.483, 5.41, 5.398, 5.358, 5.347, 5.321000000000001, 5.2010000000000005, 5.199, 5.185, 5.131, 5.129, 4.933, 4.586, 4.34, 4.321000000000001, 4.103], \"xaxis\": \"x\", \"y\": [1.305, 1.456, 1.351, 1.3430000000000002, 1.42, 1.361, 1.355, 1.244, 1.341, 1.4480000000000002, 1.34, 1.324, 1.5759999999999998, 1.2329999999999999, 1.27, 1.2930000000000001, 1.251, 1.21, 1.176, 0.7190000000000001, 1.264, 1.197, 1.219, 1.1159999999999999, 1.148, 1.151, 1.143, 1.229, 1.2, 0.855, 0.657, 1.016, 1.171, 1.0390000000000001, 1.188, 0.975, 1.1540000000000001, 1.0170000000000001, 1.115, 1.024, 0.474, 0.9590000000000001, 0.53, 0.915, 1.054, 0.9159999999999999, 0.853, 0.816, 0.7929999999999999], \"yaxis\": \"y\"}, {\"hovertemplate\": \"<b>%{hovertext}</b><br><br>Region=North America<br>Score=%{x}<br>GDP per capita=%{y}<extra></extra>\", \"hovertext\": [\"Canada\", \"United States\"], \"legendgroup\": \"North America\", \"marker\": {\"color\": \"#EF553B\", \"line\": {\"color\": \"DarkSlateGrey\", \"width\": 1}, \"size\": 10, \"symbol\": \"circle\"}, \"mode\": \"markers\", \"name\": \"North America\", \"orientation\": \"v\", \"showlegend\": true, \"type\": \"scatter\", \"x\": [7.327999999999999, 6.886], \"xaxis\": \"x\", \"y\": [1.33, 1.3980000000000001], \"yaxis\": \"y\"}, {\"hovertemplate\": \"<b>%{hovertext}</b><br><br>Region=Australia and New Zealand<br>Score=%{x}<br>GDP per capita=%{y}<extra></extra>\", \"hovertext\": [\"New Zealand\", \"Australia\"], \"legendgroup\": \"Australia and New Zealand\", \"marker\": {\"color\": \"#00cc96\", \"line\": {\"color\": \"DarkSlateGrey\", \"width\": 1}, \"size\": 10, \"symbol\": \"circle\"}, \"mode\": \"markers\", \"name\": \"Australia and New Zealand\", \"orientation\": \"v\", \"showlegend\": true, \"type\": \"scatter\", \"x\": [7.324, 7.272], \"xaxis\": \"x\", \"y\": [1.268, 1.34], \"yaxis\": \"y\"}, {\"hovertemplate\": \"<b>%{hovertext}</b><br><br>Region=Latin America and Caribbean<br>Score=%{x}<br>GDP per capita=%{y}<extra></extra>\", \"hovertext\": [\"Costa Rica\", \"Mexico\", \"Chile\", \"Panama\", \"Brazil\", \"Argentina\", \"Guatemala\", \"Uruguay\", \"Colombia\", \"El Salvador\", \"Nicaragua\", \"Ecuador\", \"Jamaica\", \"Bolivia\", \"Paraguay\", \"Peru\", \"Honduras\", \"Dominican Republic\", \"Venezuela\", \"Haiti\"], \"legendgroup\": \"Latin America and Caribbean\", \"marker\": {\"color\": \"#ab63fa\", \"line\": {\"color\": \"DarkSlateGrey\", \"width\": 1}, \"size\": 10, \"symbol\": \"circle\"}, \"mode\": \"markers\", \"name\": \"Latin America and Caribbean\", \"orientation\": \"v\", \"showlegend\": true, \"type\": \"scatter\", \"x\": [7.072, 6.4879999999999995, 6.476, 6.43, 6.419, 6.388, 6.382000000000001, 6.379, 6.26, 6.167000000000001, 6.141, 5.973, 5.89, 5.752000000000001, 5.681, 5.662999999999999, 5.504, 5.3020000000000005, 4.806, 3.582], \"xaxis\": \"x\", \"y\": [1.01, 1.038, 1.131, 1.112, 0.986, 1.073, 0.7809999999999999, 1.093, 0.96, 0.8059999999999999, 0.6679999999999999, 0.889, 0.8190000000000001, 0.7509999999999999, 0.835, 0.934, 0.62, 0.982, 0.996, 0.315], \"yaxis\": \"y\"}, {\"hovertemplate\": \"<b>%{hovertext}</b><br><br>Region=Middle East and Northern Africa<br>Score=%{x}<br>GDP per capita=%{y}<extra></extra>\", \"hovertext\": [\"Israel\", \"United Arab Emirates\", \"Qatar\", \"Saudi Arabia\", \"Bahrain\", \"Kuwait\", \"Libya\", \"Turkey\", \"Lebanon\", \"Algeria\", \"Morocco\", \"Jordan\", \"Palestinian Territories\", \"Iran\", \"Tunisia\", \"Iraq\", \"Egypt\", \"Syria\", \"Yemen\"], \"legendgroup\": \"Middle East and Northern Africa\", \"marker\": {\"color\": \"#FFA15A\", \"line\": {\"color\": \"DarkSlateGrey\", \"width\": 1}, \"size\": 10, \"symbol\": \"circle\"}, \"mode\": \"markers\", \"name\": \"Middle East and Northern Africa\", \"orientation\": \"v\", \"showlegend\": true, \"type\": \"scatter\", \"x\": [6.814, 6.774, 6.374, 6.371, 6.105, 6.082999999999999, 5.566, 5.483, 5.358, 5.295, 5.254, 5.1610000000000005, 4.743, 4.707, 4.592, 4.456, 4.419, 3.4619999999999997, 3.355], \"xaxis\": \"x\", \"y\": [1.301, 2.096, 1.649, 1.379, 1.338, 1.474, 0.985, 1.148, 0.965, 0.9790000000000001, 0.779, 0.8220000000000001, 0.642, 1.0590000000000002, 0.9, 1.01, 0.885, 0.6890000000000001, 0.442], \"yaxis\": \"y\"}, {\"hovertemplate\": \"<b>%{hovertext}</b><br><br>Region=Asia<br>Score=%{x}<br>GDP per capita=%{y}<extra></extra>\", \"hovertext\": [\"Taiwan\", \"Singapore\", \"Malaysia\", \"Thailand\", \"Japan\", \"South Korea\", \"Philippines\", \"Pakistan\", \"Hong Kong\", \"China\", \"Mongolia\", \"Vietnam\", \"Indonesia\", \"Bhutan\", \"Nepal\", \"Laos\", \"Bangladesh\", \"Sri Lanka\", \"Cambodia\", \"Myanmar\", \"India\", \"Afghanistan\"], \"legendgroup\": \"Asia\", \"marker\": {\"color\": \"#19d3f3\", \"line\": {\"color\": \"DarkSlateGrey\", \"width\": 1}, \"size\": 10, \"symbol\": \"circle\"}, \"mode\": \"markers\", \"name\": \"Asia\", \"orientation\": \"v\", \"showlegend\": true, \"type\": \"scatter\", \"x\": [6.441, 6.343, 6.322, 6.072, 5.915, 5.875, 5.524, 5.472, 5.43, 5.246, 5.125, 5.103, 5.093, 5.082, 4.88, 4.623, 4.5, 4.471, 4.433, 4.308, 4.19, 3.6319999999999997], \"xaxis\": \"x\", \"y\": [1.365, 1.5290000000000001, 1.161, 1.016, 1.294, 1.266, 0.775, 0.652, 1.405, 0.9890000000000001, 0.914, 0.715, 0.899, 0.7959999999999999, 0.425, 0.72, 0.532, 0.9179999999999999, 0.5489999999999999, 0.682, 0.721, 0.332], \"yaxis\": \"y\"}, {\"hovertemplate\": \"<b>%{hovertext}</b><br><br>Region=Sub-Saharan Africa<br>Score=%{x}<br>GDP per capita=%{y}<extra></extra>\", \"hovertext\": [\"Mauritius\", \"Nigeria\", \"Cameroon\", \"Gabon\", \"South Africa\", \"Ivory Coast\", \"Ghana\", \"Senegal\", \"Sierra Leone\", \"Congo (Brazzaville)\", \"Mali\", \"Burkina Faso\", \"Mozambique\", \"Kenya\", \"Zambia\", \"Mauritania\", \"Ethiopia\", \"Chad\", \"Congo (Kinshasa)\", \"Niger\", \"Uganda\", \"Benin\", \"Sudan\", \"Togo\", \"Guinea\", \"Lesotho\", \"Angola\", \"Madagascar\", \"Zimbabwe\", \"Botswana\", \"Malawi\", \"Liberia\", \"Rwanda\", \"Tanzania\", \"Central African Republic\", \"Burundi\"], \"legendgroup\": \"Sub-Saharan Africa\", \"marker\": {\"color\": \"#FF6692\", \"line\": {\"color\": \"DarkSlateGrey\", \"width\": 1}, \"size\": 10, \"symbol\": \"circle\"}, \"mode\": \"markers\", \"name\": \"Sub-Saharan Africa\", \"orientation\": \"v\", \"showlegend\": true, \"type\": \"scatter\", \"x\": [5.891, 5.155, 4.975, 4.758, 4.724, 4.671, 4.657, 4.631, 4.571000000000001, 4.559, 4.447, 4.4239999999999995, 4.417, 4.41, 4.377, 4.356, 4.35, 4.301, 4.245, 4.166, 4.1610000000000005, 4.141, 4.138999999999999, 3.9989999999999997, 3.964, 3.8080000000000003, 3.795, 3.7739999999999996, 3.6919999999999997, 3.59, 3.5869999999999997, 3.495, 3.408, 3.303, 3.083, 2.905], \"xaxis\": \"x\", \"y\": [1.09, 0.6890000000000001, 0.535, 1.036, 0.94, 0.541, 0.5920000000000001, 0.429, 0.256, 0.682, 0.37, 0.314, 0.198, 0.493, 0.562, 0.557, 0.308, 0.358, 0.069, 0.131, 0.322, 0.37799999999999995, 0.605, 0.259, 0.344, 0.47200000000000003, 0.73, 0.262, 0.35700000000000004, 1.0170000000000001, 0.18600000000000003, 0.076, 0.332, 0.455, 0.024, 0.091], \"yaxis\": \"y\"}],                        {\"height\": 600, \"legend\": {\"title\": {\"text\": \"Region\"}, \"tracegroupgap\": 0}, \"template\": {\"data\": {\"bar\": [{\"error_x\": {\"color\": \"#2a3f5f\"}, \"error_y\": {\"color\": \"#2a3f5f\"}, \"marker\": {\"line\": {\"color\": \"#E5ECF6\", \"width\": 0.5}}, \"type\": \"bar\"}], \"barpolar\": [{\"marker\": {\"line\": {\"color\": \"#E5ECF6\", \"width\": 0.5}}, \"type\": \"barpolar\"}], \"carpet\": [{\"aaxis\": {\"endlinecolor\": \"#2a3f5f\", \"gridcolor\": \"white\", \"linecolor\": \"white\", \"minorgridcolor\": \"white\", \"startlinecolor\": \"#2a3f5f\"}, \"baxis\": {\"endlinecolor\": \"#2a3f5f\", \"gridcolor\": \"white\", \"linecolor\": \"white\", \"minorgridcolor\": \"white\", \"startlinecolor\": \"#2a3f5f\"}, \"type\": \"carpet\"}], \"choropleth\": [{\"colorbar\": {\"outlinewidth\": 0, \"ticks\": \"\"}, \"type\": \"choropleth\"}], \"contour\": [{\"colorbar\": {\"outlinewidth\": 0, \"ticks\": \"\"}, \"colorscale\": [[0.0, \"#0d0887\"], [0.1111111111111111, \"#46039f\"], [0.2222222222222222, \"#7201a8\"], [0.3333333333333333, \"#9c179e\"], [0.4444444444444444, \"#bd3786\"], [0.5555555555555556, \"#d8576b\"], [0.6666666666666666, \"#ed7953\"], [0.7777777777777778, \"#fb9f3a\"], [0.8888888888888888, \"#fdca26\"], [1.0, \"#f0f921\"]], \"type\": \"contour\"}], \"contourcarpet\": [{\"colorbar\": {\"outlinewidth\": 0, \"ticks\": \"\"}, \"type\": \"contourcarpet\"}], \"heatmap\": [{\"colorbar\": {\"outlinewidth\": 0, \"ticks\": \"\"}, \"colorscale\": [[0.0, \"#0d0887\"], [0.1111111111111111, \"#46039f\"], [0.2222222222222222, \"#7201a8\"], [0.3333333333333333, \"#9c179e\"], [0.4444444444444444, \"#bd3786\"], [0.5555555555555556, \"#d8576b\"], [0.6666666666666666, \"#ed7953\"], [0.7777777777777778, \"#fb9f3a\"], [0.8888888888888888, \"#fdca26\"], [1.0, \"#f0f921\"]], \"type\": \"heatmap\"}], \"heatmapgl\": [{\"colorbar\": {\"outlinewidth\": 0, \"ticks\": \"\"}, \"colorscale\": [[0.0, \"#0d0887\"], [0.1111111111111111, \"#46039f\"], [0.2222222222222222, \"#7201a8\"], [0.3333333333333333, \"#9c179e\"], [0.4444444444444444, \"#bd3786\"], [0.5555555555555556, \"#d8576b\"], [0.6666666666666666, \"#ed7953\"], [0.7777777777777778, \"#fb9f3a\"], [0.8888888888888888, \"#fdca26\"], [1.0, \"#f0f921\"]], \"type\": \"heatmapgl\"}], \"histogram\": [{\"marker\": {\"colorbar\": {\"outlinewidth\": 0, \"ticks\": \"\"}}, \"type\": \"histogram\"}], \"histogram2d\": [{\"colorbar\": {\"outlinewidth\": 0, \"ticks\": \"\"}, \"colorscale\": [[0.0, \"#0d0887\"], [0.1111111111111111, \"#46039f\"], [0.2222222222222222, \"#7201a8\"], [0.3333333333333333, \"#9c179e\"], [0.4444444444444444, \"#bd3786\"], [0.5555555555555556, \"#d8576b\"], [0.6666666666666666, \"#ed7953\"], [0.7777777777777778, \"#fb9f3a\"], [0.8888888888888888, \"#fdca26\"], [1.0, \"#f0f921\"]], \"type\": \"histogram2d\"}], \"histogram2dcontour\": [{\"colorbar\": {\"outlinewidth\": 0, \"ticks\": \"\"}, \"colorscale\": [[0.0, \"#0d0887\"], [0.1111111111111111, \"#46039f\"], [0.2222222222222222, \"#7201a8\"], [0.3333333333333333, \"#9c179e\"], [0.4444444444444444, \"#bd3786\"], [0.5555555555555556, \"#d8576b\"], [0.6666666666666666, \"#ed7953\"], [0.7777777777777778, \"#fb9f3a\"], [0.8888888888888888, \"#fdca26\"], [1.0, \"#f0f921\"]], \"type\": \"histogram2dcontour\"}], \"mesh3d\": [{\"colorbar\": {\"outlinewidth\": 0, \"ticks\": \"\"}, \"type\": \"mesh3d\"}], \"parcoords\": [{\"line\": {\"colorbar\": {\"outlinewidth\": 0, \"ticks\": \"\"}}, \"type\": \"parcoords\"}], \"pie\": [{\"automargin\": true, \"type\": \"pie\"}], \"scatter\": [{\"marker\": {\"colorbar\": {\"outlinewidth\": 0, \"ticks\": \"\"}}, \"type\": \"scatter\"}], \"scatter3d\": [{\"line\": {\"colorbar\": {\"outlinewidth\": 0, \"ticks\": \"\"}}, \"marker\": {\"colorbar\": {\"outlinewidth\": 0, \"ticks\": \"\"}}, \"type\": \"scatter3d\"}], \"scattercarpet\": [{\"marker\": {\"colorbar\": {\"outlinewidth\": 0, \"ticks\": \"\"}}, \"type\": \"scattercarpet\"}], \"scattergeo\": [{\"marker\": {\"colorbar\": {\"outlinewidth\": 0, \"ticks\": \"\"}}, \"type\": \"scattergeo\"}], \"scattergl\": [{\"marker\": {\"colorbar\": {\"outlinewidth\": 0, \"ticks\": \"\"}}, \"type\": \"scattergl\"}], \"scattermapbox\": [{\"marker\": {\"colorbar\": {\"outlinewidth\": 0, \"ticks\": \"\"}}, \"type\": \"scattermapbox\"}], \"scatterpolar\": [{\"marker\": {\"colorbar\": {\"outlinewidth\": 0, \"ticks\": \"\"}}, \"type\": \"scatterpolar\"}], \"scatterpolargl\": [{\"marker\": {\"colorbar\": {\"outlinewidth\": 0, \"ticks\": \"\"}}, \"type\": \"scatterpolargl\"}], \"scatterternary\": [{\"marker\": {\"colorbar\": {\"outlinewidth\": 0, \"ticks\": \"\"}}, \"type\": \"scatterternary\"}], \"surface\": [{\"colorbar\": {\"outlinewidth\": 0, \"ticks\": \"\"}, \"colorscale\": [[0.0, \"#0d0887\"], [0.1111111111111111, \"#46039f\"], [0.2222222222222222, \"#7201a8\"], [0.3333333333333333, \"#9c179e\"], [0.4444444444444444, \"#bd3786\"], [0.5555555555555556, \"#d8576b\"], [0.6666666666666666, \"#ed7953\"], [0.7777777777777778, \"#fb9f3a\"], [0.8888888888888888, \"#fdca26\"], [1.0, \"#f0f921\"]], \"type\": \"surface\"}], \"table\": [{\"cells\": {\"fill\": {\"color\": \"#EBF0F8\"}, \"line\": {\"color\": \"white\"}}, \"header\": {\"fill\": {\"color\": \"#C8D4E3\"}, \"line\": {\"color\": \"white\"}}, \"type\": \"table\"}]}, \"layout\": {\"annotationdefaults\": {\"arrowcolor\": \"#2a3f5f\", \"arrowhead\": 0, \"arrowwidth\": 1}, \"autotypenumbers\": \"strict\", \"coloraxis\": {\"colorbar\": {\"outlinewidth\": 0, \"ticks\": \"\"}}, \"colorscale\": {\"diverging\": [[0, \"#8e0152\"], [0.1, \"#c51b7d\"], [0.2, \"#de77ae\"], [0.3, \"#f1b6da\"], [0.4, \"#fde0ef\"], [0.5, \"#f7f7f7\"], [0.6, \"#e6f5d0\"], [0.7, \"#b8e186\"], [0.8, \"#7fbc41\"], [0.9, \"#4d9221\"], [1, \"#276419\"]], \"sequential\": [[0.0, \"#0d0887\"], [0.1111111111111111, \"#46039f\"], [0.2222222222222222, \"#7201a8\"], [0.3333333333333333, \"#9c179e\"], [0.4444444444444444, \"#bd3786\"], [0.5555555555555556, \"#d8576b\"], [0.6666666666666666, \"#ed7953\"], [0.7777777777777778, \"#fb9f3a\"], [0.8888888888888888, \"#fdca26\"], [1.0, \"#f0f921\"]], \"sequentialminus\": [[0.0, \"#0d0887\"], [0.1111111111111111, \"#46039f\"], [0.2222222222222222, \"#7201a8\"], [0.3333333333333333, \"#9c179e\"], [0.4444444444444444, \"#bd3786\"], [0.5555555555555556, \"#d8576b\"], [0.6666666666666666, \"#ed7953\"], [0.7777777777777778, \"#fb9f3a\"], [0.8888888888888888, \"#fdca26\"], [1.0, \"#f0f921\"]]}, \"colorway\": [\"#636efa\", \"#EF553B\", \"#00cc96\", \"#ab63fa\", \"#FFA15A\", \"#19d3f3\", \"#FF6692\", \"#B6E880\", \"#FF97FF\", \"#FECB52\"], \"font\": {\"color\": \"#2a3f5f\"}, \"geo\": {\"bgcolor\": \"white\", \"lakecolor\": \"white\", \"landcolor\": \"#E5ECF6\", \"showlakes\": true, \"showland\": true, \"subunitcolor\": \"white\"}, \"hoverlabel\": {\"align\": \"left\"}, \"hovermode\": \"closest\", \"mapbox\": {\"style\": \"light\"}, \"paper_bgcolor\": \"white\", \"plot_bgcolor\": \"#E5ECF6\", \"polar\": {\"angularaxis\": {\"gridcolor\": \"white\", \"linecolor\": \"white\", \"ticks\": \"\"}, \"bgcolor\": \"#E5ECF6\", \"radialaxis\": {\"gridcolor\": \"white\", \"linecolor\": \"white\", \"ticks\": \"\"}}, \"scene\": {\"xaxis\": {\"backgroundcolor\": \"#E5ECF6\", \"gridcolor\": \"white\", \"gridwidth\": 2, \"linecolor\": \"white\", \"showbackground\": true, \"ticks\": \"\", \"zerolinecolor\": \"white\"}, \"yaxis\": {\"backgroundcolor\": \"#E5ECF6\", \"gridcolor\": \"white\", \"gridwidth\": 2, \"linecolor\": \"white\", \"showbackground\": true, \"ticks\": \"\", \"zerolinecolor\": \"white\"}, \"zaxis\": {\"backgroundcolor\": \"#E5ECF6\", \"gridcolor\": \"white\", \"gridwidth\": 2, \"linecolor\": \"white\", \"showbackground\": true, \"ticks\": \"\", \"zerolinecolor\": \"white\"}}, \"shapedefaults\": {\"line\": {\"color\": \"#2a3f5f\"}}, \"ternary\": {\"aaxis\": {\"gridcolor\": \"white\", \"linecolor\": \"white\", \"ticks\": \"\"}, \"baxis\": {\"gridcolor\": \"white\", \"linecolor\": \"white\", \"ticks\": \"\"}, \"bgcolor\": \"#E5ECF6\", \"caxis\": {\"gridcolor\": \"white\", \"linecolor\": \"white\", \"ticks\": \"\"}}, \"title\": {\"x\": 0.05}, \"xaxis\": {\"automargin\": true, \"gridcolor\": \"white\", \"linecolor\": \"white\", \"ticks\": \"\", \"title\": {\"standoff\": 15}, \"zerolinecolor\": \"white\", \"zerolinewidth\": 2}, \"yaxis\": {\"automargin\": true, \"gridcolor\": \"white\", \"linecolor\": \"white\", \"ticks\": \"\", \"title\": {\"standoff\": 15}, \"zerolinecolor\": \"white\", \"zerolinewidth\": 2}}}, \"title\": {\"text\": \"Happiness Score compared to GDP per Capita Score\"}, \"width\": 1000, \"xaxis\": {\"anchor\": \"y\", \"domain\": [0.0, 1.0], \"range\": [0, 8], \"title\": {\"text\": \"Happiness Score\"}}, \"yaxis\": {\"anchor\": \"x\", \"domain\": [0.0, 1.0], \"title\": {\"text\": \"GDP per Capita Score\"}}},                        {\"responsive\": true}                    ).then(function(){\n",
       "                            \n",
       "var gd = document.getElementById('7c8ccb10-0a30-453b-abd9-248254b5ccaa');\n",
       "var x = new MutationObserver(function (mutations, observer) {{\n",
       "        var display = window.getComputedStyle(gd).display;\n",
       "        if (!display || display === 'none') {{\n",
       "            console.log([gd, 'removed!']);\n",
       "            Plotly.purge(gd);\n",
       "            observer.disconnect();\n",
       "        }}\n",
       "}});\n",
       "\n",
       "// Listen for the removal of the full notebook cells\n",
       "var notebookContainer = gd.closest('#notebook-container');\n",
       "if (notebookContainer) {{\n",
       "    x.observe(notebookContainer, {childList: true});\n",
       "}}\n",
       "\n",
       "// Listen for the clearing of the current output cell\n",
       "var outputEl = gd.closest('.output');\n",
       "if (outputEl) {{\n",
       "    x.observe(outputEl, {childList: true});\n",
       "}}\n",
       "\n",
       "                        })                };                });            </script>        </div>"
      ]
     },
     "metadata": {},
     "output_type": "display_data"
    }
   ],
   "source": [
    "#happiness score vs. gdp\n",
    "\n",
    "#establish x and y values\n",
    "x_values = merged_2018[\"Score\"]\n",
    "y_values = merged_2018[\"GDP per capita\"]\n",
    "\n",
    "#px.scatter\n",
    "fig = px.scatter(merged_2018, x_values, y_values, color=\"Region\", hover_name=\"Country or region\",\n",
    "                range_x=[0,8], title=\"Happiness Score compared to GDP per Capita Score\",\n",
    "                width= 1000, height =600) # use trendline=\"ols\" to see all lin reg equations\n",
    "\n",
    "#set axes labels\n",
    "fig.update_xaxes(title_text='Happiness Score')\n",
    "fig.update_yaxes(title_text='GDP per Capita Score')\n",
    "\n",
    "#formatting\n",
    "#marker size and colors\n",
    "fig.update_traces(marker=dict(size=10,\n",
    "                              line=dict(width=1, \n",
    "                                        color='DarkSlateGrey')))\n",
    "\n",
    "\n",
    "#linear regression\n",
    "#use linregress from dependencies to inplement linear regression\n",
    "(slope, intercept, rvalue, pvalue, stderr) = linregress(x_values, y_values)\n",
    "regress_values = x_values * slope + intercept\n",
    "\n",
    "#print out all variables calculated above (rvalue, pvalue...)\n",
    "print(f\"slope:{round(slope, 2)}\")\n",
    "print(f\"intercept:{round(intercept,2)}\")\n",
    "res = sts.linregress(x_values, y_values)\n",
    "print(f\"R-squared: {res.rvalue**2:.4f}\")\n",
    "\n",
    "\n",
    "#print out line eq for reference\n",
    "line_eq = (f\"y={round(slope, 2)}x + {round(intercept, 2)}\")\n",
    "print(line_eq)\n",
    "\n",
    "fig.show()"
   ]
  },
  {
   "cell_type": "code",
   "execution_count": 15,
   "metadata": {},
   "outputs": [
    {
     "name": "stdout",
     "output_type": "stream",
     "text": [
      "slope:0.2\n",
      "intercept:0.14\n",
      "R-squared: 0.5587\n",
      "y=0.2x + 0.14\n"
     ]
    },
    {
     "data": {
      "application/vnd.plotly.v1+json": {
       "config": {
        "plotlyServerURL": "https://plot.ly"
       },
       "data": [
        {
         "hovertemplate": "<b>%{hovertext}</b><br><br>Region=Europe<br>Score=%{x}<br>Social support=%{y}<extra></extra>",
         "hovertext": [
          "Finland",
          "Norway",
          "Denmark",
          "Iceland",
          "Switzerland",
          "Netherlands",
          "Sweden",
          "United Kingdom",
          "Austria",
          "Ireland",
          "Germany",
          "Belgium",
          "Luxembourg",
          "Czech Republic",
          "Malta",
          "France",
          "Spain",
          "Slovakia",
          "Poland",
          "Uzbekistan",
          "Italy",
          "Lithuania",
          "Slovenia",
          "Romania",
          "Latvia",
          "Russia",
          "Kazakhstan",
          "Cyprus",
          "Estonia",
          "Kosovo",
          "Moldova",
          "Turkmenistan",
          "Hungary",
          "Belarus",
          "Portugal",
          "Serbia",
          "Greece",
          "Montenegro",
          "Croatia",
          "Azerbaijan",
          "Tajikistan",
          "Macedonia",
          "Kyrgyzstan",
          "Bosnia and Herzegovina",
          "Bulgaria",
          "Albania",
          "Georgia",
          "Armenia",
          "Ukraine"
         ],
         "legendgroup": "Europe",
         "marker": {
          "color": "#636efa",
          "line": {
           "color": "DarkSlateGrey",
           "width": 1
          },
          "size": 10,
          "symbol": "circle"
         },
         "mode": "markers",
         "name": "Europe",
         "orientation": "v",
         "showlegend": true,
         "type": "scatter",
         "x": [
          7.632000000000001,
          7.593999999999999,
          7.555,
          7.495,
          7.487,
          7.441,
          7.314,
          7.19,
          7.138999999999999,
          6.977,
          6.965,
          6.9270000000000005,
          6.91,
          6.711,
          6.627000000000001,
          6.489,
          6.31,
          6.172999999999999,
          6.122999999999999,
          6.096,
          6,
          5.952000000000001,
          5.9479999999999995,
          5.945,
          5.933,
          5.81,
          5.79,
          5.7620000000000005,
          5.739,
          5.662000000000001,
          5.64,
          5.636,
          5.62,
          5.483,
          5.41,
          5.398,
          5.358,
          5.347,
          5.321000000000001,
          5.2010000000000005,
          5.199,
          5.185,
          5.131,
          5.129,
          4.933,
          4.586,
          4.34,
          4.321000000000001,
          4.103
         ],
         "xaxis": "x",
         "y": [
          1.5919999999999999,
          1.5819999999999999,
          1.59,
          1.6440000000000001,
          1.5490000000000002,
          1.4880000000000002,
          1.501,
          1.433,
          1.504,
          1.5830000000000002,
          1.474,
          1.483,
          1.52,
          1.489,
          1.525,
          1.466,
          1.538,
          1.537,
          1.4480000000000002,
          1.584,
          1.501,
          1.527,
          1.506,
          1.219,
          1.454,
          1.479,
          1.516,
          1.1909999999999998,
          1.5319999999999998,
          1.23,
          1.301,
          1.5330000000000001,
          1.401,
          1.4980000000000002,
          1.429,
          1.369,
          1.202,
          1.2790000000000001,
          1.161,
          1.161,
          1.166,
          1.239,
          1.416,
          1.078,
          1.515,
          0.8170000000000001,
          0.5920000000000001,
          0.99,
          1.413
         ],
         "yaxis": "y"
        },
        {
         "hovertemplate": "<b>%{hovertext}</b><br><br>Region=North America<br>Score=%{x}<br>Social support=%{y}<extra></extra>",
         "hovertext": [
          "Canada",
          "United States"
         ],
         "legendgroup": "North America",
         "marker": {
          "color": "#EF553B",
          "line": {
           "color": "DarkSlateGrey",
           "width": 1
          },
          "size": 10,
          "symbol": "circle"
         },
         "mode": "markers",
         "name": "North America",
         "orientation": "v",
         "showlegend": true,
         "type": "scatter",
         "x": [
          7.327999999999999,
          6.886
         ],
         "xaxis": "x",
         "y": [
          1.5319999999999998,
          1.4709999999999999
         ],
         "yaxis": "y"
        },
        {
         "hovertemplate": "<b>%{hovertext}</b><br><br>Region=Australia and New Zealand<br>Score=%{x}<br>Social support=%{y}<extra></extra>",
         "hovertext": [
          "New Zealand",
          "Australia"
         ],
         "legendgroup": "Australia and New Zealand",
         "marker": {
          "color": "#00cc96",
          "line": {
           "color": "DarkSlateGrey",
           "width": 1
          },
          "size": 10,
          "symbol": "circle"
         },
         "mode": "markers",
         "name": "Australia and New Zealand",
         "orientation": "v",
         "showlegend": true,
         "type": "scatter",
         "x": [
          7.324,
          7.272
         ],
         "xaxis": "x",
         "y": [
          1.601,
          1.5730000000000002
         ],
         "yaxis": "y"
        },
        {
         "hovertemplate": "<b>%{hovertext}</b><br><br>Region=Latin America and Caribbean<br>Score=%{x}<br>Social support=%{y}<extra></extra>",
         "hovertext": [
          "Costa Rica",
          "Mexico",
          "Chile",
          "Panama",
          "Brazil",
          "Argentina",
          "Guatemala",
          "Uruguay",
          "Colombia",
          "El Salvador",
          "Nicaragua",
          "Ecuador",
          "Jamaica",
          "Bolivia",
          "Paraguay",
          "Peru",
          "Honduras",
          "Dominican Republic",
          "Venezuela",
          "Haiti"
         ],
         "legendgroup": "Latin America and Caribbean",
         "marker": {
          "color": "#ab63fa",
          "line": {
           "color": "DarkSlateGrey",
           "width": 1
          },
          "size": 10,
          "symbol": "circle"
         },
         "mode": "markers",
         "name": "Latin America and Caribbean",
         "orientation": "v",
         "showlegend": true,
         "type": "scatter",
         "x": [
          7.072,
          6.4879999999999995,
          6.476,
          6.43,
          6.419,
          6.388,
          6.382000000000001,
          6.379,
          6.26,
          6.167000000000001,
          6.141,
          5.973,
          5.89,
          5.752000000000001,
          5.681,
          5.662999999999999,
          5.504,
          5.3020000000000005,
          4.806,
          3.582
         ],
         "xaxis": "x",
         "y": [
          1.459,
          1.252,
          1.331,
          1.4380000000000002,
          1.474,
          1.4680000000000002,
          1.268,
          1.459,
          1.439,
          1.2309999999999999,
          1.319,
          1.33,
          1.493,
          1.2229999999999999,
          1.5219999999999998,
          1.249,
          1.205,
          1.4409999999999998,
          1.469,
          0.7140000000000001
         ],
         "yaxis": "y"
        },
        {
         "hovertemplate": "<b>%{hovertext}</b><br><br>Region=Middle East and Northern Africa<br>Score=%{x}<br>Social support=%{y}<extra></extra>",
         "hovertext": [
          "Israel",
          "United Arab Emirates",
          "Qatar",
          "Saudi Arabia",
          "Bahrain",
          "Kuwait",
          "Libya",
          "Turkey",
          "Lebanon",
          "Algeria",
          "Morocco",
          "Jordan",
          "Palestinian Territories",
          "Iran",
          "Tunisia",
          "Iraq",
          "Egypt",
          "Syria",
          "Yemen"
         ],
         "legendgroup": "Middle East and Northern Africa",
         "marker": {
          "color": "#FFA15A",
          "line": {
           "color": "DarkSlateGrey",
           "width": 1
          },
          "size": 10,
          "symbol": "circle"
         },
         "mode": "markers",
         "name": "Middle East and Northern Africa",
         "orientation": "v",
         "showlegend": true,
         "type": "scatter",
         "x": [
          6.814,
          6.774,
          6.374,
          6.371,
          6.105,
          6.082999999999999,
          5.566,
          5.483,
          5.358,
          5.295,
          5.254,
          5.1610000000000005,
          4.743,
          4.707,
          4.592,
          4.456,
          4.419,
          3.4619999999999997,
          3.355
         ],
         "xaxis": "x",
         "y": [
          1.5590000000000002,
          0.7759999999999999,
          1.3030000000000002,
          1.331,
          1.3659999999999999,
          1.301,
          1.35,
          1.38,
          1.179,
          1.1540000000000001,
          0.797,
          1.265,
          1.217,
          0.7709999999999999,
          0.9059999999999999,
          0.971,
          1.025,
          0.382,
          1.073
         ],
         "yaxis": "y"
        },
        {
         "hovertemplate": "<b>%{hovertext}</b><br><br>Region=Asia<br>Score=%{x}<br>Social support=%{y}<extra></extra>",
         "hovertext": [
          "Taiwan",
          "Singapore",
          "Malaysia",
          "Thailand",
          "Japan",
          "South Korea",
          "Philippines",
          "Pakistan",
          "Hong Kong",
          "China",
          "Mongolia",
          "Vietnam",
          "Indonesia",
          "Bhutan",
          "Nepal",
          "Laos",
          "Bangladesh",
          "Sri Lanka",
          "Cambodia",
          "Myanmar",
          "India",
          "Afghanistan"
         ],
         "legendgroup": "Asia",
         "marker": {
          "color": "#19d3f3",
          "line": {
           "color": "DarkSlateGrey",
           "width": 1
          },
          "size": 10,
          "symbol": "circle"
         },
         "mode": "markers",
         "name": "Asia",
         "orientation": "v",
         "showlegend": true,
         "type": "scatter",
         "x": [
          6.441,
          6.343,
          6.322,
          6.072,
          5.915,
          5.875,
          5.524,
          5.472,
          5.43,
          5.246,
          5.125,
          5.103,
          5.093,
          5.082,
          4.88,
          4.623,
          4.5,
          4.471,
          4.433,
          4.308,
          4.19,
          3.6319999999999997
         ],
         "xaxis": "x",
         "y": [
          1.436,
          1.4509999999999998,
          1.258,
          1.4169999999999998,
          1.462,
          1.204,
          1.3119999999999998,
          0.81,
          1.29,
          1.1420000000000001,
          1.517,
          1.365,
          1.215,
          1.335,
          1.228,
          1.034,
          0.85,
          1.314,
          1.088,
          1.1740000000000002,
          0.747,
          0.537
         ],
         "yaxis": "y"
        },
        {
         "hovertemplate": "<b>%{hovertext}</b><br><br>Region=Sub-Saharan Africa<br>Score=%{x}<br>Social support=%{y}<extra></extra>",
         "hovertext": [
          "Mauritius",
          "Nigeria",
          "Cameroon",
          "Gabon",
          "South Africa",
          "Ivory Coast",
          "Ghana",
          "Senegal",
          "Sierra Leone",
          "Congo (Brazzaville)",
          "Mali",
          "Burkina Faso",
          "Mozambique",
          "Kenya",
          "Zambia",
          "Mauritania",
          "Ethiopia",
          "Chad",
          "Congo (Kinshasa)",
          "Niger",
          "Uganda",
          "Benin",
          "Sudan",
          "Togo",
          "Guinea",
          "Lesotho",
          "Angola",
          "Madagascar",
          "Zimbabwe",
          "Botswana",
          "Malawi",
          "Liberia",
          "Rwanda",
          "Tanzania",
          "Central African Republic",
          "Burundi"
         ],
         "legendgroup": "Sub-Saharan Africa",
         "marker": {
          "color": "#FF6692",
          "line": {
           "color": "DarkSlateGrey",
           "width": 1
          },
          "size": 10,
          "symbol": "circle"
         },
         "mode": "markers",
         "name": "Sub-Saharan Africa",
         "orientation": "v",
         "showlegend": true,
         "type": "scatter",
         "x": [
          5.891,
          5.155,
          4.975,
          4.758,
          4.724,
          4.671,
          4.657,
          4.631,
          4.571000000000001,
          4.559,
          4.447,
          4.4239999999999995,
          4.417,
          4.41,
          4.377,
          4.356,
          4.35,
          4.301,
          4.245,
          4.166,
          4.1610000000000005,
          4.141,
          4.138999999999999,
          3.9989999999999997,
          3.964,
          3.8080000000000003,
          3.795,
          3.7739999999999996,
          3.6919999999999997,
          3.59,
          3.5869999999999997,
          3.495,
          3.408,
          3.303,
          3.083,
          2.905
         ],
         "xaxis": "x",
         "y": [
          1.3869999999999998,
          1.172,
          0.8909999999999999,
          1.1640000000000001,
          1.41,
          0.872,
          0.8959999999999999,
          1.117,
          0.813,
          0.8109999999999999,
          1.2329999999999999,
          1.097,
          0.902,
          1.048,
          1.047,
          1.245,
          0.95,
          0.907,
          1.136,
          0.867,
          1.09,
          0.37200000000000005,
          1.24,
          0.474,
          0.792,
          1.215,
          1.125,
          0.9079999999999999,
          1.094,
          1.1740000000000002,
          0.541,
          0.858,
          0.8959999999999999,
          0.991,
          0,
          0.627
         ],
         "yaxis": "y"
        }
       ],
       "layout": {
        "height": 600,
        "legend": {
         "title": {
          "text": "Region"
         },
         "tracegroupgap": 0
        },
        "template": {
         "data": {
          "bar": [
           {
            "error_x": {
             "color": "#2a3f5f"
            },
            "error_y": {
             "color": "#2a3f5f"
            },
            "marker": {
             "line": {
              "color": "#E5ECF6",
              "width": 0.5
             }
            },
            "type": "bar"
           }
          ],
          "barpolar": [
           {
            "marker": {
             "line": {
              "color": "#E5ECF6",
              "width": 0.5
             }
            },
            "type": "barpolar"
           }
          ],
          "carpet": [
           {
            "aaxis": {
             "endlinecolor": "#2a3f5f",
             "gridcolor": "white",
             "linecolor": "white",
             "minorgridcolor": "white",
             "startlinecolor": "#2a3f5f"
            },
            "baxis": {
             "endlinecolor": "#2a3f5f",
             "gridcolor": "white",
             "linecolor": "white",
             "minorgridcolor": "white",
             "startlinecolor": "#2a3f5f"
            },
            "type": "carpet"
           }
          ],
          "choropleth": [
           {
            "colorbar": {
             "outlinewidth": 0,
             "ticks": ""
            },
            "type": "choropleth"
           }
          ],
          "contour": [
           {
            "colorbar": {
             "outlinewidth": 0,
             "ticks": ""
            },
            "colorscale": [
             [
              0,
              "#0d0887"
             ],
             [
              0.1111111111111111,
              "#46039f"
             ],
             [
              0.2222222222222222,
              "#7201a8"
             ],
             [
              0.3333333333333333,
              "#9c179e"
             ],
             [
              0.4444444444444444,
              "#bd3786"
             ],
             [
              0.5555555555555556,
              "#d8576b"
             ],
             [
              0.6666666666666666,
              "#ed7953"
             ],
             [
              0.7777777777777778,
              "#fb9f3a"
             ],
             [
              0.8888888888888888,
              "#fdca26"
             ],
             [
              1,
              "#f0f921"
             ]
            ],
            "type": "contour"
           }
          ],
          "contourcarpet": [
           {
            "colorbar": {
             "outlinewidth": 0,
             "ticks": ""
            },
            "type": "contourcarpet"
           }
          ],
          "heatmap": [
           {
            "colorbar": {
             "outlinewidth": 0,
             "ticks": ""
            },
            "colorscale": [
             [
              0,
              "#0d0887"
             ],
             [
              0.1111111111111111,
              "#46039f"
             ],
             [
              0.2222222222222222,
              "#7201a8"
             ],
             [
              0.3333333333333333,
              "#9c179e"
             ],
             [
              0.4444444444444444,
              "#bd3786"
             ],
             [
              0.5555555555555556,
              "#d8576b"
             ],
             [
              0.6666666666666666,
              "#ed7953"
             ],
             [
              0.7777777777777778,
              "#fb9f3a"
             ],
             [
              0.8888888888888888,
              "#fdca26"
             ],
             [
              1,
              "#f0f921"
             ]
            ],
            "type": "heatmap"
           }
          ],
          "heatmapgl": [
           {
            "colorbar": {
             "outlinewidth": 0,
             "ticks": ""
            },
            "colorscale": [
             [
              0,
              "#0d0887"
             ],
             [
              0.1111111111111111,
              "#46039f"
             ],
             [
              0.2222222222222222,
              "#7201a8"
             ],
             [
              0.3333333333333333,
              "#9c179e"
             ],
             [
              0.4444444444444444,
              "#bd3786"
             ],
             [
              0.5555555555555556,
              "#d8576b"
             ],
             [
              0.6666666666666666,
              "#ed7953"
             ],
             [
              0.7777777777777778,
              "#fb9f3a"
             ],
             [
              0.8888888888888888,
              "#fdca26"
             ],
             [
              1,
              "#f0f921"
             ]
            ],
            "type": "heatmapgl"
           }
          ],
          "histogram": [
           {
            "marker": {
             "colorbar": {
              "outlinewidth": 0,
              "ticks": ""
             }
            },
            "type": "histogram"
           }
          ],
          "histogram2d": [
           {
            "colorbar": {
             "outlinewidth": 0,
             "ticks": ""
            },
            "colorscale": [
             [
              0,
              "#0d0887"
             ],
             [
              0.1111111111111111,
              "#46039f"
             ],
             [
              0.2222222222222222,
              "#7201a8"
             ],
             [
              0.3333333333333333,
              "#9c179e"
             ],
             [
              0.4444444444444444,
              "#bd3786"
             ],
             [
              0.5555555555555556,
              "#d8576b"
             ],
             [
              0.6666666666666666,
              "#ed7953"
             ],
             [
              0.7777777777777778,
              "#fb9f3a"
             ],
             [
              0.8888888888888888,
              "#fdca26"
             ],
             [
              1,
              "#f0f921"
             ]
            ],
            "type": "histogram2d"
           }
          ],
          "histogram2dcontour": [
           {
            "colorbar": {
             "outlinewidth": 0,
             "ticks": ""
            },
            "colorscale": [
             [
              0,
              "#0d0887"
             ],
             [
              0.1111111111111111,
              "#46039f"
             ],
             [
              0.2222222222222222,
              "#7201a8"
             ],
             [
              0.3333333333333333,
              "#9c179e"
             ],
             [
              0.4444444444444444,
              "#bd3786"
             ],
             [
              0.5555555555555556,
              "#d8576b"
             ],
             [
              0.6666666666666666,
              "#ed7953"
             ],
             [
              0.7777777777777778,
              "#fb9f3a"
             ],
             [
              0.8888888888888888,
              "#fdca26"
             ],
             [
              1,
              "#f0f921"
             ]
            ],
            "type": "histogram2dcontour"
           }
          ],
          "mesh3d": [
           {
            "colorbar": {
             "outlinewidth": 0,
             "ticks": ""
            },
            "type": "mesh3d"
           }
          ],
          "parcoords": [
           {
            "line": {
             "colorbar": {
              "outlinewidth": 0,
              "ticks": ""
             }
            },
            "type": "parcoords"
           }
          ],
          "pie": [
           {
            "automargin": true,
            "type": "pie"
           }
          ],
          "scatter": [
           {
            "marker": {
             "colorbar": {
              "outlinewidth": 0,
              "ticks": ""
             }
            },
            "type": "scatter"
           }
          ],
          "scatter3d": [
           {
            "line": {
             "colorbar": {
              "outlinewidth": 0,
              "ticks": ""
             }
            },
            "marker": {
             "colorbar": {
              "outlinewidth": 0,
              "ticks": ""
             }
            },
            "type": "scatter3d"
           }
          ],
          "scattercarpet": [
           {
            "marker": {
             "colorbar": {
              "outlinewidth": 0,
              "ticks": ""
             }
            },
            "type": "scattercarpet"
           }
          ],
          "scattergeo": [
           {
            "marker": {
             "colorbar": {
              "outlinewidth": 0,
              "ticks": ""
             }
            },
            "type": "scattergeo"
           }
          ],
          "scattergl": [
           {
            "marker": {
             "colorbar": {
              "outlinewidth": 0,
              "ticks": ""
             }
            },
            "type": "scattergl"
           }
          ],
          "scattermapbox": [
           {
            "marker": {
             "colorbar": {
              "outlinewidth": 0,
              "ticks": ""
             }
            },
            "type": "scattermapbox"
           }
          ],
          "scatterpolar": [
           {
            "marker": {
             "colorbar": {
              "outlinewidth": 0,
              "ticks": ""
             }
            },
            "type": "scatterpolar"
           }
          ],
          "scatterpolargl": [
           {
            "marker": {
             "colorbar": {
              "outlinewidth": 0,
              "ticks": ""
             }
            },
            "type": "scatterpolargl"
           }
          ],
          "scatterternary": [
           {
            "marker": {
             "colorbar": {
              "outlinewidth": 0,
              "ticks": ""
             }
            },
            "type": "scatterternary"
           }
          ],
          "surface": [
           {
            "colorbar": {
             "outlinewidth": 0,
             "ticks": ""
            },
            "colorscale": [
             [
              0,
              "#0d0887"
             ],
             [
              0.1111111111111111,
              "#46039f"
             ],
             [
              0.2222222222222222,
              "#7201a8"
             ],
             [
              0.3333333333333333,
              "#9c179e"
             ],
             [
              0.4444444444444444,
              "#bd3786"
             ],
             [
              0.5555555555555556,
              "#d8576b"
             ],
             [
              0.6666666666666666,
              "#ed7953"
             ],
             [
              0.7777777777777778,
              "#fb9f3a"
             ],
             [
              0.8888888888888888,
              "#fdca26"
             ],
             [
              1,
              "#f0f921"
             ]
            ],
            "type": "surface"
           }
          ],
          "table": [
           {
            "cells": {
             "fill": {
              "color": "#EBF0F8"
             },
             "line": {
              "color": "white"
             }
            },
            "header": {
             "fill": {
              "color": "#C8D4E3"
             },
             "line": {
              "color": "white"
             }
            },
            "type": "table"
           }
          ]
         },
         "layout": {
          "annotationdefaults": {
           "arrowcolor": "#2a3f5f",
           "arrowhead": 0,
           "arrowwidth": 1
          },
          "autotypenumbers": "strict",
          "coloraxis": {
           "colorbar": {
            "outlinewidth": 0,
            "ticks": ""
           }
          },
          "colorscale": {
           "diverging": [
            [
             0,
             "#8e0152"
            ],
            [
             0.1,
             "#c51b7d"
            ],
            [
             0.2,
             "#de77ae"
            ],
            [
             0.3,
             "#f1b6da"
            ],
            [
             0.4,
             "#fde0ef"
            ],
            [
             0.5,
             "#f7f7f7"
            ],
            [
             0.6,
             "#e6f5d0"
            ],
            [
             0.7,
             "#b8e186"
            ],
            [
             0.8,
             "#7fbc41"
            ],
            [
             0.9,
             "#4d9221"
            ],
            [
             1,
             "#276419"
            ]
           ],
           "sequential": [
            [
             0,
             "#0d0887"
            ],
            [
             0.1111111111111111,
             "#46039f"
            ],
            [
             0.2222222222222222,
             "#7201a8"
            ],
            [
             0.3333333333333333,
             "#9c179e"
            ],
            [
             0.4444444444444444,
             "#bd3786"
            ],
            [
             0.5555555555555556,
             "#d8576b"
            ],
            [
             0.6666666666666666,
             "#ed7953"
            ],
            [
             0.7777777777777778,
             "#fb9f3a"
            ],
            [
             0.8888888888888888,
             "#fdca26"
            ],
            [
             1,
             "#f0f921"
            ]
           ],
           "sequentialminus": [
            [
             0,
             "#0d0887"
            ],
            [
             0.1111111111111111,
             "#46039f"
            ],
            [
             0.2222222222222222,
             "#7201a8"
            ],
            [
             0.3333333333333333,
             "#9c179e"
            ],
            [
             0.4444444444444444,
             "#bd3786"
            ],
            [
             0.5555555555555556,
             "#d8576b"
            ],
            [
             0.6666666666666666,
             "#ed7953"
            ],
            [
             0.7777777777777778,
             "#fb9f3a"
            ],
            [
             0.8888888888888888,
             "#fdca26"
            ],
            [
             1,
             "#f0f921"
            ]
           ]
          },
          "colorway": [
           "#636efa",
           "#EF553B",
           "#00cc96",
           "#ab63fa",
           "#FFA15A",
           "#19d3f3",
           "#FF6692",
           "#B6E880",
           "#FF97FF",
           "#FECB52"
          ],
          "font": {
           "color": "#2a3f5f"
          },
          "geo": {
           "bgcolor": "white",
           "lakecolor": "white",
           "landcolor": "#E5ECF6",
           "showlakes": true,
           "showland": true,
           "subunitcolor": "white"
          },
          "hoverlabel": {
           "align": "left"
          },
          "hovermode": "closest",
          "mapbox": {
           "style": "light"
          },
          "paper_bgcolor": "white",
          "plot_bgcolor": "#E5ECF6",
          "polar": {
           "angularaxis": {
            "gridcolor": "white",
            "linecolor": "white",
            "ticks": ""
           },
           "bgcolor": "#E5ECF6",
           "radialaxis": {
            "gridcolor": "white",
            "linecolor": "white",
            "ticks": ""
           }
          },
          "scene": {
           "xaxis": {
            "backgroundcolor": "#E5ECF6",
            "gridcolor": "white",
            "gridwidth": 2,
            "linecolor": "white",
            "showbackground": true,
            "ticks": "",
            "zerolinecolor": "white"
           },
           "yaxis": {
            "backgroundcolor": "#E5ECF6",
            "gridcolor": "white",
            "gridwidth": 2,
            "linecolor": "white",
            "showbackground": true,
            "ticks": "",
            "zerolinecolor": "white"
           },
           "zaxis": {
            "backgroundcolor": "#E5ECF6",
            "gridcolor": "white",
            "gridwidth": 2,
            "linecolor": "white",
            "showbackground": true,
            "ticks": "",
            "zerolinecolor": "white"
           }
          },
          "shapedefaults": {
           "line": {
            "color": "#2a3f5f"
           }
          },
          "ternary": {
           "aaxis": {
            "gridcolor": "white",
            "linecolor": "white",
            "ticks": ""
           },
           "baxis": {
            "gridcolor": "white",
            "linecolor": "white",
            "ticks": ""
           },
           "bgcolor": "#E5ECF6",
           "caxis": {
            "gridcolor": "white",
            "linecolor": "white",
            "ticks": ""
           }
          },
          "title": {
           "x": 0.05
          },
          "xaxis": {
           "automargin": true,
           "gridcolor": "white",
           "linecolor": "white",
           "ticks": "",
           "title": {
            "standoff": 15
           },
           "zerolinecolor": "white",
           "zerolinewidth": 2
          },
          "yaxis": {
           "automargin": true,
           "gridcolor": "white",
           "linecolor": "white",
           "ticks": "",
           "title": {
            "standoff": 15
           },
           "zerolinecolor": "white",
           "zerolinewidth": 2
          }
         }
        },
        "title": {
         "text": "Happiness Score compared to Social Support Score"
        },
        "width": 1000,
        "xaxis": {
         "anchor": "y",
         "domain": [
          0,
          1
         ],
         "range": [
          0,
          8
         ],
         "title": {
          "text": "Happiness Score"
         }
        },
        "yaxis": {
         "anchor": "x",
         "domain": [
          0,
          1
         ],
         "title": {
          "text": "Social Support Score"
         }
        }
       }
      },
      "text/html": [
       "<div>                            <div id=\"8d6be73c-840a-43ea-88f0-eb34d83166e1\" class=\"plotly-graph-div\" style=\"height:600px; width:1000px;\"></div>            <script type=\"text/javascript\">                require([\"plotly\"], function(Plotly) {                    window.PLOTLYENV=window.PLOTLYENV || {};                                    if (document.getElementById(\"8d6be73c-840a-43ea-88f0-eb34d83166e1\")) {                    Plotly.newPlot(                        \"8d6be73c-840a-43ea-88f0-eb34d83166e1\",                        [{\"hovertemplate\": \"<b>%{hovertext}</b><br><br>Region=Europe<br>Score=%{x}<br>Social support=%{y}<extra></extra>\", \"hovertext\": [\"Finland\", \"Norway\", \"Denmark\", \"Iceland\", \"Switzerland\", \"Netherlands\", \"Sweden\", \"United Kingdom\", \"Austria\", \"Ireland\", \"Germany\", \"Belgium\", \"Luxembourg\", \"Czech Republic\", \"Malta\", \"France\", \"Spain\", \"Slovakia\", \"Poland\", \"Uzbekistan\", \"Italy\", \"Lithuania\", \"Slovenia\", \"Romania\", \"Latvia\", \"Russia\", \"Kazakhstan\", \"Cyprus\", \"Estonia\", \"Kosovo\", \"Moldova\", \"Turkmenistan\", \"Hungary\", \"Belarus\", \"Portugal\", \"Serbia\", \"Greece\", \"Montenegro\", \"Croatia\", \"Azerbaijan\", \"Tajikistan\", \"Macedonia\", \"Kyrgyzstan\", \"Bosnia and Herzegovina\", \"Bulgaria\", \"Albania\", \"Georgia\", \"Armenia\", \"Ukraine\"], \"legendgroup\": \"Europe\", \"marker\": {\"color\": \"#636efa\", \"line\": {\"color\": \"DarkSlateGrey\", \"width\": 1}, \"size\": 10, \"symbol\": \"circle\"}, \"mode\": \"markers\", \"name\": \"Europe\", \"orientation\": \"v\", \"showlegend\": true, \"type\": \"scatter\", \"x\": [7.632000000000001, 7.593999999999999, 7.555, 7.495, 7.487, 7.441, 7.314, 7.19, 7.138999999999999, 6.977, 6.965, 6.9270000000000005, 6.91, 6.711, 6.627000000000001, 6.489, 6.31, 6.172999999999999, 6.122999999999999, 6.096, 6.0, 5.952000000000001, 5.9479999999999995, 5.945, 5.933, 5.81, 5.79, 5.7620000000000005, 5.739, 5.662000000000001, 5.64, 5.636, 5.62, 5.483, 5.41, 5.398, 5.358, 5.347, 5.321000000000001, 5.2010000000000005, 5.199, 5.185, 5.131, 5.129, 4.933, 4.586, 4.34, 4.321000000000001, 4.103], \"xaxis\": \"x\", \"y\": [1.5919999999999999, 1.5819999999999999, 1.59, 1.6440000000000001, 1.5490000000000002, 1.4880000000000002, 1.501, 1.433, 1.504, 1.5830000000000002, 1.474, 1.483, 1.52, 1.489, 1.525, 1.466, 1.538, 1.537, 1.4480000000000002, 1.584, 1.501, 1.527, 1.506, 1.219, 1.454, 1.479, 1.516, 1.1909999999999998, 1.5319999999999998, 1.23, 1.301, 1.5330000000000001, 1.401, 1.4980000000000002, 1.429, 1.369, 1.202, 1.2790000000000001, 1.161, 1.161, 1.166, 1.239, 1.416, 1.078, 1.515, 0.8170000000000001, 0.5920000000000001, 0.99, 1.413], \"yaxis\": \"y\"}, {\"hovertemplate\": \"<b>%{hovertext}</b><br><br>Region=North America<br>Score=%{x}<br>Social support=%{y}<extra></extra>\", \"hovertext\": [\"Canada\", \"United States\"], \"legendgroup\": \"North America\", \"marker\": {\"color\": \"#EF553B\", \"line\": {\"color\": \"DarkSlateGrey\", \"width\": 1}, \"size\": 10, \"symbol\": \"circle\"}, \"mode\": \"markers\", \"name\": \"North America\", \"orientation\": \"v\", \"showlegend\": true, \"type\": \"scatter\", \"x\": [7.327999999999999, 6.886], \"xaxis\": \"x\", \"y\": [1.5319999999999998, 1.4709999999999999], \"yaxis\": \"y\"}, {\"hovertemplate\": \"<b>%{hovertext}</b><br><br>Region=Australia and New Zealand<br>Score=%{x}<br>Social support=%{y}<extra></extra>\", \"hovertext\": [\"New Zealand\", \"Australia\"], \"legendgroup\": \"Australia and New Zealand\", \"marker\": {\"color\": \"#00cc96\", \"line\": {\"color\": \"DarkSlateGrey\", \"width\": 1}, \"size\": 10, \"symbol\": \"circle\"}, \"mode\": \"markers\", \"name\": \"Australia and New Zealand\", \"orientation\": \"v\", \"showlegend\": true, \"type\": \"scatter\", \"x\": [7.324, 7.272], \"xaxis\": \"x\", \"y\": [1.601, 1.5730000000000002], \"yaxis\": \"y\"}, {\"hovertemplate\": \"<b>%{hovertext}</b><br><br>Region=Latin America and Caribbean<br>Score=%{x}<br>Social support=%{y}<extra></extra>\", \"hovertext\": [\"Costa Rica\", \"Mexico\", \"Chile\", \"Panama\", \"Brazil\", \"Argentina\", \"Guatemala\", \"Uruguay\", \"Colombia\", \"El Salvador\", \"Nicaragua\", \"Ecuador\", \"Jamaica\", \"Bolivia\", \"Paraguay\", \"Peru\", \"Honduras\", \"Dominican Republic\", \"Venezuela\", \"Haiti\"], \"legendgroup\": \"Latin America and Caribbean\", \"marker\": {\"color\": \"#ab63fa\", \"line\": {\"color\": \"DarkSlateGrey\", \"width\": 1}, \"size\": 10, \"symbol\": \"circle\"}, \"mode\": \"markers\", \"name\": \"Latin America and Caribbean\", \"orientation\": \"v\", \"showlegend\": true, \"type\": \"scatter\", \"x\": [7.072, 6.4879999999999995, 6.476, 6.43, 6.419, 6.388, 6.382000000000001, 6.379, 6.26, 6.167000000000001, 6.141, 5.973, 5.89, 5.752000000000001, 5.681, 5.662999999999999, 5.504, 5.3020000000000005, 4.806, 3.582], \"xaxis\": \"x\", \"y\": [1.459, 1.252, 1.331, 1.4380000000000002, 1.474, 1.4680000000000002, 1.268, 1.459, 1.439, 1.2309999999999999, 1.319, 1.33, 1.493, 1.2229999999999999, 1.5219999999999998, 1.249, 1.205, 1.4409999999999998, 1.469, 0.7140000000000001], \"yaxis\": \"y\"}, {\"hovertemplate\": \"<b>%{hovertext}</b><br><br>Region=Middle East and Northern Africa<br>Score=%{x}<br>Social support=%{y}<extra></extra>\", \"hovertext\": [\"Israel\", \"United Arab Emirates\", \"Qatar\", \"Saudi Arabia\", \"Bahrain\", \"Kuwait\", \"Libya\", \"Turkey\", \"Lebanon\", \"Algeria\", \"Morocco\", \"Jordan\", \"Palestinian Territories\", \"Iran\", \"Tunisia\", \"Iraq\", \"Egypt\", \"Syria\", \"Yemen\"], \"legendgroup\": \"Middle East and Northern Africa\", \"marker\": {\"color\": \"#FFA15A\", \"line\": {\"color\": \"DarkSlateGrey\", \"width\": 1}, \"size\": 10, \"symbol\": \"circle\"}, \"mode\": \"markers\", \"name\": \"Middle East and Northern Africa\", \"orientation\": \"v\", \"showlegend\": true, \"type\": \"scatter\", \"x\": [6.814, 6.774, 6.374, 6.371, 6.105, 6.082999999999999, 5.566, 5.483, 5.358, 5.295, 5.254, 5.1610000000000005, 4.743, 4.707, 4.592, 4.456, 4.419, 3.4619999999999997, 3.355], \"xaxis\": \"x\", \"y\": [1.5590000000000002, 0.7759999999999999, 1.3030000000000002, 1.331, 1.3659999999999999, 1.301, 1.35, 1.38, 1.179, 1.1540000000000001, 0.797, 1.265, 1.217, 0.7709999999999999, 0.9059999999999999, 0.971, 1.025, 0.382, 1.073], \"yaxis\": \"y\"}, {\"hovertemplate\": \"<b>%{hovertext}</b><br><br>Region=Asia<br>Score=%{x}<br>Social support=%{y}<extra></extra>\", \"hovertext\": [\"Taiwan\", \"Singapore\", \"Malaysia\", \"Thailand\", \"Japan\", \"South Korea\", \"Philippines\", \"Pakistan\", \"Hong Kong\", \"China\", \"Mongolia\", \"Vietnam\", \"Indonesia\", \"Bhutan\", \"Nepal\", \"Laos\", \"Bangladesh\", \"Sri Lanka\", \"Cambodia\", \"Myanmar\", \"India\", \"Afghanistan\"], \"legendgroup\": \"Asia\", \"marker\": {\"color\": \"#19d3f3\", \"line\": {\"color\": \"DarkSlateGrey\", \"width\": 1}, \"size\": 10, \"symbol\": \"circle\"}, \"mode\": \"markers\", \"name\": \"Asia\", \"orientation\": \"v\", \"showlegend\": true, \"type\": \"scatter\", \"x\": [6.441, 6.343, 6.322, 6.072, 5.915, 5.875, 5.524, 5.472, 5.43, 5.246, 5.125, 5.103, 5.093, 5.082, 4.88, 4.623, 4.5, 4.471, 4.433, 4.308, 4.19, 3.6319999999999997], \"xaxis\": \"x\", \"y\": [1.436, 1.4509999999999998, 1.258, 1.4169999999999998, 1.462, 1.204, 1.3119999999999998, 0.81, 1.29, 1.1420000000000001, 1.517, 1.365, 1.215, 1.335, 1.228, 1.034, 0.85, 1.314, 1.088, 1.1740000000000002, 0.747, 0.537], \"yaxis\": \"y\"}, {\"hovertemplate\": \"<b>%{hovertext}</b><br><br>Region=Sub-Saharan Africa<br>Score=%{x}<br>Social support=%{y}<extra></extra>\", \"hovertext\": [\"Mauritius\", \"Nigeria\", \"Cameroon\", \"Gabon\", \"South Africa\", \"Ivory Coast\", \"Ghana\", \"Senegal\", \"Sierra Leone\", \"Congo (Brazzaville)\", \"Mali\", \"Burkina Faso\", \"Mozambique\", \"Kenya\", \"Zambia\", \"Mauritania\", \"Ethiopia\", \"Chad\", \"Congo (Kinshasa)\", \"Niger\", \"Uganda\", \"Benin\", \"Sudan\", \"Togo\", \"Guinea\", \"Lesotho\", \"Angola\", \"Madagascar\", \"Zimbabwe\", \"Botswana\", \"Malawi\", \"Liberia\", \"Rwanda\", \"Tanzania\", \"Central African Republic\", \"Burundi\"], \"legendgroup\": \"Sub-Saharan Africa\", \"marker\": {\"color\": \"#FF6692\", \"line\": {\"color\": \"DarkSlateGrey\", \"width\": 1}, \"size\": 10, \"symbol\": \"circle\"}, \"mode\": \"markers\", \"name\": \"Sub-Saharan Africa\", \"orientation\": \"v\", \"showlegend\": true, \"type\": \"scatter\", \"x\": [5.891, 5.155, 4.975, 4.758, 4.724, 4.671, 4.657, 4.631, 4.571000000000001, 4.559, 4.447, 4.4239999999999995, 4.417, 4.41, 4.377, 4.356, 4.35, 4.301, 4.245, 4.166, 4.1610000000000005, 4.141, 4.138999999999999, 3.9989999999999997, 3.964, 3.8080000000000003, 3.795, 3.7739999999999996, 3.6919999999999997, 3.59, 3.5869999999999997, 3.495, 3.408, 3.303, 3.083, 2.905], \"xaxis\": \"x\", \"y\": [1.3869999999999998, 1.172, 0.8909999999999999, 1.1640000000000001, 1.41, 0.872, 0.8959999999999999, 1.117, 0.813, 0.8109999999999999, 1.2329999999999999, 1.097, 0.902, 1.048, 1.047, 1.245, 0.95, 0.907, 1.136, 0.867, 1.09, 0.37200000000000005, 1.24, 0.474, 0.792, 1.215, 1.125, 0.9079999999999999, 1.094, 1.1740000000000002, 0.541, 0.858, 0.8959999999999999, 0.991, 0.0, 0.627], \"yaxis\": \"y\"}],                        {\"height\": 600, \"legend\": {\"title\": {\"text\": \"Region\"}, \"tracegroupgap\": 0}, \"template\": {\"data\": {\"bar\": [{\"error_x\": {\"color\": \"#2a3f5f\"}, \"error_y\": {\"color\": \"#2a3f5f\"}, \"marker\": {\"line\": {\"color\": \"#E5ECF6\", \"width\": 0.5}}, \"type\": \"bar\"}], \"barpolar\": [{\"marker\": {\"line\": {\"color\": \"#E5ECF6\", \"width\": 0.5}}, \"type\": \"barpolar\"}], \"carpet\": [{\"aaxis\": {\"endlinecolor\": \"#2a3f5f\", \"gridcolor\": \"white\", \"linecolor\": \"white\", \"minorgridcolor\": \"white\", \"startlinecolor\": \"#2a3f5f\"}, \"baxis\": {\"endlinecolor\": \"#2a3f5f\", \"gridcolor\": \"white\", \"linecolor\": \"white\", \"minorgridcolor\": \"white\", \"startlinecolor\": \"#2a3f5f\"}, \"type\": \"carpet\"}], \"choropleth\": [{\"colorbar\": {\"outlinewidth\": 0, \"ticks\": \"\"}, \"type\": \"choropleth\"}], \"contour\": [{\"colorbar\": {\"outlinewidth\": 0, \"ticks\": \"\"}, \"colorscale\": [[0.0, \"#0d0887\"], [0.1111111111111111, \"#46039f\"], [0.2222222222222222, \"#7201a8\"], [0.3333333333333333, \"#9c179e\"], [0.4444444444444444, \"#bd3786\"], [0.5555555555555556, \"#d8576b\"], [0.6666666666666666, \"#ed7953\"], [0.7777777777777778, \"#fb9f3a\"], [0.8888888888888888, \"#fdca26\"], [1.0, \"#f0f921\"]], \"type\": \"contour\"}], \"contourcarpet\": [{\"colorbar\": {\"outlinewidth\": 0, \"ticks\": \"\"}, \"type\": \"contourcarpet\"}], \"heatmap\": [{\"colorbar\": {\"outlinewidth\": 0, \"ticks\": \"\"}, \"colorscale\": [[0.0, \"#0d0887\"], [0.1111111111111111, \"#46039f\"], [0.2222222222222222, \"#7201a8\"], [0.3333333333333333, \"#9c179e\"], [0.4444444444444444, \"#bd3786\"], [0.5555555555555556, \"#d8576b\"], [0.6666666666666666, \"#ed7953\"], [0.7777777777777778, \"#fb9f3a\"], [0.8888888888888888, \"#fdca26\"], [1.0, \"#f0f921\"]], \"type\": \"heatmap\"}], \"heatmapgl\": [{\"colorbar\": {\"outlinewidth\": 0, \"ticks\": \"\"}, \"colorscale\": [[0.0, \"#0d0887\"], [0.1111111111111111, \"#46039f\"], [0.2222222222222222, \"#7201a8\"], [0.3333333333333333, \"#9c179e\"], [0.4444444444444444, \"#bd3786\"], [0.5555555555555556, \"#d8576b\"], [0.6666666666666666, \"#ed7953\"], [0.7777777777777778, \"#fb9f3a\"], [0.8888888888888888, \"#fdca26\"], [1.0, \"#f0f921\"]], \"type\": \"heatmapgl\"}], \"histogram\": [{\"marker\": {\"colorbar\": {\"outlinewidth\": 0, \"ticks\": \"\"}}, \"type\": \"histogram\"}], \"histogram2d\": [{\"colorbar\": {\"outlinewidth\": 0, \"ticks\": \"\"}, \"colorscale\": [[0.0, \"#0d0887\"], [0.1111111111111111, \"#46039f\"], [0.2222222222222222, \"#7201a8\"], [0.3333333333333333, \"#9c179e\"], [0.4444444444444444, \"#bd3786\"], [0.5555555555555556, \"#d8576b\"], [0.6666666666666666, \"#ed7953\"], [0.7777777777777778, \"#fb9f3a\"], [0.8888888888888888, \"#fdca26\"], [1.0, \"#f0f921\"]], \"type\": \"histogram2d\"}], \"histogram2dcontour\": [{\"colorbar\": {\"outlinewidth\": 0, \"ticks\": \"\"}, \"colorscale\": [[0.0, \"#0d0887\"], [0.1111111111111111, \"#46039f\"], [0.2222222222222222, \"#7201a8\"], [0.3333333333333333, \"#9c179e\"], [0.4444444444444444, \"#bd3786\"], [0.5555555555555556, \"#d8576b\"], [0.6666666666666666, \"#ed7953\"], [0.7777777777777778, \"#fb9f3a\"], [0.8888888888888888, \"#fdca26\"], [1.0, \"#f0f921\"]], \"type\": \"histogram2dcontour\"}], \"mesh3d\": [{\"colorbar\": {\"outlinewidth\": 0, \"ticks\": \"\"}, \"type\": \"mesh3d\"}], \"parcoords\": [{\"line\": {\"colorbar\": {\"outlinewidth\": 0, \"ticks\": \"\"}}, \"type\": \"parcoords\"}], \"pie\": [{\"automargin\": true, \"type\": \"pie\"}], \"scatter\": [{\"marker\": {\"colorbar\": {\"outlinewidth\": 0, \"ticks\": \"\"}}, \"type\": \"scatter\"}], \"scatter3d\": [{\"line\": {\"colorbar\": {\"outlinewidth\": 0, \"ticks\": \"\"}}, \"marker\": {\"colorbar\": {\"outlinewidth\": 0, \"ticks\": \"\"}}, \"type\": \"scatter3d\"}], \"scattercarpet\": [{\"marker\": {\"colorbar\": {\"outlinewidth\": 0, \"ticks\": \"\"}}, \"type\": \"scattercarpet\"}], \"scattergeo\": [{\"marker\": {\"colorbar\": {\"outlinewidth\": 0, \"ticks\": \"\"}}, \"type\": \"scattergeo\"}], \"scattergl\": [{\"marker\": {\"colorbar\": {\"outlinewidth\": 0, \"ticks\": \"\"}}, \"type\": \"scattergl\"}], \"scattermapbox\": [{\"marker\": {\"colorbar\": {\"outlinewidth\": 0, \"ticks\": \"\"}}, \"type\": \"scattermapbox\"}], \"scatterpolar\": [{\"marker\": {\"colorbar\": {\"outlinewidth\": 0, \"ticks\": \"\"}}, \"type\": \"scatterpolar\"}], \"scatterpolargl\": [{\"marker\": {\"colorbar\": {\"outlinewidth\": 0, \"ticks\": \"\"}}, \"type\": \"scatterpolargl\"}], \"scatterternary\": [{\"marker\": {\"colorbar\": {\"outlinewidth\": 0, \"ticks\": \"\"}}, \"type\": \"scatterternary\"}], \"surface\": [{\"colorbar\": {\"outlinewidth\": 0, \"ticks\": \"\"}, \"colorscale\": [[0.0, \"#0d0887\"], [0.1111111111111111, \"#46039f\"], [0.2222222222222222, \"#7201a8\"], [0.3333333333333333, \"#9c179e\"], [0.4444444444444444, \"#bd3786\"], [0.5555555555555556, \"#d8576b\"], [0.6666666666666666, \"#ed7953\"], [0.7777777777777778, \"#fb9f3a\"], [0.8888888888888888, \"#fdca26\"], [1.0, \"#f0f921\"]], \"type\": \"surface\"}], \"table\": [{\"cells\": {\"fill\": {\"color\": \"#EBF0F8\"}, \"line\": {\"color\": \"white\"}}, \"header\": {\"fill\": {\"color\": \"#C8D4E3\"}, \"line\": {\"color\": \"white\"}}, \"type\": \"table\"}]}, \"layout\": {\"annotationdefaults\": {\"arrowcolor\": \"#2a3f5f\", \"arrowhead\": 0, \"arrowwidth\": 1}, \"autotypenumbers\": \"strict\", \"coloraxis\": {\"colorbar\": {\"outlinewidth\": 0, \"ticks\": \"\"}}, \"colorscale\": {\"diverging\": [[0, \"#8e0152\"], [0.1, \"#c51b7d\"], [0.2, \"#de77ae\"], [0.3, \"#f1b6da\"], [0.4, \"#fde0ef\"], [0.5, \"#f7f7f7\"], [0.6, \"#e6f5d0\"], [0.7, \"#b8e186\"], [0.8, \"#7fbc41\"], [0.9, \"#4d9221\"], [1, \"#276419\"]], \"sequential\": [[0.0, \"#0d0887\"], [0.1111111111111111, \"#46039f\"], [0.2222222222222222, \"#7201a8\"], [0.3333333333333333, \"#9c179e\"], [0.4444444444444444, \"#bd3786\"], [0.5555555555555556, \"#d8576b\"], [0.6666666666666666, \"#ed7953\"], [0.7777777777777778, \"#fb9f3a\"], [0.8888888888888888, \"#fdca26\"], [1.0, \"#f0f921\"]], \"sequentialminus\": [[0.0, \"#0d0887\"], [0.1111111111111111, \"#46039f\"], [0.2222222222222222, \"#7201a8\"], [0.3333333333333333, \"#9c179e\"], [0.4444444444444444, \"#bd3786\"], [0.5555555555555556, \"#d8576b\"], [0.6666666666666666, \"#ed7953\"], [0.7777777777777778, \"#fb9f3a\"], [0.8888888888888888, \"#fdca26\"], [1.0, \"#f0f921\"]]}, \"colorway\": [\"#636efa\", \"#EF553B\", \"#00cc96\", \"#ab63fa\", \"#FFA15A\", \"#19d3f3\", \"#FF6692\", \"#B6E880\", \"#FF97FF\", \"#FECB52\"], \"font\": {\"color\": \"#2a3f5f\"}, \"geo\": {\"bgcolor\": \"white\", \"lakecolor\": \"white\", \"landcolor\": \"#E5ECF6\", \"showlakes\": true, \"showland\": true, \"subunitcolor\": \"white\"}, \"hoverlabel\": {\"align\": \"left\"}, \"hovermode\": \"closest\", \"mapbox\": {\"style\": \"light\"}, \"paper_bgcolor\": \"white\", \"plot_bgcolor\": \"#E5ECF6\", \"polar\": {\"angularaxis\": {\"gridcolor\": \"white\", \"linecolor\": \"white\", \"ticks\": \"\"}, \"bgcolor\": \"#E5ECF6\", \"radialaxis\": {\"gridcolor\": \"white\", \"linecolor\": \"white\", \"ticks\": \"\"}}, \"scene\": {\"xaxis\": {\"backgroundcolor\": \"#E5ECF6\", \"gridcolor\": \"white\", \"gridwidth\": 2, \"linecolor\": \"white\", \"showbackground\": true, \"ticks\": \"\", \"zerolinecolor\": \"white\"}, \"yaxis\": {\"backgroundcolor\": \"#E5ECF6\", \"gridcolor\": \"white\", \"gridwidth\": 2, \"linecolor\": \"white\", \"showbackground\": true, \"ticks\": \"\", \"zerolinecolor\": \"white\"}, \"zaxis\": {\"backgroundcolor\": \"#E5ECF6\", \"gridcolor\": \"white\", \"gridwidth\": 2, \"linecolor\": \"white\", \"showbackground\": true, \"ticks\": \"\", \"zerolinecolor\": \"white\"}}, \"shapedefaults\": {\"line\": {\"color\": \"#2a3f5f\"}}, \"ternary\": {\"aaxis\": {\"gridcolor\": \"white\", \"linecolor\": \"white\", \"ticks\": \"\"}, \"baxis\": {\"gridcolor\": \"white\", \"linecolor\": \"white\", \"ticks\": \"\"}, \"bgcolor\": \"#E5ECF6\", \"caxis\": {\"gridcolor\": \"white\", \"linecolor\": \"white\", \"ticks\": \"\"}}, \"title\": {\"x\": 0.05}, \"xaxis\": {\"automargin\": true, \"gridcolor\": \"white\", \"linecolor\": \"white\", \"ticks\": \"\", \"title\": {\"standoff\": 15}, \"zerolinecolor\": \"white\", \"zerolinewidth\": 2}, \"yaxis\": {\"automargin\": true, \"gridcolor\": \"white\", \"linecolor\": \"white\", \"ticks\": \"\", \"title\": {\"standoff\": 15}, \"zerolinecolor\": \"white\", \"zerolinewidth\": 2}}}, \"title\": {\"text\": \"Happiness Score compared to Social Support Score\"}, \"width\": 1000, \"xaxis\": {\"anchor\": \"y\", \"domain\": [0.0, 1.0], \"range\": [0, 8], \"title\": {\"text\": \"Happiness Score\"}}, \"yaxis\": {\"anchor\": \"x\", \"domain\": [0.0, 1.0], \"title\": {\"text\": \"Social Support Score\"}}},                        {\"responsive\": true}                    ).then(function(){\n",
       "                            \n",
       "var gd = document.getElementById('8d6be73c-840a-43ea-88f0-eb34d83166e1');\n",
       "var x = new MutationObserver(function (mutations, observer) {{\n",
       "        var display = window.getComputedStyle(gd).display;\n",
       "        if (!display || display === 'none') {{\n",
       "            console.log([gd, 'removed!']);\n",
       "            Plotly.purge(gd);\n",
       "            observer.disconnect();\n",
       "        }}\n",
       "}});\n",
       "\n",
       "// Listen for the removal of the full notebook cells\n",
       "var notebookContainer = gd.closest('#notebook-container');\n",
       "if (notebookContainer) {{\n",
       "    x.observe(notebookContainer, {childList: true});\n",
       "}}\n",
       "\n",
       "// Listen for the clearing of the current output cell\n",
       "var outputEl = gd.closest('.output');\n",
       "if (outputEl) {{\n",
       "    x.observe(outputEl, {childList: true});\n",
       "}}\n",
       "\n",
       "                        })                };                });            </script>        </div>"
      ]
     },
     "metadata": {},
     "output_type": "display_data"
    }
   ],
   "source": [
    "#happiness score vs social support\n",
    "\n",
    "#establish x and y values\n",
    "x_values = merged_2018[\"Score\"]\n",
    "y_values = merged_2018[\"Social support\"]\n",
    "\n",
    "#px.scatter\n",
    "fig = px.scatter(merged_2018, x_values, y_values, color=\"Region\", hover_name=\"Country or region\",\n",
    "                range_x=[0,8], title=\"Happiness Score compared to Social Support Score\",\n",
    "                width= 1000, height =600) # use trendline=\"ols\" to see all lin reg equations\n",
    "\n",
    "#set axes labels\n",
    "fig.update_xaxes(title_text='Happiness Score')\n",
    "fig.update_yaxes(title_text='Social Support Score')\n",
    "\n",
    "\n",
    "#formatting\n",
    "#marker size and colors\n",
    "fig.update_traces(marker=dict(size=10,\n",
    "                              line=dict(width=1, \n",
    "                                        color='DarkSlateGrey')))\n",
    "\n",
    "\n",
    "#linear regression\n",
    "#use linregress from dependencies to inplement linear regression\n",
    "(slope, intercept, rvalue, pvalue, stderr) = linregress(x_values, y_values)\n",
    "regress_values = x_values * slope + intercept\n",
    "\n",
    "#print out all variables calculated above (rvalue, pvalue...)\n",
    "print(f\"slope:{round(slope, 2)}\")\n",
    "print(f\"intercept:{round(intercept,2)}\")\n",
    "res = sts.linregress(x_values, y_values)\n",
    "print(f\"R-squared: {res.rvalue**2:.4f}\")\n",
    "\n",
    "\n",
    "#print out line eq for reference\n",
    "line_eq = (f\"y={round(slope, 2)}x + {round(intercept, 2)}\")\n",
    "print(line_eq)\n",
    "\n",
    "fig.show()"
   ]
  },
  {
   "cell_type": "code",
   "execution_count": 12,
   "metadata": {},
   "outputs": [
    {
     "name": "stdout",
     "output_type": "stream",
     "text": [
      "slope:0.17\n",
      "intercept:-0.31\n",
      "R-squared: 0.6115\n",
      "y=0.17x + -0.31\n"
     ]
    },
    {
     "data": {
      "application/vnd.plotly.v1+json": {
       "config": {
        "plotlyServerURL": "https://plot.ly"
       },
       "data": [
        {
         "hovertemplate": "<b>%{hovertext}</b><br><br>Region=Europe<br>Score=%{x}<br>Healthy life expectancy=%{y}<extra></extra>",
         "hovertext": [
          "Finland",
          "Norway",
          "Denmark",
          "Iceland",
          "Switzerland",
          "Netherlands",
          "Sweden",
          "United Kingdom",
          "Austria",
          "Ireland",
          "Germany",
          "Belgium",
          "Luxembourg",
          "Czech Republic",
          "Malta",
          "France",
          "Spain",
          "Slovakia",
          "Poland",
          "Uzbekistan",
          "Italy",
          "Lithuania",
          "Slovenia",
          "Romania",
          "Latvia",
          "Russia",
          "Kazakhstan",
          "Cyprus",
          "Estonia",
          "Kosovo",
          "Moldova",
          "Turkmenistan",
          "Hungary",
          "Belarus",
          "Portugal",
          "Serbia",
          "Greece",
          "Montenegro",
          "Croatia",
          "Azerbaijan",
          "Tajikistan",
          "Macedonia",
          "Kyrgyzstan",
          "Bosnia and Herzegovina",
          "Bulgaria",
          "Albania",
          "Georgia",
          "Armenia",
          "Ukraine"
         ],
         "legendgroup": "Europe",
         "marker": {
          "color": "#636efa",
          "line": {
           "color": "DarkSlateGrey",
           "width": 1
          },
          "size": 10,
          "symbol": "circle"
         },
         "mode": "markers",
         "name": "Europe",
         "orientation": "v",
         "showlegend": true,
         "type": "scatter",
         "x": [
          7.632000000000001,
          7.593999999999999,
          7.555,
          7.495,
          7.487,
          7.441,
          7.314,
          7.19,
          7.138999999999999,
          6.977,
          6.965,
          6.9270000000000005,
          6.91,
          6.711,
          6.627000000000001,
          6.489,
          6.31,
          6.172999999999999,
          6.122999999999999,
          6.096,
          6,
          5.952000000000001,
          5.9479999999999995,
          5.945,
          5.933,
          5.81,
          5.79,
          5.7620000000000005,
          5.739,
          5.662000000000001,
          5.64,
          5.636,
          5.62,
          5.483,
          5.41,
          5.398,
          5.358,
          5.347,
          5.321000000000001,
          5.2010000000000005,
          5.199,
          5.185,
          5.131,
          5.129,
          4.933,
          4.586,
          4.34,
          4.321000000000001,
          4.103
         ],
         "xaxis": "x",
         "y": [
          0.8740000000000001,
          0.861,
          0.868,
          0.914,
          0.927,
          0.878,
          0.9129999999999999,
          0.888,
          0.8909999999999999,
          0.8759999999999999,
          0.861,
          0.894,
          0.8959999999999999,
          0.8540000000000001,
          0.884,
          0.9079999999999999,
          0.965,
          0.7759999999999999,
          0.7809999999999999,
          0.605,
          0.946,
          0.716,
          0.856,
          0.726,
          0.6709999999999999,
          0.599,
          0.631,
          0.909,
          0.737,
          0.578,
          0.62,
          0.517,
          0.732,
          0.7,
          0.884,
          0.685,
          0.879,
          0.7290000000000001,
          0.737,
          0.603,
          0.598,
          0.691,
          0.594,
          0.758,
          0.7120000000000001,
          0.79,
          0.643,
          0.6659999999999999,
          0.609
         ],
         "yaxis": "y"
        },
        {
         "hovertemplate": "<b>%{hovertext}</b><br><br>Region=North America<br>Score=%{x}<br>Healthy life expectancy=%{y}<extra></extra>",
         "hovertext": [
          "Canada",
          "United States"
         ],
         "legendgroup": "North America",
         "marker": {
          "color": "#EF553B",
          "line": {
           "color": "DarkSlateGrey",
           "width": 1
          },
          "size": 10,
          "symbol": "circle"
         },
         "mode": "markers",
         "name": "North America",
         "orientation": "v",
         "showlegend": true,
         "type": "scatter",
         "x": [
          7.327999999999999,
          6.886
         ],
         "xaxis": "x",
         "y": [
          0.8959999999999999,
          0.8190000000000001
         ],
         "yaxis": "y"
        },
        {
         "hovertemplate": "<b>%{hovertext}</b><br><br>Region=Australia and New Zealand<br>Score=%{x}<br>Healthy life expectancy=%{y}<extra></extra>",
         "hovertext": [
          "New Zealand",
          "Australia"
         ],
         "legendgroup": "Australia and New Zealand",
         "marker": {
          "color": "#00cc96",
          "line": {
           "color": "DarkSlateGrey",
           "width": 1
          },
          "size": 10,
          "symbol": "circle"
         },
         "mode": "markers",
         "name": "Australia and New Zealand",
         "orientation": "v",
         "showlegend": true,
         "type": "scatter",
         "x": [
          7.324,
          7.272
         ],
         "xaxis": "x",
         "y": [
          0.8759999999999999,
          0.91
         ],
         "yaxis": "y"
        },
        {
         "hovertemplate": "<b>%{hovertext}</b><br><br>Region=Latin America and Caribbean<br>Score=%{x}<br>Healthy life expectancy=%{y}<extra></extra>",
         "hovertext": [
          "Costa Rica",
          "Mexico",
          "Chile",
          "Panama",
          "Brazil",
          "Argentina",
          "Guatemala",
          "Uruguay",
          "Colombia",
          "El Salvador",
          "Nicaragua",
          "Ecuador",
          "Jamaica",
          "Bolivia",
          "Paraguay",
          "Peru",
          "Honduras",
          "Dominican Republic",
          "Venezuela",
          "Haiti"
         ],
         "legendgroup": "Latin America and Caribbean",
         "marker": {
          "color": "#ab63fa",
          "line": {
           "color": "DarkSlateGrey",
           "width": 1
          },
          "size": 10,
          "symbol": "circle"
         },
         "mode": "markers",
         "name": "Latin America and Caribbean",
         "orientation": "v",
         "showlegend": true,
         "type": "scatter",
         "x": [
          7.072,
          6.4879999999999995,
          6.476,
          6.43,
          6.419,
          6.388,
          6.382000000000001,
          6.379,
          6.26,
          6.167000000000001,
          6.141,
          5.973,
          5.89,
          5.752000000000001,
          5.681,
          5.662999999999999,
          5.504,
          5.3020000000000005,
          4.806,
          3.582
         ],
         "xaxis": "x",
         "y": [
          0.8170000000000001,
          0.7609999999999999,
          0.8079999999999999,
          0.759,
          0.675,
          0.7440000000000001,
          0.608,
          0.7709999999999999,
          0.635,
          0.639,
          0.7,
          0.736,
          0.693,
          0.508,
          0.615,
          0.674,
          0.622,
          0.614,
          0.657,
          0.289
         ],
         "yaxis": "y"
        },
        {
         "hovertemplate": "<b>%{hovertext}</b><br><br>Region=Middle East and Northern Africa<br>Score=%{x}<br>Healthy life expectancy=%{y}<extra></extra>",
         "hovertext": [
          "Israel",
          "United Arab Emirates",
          "Qatar",
          "Saudi Arabia",
          "Bahrain",
          "Kuwait",
          "Libya",
          "Turkey",
          "Lebanon",
          "Algeria",
          "Morocco",
          "Jordan",
          "Palestinian Territories",
          "Iran",
          "Tunisia",
          "Iraq",
          "Egypt",
          "Syria",
          "Yemen"
         ],
         "legendgroup": "Middle East and Northern Africa",
         "marker": {
          "color": "#FFA15A",
          "line": {
           "color": "DarkSlateGrey",
           "width": 1
          },
          "size": 10,
          "symbol": "circle"
         },
         "mode": "markers",
         "name": "Middle East and Northern Africa",
         "orientation": "v",
         "showlegend": true,
         "type": "scatter",
         "x": [
          6.814,
          6.774,
          6.374,
          6.371,
          6.105,
          6.082999999999999,
          5.566,
          5.483,
          5.358,
          5.295,
          5.254,
          5.1610000000000005,
          4.743,
          4.707,
          4.592,
          4.456,
          4.419,
          3.4619999999999997,
          3.355
         ],
         "xaxis": "x",
         "y": [
          0.883,
          0.67,
          0.748,
          0.633,
          0.698,
          0.675,
          0.5529999999999999,
          0.6859999999999999,
          0.785,
          0.687,
          0.669,
          0.645,
          0.602,
          0.691,
          0.69,
          0.536,
          0.5529999999999999,
          0.539,
          0.34299999999999997
         ],
         "yaxis": "y"
        },
        {
         "hovertemplate": "<b>%{hovertext}</b><br><br>Region=Asia<br>Score=%{x}<br>Healthy life expectancy=%{y}<extra></extra>",
         "hovertext": [
          "Taiwan",
          "Singapore",
          "Malaysia",
          "Thailand",
          "Japan",
          "South Korea",
          "Philippines",
          "Pakistan",
          "Hong Kong",
          "China",
          "Mongolia",
          "Vietnam",
          "Indonesia",
          "Bhutan",
          "Nepal",
          "Laos",
          "Bangladesh",
          "Sri Lanka",
          "Cambodia",
          "Myanmar",
          "India",
          "Afghanistan"
         ],
         "legendgroup": "Asia",
         "marker": {
          "color": "#19d3f3",
          "line": {
           "color": "DarkSlateGrey",
           "width": 1
          },
          "size": 10,
          "symbol": "circle"
         },
         "mode": "markers",
         "name": "Asia",
         "orientation": "v",
         "showlegend": true,
         "type": "scatter",
         "x": [
          6.441,
          6.343,
          6.322,
          6.072,
          5.915,
          5.875,
          5.524,
          5.472,
          5.43,
          5.246,
          5.125,
          5.103,
          5.093,
          5.082,
          4.88,
          4.623,
          4.5,
          4.471,
          4.433,
          4.308,
          4.19,
          3.6319999999999997
         ],
         "xaxis": "x",
         "y": [
          0.857,
          1.008,
          0.669,
          0.7070000000000001,
          0.988,
          0.955,
          0.513,
          0.424,
          1.03,
          0.799,
          0.575,
          0.7020000000000001,
          0.522,
          0.527,
          0.539,
          0.441,
          0.579,
          0.672,
          0.457,
          0.429,
          0.485,
          0.255
         ],
         "yaxis": "y"
        },
        {
         "hovertemplate": "<b>%{hovertext}</b><br><br>Region=Sub-Saharan Africa<br>Score=%{x}<br>Healthy life expectancy=%{y}<extra></extra>",
         "hovertext": [
          "Mauritius",
          "Nigeria",
          "Cameroon",
          "Gabon",
          "South Africa",
          "Ivory Coast",
          "Ghana",
          "Senegal",
          "Sierra Leone",
          "Congo (Brazzaville)",
          "Mali",
          "Burkina Faso",
          "Mozambique",
          "Kenya",
          "Zambia",
          "Mauritania",
          "Ethiopia",
          "Chad",
          "Congo (Kinshasa)",
          "Niger",
          "Uganda",
          "Benin",
          "Sudan",
          "Togo",
          "Guinea",
          "Lesotho",
          "Angola",
          "Madagascar",
          "Zimbabwe",
          "Botswana",
          "Malawi",
          "Liberia",
          "Rwanda",
          "Tanzania",
          "Central African Republic",
          "Burundi"
         ],
         "legendgroup": "Sub-Saharan Africa",
         "marker": {
          "color": "#FF6692",
          "line": {
           "color": "DarkSlateGrey",
           "width": 1
          },
          "size": 10,
          "symbol": "circle"
         },
         "mode": "markers",
         "name": "Sub-Saharan Africa",
         "orientation": "v",
         "showlegend": true,
         "type": "scatter",
         "x": [
          5.891,
          5.155,
          4.975,
          4.758,
          4.724,
          4.671,
          4.657,
          4.631,
          4.571000000000001,
          4.559,
          4.447,
          4.4239999999999995,
          4.417,
          4.41,
          4.377,
          4.356,
          4.35,
          4.301,
          4.245,
          4.166,
          4.1610000000000005,
          4.141,
          4.138999999999999,
          3.9989999999999997,
          3.964,
          3.8080000000000003,
          3.795,
          3.7739999999999996,
          3.6919999999999997,
          3.59,
          3.5869999999999997,
          3.495,
          3.408,
          3.303,
          3.083,
          2.905
         ],
         "xaxis": "x",
         "y": [
          0.684,
          0.048,
          0.182,
          0.40399999999999997,
          0.33,
          0.08,
          0.337,
          0.433,
          0,
          0.34299999999999997,
          0.152,
          0.254,
          0.17300000000000001,
          0.45399999999999996,
          0.295,
          0.292,
          0.391,
          0.053,
          0.204,
          0.221,
          0.237,
          0.24,
          0.312,
          0.253,
          0.21100000000000002,
          0.079,
          0.26899999999999996,
          0.402,
          0.248,
          0.41700000000000004,
          0.306,
          0.267,
          0.4,
          0.381,
          0.01,
          0.145
         ],
         "yaxis": "y"
        }
       ],
       "layout": {
        "height": 600,
        "legend": {
         "title": {
          "text": "Region"
         },
         "tracegroupgap": 0
        },
        "template": {
         "data": {
          "bar": [
           {
            "error_x": {
             "color": "#2a3f5f"
            },
            "error_y": {
             "color": "#2a3f5f"
            },
            "marker": {
             "line": {
              "color": "#E5ECF6",
              "width": 0.5
             }
            },
            "type": "bar"
           }
          ],
          "barpolar": [
           {
            "marker": {
             "line": {
              "color": "#E5ECF6",
              "width": 0.5
             }
            },
            "type": "barpolar"
           }
          ],
          "carpet": [
           {
            "aaxis": {
             "endlinecolor": "#2a3f5f",
             "gridcolor": "white",
             "linecolor": "white",
             "minorgridcolor": "white",
             "startlinecolor": "#2a3f5f"
            },
            "baxis": {
             "endlinecolor": "#2a3f5f",
             "gridcolor": "white",
             "linecolor": "white",
             "minorgridcolor": "white",
             "startlinecolor": "#2a3f5f"
            },
            "type": "carpet"
           }
          ],
          "choropleth": [
           {
            "colorbar": {
             "outlinewidth": 0,
             "ticks": ""
            },
            "type": "choropleth"
           }
          ],
          "contour": [
           {
            "colorbar": {
             "outlinewidth": 0,
             "ticks": ""
            },
            "colorscale": [
             [
              0,
              "#0d0887"
             ],
             [
              0.1111111111111111,
              "#46039f"
             ],
             [
              0.2222222222222222,
              "#7201a8"
             ],
             [
              0.3333333333333333,
              "#9c179e"
             ],
             [
              0.4444444444444444,
              "#bd3786"
             ],
             [
              0.5555555555555556,
              "#d8576b"
             ],
             [
              0.6666666666666666,
              "#ed7953"
             ],
             [
              0.7777777777777778,
              "#fb9f3a"
             ],
             [
              0.8888888888888888,
              "#fdca26"
             ],
             [
              1,
              "#f0f921"
             ]
            ],
            "type": "contour"
           }
          ],
          "contourcarpet": [
           {
            "colorbar": {
             "outlinewidth": 0,
             "ticks": ""
            },
            "type": "contourcarpet"
           }
          ],
          "heatmap": [
           {
            "colorbar": {
             "outlinewidth": 0,
             "ticks": ""
            },
            "colorscale": [
             [
              0,
              "#0d0887"
             ],
             [
              0.1111111111111111,
              "#46039f"
             ],
             [
              0.2222222222222222,
              "#7201a8"
             ],
             [
              0.3333333333333333,
              "#9c179e"
             ],
             [
              0.4444444444444444,
              "#bd3786"
             ],
             [
              0.5555555555555556,
              "#d8576b"
             ],
             [
              0.6666666666666666,
              "#ed7953"
             ],
             [
              0.7777777777777778,
              "#fb9f3a"
             ],
             [
              0.8888888888888888,
              "#fdca26"
             ],
             [
              1,
              "#f0f921"
             ]
            ],
            "type": "heatmap"
           }
          ],
          "heatmapgl": [
           {
            "colorbar": {
             "outlinewidth": 0,
             "ticks": ""
            },
            "colorscale": [
             [
              0,
              "#0d0887"
             ],
             [
              0.1111111111111111,
              "#46039f"
             ],
             [
              0.2222222222222222,
              "#7201a8"
             ],
             [
              0.3333333333333333,
              "#9c179e"
             ],
             [
              0.4444444444444444,
              "#bd3786"
             ],
             [
              0.5555555555555556,
              "#d8576b"
             ],
             [
              0.6666666666666666,
              "#ed7953"
             ],
             [
              0.7777777777777778,
              "#fb9f3a"
             ],
             [
              0.8888888888888888,
              "#fdca26"
             ],
             [
              1,
              "#f0f921"
             ]
            ],
            "type": "heatmapgl"
           }
          ],
          "histogram": [
           {
            "marker": {
             "colorbar": {
              "outlinewidth": 0,
              "ticks": ""
             }
            },
            "type": "histogram"
           }
          ],
          "histogram2d": [
           {
            "colorbar": {
             "outlinewidth": 0,
             "ticks": ""
            },
            "colorscale": [
             [
              0,
              "#0d0887"
             ],
             [
              0.1111111111111111,
              "#46039f"
             ],
             [
              0.2222222222222222,
              "#7201a8"
             ],
             [
              0.3333333333333333,
              "#9c179e"
             ],
             [
              0.4444444444444444,
              "#bd3786"
             ],
             [
              0.5555555555555556,
              "#d8576b"
             ],
             [
              0.6666666666666666,
              "#ed7953"
             ],
             [
              0.7777777777777778,
              "#fb9f3a"
             ],
             [
              0.8888888888888888,
              "#fdca26"
             ],
             [
              1,
              "#f0f921"
             ]
            ],
            "type": "histogram2d"
           }
          ],
          "histogram2dcontour": [
           {
            "colorbar": {
             "outlinewidth": 0,
             "ticks": ""
            },
            "colorscale": [
             [
              0,
              "#0d0887"
             ],
             [
              0.1111111111111111,
              "#46039f"
             ],
             [
              0.2222222222222222,
              "#7201a8"
             ],
             [
              0.3333333333333333,
              "#9c179e"
             ],
             [
              0.4444444444444444,
              "#bd3786"
             ],
             [
              0.5555555555555556,
              "#d8576b"
             ],
             [
              0.6666666666666666,
              "#ed7953"
             ],
             [
              0.7777777777777778,
              "#fb9f3a"
             ],
             [
              0.8888888888888888,
              "#fdca26"
             ],
             [
              1,
              "#f0f921"
             ]
            ],
            "type": "histogram2dcontour"
           }
          ],
          "mesh3d": [
           {
            "colorbar": {
             "outlinewidth": 0,
             "ticks": ""
            },
            "type": "mesh3d"
           }
          ],
          "parcoords": [
           {
            "line": {
             "colorbar": {
              "outlinewidth": 0,
              "ticks": ""
             }
            },
            "type": "parcoords"
           }
          ],
          "pie": [
           {
            "automargin": true,
            "type": "pie"
           }
          ],
          "scatter": [
           {
            "marker": {
             "colorbar": {
              "outlinewidth": 0,
              "ticks": ""
             }
            },
            "type": "scatter"
           }
          ],
          "scatter3d": [
           {
            "line": {
             "colorbar": {
              "outlinewidth": 0,
              "ticks": ""
             }
            },
            "marker": {
             "colorbar": {
              "outlinewidth": 0,
              "ticks": ""
             }
            },
            "type": "scatter3d"
           }
          ],
          "scattercarpet": [
           {
            "marker": {
             "colorbar": {
              "outlinewidth": 0,
              "ticks": ""
             }
            },
            "type": "scattercarpet"
           }
          ],
          "scattergeo": [
           {
            "marker": {
             "colorbar": {
              "outlinewidth": 0,
              "ticks": ""
             }
            },
            "type": "scattergeo"
           }
          ],
          "scattergl": [
           {
            "marker": {
             "colorbar": {
              "outlinewidth": 0,
              "ticks": ""
             }
            },
            "type": "scattergl"
           }
          ],
          "scattermapbox": [
           {
            "marker": {
             "colorbar": {
              "outlinewidth": 0,
              "ticks": ""
             }
            },
            "type": "scattermapbox"
           }
          ],
          "scatterpolar": [
           {
            "marker": {
             "colorbar": {
              "outlinewidth": 0,
              "ticks": ""
             }
            },
            "type": "scatterpolar"
           }
          ],
          "scatterpolargl": [
           {
            "marker": {
             "colorbar": {
              "outlinewidth": 0,
              "ticks": ""
             }
            },
            "type": "scatterpolargl"
           }
          ],
          "scatterternary": [
           {
            "marker": {
             "colorbar": {
              "outlinewidth": 0,
              "ticks": ""
             }
            },
            "type": "scatterternary"
           }
          ],
          "surface": [
           {
            "colorbar": {
             "outlinewidth": 0,
             "ticks": ""
            },
            "colorscale": [
             [
              0,
              "#0d0887"
             ],
             [
              0.1111111111111111,
              "#46039f"
             ],
             [
              0.2222222222222222,
              "#7201a8"
             ],
             [
              0.3333333333333333,
              "#9c179e"
             ],
             [
              0.4444444444444444,
              "#bd3786"
             ],
             [
              0.5555555555555556,
              "#d8576b"
             ],
             [
              0.6666666666666666,
              "#ed7953"
             ],
             [
              0.7777777777777778,
              "#fb9f3a"
             ],
             [
              0.8888888888888888,
              "#fdca26"
             ],
             [
              1,
              "#f0f921"
             ]
            ],
            "type": "surface"
           }
          ],
          "table": [
           {
            "cells": {
             "fill": {
              "color": "#EBF0F8"
             },
             "line": {
              "color": "white"
             }
            },
            "header": {
             "fill": {
              "color": "#C8D4E3"
             },
             "line": {
              "color": "white"
             }
            },
            "type": "table"
           }
          ]
         },
         "layout": {
          "annotationdefaults": {
           "arrowcolor": "#2a3f5f",
           "arrowhead": 0,
           "arrowwidth": 1
          },
          "autotypenumbers": "strict",
          "coloraxis": {
           "colorbar": {
            "outlinewidth": 0,
            "ticks": ""
           }
          },
          "colorscale": {
           "diverging": [
            [
             0,
             "#8e0152"
            ],
            [
             0.1,
             "#c51b7d"
            ],
            [
             0.2,
             "#de77ae"
            ],
            [
             0.3,
             "#f1b6da"
            ],
            [
             0.4,
             "#fde0ef"
            ],
            [
             0.5,
             "#f7f7f7"
            ],
            [
             0.6,
             "#e6f5d0"
            ],
            [
             0.7,
             "#b8e186"
            ],
            [
             0.8,
             "#7fbc41"
            ],
            [
             0.9,
             "#4d9221"
            ],
            [
             1,
             "#276419"
            ]
           ],
           "sequential": [
            [
             0,
             "#0d0887"
            ],
            [
             0.1111111111111111,
             "#46039f"
            ],
            [
             0.2222222222222222,
             "#7201a8"
            ],
            [
             0.3333333333333333,
             "#9c179e"
            ],
            [
             0.4444444444444444,
             "#bd3786"
            ],
            [
             0.5555555555555556,
             "#d8576b"
            ],
            [
             0.6666666666666666,
             "#ed7953"
            ],
            [
             0.7777777777777778,
             "#fb9f3a"
            ],
            [
             0.8888888888888888,
             "#fdca26"
            ],
            [
             1,
             "#f0f921"
            ]
           ],
           "sequentialminus": [
            [
             0,
             "#0d0887"
            ],
            [
             0.1111111111111111,
             "#46039f"
            ],
            [
             0.2222222222222222,
             "#7201a8"
            ],
            [
             0.3333333333333333,
             "#9c179e"
            ],
            [
             0.4444444444444444,
             "#bd3786"
            ],
            [
             0.5555555555555556,
             "#d8576b"
            ],
            [
             0.6666666666666666,
             "#ed7953"
            ],
            [
             0.7777777777777778,
             "#fb9f3a"
            ],
            [
             0.8888888888888888,
             "#fdca26"
            ],
            [
             1,
             "#f0f921"
            ]
           ]
          },
          "colorway": [
           "#636efa",
           "#EF553B",
           "#00cc96",
           "#ab63fa",
           "#FFA15A",
           "#19d3f3",
           "#FF6692",
           "#B6E880",
           "#FF97FF",
           "#FECB52"
          ],
          "font": {
           "color": "#2a3f5f"
          },
          "geo": {
           "bgcolor": "white",
           "lakecolor": "white",
           "landcolor": "#E5ECF6",
           "showlakes": true,
           "showland": true,
           "subunitcolor": "white"
          },
          "hoverlabel": {
           "align": "left"
          },
          "hovermode": "closest",
          "mapbox": {
           "style": "light"
          },
          "paper_bgcolor": "white",
          "plot_bgcolor": "#E5ECF6",
          "polar": {
           "angularaxis": {
            "gridcolor": "white",
            "linecolor": "white",
            "ticks": ""
           },
           "bgcolor": "#E5ECF6",
           "radialaxis": {
            "gridcolor": "white",
            "linecolor": "white",
            "ticks": ""
           }
          },
          "scene": {
           "xaxis": {
            "backgroundcolor": "#E5ECF6",
            "gridcolor": "white",
            "gridwidth": 2,
            "linecolor": "white",
            "showbackground": true,
            "ticks": "",
            "zerolinecolor": "white"
           },
           "yaxis": {
            "backgroundcolor": "#E5ECF6",
            "gridcolor": "white",
            "gridwidth": 2,
            "linecolor": "white",
            "showbackground": true,
            "ticks": "",
            "zerolinecolor": "white"
           },
           "zaxis": {
            "backgroundcolor": "#E5ECF6",
            "gridcolor": "white",
            "gridwidth": 2,
            "linecolor": "white",
            "showbackground": true,
            "ticks": "",
            "zerolinecolor": "white"
           }
          },
          "shapedefaults": {
           "line": {
            "color": "#2a3f5f"
           }
          },
          "ternary": {
           "aaxis": {
            "gridcolor": "white",
            "linecolor": "white",
            "ticks": ""
           },
           "baxis": {
            "gridcolor": "white",
            "linecolor": "white",
            "ticks": ""
           },
           "bgcolor": "#E5ECF6",
           "caxis": {
            "gridcolor": "white",
            "linecolor": "white",
            "ticks": ""
           }
          },
          "title": {
           "x": 0.05
          },
          "xaxis": {
           "automargin": true,
           "gridcolor": "white",
           "linecolor": "white",
           "ticks": "",
           "title": {
            "standoff": 15
           },
           "zerolinecolor": "white",
           "zerolinewidth": 2
          },
          "yaxis": {
           "automargin": true,
           "gridcolor": "white",
           "linecolor": "white",
           "ticks": "",
           "title": {
            "standoff": 15
           },
           "zerolinecolor": "white",
           "zerolinewidth": 2
          }
         }
        },
        "title": {
         "text": "Happiness Score compared to Healthy Life Expectancy"
        },
        "width": 1000,
        "xaxis": {
         "anchor": "y",
         "domain": [
          0,
          1
         ],
         "range": [
          0,
          8
         ],
         "title": {
          "text": "Happiness Score"
         }
        },
        "yaxis": {
         "anchor": "x",
         "domain": [
          0,
          1
         ],
         "title": {
          "text": "Healthy Life Expectancy"
         }
        }
       }
      },
      "text/html": [
       "<div>                            <div id=\"94b2ea7f-9de5-46df-ad07-07f00c019ff6\" class=\"plotly-graph-div\" style=\"height:600px; width:1000px;\"></div>            <script type=\"text/javascript\">                require([\"plotly\"], function(Plotly) {                    window.PLOTLYENV=window.PLOTLYENV || {};                                    if (document.getElementById(\"94b2ea7f-9de5-46df-ad07-07f00c019ff6\")) {                    Plotly.newPlot(                        \"94b2ea7f-9de5-46df-ad07-07f00c019ff6\",                        [{\"hovertemplate\": \"<b>%{hovertext}</b><br><br>Region=Europe<br>Score=%{x}<br>Healthy life expectancy=%{y}<extra></extra>\", \"hovertext\": [\"Finland\", \"Norway\", \"Denmark\", \"Iceland\", \"Switzerland\", \"Netherlands\", \"Sweden\", \"United Kingdom\", \"Austria\", \"Ireland\", \"Germany\", \"Belgium\", \"Luxembourg\", \"Czech Republic\", \"Malta\", \"France\", \"Spain\", \"Slovakia\", \"Poland\", \"Uzbekistan\", \"Italy\", \"Lithuania\", \"Slovenia\", \"Romania\", \"Latvia\", \"Russia\", \"Kazakhstan\", \"Cyprus\", \"Estonia\", \"Kosovo\", \"Moldova\", \"Turkmenistan\", \"Hungary\", \"Belarus\", \"Portugal\", \"Serbia\", \"Greece\", \"Montenegro\", \"Croatia\", \"Azerbaijan\", \"Tajikistan\", \"Macedonia\", \"Kyrgyzstan\", \"Bosnia and Herzegovina\", \"Bulgaria\", \"Albania\", \"Georgia\", \"Armenia\", \"Ukraine\"], \"legendgroup\": \"Europe\", \"marker\": {\"color\": \"#636efa\", \"line\": {\"color\": \"DarkSlateGrey\", \"width\": 1}, \"size\": 10, \"symbol\": \"circle\"}, \"mode\": \"markers\", \"name\": \"Europe\", \"orientation\": \"v\", \"showlegend\": true, \"type\": \"scatter\", \"x\": [7.632000000000001, 7.593999999999999, 7.555, 7.495, 7.487, 7.441, 7.314, 7.19, 7.138999999999999, 6.977, 6.965, 6.9270000000000005, 6.91, 6.711, 6.627000000000001, 6.489, 6.31, 6.172999999999999, 6.122999999999999, 6.096, 6.0, 5.952000000000001, 5.9479999999999995, 5.945, 5.933, 5.81, 5.79, 5.7620000000000005, 5.739, 5.662000000000001, 5.64, 5.636, 5.62, 5.483, 5.41, 5.398, 5.358, 5.347, 5.321000000000001, 5.2010000000000005, 5.199, 5.185, 5.131, 5.129, 4.933, 4.586, 4.34, 4.321000000000001, 4.103], \"xaxis\": \"x\", \"y\": [0.8740000000000001, 0.861, 0.868, 0.914, 0.927, 0.878, 0.9129999999999999, 0.888, 0.8909999999999999, 0.8759999999999999, 0.861, 0.894, 0.8959999999999999, 0.8540000000000001, 0.884, 0.9079999999999999, 0.965, 0.7759999999999999, 0.7809999999999999, 0.605, 0.946, 0.716, 0.856, 0.726, 0.6709999999999999, 0.599, 0.631, 0.909, 0.737, 0.578, 0.62, 0.517, 0.732, 0.7, 0.884, 0.685, 0.879, 0.7290000000000001, 0.737, 0.603, 0.598, 0.691, 0.594, 0.758, 0.7120000000000001, 0.79, 0.643, 0.6659999999999999, 0.609], \"yaxis\": \"y\"}, {\"hovertemplate\": \"<b>%{hovertext}</b><br><br>Region=North America<br>Score=%{x}<br>Healthy life expectancy=%{y}<extra></extra>\", \"hovertext\": [\"Canada\", \"United States\"], \"legendgroup\": \"North America\", \"marker\": {\"color\": \"#EF553B\", \"line\": {\"color\": \"DarkSlateGrey\", \"width\": 1}, \"size\": 10, \"symbol\": \"circle\"}, \"mode\": \"markers\", \"name\": \"North America\", \"orientation\": \"v\", \"showlegend\": true, \"type\": \"scatter\", \"x\": [7.327999999999999, 6.886], \"xaxis\": \"x\", \"y\": [0.8959999999999999, 0.8190000000000001], \"yaxis\": \"y\"}, {\"hovertemplate\": \"<b>%{hovertext}</b><br><br>Region=Australia and New Zealand<br>Score=%{x}<br>Healthy life expectancy=%{y}<extra></extra>\", \"hovertext\": [\"New Zealand\", \"Australia\"], \"legendgroup\": \"Australia and New Zealand\", \"marker\": {\"color\": \"#00cc96\", \"line\": {\"color\": \"DarkSlateGrey\", \"width\": 1}, \"size\": 10, \"symbol\": \"circle\"}, \"mode\": \"markers\", \"name\": \"Australia and New Zealand\", \"orientation\": \"v\", \"showlegend\": true, \"type\": \"scatter\", \"x\": [7.324, 7.272], \"xaxis\": \"x\", \"y\": [0.8759999999999999, 0.91], \"yaxis\": \"y\"}, {\"hovertemplate\": \"<b>%{hovertext}</b><br><br>Region=Latin America and Caribbean<br>Score=%{x}<br>Healthy life expectancy=%{y}<extra></extra>\", \"hovertext\": [\"Costa Rica\", \"Mexico\", \"Chile\", \"Panama\", \"Brazil\", \"Argentina\", \"Guatemala\", \"Uruguay\", \"Colombia\", \"El Salvador\", \"Nicaragua\", \"Ecuador\", \"Jamaica\", \"Bolivia\", \"Paraguay\", \"Peru\", \"Honduras\", \"Dominican Republic\", \"Venezuela\", \"Haiti\"], \"legendgroup\": \"Latin America and Caribbean\", \"marker\": {\"color\": \"#ab63fa\", \"line\": {\"color\": \"DarkSlateGrey\", \"width\": 1}, \"size\": 10, \"symbol\": \"circle\"}, \"mode\": \"markers\", \"name\": \"Latin America and Caribbean\", \"orientation\": \"v\", \"showlegend\": true, \"type\": \"scatter\", \"x\": [7.072, 6.4879999999999995, 6.476, 6.43, 6.419, 6.388, 6.382000000000001, 6.379, 6.26, 6.167000000000001, 6.141, 5.973, 5.89, 5.752000000000001, 5.681, 5.662999999999999, 5.504, 5.3020000000000005, 4.806, 3.582], \"xaxis\": \"x\", \"y\": [0.8170000000000001, 0.7609999999999999, 0.8079999999999999, 0.759, 0.675, 0.7440000000000001, 0.608, 0.7709999999999999, 0.635, 0.639, 0.7, 0.736, 0.693, 0.508, 0.615, 0.674, 0.622, 0.614, 0.657, 0.289], \"yaxis\": \"y\"}, {\"hovertemplate\": \"<b>%{hovertext}</b><br><br>Region=Middle East and Northern Africa<br>Score=%{x}<br>Healthy life expectancy=%{y}<extra></extra>\", \"hovertext\": [\"Israel\", \"United Arab Emirates\", \"Qatar\", \"Saudi Arabia\", \"Bahrain\", \"Kuwait\", \"Libya\", \"Turkey\", \"Lebanon\", \"Algeria\", \"Morocco\", \"Jordan\", \"Palestinian Territories\", \"Iran\", \"Tunisia\", \"Iraq\", \"Egypt\", \"Syria\", \"Yemen\"], \"legendgroup\": \"Middle East and Northern Africa\", \"marker\": {\"color\": \"#FFA15A\", \"line\": {\"color\": \"DarkSlateGrey\", \"width\": 1}, \"size\": 10, \"symbol\": \"circle\"}, \"mode\": \"markers\", \"name\": \"Middle East and Northern Africa\", \"orientation\": \"v\", \"showlegend\": true, \"type\": \"scatter\", \"x\": [6.814, 6.774, 6.374, 6.371, 6.105, 6.082999999999999, 5.566, 5.483, 5.358, 5.295, 5.254, 5.1610000000000005, 4.743, 4.707, 4.592, 4.456, 4.419, 3.4619999999999997, 3.355], \"xaxis\": \"x\", \"y\": [0.883, 0.67, 0.748, 0.633, 0.698, 0.675, 0.5529999999999999, 0.6859999999999999, 0.785, 0.687, 0.669, 0.645, 0.602, 0.691, 0.69, 0.536, 0.5529999999999999, 0.539, 0.34299999999999997], \"yaxis\": \"y\"}, {\"hovertemplate\": \"<b>%{hovertext}</b><br><br>Region=Asia<br>Score=%{x}<br>Healthy life expectancy=%{y}<extra></extra>\", \"hovertext\": [\"Taiwan\", \"Singapore\", \"Malaysia\", \"Thailand\", \"Japan\", \"South Korea\", \"Philippines\", \"Pakistan\", \"Hong Kong\", \"China\", \"Mongolia\", \"Vietnam\", \"Indonesia\", \"Bhutan\", \"Nepal\", \"Laos\", \"Bangladesh\", \"Sri Lanka\", \"Cambodia\", \"Myanmar\", \"India\", \"Afghanistan\"], \"legendgroup\": \"Asia\", \"marker\": {\"color\": \"#19d3f3\", \"line\": {\"color\": \"DarkSlateGrey\", \"width\": 1}, \"size\": 10, \"symbol\": \"circle\"}, \"mode\": \"markers\", \"name\": \"Asia\", \"orientation\": \"v\", \"showlegend\": true, \"type\": \"scatter\", \"x\": [6.441, 6.343, 6.322, 6.072, 5.915, 5.875, 5.524, 5.472, 5.43, 5.246, 5.125, 5.103, 5.093, 5.082, 4.88, 4.623, 4.5, 4.471, 4.433, 4.308, 4.19, 3.6319999999999997], \"xaxis\": \"x\", \"y\": [0.857, 1.008, 0.669, 0.7070000000000001, 0.988, 0.955, 0.513, 0.424, 1.03, 0.799, 0.575, 0.7020000000000001, 0.522, 0.527, 0.539, 0.441, 0.579, 0.672, 0.457, 0.429, 0.485, 0.255], \"yaxis\": \"y\"}, {\"hovertemplate\": \"<b>%{hovertext}</b><br><br>Region=Sub-Saharan Africa<br>Score=%{x}<br>Healthy life expectancy=%{y}<extra></extra>\", \"hovertext\": [\"Mauritius\", \"Nigeria\", \"Cameroon\", \"Gabon\", \"South Africa\", \"Ivory Coast\", \"Ghana\", \"Senegal\", \"Sierra Leone\", \"Congo (Brazzaville)\", \"Mali\", \"Burkina Faso\", \"Mozambique\", \"Kenya\", \"Zambia\", \"Mauritania\", \"Ethiopia\", \"Chad\", \"Congo (Kinshasa)\", \"Niger\", \"Uganda\", \"Benin\", \"Sudan\", \"Togo\", \"Guinea\", \"Lesotho\", \"Angola\", \"Madagascar\", \"Zimbabwe\", \"Botswana\", \"Malawi\", \"Liberia\", \"Rwanda\", \"Tanzania\", \"Central African Republic\", \"Burundi\"], \"legendgroup\": \"Sub-Saharan Africa\", \"marker\": {\"color\": \"#FF6692\", \"line\": {\"color\": \"DarkSlateGrey\", \"width\": 1}, \"size\": 10, \"symbol\": \"circle\"}, \"mode\": \"markers\", \"name\": \"Sub-Saharan Africa\", \"orientation\": \"v\", \"showlegend\": true, \"type\": \"scatter\", \"x\": [5.891, 5.155, 4.975, 4.758, 4.724, 4.671, 4.657, 4.631, 4.571000000000001, 4.559, 4.447, 4.4239999999999995, 4.417, 4.41, 4.377, 4.356, 4.35, 4.301, 4.245, 4.166, 4.1610000000000005, 4.141, 4.138999999999999, 3.9989999999999997, 3.964, 3.8080000000000003, 3.795, 3.7739999999999996, 3.6919999999999997, 3.59, 3.5869999999999997, 3.495, 3.408, 3.303, 3.083, 2.905], \"xaxis\": \"x\", \"y\": [0.684, 0.048, 0.182, 0.40399999999999997, 0.33, 0.08, 0.337, 0.433, 0.0, 0.34299999999999997, 0.152, 0.254, 0.17300000000000001, 0.45399999999999996, 0.295, 0.292, 0.391, 0.053, 0.204, 0.221, 0.237, 0.24, 0.312, 0.253, 0.21100000000000002, 0.079, 0.26899999999999996, 0.402, 0.248, 0.41700000000000004, 0.306, 0.267, 0.4, 0.381, 0.01, 0.145], \"yaxis\": \"y\"}],                        {\"height\": 600, \"legend\": {\"title\": {\"text\": \"Region\"}, \"tracegroupgap\": 0}, \"template\": {\"data\": {\"bar\": [{\"error_x\": {\"color\": \"#2a3f5f\"}, \"error_y\": {\"color\": \"#2a3f5f\"}, \"marker\": {\"line\": {\"color\": \"#E5ECF6\", \"width\": 0.5}}, \"type\": \"bar\"}], \"barpolar\": [{\"marker\": {\"line\": {\"color\": \"#E5ECF6\", \"width\": 0.5}}, \"type\": \"barpolar\"}], \"carpet\": [{\"aaxis\": {\"endlinecolor\": \"#2a3f5f\", \"gridcolor\": \"white\", \"linecolor\": \"white\", \"minorgridcolor\": \"white\", \"startlinecolor\": \"#2a3f5f\"}, \"baxis\": {\"endlinecolor\": \"#2a3f5f\", \"gridcolor\": \"white\", \"linecolor\": \"white\", \"minorgridcolor\": \"white\", \"startlinecolor\": \"#2a3f5f\"}, \"type\": \"carpet\"}], \"choropleth\": [{\"colorbar\": {\"outlinewidth\": 0, \"ticks\": \"\"}, \"type\": \"choropleth\"}], \"contour\": [{\"colorbar\": {\"outlinewidth\": 0, \"ticks\": \"\"}, \"colorscale\": [[0.0, \"#0d0887\"], [0.1111111111111111, \"#46039f\"], [0.2222222222222222, \"#7201a8\"], [0.3333333333333333, \"#9c179e\"], [0.4444444444444444, \"#bd3786\"], [0.5555555555555556, \"#d8576b\"], [0.6666666666666666, \"#ed7953\"], [0.7777777777777778, \"#fb9f3a\"], [0.8888888888888888, \"#fdca26\"], [1.0, \"#f0f921\"]], \"type\": \"contour\"}], \"contourcarpet\": [{\"colorbar\": {\"outlinewidth\": 0, \"ticks\": \"\"}, \"type\": \"contourcarpet\"}], \"heatmap\": [{\"colorbar\": {\"outlinewidth\": 0, \"ticks\": \"\"}, \"colorscale\": [[0.0, \"#0d0887\"], [0.1111111111111111, \"#46039f\"], [0.2222222222222222, \"#7201a8\"], [0.3333333333333333, \"#9c179e\"], [0.4444444444444444, \"#bd3786\"], [0.5555555555555556, \"#d8576b\"], [0.6666666666666666, \"#ed7953\"], [0.7777777777777778, \"#fb9f3a\"], [0.8888888888888888, \"#fdca26\"], [1.0, \"#f0f921\"]], \"type\": \"heatmap\"}], \"heatmapgl\": [{\"colorbar\": {\"outlinewidth\": 0, \"ticks\": \"\"}, \"colorscale\": [[0.0, \"#0d0887\"], [0.1111111111111111, \"#46039f\"], [0.2222222222222222, \"#7201a8\"], [0.3333333333333333, \"#9c179e\"], [0.4444444444444444, \"#bd3786\"], [0.5555555555555556, \"#d8576b\"], [0.6666666666666666, \"#ed7953\"], [0.7777777777777778, \"#fb9f3a\"], [0.8888888888888888, \"#fdca26\"], [1.0, \"#f0f921\"]], \"type\": \"heatmapgl\"}], \"histogram\": [{\"marker\": {\"colorbar\": {\"outlinewidth\": 0, \"ticks\": \"\"}}, \"type\": \"histogram\"}], \"histogram2d\": [{\"colorbar\": {\"outlinewidth\": 0, \"ticks\": \"\"}, \"colorscale\": [[0.0, \"#0d0887\"], [0.1111111111111111, \"#46039f\"], [0.2222222222222222, \"#7201a8\"], [0.3333333333333333, \"#9c179e\"], [0.4444444444444444, \"#bd3786\"], [0.5555555555555556, \"#d8576b\"], [0.6666666666666666, \"#ed7953\"], [0.7777777777777778, \"#fb9f3a\"], [0.8888888888888888, \"#fdca26\"], [1.0, \"#f0f921\"]], \"type\": \"histogram2d\"}], \"histogram2dcontour\": [{\"colorbar\": {\"outlinewidth\": 0, \"ticks\": \"\"}, \"colorscale\": [[0.0, \"#0d0887\"], [0.1111111111111111, \"#46039f\"], [0.2222222222222222, \"#7201a8\"], [0.3333333333333333, \"#9c179e\"], [0.4444444444444444, \"#bd3786\"], [0.5555555555555556, \"#d8576b\"], [0.6666666666666666, \"#ed7953\"], [0.7777777777777778, \"#fb9f3a\"], [0.8888888888888888, \"#fdca26\"], [1.0, \"#f0f921\"]], \"type\": \"histogram2dcontour\"}], \"mesh3d\": [{\"colorbar\": {\"outlinewidth\": 0, \"ticks\": \"\"}, \"type\": \"mesh3d\"}], \"parcoords\": [{\"line\": {\"colorbar\": {\"outlinewidth\": 0, \"ticks\": \"\"}}, \"type\": \"parcoords\"}], \"pie\": [{\"automargin\": true, \"type\": \"pie\"}], \"scatter\": [{\"marker\": {\"colorbar\": {\"outlinewidth\": 0, \"ticks\": \"\"}}, \"type\": \"scatter\"}], \"scatter3d\": [{\"line\": {\"colorbar\": {\"outlinewidth\": 0, \"ticks\": \"\"}}, \"marker\": {\"colorbar\": {\"outlinewidth\": 0, \"ticks\": \"\"}}, \"type\": \"scatter3d\"}], \"scattercarpet\": [{\"marker\": {\"colorbar\": {\"outlinewidth\": 0, \"ticks\": \"\"}}, \"type\": \"scattercarpet\"}], \"scattergeo\": [{\"marker\": {\"colorbar\": {\"outlinewidth\": 0, \"ticks\": \"\"}}, \"type\": \"scattergeo\"}], \"scattergl\": [{\"marker\": {\"colorbar\": {\"outlinewidth\": 0, \"ticks\": \"\"}}, \"type\": \"scattergl\"}], \"scattermapbox\": [{\"marker\": {\"colorbar\": {\"outlinewidth\": 0, \"ticks\": \"\"}}, \"type\": \"scattermapbox\"}], \"scatterpolar\": [{\"marker\": {\"colorbar\": {\"outlinewidth\": 0, \"ticks\": \"\"}}, \"type\": \"scatterpolar\"}], \"scatterpolargl\": [{\"marker\": {\"colorbar\": {\"outlinewidth\": 0, \"ticks\": \"\"}}, \"type\": \"scatterpolargl\"}], \"scatterternary\": [{\"marker\": {\"colorbar\": {\"outlinewidth\": 0, \"ticks\": \"\"}}, \"type\": \"scatterternary\"}], \"surface\": [{\"colorbar\": {\"outlinewidth\": 0, \"ticks\": \"\"}, \"colorscale\": [[0.0, \"#0d0887\"], [0.1111111111111111, \"#46039f\"], [0.2222222222222222, \"#7201a8\"], [0.3333333333333333, \"#9c179e\"], [0.4444444444444444, \"#bd3786\"], [0.5555555555555556, \"#d8576b\"], [0.6666666666666666, \"#ed7953\"], [0.7777777777777778, \"#fb9f3a\"], [0.8888888888888888, \"#fdca26\"], [1.0, \"#f0f921\"]], \"type\": \"surface\"}], \"table\": [{\"cells\": {\"fill\": {\"color\": \"#EBF0F8\"}, \"line\": {\"color\": \"white\"}}, \"header\": {\"fill\": {\"color\": \"#C8D4E3\"}, \"line\": {\"color\": \"white\"}}, \"type\": \"table\"}]}, \"layout\": {\"annotationdefaults\": {\"arrowcolor\": \"#2a3f5f\", \"arrowhead\": 0, \"arrowwidth\": 1}, \"autotypenumbers\": \"strict\", \"coloraxis\": {\"colorbar\": {\"outlinewidth\": 0, \"ticks\": \"\"}}, \"colorscale\": {\"diverging\": [[0, \"#8e0152\"], [0.1, \"#c51b7d\"], [0.2, \"#de77ae\"], [0.3, \"#f1b6da\"], [0.4, \"#fde0ef\"], [0.5, \"#f7f7f7\"], [0.6, \"#e6f5d0\"], [0.7, \"#b8e186\"], [0.8, \"#7fbc41\"], [0.9, \"#4d9221\"], [1, \"#276419\"]], \"sequential\": [[0.0, \"#0d0887\"], [0.1111111111111111, \"#46039f\"], [0.2222222222222222, \"#7201a8\"], [0.3333333333333333, \"#9c179e\"], [0.4444444444444444, \"#bd3786\"], [0.5555555555555556, \"#d8576b\"], [0.6666666666666666, \"#ed7953\"], [0.7777777777777778, \"#fb9f3a\"], [0.8888888888888888, \"#fdca26\"], [1.0, \"#f0f921\"]], \"sequentialminus\": [[0.0, \"#0d0887\"], [0.1111111111111111, \"#46039f\"], [0.2222222222222222, \"#7201a8\"], [0.3333333333333333, \"#9c179e\"], [0.4444444444444444, \"#bd3786\"], [0.5555555555555556, \"#d8576b\"], [0.6666666666666666, \"#ed7953\"], [0.7777777777777778, \"#fb9f3a\"], [0.8888888888888888, \"#fdca26\"], [1.0, \"#f0f921\"]]}, \"colorway\": [\"#636efa\", \"#EF553B\", \"#00cc96\", \"#ab63fa\", \"#FFA15A\", \"#19d3f3\", \"#FF6692\", \"#B6E880\", \"#FF97FF\", \"#FECB52\"], \"font\": {\"color\": \"#2a3f5f\"}, \"geo\": {\"bgcolor\": \"white\", \"lakecolor\": \"white\", \"landcolor\": \"#E5ECF6\", \"showlakes\": true, \"showland\": true, \"subunitcolor\": \"white\"}, \"hoverlabel\": {\"align\": \"left\"}, \"hovermode\": \"closest\", \"mapbox\": {\"style\": \"light\"}, \"paper_bgcolor\": \"white\", \"plot_bgcolor\": \"#E5ECF6\", \"polar\": {\"angularaxis\": {\"gridcolor\": \"white\", \"linecolor\": \"white\", \"ticks\": \"\"}, \"bgcolor\": \"#E5ECF6\", \"radialaxis\": {\"gridcolor\": \"white\", \"linecolor\": \"white\", \"ticks\": \"\"}}, \"scene\": {\"xaxis\": {\"backgroundcolor\": \"#E5ECF6\", \"gridcolor\": \"white\", \"gridwidth\": 2, \"linecolor\": \"white\", \"showbackground\": true, \"ticks\": \"\", \"zerolinecolor\": \"white\"}, \"yaxis\": {\"backgroundcolor\": \"#E5ECF6\", \"gridcolor\": \"white\", \"gridwidth\": 2, \"linecolor\": \"white\", \"showbackground\": true, \"ticks\": \"\", \"zerolinecolor\": \"white\"}, \"zaxis\": {\"backgroundcolor\": \"#E5ECF6\", \"gridcolor\": \"white\", \"gridwidth\": 2, \"linecolor\": \"white\", \"showbackground\": true, \"ticks\": \"\", \"zerolinecolor\": \"white\"}}, \"shapedefaults\": {\"line\": {\"color\": \"#2a3f5f\"}}, \"ternary\": {\"aaxis\": {\"gridcolor\": \"white\", \"linecolor\": \"white\", \"ticks\": \"\"}, \"baxis\": {\"gridcolor\": \"white\", \"linecolor\": \"white\", \"ticks\": \"\"}, \"bgcolor\": \"#E5ECF6\", \"caxis\": {\"gridcolor\": \"white\", \"linecolor\": \"white\", \"ticks\": \"\"}}, \"title\": {\"x\": 0.05}, \"xaxis\": {\"automargin\": true, \"gridcolor\": \"white\", \"linecolor\": \"white\", \"ticks\": \"\", \"title\": {\"standoff\": 15}, \"zerolinecolor\": \"white\", \"zerolinewidth\": 2}, \"yaxis\": {\"automargin\": true, \"gridcolor\": \"white\", \"linecolor\": \"white\", \"ticks\": \"\", \"title\": {\"standoff\": 15}, \"zerolinecolor\": \"white\", \"zerolinewidth\": 2}}}, \"title\": {\"text\": \"Happiness Score compared to Healthy Life Expectancy\"}, \"width\": 1000, \"xaxis\": {\"anchor\": \"y\", \"domain\": [0.0, 1.0], \"range\": [0, 8], \"title\": {\"text\": \"Happiness Score\"}}, \"yaxis\": {\"anchor\": \"x\", \"domain\": [0.0, 1.0], \"title\": {\"text\": \"Healthy Life Expectancy\"}}},                        {\"responsive\": true}                    ).then(function(){\n",
       "                            \n",
       "var gd = document.getElementById('94b2ea7f-9de5-46df-ad07-07f00c019ff6');\n",
       "var x = new MutationObserver(function (mutations, observer) {{\n",
       "        var display = window.getComputedStyle(gd).display;\n",
       "        if (!display || display === 'none') {{\n",
       "            console.log([gd, 'removed!']);\n",
       "            Plotly.purge(gd);\n",
       "            observer.disconnect();\n",
       "        }}\n",
       "}});\n",
       "\n",
       "// Listen for the removal of the full notebook cells\n",
       "var notebookContainer = gd.closest('#notebook-container');\n",
       "if (notebookContainer) {{\n",
       "    x.observe(notebookContainer, {childList: true});\n",
       "}}\n",
       "\n",
       "// Listen for the clearing of the current output cell\n",
       "var outputEl = gd.closest('.output');\n",
       "if (outputEl) {{\n",
       "    x.observe(outputEl, {childList: true});\n",
       "}}\n",
       "\n",
       "                        })                };                });            </script>        </div>"
      ]
     },
     "metadata": {},
     "output_type": "display_data"
    }
   ],
   "source": [
    "#happiness score vs healthy life expectancy\n",
    "\n",
    "#establish x and y values\n",
    "x_values = merged_2018[\"Score\"]\n",
    "y_values = merged_2018[\"Healthy life expectancy\"]\n",
    "\n",
    "df = px.data.iris() # iris is a pandas DataFrame\n",
    "\n",
    "#px.scatter\n",
    "fig = px.scatter(merged_2018, x_values, y_values, color=\"Region\", hover_name=\"Country or region\",\n",
    "                range_x=[0,8], title=\"Happiness Score compared to Healthy Life Expectancy\",\n",
    "                width= 1000, height =600) # use trendline=\"ols\" to see all lin reg equations\n",
    "\n",
    "#set axes labels\n",
    "fig.update_xaxes(title_text='Happiness Score')\n",
    "fig.update_yaxes(title_text='Healthy Life Expectancy')\n",
    "\n",
    "\n",
    "#formatting\n",
    "#marker size and colors\n",
    "fig.update_traces(marker=dict(size=10,\n",
    "                              line=dict(width=1, \n",
    "                                        color='DarkSlateGrey')))\n",
    "\n",
    "\n",
    "#linear regression\n",
    "#use linregress from dependencies to inplement linear regression\n",
    "(slope, intercept, rvalue, pvalue, stderr) = linregress(x_values, y_values)\n",
    "regress_values = x_values * slope + intercept\n",
    "\n",
    "#print out all variables calculated above (rvalue, pvalue...)\n",
    "print(f\"slope:{round(slope, 2)}\")\n",
    "print(f\"intercept:{round(intercept,2)}\")\n",
    "res = sts.linregress(x_values, y_values)\n",
    "print(f\"R-squared: {res.rvalue**2:.4f}\")\n",
    "\n",
    "\n",
    "#print out line eq for reference\n",
    "line_eq = (f\"y={round(slope, 2)}x + {round(intercept, 2)}\")\n",
    "print(line_eq)\n",
    "\n",
    "fig.show()"
   ]
  },
  {
   "cell_type": "code",
   "execution_count": 16,
   "metadata": {},
   "outputs": [
    {
     "name": "stdout",
     "output_type": "stream",
     "text": [
      "slope:0.08\n",
      "intercept:0.03\n",
      "R-squared: 0.2913\n",
      "y=0.08x + 0.03\n"
     ]
    },
    {
     "data": {
      "application/vnd.plotly.v1+json": {
       "config": {
        "plotlyServerURL": "https://plot.ly"
       },
       "data": [
        {
         "hovertemplate": "<b>%{hovertext}</b><br><br>Region=Europe<br>Score=%{x}<br>Freedom to make life choices=%{y}<extra></extra>",
         "hovertext": [
          "Finland",
          "Norway",
          "Denmark",
          "Iceland",
          "Switzerland",
          "Netherlands",
          "Sweden",
          "United Kingdom",
          "Austria",
          "Ireland",
          "Germany",
          "Belgium",
          "Luxembourg",
          "Czech Republic",
          "Malta",
          "France",
          "Spain",
          "Slovakia",
          "Poland",
          "Uzbekistan",
          "Italy",
          "Lithuania",
          "Slovenia",
          "Romania",
          "Latvia",
          "Russia",
          "Kazakhstan",
          "Cyprus",
          "Estonia",
          "Kosovo",
          "Moldova",
          "Turkmenistan",
          "Hungary",
          "Belarus",
          "Portugal",
          "Serbia",
          "Greece",
          "Montenegro",
          "Croatia",
          "Azerbaijan",
          "Tajikistan",
          "Macedonia",
          "Kyrgyzstan",
          "Bosnia and Herzegovina",
          "Bulgaria",
          "Albania",
          "Georgia",
          "Armenia",
          "Ukraine"
         ],
         "legendgroup": "Europe",
         "marker": {
          "color": "#636efa",
          "line": {
           "color": "DarkSlateGrey",
           "width": 1
          },
          "size": 10,
          "symbol": "circle"
         },
         "mode": "markers",
         "name": "Europe",
         "orientation": "v",
         "showlegend": true,
         "type": "scatter",
         "x": [
          7.632000000000001,
          7.593999999999999,
          7.555,
          7.495,
          7.487,
          7.441,
          7.314,
          7.19,
          7.138999999999999,
          6.977,
          6.965,
          6.9270000000000005,
          6.91,
          6.711,
          6.627000000000001,
          6.489,
          6.31,
          6.172999999999999,
          6.122999999999999,
          6.096,
          6,
          5.952000000000001,
          5.9479999999999995,
          5.945,
          5.933,
          5.81,
          5.79,
          5.7620000000000005,
          5.739,
          5.662000000000001,
          5.64,
          5.636,
          5.62,
          5.483,
          5.41,
          5.398,
          5.358,
          5.347,
          5.321000000000001,
          5.2010000000000005,
          5.199,
          5.185,
          5.131,
          5.129,
          4.933,
          4.586,
          4.34,
          4.321000000000001,
          4.103
         ],
         "xaxis": "x",
         "y": [
          0.6809999999999999,
          0.6859999999999999,
          0.6829999999999999,
          0.677,
          0.66,
          0.638,
          0.659,
          0.46399999999999997,
          0.617,
          0.614,
          0.586,
          0.583,
          0.632,
          0.5429999999999999,
          0.645,
          0.52,
          0.449,
          0.354,
          0.546,
          0.7240000000000001,
          0.281,
          0.35,
          0.633,
          0.528,
          0.363,
          0.39899999999999997,
          0.45399999999999996,
          0.423,
          0.5529999999999999,
          0.44799999999999995,
          0.23199999999999998,
          0.41700000000000004,
          0.259,
          0.307,
          0.562,
          0.28800000000000003,
          0.131,
          0.259,
          0.38,
          0.43,
          0.292,
          0.39399999999999996,
          0.54,
          0.28,
          0.359,
          0.419,
          0.375,
          0.26,
          0.163
         ],
         "yaxis": "y"
        },
        {
         "hovertemplate": "<b>%{hovertext}</b><br><br>Region=North America<br>Score=%{x}<br>Freedom to make life choices=%{y}<extra></extra>",
         "hovertext": [
          "Canada",
          "United States"
         ],
         "legendgroup": "North America",
         "marker": {
          "color": "#EF553B",
          "line": {
           "color": "DarkSlateGrey",
           "width": 1
          },
          "size": 10,
          "symbol": "circle"
         },
         "mode": "markers",
         "name": "North America",
         "orientation": "v",
         "showlegend": true,
         "type": "scatter",
         "x": [
          7.327999999999999,
          6.886
         ],
         "xaxis": "x",
         "y": [
          0.653,
          0.547
         ],
         "yaxis": "y"
        },
        {
         "hovertemplate": "<b>%{hovertext}</b><br><br>Region=Australia and New Zealand<br>Score=%{x}<br>Freedom to make life choices=%{y}<extra></extra>",
         "hovertext": [
          "New Zealand",
          "Australia"
         ],
         "legendgroup": "Australia and New Zealand",
         "marker": {
          "color": "#00cc96",
          "line": {
           "color": "DarkSlateGrey",
           "width": 1
          },
          "size": 10,
          "symbol": "circle"
         },
         "mode": "markers",
         "name": "Australia and New Zealand",
         "orientation": "v",
         "showlegend": true,
         "type": "scatter",
         "x": [
          7.324,
          7.272
         ],
         "xaxis": "x",
         "y": [
          0.669,
          0.647
         ],
         "yaxis": "y"
        },
        {
         "hovertemplate": "<b>%{hovertext}</b><br><br>Region=Latin America and Caribbean<br>Score=%{x}<br>Freedom to make life choices=%{y}<extra></extra>",
         "hovertext": [
          "Costa Rica",
          "Mexico",
          "Chile",
          "Panama",
          "Brazil",
          "Argentina",
          "Guatemala",
          "Uruguay",
          "Colombia",
          "El Salvador",
          "Nicaragua",
          "Ecuador",
          "Jamaica",
          "Bolivia",
          "Paraguay",
          "Peru",
          "Honduras",
          "Dominican Republic",
          "Venezuela",
          "Haiti"
         ],
         "legendgroup": "Latin America and Caribbean",
         "marker": {
          "color": "#ab63fa",
          "line": {
           "color": "DarkSlateGrey",
           "width": 1
          },
          "size": 10,
          "symbol": "circle"
         },
         "mode": "markers",
         "name": "Latin America and Caribbean",
         "orientation": "v",
         "showlegend": true,
         "type": "scatter",
         "x": [
          7.072,
          6.4879999999999995,
          6.476,
          6.43,
          6.419,
          6.388,
          6.382000000000001,
          6.379,
          6.26,
          6.167000000000001,
          6.141,
          5.973,
          5.89,
          5.752000000000001,
          5.681,
          5.662999999999999,
          5.504,
          5.3020000000000005,
          4.806,
          3.582
         ],
         "xaxis": "x",
         "y": [
          0.632,
          0.479,
          0.431,
          0.597,
          0.493,
          0.57,
          0.604,
          0.625,
          0.531,
          0.461,
          0.527,
          0.556,
          0.575,
          0.606,
          0.541,
          0.53,
          0.45899999999999996,
          0.578,
          0.133,
          0.025
         ],
         "yaxis": "y"
        },
        {
         "hovertemplate": "<b>%{hovertext}</b><br><br>Region=Middle East and Northern Africa<br>Score=%{x}<br>Freedom to make life choices=%{y}<extra></extra>",
         "hovertext": [
          "Israel",
          "United Arab Emirates",
          "Qatar",
          "Saudi Arabia",
          "Bahrain",
          "Kuwait",
          "Libya",
          "Turkey",
          "Lebanon",
          "Algeria",
          "Morocco",
          "Jordan",
          "Palestinian Territories",
          "Iran",
          "Tunisia",
          "Iraq",
          "Egypt",
          "Syria",
          "Yemen"
         ],
         "legendgroup": "Middle East and Northern Africa",
         "marker": {
          "color": "#FFA15A",
          "line": {
           "color": "DarkSlateGrey",
           "width": 1
          },
          "size": 10,
          "symbol": "circle"
         },
         "mode": "markers",
         "name": "Middle East and Northern Africa",
         "orientation": "v",
         "showlegend": true,
         "type": "scatter",
         "x": [
          6.814,
          6.774,
          6.374,
          6.371,
          6.105,
          6.082999999999999,
          5.566,
          5.483,
          5.358,
          5.295,
          5.254,
          5.1610000000000005,
          4.743,
          4.707,
          4.592,
          4.456,
          4.419,
          3.4619999999999997,
          3.355
         ],
         "xaxis": "x",
         "y": [
          0.5329999999999999,
          0.284,
          0.654,
          0.509,
          0.594,
          0.5539999999999999,
          0.496,
          0.324,
          0.503,
          0.077,
          0.46,
          0.46799999999999997,
          0.266,
          0.45899999999999996,
          0.271,
          0.304,
          0.312,
          0.08800000000000001,
          0.244
         ],
         "yaxis": "y"
        },
        {
         "hovertemplate": "<b>%{hovertext}</b><br><br>Region=Asia<br>Score=%{x}<br>Freedom to make life choices=%{y}<extra></extra>",
         "hovertext": [
          "Taiwan",
          "Singapore",
          "Malaysia",
          "Thailand",
          "Japan",
          "South Korea",
          "Philippines",
          "Pakistan",
          "Hong Kong",
          "China",
          "Mongolia",
          "Vietnam",
          "Indonesia",
          "Bhutan",
          "Nepal",
          "Laos",
          "Bangladesh",
          "Sri Lanka",
          "Cambodia",
          "Myanmar",
          "India",
          "Afghanistan"
         ],
         "legendgroup": "Asia",
         "marker": {
          "color": "#19d3f3",
          "line": {
           "color": "DarkSlateGrey",
           "width": 1
          },
          "size": 10,
          "symbol": "circle"
         },
         "mode": "markers",
         "name": "Asia",
         "orientation": "v",
         "showlegend": true,
         "type": "scatter",
         "x": [
          6.441,
          6.343,
          6.322,
          6.072,
          5.915,
          5.875,
          5.524,
          5.472,
          5.43,
          5.246,
          5.125,
          5.103,
          5.093,
          5.082,
          4.88,
          4.623,
          4.5,
          4.471,
          4.433,
          4.308,
          4.19,
          3.6319999999999997
         ],
         "xaxis": "x",
         "y": [
          0.418,
          0.631,
          0.35600000000000004,
          0.637,
          0.5529999999999999,
          0.244,
          0.643,
          0.33399999999999996,
          0.524,
          0.597,
          0.395,
          0.618,
          0.5379999999999999,
          0.541,
          0.526,
          0.626,
          0.58,
          0.585,
          0.696,
          0.58,
          0.539,
          0.085
         ],
         "yaxis": "y"
        },
        {
         "hovertemplate": "<b>%{hovertext}</b><br><br>Region=Sub-Saharan Africa<br>Score=%{x}<br>Freedom to make life choices=%{y}<extra></extra>",
         "hovertext": [
          "Mauritius",
          "Nigeria",
          "Cameroon",
          "Gabon",
          "South Africa",
          "Ivory Coast",
          "Ghana",
          "Senegal",
          "Sierra Leone",
          "Congo (Brazzaville)",
          "Mali",
          "Burkina Faso",
          "Mozambique",
          "Kenya",
          "Zambia",
          "Mauritania",
          "Ethiopia",
          "Chad",
          "Congo (Kinshasa)",
          "Niger",
          "Uganda",
          "Benin",
          "Sudan",
          "Togo",
          "Guinea",
          "Lesotho",
          "Angola",
          "Madagascar",
          "Zimbabwe",
          "Botswana",
          "Malawi",
          "Liberia",
          "Rwanda",
          "Tanzania",
          "Central African Republic",
          "Burundi"
         ],
         "legendgroup": "Sub-Saharan Africa",
         "marker": {
          "color": "#FF6692",
          "line": {
           "color": "DarkSlateGrey",
           "width": 1
          },
          "size": 10,
          "symbol": "circle"
         },
         "mode": "markers",
         "name": "Sub-Saharan Africa",
         "orientation": "v",
         "showlegend": true,
         "type": "scatter",
         "x": [
          5.891,
          5.155,
          4.975,
          4.758,
          4.724,
          4.671,
          4.657,
          4.631,
          4.571000000000001,
          4.559,
          4.447,
          4.4239999999999995,
          4.417,
          4.41,
          4.377,
          4.356,
          4.35,
          4.301,
          4.245,
          4.166,
          4.1610000000000005,
          4.141,
          4.138999999999999,
          3.9989999999999997,
          3.964,
          3.8080000000000003,
          3.795,
          3.7739999999999996,
          3.6919999999999997,
          3.59,
          3.5869999999999997,
          3.495,
          3.408,
          3.303,
          3.083,
          2.905
         ],
         "xaxis": "x",
         "y": [
          0.584,
          0.462,
          0.45399999999999996,
          0.35600000000000004,
          0.516,
          0.467,
          0.499,
          0.406,
          0.355,
          0.514,
          0.36700000000000005,
          0.312,
          0.531,
          0.504,
          0.503,
          0.129,
          0.452,
          0.18899999999999997,
          0.312,
          0.39,
          0.45,
          0.44,
          0.016,
          0.434,
          0.39399999999999996,
          0.423,
          0,
          0.221,
          0.406,
          0.557,
          0.531,
          0.419,
          0.636,
          0.48100000000000004,
          0.305,
          0.065
         ],
         "yaxis": "y"
        }
       ],
       "layout": {
        "height": 600,
        "legend": {
         "title": {
          "text": "Region"
         },
         "tracegroupgap": 0
        },
        "template": {
         "data": {
          "bar": [
           {
            "error_x": {
             "color": "#2a3f5f"
            },
            "error_y": {
             "color": "#2a3f5f"
            },
            "marker": {
             "line": {
              "color": "#E5ECF6",
              "width": 0.5
             }
            },
            "type": "bar"
           }
          ],
          "barpolar": [
           {
            "marker": {
             "line": {
              "color": "#E5ECF6",
              "width": 0.5
             }
            },
            "type": "barpolar"
           }
          ],
          "carpet": [
           {
            "aaxis": {
             "endlinecolor": "#2a3f5f",
             "gridcolor": "white",
             "linecolor": "white",
             "minorgridcolor": "white",
             "startlinecolor": "#2a3f5f"
            },
            "baxis": {
             "endlinecolor": "#2a3f5f",
             "gridcolor": "white",
             "linecolor": "white",
             "minorgridcolor": "white",
             "startlinecolor": "#2a3f5f"
            },
            "type": "carpet"
           }
          ],
          "choropleth": [
           {
            "colorbar": {
             "outlinewidth": 0,
             "ticks": ""
            },
            "type": "choropleth"
           }
          ],
          "contour": [
           {
            "colorbar": {
             "outlinewidth": 0,
             "ticks": ""
            },
            "colorscale": [
             [
              0,
              "#0d0887"
             ],
             [
              0.1111111111111111,
              "#46039f"
             ],
             [
              0.2222222222222222,
              "#7201a8"
             ],
             [
              0.3333333333333333,
              "#9c179e"
             ],
             [
              0.4444444444444444,
              "#bd3786"
             ],
             [
              0.5555555555555556,
              "#d8576b"
             ],
             [
              0.6666666666666666,
              "#ed7953"
             ],
             [
              0.7777777777777778,
              "#fb9f3a"
             ],
             [
              0.8888888888888888,
              "#fdca26"
             ],
             [
              1,
              "#f0f921"
             ]
            ],
            "type": "contour"
           }
          ],
          "contourcarpet": [
           {
            "colorbar": {
             "outlinewidth": 0,
             "ticks": ""
            },
            "type": "contourcarpet"
           }
          ],
          "heatmap": [
           {
            "colorbar": {
             "outlinewidth": 0,
             "ticks": ""
            },
            "colorscale": [
             [
              0,
              "#0d0887"
             ],
             [
              0.1111111111111111,
              "#46039f"
             ],
             [
              0.2222222222222222,
              "#7201a8"
             ],
             [
              0.3333333333333333,
              "#9c179e"
             ],
             [
              0.4444444444444444,
              "#bd3786"
             ],
             [
              0.5555555555555556,
              "#d8576b"
             ],
             [
              0.6666666666666666,
              "#ed7953"
             ],
             [
              0.7777777777777778,
              "#fb9f3a"
             ],
             [
              0.8888888888888888,
              "#fdca26"
             ],
             [
              1,
              "#f0f921"
             ]
            ],
            "type": "heatmap"
           }
          ],
          "heatmapgl": [
           {
            "colorbar": {
             "outlinewidth": 0,
             "ticks": ""
            },
            "colorscale": [
             [
              0,
              "#0d0887"
             ],
             [
              0.1111111111111111,
              "#46039f"
             ],
             [
              0.2222222222222222,
              "#7201a8"
             ],
             [
              0.3333333333333333,
              "#9c179e"
             ],
             [
              0.4444444444444444,
              "#bd3786"
             ],
             [
              0.5555555555555556,
              "#d8576b"
             ],
             [
              0.6666666666666666,
              "#ed7953"
             ],
             [
              0.7777777777777778,
              "#fb9f3a"
             ],
             [
              0.8888888888888888,
              "#fdca26"
             ],
             [
              1,
              "#f0f921"
             ]
            ],
            "type": "heatmapgl"
           }
          ],
          "histogram": [
           {
            "marker": {
             "colorbar": {
              "outlinewidth": 0,
              "ticks": ""
             }
            },
            "type": "histogram"
           }
          ],
          "histogram2d": [
           {
            "colorbar": {
             "outlinewidth": 0,
             "ticks": ""
            },
            "colorscale": [
             [
              0,
              "#0d0887"
             ],
             [
              0.1111111111111111,
              "#46039f"
             ],
             [
              0.2222222222222222,
              "#7201a8"
             ],
             [
              0.3333333333333333,
              "#9c179e"
             ],
             [
              0.4444444444444444,
              "#bd3786"
             ],
             [
              0.5555555555555556,
              "#d8576b"
             ],
             [
              0.6666666666666666,
              "#ed7953"
             ],
             [
              0.7777777777777778,
              "#fb9f3a"
             ],
             [
              0.8888888888888888,
              "#fdca26"
             ],
             [
              1,
              "#f0f921"
             ]
            ],
            "type": "histogram2d"
           }
          ],
          "histogram2dcontour": [
           {
            "colorbar": {
             "outlinewidth": 0,
             "ticks": ""
            },
            "colorscale": [
             [
              0,
              "#0d0887"
             ],
             [
              0.1111111111111111,
              "#46039f"
             ],
             [
              0.2222222222222222,
              "#7201a8"
             ],
             [
              0.3333333333333333,
              "#9c179e"
             ],
             [
              0.4444444444444444,
              "#bd3786"
             ],
             [
              0.5555555555555556,
              "#d8576b"
             ],
             [
              0.6666666666666666,
              "#ed7953"
             ],
             [
              0.7777777777777778,
              "#fb9f3a"
             ],
             [
              0.8888888888888888,
              "#fdca26"
             ],
             [
              1,
              "#f0f921"
             ]
            ],
            "type": "histogram2dcontour"
           }
          ],
          "mesh3d": [
           {
            "colorbar": {
             "outlinewidth": 0,
             "ticks": ""
            },
            "type": "mesh3d"
           }
          ],
          "parcoords": [
           {
            "line": {
             "colorbar": {
              "outlinewidth": 0,
              "ticks": ""
             }
            },
            "type": "parcoords"
           }
          ],
          "pie": [
           {
            "automargin": true,
            "type": "pie"
           }
          ],
          "scatter": [
           {
            "marker": {
             "colorbar": {
              "outlinewidth": 0,
              "ticks": ""
             }
            },
            "type": "scatter"
           }
          ],
          "scatter3d": [
           {
            "line": {
             "colorbar": {
              "outlinewidth": 0,
              "ticks": ""
             }
            },
            "marker": {
             "colorbar": {
              "outlinewidth": 0,
              "ticks": ""
             }
            },
            "type": "scatter3d"
           }
          ],
          "scattercarpet": [
           {
            "marker": {
             "colorbar": {
              "outlinewidth": 0,
              "ticks": ""
             }
            },
            "type": "scattercarpet"
           }
          ],
          "scattergeo": [
           {
            "marker": {
             "colorbar": {
              "outlinewidth": 0,
              "ticks": ""
             }
            },
            "type": "scattergeo"
           }
          ],
          "scattergl": [
           {
            "marker": {
             "colorbar": {
              "outlinewidth": 0,
              "ticks": ""
             }
            },
            "type": "scattergl"
           }
          ],
          "scattermapbox": [
           {
            "marker": {
             "colorbar": {
              "outlinewidth": 0,
              "ticks": ""
             }
            },
            "type": "scattermapbox"
           }
          ],
          "scatterpolar": [
           {
            "marker": {
             "colorbar": {
              "outlinewidth": 0,
              "ticks": ""
             }
            },
            "type": "scatterpolar"
           }
          ],
          "scatterpolargl": [
           {
            "marker": {
             "colorbar": {
              "outlinewidth": 0,
              "ticks": ""
             }
            },
            "type": "scatterpolargl"
           }
          ],
          "scatterternary": [
           {
            "marker": {
             "colorbar": {
              "outlinewidth": 0,
              "ticks": ""
             }
            },
            "type": "scatterternary"
           }
          ],
          "surface": [
           {
            "colorbar": {
             "outlinewidth": 0,
             "ticks": ""
            },
            "colorscale": [
             [
              0,
              "#0d0887"
             ],
             [
              0.1111111111111111,
              "#46039f"
             ],
             [
              0.2222222222222222,
              "#7201a8"
             ],
             [
              0.3333333333333333,
              "#9c179e"
             ],
             [
              0.4444444444444444,
              "#bd3786"
             ],
             [
              0.5555555555555556,
              "#d8576b"
             ],
             [
              0.6666666666666666,
              "#ed7953"
             ],
             [
              0.7777777777777778,
              "#fb9f3a"
             ],
             [
              0.8888888888888888,
              "#fdca26"
             ],
             [
              1,
              "#f0f921"
             ]
            ],
            "type": "surface"
           }
          ],
          "table": [
           {
            "cells": {
             "fill": {
              "color": "#EBF0F8"
             },
             "line": {
              "color": "white"
             }
            },
            "header": {
             "fill": {
              "color": "#C8D4E3"
             },
             "line": {
              "color": "white"
             }
            },
            "type": "table"
           }
          ]
         },
         "layout": {
          "annotationdefaults": {
           "arrowcolor": "#2a3f5f",
           "arrowhead": 0,
           "arrowwidth": 1
          },
          "autotypenumbers": "strict",
          "coloraxis": {
           "colorbar": {
            "outlinewidth": 0,
            "ticks": ""
           }
          },
          "colorscale": {
           "diverging": [
            [
             0,
             "#8e0152"
            ],
            [
             0.1,
             "#c51b7d"
            ],
            [
             0.2,
             "#de77ae"
            ],
            [
             0.3,
             "#f1b6da"
            ],
            [
             0.4,
             "#fde0ef"
            ],
            [
             0.5,
             "#f7f7f7"
            ],
            [
             0.6,
             "#e6f5d0"
            ],
            [
             0.7,
             "#b8e186"
            ],
            [
             0.8,
             "#7fbc41"
            ],
            [
             0.9,
             "#4d9221"
            ],
            [
             1,
             "#276419"
            ]
           ],
           "sequential": [
            [
             0,
             "#0d0887"
            ],
            [
             0.1111111111111111,
             "#46039f"
            ],
            [
             0.2222222222222222,
             "#7201a8"
            ],
            [
             0.3333333333333333,
             "#9c179e"
            ],
            [
             0.4444444444444444,
             "#bd3786"
            ],
            [
             0.5555555555555556,
             "#d8576b"
            ],
            [
             0.6666666666666666,
             "#ed7953"
            ],
            [
             0.7777777777777778,
             "#fb9f3a"
            ],
            [
             0.8888888888888888,
             "#fdca26"
            ],
            [
             1,
             "#f0f921"
            ]
           ],
           "sequentialminus": [
            [
             0,
             "#0d0887"
            ],
            [
             0.1111111111111111,
             "#46039f"
            ],
            [
             0.2222222222222222,
             "#7201a8"
            ],
            [
             0.3333333333333333,
             "#9c179e"
            ],
            [
             0.4444444444444444,
             "#bd3786"
            ],
            [
             0.5555555555555556,
             "#d8576b"
            ],
            [
             0.6666666666666666,
             "#ed7953"
            ],
            [
             0.7777777777777778,
             "#fb9f3a"
            ],
            [
             0.8888888888888888,
             "#fdca26"
            ],
            [
             1,
             "#f0f921"
            ]
           ]
          },
          "colorway": [
           "#636efa",
           "#EF553B",
           "#00cc96",
           "#ab63fa",
           "#FFA15A",
           "#19d3f3",
           "#FF6692",
           "#B6E880",
           "#FF97FF",
           "#FECB52"
          ],
          "font": {
           "color": "#2a3f5f"
          },
          "geo": {
           "bgcolor": "white",
           "lakecolor": "white",
           "landcolor": "#E5ECF6",
           "showlakes": true,
           "showland": true,
           "subunitcolor": "white"
          },
          "hoverlabel": {
           "align": "left"
          },
          "hovermode": "closest",
          "mapbox": {
           "style": "light"
          },
          "paper_bgcolor": "white",
          "plot_bgcolor": "#E5ECF6",
          "polar": {
           "angularaxis": {
            "gridcolor": "white",
            "linecolor": "white",
            "ticks": ""
           },
           "bgcolor": "#E5ECF6",
           "radialaxis": {
            "gridcolor": "white",
            "linecolor": "white",
            "ticks": ""
           }
          },
          "scene": {
           "xaxis": {
            "backgroundcolor": "#E5ECF6",
            "gridcolor": "white",
            "gridwidth": 2,
            "linecolor": "white",
            "showbackground": true,
            "ticks": "",
            "zerolinecolor": "white"
           },
           "yaxis": {
            "backgroundcolor": "#E5ECF6",
            "gridcolor": "white",
            "gridwidth": 2,
            "linecolor": "white",
            "showbackground": true,
            "ticks": "",
            "zerolinecolor": "white"
           },
           "zaxis": {
            "backgroundcolor": "#E5ECF6",
            "gridcolor": "white",
            "gridwidth": 2,
            "linecolor": "white",
            "showbackground": true,
            "ticks": "",
            "zerolinecolor": "white"
           }
          },
          "shapedefaults": {
           "line": {
            "color": "#2a3f5f"
           }
          },
          "ternary": {
           "aaxis": {
            "gridcolor": "white",
            "linecolor": "white",
            "ticks": ""
           },
           "baxis": {
            "gridcolor": "white",
            "linecolor": "white",
            "ticks": ""
           },
           "bgcolor": "#E5ECF6",
           "caxis": {
            "gridcolor": "white",
            "linecolor": "white",
            "ticks": ""
           }
          },
          "title": {
           "x": 0.05
          },
          "xaxis": {
           "automargin": true,
           "gridcolor": "white",
           "linecolor": "white",
           "ticks": "",
           "title": {
            "standoff": 15
           },
           "zerolinecolor": "white",
           "zerolinewidth": 2
          },
          "yaxis": {
           "automargin": true,
           "gridcolor": "white",
           "linecolor": "white",
           "ticks": "",
           "title": {
            "standoff": 15
           },
           "zerolinecolor": "white",
           "zerolinewidth": 2
          }
         }
        },
        "title": {
         "text": "Happiness Score compared to Freedom to Make Life Choices Score"
        },
        "width": 1000,
        "xaxis": {
         "anchor": "y",
         "domain": [
          0,
          1
         ],
         "range": [
          0,
          8
         ],
         "title": {
          "text": "Happiness Score"
         }
        },
        "yaxis": {
         "anchor": "x",
         "domain": [
          0,
          1
         ],
         "title": {
          "text": "Freedom to Make Life Choices Score"
         }
        }
       }
      },
      "text/html": [
       "<div>                            <div id=\"75b31fef-3a8b-4950-b17e-2a98c6595dbb\" class=\"plotly-graph-div\" style=\"height:600px; width:1000px;\"></div>            <script type=\"text/javascript\">                require([\"plotly\"], function(Plotly) {                    window.PLOTLYENV=window.PLOTLYENV || {};                                    if (document.getElementById(\"75b31fef-3a8b-4950-b17e-2a98c6595dbb\")) {                    Plotly.newPlot(                        \"75b31fef-3a8b-4950-b17e-2a98c6595dbb\",                        [{\"hovertemplate\": \"<b>%{hovertext}</b><br><br>Region=Europe<br>Score=%{x}<br>Freedom to make life choices=%{y}<extra></extra>\", \"hovertext\": [\"Finland\", \"Norway\", \"Denmark\", \"Iceland\", \"Switzerland\", \"Netherlands\", \"Sweden\", \"United Kingdom\", \"Austria\", \"Ireland\", \"Germany\", \"Belgium\", \"Luxembourg\", \"Czech Republic\", \"Malta\", \"France\", \"Spain\", \"Slovakia\", \"Poland\", \"Uzbekistan\", \"Italy\", \"Lithuania\", \"Slovenia\", \"Romania\", \"Latvia\", \"Russia\", \"Kazakhstan\", \"Cyprus\", \"Estonia\", \"Kosovo\", \"Moldova\", \"Turkmenistan\", \"Hungary\", \"Belarus\", \"Portugal\", \"Serbia\", \"Greece\", \"Montenegro\", \"Croatia\", \"Azerbaijan\", \"Tajikistan\", \"Macedonia\", \"Kyrgyzstan\", \"Bosnia and Herzegovina\", \"Bulgaria\", \"Albania\", \"Georgia\", \"Armenia\", \"Ukraine\"], \"legendgroup\": \"Europe\", \"marker\": {\"color\": \"#636efa\", \"line\": {\"color\": \"DarkSlateGrey\", \"width\": 1}, \"size\": 10, \"symbol\": \"circle\"}, \"mode\": \"markers\", \"name\": \"Europe\", \"orientation\": \"v\", \"showlegend\": true, \"type\": \"scatter\", \"x\": [7.632000000000001, 7.593999999999999, 7.555, 7.495, 7.487, 7.441, 7.314, 7.19, 7.138999999999999, 6.977, 6.965, 6.9270000000000005, 6.91, 6.711, 6.627000000000001, 6.489, 6.31, 6.172999999999999, 6.122999999999999, 6.096, 6.0, 5.952000000000001, 5.9479999999999995, 5.945, 5.933, 5.81, 5.79, 5.7620000000000005, 5.739, 5.662000000000001, 5.64, 5.636, 5.62, 5.483, 5.41, 5.398, 5.358, 5.347, 5.321000000000001, 5.2010000000000005, 5.199, 5.185, 5.131, 5.129, 4.933, 4.586, 4.34, 4.321000000000001, 4.103], \"xaxis\": \"x\", \"y\": [0.6809999999999999, 0.6859999999999999, 0.6829999999999999, 0.677, 0.66, 0.638, 0.659, 0.46399999999999997, 0.617, 0.614, 0.586, 0.583, 0.632, 0.5429999999999999, 0.645, 0.52, 0.449, 0.354, 0.546, 0.7240000000000001, 0.281, 0.35, 0.633, 0.528, 0.363, 0.39899999999999997, 0.45399999999999996, 0.423, 0.5529999999999999, 0.44799999999999995, 0.23199999999999998, 0.41700000000000004, 0.259, 0.307, 0.562, 0.28800000000000003, 0.131, 0.259, 0.38, 0.43, 0.292, 0.39399999999999996, 0.54, 0.28, 0.359, 0.419, 0.375, 0.26, 0.163], \"yaxis\": \"y\"}, {\"hovertemplate\": \"<b>%{hovertext}</b><br><br>Region=North America<br>Score=%{x}<br>Freedom to make life choices=%{y}<extra></extra>\", \"hovertext\": [\"Canada\", \"United States\"], \"legendgroup\": \"North America\", \"marker\": {\"color\": \"#EF553B\", \"line\": {\"color\": \"DarkSlateGrey\", \"width\": 1}, \"size\": 10, \"symbol\": \"circle\"}, \"mode\": \"markers\", \"name\": \"North America\", \"orientation\": \"v\", \"showlegend\": true, \"type\": \"scatter\", \"x\": [7.327999999999999, 6.886], \"xaxis\": \"x\", \"y\": [0.653, 0.547], \"yaxis\": \"y\"}, {\"hovertemplate\": \"<b>%{hovertext}</b><br><br>Region=Australia and New Zealand<br>Score=%{x}<br>Freedom to make life choices=%{y}<extra></extra>\", \"hovertext\": [\"New Zealand\", \"Australia\"], \"legendgroup\": \"Australia and New Zealand\", \"marker\": {\"color\": \"#00cc96\", \"line\": {\"color\": \"DarkSlateGrey\", \"width\": 1}, \"size\": 10, \"symbol\": \"circle\"}, \"mode\": \"markers\", \"name\": \"Australia and New Zealand\", \"orientation\": \"v\", \"showlegend\": true, \"type\": \"scatter\", \"x\": [7.324, 7.272], \"xaxis\": \"x\", \"y\": [0.669, 0.647], \"yaxis\": \"y\"}, {\"hovertemplate\": \"<b>%{hovertext}</b><br><br>Region=Latin America and Caribbean<br>Score=%{x}<br>Freedom to make life choices=%{y}<extra></extra>\", \"hovertext\": [\"Costa Rica\", \"Mexico\", \"Chile\", \"Panama\", \"Brazil\", \"Argentina\", \"Guatemala\", \"Uruguay\", \"Colombia\", \"El Salvador\", \"Nicaragua\", \"Ecuador\", \"Jamaica\", \"Bolivia\", \"Paraguay\", \"Peru\", \"Honduras\", \"Dominican Republic\", \"Venezuela\", \"Haiti\"], \"legendgroup\": \"Latin America and Caribbean\", \"marker\": {\"color\": \"#ab63fa\", \"line\": {\"color\": \"DarkSlateGrey\", \"width\": 1}, \"size\": 10, \"symbol\": \"circle\"}, \"mode\": \"markers\", \"name\": \"Latin America and Caribbean\", \"orientation\": \"v\", \"showlegend\": true, \"type\": \"scatter\", \"x\": [7.072, 6.4879999999999995, 6.476, 6.43, 6.419, 6.388, 6.382000000000001, 6.379, 6.26, 6.167000000000001, 6.141, 5.973, 5.89, 5.752000000000001, 5.681, 5.662999999999999, 5.504, 5.3020000000000005, 4.806, 3.582], \"xaxis\": \"x\", \"y\": [0.632, 0.479, 0.431, 0.597, 0.493, 0.57, 0.604, 0.625, 0.531, 0.461, 0.527, 0.556, 0.575, 0.606, 0.541, 0.53, 0.45899999999999996, 0.578, 0.133, 0.025], \"yaxis\": \"y\"}, {\"hovertemplate\": \"<b>%{hovertext}</b><br><br>Region=Middle East and Northern Africa<br>Score=%{x}<br>Freedom to make life choices=%{y}<extra></extra>\", \"hovertext\": [\"Israel\", \"United Arab Emirates\", \"Qatar\", \"Saudi Arabia\", \"Bahrain\", \"Kuwait\", \"Libya\", \"Turkey\", \"Lebanon\", \"Algeria\", \"Morocco\", \"Jordan\", \"Palestinian Territories\", \"Iran\", \"Tunisia\", \"Iraq\", \"Egypt\", \"Syria\", \"Yemen\"], \"legendgroup\": \"Middle East and Northern Africa\", \"marker\": {\"color\": \"#FFA15A\", \"line\": {\"color\": \"DarkSlateGrey\", \"width\": 1}, \"size\": 10, \"symbol\": \"circle\"}, \"mode\": \"markers\", \"name\": \"Middle East and Northern Africa\", \"orientation\": \"v\", \"showlegend\": true, \"type\": \"scatter\", \"x\": [6.814, 6.774, 6.374, 6.371, 6.105, 6.082999999999999, 5.566, 5.483, 5.358, 5.295, 5.254, 5.1610000000000005, 4.743, 4.707, 4.592, 4.456, 4.419, 3.4619999999999997, 3.355], \"xaxis\": \"x\", \"y\": [0.5329999999999999, 0.284, 0.654, 0.509, 0.594, 0.5539999999999999, 0.496, 0.324, 0.503, 0.077, 0.46, 0.46799999999999997, 0.266, 0.45899999999999996, 0.271, 0.304, 0.312, 0.08800000000000001, 0.244], \"yaxis\": \"y\"}, {\"hovertemplate\": \"<b>%{hovertext}</b><br><br>Region=Asia<br>Score=%{x}<br>Freedom to make life choices=%{y}<extra></extra>\", \"hovertext\": [\"Taiwan\", \"Singapore\", \"Malaysia\", \"Thailand\", \"Japan\", \"South Korea\", \"Philippines\", \"Pakistan\", \"Hong Kong\", \"China\", \"Mongolia\", \"Vietnam\", \"Indonesia\", \"Bhutan\", \"Nepal\", \"Laos\", \"Bangladesh\", \"Sri Lanka\", \"Cambodia\", \"Myanmar\", \"India\", \"Afghanistan\"], \"legendgroup\": \"Asia\", \"marker\": {\"color\": \"#19d3f3\", \"line\": {\"color\": \"DarkSlateGrey\", \"width\": 1}, \"size\": 10, \"symbol\": \"circle\"}, \"mode\": \"markers\", \"name\": \"Asia\", \"orientation\": \"v\", \"showlegend\": true, \"type\": \"scatter\", \"x\": [6.441, 6.343, 6.322, 6.072, 5.915, 5.875, 5.524, 5.472, 5.43, 5.246, 5.125, 5.103, 5.093, 5.082, 4.88, 4.623, 4.5, 4.471, 4.433, 4.308, 4.19, 3.6319999999999997], \"xaxis\": \"x\", \"y\": [0.418, 0.631, 0.35600000000000004, 0.637, 0.5529999999999999, 0.244, 0.643, 0.33399999999999996, 0.524, 0.597, 0.395, 0.618, 0.5379999999999999, 0.541, 0.526, 0.626, 0.58, 0.585, 0.696, 0.58, 0.539, 0.085], \"yaxis\": \"y\"}, {\"hovertemplate\": \"<b>%{hovertext}</b><br><br>Region=Sub-Saharan Africa<br>Score=%{x}<br>Freedom to make life choices=%{y}<extra></extra>\", \"hovertext\": [\"Mauritius\", \"Nigeria\", \"Cameroon\", \"Gabon\", \"South Africa\", \"Ivory Coast\", \"Ghana\", \"Senegal\", \"Sierra Leone\", \"Congo (Brazzaville)\", \"Mali\", \"Burkina Faso\", \"Mozambique\", \"Kenya\", \"Zambia\", \"Mauritania\", \"Ethiopia\", \"Chad\", \"Congo (Kinshasa)\", \"Niger\", \"Uganda\", \"Benin\", \"Sudan\", \"Togo\", \"Guinea\", \"Lesotho\", \"Angola\", \"Madagascar\", \"Zimbabwe\", \"Botswana\", \"Malawi\", \"Liberia\", \"Rwanda\", \"Tanzania\", \"Central African Republic\", \"Burundi\"], \"legendgroup\": \"Sub-Saharan Africa\", \"marker\": {\"color\": \"#FF6692\", \"line\": {\"color\": \"DarkSlateGrey\", \"width\": 1}, \"size\": 10, \"symbol\": \"circle\"}, \"mode\": \"markers\", \"name\": \"Sub-Saharan Africa\", \"orientation\": \"v\", \"showlegend\": true, \"type\": \"scatter\", \"x\": [5.891, 5.155, 4.975, 4.758, 4.724, 4.671, 4.657, 4.631, 4.571000000000001, 4.559, 4.447, 4.4239999999999995, 4.417, 4.41, 4.377, 4.356, 4.35, 4.301, 4.245, 4.166, 4.1610000000000005, 4.141, 4.138999999999999, 3.9989999999999997, 3.964, 3.8080000000000003, 3.795, 3.7739999999999996, 3.6919999999999997, 3.59, 3.5869999999999997, 3.495, 3.408, 3.303, 3.083, 2.905], \"xaxis\": \"x\", \"y\": [0.584, 0.462, 0.45399999999999996, 0.35600000000000004, 0.516, 0.467, 0.499, 0.406, 0.355, 0.514, 0.36700000000000005, 0.312, 0.531, 0.504, 0.503, 0.129, 0.452, 0.18899999999999997, 0.312, 0.39, 0.45, 0.44, 0.016, 0.434, 0.39399999999999996, 0.423, 0.0, 0.221, 0.406, 0.557, 0.531, 0.419, 0.636, 0.48100000000000004, 0.305, 0.065], \"yaxis\": \"y\"}],                        {\"height\": 600, \"legend\": {\"title\": {\"text\": \"Region\"}, \"tracegroupgap\": 0}, \"template\": {\"data\": {\"bar\": [{\"error_x\": {\"color\": \"#2a3f5f\"}, \"error_y\": {\"color\": \"#2a3f5f\"}, \"marker\": {\"line\": {\"color\": \"#E5ECF6\", \"width\": 0.5}}, \"type\": \"bar\"}], \"barpolar\": [{\"marker\": {\"line\": {\"color\": \"#E5ECF6\", \"width\": 0.5}}, \"type\": \"barpolar\"}], \"carpet\": [{\"aaxis\": {\"endlinecolor\": \"#2a3f5f\", \"gridcolor\": \"white\", \"linecolor\": \"white\", \"minorgridcolor\": \"white\", \"startlinecolor\": \"#2a3f5f\"}, \"baxis\": {\"endlinecolor\": \"#2a3f5f\", \"gridcolor\": \"white\", \"linecolor\": \"white\", \"minorgridcolor\": \"white\", \"startlinecolor\": \"#2a3f5f\"}, \"type\": \"carpet\"}], \"choropleth\": [{\"colorbar\": {\"outlinewidth\": 0, \"ticks\": \"\"}, \"type\": \"choropleth\"}], \"contour\": [{\"colorbar\": {\"outlinewidth\": 0, \"ticks\": \"\"}, \"colorscale\": [[0.0, \"#0d0887\"], [0.1111111111111111, \"#46039f\"], [0.2222222222222222, \"#7201a8\"], [0.3333333333333333, \"#9c179e\"], [0.4444444444444444, \"#bd3786\"], [0.5555555555555556, \"#d8576b\"], [0.6666666666666666, \"#ed7953\"], [0.7777777777777778, \"#fb9f3a\"], [0.8888888888888888, \"#fdca26\"], [1.0, \"#f0f921\"]], \"type\": \"contour\"}], \"contourcarpet\": [{\"colorbar\": {\"outlinewidth\": 0, \"ticks\": \"\"}, \"type\": \"contourcarpet\"}], \"heatmap\": [{\"colorbar\": {\"outlinewidth\": 0, \"ticks\": \"\"}, \"colorscale\": [[0.0, \"#0d0887\"], [0.1111111111111111, \"#46039f\"], [0.2222222222222222, \"#7201a8\"], [0.3333333333333333, \"#9c179e\"], [0.4444444444444444, \"#bd3786\"], [0.5555555555555556, \"#d8576b\"], [0.6666666666666666, \"#ed7953\"], [0.7777777777777778, \"#fb9f3a\"], [0.8888888888888888, \"#fdca26\"], [1.0, \"#f0f921\"]], \"type\": \"heatmap\"}], \"heatmapgl\": [{\"colorbar\": {\"outlinewidth\": 0, \"ticks\": \"\"}, \"colorscale\": [[0.0, \"#0d0887\"], [0.1111111111111111, \"#46039f\"], [0.2222222222222222, \"#7201a8\"], [0.3333333333333333, \"#9c179e\"], [0.4444444444444444, \"#bd3786\"], [0.5555555555555556, \"#d8576b\"], [0.6666666666666666, \"#ed7953\"], [0.7777777777777778, \"#fb9f3a\"], [0.8888888888888888, \"#fdca26\"], [1.0, \"#f0f921\"]], \"type\": \"heatmapgl\"}], \"histogram\": [{\"marker\": {\"colorbar\": {\"outlinewidth\": 0, \"ticks\": \"\"}}, \"type\": \"histogram\"}], \"histogram2d\": [{\"colorbar\": {\"outlinewidth\": 0, \"ticks\": \"\"}, \"colorscale\": [[0.0, \"#0d0887\"], [0.1111111111111111, \"#46039f\"], [0.2222222222222222, \"#7201a8\"], [0.3333333333333333, \"#9c179e\"], [0.4444444444444444, \"#bd3786\"], [0.5555555555555556, \"#d8576b\"], [0.6666666666666666, \"#ed7953\"], [0.7777777777777778, \"#fb9f3a\"], [0.8888888888888888, \"#fdca26\"], [1.0, \"#f0f921\"]], \"type\": \"histogram2d\"}], \"histogram2dcontour\": [{\"colorbar\": {\"outlinewidth\": 0, \"ticks\": \"\"}, \"colorscale\": [[0.0, \"#0d0887\"], [0.1111111111111111, \"#46039f\"], [0.2222222222222222, \"#7201a8\"], [0.3333333333333333, \"#9c179e\"], [0.4444444444444444, \"#bd3786\"], [0.5555555555555556, \"#d8576b\"], [0.6666666666666666, \"#ed7953\"], [0.7777777777777778, \"#fb9f3a\"], [0.8888888888888888, \"#fdca26\"], [1.0, \"#f0f921\"]], \"type\": \"histogram2dcontour\"}], \"mesh3d\": [{\"colorbar\": {\"outlinewidth\": 0, \"ticks\": \"\"}, \"type\": \"mesh3d\"}], \"parcoords\": [{\"line\": {\"colorbar\": {\"outlinewidth\": 0, \"ticks\": \"\"}}, \"type\": \"parcoords\"}], \"pie\": [{\"automargin\": true, \"type\": \"pie\"}], \"scatter\": [{\"marker\": {\"colorbar\": {\"outlinewidth\": 0, \"ticks\": \"\"}}, \"type\": \"scatter\"}], \"scatter3d\": [{\"line\": {\"colorbar\": {\"outlinewidth\": 0, \"ticks\": \"\"}}, \"marker\": {\"colorbar\": {\"outlinewidth\": 0, \"ticks\": \"\"}}, \"type\": \"scatter3d\"}], \"scattercarpet\": [{\"marker\": {\"colorbar\": {\"outlinewidth\": 0, \"ticks\": \"\"}}, \"type\": \"scattercarpet\"}], \"scattergeo\": [{\"marker\": {\"colorbar\": {\"outlinewidth\": 0, \"ticks\": \"\"}}, \"type\": \"scattergeo\"}], \"scattergl\": [{\"marker\": {\"colorbar\": {\"outlinewidth\": 0, \"ticks\": \"\"}}, \"type\": \"scattergl\"}], \"scattermapbox\": [{\"marker\": {\"colorbar\": {\"outlinewidth\": 0, \"ticks\": \"\"}}, \"type\": \"scattermapbox\"}], \"scatterpolar\": [{\"marker\": {\"colorbar\": {\"outlinewidth\": 0, \"ticks\": \"\"}}, \"type\": \"scatterpolar\"}], \"scatterpolargl\": [{\"marker\": {\"colorbar\": {\"outlinewidth\": 0, \"ticks\": \"\"}}, \"type\": \"scatterpolargl\"}], \"scatterternary\": [{\"marker\": {\"colorbar\": {\"outlinewidth\": 0, \"ticks\": \"\"}}, \"type\": \"scatterternary\"}], \"surface\": [{\"colorbar\": {\"outlinewidth\": 0, \"ticks\": \"\"}, \"colorscale\": [[0.0, \"#0d0887\"], [0.1111111111111111, \"#46039f\"], [0.2222222222222222, \"#7201a8\"], [0.3333333333333333, \"#9c179e\"], [0.4444444444444444, \"#bd3786\"], [0.5555555555555556, \"#d8576b\"], [0.6666666666666666, \"#ed7953\"], [0.7777777777777778, \"#fb9f3a\"], [0.8888888888888888, \"#fdca26\"], [1.0, \"#f0f921\"]], \"type\": \"surface\"}], \"table\": [{\"cells\": {\"fill\": {\"color\": \"#EBF0F8\"}, \"line\": {\"color\": \"white\"}}, \"header\": {\"fill\": {\"color\": \"#C8D4E3\"}, \"line\": {\"color\": \"white\"}}, \"type\": \"table\"}]}, \"layout\": {\"annotationdefaults\": {\"arrowcolor\": \"#2a3f5f\", \"arrowhead\": 0, \"arrowwidth\": 1}, \"autotypenumbers\": \"strict\", \"coloraxis\": {\"colorbar\": {\"outlinewidth\": 0, \"ticks\": \"\"}}, \"colorscale\": {\"diverging\": [[0, \"#8e0152\"], [0.1, \"#c51b7d\"], [0.2, \"#de77ae\"], [0.3, \"#f1b6da\"], [0.4, \"#fde0ef\"], [0.5, \"#f7f7f7\"], [0.6, \"#e6f5d0\"], [0.7, \"#b8e186\"], [0.8, \"#7fbc41\"], [0.9, \"#4d9221\"], [1, \"#276419\"]], \"sequential\": [[0.0, \"#0d0887\"], [0.1111111111111111, \"#46039f\"], [0.2222222222222222, \"#7201a8\"], [0.3333333333333333, \"#9c179e\"], [0.4444444444444444, \"#bd3786\"], [0.5555555555555556, \"#d8576b\"], [0.6666666666666666, \"#ed7953\"], [0.7777777777777778, \"#fb9f3a\"], [0.8888888888888888, \"#fdca26\"], [1.0, \"#f0f921\"]], \"sequentialminus\": [[0.0, \"#0d0887\"], [0.1111111111111111, \"#46039f\"], [0.2222222222222222, \"#7201a8\"], [0.3333333333333333, \"#9c179e\"], [0.4444444444444444, \"#bd3786\"], [0.5555555555555556, \"#d8576b\"], [0.6666666666666666, \"#ed7953\"], [0.7777777777777778, \"#fb9f3a\"], [0.8888888888888888, \"#fdca26\"], [1.0, \"#f0f921\"]]}, \"colorway\": [\"#636efa\", \"#EF553B\", \"#00cc96\", \"#ab63fa\", \"#FFA15A\", \"#19d3f3\", \"#FF6692\", \"#B6E880\", \"#FF97FF\", \"#FECB52\"], \"font\": {\"color\": \"#2a3f5f\"}, \"geo\": {\"bgcolor\": \"white\", \"lakecolor\": \"white\", \"landcolor\": \"#E5ECF6\", \"showlakes\": true, \"showland\": true, \"subunitcolor\": \"white\"}, \"hoverlabel\": {\"align\": \"left\"}, \"hovermode\": \"closest\", \"mapbox\": {\"style\": \"light\"}, \"paper_bgcolor\": \"white\", \"plot_bgcolor\": \"#E5ECF6\", \"polar\": {\"angularaxis\": {\"gridcolor\": \"white\", \"linecolor\": \"white\", \"ticks\": \"\"}, \"bgcolor\": \"#E5ECF6\", \"radialaxis\": {\"gridcolor\": \"white\", \"linecolor\": \"white\", \"ticks\": \"\"}}, \"scene\": {\"xaxis\": {\"backgroundcolor\": \"#E5ECF6\", \"gridcolor\": \"white\", \"gridwidth\": 2, \"linecolor\": \"white\", \"showbackground\": true, \"ticks\": \"\", \"zerolinecolor\": \"white\"}, \"yaxis\": {\"backgroundcolor\": \"#E5ECF6\", \"gridcolor\": \"white\", \"gridwidth\": 2, \"linecolor\": \"white\", \"showbackground\": true, \"ticks\": \"\", \"zerolinecolor\": \"white\"}, \"zaxis\": {\"backgroundcolor\": \"#E5ECF6\", \"gridcolor\": \"white\", \"gridwidth\": 2, \"linecolor\": \"white\", \"showbackground\": true, \"ticks\": \"\", \"zerolinecolor\": \"white\"}}, \"shapedefaults\": {\"line\": {\"color\": \"#2a3f5f\"}}, \"ternary\": {\"aaxis\": {\"gridcolor\": \"white\", \"linecolor\": \"white\", \"ticks\": \"\"}, \"baxis\": {\"gridcolor\": \"white\", \"linecolor\": \"white\", \"ticks\": \"\"}, \"bgcolor\": \"#E5ECF6\", \"caxis\": {\"gridcolor\": \"white\", \"linecolor\": \"white\", \"ticks\": \"\"}}, \"title\": {\"x\": 0.05}, \"xaxis\": {\"automargin\": true, \"gridcolor\": \"white\", \"linecolor\": \"white\", \"ticks\": \"\", \"title\": {\"standoff\": 15}, \"zerolinecolor\": \"white\", \"zerolinewidth\": 2}, \"yaxis\": {\"automargin\": true, \"gridcolor\": \"white\", \"linecolor\": \"white\", \"ticks\": \"\", \"title\": {\"standoff\": 15}, \"zerolinecolor\": \"white\", \"zerolinewidth\": 2}}}, \"title\": {\"text\": \"Happiness Score compared to Freedom to Make Life Choices Score\"}, \"width\": 1000, \"xaxis\": {\"anchor\": \"y\", \"domain\": [0.0, 1.0], \"range\": [0, 8], \"title\": {\"text\": \"Happiness Score\"}}, \"yaxis\": {\"anchor\": \"x\", \"domain\": [0.0, 1.0], \"title\": {\"text\": \"Freedom to Make Life Choices Score\"}}},                        {\"responsive\": true}                    ).then(function(){\n",
       "                            \n",
       "var gd = document.getElementById('75b31fef-3a8b-4950-b17e-2a98c6595dbb');\n",
       "var x = new MutationObserver(function (mutations, observer) {{\n",
       "        var display = window.getComputedStyle(gd).display;\n",
       "        if (!display || display === 'none') {{\n",
       "            console.log([gd, 'removed!']);\n",
       "            Plotly.purge(gd);\n",
       "            observer.disconnect();\n",
       "        }}\n",
       "}});\n",
       "\n",
       "// Listen for the removal of the full notebook cells\n",
       "var notebookContainer = gd.closest('#notebook-container');\n",
       "if (notebookContainer) {{\n",
       "    x.observe(notebookContainer, {childList: true});\n",
       "}}\n",
       "\n",
       "// Listen for the clearing of the current output cell\n",
       "var outputEl = gd.closest('.output');\n",
       "if (outputEl) {{\n",
       "    x.observe(outputEl, {childList: true});\n",
       "}}\n",
       "\n",
       "                        })                };                });            </script>        </div>"
      ]
     },
     "metadata": {},
     "output_type": "display_data"
    }
   ],
   "source": [
    "#happiness score vs freedom to make life choices\n",
    "\n",
    "#establish x and y values\n",
    "x_values = merged_2018[\"Score\"]\n",
    "y_values = merged_2018[\"Freedom to make life choices\"]\n",
    "\n",
    "#px.scatter\n",
    "fig = px.scatter(merged_2018, x_values, y_values, color=\"Region\", hover_name=\"Country or region\",\n",
    "                range_x=[0,8], title=\"Happiness Score compared to Freedom to Make Life Choices Score\",\n",
    "                width= 1000, height =600) # use trendline=\"ols\" to see all lin reg equations\n",
    "\n",
    "#set axes labels\n",
    "fig.update_xaxes(title_text='Happiness Score')\n",
    "fig.update_yaxes(title_text='Freedom to Make Life Choices Score')\n",
    "\n",
    "\n",
    "#formatting\n",
    "#marker size and colors\n",
    "fig.update_traces(marker=dict(size=10,\n",
    "                              line=dict(width=1, \n",
    "                                        color='DarkSlateGrey')))\n",
    "\n",
    "#linear regression\n",
    "#use linregress from dependencies to inplement linear regression\n",
    "(slope, intercept, rvalue, pvalue, stderr) = linregress(x_values, y_values)\n",
    "regress_values = x_values * slope + intercept\n",
    "\n",
    "#print out all variables calculated above (rvalue, pvalue...)\n",
    "print(f\"slope:{round(slope, 2)}\")\n",
    "print(f\"intercept:{round(intercept,2)}\")\n",
    "res = sts.linregress(x_values, y_values)\n",
    "print(f\"R-squared: {res.rvalue**2:.4f}\")\n",
    "\n",
    "\n",
    "#print out line eq for reference\n",
    "line_eq = (f\"y={round(slope, 2)}x + {round(intercept, 2)}\")\n",
    "print(line_eq)\n",
    "\n",
    "fig.show()"
   ]
  },
  {
   "cell_type": "code",
   "execution_count": 17,
   "metadata": {},
   "outputs": [
    {
     "name": "stdout",
     "output_type": "stream",
     "text": [
      "slope:0.01\n",
      "intercept:0.11\n",
      "R-squared: 0.0194\n",
      "y=0.01x + 0.11\n"
     ]
    },
    {
     "data": {
      "application/vnd.plotly.v1+json": {
       "config": {
        "plotlyServerURL": "https://plot.ly"
       },
       "data": [
        {
         "hovertemplate": "<b>%{hovertext}</b><br><br>Region=Europe<br>Score=%{x}<br>Generosity=%{y}<extra></extra>",
         "hovertext": [
          "Finland",
          "Norway",
          "Denmark",
          "Iceland",
          "Switzerland",
          "Netherlands",
          "Sweden",
          "United Kingdom",
          "Austria",
          "Ireland",
          "Germany",
          "Belgium",
          "Luxembourg",
          "Czech Republic",
          "Malta",
          "France",
          "Spain",
          "Slovakia",
          "Poland",
          "Uzbekistan",
          "Italy",
          "Lithuania",
          "Slovenia",
          "Romania",
          "Latvia",
          "Russia",
          "Kazakhstan",
          "Cyprus",
          "Estonia",
          "Kosovo",
          "Moldova",
          "Turkmenistan",
          "Hungary",
          "Belarus",
          "Portugal",
          "Serbia",
          "Greece",
          "Montenegro",
          "Croatia",
          "Azerbaijan",
          "Tajikistan",
          "Macedonia",
          "Kyrgyzstan",
          "Bosnia and Herzegovina",
          "Bulgaria",
          "Albania",
          "Georgia",
          "Armenia",
          "Ukraine"
         ],
         "legendgroup": "Europe",
         "marker": {
          "color": "#636efa",
          "line": {
           "color": "DarkSlateGrey",
           "width": 1
          },
          "size": 10,
          "symbol": "circle"
         },
         "mode": "markers",
         "name": "Europe",
         "orientation": "v",
         "showlegend": true,
         "type": "scatter",
         "x": [
          7.632000000000001,
          7.593999999999999,
          7.555,
          7.495,
          7.487,
          7.441,
          7.314,
          7.19,
          7.138999999999999,
          6.977,
          6.965,
          6.9270000000000005,
          6.91,
          6.711,
          6.627000000000001,
          6.489,
          6.31,
          6.172999999999999,
          6.122999999999999,
          6.096,
          6,
          5.952000000000001,
          5.9479999999999995,
          5.945,
          5.933,
          5.81,
          5.79,
          5.7620000000000005,
          5.739,
          5.662000000000001,
          5.64,
          5.636,
          5.62,
          5.483,
          5.41,
          5.398,
          5.358,
          5.347,
          5.321000000000001,
          5.2010000000000005,
          5.199,
          5.185,
          5.131,
          5.129,
          4.933,
          4.586,
          4.34,
          4.321000000000001,
          4.103
         ],
         "xaxis": "x",
         "y": [
          0.20199999999999999,
          0.28600000000000003,
          0.284,
          0.353,
          0.256,
          0.33299999999999996,
          0.285,
          0.262,
          0.242,
          0.307,
          0.273,
          0.188,
          0.196,
          0.064,
          0.376,
          0.098,
          0.142,
          0.11800000000000001,
          0.10800000000000001,
          0.32799999999999996,
          0.13699999999999998,
          0.026000000000000002,
          0.16,
          0.08800000000000001,
          0.092,
          0.065,
          0.14800000000000002,
          0.20199999999999999,
          0.086,
          0.27399999999999997,
          0.171,
          0.19899999999999998,
          0.061,
          0.10099999999999999,
          0.055,
          0.134,
          0,
          0.111,
          0.12,
          0.031,
          0.187,
          0.17300000000000001,
          0.281,
          0.21600000000000003,
          0.064,
          0.149,
          0.038,
          0.077,
          0.187
         ],
         "yaxis": "y"
        },
        {
         "hovertemplate": "<b>%{hovertext}</b><br><br>Region=North America<br>Score=%{x}<br>Generosity=%{y}<extra></extra>",
         "hovertext": [
          "Canada",
          "United States"
         ],
         "legendgroup": "North America",
         "marker": {
          "color": "#EF553B",
          "line": {
           "color": "DarkSlateGrey",
           "width": 1
          },
          "size": 10,
          "symbol": "circle"
         },
         "mode": "markers",
         "name": "North America",
         "orientation": "v",
         "showlegend": true,
         "type": "scatter",
         "x": [
          7.327999999999999,
          6.886
         ],
         "xaxis": "x",
         "y": [
          0.321,
          0.29100000000000004
         ],
         "yaxis": "y"
        },
        {
         "hovertemplate": "<b>%{hovertext}</b><br><br>Region=Australia and New Zealand<br>Score=%{x}<br>Generosity=%{y}<extra></extra>",
         "hovertext": [
          "New Zealand",
          "Australia"
         ],
         "legendgroup": "Australia and New Zealand",
         "marker": {
          "color": "#00cc96",
          "line": {
           "color": "DarkSlateGrey",
           "width": 1
          },
          "size": 10,
          "symbol": "circle"
         },
         "mode": "markers",
         "name": "Australia and New Zealand",
         "orientation": "v",
         "showlegend": true,
         "type": "scatter",
         "x": [
          7.324,
          7.272
         ],
         "xaxis": "x",
         "y": [
          0.365,
          0.361
         ],
         "yaxis": "y"
        },
        {
         "hovertemplate": "<b>%{hovertext}</b><br><br>Region=Latin America and Caribbean<br>Score=%{x}<br>Generosity=%{y}<extra></extra>",
         "hovertext": [
          "Costa Rica",
          "Mexico",
          "Chile",
          "Panama",
          "Brazil",
          "Argentina",
          "Guatemala",
          "Uruguay",
          "Colombia",
          "El Salvador",
          "Nicaragua",
          "Ecuador",
          "Jamaica",
          "Bolivia",
          "Paraguay",
          "Peru",
          "Honduras",
          "Dominican Republic",
          "Venezuela",
          "Haiti"
         ],
         "legendgroup": "Latin America and Caribbean",
         "marker": {
          "color": "#ab63fa",
          "line": {
           "color": "DarkSlateGrey",
           "width": 1
          },
          "size": 10,
          "symbol": "circle"
         },
         "mode": "markers",
         "name": "Latin America and Caribbean",
         "orientation": "v",
         "showlegend": true,
         "type": "scatter",
         "x": [
          7.072,
          6.4879999999999995,
          6.476,
          6.43,
          6.419,
          6.388,
          6.382000000000001,
          6.379,
          6.26,
          6.167000000000001,
          6.141,
          5.973,
          5.89,
          5.752000000000001,
          5.681,
          5.662999999999999,
          5.504,
          5.3020000000000005,
          4.806,
          3.582
         ],
         "xaxis": "x",
         "y": [
          0.14300000000000002,
          0.069,
          0.19699999999999998,
          0.125,
          0.11,
          0.062,
          0.179,
          0.13,
          0.099,
          0.065,
          0.20800000000000002,
          0.114,
          0.096,
          0.141,
          0.162,
          0.092,
          0.19699999999999998,
          0.12,
          0.055999999999999994,
          0.392
         ],
         "yaxis": "y"
        },
        {
         "hovertemplate": "<b>%{hovertext}</b><br><br>Region=Middle East and Northern Africa<br>Score=%{x}<br>Generosity=%{y}<extra></extra>",
         "hovertext": [
          "Israel",
          "United Arab Emirates",
          "Qatar",
          "Saudi Arabia",
          "Bahrain",
          "Kuwait",
          "Libya",
          "Turkey",
          "Lebanon",
          "Algeria",
          "Morocco",
          "Jordan",
          "Palestinian Territories",
          "Iran",
          "Tunisia",
          "Iraq",
          "Egypt",
          "Syria",
          "Yemen"
         ],
         "legendgroup": "Middle East and Northern Africa",
         "marker": {
          "color": "#FFA15A",
          "line": {
           "color": "DarkSlateGrey",
           "width": 1
          },
          "size": 10,
          "symbol": "circle"
         },
         "mode": "markers",
         "name": "Middle East and Northern Africa",
         "orientation": "v",
         "showlegend": true,
         "type": "scatter",
         "x": [
          6.814,
          6.774,
          6.374,
          6.371,
          6.105,
          6.082999999999999,
          5.566,
          5.483,
          5.358,
          5.295,
          5.254,
          5.1610000000000005,
          4.743,
          4.707,
          4.592,
          4.456,
          4.419,
          3.4619999999999997,
          3.355
         ],
         "xaxis": "x",
         "y": [
          0.354,
          0.18600000000000003,
          0.256,
          0.098,
          0.243,
          0.16699999999999998,
          0.11599999999999999,
          0.106,
          0.214,
          0.055,
          0.026000000000000002,
          0.13,
          0.086,
          0.282,
          0.04,
          0.14800000000000002,
          0.092,
          0.376,
          0.083
         ],
         "yaxis": "y"
        },
        {
         "hovertemplate": "<b>%{hovertext}</b><br><br>Region=Asia<br>Score=%{x}<br>Generosity=%{y}<extra></extra>",
         "hovertext": [
          "Taiwan",
          "Singapore",
          "Malaysia",
          "Thailand",
          "Japan",
          "South Korea",
          "Philippines",
          "Pakistan",
          "Hong Kong",
          "China",
          "Mongolia",
          "Vietnam",
          "Indonesia",
          "Bhutan",
          "Nepal",
          "Laos",
          "Bangladesh",
          "Sri Lanka",
          "Cambodia",
          "Myanmar",
          "India",
          "Afghanistan"
         ],
         "legendgroup": "Asia",
         "marker": {
          "color": "#19d3f3",
          "line": {
           "color": "DarkSlateGrey",
           "width": 1
          },
          "size": 10,
          "symbol": "circle"
         },
         "mode": "markers",
         "name": "Asia",
         "orientation": "v",
         "showlegend": true,
         "type": "scatter",
         "x": [
          6.441,
          6.343,
          6.322,
          6.072,
          5.915,
          5.875,
          5.524,
          5.472,
          5.43,
          5.246,
          5.125,
          5.103,
          5.093,
          5.082,
          4.88,
          4.623,
          4.5,
          4.471,
          4.433,
          4.308,
          4.19,
          3.6319999999999997
         ],
         "xaxis": "x",
         "y": [
          0.151,
          0.261,
          0.311,
          0.364,
          0.079,
          0.175,
          0.12,
          0.21600000000000003,
          0.24600000000000002,
          0.028999999999999998,
          0.253,
          0.177,
          0.484,
          0.364,
          0.302,
          0.23,
          0.153,
          0.307,
          0.256,
          0.598,
          0.172,
          0.191
         ],
         "yaxis": "y"
        },
        {
         "hovertemplate": "<b>%{hovertext}</b><br><br>Region=Sub-Saharan Africa<br>Score=%{x}<br>Generosity=%{y}<extra></extra>",
         "hovertext": [
          "Mauritius",
          "Nigeria",
          "Cameroon",
          "Gabon",
          "South Africa",
          "Ivory Coast",
          "Ghana",
          "Senegal",
          "Sierra Leone",
          "Congo (Brazzaville)",
          "Mali",
          "Burkina Faso",
          "Mozambique",
          "Kenya",
          "Zambia",
          "Mauritania",
          "Ethiopia",
          "Chad",
          "Congo (Kinshasa)",
          "Niger",
          "Uganda",
          "Benin",
          "Sudan",
          "Togo",
          "Guinea",
          "Lesotho",
          "Angola",
          "Madagascar",
          "Zimbabwe",
          "Botswana",
          "Malawi",
          "Liberia",
          "Rwanda",
          "Tanzania",
          "Central African Republic",
          "Burundi"
         ],
         "legendgroup": "Sub-Saharan Africa",
         "marker": {
          "color": "#FF6692",
          "line": {
           "color": "DarkSlateGrey",
           "width": 1
          },
          "size": 10,
          "symbol": "circle"
         },
         "mode": "markers",
         "name": "Sub-Saharan Africa",
         "orientation": "v",
         "showlegend": true,
         "type": "scatter",
         "x": [
          5.891,
          5.155,
          4.975,
          4.758,
          4.724,
          4.671,
          4.657,
          4.631,
          4.571000000000001,
          4.559,
          4.447,
          4.4239999999999995,
          4.417,
          4.41,
          4.377,
          4.356,
          4.35,
          4.301,
          4.245,
          4.166,
          4.1610000000000005,
          4.141,
          4.138999999999999,
          3.9989999999999997,
          3.964,
          3.8080000000000003,
          3.795,
          3.7739999999999996,
          3.6919999999999997,
          3.59,
          3.5869999999999997,
          3.495,
          3.408,
          3.303,
          3.083,
          2.905
         ],
         "xaxis": "x",
         "y": [
          0.245,
          0.201,
          0.183,
          0.032,
          0.10300000000000001,
          0.146,
          0.212,
          0.138,
          0.23800000000000002,
          0.091,
          0.139,
          0.175,
          0.20600000000000002,
          0.35200000000000004,
          0.221,
          0.134,
          0.22,
          0.18100000000000002,
          0.19699999999999998,
          0.175,
          0.259,
          0.163,
          0.134,
          0.158,
          0.185,
          0.11599999999999999,
          0.079,
          0.155,
          0.132,
          0.042,
          0.21,
          0.20600000000000002,
          0.2,
          0.27,
          0.218,
          0.149
         ],
         "yaxis": "y"
        }
       ],
       "layout": {
        "height": 600,
        "legend": {
         "title": {
          "text": "Region"
         },
         "tracegroupgap": 0
        },
        "template": {
         "data": {
          "bar": [
           {
            "error_x": {
             "color": "#2a3f5f"
            },
            "error_y": {
             "color": "#2a3f5f"
            },
            "marker": {
             "line": {
              "color": "#E5ECF6",
              "width": 0.5
             }
            },
            "type": "bar"
           }
          ],
          "barpolar": [
           {
            "marker": {
             "line": {
              "color": "#E5ECF6",
              "width": 0.5
             }
            },
            "type": "barpolar"
           }
          ],
          "carpet": [
           {
            "aaxis": {
             "endlinecolor": "#2a3f5f",
             "gridcolor": "white",
             "linecolor": "white",
             "minorgridcolor": "white",
             "startlinecolor": "#2a3f5f"
            },
            "baxis": {
             "endlinecolor": "#2a3f5f",
             "gridcolor": "white",
             "linecolor": "white",
             "minorgridcolor": "white",
             "startlinecolor": "#2a3f5f"
            },
            "type": "carpet"
           }
          ],
          "choropleth": [
           {
            "colorbar": {
             "outlinewidth": 0,
             "ticks": ""
            },
            "type": "choropleth"
           }
          ],
          "contour": [
           {
            "colorbar": {
             "outlinewidth": 0,
             "ticks": ""
            },
            "colorscale": [
             [
              0,
              "#0d0887"
             ],
             [
              0.1111111111111111,
              "#46039f"
             ],
             [
              0.2222222222222222,
              "#7201a8"
             ],
             [
              0.3333333333333333,
              "#9c179e"
             ],
             [
              0.4444444444444444,
              "#bd3786"
             ],
             [
              0.5555555555555556,
              "#d8576b"
             ],
             [
              0.6666666666666666,
              "#ed7953"
             ],
             [
              0.7777777777777778,
              "#fb9f3a"
             ],
             [
              0.8888888888888888,
              "#fdca26"
             ],
             [
              1,
              "#f0f921"
             ]
            ],
            "type": "contour"
           }
          ],
          "contourcarpet": [
           {
            "colorbar": {
             "outlinewidth": 0,
             "ticks": ""
            },
            "type": "contourcarpet"
           }
          ],
          "heatmap": [
           {
            "colorbar": {
             "outlinewidth": 0,
             "ticks": ""
            },
            "colorscale": [
             [
              0,
              "#0d0887"
             ],
             [
              0.1111111111111111,
              "#46039f"
             ],
             [
              0.2222222222222222,
              "#7201a8"
             ],
             [
              0.3333333333333333,
              "#9c179e"
             ],
             [
              0.4444444444444444,
              "#bd3786"
             ],
             [
              0.5555555555555556,
              "#d8576b"
             ],
             [
              0.6666666666666666,
              "#ed7953"
             ],
             [
              0.7777777777777778,
              "#fb9f3a"
             ],
             [
              0.8888888888888888,
              "#fdca26"
             ],
             [
              1,
              "#f0f921"
             ]
            ],
            "type": "heatmap"
           }
          ],
          "heatmapgl": [
           {
            "colorbar": {
             "outlinewidth": 0,
             "ticks": ""
            },
            "colorscale": [
             [
              0,
              "#0d0887"
             ],
             [
              0.1111111111111111,
              "#46039f"
             ],
             [
              0.2222222222222222,
              "#7201a8"
             ],
             [
              0.3333333333333333,
              "#9c179e"
             ],
             [
              0.4444444444444444,
              "#bd3786"
             ],
             [
              0.5555555555555556,
              "#d8576b"
             ],
             [
              0.6666666666666666,
              "#ed7953"
             ],
             [
              0.7777777777777778,
              "#fb9f3a"
             ],
             [
              0.8888888888888888,
              "#fdca26"
             ],
             [
              1,
              "#f0f921"
             ]
            ],
            "type": "heatmapgl"
           }
          ],
          "histogram": [
           {
            "marker": {
             "colorbar": {
              "outlinewidth": 0,
              "ticks": ""
             }
            },
            "type": "histogram"
           }
          ],
          "histogram2d": [
           {
            "colorbar": {
             "outlinewidth": 0,
             "ticks": ""
            },
            "colorscale": [
             [
              0,
              "#0d0887"
             ],
             [
              0.1111111111111111,
              "#46039f"
             ],
             [
              0.2222222222222222,
              "#7201a8"
             ],
             [
              0.3333333333333333,
              "#9c179e"
             ],
             [
              0.4444444444444444,
              "#bd3786"
             ],
             [
              0.5555555555555556,
              "#d8576b"
             ],
             [
              0.6666666666666666,
              "#ed7953"
             ],
             [
              0.7777777777777778,
              "#fb9f3a"
             ],
             [
              0.8888888888888888,
              "#fdca26"
             ],
             [
              1,
              "#f0f921"
             ]
            ],
            "type": "histogram2d"
           }
          ],
          "histogram2dcontour": [
           {
            "colorbar": {
             "outlinewidth": 0,
             "ticks": ""
            },
            "colorscale": [
             [
              0,
              "#0d0887"
             ],
             [
              0.1111111111111111,
              "#46039f"
             ],
             [
              0.2222222222222222,
              "#7201a8"
             ],
             [
              0.3333333333333333,
              "#9c179e"
             ],
             [
              0.4444444444444444,
              "#bd3786"
             ],
             [
              0.5555555555555556,
              "#d8576b"
             ],
             [
              0.6666666666666666,
              "#ed7953"
             ],
             [
              0.7777777777777778,
              "#fb9f3a"
             ],
             [
              0.8888888888888888,
              "#fdca26"
             ],
             [
              1,
              "#f0f921"
             ]
            ],
            "type": "histogram2dcontour"
           }
          ],
          "mesh3d": [
           {
            "colorbar": {
             "outlinewidth": 0,
             "ticks": ""
            },
            "type": "mesh3d"
           }
          ],
          "parcoords": [
           {
            "line": {
             "colorbar": {
              "outlinewidth": 0,
              "ticks": ""
             }
            },
            "type": "parcoords"
           }
          ],
          "pie": [
           {
            "automargin": true,
            "type": "pie"
           }
          ],
          "scatter": [
           {
            "marker": {
             "colorbar": {
              "outlinewidth": 0,
              "ticks": ""
             }
            },
            "type": "scatter"
           }
          ],
          "scatter3d": [
           {
            "line": {
             "colorbar": {
              "outlinewidth": 0,
              "ticks": ""
             }
            },
            "marker": {
             "colorbar": {
              "outlinewidth": 0,
              "ticks": ""
             }
            },
            "type": "scatter3d"
           }
          ],
          "scattercarpet": [
           {
            "marker": {
             "colorbar": {
              "outlinewidth": 0,
              "ticks": ""
             }
            },
            "type": "scattercarpet"
           }
          ],
          "scattergeo": [
           {
            "marker": {
             "colorbar": {
              "outlinewidth": 0,
              "ticks": ""
             }
            },
            "type": "scattergeo"
           }
          ],
          "scattergl": [
           {
            "marker": {
             "colorbar": {
              "outlinewidth": 0,
              "ticks": ""
             }
            },
            "type": "scattergl"
           }
          ],
          "scattermapbox": [
           {
            "marker": {
             "colorbar": {
              "outlinewidth": 0,
              "ticks": ""
             }
            },
            "type": "scattermapbox"
           }
          ],
          "scatterpolar": [
           {
            "marker": {
             "colorbar": {
              "outlinewidth": 0,
              "ticks": ""
             }
            },
            "type": "scatterpolar"
           }
          ],
          "scatterpolargl": [
           {
            "marker": {
             "colorbar": {
              "outlinewidth": 0,
              "ticks": ""
             }
            },
            "type": "scatterpolargl"
           }
          ],
          "scatterternary": [
           {
            "marker": {
             "colorbar": {
              "outlinewidth": 0,
              "ticks": ""
             }
            },
            "type": "scatterternary"
           }
          ],
          "surface": [
           {
            "colorbar": {
             "outlinewidth": 0,
             "ticks": ""
            },
            "colorscale": [
             [
              0,
              "#0d0887"
             ],
             [
              0.1111111111111111,
              "#46039f"
             ],
             [
              0.2222222222222222,
              "#7201a8"
             ],
             [
              0.3333333333333333,
              "#9c179e"
             ],
             [
              0.4444444444444444,
              "#bd3786"
             ],
             [
              0.5555555555555556,
              "#d8576b"
             ],
             [
              0.6666666666666666,
              "#ed7953"
             ],
             [
              0.7777777777777778,
              "#fb9f3a"
             ],
             [
              0.8888888888888888,
              "#fdca26"
             ],
             [
              1,
              "#f0f921"
             ]
            ],
            "type": "surface"
           }
          ],
          "table": [
           {
            "cells": {
             "fill": {
              "color": "#EBF0F8"
             },
             "line": {
              "color": "white"
             }
            },
            "header": {
             "fill": {
              "color": "#C8D4E3"
             },
             "line": {
              "color": "white"
             }
            },
            "type": "table"
           }
          ]
         },
         "layout": {
          "annotationdefaults": {
           "arrowcolor": "#2a3f5f",
           "arrowhead": 0,
           "arrowwidth": 1
          },
          "autotypenumbers": "strict",
          "coloraxis": {
           "colorbar": {
            "outlinewidth": 0,
            "ticks": ""
           }
          },
          "colorscale": {
           "diverging": [
            [
             0,
             "#8e0152"
            ],
            [
             0.1,
             "#c51b7d"
            ],
            [
             0.2,
             "#de77ae"
            ],
            [
             0.3,
             "#f1b6da"
            ],
            [
             0.4,
             "#fde0ef"
            ],
            [
             0.5,
             "#f7f7f7"
            ],
            [
             0.6,
             "#e6f5d0"
            ],
            [
             0.7,
             "#b8e186"
            ],
            [
             0.8,
             "#7fbc41"
            ],
            [
             0.9,
             "#4d9221"
            ],
            [
             1,
             "#276419"
            ]
           ],
           "sequential": [
            [
             0,
             "#0d0887"
            ],
            [
             0.1111111111111111,
             "#46039f"
            ],
            [
             0.2222222222222222,
             "#7201a8"
            ],
            [
             0.3333333333333333,
             "#9c179e"
            ],
            [
             0.4444444444444444,
             "#bd3786"
            ],
            [
             0.5555555555555556,
             "#d8576b"
            ],
            [
             0.6666666666666666,
             "#ed7953"
            ],
            [
             0.7777777777777778,
             "#fb9f3a"
            ],
            [
             0.8888888888888888,
             "#fdca26"
            ],
            [
             1,
             "#f0f921"
            ]
           ],
           "sequentialminus": [
            [
             0,
             "#0d0887"
            ],
            [
             0.1111111111111111,
             "#46039f"
            ],
            [
             0.2222222222222222,
             "#7201a8"
            ],
            [
             0.3333333333333333,
             "#9c179e"
            ],
            [
             0.4444444444444444,
             "#bd3786"
            ],
            [
             0.5555555555555556,
             "#d8576b"
            ],
            [
             0.6666666666666666,
             "#ed7953"
            ],
            [
             0.7777777777777778,
             "#fb9f3a"
            ],
            [
             0.8888888888888888,
             "#fdca26"
            ],
            [
             1,
             "#f0f921"
            ]
           ]
          },
          "colorway": [
           "#636efa",
           "#EF553B",
           "#00cc96",
           "#ab63fa",
           "#FFA15A",
           "#19d3f3",
           "#FF6692",
           "#B6E880",
           "#FF97FF",
           "#FECB52"
          ],
          "font": {
           "color": "#2a3f5f"
          },
          "geo": {
           "bgcolor": "white",
           "lakecolor": "white",
           "landcolor": "#E5ECF6",
           "showlakes": true,
           "showland": true,
           "subunitcolor": "white"
          },
          "hoverlabel": {
           "align": "left"
          },
          "hovermode": "closest",
          "mapbox": {
           "style": "light"
          },
          "paper_bgcolor": "white",
          "plot_bgcolor": "#E5ECF6",
          "polar": {
           "angularaxis": {
            "gridcolor": "white",
            "linecolor": "white",
            "ticks": ""
           },
           "bgcolor": "#E5ECF6",
           "radialaxis": {
            "gridcolor": "white",
            "linecolor": "white",
            "ticks": ""
           }
          },
          "scene": {
           "xaxis": {
            "backgroundcolor": "#E5ECF6",
            "gridcolor": "white",
            "gridwidth": 2,
            "linecolor": "white",
            "showbackground": true,
            "ticks": "",
            "zerolinecolor": "white"
           },
           "yaxis": {
            "backgroundcolor": "#E5ECF6",
            "gridcolor": "white",
            "gridwidth": 2,
            "linecolor": "white",
            "showbackground": true,
            "ticks": "",
            "zerolinecolor": "white"
           },
           "zaxis": {
            "backgroundcolor": "#E5ECF6",
            "gridcolor": "white",
            "gridwidth": 2,
            "linecolor": "white",
            "showbackground": true,
            "ticks": "",
            "zerolinecolor": "white"
           }
          },
          "shapedefaults": {
           "line": {
            "color": "#2a3f5f"
           }
          },
          "ternary": {
           "aaxis": {
            "gridcolor": "white",
            "linecolor": "white",
            "ticks": ""
           },
           "baxis": {
            "gridcolor": "white",
            "linecolor": "white",
            "ticks": ""
           },
           "bgcolor": "#E5ECF6",
           "caxis": {
            "gridcolor": "white",
            "linecolor": "white",
            "ticks": ""
           }
          },
          "title": {
           "x": 0.05
          },
          "xaxis": {
           "automargin": true,
           "gridcolor": "white",
           "linecolor": "white",
           "ticks": "",
           "title": {
            "standoff": 15
           },
           "zerolinecolor": "white",
           "zerolinewidth": 2
          },
          "yaxis": {
           "automargin": true,
           "gridcolor": "white",
           "linecolor": "white",
           "ticks": "",
           "title": {
            "standoff": 15
           },
           "zerolinecolor": "white",
           "zerolinewidth": 2
          }
         }
        },
        "title": {
         "text": "Happiness Score compared to Generosity Score"
        },
        "width": 1000,
        "xaxis": {
         "anchor": "y",
         "domain": [
          0,
          1
         ],
         "range": [
          0,
          8
         ],
         "title": {
          "text": "Happiness Score"
         }
        },
        "yaxis": {
         "anchor": "x",
         "domain": [
          0,
          1
         ],
         "title": {
          "text": "Generosity Score"
         }
        }
       }
      },
      "text/html": [
       "<div>                            <div id=\"6f044986-ea20-463a-a326-2e61551dc187\" class=\"plotly-graph-div\" style=\"height:600px; width:1000px;\"></div>            <script type=\"text/javascript\">                require([\"plotly\"], function(Plotly) {                    window.PLOTLYENV=window.PLOTLYENV || {};                                    if (document.getElementById(\"6f044986-ea20-463a-a326-2e61551dc187\")) {                    Plotly.newPlot(                        \"6f044986-ea20-463a-a326-2e61551dc187\",                        [{\"hovertemplate\": \"<b>%{hovertext}</b><br><br>Region=Europe<br>Score=%{x}<br>Generosity=%{y}<extra></extra>\", \"hovertext\": [\"Finland\", \"Norway\", \"Denmark\", \"Iceland\", \"Switzerland\", \"Netherlands\", \"Sweden\", \"United Kingdom\", \"Austria\", \"Ireland\", \"Germany\", \"Belgium\", \"Luxembourg\", \"Czech Republic\", \"Malta\", \"France\", \"Spain\", \"Slovakia\", \"Poland\", \"Uzbekistan\", \"Italy\", \"Lithuania\", \"Slovenia\", \"Romania\", \"Latvia\", \"Russia\", \"Kazakhstan\", \"Cyprus\", \"Estonia\", \"Kosovo\", \"Moldova\", \"Turkmenistan\", \"Hungary\", \"Belarus\", \"Portugal\", \"Serbia\", \"Greece\", \"Montenegro\", \"Croatia\", \"Azerbaijan\", \"Tajikistan\", \"Macedonia\", \"Kyrgyzstan\", \"Bosnia and Herzegovina\", \"Bulgaria\", \"Albania\", \"Georgia\", \"Armenia\", \"Ukraine\"], \"legendgroup\": \"Europe\", \"marker\": {\"color\": \"#636efa\", \"line\": {\"color\": \"DarkSlateGrey\", \"width\": 1}, \"size\": 10, \"symbol\": \"circle\"}, \"mode\": \"markers\", \"name\": \"Europe\", \"orientation\": \"v\", \"showlegend\": true, \"type\": \"scatter\", \"x\": [7.632000000000001, 7.593999999999999, 7.555, 7.495, 7.487, 7.441, 7.314, 7.19, 7.138999999999999, 6.977, 6.965, 6.9270000000000005, 6.91, 6.711, 6.627000000000001, 6.489, 6.31, 6.172999999999999, 6.122999999999999, 6.096, 6.0, 5.952000000000001, 5.9479999999999995, 5.945, 5.933, 5.81, 5.79, 5.7620000000000005, 5.739, 5.662000000000001, 5.64, 5.636, 5.62, 5.483, 5.41, 5.398, 5.358, 5.347, 5.321000000000001, 5.2010000000000005, 5.199, 5.185, 5.131, 5.129, 4.933, 4.586, 4.34, 4.321000000000001, 4.103], \"xaxis\": \"x\", \"y\": [0.20199999999999999, 0.28600000000000003, 0.284, 0.353, 0.256, 0.33299999999999996, 0.285, 0.262, 0.242, 0.307, 0.273, 0.188, 0.196, 0.064, 0.376, 0.098, 0.142, 0.11800000000000001, 0.10800000000000001, 0.32799999999999996, 0.13699999999999998, 0.026000000000000002, 0.16, 0.08800000000000001, 0.092, 0.065, 0.14800000000000002, 0.20199999999999999, 0.086, 0.27399999999999997, 0.171, 0.19899999999999998, 0.061, 0.10099999999999999, 0.055, 0.134, 0.0, 0.111, 0.12, 0.031, 0.187, 0.17300000000000001, 0.281, 0.21600000000000003, 0.064, 0.149, 0.038, 0.077, 0.187], \"yaxis\": \"y\"}, {\"hovertemplate\": \"<b>%{hovertext}</b><br><br>Region=North America<br>Score=%{x}<br>Generosity=%{y}<extra></extra>\", \"hovertext\": [\"Canada\", \"United States\"], \"legendgroup\": \"North America\", \"marker\": {\"color\": \"#EF553B\", \"line\": {\"color\": \"DarkSlateGrey\", \"width\": 1}, \"size\": 10, \"symbol\": \"circle\"}, \"mode\": \"markers\", \"name\": \"North America\", \"orientation\": \"v\", \"showlegend\": true, \"type\": \"scatter\", \"x\": [7.327999999999999, 6.886], \"xaxis\": \"x\", \"y\": [0.321, 0.29100000000000004], \"yaxis\": \"y\"}, {\"hovertemplate\": \"<b>%{hovertext}</b><br><br>Region=Australia and New Zealand<br>Score=%{x}<br>Generosity=%{y}<extra></extra>\", \"hovertext\": [\"New Zealand\", \"Australia\"], \"legendgroup\": \"Australia and New Zealand\", \"marker\": {\"color\": \"#00cc96\", \"line\": {\"color\": \"DarkSlateGrey\", \"width\": 1}, \"size\": 10, \"symbol\": \"circle\"}, \"mode\": \"markers\", \"name\": \"Australia and New Zealand\", \"orientation\": \"v\", \"showlegend\": true, \"type\": \"scatter\", \"x\": [7.324, 7.272], \"xaxis\": \"x\", \"y\": [0.365, 0.361], \"yaxis\": \"y\"}, {\"hovertemplate\": \"<b>%{hovertext}</b><br><br>Region=Latin America and Caribbean<br>Score=%{x}<br>Generosity=%{y}<extra></extra>\", \"hovertext\": [\"Costa Rica\", \"Mexico\", \"Chile\", \"Panama\", \"Brazil\", \"Argentina\", \"Guatemala\", \"Uruguay\", \"Colombia\", \"El Salvador\", \"Nicaragua\", \"Ecuador\", \"Jamaica\", \"Bolivia\", \"Paraguay\", \"Peru\", \"Honduras\", \"Dominican Republic\", \"Venezuela\", \"Haiti\"], \"legendgroup\": \"Latin America and Caribbean\", \"marker\": {\"color\": \"#ab63fa\", \"line\": {\"color\": \"DarkSlateGrey\", \"width\": 1}, \"size\": 10, \"symbol\": \"circle\"}, \"mode\": \"markers\", \"name\": \"Latin America and Caribbean\", \"orientation\": \"v\", \"showlegend\": true, \"type\": \"scatter\", \"x\": [7.072, 6.4879999999999995, 6.476, 6.43, 6.419, 6.388, 6.382000000000001, 6.379, 6.26, 6.167000000000001, 6.141, 5.973, 5.89, 5.752000000000001, 5.681, 5.662999999999999, 5.504, 5.3020000000000005, 4.806, 3.582], \"xaxis\": \"x\", \"y\": [0.14300000000000002, 0.069, 0.19699999999999998, 0.125, 0.11, 0.062, 0.179, 0.13, 0.099, 0.065, 0.20800000000000002, 0.114, 0.096, 0.141, 0.162, 0.092, 0.19699999999999998, 0.12, 0.055999999999999994, 0.392], \"yaxis\": \"y\"}, {\"hovertemplate\": \"<b>%{hovertext}</b><br><br>Region=Middle East and Northern Africa<br>Score=%{x}<br>Generosity=%{y}<extra></extra>\", \"hovertext\": [\"Israel\", \"United Arab Emirates\", \"Qatar\", \"Saudi Arabia\", \"Bahrain\", \"Kuwait\", \"Libya\", \"Turkey\", \"Lebanon\", \"Algeria\", \"Morocco\", \"Jordan\", \"Palestinian Territories\", \"Iran\", \"Tunisia\", \"Iraq\", \"Egypt\", \"Syria\", \"Yemen\"], \"legendgroup\": \"Middle East and Northern Africa\", \"marker\": {\"color\": \"#FFA15A\", \"line\": {\"color\": \"DarkSlateGrey\", \"width\": 1}, \"size\": 10, \"symbol\": \"circle\"}, \"mode\": \"markers\", \"name\": \"Middle East and Northern Africa\", \"orientation\": \"v\", \"showlegend\": true, \"type\": \"scatter\", \"x\": [6.814, 6.774, 6.374, 6.371, 6.105, 6.082999999999999, 5.566, 5.483, 5.358, 5.295, 5.254, 5.1610000000000005, 4.743, 4.707, 4.592, 4.456, 4.419, 3.4619999999999997, 3.355], \"xaxis\": \"x\", \"y\": [0.354, 0.18600000000000003, 0.256, 0.098, 0.243, 0.16699999999999998, 0.11599999999999999, 0.106, 0.214, 0.055, 0.026000000000000002, 0.13, 0.086, 0.282, 0.04, 0.14800000000000002, 0.092, 0.376, 0.083], \"yaxis\": \"y\"}, {\"hovertemplate\": \"<b>%{hovertext}</b><br><br>Region=Asia<br>Score=%{x}<br>Generosity=%{y}<extra></extra>\", \"hovertext\": [\"Taiwan\", \"Singapore\", \"Malaysia\", \"Thailand\", \"Japan\", \"South Korea\", \"Philippines\", \"Pakistan\", \"Hong Kong\", \"China\", \"Mongolia\", \"Vietnam\", \"Indonesia\", \"Bhutan\", \"Nepal\", \"Laos\", \"Bangladesh\", \"Sri Lanka\", \"Cambodia\", \"Myanmar\", \"India\", \"Afghanistan\"], \"legendgroup\": \"Asia\", \"marker\": {\"color\": \"#19d3f3\", \"line\": {\"color\": \"DarkSlateGrey\", \"width\": 1}, \"size\": 10, \"symbol\": \"circle\"}, \"mode\": \"markers\", \"name\": \"Asia\", \"orientation\": \"v\", \"showlegend\": true, \"type\": \"scatter\", \"x\": [6.441, 6.343, 6.322, 6.072, 5.915, 5.875, 5.524, 5.472, 5.43, 5.246, 5.125, 5.103, 5.093, 5.082, 4.88, 4.623, 4.5, 4.471, 4.433, 4.308, 4.19, 3.6319999999999997], \"xaxis\": \"x\", \"y\": [0.151, 0.261, 0.311, 0.364, 0.079, 0.175, 0.12, 0.21600000000000003, 0.24600000000000002, 0.028999999999999998, 0.253, 0.177, 0.484, 0.364, 0.302, 0.23, 0.153, 0.307, 0.256, 0.598, 0.172, 0.191], \"yaxis\": \"y\"}, {\"hovertemplate\": \"<b>%{hovertext}</b><br><br>Region=Sub-Saharan Africa<br>Score=%{x}<br>Generosity=%{y}<extra></extra>\", \"hovertext\": [\"Mauritius\", \"Nigeria\", \"Cameroon\", \"Gabon\", \"South Africa\", \"Ivory Coast\", \"Ghana\", \"Senegal\", \"Sierra Leone\", \"Congo (Brazzaville)\", \"Mali\", \"Burkina Faso\", \"Mozambique\", \"Kenya\", \"Zambia\", \"Mauritania\", \"Ethiopia\", \"Chad\", \"Congo (Kinshasa)\", \"Niger\", \"Uganda\", \"Benin\", \"Sudan\", \"Togo\", \"Guinea\", \"Lesotho\", \"Angola\", \"Madagascar\", \"Zimbabwe\", \"Botswana\", \"Malawi\", \"Liberia\", \"Rwanda\", \"Tanzania\", \"Central African Republic\", \"Burundi\"], \"legendgroup\": \"Sub-Saharan Africa\", \"marker\": {\"color\": \"#FF6692\", \"line\": {\"color\": \"DarkSlateGrey\", \"width\": 1}, \"size\": 10, \"symbol\": \"circle\"}, \"mode\": \"markers\", \"name\": \"Sub-Saharan Africa\", \"orientation\": \"v\", \"showlegend\": true, \"type\": \"scatter\", \"x\": [5.891, 5.155, 4.975, 4.758, 4.724, 4.671, 4.657, 4.631, 4.571000000000001, 4.559, 4.447, 4.4239999999999995, 4.417, 4.41, 4.377, 4.356, 4.35, 4.301, 4.245, 4.166, 4.1610000000000005, 4.141, 4.138999999999999, 3.9989999999999997, 3.964, 3.8080000000000003, 3.795, 3.7739999999999996, 3.6919999999999997, 3.59, 3.5869999999999997, 3.495, 3.408, 3.303, 3.083, 2.905], \"xaxis\": \"x\", \"y\": [0.245, 0.201, 0.183, 0.032, 0.10300000000000001, 0.146, 0.212, 0.138, 0.23800000000000002, 0.091, 0.139, 0.175, 0.20600000000000002, 0.35200000000000004, 0.221, 0.134, 0.22, 0.18100000000000002, 0.19699999999999998, 0.175, 0.259, 0.163, 0.134, 0.158, 0.185, 0.11599999999999999, 0.079, 0.155, 0.132, 0.042, 0.21, 0.20600000000000002, 0.2, 0.27, 0.218, 0.149], \"yaxis\": \"y\"}],                        {\"height\": 600, \"legend\": {\"title\": {\"text\": \"Region\"}, \"tracegroupgap\": 0}, \"template\": {\"data\": {\"bar\": [{\"error_x\": {\"color\": \"#2a3f5f\"}, \"error_y\": {\"color\": \"#2a3f5f\"}, \"marker\": {\"line\": {\"color\": \"#E5ECF6\", \"width\": 0.5}}, \"type\": \"bar\"}], \"barpolar\": [{\"marker\": {\"line\": {\"color\": \"#E5ECF6\", \"width\": 0.5}}, \"type\": \"barpolar\"}], \"carpet\": [{\"aaxis\": {\"endlinecolor\": \"#2a3f5f\", \"gridcolor\": \"white\", \"linecolor\": \"white\", \"minorgridcolor\": \"white\", \"startlinecolor\": \"#2a3f5f\"}, \"baxis\": {\"endlinecolor\": \"#2a3f5f\", \"gridcolor\": \"white\", \"linecolor\": \"white\", \"minorgridcolor\": \"white\", \"startlinecolor\": \"#2a3f5f\"}, \"type\": \"carpet\"}], \"choropleth\": [{\"colorbar\": {\"outlinewidth\": 0, \"ticks\": \"\"}, \"type\": \"choropleth\"}], \"contour\": [{\"colorbar\": {\"outlinewidth\": 0, \"ticks\": \"\"}, \"colorscale\": [[0.0, \"#0d0887\"], [0.1111111111111111, \"#46039f\"], [0.2222222222222222, \"#7201a8\"], [0.3333333333333333, \"#9c179e\"], [0.4444444444444444, \"#bd3786\"], [0.5555555555555556, \"#d8576b\"], [0.6666666666666666, \"#ed7953\"], [0.7777777777777778, \"#fb9f3a\"], [0.8888888888888888, \"#fdca26\"], [1.0, \"#f0f921\"]], \"type\": \"contour\"}], \"contourcarpet\": [{\"colorbar\": {\"outlinewidth\": 0, \"ticks\": \"\"}, \"type\": \"contourcarpet\"}], \"heatmap\": [{\"colorbar\": {\"outlinewidth\": 0, \"ticks\": \"\"}, \"colorscale\": [[0.0, \"#0d0887\"], [0.1111111111111111, \"#46039f\"], [0.2222222222222222, \"#7201a8\"], [0.3333333333333333, \"#9c179e\"], [0.4444444444444444, \"#bd3786\"], [0.5555555555555556, \"#d8576b\"], [0.6666666666666666, \"#ed7953\"], [0.7777777777777778, \"#fb9f3a\"], [0.8888888888888888, \"#fdca26\"], [1.0, \"#f0f921\"]], \"type\": \"heatmap\"}], \"heatmapgl\": [{\"colorbar\": {\"outlinewidth\": 0, \"ticks\": \"\"}, \"colorscale\": [[0.0, \"#0d0887\"], [0.1111111111111111, \"#46039f\"], [0.2222222222222222, \"#7201a8\"], [0.3333333333333333, \"#9c179e\"], [0.4444444444444444, \"#bd3786\"], [0.5555555555555556, \"#d8576b\"], [0.6666666666666666, \"#ed7953\"], [0.7777777777777778, \"#fb9f3a\"], [0.8888888888888888, \"#fdca26\"], [1.0, \"#f0f921\"]], \"type\": \"heatmapgl\"}], \"histogram\": [{\"marker\": {\"colorbar\": {\"outlinewidth\": 0, \"ticks\": \"\"}}, \"type\": \"histogram\"}], \"histogram2d\": [{\"colorbar\": {\"outlinewidth\": 0, \"ticks\": \"\"}, \"colorscale\": [[0.0, \"#0d0887\"], [0.1111111111111111, \"#46039f\"], [0.2222222222222222, \"#7201a8\"], [0.3333333333333333, \"#9c179e\"], [0.4444444444444444, \"#bd3786\"], [0.5555555555555556, \"#d8576b\"], [0.6666666666666666, \"#ed7953\"], [0.7777777777777778, \"#fb9f3a\"], [0.8888888888888888, \"#fdca26\"], [1.0, \"#f0f921\"]], \"type\": \"histogram2d\"}], \"histogram2dcontour\": [{\"colorbar\": {\"outlinewidth\": 0, \"ticks\": \"\"}, \"colorscale\": [[0.0, \"#0d0887\"], [0.1111111111111111, \"#46039f\"], [0.2222222222222222, \"#7201a8\"], [0.3333333333333333, \"#9c179e\"], [0.4444444444444444, \"#bd3786\"], [0.5555555555555556, \"#d8576b\"], [0.6666666666666666, \"#ed7953\"], [0.7777777777777778, \"#fb9f3a\"], [0.8888888888888888, \"#fdca26\"], [1.0, \"#f0f921\"]], \"type\": \"histogram2dcontour\"}], \"mesh3d\": [{\"colorbar\": {\"outlinewidth\": 0, \"ticks\": \"\"}, \"type\": \"mesh3d\"}], \"parcoords\": [{\"line\": {\"colorbar\": {\"outlinewidth\": 0, \"ticks\": \"\"}}, \"type\": \"parcoords\"}], \"pie\": [{\"automargin\": true, \"type\": \"pie\"}], \"scatter\": [{\"marker\": {\"colorbar\": {\"outlinewidth\": 0, \"ticks\": \"\"}}, \"type\": \"scatter\"}], \"scatter3d\": [{\"line\": {\"colorbar\": {\"outlinewidth\": 0, \"ticks\": \"\"}}, \"marker\": {\"colorbar\": {\"outlinewidth\": 0, \"ticks\": \"\"}}, \"type\": \"scatter3d\"}], \"scattercarpet\": [{\"marker\": {\"colorbar\": {\"outlinewidth\": 0, \"ticks\": \"\"}}, \"type\": \"scattercarpet\"}], \"scattergeo\": [{\"marker\": {\"colorbar\": {\"outlinewidth\": 0, \"ticks\": \"\"}}, \"type\": \"scattergeo\"}], \"scattergl\": [{\"marker\": {\"colorbar\": {\"outlinewidth\": 0, \"ticks\": \"\"}}, \"type\": \"scattergl\"}], \"scattermapbox\": [{\"marker\": {\"colorbar\": {\"outlinewidth\": 0, \"ticks\": \"\"}}, \"type\": \"scattermapbox\"}], \"scatterpolar\": [{\"marker\": {\"colorbar\": {\"outlinewidth\": 0, \"ticks\": \"\"}}, \"type\": \"scatterpolar\"}], \"scatterpolargl\": [{\"marker\": {\"colorbar\": {\"outlinewidth\": 0, \"ticks\": \"\"}}, \"type\": \"scatterpolargl\"}], \"scatterternary\": [{\"marker\": {\"colorbar\": {\"outlinewidth\": 0, \"ticks\": \"\"}}, \"type\": \"scatterternary\"}], \"surface\": [{\"colorbar\": {\"outlinewidth\": 0, \"ticks\": \"\"}, \"colorscale\": [[0.0, \"#0d0887\"], [0.1111111111111111, \"#46039f\"], [0.2222222222222222, \"#7201a8\"], [0.3333333333333333, \"#9c179e\"], [0.4444444444444444, \"#bd3786\"], [0.5555555555555556, \"#d8576b\"], [0.6666666666666666, \"#ed7953\"], [0.7777777777777778, \"#fb9f3a\"], [0.8888888888888888, \"#fdca26\"], [1.0, \"#f0f921\"]], \"type\": \"surface\"}], \"table\": [{\"cells\": {\"fill\": {\"color\": \"#EBF0F8\"}, \"line\": {\"color\": \"white\"}}, \"header\": {\"fill\": {\"color\": \"#C8D4E3\"}, \"line\": {\"color\": \"white\"}}, \"type\": \"table\"}]}, \"layout\": {\"annotationdefaults\": {\"arrowcolor\": \"#2a3f5f\", \"arrowhead\": 0, \"arrowwidth\": 1}, \"autotypenumbers\": \"strict\", \"coloraxis\": {\"colorbar\": {\"outlinewidth\": 0, \"ticks\": \"\"}}, \"colorscale\": {\"diverging\": [[0, \"#8e0152\"], [0.1, \"#c51b7d\"], [0.2, \"#de77ae\"], [0.3, \"#f1b6da\"], [0.4, \"#fde0ef\"], [0.5, \"#f7f7f7\"], [0.6, \"#e6f5d0\"], [0.7, \"#b8e186\"], [0.8, \"#7fbc41\"], [0.9, \"#4d9221\"], [1, \"#276419\"]], \"sequential\": [[0.0, \"#0d0887\"], [0.1111111111111111, \"#46039f\"], [0.2222222222222222, \"#7201a8\"], [0.3333333333333333, \"#9c179e\"], [0.4444444444444444, \"#bd3786\"], [0.5555555555555556, \"#d8576b\"], [0.6666666666666666, \"#ed7953\"], [0.7777777777777778, \"#fb9f3a\"], [0.8888888888888888, \"#fdca26\"], [1.0, \"#f0f921\"]], \"sequentialminus\": [[0.0, \"#0d0887\"], [0.1111111111111111, \"#46039f\"], [0.2222222222222222, \"#7201a8\"], [0.3333333333333333, \"#9c179e\"], [0.4444444444444444, \"#bd3786\"], [0.5555555555555556, \"#d8576b\"], [0.6666666666666666, \"#ed7953\"], [0.7777777777777778, \"#fb9f3a\"], [0.8888888888888888, \"#fdca26\"], [1.0, \"#f0f921\"]]}, \"colorway\": [\"#636efa\", \"#EF553B\", \"#00cc96\", \"#ab63fa\", \"#FFA15A\", \"#19d3f3\", \"#FF6692\", \"#B6E880\", \"#FF97FF\", \"#FECB52\"], \"font\": {\"color\": \"#2a3f5f\"}, \"geo\": {\"bgcolor\": \"white\", \"lakecolor\": \"white\", \"landcolor\": \"#E5ECF6\", \"showlakes\": true, \"showland\": true, \"subunitcolor\": \"white\"}, \"hoverlabel\": {\"align\": \"left\"}, \"hovermode\": \"closest\", \"mapbox\": {\"style\": \"light\"}, \"paper_bgcolor\": \"white\", \"plot_bgcolor\": \"#E5ECF6\", \"polar\": {\"angularaxis\": {\"gridcolor\": \"white\", \"linecolor\": \"white\", \"ticks\": \"\"}, \"bgcolor\": \"#E5ECF6\", \"radialaxis\": {\"gridcolor\": \"white\", \"linecolor\": \"white\", \"ticks\": \"\"}}, \"scene\": {\"xaxis\": {\"backgroundcolor\": \"#E5ECF6\", \"gridcolor\": \"white\", \"gridwidth\": 2, \"linecolor\": \"white\", \"showbackground\": true, \"ticks\": \"\", \"zerolinecolor\": \"white\"}, \"yaxis\": {\"backgroundcolor\": \"#E5ECF6\", \"gridcolor\": \"white\", \"gridwidth\": 2, \"linecolor\": \"white\", \"showbackground\": true, \"ticks\": \"\", \"zerolinecolor\": \"white\"}, \"zaxis\": {\"backgroundcolor\": \"#E5ECF6\", \"gridcolor\": \"white\", \"gridwidth\": 2, \"linecolor\": \"white\", \"showbackground\": true, \"ticks\": \"\", \"zerolinecolor\": \"white\"}}, \"shapedefaults\": {\"line\": {\"color\": \"#2a3f5f\"}}, \"ternary\": {\"aaxis\": {\"gridcolor\": \"white\", \"linecolor\": \"white\", \"ticks\": \"\"}, \"baxis\": {\"gridcolor\": \"white\", \"linecolor\": \"white\", \"ticks\": \"\"}, \"bgcolor\": \"#E5ECF6\", \"caxis\": {\"gridcolor\": \"white\", \"linecolor\": \"white\", \"ticks\": \"\"}}, \"title\": {\"x\": 0.05}, \"xaxis\": {\"automargin\": true, \"gridcolor\": \"white\", \"linecolor\": \"white\", \"ticks\": \"\", \"title\": {\"standoff\": 15}, \"zerolinecolor\": \"white\", \"zerolinewidth\": 2}, \"yaxis\": {\"automargin\": true, \"gridcolor\": \"white\", \"linecolor\": \"white\", \"ticks\": \"\", \"title\": {\"standoff\": 15}, \"zerolinecolor\": \"white\", \"zerolinewidth\": 2}}}, \"title\": {\"text\": \"Happiness Score compared to Generosity Score\"}, \"width\": 1000, \"xaxis\": {\"anchor\": \"y\", \"domain\": [0.0, 1.0], \"range\": [0, 8], \"title\": {\"text\": \"Happiness Score\"}}, \"yaxis\": {\"anchor\": \"x\", \"domain\": [0.0, 1.0], \"title\": {\"text\": \"Generosity Score\"}}},                        {\"responsive\": true}                    ).then(function(){\n",
       "                            \n",
       "var gd = document.getElementById('6f044986-ea20-463a-a326-2e61551dc187');\n",
       "var x = new MutationObserver(function (mutations, observer) {{\n",
       "        var display = window.getComputedStyle(gd).display;\n",
       "        if (!display || display === 'none') {{\n",
       "            console.log([gd, 'removed!']);\n",
       "            Plotly.purge(gd);\n",
       "            observer.disconnect();\n",
       "        }}\n",
       "}});\n",
       "\n",
       "// Listen for the removal of the full notebook cells\n",
       "var notebookContainer = gd.closest('#notebook-container');\n",
       "if (notebookContainer) {{\n",
       "    x.observe(notebookContainer, {childList: true});\n",
       "}}\n",
       "\n",
       "// Listen for the clearing of the current output cell\n",
       "var outputEl = gd.closest('.output');\n",
       "if (outputEl) {{\n",
       "    x.observe(outputEl, {childList: true});\n",
       "}}\n",
       "\n",
       "                        })                };                });            </script>        </div>"
      ]
     },
     "metadata": {},
     "output_type": "display_data"
    }
   ],
   "source": [
    "#happiness score vs generosity\n",
    "\n",
    "#establish x and y values\n",
    "x_values = merged_2018[\"Score\"]\n",
    "y_values = merged_2018[\"Generosity\"]\n",
    "\n",
    "#px.scatter\n",
    "fig = px.scatter(merged_2018, x_values, y_values, color=\"Region\", hover_name=\"Country or region\",\n",
    "                range_x=[0,8], title=\"Happiness Score compared to Generosity Score\",\n",
    "                width= 1000, height =600) # use trendline=\"ols\" to see all lin reg equations\n",
    "\n",
    "#set axes labels\n",
    "fig.update_xaxes(title_text='Happiness Score')\n",
    "fig.update_yaxes(title_text='Generosity Score')\n",
    "\n",
    "\n",
    "#formatting\n",
    "#marker size and colors\n",
    "fig.update_traces(marker=dict(size=10,\n",
    "                              line=dict(width=1, \n",
    "                                        color='DarkSlateGrey')))\n",
    "\n",
    "#linear regression\n",
    "#use linregress from dependencies to inplement linear regression\n",
    "(slope, intercept, rvalue, pvalue, stderr) = linregress(x_values, y_values)\n",
    "regress_values = x_values * slope + intercept\n",
    "\n",
    "#print out all variables calculated above (rvalue, pvalue...)\n",
    "print(f\"slope:{round(slope, 2)}\")\n",
    "print(f\"intercept:{round(intercept,2)}\")\n",
    "res = sts.linregress(x_values, y_values)\n",
    "print(f\"R-squared: {res.rvalue**2:.4f}\")\n",
    "\n",
    "\n",
    "#print out line eq for reference\n",
    "line_eq = (f\"y={round(slope, 2)}x + {round(intercept, 2)}\")\n",
    "print(line_eq)\n",
    "\n",
    "fig.show()"
   ]
  },
  {
   "cell_type": "code",
   "execution_count": 18,
   "metadata": {},
   "outputs": [
    {
     "name": "stdout",
     "output_type": "stream",
     "text": [
      "slope:0.04\n",
      "intercept:-0.09\n",
      "R-squared: nan\n",
      "y=0.04x + -0.09\n"
     ]
    },
    {
     "data": {
      "application/vnd.plotly.v1+json": {
       "config": {
        "plotlyServerURL": "https://plot.ly"
       },
       "data": [
        {
         "hovertemplate": "<b>%{hovertext}</b><br><br>Region=Europe<br>Score=%{x}<br>Perceptions of corruption=%{y}<extra></extra>",
         "hovertext": [
          "Finland",
          "Norway",
          "Denmark",
          "Iceland",
          "Switzerland",
          "Netherlands",
          "Sweden",
          "United Kingdom",
          "Austria",
          "Ireland",
          "Germany",
          "Belgium",
          "Luxembourg",
          "Czech Republic",
          "Malta",
          "France",
          "Spain",
          "Slovakia",
          "Poland",
          "Uzbekistan",
          "Italy",
          "Lithuania",
          "Slovenia",
          "Romania",
          "Latvia",
          "Russia",
          "Kazakhstan",
          "Cyprus",
          "Estonia",
          "Kosovo",
          "Moldova",
          "Turkmenistan",
          "Hungary",
          "Belarus",
          "Portugal",
          "Serbia",
          "Greece",
          "Montenegro",
          "Croatia",
          "Azerbaijan",
          "Tajikistan",
          "Macedonia",
          "Kyrgyzstan",
          "Bosnia and Herzegovina",
          "Bulgaria",
          "Albania",
          "Georgia",
          "Armenia",
          "Ukraine"
         ],
         "legendgroup": "Europe",
         "marker": {
          "color": "#636efa",
          "line": {
           "color": "DarkSlateGrey",
           "width": 1
          },
          "size": 10,
          "symbol": "circle"
         },
         "mode": "markers",
         "name": "Europe",
         "orientation": "v",
         "showlegend": true,
         "type": "scatter",
         "x": [
          7.632000000000001,
          7.593999999999999,
          7.555,
          7.495,
          7.487,
          7.441,
          7.314,
          7.19,
          7.138999999999999,
          6.977,
          6.965,
          6.9270000000000005,
          6.91,
          6.711,
          6.627000000000001,
          6.489,
          6.31,
          6.172999999999999,
          6.122999999999999,
          6.096,
          6,
          5.952000000000001,
          5.9479999999999995,
          5.945,
          5.933,
          5.81,
          5.79,
          5.7620000000000005,
          5.739,
          5.662000000000001,
          5.64,
          5.636,
          5.62,
          5.483,
          5.41,
          5.398,
          5.358,
          5.347,
          5.321000000000001,
          5.2010000000000005,
          5.199,
          5.185,
          5.131,
          5.129,
          4.933,
          4.586,
          4.34,
          4.321000000000001,
          4.103
         ],
         "xaxis": "x",
         "y": [
          0.39299999999999996,
          0.34,
          0.408,
          0.138,
          0.35700000000000004,
          0.295,
          0.38299999999999995,
          0.08199999999999999,
          0.22399999999999998,
          0.306,
          0.28,
          0.24,
          0.321,
          0.034,
          0.142,
          0.17600000000000002,
          0.07400000000000001,
          0.013999999999999999,
          0.064,
          0.259,
          0.027999999999999997,
          0.006,
          0.051,
          0.001,
          0.066,
          0.025,
          0.121,
          0.035,
          0.174,
          0.023,
          0,
          0.037000000000000005,
          0.022000000000000002,
          0.154,
          0.017,
          0.043,
          0.044000000000000004,
          0.081,
          0.039,
          0.17600000000000002,
          0.034,
          0.052000000000000005,
          0.035,
          0,
          0.009000000000000001,
          0.032,
          0.215,
          0.027999999999999997,
          0.011000000000000001
         ],
         "yaxis": "y"
        },
        {
         "hovertemplate": "<b>%{hovertext}</b><br><br>Region=North America<br>Score=%{x}<br>Perceptions of corruption=%{y}<extra></extra>",
         "hovertext": [
          "Canada",
          "United States"
         ],
         "legendgroup": "North America",
         "marker": {
          "color": "#EF553B",
          "line": {
           "color": "DarkSlateGrey",
           "width": 1
          },
          "size": 10,
          "symbol": "circle"
         },
         "mode": "markers",
         "name": "North America",
         "orientation": "v",
         "showlegend": true,
         "type": "scatter",
         "x": [
          7.327999999999999,
          6.886
         ],
         "xaxis": "x",
         "y": [
          0.29100000000000004,
          0.133
         ],
         "yaxis": "y"
        },
        {
         "hovertemplate": "<b>%{hovertext}</b><br><br>Region=Australia and New Zealand<br>Score=%{x}<br>Perceptions of corruption=%{y}<extra></extra>",
         "hovertext": [
          "New Zealand",
          "Australia"
         ],
         "legendgroup": "Australia and New Zealand",
         "marker": {
          "color": "#00cc96",
          "line": {
           "color": "DarkSlateGrey",
           "width": 1
          },
          "size": 10,
          "symbol": "circle"
         },
         "mode": "markers",
         "name": "Australia and New Zealand",
         "orientation": "v",
         "showlegend": true,
         "type": "scatter",
         "x": [
          7.324,
          7.272
         ],
         "xaxis": "x",
         "y": [
          0.389,
          0.302
         ],
         "yaxis": "y"
        },
        {
         "hovertemplate": "<b>%{hovertext}</b><br><br>Region=Latin America and Caribbean<br>Score=%{x}<br>Perceptions of corruption=%{y}<extra></extra>",
         "hovertext": [
          "Costa Rica",
          "Mexico",
          "Chile",
          "Panama",
          "Brazil",
          "Argentina",
          "Guatemala",
          "Uruguay",
          "Colombia",
          "El Salvador",
          "Nicaragua",
          "Ecuador",
          "Jamaica",
          "Bolivia",
          "Paraguay",
          "Peru",
          "Honduras",
          "Dominican Republic",
          "Venezuela",
          "Haiti"
         ],
         "legendgroup": "Latin America and Caribbean",
         "marker": {
          "color": "#ab63fa",
          "line": {
           "color": "DarkSlateGrey",
           "width": 1
          },
          "size": 10,
          "symbol": "circle"
         },
         "mode": "markers",
         "name": "Latin America and Caribbean",
         "orientation": "v",
         "showlegend": true,
         "type": "scatter",
         "x": [
          7.072,
          6.4879999999999995,
          6.476,
          6.43,
          6.419,
          6.388,
          6.382000000000001,
          6.379,
          6.26,
          6.167000000000001,
          6.141,
          5.973,
          5.89,
          5.752000000000001,
          5.681,
          5.662999999999999,
          5.504,
          5.3020000000000005,
          4.806,
          3.582
         ],
         "xaxis": "x",
         "y": [
          0.10099999999999999,
          0.095,
          0.061,
          0.063,
          0.08800000000000001,
          0.054000000000000006,
          0.071,
          0.155,
          0.039,
          0.08199999999999999,
          0.128,
          0.12,
          0.031,
          0.054000000000000006,
          0.07400000000000001,
          0.034,
          0.07400000000000001,
          0.106,
          0.052000000000000005,
          0.10400000000000001
         ],
         "yaxis": "y"
        },
        {
         "hovertemplate": "<b>%{hovertext}</b><br><br>Region=Middle East and Northern Africa<br>Score=%{x}<br>Perceptions of corruption=%{y}<extra></extra>",
         "hovertext": [
          "Israel",
          "United Arab Emirates",
          "Qatar",
          "Saudi Arabia",
          "Bahrain",
          "Kuwait",
          "Libya",
          "Turkey",
          "Lebanon",
          "Algeria",
          "Morocco",
          "Jordan",
          "Palestinian Territories",
          "Iran",
          "Tunisia",
          "Iraq",
          "Egypt",
          "Syria",
          "Yemen"
         ],
         "legendgroup": "Middle East and Northern Africa",
         "marker": {
          "color": "#FFA15A",
          "line": {
           "color": "DarkSlateGrey",
           "width": 1
          },
          "size": 10,
          "symbol": "circle"
         },
         "mode": "markers",
         "name": "Middle East and Northern Africa",
         "orientation": "v",
         "showlegend": true,
         "type": "scatter",
         "x": [
          6.814,
          6.774,
          6.374,
          6.371,
          6.105,
          6.082999999999999,
          5.566,
          5.483,
          5.358,
          5.295,
          5.254,
          5.1610000000000005,
          4.743,
          4.707,
          4.592,
          4.456,
          4.419,
          3.4619999999999997,
          3.355
         ],
         "xaxis": "x",
         "y": [
          0.272,
          null,
          0.171,
          0.127,
          0.12300000000000001,
          0.106,
          0.14800000000000002,
          0.109,
          0.136,
          0.135,
          0.07400000000000001,
          0.134,
          0.076,
          0.129,
          0.063,
          0.095,
          0.107,
          0.14400000000000002,
          0.064
         ],
         "yaxis": "y"
        },
        {
         "hovertemplate": "<b>%{hovertext}</b><br><br>Region=Asia<br>Score=%{x}<br>Perceptions of corruption=%{y}<extra></extra>",
         "hovertext": [
          "Taiwan",
          "Singapore",
          "Malaysia",
          "Thailand",
          "Japan",
          "South Korea",
          "Philippines",
          "Pakistan",
          "Hong Kong",
          "China",
          "Mongolia",
          "Vietnam",
          "Indonesia",
          "Bhutan",
          "Nepal",
          "Laos",
          "Bangladesh",
          "Sri Lanka",
          "Cambodia",
          "Myanmar",
          "India",
          "Afghanistan"
         ],
         "legendgroup": "Asia",
         "marker": {
          "color": "#19d3f3",
          "line": {
           "color": "DarkSlateGrey",
           "width": 1
          },
          "size": 10,
          "symbol": "circle"
         },
         "mode": "markers",
         "name": "Asia",
         "orientation": "v",
         "showlegend": true,
         "type": "scatter",
         "x": [
          6.441,
          6.343,
          6.322,
          6.072,
          5.915,
          5.875,
          5.524,
          5.472,
          5.43,
          5.246,
          5.125,
          5.103,
          5.093,
          5.082,
          4.88,
          4.623,
          4.5,
          4.471,
          4.433,
          4.308,
          4.19,
          3.6319999999999997
         ],
         "xaxis": "x",
         "y": [
          0.078,
          0.457,
          0.059000000000000004,
          0.028999999999999998,
          0.15,
          0.051,
          0.105,
          0.113,
          0.29100000000000004,
          0.10300000000000001,
          0.032,
          0.079,
          0.018000000000000002,
          0.171,
          0.078,
          0.174,
          0.14400000000000002,
          0.05,
          0.065,
          0.17800000000000002,
          0.09300000000000001,
          0.036000000000000004
         ],
         "yaxis": "y"
        },
        {
         "hovertemplate": "<b>%{hovertext}</b><br><br>Region=Sub-Saharan Africa<br>Score=%{x}<br>Perceptions of corruption=%{y}<extra></extra>",
         "hovertext": [
          "Mauritius",
          "Nigeria",
          "Cameroon",
          "Gabon",
          "South Africa",
          "Ivory Coast",
          "Ghana",
          "Senegal",
          "Sierra Leone",
          "Congo (Brazzaville)",
          "Mali",
          "Burkina Faso",
          "Mozambique",
          "Kenya",
          "Zambia",
          "Mauritania",
          "Ethiopia",
          "Chad",
          "Congo (Kinshasa)",
          "Niger",
          "Uganda",
          "Benin",
          "Sudan",
          "Togo",
          "Guinea",
          "Lesotho",
          "Angola",
          "Madagascar",
          "Zimbabwe",
          "Botswana",
          "Malawi",
          "Liberia",
          "Rwanda",
          "Tanzania",
          "Central African Republic",
          "Burundi"
         ],
         "legendgroup": "Sub-Saharan Africa",
         "marker": {
          "color": "#FF6692",
          "line": {
           "color": "DarkSlateGrey",
           "width": 1
          },
          "size": 10,
          "symbol": "circle"
         },
         "mode": "markers",
         "name": "Sub-Saharan Africa",
         "orientation": "v",
         "showlegend": true,
         "type": "scatter",
         "x": [
          5.891,
          5.155,
          4.975,
          4.758,
          4.724,
          4.671,
          4.657,
          4.631,
          4.571000000000001,
          4.559,
          4.447,
          4.4239999999999995,
          4.417,
          4.41,
          4.377,
          4.356,
          4.35,
          4.301,
          4.245,
          4.166,
          4.1610000000000005,
          4.141,
          4.138999999999999,
          3.9989999999999997,
          3.964,
          3.8080000000000003,
          3.795,
          3.7739999999999996,
          3.6919999999999997,
          3.59,
          3.5869999999999997,
          3.495,
          3.408,
          3.303,
          3.083,
          2.905
         ],
         "xaxis": "x",
         "y": [
          0.05,
          0.032,
          0.043,
          0.052000000000000005,
          0.055999999999999994,
          0.10300000000000001,
          0.028999999999999998,
          0.08199999999999999,
          0.053,
          0.077,
          0.055999999999999994,
          0.128,
          0.158,
          0.055,
          0.08199999999999999,
          0.09300000000000001,
          0.146,
          0.06,
          0.052000000000000005,
          0.099,
          0.061,
          0.067,
          0.08199999999999999,
          0.10099999999999999,
          0.094,
          0.11199999999999999,
          0.061,
          0.049,
          0.099,
          0.092,
          0.08,
          0.03,
          0.444,
          0.09699999999999999,
          0.038,
          0.076
         ],
         "yaxis": "y"
        }
       ],
       "layout": {
        "height": 600,
        "legend": {
         "title": {
          "text": "Region"
         },
         "tracegroupgap": 0
        },
        "template": {
         "data": {
          "bar": [
           {
            "error_x": {
             "color": "#2a3f5f"
            },
            "error_y": {
             "color": "#2a3f5f"
            },
            "marker": {
             "line": {
              "color": "#E5ECF6",
              "width": 0.5
             }
            },
            "type": "bar"
           }
          ],
          "barpolar": [
           {
            "marker": {
             "line": {
              "color": "#E5ECF6",
              "width": 0.5
             }
            },
            "type": "barpolar"
           }
          ],
          "carpet": [
           {
            "aaxis": {
             "endlinecolor": "#2a3f5f",
             "gridcolor": "white",
             "linecolor": "white",
             "minorgridcolor": "white",
             "startlinecolor": "#2a3f5f"
            },
            "baxis": {
             "endlinecolor": "#2a3f5f",
             "gridcolor": "white",
             "linecolor": "white",
             "minorgridcolor": "white",
             "startlinecolor": "#2a3f5f"
            },
            "type": "carpet"
           }
          ],
          "choropleth": [
           {
            "colorbar": {
             "outlinewidth": 0,
             "ticks": ""
            },
            "type": "choropleth"
           }
          ],
          "contour": [
           {
            "colorbar": {
             "outlinewidth": 0,
             "ticks": ""
            },
            "colorscale": [
             [
              0,
              "#0d0887"
             ],
             [
              0.1111111111111111,
              "#46039f"
             ],
             [
              0.2222222222222222,
              "#7201a8"
             ],
             [
              0.3333333333333333,
              "#9c179e"
             ],
             [
              0.4444444444444444,
              "#bd3786"
             ],
             [
              0.5555555555555556,
              "#d8576b"
             ],
             [
              0.6666666666666666,
              "#ed7953"
             ],
             [
              0.7777777777777778,
              "#fb9f3a"
             ],
             [
              0.8888888888888888,
              "#fdca26"
             ],
             [
              1,
              "#f0f921"
             ]
            ],
            "type": "contour"
           }
          ],
          "contourcarpet": [
           {
            "colorbar": {
             "outlinewidth": 0,
             "ticks": ""
            },
            "type": "contourcarpet"
           }
          ],
          "heatmap": [
           {
            "colorbar": {
             "outlinewidth": 0,
             "ticks": ""
            },
            "colorscale": [
             [
              0,
              "#0d0887"
             ],
             [
              0.1111111111111111,
              "#46039f"
             ],
             [
              0.2222222222222222,
              "#7201a8"
             ],
             [
              0.3333333333333333,
              "#9c179e"
             ],
             [
              0.4444444444444444,
              "#bd3786"
             ],
             [
              0.5555555555555556,
              "#d8576b"
             ],
             [
              0.6666666666666666,
              "#ed7953"
             ],
             [
              0.7777777777777778,
              "#fb9f3a"
             ],
             [
              0.8888888888888888,
              "#fdca26"
             ],
             [
              1,
              "#f0f921"
             ]
            ],
            "type": "heatmap"
           }
          ],
          "heatmapgl": [
           {
            "colorbar": {
             "outlinewidth": 0,
             "ticks": ""
            },
            "colorscale": [
             [
              0,
              "#0d0887"
             ],
             [
              0.1111111111111111,
              "#46039f"
             ],
             [
              0.2222222222222222,
              "#7201a8"
             ],
             [
              0.3333333333333333,
              "#9c179e"
             ],
             [
              0.4444444444444444,
              "#bd3786"
             ],
             [
              0.5555555555555556,
              "#d8576b"
             ],
             [
              0.6666666666666666,
              "#ed7953"
             ],
             [
              0.7777777777777778,
              "#fb9f3a"
             ],
             [
              0.8888888888888888,
              "#fdca26"
             ],
             [
              1,
              "#f0f921"
             ]
            ],
            "type": "heatmapgl"
           }
          ],
          "histogram": [
           {
            "marker": {
             "colorbar": {
              "outlinewidth": 0,
              "ticks": ""
             }
            },
            "type": "histogram"
           }
          ],
          "histogram2d": [
           {
            "colorbar": {
             "outlinewidth": 0,
             "ticks": ""
            },
            "colorscale": [
             [
              0,
              "#0d0887"
             ],
             [
              0.1111111111111111,
              "#46039f"
             ],
             [
              0.2222222222222222,
              "#7201a8"
             ],
             [
              0.3333333333333333,
              "#9c179e"
             ],
             [
              0.4444444444444444,
              "#bd3786"
             ],
             [
              0.5555555555555556,
              "#d8576b"
             ],
             [
              0.6666666666666666,
              "#ed7953"
             ],
             [
              0.7777777777777778,
              "#fb9f3a"
             ],
             [
              0.8888888888888888,
              "#fdca26"
             ],
             [
              1,
              "#f0f921"
             ]
            ],
            "type": "histogram2d"
           }
          ],
          "histogram2dcontour": [
           {
            "colorbar": {
             "outlinewidth": 0,
             "ticks": ""
            },
            "colorscale": [
             [
              0,
              "#0d0887"
             ],
             [
              0.1111111111111111,
              "#46039f"
             ],
             [
              0.2222222222222222,
              "#7201a8"
             ],
             [
              0.3333333333333333,
              "#9c179e"
             ],
             [
              0.4444444444444444,
              "#bd3786"
             ],
             [
              0.5555555555555556,
              "#d8576b"
             ],
             [
              0.6666666666666666,
              "#ed7953"
             ],
             [
              0.7777777777777778,
              "#fb9f3a"
             ],
             [
              0.8888888888888888,
              "#fdca26"
             ],
             [
              1,
              "#f0f921"
             ]
            ],
            "type": "histogram2dcontour"
           }
          ],
          "mesh3d": [
           {
            "colorbar": {
             "outlinewidth": 0,
             "ticks": ""
            },
            "type": "mesh3d"
           }
          ],
          "parcoords": [
           {
            "line": {
             "colorbar": {
              "outlinewidth": 0,
              "ticks": ""
             }
            },
            "type": "parcoords"
           }
          ],
          "pie": [
           {
            "automargin": true,
            "type": "pie"
           }
          ],
          "scatter": [
           {
            "marker": {
             "colorbar": {
              "outlinewidth": 0,
              "ticks": ""
             }
            },
            "type": "scatter"
           }
          ],
          "scatter3d": [
           {
            "line": {
             "colorbar": {
              "outlinewidth": 0,
              "ticks": ""
             }
            },
            "marker": {
             "colorbar": {
              "outlinewidth": 0,
              "ticks": ""
             }
            },
            "type": "scatter3d"
           }
          ],
          "scattercarpet": [
           {
            "marker": {
             "colorbar": {
              "outlinewidth": 0,
              "ticks": ""
             }
            },
            "type": "scattercarpet"
           }
          ],
          "scattergeo": [
           {
            "marker": {
             "colorbar": {
              "outlinewidth": 0,
              "ticks": ""
             }
            },
            "type": "scattergeo"
           }
          ],
          "scattergl": [
           {
            "marker": {
             "colorbar": {
              "outlinewidth": 0,
              "ticks": ""
             }
            },
            "type": "scattergl"
           }
          ],
          "scattermapbox": [
           {
            "marker": {
             "colorbar": {
              "outlinewidth": 0,
              "ticks": ""
             }
            },
            "type": "scattermapbox"
           }
          ],
          "scatterpolar": [
           {
            "marker": {
             "colorbar": {
              "outlinewidth": 0,
              "ticks": ""
             }
            },
            "type": "scatterpolar"
           }
          ],
          "scatterpolargl": [
           {
            "marker": {
             "colorbar": {
              "outlinewidth": 0,
              "ticks": ""
             }
            },
            "type": "scatterpolargl"
           }
          ],
          "scatterternary": [
           {
            "marker": {
             "colorbar": {
              "outlinewidth": 0,
              "ticks": ""
             }
            },
            "type": "scatterternary"
           }
          ],
          "surface": [
           {
            "colorbar": {
             "outlinewidth": 0,
             "ticks": ""
            },
            "colorscale": [
             [
              0,
              "#0d0887"
             ],
             [
              0.1111111111111111,
              "#46039f"
             ],
             [
              0.2222222222222222,
              "#7201a8"
             ],
             [
              0.3333333333333333,
              "#9c179e"
             ],
             [
              0.4444444444444444,
              "#bd3786"
             ],
             [
              0.5555555555555556,
              "#d8576b"
             ],
             [
              0.6666666666666666,
              "#ed7953"
             ],
             [
              0.7777777777777778,
              "#fb9f3a"
             ],
             [
              0.8888888888888888,
              "#fdca26"
             ],
             [
              1,
              "#f0f921"
             ]
            ],
            "type": "surface"
           }
          ],
          "table": [
           {
            "cells": {
             "fill": {
              "color": "#EBF0F8"
             },
             "line": {
              "color": "white"
             }
            },
            "header": {
             "fill": {
              "color": "#C8D4E3"
             },
             "line": {
              "color": "white"
             }
            },
            "type": "table"
           }
          ]
         },
         "layout": {
          "annotationdefaults": {
           "arrowcolor": "#2a3f5f",
           "arrowhead": 0,
           "arrowwidth": 1
          },
          "autotypenumbers": "strict",
          "coloraxis": {
           "colorbar": {
            "outlinewidth": 0,
            "ticks": ""
           }
          },
          "colorscale": {
           "diverging": [
            [
             0,
             "#8e0152"
            ],
            [
             0.1,
             "#c51b7d"
            ],
            [
             0.2,
             "#de77ae"
            ],
            [
             0.3,
             "#f1b6da"
            ],
            [
             0.4,
             "#fde0ef"
            ],
            [
             0.5,
             "#f7f7f7"
            ],
            [
             0.6,
             "#e6f5d0"
            ],
            [
             0.7,
             "#b8e186"
            ],
            [
             0.8,
             "#7fbc41"
            ],
            [
             0.9,
             "#4d9221"
            ],
            [
             1,
             "#276419"
            ]
           ],
           "sequential": [
            [
             0,
             "#0d0887"
            ],
            [
             0.1111111111111111,
             "#46039f"
            ],
            [
             0.2222222222222222,
             "#7201a8"
            ],
            [
             0.3333333333333333,
             "#9c179e"
            ],
            [
             0.4444444444444444,
             "#bd3786"
            ],
            [
             0.5555555555555556,
             "#d8576b"
            ],
            [
             0.6666666666666666,
             "#ed7953"
            ],
            [
             0.7777777777777778,
             "#fb9f3a"
            ],
            [
             0.8888888888888888,
             "#fdca26"
            ],
            [
             1,
             "#f0f921"
            ]
           ],
           "sequentialminus": [
            [
             0,
             "#0d0887"
            ],
            [
             0.1111111111111111,
             "#46039f"
            ],
            [
             0.2222222222222222,
             "#7201a8"
            ],
            [
             0.3333333333333333,
             "#9c179e"
            ],
            [
             0.4444444444444444,
             "#bd3786"
            ],
            [
             0.5555555555555556,
             "#d8576b"
            ],
            [
             0.6666666666666666,
             "#ed7953"
            ],
            [
             0.7777777777777778,
             "#fb9f3a"
            ],
            [
             0.8888888888888888,
             "#fdca26"
            ],
            [
             1,
             "#f0f921"
            ]
           ]
          },
          "colorway": [
           "#636efa",
           "#EF553B",
           "#00cc96",
           "#ab63fa",
           "#FFA15A",
           "#19d3f3",
           "#FF6692",
           "#B6E880",
           "#FF97FF",
           "#FECB52"
          ],
          "font": {
           "color": "#2a3f5f"
          },
          "geo": {
           "bgcolor": "white",
           "lakecolor": "white",
           "landcolor": "#E5ECF6",
           "showlakes": true,
           "showland": true,
           "subunitcolor": "white"
          },
          "hoverlabel": {
           "align": "left"
          },
          "hovermode": "closest",
          "mapbox": {
           "style": "light"
          },
          "paper_bgcolor": "white",
          "plot_bgcolor": "#E5ECF6",
          "polar": {
           "angularaxis": {
            "gridcolor": "white",
            "linecolor": "white",
            "ticks": ""
           },
           "bgcolor": "#E5ECF6",
           "radialaxis": {
            "gridcolor": "white",
            "linecolor": "white",
            "ticks": ""
           }
          },
          "scene": {
           "xaxis": {
            "backgroundcolor": "#E5ECF6",
            "gridcolor": "white",
            "gridwidth": 2,
            "linecolor": "white",
            "showbackground": true,
            "ticks": "",
            "zerolinecolor": "white"
           },
           "yaxis": {
            "backgroundcolor": "#E5ECF6",
            "gridcolor": "white",
            "gridwidth": 2,
            "linecolor": "white",
            "showbackground": true,
            "ticks": "",
            "zerolinecolor": "white"
           },
           "zaxis": {
            "backgroundcolor": "#E5ECF6",
            "gridcolor": "white",
            "gridwidth": 2,
            "linecolor": "white",
            "showbackground": true,
            "ticks": "",
            "zerolinecolor": "white"
           }
          },
          "shapedefaults": {
           "line": {
            "color": "#2a3f5f"
           }
          },
          "ternary": {
           "aaxis": {
            "gridcolor": "white",
            "linecolor": "white",
            "ticks": ""
           },
           "baxis": {
            "gridcolor": "white",
            "linecolor": "white",
            "ticks": ""
           },
           "bgcolor": "#E5ECF6",
           "caxis": {
            "gridcolor": "white",
            "linecolor": "white",
            "ticks": ""
           }
          },
          "title": {
           "x": 0.05
          },
          "xaxis": {
           "automargin": true,
           "gridcolor": "white",
           "linecolor": "white",
           "ticks": "",
           "title": {
            "standoff": 15
           },
           "zerolinecolor": "white",
           "zerolinewidth": 2
          },
          "yaxis": {
           "automargin": true,
           "gridcolor": "white",
           "linecolor": "white",
           "ticks": "",
           "title": {
            "standoff": 15
           },
           "zerolinecolor": "white",
           "zerolinewidth": 2
          }
         }
        },
        "title": {
         "text": "Happiness Score compared to Perception of Corruption Score"
        },
        "width": 1000,
        "xaxis": {
         "anchor": "y",
         "domain": [
          0,
          1
         ],
         "range": [
          0,
          8
         ],
         "title": {
          "text": "Happiness Score"
         }
        },
        "yaxis": {
         "anchor": "x",
         "domain": [
          0,
          1
         ],
         "title": {
          "text": "Perception of Corruption Score"
         }
        }
       }
      },
      "text/html": [
       "<div>                            <div id=\"c21dd179-dd91-4750-8585-c3e712ff88c3\" class=\"plotly-graph-div\" style=\"height:600px; width:1000px;\"></div>            <script type=\"text/javascript\">                require([\"plotly\"], function(Plotly) {                    window.PLOTLYENV=window.PLOTLYENV || {};                                    if (document.getElementById(\"c21dd179-dd91-4750-8585-c3e712ff88c3\")) {                    Plotly.newPlot(                        \"c21dd179-dd91-4750-8585-c3e712ff88c3\",                        [{\"hovertemplate\": \"<b>%{hovertext}</b><br><br>Region=Europe<br>Score=%{x}<br>Perceptions of corruption=%{y}<extra></extra>\", \"hovertext\": [\"Finland\", \"Norway\", \"Denmark\", \"Iceland\", \"Switzerland\", \"Netherlands\", \"Sweden\", \"United Kingdom\", \"Austria\", \"Ireland\", \"Germany\", \"Belgium\", \"Luxembourg\", \"Czech Republic\", \"Malta\", \"France\", \"Spain\", \"Slovakia\", \"Poland\", \"Uzbekistan\", \"Italy\", \"Lithuania\", \"Slovenia\", \"Romania\", \"Latvia\", \"Russia\", \"Kazakhstan\", \"Cyprus\", \"Estonia\", \"Kosovo\", \"Moldova\", \"Turkmenistan\", \"Hungary\", \"Belarus\", \"Portugal\", \"Serbia\", \"Greece\", \"Montenegro\", \"Croatia\", \"Azerbaijan\", \"Tajikistan\", \"Macedonia\", \"Kyrgyzstan\", \"Bosnia and Herzegovina\", \"Bulgaria\", \"Albania\", \"Georgia\", \"Armenia\", \"Ukraine\"], \"legendgroup\": \"Europe\", \"marker\": {\"color\": \"#636efa\", \"line\": {\"color\": \"DarkSlateGrey\", \"width\": 1}, \"size\": 10, \"symbol\": \"circle\"}, \"mode\": \"markers\", \"name\": \"Europe\", \"orientation\": \"v\", \"showlegend\": true, \"type\": \"scatter\", \"x\": [7.632000000000001, 7.593999999999999, 7.555, 7.495, 7.487, 7.441, 7.314, 7.19, 7.138999999999999, 6.977, 6.965, 6.9270000000000005, 6.91, 6.711, 6.627000000000001, 6.489, 6.31, 6.172999999999999, 6.122999999999999, 6.096, 6.0, 5.952000000000001, 5.9479999999999995, 5.945, 5.933, 5.81, 5.79, 5.7620000000000005, 5.739, 5.662000000000001, 5.64, 5.636, 5.62, 5.483, 5.41, 5.398, 5.358, 5.347, 5.321000000000001, 5.2010000000000005, 5.199, 5.185, 5.131, 5.129, 4.933, 4.586, 4.34, 4.321000000000001, 4.103], \"xaxis\": \"x\", \"y\": [0.39299999999999996, 0.34, 0.408, 0.138, 0.35700000000000004, 0.295, 0.38299999999999995, 0.08199999999999999, 0.22399999999999998, 0.306, 0.28, 0.24, 0.321, 0.034, 0.142, 0.17600000000000002, 0.07400000000000001, 0.013999999999999999, 0.064, 0.259, 0.027999999999999997, 0.006, 0.051, 0.001, 0.066, 0.025, 0.121, 0.035, 0.174, 0.023, 0.0, 0.037000000000000005, 0.022000000000000002, 0.154, 0.017, 0.043, 0.044000000000000004, 0.081, 0.039, 0.17600000000000002, 0.034, 0.052000000000000005, 0.035, 0.0, 0.009000000000000001, 0.032, 0.215, 0.027999999999999997, 0.011000000000000001], \"yaxis\": \"y\"}, {\"hovertemplate\": \"<b>%{hovertext}</b><br><br>Region=North America<br>Score=%{x}<br>Perceptions of corruption=%{y}<extra></extra>\", \"hovertext\": [\"Canada\", \"United States\"], \"legendgroup\": \"North America\", \"marker\": {\"color\": \"#EF553B\", \"line\": {\"color\": \"DarkSlateGrey\", \"width\": 1}, \"size\": 10, \"symbol\": \"circle\"}, \"mode\": \"markers\", \"name\": \"North America\", \"orientation\": \"v\", \"showlegend\": true, \"type\": \"scatter\", \"x\": [7.327999999999999, 6.886], \"xaxis\": \"x\", \"y\": [0.29100000000000004, 0.133], \"yaxis\": \"y\"}, {\"hovertemplate\": \"<b>%{hovertext}</b><br><br>Region=Australia and New Zealand<br>Score=%{x}<br>Perceptions of corruption=%{y}<extra></extra>\", \"hovertext\": [\"New Zealand\", \"Australia\"], \"legendgroup\": \"Australia and New Zealand\", \"marker\": {\"color\": \"#00cc96\", \"line\": {\"color\": \"DarkSlateGrey\", \"width\": 1}, \"size\": 10, \"symbol\": \"circle\"}, \"mode\": \"markers\", \"name\": \"Australia and New Zealand\", \"orientation\": \"v\", \"showlegend\": true, \"type\": \"scatter\", \"x\": [7.324, 7.272], \"xaxis\": \"x\", \"y\": [0.389, 0.302], \"yaxis\": \"y\"}, {\"hovertemplate\": \"<b>%{hovertext}</b><br><br>Region=Latin America and Caribbean<br>Score=%{x}<br>Perceptions of corruption=%{y}<extra></extra>\", \"hovertext\": [\"Costa Rica\", \"Mexico\", \"Chile\", \"Panama\", \"Brazil\", \"Argentina\", \"Guatemala\", \"Uruguay\", \"Colombia\", \"El Salvador\", \"Nicaragua\", \"Ecuador\", \"Jamaica\", \"Bolivia\", \"Paraguay\", \"Peru\", \"Honduras\", \"Dominican Republic\", \"Venezuela\", \"Haiti\"], \"legendgroup\": \"Latin America and Caribbean\", \"marker\": {\"color\": \"#ab63fa\", \"line\": {\"color\": \"DarkSlateGrey\", \"width\": 1}, \"size\": 10, \"symbol\": \"circle\"}, \"mode\": \"markers\", \"name\": \"Latin America and Caribbean\", \"orientation\": \"v\", \"showlegend\": true, \"type\": \"scatter\", \"x\": [7.072, 6.4879999999999995, 6.476, 6.43, 6.419, 6.388, 6.382000000000001, 6.379, 6.26, 6.167000000000001, 6.141, 5.973, 5.89, 5.752000000000001, 5.681, 5.662999999999999, 5.504, 5.3020000000000005, 4.806, 3.582], \"xaxis\": \"x\", \"y\": [0.10099999999999999, 0.095, 0.061, 0.063, 0.08800000000000001, 0.054000000000000006, 0.071, 0.155, 0.039, 0.08199999999999999, 0.128, 0.12, 0.031, 0.054000000000000006, 0.07400000000000001, 0.034, 0.07400000000000001, 0.106, 0.052000000000000005, 0.10400000000000001], \"yaxis\": \"y\"}, {\"hovertemplate\": \"<b>%{hovertext}</b><br><br>Region=Middle East and Northern Africa<br>Score=%{x}<br>Perceptions of corruption=%{y}<extra></extra>\", \"hovertext\": [\"Israel\", \"United Arab Emirates\", \"Qatar\", \"Saudi Arabia\", \"Bahrain\", \"Kuwait\", \"Libya\", \"Turkey\", \"Lebanon\", \"Algeria\", \"Morocco\", \"Jordan\", \"Palestinian Territories\", \"Iran\", \"Tunisia\", \"Iraq\", \"Egypt\", \"Syria\", \"Yemen\"], \"legendgroup\": \"Middle East and Northern Africa\", \"marker\": {\"color\": \"#FFA15A\", \"line\": {\"color\": \"DarkSlateGrey\", \"width\": 1}, \"size\": 10, \"symbol\": \"circle\"}, \"mode\": \"markers\", \"name\": \"Middle East and Northern Africa\", \"orientation\": \"v\", \"showlegend\": true, \"type\": \"scatter\", \"x\": [6.814, 6.774, 6.374, 6.371, 6.105, 6.082999999999999, 5.566, 5.483, 5.358, 5.295, 5.254, 5.1610000000000005, 4.743, 4.707, 4.592, 4.456, 4.419, 3.4619999999999997, 3.355], \"xaxis\": \"x\", \"y\": [0.272, null, 0.171, 0.127, 0.12300000000000001, 0.106, 0.14800000000000002, 0.109, 0.136, 0.135, 0.07400000000000001, 0.134, 0.076, 0.129, 0.063, 0.095, 0.107, 0.14400000000000002, 0.064], \"yaxis\": \"y\"}, {\"hovertemplate\": \"<b>%{hovertext}</b><br><br>Region=Asia<br>Score=%{x}<br>Perceptions of corruption=%{y}<extra></extra>\", \"hovertext\": [\"Taiwan\", \"Singapore\", \"Malaysia\", \"Thailand\", \"Japan\", \"South Korea\", \"Philippines\", \"Pakistan\", \"Hong Kong\", \"China\", \"Mongolia\", \"Vietnam\", \"Indonesia\", \"Bhutan\", \"Nepal\", \"Laos\", \"Bangladesh\", \"Sri Lanka\", \"Cambodia\", \"Myanmar\", \"India\", \"Afghanistan\"], \"legendgroup\": \"Asia\", \"marker\": {\"color\": \"#19d3f3\", \"line\": {\"color\": \"DarkSlateGrey\", \"width\": 1}, \"size\": 10, \"symbol\": \"circle\"}, \"mode\": \"markers\", \"name\": \"Asia\", \"orientation\": \"v\", \"showlegend\": true, \"type\": \"scatter\", \"x\": [6.441, 6.343, 6.322, 6.072, 5.915, 5.875, 5.524, 5.472, 5.43, 5.246, 5.125, 5.103, 5.093, 5.082, 4.88, 4.623, 4.5, 4.471, 4.433, 4.308, 4.19, 3.6319999999999997], \"xaxis\": \"x\", \"y\": [0.078, 0.457, 0.059000000000000004, 0.028999999999999998, 0.15, 0.051, 0.105, 0.113, 0.29100000000000004, 0.10300000000000001, 0.032, 0.079, 0.018000000000000002, 0.171, 0.078, 0.174, 0.14400000000000002, 0.05, 0.065, 0.17800000000000002, 0.09300000000000001, 0.036000000000000004], \"yaxis\": \"y\"}, {\"hovertemplate\": \"<b>%{hovertext}</b><br><br>Region=Sub-Saharan Africa<br>Score=%{x}<br>Perceptions of corruption=%{y}<extra></extra>\", \"hovertext\": [\"Mauritius\", \"Nigeria\", \"Cameroon\", \"Gabon\", \"South Africa\", \"Ivory Coast\", \"Ghana\", \"Senegal\", \"Sierra Leone\", \"Congo (Brazzaville)\", \"Mali\", \"Burkina Faso\", \"Mozambique\", \"Kenya\", \"Zambia\", \"Mauritania\", \"Ethiopia\", \"Chad\", \"Congo (Kinshasa)\", \"Niger\", \"Uganda\", \"Benin\", \"Sudan\", \"Togo\", \"Guinea\", \"Lesotho\", \"Angola\", \"Madagascar\", \"Zimbabwe\", \"Botswana\", \"Malawi\", \"Liberia\", \"Rwanda\", \"Tanzania\", \"Central African Republic\", \"Burundi\"], \"legendgroup\": \"Sub-Saharan Africa\", \"marker\": {\"color\": \"#FF6692\", \"line\": {\"color\": \"DarkSlateGrey\", \"width\": 1}, \"size\": 10, \"symbol\": \"circle\"}, \"mode\": \"markers\", \"name\": \"Sub-Saharan Africa\", \"orientation\": \"v\", \"showlegend\": true, \"type\": \"scatter\", \"x\": [5.891, 5.155, 4.975, 4.758, 4.724, 4.671, 4.657, 4.631, 4.571000000000001, 4.559, 4.447, 4.4239999999999995, 4.417, 4.41, 4.377, 4.356, 4.35, 4.301, 4.245, 4.166, 4.1610000000000005, 4.141, 4.138999999999999, 3.9989999999999997, 3.964, 3.8080000000000003, 3.795, 3.7739999999999996, 3.6919999999999997, 3.59, 3.5869999999999997, 3.495, 3.408, 3.303, 3.083, 2.905], \"xaxis\": \"x\", \"y\": [0.05, 0.032, 0.043, 0.052000000000000005, 0.055999999999999994, 0.10300000000000001, 0.028999999999999998, 0.08199999999999999, 0.053, 0.077, 0.055999999999999994, 0.128, 0.158, 0.055, 0.08199999999999999, 0.09300000000000001, 0.146, 0.06, 0.052000000000000005, 0.099, 0.061, 0.067, 0.08199999999999999, 0.10099999999999999, 0.094, 0.11199999999999999, 0.061, 0.049, 0.099, 0.092, 0.08, 0.03, 0.444, 0.09699999999999999, 0.038, 0.076], \"yaxis\": \"y\"}],                        {\"height\": 600, \"legend\": {\"title\": {\"text\": \"Region\"}, \"tracegroupgap\": 0}, \"template\": {\"data\": {\"bar\": [{\"error_x\": {\"color\": \"#2a3f5f\"}, \"error_y\": {\"color\": \"#2a3f5f\"}, \"marker\": {\"line\": {\"color\": \"#E5ECF6\", \"width\": 0.5}}, \"type\": \"bar\"}], \"barpolar\": [{\"marker\": {\"line\": {\"color\": \"#E5ECF6\", \"width\": 0.5}}, \"type\": \"barpolar\"}], \"carpet\": [{\"aaxis\": {\"endlinecolor\": \"#2a3f5f\", \"gridcolor\": \"white\", \"linecolor\": \"white\", \"minorgridcolor\": \"white\", \"startlinecolor\": \"#2a3f5f\"}, \"baxis\": {\"endlinecolor\": \"#2a3f5f\", \"gridcolor\": \"white\", \"linecolor\": \"white\", \"minorgridcolor\": \"white\", \"startlinecolor\": \"#2a3f5f\"}, \"type\": \"carpet\"}], \"choropleth\": [{\"colorbar\": {\"outlinewidth\": 0, \"ticks\": \"\"}, \"type\": \"choropleth\"}], \"contour\": [{\"colorbar\": {\"outlinewidth\": 0, \"ticks\": \"\"}, \"colorscale\": [[0.0, \"#0d0887\"], [0.1111111111111111, \"#46039f\"], [0.2222222222222222, \"#7201a8\"], [0.3333333333333333, \"#9c179e\"], [0.4444444444444444, \"#bd3786\"], [0.5555555555555556, \"#d8576b\"], [0.6666666666666666, \"#ed7953\"], [0.7777777777777778, \"#fb9f3a\"], [0.8888888888888888, \"#fdca26\"], [1.0, \"#f0f921\"]], \"type\": \"contour\"}], \"contourcarpet\": [{\"colorbar\": {\"outlinewidth\": 0, \"ticks\": \"\"}, \"type\": \"contourcarpet\"}], \"heatmap\": [{\"colorbar\": {\"outlinewidth\": 0, \"ticks\": \"\"}, \"colorscale\": [[0.0, \"#0d0887\"], [0.1111111111111111, \"#46039f\"], [0.2222222222222222, \"#7201a8\"], [0.3333333333333333, \"#9c179e\"], [0.4444444444444444, \"#bd3786\"], [0.5555555555555556, \"#d8576b\"], [0.6666666666666666, \"#ed7953\"], [0.7777777777777778, \"#fb9f3a\"], [0.8888888888888888, \"#fdca26\"], [1.0, \"#f0f921\"]], \"type\": \"heatmap\"}], \"heatmapgl\": [{\"colorbar\": {\"outlinewidth\": 0, \"ticks\": \"\"}, \"colorscale\": [[0.0, \"#0d0887\"], [0.1111111111111111, \"#46039f\"], [0.2222222222222222, \"#7201a8\"], [0.3333333333333333, \"#9c179e\"], [0.4444444444444444, \"#bd3786\"], [0.5555555555555556, \"#d8576b\"], [0.6666666666666666, \"#ed7953\"], [0.7777777777777778, \"#fb9f3a\"], [0.8888888888888888, \"#fdca26\"], [1.0, \"#f0f921\"]], \"type\": \"heatmapgl\"}], \"histogram\": [{\"marker\": {\"colorbar\": {\"outlinewidth\": 0, \"ticks\": \"\"}}, \"type\": \"histogram\"}], \"histogram2d\": [{\"colorbar\": {\"outlinewidth\": 0, \"ticks\": \"\"}, \"colorscale\": [[0.0, \"#0d0887\"], [0.1111111111111111, \"#46039f\"], [0.2222222222222222, \"#7201a8\"], [0.3333333333333333, \"#9c179e\"], [0.4444444444444444, \"#bd3786\"], [0.5555555555555556, \"#d8576b\"], [0.6666666666666666, \"#ed7953\"], [0.7777777777777778, \"#fb9f3a\"], [0.8888888888888888, \"#fdca26\"], [1.0, \"#f0f921\"]], \"type\": \"histogram2d\"}], \"histogram2dcontour\": [{\"colorbar\": {\"outlinewidth\": 0, \"ticks\": \"\"}, \"colorscale\": [[0.0, \"#0d0887\"], [0.1111111111111111, \"#46039f\"], [0.2222222222222222, \"#7201a8\"], [0.3333333333333333, \"#9c179e\"], [0.4444444444444444, \"#bd3786\"], [0.5555555555555556, \"#d8576b\"], [0.6666666666666666, \"#ed7953\"], [0.7777777777777778, \"#fb9f3a\"], [0.8888888888888888, \"#fdca26\"], [1.0, \"#f0f921\"]], \"type\": \"histogram2dcontour\"}], \"mesh3d\": [{\"colorbar\": {\"outlinewidth\": 0, \"ticks\": \"\"}, \"type\": \"mesh3d\"}], \"parcoords\": [{\"line\": {\"colorbar\": {\"outlinewidth\": 0, \"ticks\": \"\"}}, \"type\": \"parcoords\"}], \"pie\": [{\"automargin\": true, \"type\": \"pie\"}], \"scatter\": [{\"marker\": {\"colorbar\": {\"outlinewidth\": 0, \"ticks\": \"\"}}, \"type\": \"scatter\"}], \"scatter3d\": [{\"line\": {\"colorbar\": {\"outlinewidth\": 0, \"ticks\": \"\"}}, \"marker\": {\"colorbar\": {\"outlinewidth\": 0, \"ticks\": \"\"}}, \"type\": \"scatter3d\"}], \"scattercarpet\": [{\"marker\": {\"colorbar\": {\"outlinewidth\": 0, \"ticks\": \"\"}}, \"type\": \"scattercarpet\"}], \"scattergeo\": [{\"marker\": {\"colorbar\": {\"outlinewidth\": 0, \"ticks\": \"\"}}, \"type\": \"scattergeo\"}], \"scattergl\": [{\"marker\": {\"colorbar\": {\"outlinewidth\": 0, \"ticks\": \"\"}}, \"type\": \"scattergl\"}], \"scattermapbox\": [{\"marker\": {\"colorbar\": {\"outlinewidth\": 0, \"ticks\": \"\"}}, \"type\": \"scattermapbox\"}], \"scatterpolar\": [{\"marker\": {\"colorbar\": {\"outlinewidth\": 0, \"ticks\": \"\"}}, \"type\": \"scatterpolar\"}], \"scatterpolargl\": [{\"marker\": {\"colorbar\": {\"outlinewidth\": 0, \"ticks\": \"\"}}, \"type\": \"scatterpolargl\"}], \"scatterternary\": [{\"marker\": {\"colorbar\": {\"outlinewidth\": 0, \"ticks\": \"\"}}, \"type\": \"scatterternary\"}], \"surface\": [{\"colorbar\": {\"outlinewidth\": 0, \"ticks\": \"\"}, \"colorscale\": [[0.0, \"#0d0887\"], [0.1111111111111111, \"#46039f\"], [0.2222222222222222, \"#7201a8\"], [0.3333333333333333, \"#9c179e\"], [0.4444444444444444, \"#bd3786\"], [0.5555555555555556, \"#d8576b\"], [0.6666666666666666, \"#ed7953\"], [0.7777777777777778, \"#fb9f3a\"], [0.8888888888888888, \"#fdca26\"], [1.0, \"#f0f921\"]], \"type\": \"surface\"}], \"table\": [{\"cells\": {\"fill\": {\"color\": \"#EBF0F8\"}, \"line\": {\"color\": \"white\"}}, \"header\": {\"fill\": {\"color\": \"#C8D4E3\"}, \"line\": {\"color\": \"white\"}}, \"type\": \"table\"}]}, \"layout\": {\"annotationdefaults\": {\"arrowcolor\": \"#2a3f5f\", \"arrowhead\": 0, \"arrowwidth\": 1}, \"autotypenumbers\": \"strict\", \"coloraxis\": {\"colorbar\": {\"outlinewidth\": 0, \"ticks\": \"\"}}, \"colorscale\": {\"diverging\": [[0, \"#8e0152\"], [0.1, \"#c51b7d\"], [0.2, \"#de77ae\"], [0.3, \"#f1b6da\"], [0.4, \"#fde0ef\"], [0.5, \"#f7f7f7\"], [0.6, \"#e6f5d0\"], [0.7, \"#b8e186\"], [0.8, \"#7fbc41\"], [0.9, \"#4d9221\"], [1, \"#276419\"]], \"sequential\": [[0.0, \"#0d0887\"], [0.1111111111111111, \"#46039f\"], [0.2222222222222222, \"#7201a8\"], [0.3333333333333333, \"#9c179e\"], [0.4444444444444444, \"#bd3786\"], [0.5555555555555556, \"#d8576b\"], [0.6666666666666666, \"#ed7953\"], [0.7777777777777778, \"#fb9f3a\"], [0.8888888888888888, \"#fdca26\"], [1.0, \"#f0f921\"]], \"sequentialminus\": [[0.0, \"#0d0887\"], [0.1111111111111111, \"#46039f\"], [0.2222222222222222, \"#7201a8\"], [0.3333333333333333, \"#9c179e\"], [0.4444444444444444, \"#bd3786\"], [0.5555555555555556, \"#d8576b\"], [0.6666666666666666, \"#ed7953\"], [0.7777777777777778, \"#fb9f3a\"], [0.8888888888888888, \"#fdca26\"], [1.0, \"#f0f921\"]]}, \"colorway\": [\"#636efa\", \"#EF553B\", \"#00cc96\", \"#ab63fa\", \"#FFA15A\", \"#19d3f3\", \"#FF6692\", \"#B6E880\", \"#FF97FF\", \"#FECB52\"], \"font\": {\"color\": \"#2a3f5f\"}, \"geo\": {\"bgcolor\": \"white\", \"lakecolor\": \"white\", \"landcolor\": \"#E5ECF6\", \"showlakes\": true, \"showland\": true, \"subunitcolor\": \"white\"}, \"hoverlabel\": {\"align\": \"left\"}, \"hovermode\": \"closest\", \"mapbox\": {\"style\": \"light\"}, \"paper_bgcolor\": \"white\", \"plot_bgcolor\": \"#E5ECF6\", \"polar\": {\"angularaxis\": {\"gridcolor\": \"white\", \"linecolor\": \"white\", \"ticks\": \"\"}, \"bgcolor\": \"#E5ECF6\", \"radialaxis\": {\"gridcolor\": \"white\", \"linecolor\": \"white\", \"ticks\": \"\"}}, \"scene\": {\"xaxis\": {\"backgroundcolor\": \"#E5ECF6\", \"gridcolor\": \"white\", \"gridwidth\": 2, \"linecolor\": \"white\", \"showbackground\": true, \"ticks\": \"\", \"zerolinecolor\": \"white\"}, \"yaxis\": {\"backgroundcolor\": \"#E5ECF6\", \"gridcolor\": \"white\", \"gridwidth\": 2, \"linecolor\": \"white\", \"showbackground\": true, \"ticks\": \"\", \"zerolinecolor\": \"white\"}, \"zaxis\": {\"backgroundcolor\": \"#E5ECF6\", \"gridcolor\": \"white\", \"gridwidth\": 2, \"linecolor\": \"white\", \"showbackground\": true, \"ticks\": \"\", \"zerolinecolor\": \"white\"}}, \"shapedefaults\": {\"line\": {\"color\": \"#2a3f5f\"}}, \"ternary\": {\"aaxis\": {\"gridcolor\": \"white\", \"linecolor\": \"white\", \"ticks\": \"\"}, \"baxis\": {\"gridcolor\": \"white\", \"linecolor\": \"white\", \"ticks\": \"\"}, \"bgcolor\": \"#E5ECF6\", \"caxis\": {\"gridcolor\": \"white\", \"linecolor\": \"white\", \"ticks\": \"\"}}, \"title\": {\"x\": 0.05}, \"xaxis\": {\"automargin\": true, \"gridcolor\": \"white\", \"linecolor\": \"white\", \"ticks\": \"\", \"title\": {\"standoff\": 15}, \"zerolinecolor\": \"white\", \"zerolinewidth\": 2}, \"yaxis\": {\"automargin\": true, \"gridcolor\": \"white\", \"linecolor\": \"white\", \"ticks\": \"\", \"title\": {\"standoff\": 15}, \"zerolinecolor\": \"white\", \"zerolinewidth\": 2}}}, \"title\": {\"text\": \"Happiness Score compared to Perception of Corruption Score\"}, \"width\": 1000, \"xaxis\": {\"anchor\": \"y\", \"domain\": [0.0, 1.0], \"range\": [0, 8], \"title\": {\"text\": \"Happiness Score\"}}, \"yaxis\": {\"anchor\": \"x\", \"domain\": [0.0, 1.0], \"title\": {\"text\": \"Perception of Corruption Score\"}}},                        {\"responsive\": true}                    ).then(function(){\n",
       "                            \n",
       "var gd = document.getElementById('c21dd179-dd91-4750-8585-c3e712ff88c3');\n",
       "var x = new MutationObserver(function (mutations, observer) {{\n",
       "        var display = window.getComputedStyle(gd).display;\n",
       "        if (!display || display === 'none') {{\n",
       "            console.log([gd, 'removed!']);\n",
       "            Plotly.purge(gd);\n",
       "            observer.disconnect();\n",
       "        }}\n",
       "}});\n",
       "\n",
       "// Listen for the removal of the full notebook cells\n",
       "var notebookContainer = gd.closest('#notebook-container');\n",
       "if (notebookContainer) {{\n",
       "    x.observe(notebookContainer, {childList: true});\n",
       "}}\n",
       "\n",
       "// Listen for the clearing of the current output cell\n",
       "var outputEl = gd.closest('.output');\n",
       "if (outputEl) {{\n",
       "    x.observe(outputEl, {childList: true});\n",
       "}}\n",
       "\n",
       "                        })                };                });            </script>        </div>"
      ]
     },
     "metadata": {},
     "output_type": "display_data"
    }
   ],
   "source": [
    "#happiness score vs perception of corruption\n",
    "\n",
    "#establish x and y values\n",
    "x_values = merged_2018[\"Score\"]\n",
    "y_values = merged_2018[\"Perceptions of corruption\"]\n",
    "\n",
    "#px.scatter\n",
    "fig = px.scatter(merged_2018, x_values, y_values, color=\"Region\", hover_name=\"Country or region\",\n",
    "                range_x=[0,8], title=\"Happiness Score compared to Perception of Corruption Score\",\n",
    "                width= 1000, height =600) # use trendline=\"ols\" to see all lin reg equations\n",
    "\n",
    "#set axes labels\n",
    "fig.update_xaxes(title_text='Happiness Score')\n",
    "fig.update_yaxes(title_text='Perception of Corruption Score')\n",
    "\n",
    "\n",
    "#formatting\n",
    "#marker size and colors\n",
    "fig.update_traces(marker=dict(size=10,\n",
    "                              line=dict(width=1, \n",
    "                                        color='DarkSlateGrey')))\n",
    "\n",
    "#linear regression\n",
    "#use linregress from dependencies to inplement linear regression\\\n",
    "#creating mask because returning nan for this\n",
    "mask = ~np.isnan(x_values) & ~np.isnan(y_values)\n",
    "\n",
    "(slope, intercept, rvalue, pvalue, stderr) = linregress(x_values[mask], y_values[mask])\n",
    "regress_values = x_values * slope + intercept\n",
    "\n",
    "#print out all variables calculated above (rvalue, pvalue...)\n",
    "print(f\"slope:{round(slope, 2)}\")\n",
    "print(f\"intercept:{round(intercept,2)}\")\n",
    "res = sts.linregress(x_values, y_values)\n",
    "print(f\"R-squared: {res.rvalue**2:.4f}\")\n",
    "\n",
    "\n",
    "#print out line eq for reference\n",
    "line_eq = (f\"y={round(slope, 2)}x + {round(intercept, 2)}\")\n",
    "print(line_eq)\n",
    "\n",
    "fig.show()"
   ]
  },
  {
   "cell_type": "code",
   "execution_count": null,
   "metadata": {},
   "outputs": [],
   "source": []
  }
 ],
 "metadata": {
  "kernelspec": {
   "display_name": "Python 3",
   "language": "python",
   "name": "python3"
  },
  "language_info": {
   "codemirror_mode": {
    "name": "ipython",
    "version": 3
   },
   "file_extension": ".py",
   "mimetype": "text/x-python",
   "name": "python",
   "nbconvert_exporter": "python",
   "pygments_lexer": "ipython3",
   "version": "3.6.12"
  }
 },
 "nbformat": 4,
 "nbformat_minor": 4
}

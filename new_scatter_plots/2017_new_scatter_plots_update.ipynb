{
 "cells": [
  {
   "cell_type": "code",
   "execution_count": 1,
   "metadata": {},
   "outputs": [],
   "source": [
    "#Dependencies\n",
    "\n",
    "import numpy as np # linear algebra\n",
    "import pandas as pd # data processing, CSV file I/O (e.g. pd.read_csv)\n",
    "import plotly.express as px # for visualization \n",
    "import os\n",
    "import plotly.graph_objects as go\n",
    "from scipy.stats import linregress\n",
    "import scipy.stats as sts"
   ]
  },
  {
   "cell_type": "code",
   "execution_count": 2,
   "metadata": {},
   "outputs": [],
   "source": [
    "#bring in csv file to work with\n",
    "\n",
    "csvpath_2017 = os.path.join('..','Resources', '2017.csv')\n",
    "csv_2017 = pd.read_csv(csvpath_2017)"
   ]
  },
  {
   "cell_type": "code",
   "execution_count": 3,
   "metadata": {},
   "outputs": [],
   "source": [
    "#import happy_region df so we can merge and make region column\n",
    "\n",
    "csvpath_region = os.path.join('..','happy_regions.csv')\n",
    "csv_happy_regions = pd.read_csv(csvpath_region)\n",
    "\n",
    "#lets take out just country and region columns\n",
    "new_region_df = csv_happy_regions[[\"Country\", \"Region\"]]\n",
    "\n",
    "#rename column so it matches with the newly structured csv below\n",
    "new_region_df = new_region_df.rename(columns={\"Country\": \"Country or region\"})\n",
    "\n",
    "#check to see if it worked\n",
    "#new_region_df"
   ]
  },
  {
   "cell_type": "code",
   "execution_count": 4,
   "metadata": {},
   "outputs": [],
   "source": [
    "# Restructure / Rename\n",
    "# datasets from 2015 - 2017.\n",
    "#added region as as column************\n",
    "\n",
    "# Convert / fix 2017 Data\n",
    "\n",
    "csv_2017_restructured = csv_2017[[\"Happiness.Rank\",\n",
    "                                  \"Country\",\n",
    "                                  \"Happiness.Score\",\n",
    "                                  \"Economy..GDP.per.Capita.\",\n",
    "                                  \"Family\",\n",
    "                                  \"Health..Life.Expectancy.\",\n",
    "                                  \"Freedom\",\n",
    "                                  \"Generosity\",\n",
    "                                  \"Trust..Government.Corruption.\"]]\n",
    "\n",
    "csv_2017_restructured = csv_2017_restructured.rename(columns={\"Happiness.Rank\": \"Overall rank\",\n",
    "                                      \"Country\": \"Country or region\",\n",
    "                                      \"Happiness.Score\": \"Score\",\n",
    "                                      \"Economy..GDP.per.Capita.\": \"GDP per capita\",\n",
    "                                      \"Family\": \"Social support\",\n",
    "                                      \"Health..Life.Expectancy.\": \"Healthy life expectancy\",\n",
    "                                      \"Freedom\": \"Freedom to make life choices\",\n",
    "                                      \"Generosity\": \"Generosity\",\n",
    "                                      \"Trust..Government.Corruption.\": \"Perceptions of corruption\"})\n",
    "csv_2017_restructured.head()\n",
    "\n",
    "#let's merge df with region category with csv 2017\n",
    "merged_2017 = pd.merge(csv_2017_restructured, new_region_df, on=\"Country or region\")\n",
    "#merged_2017\n"
   ]
  },
  {
   "cell_type": "code",
   "execution_count": 5,
   "metadata": {},
   "outputs": [
    {
     "ename": "FileNotFoundError",
     "evalue": "[Errno 2] No such file or directory: 'clean_csvs/2017_csv_regions.csv'",
     "output_type": "error",
     "traceback": [
      "\u001b[0;31m---------------------------------------------------------------------------\u001b[0m",
      "\u001b[0;31mFileNotFoundError\u001b[0m                         Traceback (most recent call last)",
      "\u001b[0;32m<ipython-input-5-f876ab901415>\u001b[0m in \u001b[0;36m<module>\u001b[0;34m\u001b[0m\n\u001b[1;32m      3\u001b[0m \u001b[0moutput_file\u001b[0m \u001b[0;34m=\u001b[0m \u001b[0mos\u001b[0m\u001b[0;34m.\u001b[0m\u001b[0mpath\u001b[0m\u001b[0;34m.\u001b[0m\u001b[0mjoin\u001b[0m\u001b[0;34m(\u001b[0m\u001b[0;34m\"clean_csvs/2017_csv_regions.csv\"\u001b[0m\u001b[0;34m)\u001b[0m\u001b[0;34m\u001b[0m\u001b[0;34m\u001b[0m\u001b[0m\n\u001b[1;32m      4\u001b[0m \u001b[0;31m#open output file\u001b[0m\u001b[0;34m\u001b[0m\u001b[0;34m\u001b[0m\u001b[0;34m\u001b[0m\u001b[0m\n\u001b[0;32m----> 5\u001b[0;31m \u001b[0;32mwith\u001b[0m \u001b[0mopen\u001b[0m\u001b[0;34m(\u001b[0m\u001b[0moutput_file\u001b[0m\u001b[0;34m,\u001b[0m \u001b[0;34m'w'\u001b[0m\u001b[0;34m)\u001b[0m \u001b[0;32mas\u001b[0m \u001b[0mdatafile\u001b[0m\u001b[0;34m:\u001b[0m\u001b[0;34m\u001b[0m\u001b[0;34m\u001b[0m\u001b[0m\n\u001b[0m\u001b[1;32m      6\u001b[0m     \u001b[0mmerged_2017\u001b[0m\u001b[0;34m.\u001b[0m\u001b[0mto_csv\u001b[0m\u001b[0;34m(\u001b[0m\u001b[0moutput_file\u001b[0m\u001b[0;34m)\u001b[0m\u001b[0;34m\u001b[0m\u001b[0;34m\u001b[0m\u001b[0m\n\u001b[1;32m      7\u001b[0m \u001b[0;34m\u001b[0m\u001b[0m\n",
      "\u001b[0;31mFileNotFoundError\u001b[0m: [Errno 2] No such file or directory: 'clean_csvs/2017_csv_regions.csv'"
     ]
    }
   ],
   "source": [
    "#write it as csv so we can look at it\n",
    "#output file for data\n",
    "output_file = os.path.join(\"clean_csvs/2017_csv_regions.csv\")\n",
    "#open output file\n",
    "with open(output_file, 'w') as datafile:\n",
    "    merged_2017.to_csv(output_file)\n",
    "\n",
    "merged_2017.head(10)"
   ]
  },
  {
   "cell_type": "code",
   "execution_count": 12,
   "metadata": {},
   "outputs": [
    {
     "name": "stdout",
     "output_type": "stream",
     "text": [
      "slope:0.3\n",
      "intercept:-0.63\n",
      "R-squared: 0.6842\n",
      "y=0.3x + -0.63\n"
     ]
    },
    {
     "data": {
      "application/vnd.plotly.v1+json": {
       "config": {
        "plotlyServerURL": "https://plot.ly"
       },
       "data": [
        {
         "hovertemplate": "<b>%{hovertext}</b><br><br>Region=Europe<br>Score=%{x}<br>GDP per capita=%{y}<extra></extra>",
         "hovertext": [
          "Norway",
          "Denmark",
          "Iceland",
          "Switzerland",
          "Finland",
          "Netherlands",
          "Sweden",
          "Austria",
          "Ireland",
          "Germany",
          "Belgium",
          "Luxembourg",
          "United Kingdom",
          "Czech Republic",
          "Malta",
          "France",
          "Spain",
          "Slovakia",
          "Poland",
          "Uzbekistan",
          "Italy",
          "Russia",
          "Lithuania",
          "Latvia",
          "Moldova",
          "Romania",
          "Turkmenistan",
          "Kazakhstan",
          "North Cyprus",
          "Slovenia",
          "Cyprus",
          "Estonia",
          "Belarus",
          "Serbia",
          "Hungary",
          "Croatia",
          "Kosovo",
          "Montenegro",
          "Azerbaijan",
          "Greece",
          "Portugal",
          "Bosnia and Herzegovina",
          "Macedonia",
          "Tajikistan",
          "Kyrgyzstan",
          "Bulgaria",
          "Albania",
          "Armenia",
          "Georgia",
          "Ukraine"
         ],
         "legendgroup": "Europe",
         "marker": {
          "color": "#636efa",
          "line": {
           "color": "DarkSlateGrey",
           "width": 1
          },
          "size": 10,
          "symbol": "circle"
         },
         "mode": "markers",
         "name": "Europe",
         "orientation": "v",
         "showlegend": true,
         "type": "scatter",
         "x": [
          7.537000179290769,
          7.52199983596802,
          7.50400018692017,
          7.49399995803833,
          7.468999862670901,
          7.3769998550415,
          7.28399991989136,
          7.00600004196167,
          6.9770002365112305,
          6.9510002136230495,
          6.89099979400635,
          6.86299991607666,
          6.71400022506714,
          6.60900020599365,
          6.52699995040894,
          6.44199991226196,
          6.40299987792969,
          6.09800004959106,
          5.97300004959106,
          5.97100019454956,
          5.96400022506714,
          5.962999820709231,
          5.90199995040894,
          5.849999904632571,
          5.837999820709231,
          5.824999809265139,
          5.82200002670288,
          5.8189997673034695,
          5.80999994277954,
          5.75799989700317,
          5.62099981307983,
          5.61100006103516,
          5.5689997673034695,
          5.39499998092651,
          5.32399988174438,
          5.2930002212524405,
          5.27899980545044,
          5.23699998855591,
          5.234000205993651,
          5.2270002365112305,
          5.19500017166138,
          5.18200016021729,
          5.175000190734861,
          5.04099988937378,
          5.0040001869201705,
          4.71400022506714,
          4.64400005340576,
          4.37599992752075,
          4.28599977493286,
          4.09600019454956
         ],
         "xaxis": "x",
         "y": [
          1.6164631843566901,
          1.48238301277161,
          1.480633020401,
          1.5649795532226598,
          1.44357192516327,
          1.50394463539124,
          1.49438726902008,
          1.4870972633361799,
          1.5357066392898602,
          1.48792338371277,
          1.4637807607650801,
          1.74194359779358,
          1.44163393974304,
          1.35268235206604,
          1.34327983856201,
          1.43092346191406,
          1.38439786434174,
          1.32539355754852,
          1.29178786277771,
          0.786441087722778,
          1.3950666189193701,
          1.28177809715271,
          1.3145823478698702,
          1.26074862480164,
          0.7288706302642819,
          1.21768391132355,
          1.1307767629623402,
          1.2845562696456898,
          1.3469113111496,
          1.3412059545516999,
          1.3559380769729599,
          1.3208793401718102,
          1.15655755996704,
          1.06931757926941,
          1.2860119342803997,
          1.22255623340607,
          0.951484382152557,
          1.12112903594971,
          1.1536017656326298,
          1.28948748111725,
          1.3151752948761002,
          0.982409417629242,
          1.06457793712616,
          0.524713635444641,
          0.5962200760841371,
          1.1614590883255,
          0.996192753314972,
          0.900596737861633,
          0.950612664222717,
          0.89465194940567
         ],
         "yaxis": "y"
        },
        {
         "hovertemplate": "<b>%{hovertext}</b><br><br>Region=North America<br>Score=%{x}<br>GDP per capita=%{y}<extra></extra>",
         "hovertext": [
          "Canada",
          "United States"
         ],
         "legendgroup": "North America",
         "marker": {
          "color": "#EF553B",
          "line": {
           "color": "DarkSlateGrey",
           "width": 1
          },
          "size": 10,
          "symbol": "circle"
         },
         "mode": "markers",
         "name": "North America",
         "orientation": "v",
         "showlegend": true,
         "type": "scatter",
         "x": [
          7.31599998474121,
          6.993000030517581
         ],
         "xaxis": "x",
         "y": [
          1.47920441627502,
          1.54625928401947
         ],
         "yaxis": "y"
        },
        {
         "hovertemplate": "<b>%{hovertext}</b><br><br>Region=Australia and New Zealand<br>Score=%{x}<br>GDP per capita=%{y}<extra></extra>",
         "hovertext": [
          "New Zealand",
          "Australia"
         ],
         "legendgroup": "Australia and New Zealand",
         "marker": {
          "color": "#00cc96",
          "line": {
           "color": "DarkSlateGrey",
           "width": 1
          },
          "size": 10,
          "symbol": "circle"
         },
         "mode": "markers",
         "name": "Australia and New Zealand",
         "orientation": "v",
         "showlegend": true,
         "type": "scatter",
         "x": [
          7.31400012969971,
          7.28399991989136
         ],
         "xaxis": "x",
         "y": [
          1.40570604801178,
          1.4844149351120002
         ],
         "yaxis": "y"
        },
        {
         "hovertemplate": "<b>%{hovertext}</b><br><br>Region=Middle East and Northern Africa<br>Score=%{x}<br>GDP per capita=%{y}<extra></extra>",
         "hovertext": [
          "Israel",
          "United Arab Emirates",
          "Qatar",
          "Saudi Arabia",
          "Kuwait",
          "Bahrain",
          "Algeria",
          "Libya",
          "Turkey",
          "Jordan",
          "Morocco",
          "Lebanon",
          "Tunisia",
          "Palestinian Territories",
          "Egypt",
          "Iran",
          "Iraq",
          "Yemen",
          "Syria"
         ],
         "legendgroup": "Middle East and Northern Africa",
         "marker": {
          "color": "#ab63fa",
          "line": {
           "color": "DarkSlateGrey",
           "width": 1
          },
          "size": 10,
          "symbol": "circle"
         },
         "mode": "markers",
         "name": "Middle East and Northern Africa",
         "orientation": "v",
         "showlegend": true,
         "type": "scatter",
         "x": [
          7.212999820709231,
          6.6479997634887695,
          6.375,
          6.343999862670901,
          6.10500001907349,
          6.08699989318848,
          5.872000217437741,
          5.525000095367429,
          5.5,
          5.33599996566772,
          5.2350001335144,
          5.22499990463257,
          4.80499982833862,
          4.77500009536743,
          4.7350001335144,
          4.69199991226196,
          4.49700021743774,
          3.59299993515015,
          3.46199989318848
         ],
         "xaxis": "x",
         "y": [
          1.3753824234008798,
          1.6263433694839498,
          1.8707656860351598,
          1.53062355518341,
          1.63295245170593,
          1.4884122610092199,
          1.09186446666718,
          1.1018030643463101,
          1.1982743740081798,
          0.9910123944282528,
          0.8781145811080929,
          1.07498753070831,
          1.00726580619812,
          0.716249227523804,
          0.989701807498932,
          1.15687310695648,
          1.1027104854583702,
          0.5916834473609921,
          0.777153134346008
         ],
         "yaxis": "y"
        },
        {
         "hovertemplate": "<b>%{hovertext}</b><br><br>Region=Latin America and Caribbean<br>Score=%{x}<br>GDP per capita=%{y}<extra></extra>",
         "hovertext": [
          "Costa Rica",
          "Chile",
          "Brazil",
          "Argentina",
          "Mexico",
          "Uruguay",
          "Guatemala",
          "Panama",
          "Colombia",
          "Trinidad and Tobago",
          "Nicaragua",
          "Ecuador",
          "El Salvador",
          "Bolivia",
          "Peru",
          "Paraguay",
          "Jamaica",
          "Venezuela",
          "Dominican Republic",
          "Honduras",
          "Haiti"
         ],
         "legendgroup": "Latin America and Caribbean",
         "marker": {
          "color": "#FFA15A",
          "line": {
           "color": "DarkSlateGrey",
           "width": 1
          },
          "size": 10,
          "symbol": "circle"
         },
         "mode": "markers",
         "name": "Latin America and Caribbean",
         "orientation": "v",
         "showlegend": true,
         "type": "scatter",
         "x": [
          7.0789999961853,
          6.65199995040894,
          6.6350002288818395,
          6.59899997711182,
          6.57800006866455,
          6.4539999961853,
          6.4539999961853,
          6.4520001411438,
          6.35699987411499,
          6.1680002212524405,
          6.07100009918213,
          6.00799989700317,
          6.002999782562259,
          5.82299995422363,
          5.71500015258789,
          5.493000030517581,
          5.31099987030029,
          5.25,
          5.230000019073491,
          5.1810002326965305,
          3.6029999256133998
         ],
         "xaxis": "x",
         "y": [
          1.10970628261566,
          1.25278460979462,
          1.1073532104492199,
          1.18529546260834,
          1.1531838178634601,
          1.2175596952438401,
          0.872001945972443,
          1.23374843597412,
          1.07062232494354,
          1.36135590076447,
          0.737299203872681,
          1.00082039833069,
          0.9097844958305359,
          0.833756566047668,
          1.0352252721786501,
          0.932537317276001,
          0.925579309463501,
          1.12843120098114,
          1.07937383651733,
          0.730573117733002,
          0.368610262870789
         ],
         "yaxis": "y"
        },
        {
         "hovertemplate": "<b>%{hovertext}</b><br><br>Region=Asia<br>Score=%{x}<br>GDP per capita=%{y}<extra></extra>",
         "hovertext": [
          "Singapore",
          "Thailand",
          "Malaysia",
          "Japan",
          "South Korea",
          "Philippines",
          "China",
          "Pakistan",
          "Indonesia",
          "Vietnam",
          "Bhutan",
          "Nepal",
          "Mongolia",
          "Bangladesh",
          "Myanmar",
          "Sri Lanka",
          "India",
          "Cambodia",
          "Afghanistan"
         ],
         "legendgroup": "Asia",
         "marker": {
          "color": "#19d3f3",
          "line": {
           "color": "DarkSlateGrey",
           "width": 1
          },
          "size": 10,
          "symbol": "circle"
         },
         "mode": "markers",
         "name": "Asia",
         "orientation": "v",
         "showlegend": true,
         "type": "scatter",
         "x": [
          6.57200002670288,
          6.4239997863769505,
          6.08400011062622,
          5.92000007629395,
          5.837999820709231,
          5.42999982833862,
          5.2729997634887695,
          5.26900005340576,
          5.26200008392334,
          5.07399988174438,
          5.01100015640259,
          4.961999893188481,
          4.95499992370605,
          4.60799980163574,
          4.54500007629395,
          4.44000005722046,
          4.31500005722046,
          4.1680002212524405,
          3.7939999103546103
         ],
         "xaxis": "x",
         "y": [
          1.69227766990662,
          1.12786877155304,
          1.29121541976929,
          1.41691517829895,
          1.40167844295502,
          0.85769921541214,
          1.08116579055786,
          0.7268835306167599,
          0.995538592338562,
          0.7885475754737851,
          0.885416388511658,
          0.479820191860199,
          1.0272358655929599,
          0.586682975292206,
          0.36711055040359497,
          1.00985014438629,
          0.7922212481498722,
          0.6017650961875921,
          0.401477217674255
         ],
         "yaxis": "y"
        },
        {
         "hovertemplate": "<b>%{hovertext}</b><br><br>Region=Sub-Saharan Africa<br>Score=%{x}<br>GDP per capita=%{y}<extra></extra>",
         "hovertext": [
          "Mauritius",
          "Nigeria",
          "South Africa",
          "Sierra Leone",
          "Cameroon",
          "Kenya",
          "Mozambique",
          "Senegal",
          "Zambia",
          "Gabon",
          "Ethiopia",
          "Mauritania",
          "Congo (Brazzaville)",
          "Congo (Kinshasa)",
          "Mali",
          "Ivory Coast",
          "Sudan",
          "Ghana",
          "Uganda",
          "Burkina Faso",
          "Niger",
          "Malawi",
          "Chad",
          "Zimbabwe",
          "Lesotho",
          "Angola",
          "Botswana",
          "Benin",
          "Madagascar",
          "Liberia",
          "Guinea",
          "Togo",
          "Rwanda",
          "Tanzania",
          "Burundi",
          "Central African Republic"
         ],
         "legendgroup": "Sub-Saharan Africa",
         "marker": {
          "color": "#FF6692",
          "line": {
           "color": "DarkSlateGrey",
           "width": 1
          },
          "size": 10,
          "symbol": "circle"
         },
         "mode": "markers",
         "name": "Sub-Saharan Africa",
         "orientation": "v",
         "showlegend": true,
         "type": "scatter",
         "x": [
          5.62900018692017,
          5.07399988174438,
          4.8289999961853,
          4.70900011062622,
          4.69500017166138,
          4.55299997329712,
          4.550000190734861,
          4.53499984741211,
          4.513999938964839,
          4.46500015258789,
          4.46000003814697,
          4.29199981689453,
          4.29099988937378,
          4.2800002098083505,
          4.19000005722046,
          4.17999982833862,
          4.138999938964839,
          4.11999988555908,
          4.08099985122681,
          4.03200006484985,
          4.02799987792969,
          3.97000002861023,
          3.9360001087188703,
          3.875,
          3.80800008773804,
          3.79500007629395,
          3.7660000324249303,
          3.65700006484985,
          3.64400005340576,
          3.5329999923706095,
          3.50699996948242,
          3.4949998855590803,
          3.47099995613098,
          3.34899997711182,
          2.90499997138977,
          2.69300007820129
         ],
         "xaxis": "x",
         "y": [
          1.1893955469131499,
          0.783756256103516,
          1.05469870567322,
          0.36842092871666,
          0.564305365085602,
          0.560479462146759,
          0.23430564999580397,
          0.479309022426605,
          0.6364067792892459,
          1.1982102394104,
          0.339233845472336,
          0.6484572887420649,
          0.8089642524719242,
          0.0921023488044739,
          0.476180493831635,
          0.6030489206314089,
          0.6595166921615601,
          0.667224824428558,
          0.381430715322495,
          0.35022771358490007,
          0.16192533075809498,
          0.233442038297653,
          0.43801298737525896,
          0.37584653496742204,
          0.521021246910095,
          0.8584281802177429,
          1.12209415435791,
          0.43108540773391707,
          0.305808693170547,
          0.11904179304838199,
          0.24454993009567302,
          0.30544471740722695,
          0.368745893239975,
          0.511135876178741,
          0.09162256866693501,
          0
         ],
         "yaxis": "y"
        }
       ],
       "layout": {
        "height": 600,
        "legend": {
         "title": {
          "text": "Region"
         },
         "tracegroupgap": 0
        },
        "template": {
         "data": {
          "bar": [
           {
            "error_x": {
             "color": "#2a3f5f"
            },
            "error_y": {
             "color": "#2a3f5f"
            },
            "marker": {
             "line": {
              "color": "#E5ECF6",
              "width": 0.5
             }
            },
            "type": "bar"
           }
          ],
          "barpolar": [
           {
            "marker": {
             "line": {
              "color": "#E5ECF6",
              "width": 0.5
             }
            },
            "type": "barpolar"
           }
          ],
          "carpet": [
           {
            "aaxis": {
             "endlinecolor": "#2a3f5f",
             "gridcolor": "white",
             "linecolor": "white",
             "minorgridcolor": "white",
             "startlinecolor": "#2a3f5f"
            },
            "baxis": {
             "endlinecolor": "#2a3f5f",
             "gridcolor": "white",
             "linecolor": "white",
             "minorgridcolor": "white",
             "startlinecolor": "#2a3f5f"
            },
            "type": "carpet"
           }
          ],
          "choropleth": [
           {
            "colorbar": {
             "outlinewidth": 0,
             "ticks": ""
            },
            "type": "choropleth"
           }
          ],
          "contour": [
           {
            "colorbar": {
             "outlinewidth": 0,
             "ticks": ""
            },
            "colorscale": [
             [
              0,
              "#0d0887"
             ],
             [
              0.1111111111111111,
              "#46039f"
             ],
             [
              0.2222222222222222,
              "#7201a8"
             ],
             [
              0.3333333333333333,
              "#9c179e"
             ],
             [
              0.4444444444444444,
              "#bd3786"
             ],
             [
              0.5555555555555556,
              "#d8576b"
             ],
             [
              0.6666666666666666,
              "#ed7953"
             ],
             [
              0.7777777777777778,
              "#fb9f3a"
             ],
             [
              0.8888888888888888,
              "#fdca26"
             ],
             [
              1,
              "#f0f921"
             ]
            ],
            "type": "contour"
           }
          ],
          "contourcarpet": [
           {
            "colorbar": {
             "outlinewidth": 0,
             "ticks": ""
            },
            "type": "contourcarpet"
           }
          ],
          "heatmap": [
           {
            "colorbar": {
             "outlinewidth": 0,
             "ticks": ""
            },
            "colorscale": [
             [
              0,
              "#0d0887"
             ],
             [
              0.1111111111111111,
              "#46039f"
             ],
             [
              0.2222222222222222,
              "#7201a8"
             ],
             [
              0.3333333333333333,
              "#9c179e"
             ],
             [
              0.4444444444444444,
              "#bd3786"
             ],
             [
              0.5555555555555556,
              "#d8576b"
             ],
             [
              0.6666666666666666,
              "#ed7953"
             ],
             [
              0.7777777777777778,
              "#fb9f3a"
             ],
             [
              0.8888888888888888,
              "#fdca26"
             ],
             [
              1,
              "#f0f921"
             ]
            ],
            "type": "heatmap"
           }
          ],
          "heatmapgl": [
           {
            "colorbar": {
             "outlinewidth": 0,
             "ticks": ""
            },
            "colorscale": [
             [
              0,
              "#0d0887"
             ],
             [
              0.1111111111111111,
              "#46039f"
             ],
             [
              0.2222222222222222,
              "#7201a8"
             ],
             [
              0.3333333333333333,
              "#9c179e"
             ],
             [
              0.4444444444444444,
              "#bd3786"
             ],
             [
              0.5555555555555556,
              "#d8576b"
             ],
             [
              0.6666666666666666,
              "#ed7953"
             ],
             [
              0.7777777777777778,
              "#fb9f3a"
             ],
             [
              0.8888888888888888,
              "#fdca26"
             ],
             [
              1,
              "#f0f921"
             ]
            ],
            "type": "heatmapgl"
           }
          ],
          "histogram": [
           {
            "marker": {
             "colorbar": {
              "outlinewidth": 0,
              "ticks": ""
             }
            },
            "type": "histogram"
           }
          ],
          "histogram2d": [
           {
            "colorbar": {
             "outlinewidth": 0,
             "ticks": ""
            },
            "colorscale": [
             [
              0,
              "#0d0887"
             ],
             [
              0.1111111111111111,
              "#46039f"
             ],
             [
              0.2222222222222222,
              "#7201a8"
             ],
             [
              0.3333333333333333,
              "#9c179e"
             ],
             [
              0.4444444444444444,
              "#bd3786"
             ],
             [
              0.5555555555555556,
              "#d8576b"
             ],
             [
              0.6666666666666666,
              "#ed7953"
             ],
             [
              0.7777777777777778,
              "#fb9f3a"
             ],
             [
              0.8888888888888888,
              "#fdca26"
             ],
             [
              1,
              "#f0f921"
             ]
            ],
            "type": "histogram2d"
           }
          ],
          "histogram2dcontour": [
           {
            "colorbar": {
             "outlinewidth": 0,
             "ticks": ""
            },
            "colorscale": [
             [
              0,
              "#0d0887"
             ],
             [
              0.1111111111111111,
              "#46039f"
             ],
             [
              0.2222222222222222,
              "#7201a8"
             ],
             [
              0.3333333333333333,
              "#9c179e"
             ],
             [
              0.4444444444444444,
              "#bd3786"
             ],
             [
              0.5555555555555556,
              "#d8576b"
             ],
             [
              0.6666666666666666,
              "#ed7953"
             ],
             [
              0.7777777777777778,
              "#fb9f3a"
             ],
             [
              0.8888888888888888,
              "#fdca26"
             ],
             [
              1,
              "#f0f921"
             ]
            ],
            "type": "histogram2dcontour"
           }
          ],
          "mesh3d": [
           {
            "colorbar": {
             "outlinewidth": 0,
             "ticks": ""
            },
            "type": "mesh3d"
           }
          ],
          "parcoords": [
           {
            "line": {
             "colorbar": {
              "outlinewidth": 0,
              "ticks": ""
             }
            },
            "type": "parcoords"
           }
          ],
          "pie": [
           {
            "automargin": true,
            "type": "pie"
           }
          ],
          "scatter": [
           {
            "marker": {
             "colorbar": {
              "outlinewidth": 0,
              "ticks": ""
             }
            },
            "type": "scatter"
           }
          ],
          "scatter3d": [
           {
            "line": {
             "colorbar": {
              "outlinewidth": 0,
              "ticks": ""
             }
            },
            "marker": {
             "colorbar": {
              "outlinewidth": 0,
              "ticks": ""
             }
            },
            "type": "scatter3d"
           }
          ],
          "scattercarpet": [
           {
            "marker": {
             "colorbar": {
              "outlinewidth": 0,
              "ticks": ""
             }
            },
            "type": "scattercarpet"
           }
          ],
          "scattergeo": [
           {
            "marker": {
             "colorbar": {
              "outlinewidth": 0,
              "ticks": ""
             }
            },
            "type": "scattergeo"
           }
          ],
          "scattergl": [
           {
            "marker": {
             "colorbar": {
              "outlinewidth": 0,
              "ticks": ""
             }
            },
            "type": "scattergl"
           }
          ],
          "scattermapbox": [
           {
            "marker": {
             "colorbar": {
              "outlinewidth": 0,
              "ticks": ""
             }
            },
            "type": "scattermapbox"
           }
          ],
          "scatterpolar": [
           {
            "marker": {
             "colorbar": {
              "outlinewidth": 0,
              "ticks": ""
             }
            },
            "type": "scatterpolar"
           }
          ],
          "scatterpolargl": [
           {
            "marker": {
             "colorbar": {
              "outlinewidth": 0,
              "ticks": ""
             }
            },
            "type": "scatterpolargl"
           }
          ],
          "scatterternary": [
           {
            "marker": {
             "colorbar": {
              "outlinewidth": 0,
              "ticks": ""
             }
            },
            "type": "scatterternary"
           }
          ],
          "surface": [
           {
            "colorbar": {
             "outlinewidth": 0,
             "ticks": ""
            },
            "colorscale": [
             [
              0,
              "#0d0887"
             ],
             [
              0.1111111111111111,
              "#46039f"
             ],
             [
              0.2222222222222222,
              "#7201a8"
             ],
             [
              0.3333333333333333,
              "#9c179e"
             ],
             [
              0.4444444444444444,
              "#bd3786"
             ],
             [
              0.5555555555555556,
              "#d8576b"
             ],
             [
              0.6666666666666666,
              "#ed7953"
             ],
             [
              0.7777777777777778,
              "#fb9f3a"
             ],
             [
              0.8888888888888888,
              "#fdca26"
             ],
             [
              1,
              "#f0f921"
             ]
            ],
            "type": "surface"
           }
          ],
          "table": [
           {
            "cells": {
             "fill": {
              "color": "#EBF0F8"
             },
             "line": {
              "color": "white"
             }
            },
            "header": {
             "fill": {
              "color": "#C8D4E3"
             },
             "line": {
              "color": "white"
             }
            },
            "type": "table"
           }
          ]
         },
         "layout": {
          "annotationdefaults": {
           "arrowcolor": "#2a3f5f",
           "arrowhead": 0,
           "arrowwidth": 1
          },
          "autotypenumbers": "strict",
          "coloraxis": {
           "colorbar": {
            "outlinewidth": 0,
            "ticks": ""
           }
          },
          "colorscale": {
           "diverging": [
            [
             0,
             "#8e0152"
            ],
            [
             0.1,
             "#c51b7d"
            ],
            [
             0.2,
             "#de77ae"
            ],
            [
             0.3,
             "#f1b6da"
            ],
            [
             0.4,
             "#fde0ef"
            ],
            [
             0.5,
             "#f7f7f7"
            ],
            [
             0.6,
             "#e6f5d0"
            ],
            [
             0.7,
             "#b8e186"
            ],
            [
             0.8,
             "#7fbc41"
            ],
            [
             0.9,
             "#4d9221"
            ],
            [
             1,
             "#276419"
            ]
           ],
           "sequential": [
            [
             0,
             "#0d0887"
            ],
            [
             0.1111111111111111,
             "#46039f"
            ],
            [
             0.2222222222222222,
             "#7201a8"
            ],
            [
             0.3333333333333333,
             "#9c179e"
            ],
            [
             0.4444444444444444,
             "#bd3786"
            ],
            [
             0.5555555555555556,
             "#d8576b"
            ],
            [
             0.6666666666666666,
             "#ed7953"
            ],
            [
             0.7777777777777778,
             "#fb9f3a"
            ],
            [
             0.8888888888888888,
             "#fdca26"
            ],
            [
             1,
             "#f0f921"
            ]
           ],
           "sequentialminus": [
            [
             0,
             "#0d0887"
            ],
            [
             0.1111111111111111,
             "#46039f"
            ],
            [
             0.2222222222222222,
             "#7201a8"
            ],
            [
             0.3333333333333333,
             "#9c179e"
            ],
            [
             0.4444444444444444,
             "#bd3786"
            ],
            [
             0.5555555555555556,
             "#d8576b"
            ],
            [
             0.6666666666666666,
             "#ed7953"
            ],
            [
             0.7777777777777778,
             "#fb9f3a"
            ],
            [
             0.8888888888888888,
             "#fdca26"
            ],
            [
             1,
             "#f0f921"
            ]
           ]
          },
          "colorway": [
           "#636efa",
           "#EF553B",
           "#00cc96",
           "#ab63fa",
           "#FFA15A",
           "#19d3f3",
           "#FF6692",
           "#B6E880",
           "#FF97FF",
           "#FECB52"
          ],
          "font": {
           "color": "#2a3f5f"
          },
          "geo": {
           "bgcolor": "white",
           "lakecolor": "white",
           "landcolor": "#E5ECF6",
           "showlakes": true,
           "showland": true,
           "subunitcolor": "white"
          },
          "hoverlabel": {
           "align": "left"
          },
          "hovermode": "closest",
          "mapbox": {
           "style": "light"
          },
          "paper_bgcolor": "white",
          "plot_bgcolor": "#E5ECF6",
          "polar": {
           "angularaxis": {
            "gridcolor": "white",
            "linecolor": "white",
            "ticks": ""
           },
           "bgcolor": "#E5ECF6",
           "radialaxis": {
            "gridcolor": "white",
            "linecolor": "white",
            "ticks": ""
           }
          },
          "scene": {
           "xaxis": {
            "backgroundcolor": "#E5ECF6",
            "gridcolor": "white",
            "gridwidth": 2,
            "linecolor": "white",
            "showbackground": true,
            "ticks": "",
            "zerolinecolor": "white"
           },
           "yaxis": {
            "backgroundcolor": "#E5ECF6",
            "gridcolor": "white",
            "gridwidth": 2,
            "linecolor": "white",
            "showbackground": true,
            "ticks": "",
            "zerolinecolor": "white"
           },
           "zaxis": {
            "backgroundcolor": "#E5ECF6",
            "gridcolor": "white",
            "gridwidth": 2,
            "linecolor": "white",
            "showbackground": true,
            "ticks": "",
            "zerolinecolor": "white"
           }
          },
          "shapedefaults": {
           "line": {
            "color": "#2a3f5f"
           }
          },
          "ternary": {
           "aaxis": {
            "gridcolor": "white",
            "linecolor": "white",
            "ticks": ""
           },
           "baxis": {
            "gridcolor": "white",
            "linecolor": "white",
            "ticks": ""
           },
           "bgcolor": "#E5ECF6",
           "caxis": {
            "gridcolor": "white",
            "linecolor": "white",
            "ticks": ""
           }
          },
          "title": {
           "x": 0.05
          },
          "xaxis": {
           "automargin": true,
           "gridcolor": "white",
           "linecolor": "white",
           "ticks": "",
           "title": {
            "standoff": 15
           },
           "zerolinecolor": "white",
           "zerolinewidth": 2
          },
          "yaxis": {
           "automargin": true,
           "gridcolor": "white",
           "linecolor": "white",
           "ticks": "",
           "title": {
            "standoff": 15
           },
           "zerolinecolor": "white",
           "zerolinewidth": 2
          }
         }
        },
        "title": {
         "text": "Happiness Score compared to GDP per Capita Score"
        },
        "width": 1000,
        "xaxis": {
         "anchor": "y",
         "domain": [
          0,
          1
         ],
         "range": [
          0,
          8
         ],
         "title": {
          "text": "Happiness Score"
         }
        },
        "yaxis": {
         "anchor": "x",
         "domain": [
          0,
          1
         ],
         "title": {
          "text": "GDP per Capita"
         }
        }
       }
      },
      "text/html": [
       "<div>                            <div id=\"7f37b357-ce5c-4f58-8c0b-d3a5e1adb45f\" class=\"plotly-graph-div\" style=\"height:600px; width:1000px;\"></div>            <script type=\"text/javascript\">                require([\"plotly\"], function(Plotly) {                    window.PLOTLYENV=window.PLOTLYENV || {};                                    if (document.getElementById(\"7f37b357-ce5c-4f58-8c0b-d3a5e1adb45f\")) {                    Plotly.newPlot(                        \"7f37b357-ce5c-4f58-8c0b-d3a5e1adb45f\",                        [{\"hovertemplate\": \"<b>%{hovertext}</b><br><br>Region=Europe<br>Score=%{x}<br>GDP per capita=%{y}<extra></extra>\", \"hovertext\": [\"Norway\", \"Denmark\", \"Iceland\", \"Switzerland\", \"Finland\", \"Netherlands\", \"Sweden\", \"Austria\", \"Ireland\", \"Germany\", \"Belgium\", \"Luxembourg\", \"United Kingdom\", \"Czech Republic\", \"Malta\", \"France\", \"Spain\", \"Slovakia\", \"Poland\", \"Uzbekistan\", \"Italy\", \"Russia\", \"Lithuania\", \"Latvia\", \"Moldova\", \"Romania\", \"Turkmenistan\", \"Kazakhstan\", \"North Cyprus\", \"Slovenia\", \"Cyprus\", \"Estonia\", \"Belarus\", \"Serbia\", \"Hungary\", \"Croatia\", \"Kosovo\", \"Montenegro\", \"Azerbaijan\", \"Greece\", \"Portugal\", \"Bosnia and Herzegovina\", \"Macedonia\", \"Tajikistan\", \"Kyrgyzstan\", \"Bulgaria\", \"Albania\", \"Armenia\", \"Georgia\", \"Ukraine\"], \"legendgroup\": \"Europe\", \"marker\": {\"color\": \"#636efa\", \"line\": {\"color\": \"DarkSlateGrey\", \"width\": 1}, \"size\": 10, \"symbol\": \"circle\"}, \"mode\": \"markers\", \"name\": \"Europe\", \"orientation\": \"v\", \"showlegend\": true, \"type\": \"scatter\", \"x\": [7.537000179290769, 7.52199983596802, 7.50400018692017, 7.49399995803833, 7.468999862670901, 7.3769998550415, 7.28399991989136, 7.00600004196167, 6.9770002365112305, 6.9510002136230495, 6.89099979400635, 6.86299991607666, 6.71400022506714, 6.60900020599365, 6.52699995040894, 6.44199991226196, 6.40299987792969, 6.09800004959106, 5.97300004959106, 5.97100019454956, 5.96400022506714, 5.962999820709231, 5.90199995040894, 5.849999904632571, 5.837999820709231, 5.824999809265139, 5.82200002670288, 5.8189997673034695, 5.80999994277954, 5.75799989700317, 5.62099981307983, 5.61100006103516, 5.5689997673034695, 5.39499998092651, 5.32399988174438, 5.2930002212524405, 5.27899980545044, 5.23699998855591, 5.234000205993651, 5.2270002365112305, 5.19500017166138, 5.18200016021729, 5.175000190734861, 5.04099988937378, 5.0040001869201705, 4.71400022506714, 4.64400005340576, 4.37599992752075, 4.28599977493286, 4.09600019454956], \"xaxis\": \"x\", \"y\": [1.6164631843566901, 1.48238301277161, 1.480633020401, 1.5649795532226598, 1.44357192516327, 1.50394463539124, 1.49438726902008, 1.4870972633361799, 1.5357066392898602, 1.48792338371277, 1.4637807607650801, 1.74194359779358, 1.44163393974304, 1.35268235206604, 1.34327983856201, 1.43092346191406, 1.38439786434174, 1.32539355754852, 1.29178786277771, 0.786441087722778, 1.3950666189193701, 1.28177809715271, 1.3145823478698702, 1.26074862480164, 0.7288706302642819, 1.21768391132355, 1.1307767629623402, 1.2845562696456898, 1.3469113111496, 1.3412059545516999, 1.3559380769729599, 1.3208793401718102, 1.15655755996704, 1.06931757926941, 1.2860119342803997, 1.22255623340607, 0.951484382152557, 1.12112903594971, 1.1536017656326298, 1.28948748111725, 1.3151752948761002, 0.982409417629242, 1.06457793712616, 0.524713635444641, 0.5962200760841371, 1.1614590883255, 0.996192753314972, 0.900596737861633, 0.950612664222717, 0.89465194940567], \"yaxis\": \"y\"}, {\"hovertemplate\": \"<b>%{hovertext}</b><br><br>Region=North America<br>Score=%{x}<br>GDP per capita=%{y}<extra></extra>\", \"hovertext\": [\"Canada\", \"United States\"], \"legendgroup\": \"North America\", \"marker\": {\"color\": \"#EF553B\", \"line\": {\"color\": \"DarkSlateGrey\", \"width\": 1}, \"size\": 10, \"symbol\": \"circle\"}, \"mode\": \"markers\", \"name\": \"North America\", \"orientation\": \"v\", \"showlegend\": true, \"type\": \"scatter\", \"x\": [7.31599998474121, 6.993000030517581], \"xaxis\": \"x\", \"y\": [1.47920441627502, 1.54625928401947], \"yaxis\": \"y\"}, {\"hovertemplate\": \"<b>%{hovertext}</b><br><br>Region=Australia and New Zealand<br>Score=%{x}<br>GDP per capita=%{y}<extra></extra>\", \"hovertext\": [\"New Zealand\", \"Australia\"], \"legendgroup\": \"Australia and New Zealand\", \"marker\": {\"color\": \"#00cc96\", \"line\": {\"color\": \"DarkSlateGrey\", \"width\": 1}, \"size\": 10, \"symbol\": \"circle\"}, \"mode\": \"markers\", \"name\": \"Australia and New Zealand\", \"orientation\": \"v\", \"showlegend\": true, \"type\": \"scatter\", \"x\": [7.31400012969971, 7.28399991989136], \"xaxis\": \"x\", \"y\": [1.40570604801178, 1.4844149351120002], \"yaxis\": \"y\"}, {\"hovertemplate\": \"<b>%{hovertext}</b><br><br>Region=Middle East and Northern Africa<br>Score=%{x}<br>GDP per capita=%{y}<extra></extra>\", \"hovertext\": [\"Israel\", \"United Arab Emirates\", \"Qatar\", \"Saudi Arabia\", \"Kuwait\", \"Bahrain\", \"Algeria\", \"Libya\", \"Turkey\", \"Jordan\", \"Morocco\", \"Lebanon\", \"Tunisia\", \"Palestinian Territories\", \"Egypt\", \"Iran\", \"Iraq\", \"Yemen\", \"Syria\"], \"legendgroup\": \"Middle East and Northern Africa\", \"marker\": {\"color\": \"#ab63fa\", \"line\": {\"color\": \"DarkSlateGrey\", \"width\": 1}, \"size\": 10, \"symbol\": \"circle\"}, \"mode\": \"markers\", \"name\": \"Middle East and Northern Africa\", \"orientation\": \"v\", \"showlegend\": true, \"type\": \"scatter\", \"x\": [7.212999820709231, 6.6479997634887695, 6.375, 6.343999862670901, 6.10500001907349, 6.08699989318848, 5.872000217437741, 5.525000095367429, 5.5, 5.33599996566772, 5.2350001335144, 5.22499990463257, 4.80499982833862, 4.77500009536743, 4.7350001335144, 4.69199991226196, 4.49700021743774, 3.59299993515015, 3.46199989318848], \"xaxis\": \"x\", \"y\": [1.3753824234008798, 1.6263433694839498, 1.8707656860351598, 1.53062355518341, 1.63295245170593, 1.4884122610092199, 1.09186446666718, 1.1018030643463101, 1.1982743740081798, 0.9910123944282528, 0.8781145811080929, 1.07498753070831, 1.00726580619812, 0.716249227523804, 0.989701807498932, 1.15687310695648, 1.1027104854583702, 0.5916834473609921, 0.777153134346008], \"yaxis\": \"y\"}, {\"hovertemplate\": \"<b>%{hovertext}</b><br><br>Region=Latin America and Caribbean<br>Score=%{x}<br>GDP per capita=%{y}<extra></extra>\", \"hovertext\": [\"Costa Rica\", \"Chile\", \"Brazil\", \"Argentina\", \"Mexico\", \"Uruguay\", \"Guatemala\", \"Panama\", \"Colombia\", \"Trinidad and Tobago\", \"Nicaragua\", \"Ecuador\", \"El Salvador\", \"Bolivia\", \"Peru\", \"Paraguay\", \"Jamaica\", \"Venezuela\", \"Dominican Republic\", \"Honduras\", \"Haiti\"], \"legendgroup\": \"Latin America and Caribbean\", \"marker\": {\"color\": \"#FFA15A\", \"line\": {\"color\": \"DarkSlateGrey\", \"width\": 1}, \"size\": 10, \"symbol\": \"circle\"}, \"mode\": \"markers\", \"name\": \"Latin America and Caribbean\", \"orientation\": \"v\", \"showlegend\": true, \"type\": \"scatter\", \"x\": [7.0789999961853, 6.65199995040894, 6.6350002288818395, 6.59899997711182, 6.57800006866455, 6.4539999961853, 6.4539999961853, 6.4520001411438, 6.35699987411499, 6.1680002212524405, 6.07100009918213, 6.00799989700317, 6.002999782562259, 5.82299995422363, 5.71500015258789, 5.493000030517581, 5.31099987030029, 5.25, 5.230000019073491, 5.1810002326965305, 3.6029999256133998], \"xaxis\": \"x\", \"y\": [1.10970628261566, 1.25278460979462, 1.1073532104492199, 1.18529546260834, 1.1531838178634601, 1.2175596952438401, 0.872001945972443, 1.23374843597412, 1.07062232494354, 1.36135590076447, 0.737299203872681, 1.00082039833069, 0.9097844958305359, 0.833756566047668, 1.0352252721786501, 0.932537317276001, 0.925579309463501, 1.12843120098114, 1.07937383651733, 0.730573117733002, 0.368610262870789], \"yaxis\": \"y\"}, {\"hovertemplate\": \"<b>%{hovertext}</b><br><br>Region=Asia<br>Score=%{x}<br>GDP per capita=%{y}<extra></extra>\", \"hovertext\": [\"Singapore\", \"Thailand\", \"Malaysia\", \"Japan\", \"South Korea\", \"Philippines\", \"China\", \"Pakistan\", \"Indonesia\", \"Vietnam\", \"Bhutan\", \"Nepal\", \"Mongolia\", \"Bangladesh\", \"Myanmar\", \"Sri Lanka\", \"India\", \"Cambodia\", \"Afghanistan\"], \"legendgroup\": \"Asia\", \"marker\": {\"color\": \"#19d3f3\", \"line\": {\"color\": \"DarkSlateGrey\", \"width\": 1}, \"size\": 10, \"symbol\": \"circle\"}, \"mode\": \"markers\", \"name\": \"Asia\", \"orientation\": \"v\", \"showlegend\": true, \"type\": \"scatter\", \"x\": [6.57200002670288, 6.4239997863769505, 6.08400011062622, 5.92000007629395, 5.837999820709231, 5.42999982833862, 5.2729997634887695, 5.26900005340576, 5.26200008392334, 5.07399988174438, 5.01100015640259, 4.961999893188481, 4.95499992370605, 4.60799980163574, 4.54500007629395, 4.44000005722046, 4.31500005722046, 4.1680002212524405, 3.7939999103546103], \"xaxis\": \"x\", \"y\": [1.69227766990662, 1.12786877155304, 1.29121541976929, 1.41691517829895, 1.40167844295502, 0.85769921541214, 1.08116579055786, 0.7268835306167599, 0.995538592338562, 0.7885475754737851, 0.885416388511658, 0.479820191860199, 1.0272358655929599, 0.586682975292206, 0.36711055040359497, 1.00985014438629, 0.7922212481498722, 0.6017650961875921, 0.401477217674255], \"yaxis\": \"y\"}, {\"hovertemplate\": \"<b>%{hovertext}</b><br><br>Region=Sub-Saharan Africa<br>Score=%{x}<br>GDP per capita=%{y}<extra></extra>\", \"hovertext\": [\"Mauritius\", \"Nigeria\", \"South Africa\", \"Sierra Leone\", \"Cameroon\", \"Kenya\", \"Mozambique\", \"Senegal\", \"Zambia\", \"Gabon\", \"Ethiopia\", \"Mauritania\", \"Congo (Brazzaville)\", \"Congo (Kinshasa)\", \"Mali\", \"Ivory Coast\", \"Sudan\", \"Ghana\", \"Uganda\", \"Burkina Faso\", \"Niger\", \"Malawi\", \"Chad\", \"Zimbabwe\", \"Lesotho\", \"Angola\", \"Botswana\", \"Benin\", \"Madagascar\", \"Liberia\", \"Guinea\", \"Togo\", \"Rwanda\", \"Tanzania\", \"Burundi\", \"Central African Republic\"], \"legendgroup\": \"Sub-Saharan Africa\", \"marker\": {\"color\": \"#FF6692\", \"line\": {\"color\": \"DarkSlateGrey\", \"width\": 1}, \"size\": 10, \"symbol\": \"circle\"}, \"mode\": \"markers\", \"name\": \"Sub-Saharan Africa\", \"orientation\": \"v\", \"showlegend\": true, \"type\": \"scatter\", \"x\": [5.62900018692017, 5.07399988174438, 4.8289999961853, 4.70900011062622, 4.69500017166138, 4.55299997329712, 4.550000190734861, 4.53499984741211, 4.513999938964839, 4.46500015258789, 4.46000003814697, 4.29199981689453, 4.29099988937378, 4.2800002098083505, 4.19000005722046, 4.17999982833862, 4.138999938964839, 4.11999988555908, 4.08099985122681, 4.03200006484985, 4.02799987792969, 3.97000002861023, 3.9360001087188703, 3.875, 3.80800008773804, 3.79500007629395, 3.7660000324249303, 3.65700006484985, 3.64400005340576, 3.5329999923706095, 3.50699996948242, 3.4949998855590803, 3.47099995613098, 3.34899997711182, 2.90499997138977, 2.69300007820129], \"xaxis\": \"x\", \"y\": [1.1893955469131499, 0.783756256103516, 1.05469870567322, 0.36842092871666, 0.564305365085602, 0.560479462146759, 0.23430564999580397, 0.479309022426605, 0.6364067792892459, 1.1982102394104, 0.339233845472336, 0.6484572887420649, 0.8089642524719242, 0.0921023488044739, 0.476180493831635, 0.6030489206314089, 0.6595166921615601, 0.667224824428558, 0.381430715322495, 0.35022771358490007, 0.16192533075809498, 0.233442038297653, 0.43801298737525896, 0.37584653496742204, 0.521021246910095, 0.8584281802177429, 1.12209415435791, 0.43108540773391707, 0.305808693170547, 0.11904179304838199, 0.24454993009567302, 0.30544471740722695, 0.368745893239975, 0.511135876178741, 0.09162256866693501, 0.0], \"yaxis\": \"y\"}],                        {\"height\": 600, \"legend\": {\"title\": {\"text\": \"Region\"}, \"tracegroupgap\": 0}, \"template\": {\"data\": {\"bar\": [{\"error_x\": {\"color\": \"#2a3f5f\"}, \"error_y\": {\"color\": \"#2a3f5f\"}, \"marker\": {\"line\": {\"color\": \"#E5ECF6\", \"width\": 0.5}}, \"type\": \"bar\"}], \"barpolar\": [{\"marker\": {\"line\": {\"color\": \"#E5ECF6\", \"width\": 0.5}}, \"type\": \"barpolar\"}], \"carpet\": [{\"aaxis\": {\"endlinecolor\": \"#2a3f5f\", \"gridcolor\": \"white\", \"linecolor\": \"white\", \"minorgridcolor\": \"white\", \"startlinecolor\": \"#2a3f5f\"}, \"baxis\": {\"endlinecolor\": \"#2a3f5f\", \"gridcolor\": \"white\", \"linecolor\": \"white\", \"minorgridcolor\": \"white\", \"startlinecolor\": \"#2a3f5f\"}, \"type\": \"carpet\"}], \"choropleth\": [{\"colorbar\": {\"outlinewidth\": 0, \"ticks\": \"\"}, \"type\": \"choropleth\"}], \"contour\": [{\"colorbar\": {\"outlinewidth\": 0, \"ticks\": \"\"}, \"colorscale\": [[0.0, \"#0d0887\"], [0.1111111111111111, \"#46039f\"], [0.2222222222222222, \"#7201a8\"], [0.3333333333333333, \"#9c179e\"], [0.4444444444444444, \"#bd3786\"], [0.5555555555555556, \"#d8576b\"], [0.6666666666666666, \"#ed7953\"], [0.7777777777777778, \"#fb9f3a\"], [0.8888888888888888, \"#fdca26\"], [1.0, \"#f0f921\"]], \"type\": \"contour\"}], \"contourcarpet\": [{\"colorbar\": {\"outlinewidth\": 0, \"ticks\": \"\"}, \"type\": \"contourcarpet\"}], \"heatmap\": [{\"colorbar\": {\"outlinewidth\": 0, \"ticks\": \"\"}, \"colorscale\": [[0.0, \"#0d0887\"], [0.1111111111111111, \"#46039f\"], [0.2222222222222222, \"#7201a8\"], [0.3333333333333333, \"#9c179e\"], [0.4444444444444444, \"#bd3786\"], [0.5555555555555556, \"#d8576b\"], [0.6666666666666666, \"#ed7953\"], [0.7777777777777778, \"#fb9f3a\"], [0.8888888888888888, \"#fdca26\"], [1.0, \"#f0f921\"]], \"type\": \"heatmap\"}], \"heatmapgl\": [{\"colorbar\": {\"outlinewidth\": 0, \"ticks\": \"\"}, \"colorscale\": [[0.0, \"#0d0887\"], [0.1111111111111111, \"#46039f\"], [0.2222222222222222, \"#7201a8\"], [0.3333333333333333, \"#9c179e\"], [0.4444444444444444, \"#bd3786\"], [0.5555555555555556, \"#d8576b\"], [0.6666666666666666, \"#ed7953\"], [0.7777777777777778, \"#fb9f3a\"], [0.8888888888888888, \"#fdca26\"], [1.0, \"#f0f921\"]], \"type\": \"heatmapgl\"}], \"histogram\": [{\"marker\": {\"colorbar\": {\"outlinewidth\": 0, \"ticks\": \"\"}}, \"type\": \"histogram\"}], \"histogram2d\": [{\"colorbar\": {\"outlinewidth\": 0, \"ticks\": \"\"}, \"colorscale\": [[0.0, \"#0d0887\"], [0.1111111111111111, \"#46039f\"], [0.2222222222222222, \"#7201a8\"], [0.3333333333333333, \"#9c179e\"], [0.4444444444444444, \"#bd3786\"], [0.5555555555555556, \"#d8576b\"], [0.6666666666666666, \"#ed7953\"], [0.7777777777777778, \"#fb9f3a\"], [0.8888888888888888, \"#fdca26\"], [1.0, \"#f0f921\"]], \"type\": \"histogram2d\"}], \"histogram2dcontour\": [{\"colorbar\": {\"outlinewidth\": 0, \"ticks\": \"\"}, \"colorscale\": [[0.0, \"#0d0887\"], [0.1111111111111111, \"#46039f\"], [0.2222222222222222, \"#7201a8\"], [0.3333333333333333, \"#9c179e\"], [0.4444444444444444, \"#bd3786\"], [0.5555555555555556, \"#d8576b\"], [0.6666666666666666, \"#ed7953\"], [0.7777777777777778, \"#fb9f3a\"], [0.8888888888888888, \"#fdca26\"], [1.0, \"#f0f921\"]], \"type\": \"histogram2dcontour\"}], \"mesh3d\": [{\"colorbar\": {\"outlinewidth\": 0, \"ticks\": \"\"}, \"type\": \"mesh3d\"}], \"parcoords\": [{\"line\": {\"colorbar\": {\"outlinewidth\": 0, \"ticks\": \"\"}}, \"type\": \"parcoords\"}], \"pie\": [{\"automargin\": true, \"type\": \"pie\"}], \"scatter\": [{\"marker\": {\"colorbar\": {\"outlinewidth\": 0, \"ticks\": \"\"}}, \"type\": \"scatter\"}], \"scatter3d\": [{\"line\": {\"colorbar\": {\"outlinewidth\": 0, \"ticks\": \"\"}}, \"marker\": {\"colorbar\": {\"outlinewidth\": 0, \"ticks\": \"\"}}, \"type\": \"scatter3d\"}], \"scattercarpet\": [{\"marker\": {\"colorbar\": {\"outlinewidth\": 0, \"ticks\": \"\"}}, \"type\": \"scattercarpet\"}], \"scattergeo\": [{\"marker\": {\"colorbar\": {\"outlinewidth\": 0, \"ticks\": \"\"}}, \"type\": \"scattergeo\"}], \"scattergl\": [{\"marker\": {\"colorbar\": {\"outlinewidth\": 0, \"ticks\": \"\"}}, \"type\": \"scattergl\"}], \"scattermapbox\": [{\"marker\": {\"colorbar\": {\"outlinewidth\": 0, \"ticks\": \"\"}}, \"type\": \"scattermapbox\"}], \"scatterpolar\": [{\"marker\": {\"colorbar\": {\"outlinewidth\": 0, \"ticks\": \"\"}}, \"type\": \"scatterpolar\"}], \"scatterpolargl\": [{\"marker\": {\"colorbar\": {\"outlinewidth\": 0, \"ticks\": \"\"}}, \"type\": \"scatterpolargl\"}], \"scatterternary\": [{\"marker\": {\"colorbar\": {\"outlinewidth\": 0, \"ticks\": \"\"}}, \"type\": \"scatterternary\"}], \"surface\": [{\"colorbar\": {\"outlinewidth\": 0, \"ticks\": \"\"}, \"colorscale\": [[0.0, \"#0d0887\"], [0.1111111111111111, \"#46039f\"], [0.2222222222222222, \"#7201a8\"], [0.3333333333333333, \"#9c179e\"], [0.4444444444444444, \"#bd3786\"], [0.5555555555555556, \"#d8576b\"], [0.6666666666666666, \"#ed7953\"], [0.7777777777777778, \"#fb9f3a\"], [0.8888888888888888, \"#fdca26\"], [1.0, \"#f0f921\"]], \"type\": \"surface\"}], \"table\": [{\"cells\": {\"fill\": {\"color\": \"#EBF0F8\"}, \"line\": {\"color\": \"white\"}}, \"header\": {\"fill\": {\"color\": \"#C8D4E3\"}, \"line\": {\"color\": \"white\"}}, \"type\": \"table\"}]}, \"layout\": {\"annotationdefaults\": {\"arrowcolor\": \"#2a3f5f\", \"arrowhead\": 0, \"arrowwidth\": 1}, \"autotypenumbers\": \"strict\", \"coloraxis\": {\"colorbar\": {\"outlinewidth\": 0, \"ticks\": \"\"}}, \"colorscale\": {\"diverging\": [[0, \"#8e0152\"], [0.1, \"#c51b7d\"], [0.2, \"#de77ae\"], [0.3, \"#f1b6da\"], [0.4, \"#fde0ef\"], [0.5, \"#f7f7f7\"], [0.6, \"#e6f5d0\"], [0.7, \"#b8e186\"], [0.8, \"#7fbc41\"], [0.9, \"#4d9221\"], [1, \"#276419\"]], \"sequential\": [[0.0, \"#0d0887\"], [0.1111111111111111, \"#46039f\"], [0.2222222222222222, \"#7201a8\"], [0.3333333333333333, \"#9c179e\"], [0.4444444444444444, \"#bd3786\"], [0.5555555555555556, \"#d8576b\"], [0.6666666666666666, \"#ed7953\"], [0.7777777777777778, \"#fb9f3a\"], [0.8888888888888888, \"#fdca26\"], [1.0, \"#f0f921\"]], \"sequentialminus\": [[0.0, \"#0d0887\"], [0.1111111111111111, \"#46039f\"], [0.2222222222222222, \"#7201a8\"], [0.3333333333333333, \"#9c179e\"], [0.4444444444444444, \"#bd3786\"], [0.5555555555555556, \"#d8576b\"], [0.6666666666666666, \"#ed7953\"], [0.7777777777777778, \"#fb9f3a\"], [0.8888888888888888, \"#fdca26\"], [1.0, \"#f0f921\"]]}, \"colorway\": [\"#636efa\", \"#EF553B\", \"#00cc96\", \"#ab63fa\", \"#FFA15A\", \"#19d3f3\", \"#FF6692\", \"#B6E880\", \"#FF97FF\", \"#FECB52\"], \"font\": {\"color\": \"#2a3f5f\"}, \"geo\": {\"bgcolor\": \"white\", \"lakecolor\": \"white\", \"landcolor\": \"#E5ECF6\", \"showlakes\": true, \"showland\": true, \"subunitcolor\": \"white\"}, \"hoverlabel\": {\"align\": \"left\"}, \"hovermode\": \"closest\", \"mapbox\": {\"style\": \"light\"}, \"paper_bgcolor\": \"white\", \"plot_bgcolor\": \"#E5ECF6\", \"polar\": {\"angularaxis\": {\"gridcolor\": \"white\", \"linecolor\": \"white\", \"ticks\": \"\"}, \"bgcolor\": \"#E5ECF6\", \"radialaxis\": {\"gridcolor\": \"white\", \"linecolor\": \"white\", \"ticks\": \"\"}}, \"scene\": {\"xaxis\": {\"backgroundcolor\": \"#E5ECF6\", \"gridcolor\": \"white\", \"gridwidth\": 2, \"linecolor\": \"white\", \"showbackground\": true, \"ticks\": \"\", \"zerolinecolor\": \"white\"}, \"yaxis\": {\"backgroundcolor\": \"#E5ECF6\", \"gridcolor\": \"white\", \"gridwidth\": 2, \"linecolor\": \"white\", \"showbackground\": true, \"ticks\": \"\", \"zerolinecolor\": \"white\"}, \"zaxis\": {\"backgroundcolor\": \"#E5ECF6\", \"gridcolor\": \"white\", \"gridwidth\": 2, \"linecolor\": \"white\", \"showbackground\": true, \"ticks\": \"\", \"zerolinecolor\": \"white\"}}, \"shapedefaults\": {\"line\": {\"color\": \"#2a3f5f\"}}, \"ternary\": {\"aaxis\": {\"gridcolor\": \"white\", \"linecolor\": \"white\", \"ticks\": \"\"}, \"baxis\": {\"gridcolor\": \"white\", \"linecolor\": \"white\", \"ticks\": \"\"}, \"bgcolor\": \"#E5ECF6\", \"caxis\": {\"gridcolor\": \"white\", \"linecolor\": \"white\", \"ticks\": \"\"}}, \"title\": {\"x\": 0.05}, \"xaxis\": {\"automargin\": true, \"gridcolor\": \"white\", \"linecolor\": \"white\", \"ticks\": \"\", \"title\": {\"standoff\": 15}, \"zerolinecolor\": \"white\", \"zerolinewidth\": 2}, \"yaxis\": {\"automargin\": true, \"gridcolor\": \"white\", \"linecolor\": \"white\", \"ticks\": \"\", \"title\": {\"standoff\": 15}, \"zerolinecolor\": \"white\", \"zerolinewidth\": 2}}}, \"title\": {\"text\": \"Happiness Score compared to GDP per Capita Score\"}, \"width\": 1000, \"xaxis\": {\"anchor\": \"y\", \"domain\": [0.0, 1.0], \"range\": [0, 8], \"title\": {\"text\": \"Happiness Score\"}}, \"yaxis\": {\"anchor\": \"x\", \"domain\": [0.0, 1.0], \"title\": {\"text\": \"GDP per Capita\"}}},                        {\"responsive\": true}                    ).then(function(){\n",
       "                            \n",
       "var gd = document.getElementById('7f37b357-ce5c-4f58-8c0b-d3a5e1adb45f');\n",
       "var x = new MutationObserver(function (mutations, observer) {{\n",
       "        var display = window.getComputedStyle(gd).display;\n",
       "        if (!display || display === 'none') {{\n",
       "            console.log([gd, 'removed!']);\n",
       "            Plotly.purge(gd);\n",
       "            observer.disconnect();\n",
       "        }}\n",
       "}});\n",
       "\n",
       "// Listen for the removal of the full notebook cells\n",
       "var notebookContainer = gd.closest('#notebook-container');\n",
       "if (notebookContainer) {{\n",
       "    x.observe(notebookContainer, {childList: true});\n",
       "}}\n",
       "\n",
       "// Listen for the clearing of the current output cell\n",
       "var outputEl = gd.closest('.output');\n",
       "if (outputEl) {{\n",
       "    x.observe(outputEl, {childList: true});\n",
       "}}\n",
       "\n",
       "                        })                };                });            </script>        </div>"
      ]
     },
     "metadata": {},
     "output_type": "display_data"
    }
   ],
   "source": [
    "#happiness score vs. gdp\n",
    "\n",
    "#establish x and y values\n",
    "x_values = merged_2017[\"Score\"]\n",
    "y_values = merged_2017[\"GDP per capita\"]\n",
    "\n",
    "#px.scatter\n",
    "fig = px.scatter(merged_2017, x_values, y_values, color=\"Region\", hover_name=\"Country or region\",\n",
    "                range_x=[0,8], title=\"Happiness Score compared to GDP per Capita Score\",\n",
    "                width= 1000, height =600) # use trendline=\"ols\" to see all lin reg equations\n",
    "\n",
    "#set axes labels\n",
    "fig.update_xaxes(title_text='Happiness Score')\n",
    "fig.update_yaxes(title_text='GDP per Capita')\n",
    "\n",
    "#formatting\n",
    "#marker size and colors\n",
    "fig.update_traces(marker=dict(size=10,\n",
    "                              line=dict(width=1, \n",
    "                                        color='DarkSlateGrey')))\n",
    "\n",
    "\n",
    "#linear regression\n",
    "#use linregress from dependencies to inplement linear regression\n",
    "(slope, intercept, rvalue, pvalue, stderr) = linregress(x_values, y_values)\n",
    "regress_values = x_values * slope + intercept\n",
    "\n",
    "#print out all variables calculated above (rvalue, pvalue...)\n",
    "print(f\"slope:{round(slope, 2)}\")\n",
    "print(f\"intercept:{round(intercept,2)}\")\n",
    "res = sts.linregress(x_values, y_values)\n",
    "print(f\"R-squared: {res.rvalue**2:.4f}\")\n",
    "\n",
    "\n",
    "#print out line eq for reference\n",
    "line_eq = (f\"y={round(slope, 2)}x + {round(intercept, 2)}\")\n",
    "print(line_eq)\n",
    "\n",
    "fig.show()"
   ]
  },
  {
   "cell_type": "code",
   "execution_count": 13,
   "metadata": {},
   "outputs": [
    {
     "name": "stdout",
     "output_type": "stream",
     "text": [
      "slope:0.19\n",
      "intercept:0.18\n",
      "R-squared: 0.5693\n",
      "y=0.19x + 0.18\n"
     ]
    },
    {
     "data": {
      "application/vnd.plotly.v1+json": {
       "config": {
        "plotlyServerURL": "https://plot.ly"
       },
       "data": [
        {
         "hovertemplate": "<b>%{hovertext}</b><br><br>Region=Europe<br>Score=%{x}<br>Social support=%{y}<extra></extra>",
         "hovertext": [
          "Norway",
          "Denmark",
          "Iceland",
          "Switzerland",
          "Finland",
          "Netherlands",
          "Sweden",
          "Austria",
          "Ireland",
          "Germany",
          "Belgium",
          "Luxembourg",
          "United Kingdom",
          "Czech Republic",
          "Malta",
          "France",
          "Spain",
          "Slovakia",
          "Poland",
          "Uzbekistan",
          "Italy",
          "Russia",
          "Lithuania",
          "Latvia",
          "Moldova",
          "Romania",
          "Turkmenistan",
          "Kazakhstan",
          "North Cyprus",
          "Slovenia",
          "Cyprus",
          "Estonia",
          "Belarus",
          "Serbia",
          "Hungary",
          "Croatia",
          "Kosovo",
          "Montenegro",
          "Azerbaijan",
          "Greece",
          "Portugal",
          "Bosnia and Herzegovina",
          "Macedonia",
          "Tajikistan",
          "Kyrgyzstan",
          "Bulgaria",
          "Albania",
          "Armenia",
          "Georgia",
          "Ukraine"
         ],
         "legendgroup": "Europe",
         "marker": {
          "color": "#636efa",
          "line": {
           "color": "DarkSlateGrey",
           "width": 1
          },
          "size": 10,
          "symbol": "circle"
         },
         "mode": "markers",
         "name": "Europe",
         "orientation": "v",
         "showlegend": true,
         "type": "scatter",
         "x": [
          7.537000179290769,
          7.52199983596802,
          7.50400018692017,
          7.49399995803833,
          7.468999862670901,
          7.3769998550415,
          7.28399991989136,
          7.00600004196167,
          6.9770002365112305,
          6.9510002136230495,
          6.89099979400635,
          6.86299991607666,
          6.71400022506714,
          6.60900020599365,
          6.52699995040894,
          6.44199991226196,
          6.40299987792969,
          6.09800004959106,
          5.97300004959106,
          5.97100019454956,
          5.96400022506714,
          5.962999820709231,
          5.90199995040894,
          5.849999904632571,
          5.837999820709231,
          5.824999809265139,
          5.82200002670288,
          5.8189997673034695,
          5.80999994277954,
          5.75799989700317,
          5.62099981307983,
          5.61100006103516,
          5.5689997673034695,
          5.39499998092651,
          5.32399988174438,
          5.2930002212524405,
          5.27899980545044,
          5.23699998855591,
          5.234000205993651,
          5.2270002365112305,
          5.19500017166138,
          5.18200016021729,
          5.175000190734861,
          5.04099988937378,
          5.0040001869201705,
          4.71400022506714,
          4.64400005340576,
          4.37599992752075,
          4.28599977493286,
          4.09600019454956
         ],
         "xaxis": "x",
         "y": [
          1.53352355957031,
          1.55112159252167,
          1.6105740070343,
          1.51691174507141,
          1.5402467250824,
          1.42893922328949,
          1.47816216945648,
          1.4599449634552,
          1.5582311153411899,
          1.47252035140991,
          1.4623126983642598,
          1.45758366584778,
          1.4964600801467902,
          1.4338852167129499,
          1.48841166496277,
          1.38777685165405,
          1.53209090232849,
          1.5050592422485398,
          1.44571197032928,
          1.5489691495895401,
          1.44492328166962,
          1.46928238868713,
          1.47351610660553,
          1.40471494197845,
          1.25182557106018,
          1.15009129047394,
          1.49314916133881,
          1.3843690156936599,
          1.18630337715149,
          1.4525188207626298,
          1.13136327266693,
          1.47667109966278,
          1.4449452161788898,
          1.2581897974014298,
          1.34313309192657,
          0.9679830074310299,
          1.1378535032272301,
          1.23837649822235,
          1.15240025520325,
          1.23941457271576,
          1.36704301834106,
          1.0693359375,
          1.20789301395416,
          1.27146327495575,
          1.39423859119415,
          1.4343794584274299,
          0.8036852478981021,
          1.00748372077942,
          0.57061493396759,
          1.39453756809235
         ],
         "yaxis": "y"
        },
        {
         "hovertemplate": "<b>%{hovertext}</b><br><br>Region=North America<br>Score=%{x}<br>Social support=%{y}<extra></extra>",
         "hovertext": [
          "Canada",
          "United States"
         ],
         "legendgroup": "North America",
         "marker": {
          "color": "#EF553B",
          "line": {
           "color": "DarkSlateGrey",
           "width": 1
          },
          "size": 10,
          "symbol": "circle"
         },
         "mode": "markers",
         "name": "North America",
         "orientation": "v",
         "showlegend": true,
         "type": "scatter",
         "x": [
          7.31599998474121,
          6.993000030517581
         ],
         "xaxis": "x",
         "y": [
          1.48134899139404,
          1.4199205636978103
         ],
         "yaxis": "y"
        },
        {
         "hovertemplate": "<b>%{hovertext}</b><br><br>Region=Australia and New Zealand<br>Score=%{x}<br>Social support=%{y}<extra></extra>",
         "hovertext": [
          "New Zealand",
          "Australia"
         ],
         "legendgroup": "Australia and New Zealand",
         "marker": {
          "color": "#00cc96",
          "line": {
           "color": "DarkSlateGrey",
           "width": 1
          },
          "size": 10,
          "symbol": "circle"
         },
         "mode": "markers",
         "name": "Australia and New Zealand",
         "orientation": "v",
         "showlegend": true,
         "type": "scatter",
         "x": [
          7.31400012969971,
          7.28399991989136
         ],
         "xaxis": "x",
         "y": [
          1.54819512367249,
          1.5100419521331798
         ],
         "yaxis": "y"
        },
        {
         "hovertemplate": "<b>%{hovertext}</b><br><br>Region=Middle East and Northern Africa<br>Score=%{x}<br>Social support=%{y}<extra></extra>",
         "hovertext": [
          "Israel",
          "United Arab Emirates",
          "Qatar",
          "Saudi Arabia",
          "Kuwait",
          "Bahrain",
          "Algeria",
          "Libya",
          "Turkey",
          "Jordan",
          "Morocco",
          "Lebanon",
          "Tunisia",
          "Palestinian Territories",
          "Egypt",
          "Iran",
          "Iraq",
          "Yemen",
          "Syria"
         ],
         "legendgroup": "Middle East and Northern Africa",
         "marker": {
          "color": "#ab63fa",
          "line": {
           "color": "DarkSlateGrey",
           "width": 1
          },
          "size": 10,
          "symbol": "circle"
         },
         "mode": "markers",
         "name": "Middle East and Northern Africa",
         "orientation": "v",
         "showlegend": true,
         "type": "scatter",
         "x": [
          7.212999820709231,
          6.6479997634887695,
          6.375,
          6.343999862670901,
          6.10500001907349,
          6.08699989318848,
          5.872000217437741,
          5.525000095367429,
          5.5,
          5.33599996566772,
          5.2350001335144,
          5.22499990463257,
          4.80499982833862,
          4.77500009536743,
          4.7350001335144,
          4.69199991226196,
          4.49700021743774,
          3.59299993515015,
          3.46199989318848
         ],
         "xaxis": "x",
         "y": [
          1.37628996372223,
          1.2664102315902699,
          1.27429687976837,
          1.28667759895325,
          1.25969874858856,
          1.3231104612350502,
          1.1462174654007,
          1.3575643301010099,
          1.33775317668915,
          1.2390888929367099,
          0.774864435195923,
          1.1296242475509601,
          0.8683514595031742,
          1.1556471586227401,
          0.997471392154694,
          0.7115512490272521,
          0.978613197803497,
          0.93538224697113,
          0.396102607250214
         ],
         "yaxis": "y"
        },
        {
         "hovertemplate": "<b>%{hovertext}</b><br><br>Region=Latin America and Caribbean<br>Score=%{x}<br>Social support=%{y}<extra></extra>",
         "hovertext": [
          "Costa Rica",
          "Chile",
          "Brazil",
          "Argentina",
          "Mexico",
          "Uruguay",
          "Guatemala",
          "Panama",
          "Colombia",
          "Trinidad and Tobago",
          "Nicaragua",
          "Ecuador",
          "El Salvador",
          "Bolivia",
          "Peru",
          "Paraguay",
          "Jamaica",
          "Venezuela",
          "Dominican Republic",
          "Honduras",
          "Haiti"
         ],
         "legendgroup": "Latin America and Caribbean",
         "marker": {
          "color": "#FFA15A",
          "line": {
           "color": "DarkSlateGrey",
           "width": 1
          },
          "size": 10,
          "symbol": "circle"
         },
         "mode": "markers",
         "name": "Latin America and Caribbean",
         "orientation": "v",
         "showlegend": true,
         "type": "scatter",
         "x": [
          7.0789999961853,
          6.65199995040894,
          6.6350002288818395,
          6.59899997711182,
          6.57800006866455,
          6.4539999961853,
          6.4539999961853,
          6.4520001411438,
          6.35699987411499,
          6.1680002212524405,
          6.07100009918213,
          6.00799989700317,
          6.002999782562259,
          5.82299995422363,
          5.71500015258789,
          5.493000030517581,
          5.31099987030029,
          5.25,
          5.230000019073491,
          5.1810002326965305,
          3.6029999256133998
         ],
         "xaxis": "x",
         "y": [
          1.4164036512374898,
          1.28402495384216,
          1.43130600452423,
          1.44045114517212,
          1.2108621597290001,
          1.4122278690338101,
          1.25558519363403,
          1.3731925487518302,
          1.4021829366683998,
          1.3802285194397,
          1.28721570968628,
          1.2861688137054401,
          1.1821250915527302,
          1.2276190519332901,
          1.21877038478851,
          1.50728487968445,
          1.3682180643081698,
          1.43133759498596,
          1.4024167060852097,
          1.14394497871399,
          0.640449821949005
         ],
         "yaxis": "y"
        },
        {
         "hovertemplate": "<b>%{hovertext}</b><br><br>Region=Asia<br>Score=%{x}<br>Social support=%{y}<extra></extra>",
         "hovertext": [
          "Singapore",
          "Thailand",
          "Malaysia",
          "Japan",
          "South Korea",
          "Philippines",
          "China",
          "Pakistan",
          "Indonesia",
          "Vietnam",
          "Bhutan",
          "Nepal",
          "Mongolia",
          "Bangladesh",
          "Myanmar",
          "Sri Lanka",
          "India",
          "Cambodia",
          "Afghanistan"
         ],
         "legendgroup": "Asia",
         "marker": {
          "color": "#19d3f3",
          "line": {
           "color": "DarkSlateGrey",
           "width": 1
          },
          "size": 10,
          "symbol": "circle"
         },
         "mode": "markers",
         "name": "Asia",
         "orientation": "v",
         "showlegend": true,
         "type": "scatter",
         "x": [
          6.57200002670288,
          6.4239997863769505,
          6.08400011062622,
          5.92000007629395,
          5.837999820709231,
          5.42999982833862,
          5.2729997634887695,
          5.26900005340576,
          5.26200008392334,
          5.07399988174438,
          5.01100015640259,
          4.961999893188481,
          4.95499992370605,
          4.60799980163574,
          4.54500007629395,
          4.44000005722046,
          4.31500005722046,
          4.1680002212524405,
          3.7939999103546103
         ],
         "xaxis": "x",
         "y": [
          1.35381436347961,
          1.4257924556732198,
          1.28464603424072,
          1.43633782863617,
          1.1282744407653797,
          1.25391757488251,
          1.16083741188049,
          0.6726906895637509,
          1.2744446992874099,
          1.27749133110046,
          1.3401265144348102,
          1.17928326129913,
          1.4930112361908001,
          0.735131740570068,
          1.12323594093323,
          1.25997638702393,
          0.754372596740723,
          1.00623834133148,
          0.581543326377869
         ],
         "yaxis": "y"
        },
        {
         "hovertemplate": "<b>%{hovertext}</b><br><br>Region=Sub-Saharan Africa<br>Score=%{x}<br>Social support=%{y}<extra></extra>",
         "hovertext": [
          "Mauritius",
          "Nigeria",
          "South Africa",
          "Sierra Leone",
          "Cameroon",
          "Kenya",
          "Mozambique",
          "Senegal",
          "Zambia",
          "Gabon",
          "Ethiopia",
          "Mauritania",
          "Congo (Brazzaville)",
          "Congo (Kinshasa)",
          "Mali",
          "Ivory Coast",
          "Sudan",
          "Ghana",
          "Uganda",
          "Burkina Faso",
          "Niger",
          "Malawi",
          "Chad",
          "Zimbabwe",
          "Lesotho",
          "Angola",
          "Botswana",
          "Benin",
          "Madagascar",
          "Liberia",
          "Guinea",
          "Togo",
          "Rwanda",
          "Tanzania",
          "Burundi",
          "Central African Republic"
         ],
         "legendgroup": "Sub-Saharan Africa",
         "marker": {
          "color": "#FF6692",
          "line": {
           "color": "DarkSlateGrey",
           "width": 1
          },
          "size": 10,
          "symbol": "circle"
         },
         "mode": "markers",
         "name": "Sub-Saharan Africa",
         "orientation": "v",
         "showlegend": true,
         "type": "scatter",
         "x": [
          5.62900018692017,
          5.07399988174438,
          4.8289999961853,
          4.70900011062622,
          4.69500017166138,
          4.55299997329712,
          4.550000190734861,
          4.53499984741211,
          4.513999938964839,
          4.46500015258789,
          4.46000003814697,
          4.29199981689453,
          4.29099988937378,
          4.2800002098083505,
          4.19000005722046,
          4.17999982833862,
          4.138999938964839,
          4.11999988555908,
          4.08099985122681,
          4.03200006484985,
          4.02799987792969,
          3.97000002861023,
          3.9360001087188703,
          3.875,
          3.80800008773804,
          3.79500007629395,
          3.7660000324249303,
          3.65700006484985,
          3.64400005340576,
          3.5329999923706095,
          3.50699996948242,
          3.4949998855590803,
          3.47099995613098,
          3.34899997711182,
          2.90499997138977,
          2.69300007820129
         ],
         "xaxis": "x",
         "y": [
          1.20956099033356,
          1.21577048301697,
          1.38478863239288,
          0.984136044979095,
          0.946018218994141,
          1.0679507255554201,
          0.870701014995575,
          1.17969191074371,
          1.00318729877472,
          1.1556202173233001,
          0.8646692037582401,
          1.2720308303833001,
          0.8320443630218509,
          1.22902345657349,
          1.2814733982086202,
          0.904780030250549,
          1.21400856971741,
          0.873664736747742,
          1.12982773780823,
          1.04328000545502,
          0.993025004863739,
          0.5125688314437871,
          0.953855872154236,
          1.08309590816498,
          1.19009518623352,
          1.1044119596481299,
          1.2215549945831299,
          0.43529984354972795,
          0.9130203723907471,
          0.8721179366111759,
          0.7912446856498722,
          0.4318825304508211,
          0.945707023143768,
          1.04198980331421,
          0.629793584346771,
          0
         ],
         "yaxis": "y"
        }
       ],
       "layout": {
        "height": 600,
        "legend": {
         "title": {
          "text": "Region"
         },
         "tracegroupgap": 0
        },
        "template": {
         "data": {
          "bar": [
           {
            "error_x": {
             "color": "#2a3f5f"
            },
            "error_y": {
             "color": "#2a3f5f"
            },
            "marker": {
             "line": {
              "color": "#E5ECF6",
              "width": 0.5
             }
            },
            "type": "bar"
           }
          ],
          "barpolar": [
           {
            "marker": {
             "line": {
              "color": "#E5ECF6",
              "width": 0.5
             }
            },
            "type": "barpolar"
           }
          ],
          "carpet": [
           {
            "aaxis": {
             "endlinecolor": "#2a3f5f",
             "gridcolor": "white",
             "linecolor": "white",
             "minorgridcolor": "white",
             "startlinecolor": "#2a3f5f"
            },
            "baxis": {
             "endlinecolor": "#2a3f5f",
             "gridcolor": "white",
             "linecolor": "white",
             "minorgridcolor": "white",
             "startlinecolor": "#2a3f5f"
            },
            "type": "carpet"
           }
          ],
          "choropleth": [
           {
            "colorbar": {
             "outlinewidth": 0,
             "ticks": ""
            },
            "type": "choropleth"
           }
          ],
          "contour": [
           {
            "colorbar": {
             "outlinewidth": 0,
             "ticks": ""
            },
            "colorscale": [
             [
              0,
              "#0d0887"
             ],
             [
              0.1111111111111111,
              "#46039f"
             ],
             [
              0.2222222222222222,
              "#7201a8"
             ],
             [
              0.3333333333333333,
              "#9c179e"
             ],
             [
              0.4444444444444444,
              "#bd3786"
             ],
             [
              0.5555555555555556,
              "#d8576b"
             ],
             [
              0.6666666666666666,
              "#ed7953"
             ],
             [
              0.7777777777777778,
              "#fb9f3a"
             ],
             [
              0.8888888888888888,
              "#fdca26"
             ],
             [
              1,
              "#f0f921"
             ]
            ],
            "type": "contour"
           }
          ],
          "contourcarpet": [
           {
            "colorbar": {
             "outlinewidth": 0,
             "ticks": ""
            },
            "type": "contourcarpet"
           }
          ],
          "heatmap": [
           {
            "colorbar": {
             "outlinewidth": 0,
             "ticks": ""
            },
            "colorscale": [
             [
              0,
              "#0d0887"
             ],
             [
              0.1111111111111111,
              "#46039f"
             ],
             [
              0.2222222222222222,
              "#7201a8"
             ],
             [
              0.3333333333333333,
              "#9c179e"
             ],
             [
              0.4444444444444444,
              "#bd3786"
             ],
             [
              0.5555555555555556,
              "#d8576b"
             ],
             [
              0.6666666666666666,
              "#ed7953"
             ],
             [
              0.7777777777777778,
              "#fb9f3a"
             ],
             [
              0.8888888888888888,
              "#fdca26"
             ],
             [
              1,
              "#f0f921"
             ]
            ],
            "type": "heatmap"
           }
          ],
          "heatmapgl": [
           {
            "colorbar": {
             "outlinewidth": 0,
             "ticks": ""
            },
            "colorscale": [
             [
              0,
              "#0d0887"
             ],
             [
              0.1111111111111111,
              "#46039f"
             ],
             [
              0.2222222222222222,
              "#7201a8"
             ],
             [
              0.3333333333333333,
              "#9c179e"
             ],
             [
              0.4444444444444444,
              "#bd3786"
             ],
             [
              0.5555555555555556,
              "#d8576b"
             ],
             [
              0.6666666666666666,
              "#ed7953"
             ],
             [
              0.7777777777777778,
              "#fb9f3a"
             ],
             [
              0.8888888888888888,
              "#fdca26"
             ],
             [
              1,
              "#f0f921"
             ]
            ],
            "type": "heatmapgl"
           }
          ],
          "histogram": [
           {
            "marker": {
             "colorbar": {
              "outlinewidth": 0,
              "ticks": ""
             }
            },
            "type": "histogram"
           }
          ],
          "histogram2d": [
           {
            "colorbar": {
             "outlinewidth": 0,
             "ticks": ""
            },
            "colorscale": [
             [
              0,
              "#0d0887"
             ],
             [
              0.1111111111111111,
              "#46039f"
             ],
             [
              0.2222222222222222,
              "#7201a8"
             ],
             [
              0.3333333333333333,
              "#9c179e"
             ],
             [
              0.4444444444444444,
              "#bd3786"
             ],
             [
              0.5555555555555556,
              "#d8576b"
             ],
             [
              0.6666666666666666,
              "#ed7953"
             ],
             [
              0.7777777777777778,
              "#fb9f3a"
             ],
             [
              0.8888888888888888,
              "#fdca26"
             ],
             [
              1,
              "#f0f921"
             ]
            ],
            "type": "histogram2d"
           }
          ],
          "histogram2dcontour": [
           {
            "colorbar": {
             "outlinewidth": 0,
             "ticks": ""
            },
            "colorscale": [
             [
              0,
              "#0d0887"
             ],
             [
              0.1111111111111111,
              "#46039f"
             ],
             [
              0.2222222222222222,
              "#7201a8"
             ],
             [
              0.3333333333333333,
              "#9c179e"
             ],
             [
              0.4444444444444444,
              "#bd3786"
             ],
             [
              0.5555555555555556,
              "#d8576b"
             ],
             [
              0.6666666666666666,
              "#ed7953"
             ],
             [
              0.7777777777777778,
              "#fb9f3a"
             ],
             [
              0.8888888888888888,
              "#fdca26"
             ],
             [
              1,
              "#f0f921"
             ]
            ],
            "type": "histogram2dcontour"
           }
          ],
          "mesh3d": [
           {
            "colorbar": {
             "outlinewidth": 0,
             "ticks": ""
            },
            "type": "mesh3d"
           }
          ],
          "parcoords": [
           {
            "line": {
             "colorbar": {
              "outlinewidth": 0,
              "ticks": ""
             }
            },
            "type": "parcoords"
           }
          ],
          "pie": [
           {
            "automargin": true,
            "type": "pie"
           }
          ],
          "scatter": [
           {
            "marker": {
             "colorbar": {
              "outlinewidth": 0,
              "ticks": ""
             }
            },
            "type": "scatter"
           }
          ],
          "scatter3d": [
           {
            "line": {
             "colorbar": {
              "outlinewidth": 0,
              "ticks": ""
             }
            },
            "marker": {
             "colorbar": {
              "outlinewidth": 0,
              "ticks": ""
             }
            },
            "type": "scatter3d"
           }
          ],
          "scattercarpet": [
           {
            "marker": {
             "colorbar": {
              "outlinewidth": 0,
              "ticks": ""
             }
            },
            "type": "scattercarpet"
           }
          ],
          "scattergeo": [
           {
            "marker": {
             "colorbar": {
              "outlinewidth": 0,
              "ticks": ""
             }
            },
            "type": "scattergeo"
           }
          ],
          "scattergl": [
           {
            "marker": {
             "colorbar": {
              "outlinewidth": 0,
              "ticks": ""
             }
            },
            "type": "scattergl"
           }
          ],
          "scattermapbox": [
           {
            "marker": {
             "colorbar": {
              "outlinewidth": 0,
              "ticks": ""
             }
            },
            "type": "scattermapbox"
           }
          ],
          "scatterpolar": [
           {
            "marker": {
             "colorbar": {
              "outlinewidth": 0,
              "ticks": ""
             }
            },
            "type": "scatterpolar"
           }
          ],
          "scatterpolargl": [
           {
            "marker": {
             "colorbar": {
              "outlinewidth": 0,
              "ticks": ""
             }
            },
            "type": "scatterpolargl"
           }
          ],
          "scatterternary": [
           {
            "marker": {
             "colorbar": {
              "outlinewidth": 0,
              "ticks": ""
             }
            },
            "type": "scatterternary"
           }
          ],
          "surface": [
           {
            "colorbar": {
             "outlinewidth": 0,
             "ticks": ""
            },
            "colorscale": [
             [
              0,
              "#0d0887"
             ],
             [
              0.1111111111111111,
              "#46039f"
             ],
             [
              0.2222222222222222,
              "#7201a8"
             ],
             [
              0.3333333333333333,
              "#9c179e"
             ],
             [
              0.4444444444444444,
              "#bd3786"
             ],
             [
              0.5555555555555556,
              "#d8576b"
             ],
             [
              0.6666666666666666,
              "#ed7953"
             ],
             [
              0.7777777777777778,
              "#fb9f3a"
             ],
             [
              0.8888888888888888,
              "#fdca26"
             ],
             [
              1,
              "#f0f921"
             ]
            ],
            "type": "surface"
           }
          ],
          "table": [
           {
            "cells": {
             "fill": {
              "color": "#EBF0F8"
             },
             "line": {
              "color": "white"
             }
            },
            "header": {
             "fill": {
              "color": "#C8D4E3"
             },
             "line": {
              "color": "white"
             }
            },
            "type": "table"
           }
          ]
         },
         "layout": {
          "annotationdefaults": {
           "arrowcolor": "#2a3f5f",
           "arrowhead": 0,
           "arrowwidth": 1
          },
          "autotypenumbers": "strict",
          "coloraxis": {
           "colorbar": {
            "outlinewidth": 0,
            "ticks": ""
           }
          },
          "colorscale": {
           "diverging": [
            [
             0,
             "#8e0152"
            ],
            [
             0.1,
             "#c51b7d"
            ],
            [
             0.2,
             "#de77ae"
            ],
            [
             0.3,
             "#f1b6da"
            ],
            [
             0.4,
             "#fde0ef"
            ],
            [
             0.5,
             "#f7f7f7"
            ],
            [
             0.6,
             "#e6f5d0"
            ],
            [
             0.7,
             "#b8e186"
            ],
            [
             0.8,
             "#7fbc41"
            ],
            [
             0.9,
             "#4d9221"
            ],
            [
             1,
             "#276419"
            ]
           ],
           "sequential": [
            [
             0,
             "#0d0887"
            ],
            [
             0.1111111111111111,
             "#46039f"
            ],
            [
             0.2222222222222222,
             "#7201a8"
            ],
            [
             0.3333333333333333,
             "#9c179e"
            ],
            [
             0.4444444444444444,
             "#bd3786"
            ],
            [
             0.5555555555555556,
             "#d8576b"
            ],
            [
             0.6666666666666666,
             "#ed7953"
            ],
            [
             0.7777777777777778,
             "#fb9f3a"
            ],
            [
             0.8888888888888888,
             "#fdca26"
            ],
            [
             1,
             "#f0f921"
            ]
           ],
           "sequentialminus": [
            [
             0,
             "#0d0887"
            ],
            [
             0.1111111111111111,
             "#46039f"
            ],
            [
             0.2222222222222222,
             "#7201a8"
            ],
            [
             0.3333333333333333,
             "#9c179e"
            ],
            [
             0.4444444444444444,
             "#bd3786"
            ],
            [
             0.5555555555555556,
             "#d8576b"
            ],
            [
             0.6666666666666666,
             "#ed7953"
            ],
            [
             0.7777777777777778,
             "#fb9f3a"
            ],
            [
             0.8888888888888888,
             "#fdca26"
            ],
            [
             1,
             "#f0f921"
            ]
           ]
          },
          "colorway": [
           "#636efa",
           "#EF553B",
           "#00cc96",
           "#ab63fa",
           "#FFA15A",
           "#19d3f3",
           "#FF6692",
           "#B6E880",
           "#FF97FF",
           "#FECB52"
          ],
          "font": {
           "color": "#2a3f5f"
          },
          "geo": {
           "bgcolor": "white",
           "lakecolor": "white",
           "landcolor": "#E5ECF6",
           "showlakes": true,
           "showland": true,
           "subunitcolor": "white"
          },
          "hoverlabel": {
           "align": "left"
          },
          "hovermode": "closest",
          "mapbox": {
           "style": "light"
          },
          "paper_bgcolor": "white",
          "plot_bgcolor": "#E5ECF6",
          "polar": {
           "angularaxis": {
            "gridcolor": "white",
            "linecolor": "white",
            "ticks": ""
           },
           "bgcolor": "#E5ECF6",
           "radialaxis": {
            "gridcolor": "white",
            "linecolor": "white",
            "ticks": ""
           }
          },
          "scene": {
           "xaxis": {
            "backgroundcolor": "#E5ECF6",
            "gridcolor": "white",
            "gridwidth": 2,
            "linecolor": "white",
            "showbackground": true,
            "ticks": "",
            "zerolinecolor": "white"
           },
           "yaxis": {
            "backgroundcolor": "#E5ECF6",
            "gridcolor": "white",
            "gridwidth": 2,
            "linecolor": "white",
            "showbackground": true,
            "ticks": "",
            "zerolinecolor": "white"
           },
           "zaxis": {
            "backgroundcolor": "#E5ECF6",
            "gridcolor": "white",
            "gridwidth": 2,
            "linecolor": "white",
            "showbackground": true,
            "ticks": "",
            "zerolinecolor": "white"
           }
          },
          "shapedefaults": {
           "line": {
            "color": "#2a3f5f"
           }
          },
          "ternary": {
           "aaxis": {
            "gridcolor": "white",
            "linecolor": "white",
            "ticks": ""
           },
           "baxis": {
            "gridcolor": "white",
            "linecolor": "white",
            "ticks": ""
           },
           "bgcolor": "#E5ECF6",
           "caxis": {
            "gridcolor": "white",
            "linecolor": "white",
            "ticks": ""
           }
          },
          "title": {
           "x": 0.05
          },
          "xaxis": {
           "automargin": true,
           "gridcolor": "white",
           "linecolor": "white",
           "ticks": "",
           "title": {
            "standoff": 15
           },
           "zerolinecolor": "white",
           "zerolinewidth": 2
          },
          "yaxis": {
           "automargin": true,
           "gridcolor": "white",
           "linecolor": "white",
           "ticks": "",
           "title": {
            "standoff": 15
           },
           "zerolinecolor": "white",
           "zerolinewidth": 2
          }
         }
        },
        "title": {
         "text": "Happiness Score compared to Social Support Score"
        },
        "width": 1000,
        "xaxis": {
         "anchor": "y",
         "domain": [
          0,
          1
         ],
         "range": [
          0,
          8
         ],
         "title": {
          "text": "Happiness Score"
         }
        },
        "yaxis": {
         "anchor": "x",
         "domain": [
          0,
          1
         ],
         "title": {
          "text": "Social Support Score"
         }
        }
       }
      },
      "text/html": [
       "<div>                            <div id=\"fbb7759f-ad24-4058-8447-c42d78510360\" class=\"plotly-graph-div\" style=\"height:600px; width:1000px;\"></div>            <script type=\"text/javascript\">                require([\"plotly\"], function(Plotly) {                    window.PLOTLYENV=window.PLOTLYENV || {};                                    if (document.getElementById(\"fbb7759f-ad24-4058-8447-c42d78510360\")) {                    Plotly.newPlot(                        \"fbb7759f-ad24-4058-8447-c42d78510360\",                        [{\"hovertemplate\": \"<b>%{hovertext}</b><br><br>Region=Europe<br>Score=%{x}<br>Social support=%{y}<extra></extra>\", \"hovertext\": [\"Norway\", \"Denmark\", \"Iceland\", \"Switzerland\", \"Finland\", \"Netherlands\", \"Sweden\", \"Austria\", \"Ireland\", \"Germany\", \"Belgium\", \"Luxembourg\", \"United Kingdom\", \"Czech Republic\", \"Malta\", \"France\", \"Spain\", \"Slovakia\", \"Poland\", \"Uzbekistan\", \"Italy\", \"Russia\", \"Lithuania\", \"Latvia\", \"Moldova\", \"Romania\", \"Turkmenistan\", \"Kazakhstan\", \"North Cyprus\", \"Slovenia\", \"Cyprus\", \"Estonia\", \"Belarus\", \"Serbia\", \"Hungary\", \"Croatia\", \"Kosovo\", \"Montenegro\", \"Azerbaijan\", \"Greece\", \"Portugal\", \"Bosnia and Herzegovina\", \"Macedonia\", \"Tajikistan\", \"Kyrgyzstan\", \"Bulgaria\", \"Albania\", \"Armenia\", \"Georgia\", \"Ukraine\"], \"legendgroup\": \"Europe\", \"marker\": {\"color\": \"#636efa\", \"line\": {\"color\": \"DarkSlateGrey\", \"width\": 1}, \"size\": 10, \"symbol\": \"circle\"}, \"mode\": \"markers\", \"name\": \"Europe\", \"orientation\": \"v\", \"showlegend\": true, \"type\": \"scatter\", \"x\": [7.537000179290769, 7.52199983596802, 7.50400018692017, 7.49399995803833, 7.468999862670901, 7.3769998550415, 7.28399991989136, 7.00600004196167, 6.9770002365112305, 6.9510002136230495, 6.89099979400635, 6.86299991607666, 6.71400022506714, 6.60900020599365, 6.52699995040894, 6.44199991226196, 6.40299987792969, 6.09800004959106, 5.97300004959106, 5.97100019454956, 5.96400022506714, 5.962999820709231, 5.90199995040894, 5.849999904632571, 5.837999820709231, 5.824999809265139, 5.82200002670288, 5.8189997673034695, 5.80999994277954, 5.75799989700317, 5.62099981307983, 5.61100006103516, 5.5689997673034695, 5.39499998092651, 5.32399988174438, 5.2930002212524405, 5.27899980545044, 5.23699998855591, 5.234000205993651, 5.2270002365112305, 5.19500017166138, 5.18200016021729, 5.175000190734861, 5.04099988937378, 5.0040001869201705, 4.71400022506714, 4.64400005340576, 4.37599992752075, 4.28599977493286, 4.09600019454956], \"xaxis\": \"x\", \"y\": [1.53352355957031, 1.55112159252167, 1.6105740070343, 1.51691174507141, 1.5402467250824, 1.42893922328949, 1.47816216945648, 1.4599449634552, 1.5582311153411899, 1.47252035140991, 1.4623126983642598, 1.45758366584778, 1.4964600801467902, 1.4338852167129499, 1.48841166496277, 1.38777685165405, 1.53209090232849, 1.5050592422485398, 1.44571197032928, 1.5489691495895401, 1.44492328166962, 1.46928238868713, 1.47351610660553, 1.40471494197845, 1.25182557106018, 1.15009129047394, 1.49314916133881, 1.3843690156936599, 1.18630337715149, 1.4525188207626298, 1.13136327266693, 1.47667109966278, 1.4449452161788898, 1.2581897974014298, 1.34313309192657, 0.9679830074310299, 1.1378535032272301, 1.23837649822235, 1.15240025520325, 1.23941457271576, 1.36704301834106, 1.0693359375, 1.20789301395416, 1.27146327495575, 1.39423859119415, 1.4343794584274299, 0.8036852478981021, 1.00748372077942, 0.57061493396759, 1.39453756809235], \"yaxis\": \"y\"}, {\"hovertemplate\": \"<b>%{hovertext}</b><br><br>Region=North America<br>Score=%{x}<br>Social support=%{y}<extra></extra>\", \"hovertext\": [\"Canada\", \"United States\"], \"legendgroup\": \"North America\", \"marker\": {\"color\": \"#EF553B\", \"line\": {\"color\": \"DarkSlateGrey\", \"width\": 1}, \"size\": 10, \"symbol\": \"circle\"}, \"mode\": \"markers\", \"name\": \"North America\", \"orientation\": \"v\", \"showlegend\": true, \"type\": \"scatter\", \"x\": [7.31599998474121, 6.993000030517581], \"xaxis\": \"x\", \"y\": [1.48134899139404, 1.4199205636978103], \"yaxis\": \"y\"}, {\"hovertemplate\": \"<b>%{hovertext}</b><br><br>Region=Australia and New Zealand<br>Score=%{x}<br>Social support=%{y}<extra></extra>\", \"hovertext\": [\"New Zealand\", \"Australia\"], \"legendgroup\": \"Australia and New Zealand\", \"marker\": {\"color\": \"#00cc96\", \"line\": {\"color\": \"DarkSlateGrey\", \"width\": 1}, \"size\": 10, \"symbol\": \"circle\"}, \"mode\": \"markers\", \"name\": \"Australia and New Zealand\", \"orientation\": \"v\", \"showlegend\": true, \"type\": \"scatter\", \"x\": [7.31400012969971, 7.28399991989136], \"xaxis\": \"x\", \"y\": [1.54819512367249, 1.5100419521331798], \"yaxis\": \"y\"}, {\"hovertemplate\": \"<b>%{hovertext}</b><br><br>Region=Middle East and Northern Africa<br>Score=%{x}<br>Social support=%{y}<extra></extra>\", \"hovertext\": [\"Israel\", \"United Arab Emirates\", \"Qatar\", \"Saudi Arabia\", \"Kuwait\", \"Bahrain\", \"Algeria\", \"Libya\", \"Turkey\", \"Jordan\", \"Morocco\", \"Lebanon\", \"Tunisia\", \"Palestinian Territories\", \"Egypt\", \"Iran\", \"Iraq\", \"Yemen\", \"Syria\"], \"legendgroup\": \"Middle East and Northern Africa\", \"marker\": {\"color\": \"#ab63fa\", \"line\": {\"color\": \"DarkSlateGrey\", \"width\": 1}, \"size\": 10, \"symbol\": \"circle\"}, \"mode\": \"markers\", \"name\": \"Middle East and Northern Africa\", \"orientation\": \"v\", \"showlegend\": true, \"type\": \"scatter\", \"x\": [7.212999820709231, 6.6479997634887695, 6.375, 6.343999862670901, 6.10500001907349, 6.08699989318848, 5.872000217437741, 5.525000095367429, 5.5, 5.33599996566772, 5.2350001335144, 5.22499990463257, 4.80499982833862, 4.77500009536743, 4.7350001335144, 4.69199991226196, 4.49700021743774, 3.59299993515015, 3.46199989318848], \"xaxis\": \"x\", \"y\": [1.37628996372223, 1.2664102315902699, 1.27429687976837, 1.28667759895325, 1.25969874858856, 1.3231104612350502, 1.1462174654007, 1.3575643301010099, 1.33775317668915, 1.2390888929367099, 0.774864435195923, 1.1296242475509601, 0.8683514595031742, 1.1556471586227401, 0.997471392154694, 0.7115512490272521, 0.978613197803497, 0.93538224697113, 0.396102607250214], \"yaxis\": \"y\"}, {\"hovertemplate\": \"<b>%{hovertext}</b><br><br>Region=Latin America and Caribbean<br>Score=%{x}<br>Social support=%{y}<extra></extra>\", \"hovertext\": [\"Costa Rica\", \"Chile\", \"Brazil\", \"Argentina\", \"Mexico\", \"Uruguay\", \"Guatemala\", \"Panama\", \"Colombia\", \"Trinidad and Tobago\", \"Nicaragua\", \"Ecuador\", \"El Salvador\", \"Bolivia\", \"Peru\", \"Paraguay\", \"Jamaica\", \"Venezuela\", \"Dominican Republic\", \"Honduras\", \"Haiti\"], \"legendgroup\": \"Latin America and Caribbean\", \"marker\": {\"color\": \"#FFA15A\", \"line\": {\"color\": \"DarkSlateGrey\", \"width\": 1}, \"size\": 10, \"symbol\": \"circle\"}, \"mode\": \"markers\", \"name\": \"Latin America and Caribbean\", \"orientation\": \"v\", \"showlegend\": true, \"type\": \"scatter\", \"x\": [7.0789999961853, 6.65199995040894, 6.6350002288818395, 6.59899997711182, 6.57800006866455, 6.4539999961853, 6.4539999961853, 6.4520001411438, 6.35699987411499, 6.1680002212524405, 6.07100009918213, 6.00799989700317, 6.002999782562259, 5.82299995422363, 5.71500015258789, 5.493000030517581, 5.31099987030029, 5.25, 5.230000019073491, 5.1810002326965305, 3.6029999256133998], \"xaxis\": \"x\", \"y\": [1.4164036512374898, 1.28402495384216, 1.43130600452423, 1.44045114517212, 1.2108621597290001, 1.4122278690338101, 1.25558519363403, 1.3731925487518302, 1.4021829366683998, 1.3802285194397, 1.28721570968628, 1.2861688137054401, 1.1821250915527302, 1.2276190519332901, 1.21877038478851, 1.50728487968445, 1.3682180643081698, 1.43133759498596, 1.4024167060852097, 1.14394497871399, 0.640449821949005], \"yaxis\": \"y\"}, {\"hovertemplate\": \"<b>%{hovertext}</b><br><br>Region=Asia<br>Score=%{x}<br>Social support=%{y}<extra></extra>\", \"hovertext\": [\"Singapore\", \"Thailand\", \"Malaysia\", \"Japan\", \"South Korea\", \"Philippines\", \"China\", \"Pakistan\", \"Indonesia\", \"Vietnam\", \"Bhutan\", \"Nepal\", \"Mongolia\", \"Bangladesh\", \"Myanmar\", \"Sri Lanka\", \"India\", \"Cambodia\", \"Afghanistan\"], \"legendgroup\": \"Asia\", \"marker\": {\"color\": \"#19d3f3\", \"line\": {\"color\": \"DarkSlateGrey\", \"width\": 1}, \"size\": 10, \"symbol\": \"circle\"}, \"mode\": \"markers\", \"name\": \"Asia\", \"orientation\": \"v\", \"showlegend\": true, \"type\": \"scatter\", \"x\": [6.57200002670288, 6.4239997863769505, 6.08400011062622, 5.92000007629395, 5.837999820709231, 5.42999982833862, 5.2729997634887695, 5.26900005340576, 5.26200008392334, 5.07399988174438, 5.01100015640259, 4.961999893188481, 4.95499992370605, 4.60799980163574, 4.54500007629395, 4.44000005722046, 4.31500005722046, 4.1680002212524405, 3.7939999103546103], \"xaxis\": \"x\", \"y\": [1.35381436347961, 1.4257924556732198, 1.28464603424072, 1.43633782863617, 1.1282744407653797, 1.25391757488251, 1.16083741188049, 0.6726906895637509, 1.2744446992874099, 1.27749133110046, 1.3401265144348102, 1.17928326129913, 1.4930112361908001, 0.735131740570068, 1.12323594093323, 1.25997638702393, 0.754372596740723, 1.00623834133148, 0.581543326377869], \"yaxis\": \"y\"}, {\"hovertemplate\": \"<b>%{hovertext}</b><br><br>Region=Sub-Saharan Africa<br>Score=%{x}<br>Social support=%{y}<extra></extra>\", \"hovertext\": [\"Mauritius\", \"Nigeria\", \"South Africa\", \"Sierra Leone\", \"Cameroon\", \"Kenya\", \"Mozambique\", \"Senegal\", \"Zambia\", \"Gabon\", \"Ethiopia\", \"Mauritania\", \"Congo (Brazzaville)\", \"Congo (Kinshasa)\", \"Mali\", \"Ivory Coast\", \"Sudan\", \"Ghana\", \"Uganda\", \"Burkina Faso\", \"Niger\", \"Malawi\", \"Chad\", \"Zimbabwe\", \"Lesotho\", \"Angola\", \"Botswana\", \"Benin\", \"Madagascar\", \"Liberia\", \"Guinea\", \"Togo\", \"Rwanda\", \"Tanzania\", \"Burundi\", \"Central African Republic\"], \"legendgroup\": \"Sub-Saharan Africa\", \"marker\": {\"color\": \"#FF6692\", \"line\": {\"color\": \"DarkSlateGrey\", \"width\": 1}, \"size\": 10, \"symbol\": \"circle\"}, \"mode\": \"markers\", \"name\": \"Sub-Saharan Africa\", \"orientation\": \"v\", \"showlegend\": true, \"type\": \"scatter\", \"x\": [5.62900018692017, 5.07399988174438, 4.8289999961853, 4.70900011062622, 4.69500017166138, 4.55299997329712, 4.550000190734861, 4.53499984741211, 4.513999938964839, 4.46500015258789, 4.46000003814697, 4.29199981689453, 4.29099988937378, 4.2800002098083505, 4.19000005722046, 4.17999982833862, 4.138999938964839, 4.11999988555908, 4.08099985122681, 4.03200006484985, 4.02799987792969, 3.97000002861023, 3.9360001087188703, 3.875, 3.80800008773804, 3.79500007629395, 3.7660000324249303, 3.65700006484985, 3.64400005340576, 3.5329999923706095, 3.50699996948242, 3.4949998855590803, 3.47099995613098, 3.34899997711182, 2.90499997138977, 2.69300007820129], \"xaxis\": \"x\", \"y\": [1.20956099033356, 1.21577048301697, 1.38478863239288, 0.984136044979095, 0.946018218994141, 1.0679507255554201, 0.870701014995575, 1.17969191074371, 1.00318729877472, 1.1556202173233001, 0.8646692037582401, 1.2720308303833001, 0.8320443630218509, 1.22902345657349, 1.2814733982086202, 0.904780030250549, 1.21400856971741, 0.873664736747742, 1.12982773780823, 1.04328000545502, 0.993025004863739, 0.5125688314437871, 0.953855872154236, 1.08309590816498, 1.19009518623352, 1.1044119596481299, 1.2215549945831299, 0.43529984354972795, 0.9130203723907471, 0.8721179366111759, 0.7912446856498722, 0.4318825304508211, 0.945707023143768, 1.04198980331421, 0.629793584346771, 0.0], \"yaxis\": \"y\"}],                        {\"height\": 600, \"legend\": {\"title\": {\"text\": \"Region\"}, \"tracegroupgap\": 0}, \"template\": {\"data\": {\"bar\": [{\"error_x\": {\"color\": \"#2a3f5f\"}, \"error_y\": {\"color\": \"#2a3f5f\"}, \"marker\": {\"line\": {\"color\": \"#E5ECF6\", \"width\": 0.5}}, \"type\": \"bar\"}], \"barpolar\": [{\"marker\": {\"line\": {\"color\": \"#E5ECF6\", \"width\": 0.5}}, \"type\": \"barpolar\"}], \"carpet\": [{\"aaxis\": {\"endlinecolor\": \"#2a3f5f\", \"gridcolor\": \"white\", \"linecolor\": \"white\", \"minorgridcolor\": \"white\", \"startlinecolor\": \"#2a3f5f\"}, \"baxis\": {\"endlinecolor\": \"#2a3f5f\", \"gridcolor\": \"white\", \"linecolor\": \"white\", \"minorgridcolor\": \"white\", \"startlinecolor\": \"#2a3f5f\"}, \"type\": \"carpet\"}], \"choropleth\": [{\"colorbar\": {\"outlinewidth\": 0, \"ticks\": \"\"}, \"type\": \"choropleth\"}], \"contour\": [{\"colorbar\": {\"outlinewidth\": 0, \"ticks\": \"\"}, \"colorscale\": [[0.0, \"#0d0887\"], [0.1111111111111111, \"#46039f\"], [0.2222222222222222, \"#7201a8\"], [0.3333333333333333, \"#9c179e\"], [0.4444444444444444, \"#bd3786\"], [0.5555555555555556, \"#d8576b\"], [0.6666666666666666, \"#ed7953\"], [0.7777777777777778, \"#fb9f3a\"], [0.8888888888888888, \"#fdca26\"], [1.0, \"#f0f921\"]], \"type\": \"contour\"}], \"contourcarpet\": [{\"colorbar\": {\"outlinewidth\": 0, \"ticks\": \"\"}, \"type\": \"contourcarpet\"}], \"heatmap\": [{\"colorbar\": {\"outlinewidth\": 0, \"ticks\": \"\"}, \"colorscale\": [[0.0, \"#0d0887\"], [0.1111111111111111, \"#46039f\"], [0.2222222222222222, \"#7201a8\"], [0.3333333333333333, \"#9c179e\"], [0.4444444444444444, \"#bd3786\"], [0.5555555555555556, \"#d8576b\"], [0.6666666666666666, \"#ed7953\"], [0.7777777777777778, \"#fb9f3a\"], [0.8888888888888888, \"#fdca26\"], [1.0, \"#f0f921\"]], \"type\": \"heatmap\"}], \"heatmapgl\": [{\"colorbar\": {\"outlinewidth\": 0, \"ticks\": \"\"}, \"colorscale\": [[0.0, \"#0d0887\"], [0.1111111111111111, \"#46039f\"], [0.2222222222222222, \"#7201a8\"], [0.3333333333333333, \"#9c179e\"], [0.4444444444444444, \"#bd3786\"], [0.5555555555555556, \"#d8576b\"], [0.6666666666666666, \"#ed7953\"], [0.7777777777777778, \"#fb9f3a\"], [0.8888888888888888, \"#fdca26\"], [1.0, \"#f0f921\"]], \"type\": \"heatmapgl\"}], \"histogram\": [{\"marker\": {\"colorbar\": {\"outlinewidth\": 0, \"ticks\": \"\"}}, \"type\": \"histogram\"}], \"histogram2d\": [{\"colorbar\": {\"outlinewidth\": 0, \"ticks\": \"\"}, \"colorscale\": [[0.0, \"#0d0887\"], [0.1111111111111111, \"#46039f\"], [0.2222222222222222, \"#7201a8\"], [0.3333333333333333, \"#9c179e\"], [0.4444444444444444, \"#bd3786\"], [0.5555555555555556, \"#d8576b\"], [0.6666666666666666, \"#ed7953\"], [0.7777777777777778, \"#fb9f3a\"], [0.8888888888888888, \"#fdca26\"], [1.0, \"#f0f921\"]], \"type\": \"histogram2d\"}], \"histogram2dcontour\": [{\"colorbar\": {\"outlinewidth\": 0, \"ticks\": \"\"}, \"colorscale\": [[0.0, \"#0d0887\"], [0.1111111111111111, \"#46039f\"], [0.2222222222222222, \"#7201a8\"], [0.3333333333333333, \"#9c179e\"], [0.4444444444444444, \"#bd3786\"], [0.5555555555555556, \"#d8576b\"], [0.6666666666666666, \"#ed7953\"], [0.7777777777777778, \"#fb9f3a\"], [0.8888888888888888, \"#fdca26\"], [1.0, \"#f0f921\"]], \"type\": \"histogram2dcontour\"}], \"mesh3d\": [{\"colorbar\": {\"outlinewidth\": 0, \"ticks\": \"\"}, \"type\": \"mesh3d\"}], \"parcoords\": [{\"line\": {\"colorbar\": {\"outlinewidth\": 0, \"ticks\": \"\"}}, \"type\": \"parcoords\"}], \"pie\": [{\"automargin\": true, \"type\": \"pie\"}], \"scatter\": [{\"marker\": {\"colorbar\": {\"outlinewidth\": 0, \"ticks\": \"\"}}, \"type\": \"scatter\"}], \"scatter3d\": [{\"line\": {\"colorbar\": {\"outlinewidth\": 0, \"ticks\": \"\"}}, \"marker\": {\"colorbar\": {\"outlinewidth\": 0, \"ticks\": \"\"}}, \"type\": \"scatter3d\"}], \"scattercarpet\": [{\"marker\": {\"colorbar\": {\"outlinewidth\": 0, \"ticks\": \"\"}}, \"type\": \"scattercarpet\"}], \"scattergeo\": [{\"marker\": {\"colorbar\": {\"outlinewidth\": 0, \"ticks\": \"\"}}, \"type\": \"scattergeo\"}], \"scattergl\": [{\"marker\": {\"colorbar\": {\"outlinewidth\": 0, \"ticks\": \"\"}}, \"type\": \"scattergl\"}], \"scattermapbox\": [{\"marker\": {\"colorbar\": {\"outlinewidth\": 0, \"ticks\": \"\"}}, \"type\": \"scattermapbox\"}], \"scatterpolar\": [{\"marker\": {\"colorbar\": {\"outlinewidth\": 0, \"ticks\": \"\"}}, \"type\": \"scatterpolar\"}], \"scatterpolargl\": [{\"marker\": {\"colorbar\": {\"outlinewidth\": 0, \"ticks\": \"\"}}, \"type\": \"scatterpolargl\"}], \"scatterternary\": [{\"marker\": {\"colorbar\": {\"outlinewidth\": 0, \"ticks\": \"\"}}, \"type\": \"scatterternary\"}], \"surface\": [{\"colorbar\": {\"outlinewidth\": 0, \"ticks\": \"\"}, \"colorscale\": [[0.0, \"#0d0887\"], [0.1111111111111111, \"#46039f\"], [0.2222222222222222, \"#7201a8\"], [0.3333333333333333, \"#9c179e\"], [0.4444444444444444, \"#bd3786\"], [0.5555555555555556, \"#d8576b\"], [0.6666666666666666, \"#ed7953\"], [0.7777777777777778, \"#fb9f3a\"], [0.8888888888888888, \"#fdca26\"], [1.0, \"#f0f921\"]], \"type\": \"surface\"}], \"table\": [{\"cells\": {\"fill\": {\"color\": \"#EBF0F8\"}, \"line\": {\"color\": \"white\"}}, \"header\": {\"fill\": {\"color\": \"#C8D4E3\"}, \"line\": {\"color\": \"white\"}}, \"type\": \"table\"}]}, \"layout\": {\"annotationdefaults\": {\"arrowcolor\": \"#2a3f5f\", \"arrowhead\": 0, \"arrowwidth\": 1}, \"autotypenumbers\": \"strict\", \"coloraxis\": {\"colorbar\": {\"outlinewidth\": 0, \"ticks\": \"\"}}, \"colorscale\": {\"diverging\": [[0, \"#8e0152\"], [0.1, \"#c51b7d\"], [0.2, \"#de77ae\"], [0.3, \"#f1b6da\"], [0.4, \"#fde0ef\"], [0.5, \"#f7f7f7\"], [0.6, \"#e6f5d0\"], [0.7, \"#b8e186\"], [0.8, \"#7fbc41\"], [0.9, \"#4d9221\"], [1, \"#276419\"]], \"sequential\": [[0.0, \"#0d0887\"], [0.1111111111111111, \"#46039f\"], [0.2222222222222222, \"#7201a8\"], [0.3333333333333333, \"#9c179e\"], [0.4444444444444444, \"#bd3786\"], [0.5555555555555556, \"#d8576b\"], [0.6666666666666666, \"#ed7953\"], [0.7777777777777778, \"#fb9f3a\"], [0.8888888888888888, \"#fdca26\"], [1.0, \"#f0f921\"]], \"sequentialminus\": [[0.0, \"#0d0887\"], [0.1111111111111111, \"#46039f\"], [0.2222222222222222, \"#7201a8\"], [0.3333333333333333, \"#9c179e\"], [0.4444444444444444, \"#bd3786\"], [0.5555555555555556, \"#d8576b\"], [0.6666666666666666, \"#ed7953\"], [0.7777777777777778, \"#fb9f3a\"], [0.8888888888888888, \"#fdca26\"], [1.0, \"#f0f921\"]]}, \"colorway\": [\"#636efa\", \"#EF553B\", \"#00cc96\", \"#ab63fa\", \"#FFA15A\", \"#19d3f3\", \"#FF6692\", \"#B6E880\", \"#FF97FF\", \"#FECB52\"], \"font\": {\"color\": \"#2a3f5f\"}, \"geo\": {\"bgcolor\": \"white\", \"lakecolor\": \"white\", \"landcolor\": \"#E5ECF6\", \"showlakes\": true, \"showland\": true, \"subunitcolor\": \"white\"}, \"hoverlabel\": {\"align\": \"left\"}, \"hovermode\": \"closest\", \"mapbox\": {\"style\": \"light\"}, \"paper_bgcolor\": \"white\", \"plot_bgcolor\": \"#E5ECF6\", \"polar\": {\"angularaxis\": {\"gridcolor\": \"white\", \"linecolor\": \"white\", \"ticks\": \"\"}, \"bgcolor\": \"#E5ECF6\", \"radialaxis\": {\"gridcolor\": \"white\", \"linecolor\": \"white\", \"ticks\": \"\"}}, \"scene\": {\"xaxis\": {\"backgroundcolor\": \"#E5ECF6\", \"gridcolor\": \"white\", \"gridwidth\": 2, \"linecolor\": \"white\", \"showbackground\": true, \"ticks\": \"\", \"zerolinecolor\": \"white\"}, \"yaxis\": {\"backgroundcolor\": \"#E5ECF6\", \"gridcolor\": \"white\", \"gridwidth\": 2, \"linecolor\": \"white\", \"showbackground\": true, \"ticks\": \"\", \"zerolinecolor\": \"white\"}, \"zaxis\": {\"backgroundcolor\": \"#E5ECF6\", \"gridcolor\": \"white\", \"gridwidth\": 2, \"linecolor\": \"white\", \"showbackground\": true, \"ticks\": \"\", \"zerolinecolor\": \"white\"}}, \"shapedefaults\": {\"line\": {\"color\": \"#2a3f5f\"}}, \"ternary\": {\"aaxis\": {\"gridcolor\": \"white\", \"linecolor\": \"white\", \"ticks\": \"\"}, \"baxis\": {\"gridcolor\": \"white\", \"linecolor\": \"white\", \"ticks\": \"\"}, \"bgcolor\": \"#E5ECF6\", \"caxis\": {\"gridcolor\": \"white\", \"linecolor\": \"white\", \"ticks\": \"\"}}, \"title\": {\"x\": 0.05}, \"xaxis\": {\"automargin\": true, \"gridcolor\": \"white\", \"linecolor\": \"white\", \"ticks\": \"\", \"title\": {\"standoff\": 15}, \"zerolinecolor\": \"white\", \"zerolinewidth\": 2}, \"yaxis\": {\"automargin\": true, \"gridcolor\": \"white\", \"linecolor\": \"white\", \"ticks\": \"\", \"title\": {\"standoff\": 15}, \"zerolinecolor\": \"white\", \"zerolinewidth\": 2}}}, \"title\": {\"text\": \"Happiness Score compared to Social Support Score\"}, \"width\": 1000, \"xaxis\": {\"anchor\": \"y\", \"domain\": [0.0, 1.0], \"range\": [0, 8], \"title\": {\"text\": \"Happiness Score\"}}, \"yaxis\": {\"anchor\": \"x\", \"domain\": [0.0, 1.0], \"title\": {\"text\": \"Social Support Score\"}}},                        {\"responsive\": true}                    ).then(function(){\n",
       "                            \n",
       "var gd = document.getElementById('fbb7759f-ad24-4058-8447-c42d78510360');\n",
       "var x = new MutationObserver(function (mutations, observer) {{\n",
       "        var display = window.getComputedStyle(gd).display;\n",
       "        if (!display || display === 'none') {{\n",
       "            console.log([gd, 'removed!']);\n",
       "            Plotly.purge(gd);\n",
       "            observer.disconnect();\n",
       "        }}\n",
       "}});\n",
       "\n",
       "// Listen for the removal of the full notebook cells\n",
       "var notebookContainer = gd.closest('#notebook-container');\n",
       "if (notebookContainer) {{\n",
       "    x.observe(notebookContainer, {childList: true});\n",
       "}}\n",
       "\n",
       "// Listen for the clearing of the current output cell\n",
       "var outputEl = gd.closest('.output');\n",
       "if (outputEl) {{\n",
       "    x.observe(outputEl, {childList: true});\n",
       "}}\n",
       "\n",
       "                        })                };                });            </script>        </div>"
      ]
     },
     "metadata": {},
     "output_type": "display_data"
    }
   ],
   "source": [
    "#happiness score vs social support\n",
    "\n",
    "#establish x and y values\n",
    "x_values = merged_2017[\"Score\"]\n",
    "y_values = merged_2017[\"Social support\"]\n",
    "\n",
    "#px.scatter\n",
    "fig = px.scatter(merged_2017, x_values, y_values, color=\"Region\", hover_name=\"Country or region\",\n",
    "                range_x=[0,8], title=\"Happiness Score compared to Social Support Score\",\n",
    "                width= 1000, height =600) # use trendline=\"ols\" to see all lin reg equations\n",
    "\n",
    "#set axes labels\n",
    "fig.update_xaxes(title_text='Happiness Score')\n",
    "fig.update_yaxes(title_text='Social Support Score')\n",
    "\n",
    "\n",
    "#formatting\n",
    "#marker size and colors\n",
    "fig.update_traces(marker=dict(size=10,\n",
    "                              line=dict(width=1, \n",
    "                                        color='DarkSlateGrey')))\n",
    "\n",
    "\n",
    "#linear regression\n",
    "#use linregress from dependencies to inplement linear regression\n",
    "(slope, intercept, rvalue, pvalue, stderr) = linregress(x_values, y_values)\n",
    "regress_values = x_values * slope + intercept\n",
    "\n",
    "#print out all variables calculated above (rvalue, pvalue...)\n",
    "print(f\"slope:{round(slope, 2)}\")\n",
    "print(f\"intercept:{round(intercept,2)}\")\n",
    "res = sts.linregress(x_values, y_values)\n",
    "print(f\"R-squared: {res.rvalue**2:.4f}\")\n",
    "\n",
    "\n",
    "#print out line eq for reference\n",
    "line_eq = (f\"y={round(slope, 2)}x + {round(intercept, 2)}\")\n",
    "print(line_eq)\n",
    "\n",
    "fig.show()"
   ]
  },
  {
   "cell_type": "code",
   "execution_count": 14,
   "metadata": {},
   "outputs": [
    {
     "name": "stdout",
     "output_type": "stream",
     "text": [
      "slope:0.16\n",
      "intercept:-0.31\n",
      "R-squared: 0.6273\n",
      "y=0.16x + -0.31\n"
     ]
    },
    {
     "data": {
      "application/vnd.plotly.v1+json": {
       "config": {
        "plotlyServerURL": "https://plot.ly"
       },
       "data": [
        {
         "hovertemplate": "<b>%{hovertext}</b><br><br>Region=Europe<br>Score=%{x}<br>Healthy life expectancy=%{y}<extra></extra>",
         "hovertext": [
          "Norway",
          "Denmark",
          "Iceland",
          "Switzerland",
          "Finland",
          "Netherlands",
          "Sweden",
          "Austria",
          "Ireland",
          "Germany",
          "Belgium",
          "Luxembourg",
          "United Kingdom",
          "Czech Republic",
          "Malta",
          "France",
          "Spain",
          "Slovakia",
          "Poland",
          "Uzbekistan",
          "Italy",
          "Russia",
          "Lithuania",
          "Latvia",
          "Moldova",
          "Romania",
          "Turkmenistan",
          "Kazakhstan",
          "North Cyprus",
          "Slovenia",
          "Cyprus",
          "Estonia",
          "Belarus",
          "Serbia",
          "Hungary",
          "Croatia",
          "Kosovo",
          "Montenegro",
          "Azerbaijan",
          "Greece",
          "Portugal",
          "Bosnia and Herzegovina",
          "Macedonia",
          "Tajikistan",
          "Kyrgyzstan",
          "Bulgaria",
          "Albania",
          "Armenia",
          "Georgia",
          "Ukraine"
         ],
         "legendgroup": "Europe",
         "marker": {
          "color": "#636efa",
          "line": {
           "color": "DarkSlateGrey",
           "width": 1
          },
          "size": 10,
          "symbol": "circle"
         },
         "mode": "markers",
         "name": "Europe",
         "orientation": "v",
         "showlegend": true,
         "type": "scatter",
         "x": [
          7.537000179290769,
          7.52199983596802,
          7.50400018692017,
          7.49399995803833,
          7.468999862670901,
          7.3769998550415,
          7.28399991989136,
          7.00600004196167,
          6.9770002365112305,
          6.9510002136230495,
          6.89099979400635,
          6.86299991607666,
          6.71400022506714,
          6.60900020599365,
          6.52699995040894,
          6.44199991226196,
          6.40299987792969,
          6.09800004959106,
          5.97300004959106,
          5.97100019454956,
          5.96400022506714,
          5.962999820709231,
          5.90199995040894,
          5.849999904632571,
          5.837999820709231,
          5.824999809265139,
          5.82200002670288,
          5.8189997673034695,
          5.80999994277954,
          5.75799989700317,
          5.62099981307983,
          5.61100006103516,
          5.5689997673034695,
          5.39499998092651,
          5.32399988174438,
          5.2930002212524405,
          5.27899980545044,
          5.23699998855591,
          5.234000205993651,
          5.2270002365112305,
          5.19500017166138,
          5.18200016021729,
          5.175000190734861,
          5.04099988937378,
          5.0040001869201705,
          4.71400022506714,
          4.64400005340576,
          4.37599992752075,
          4.28599977493286,
          4.09600019454956
         ],
         "xaxis": "x",
         "y": [
          0.796666502952576,
          0.7925655245780941,
          0.8335521221160892,
          0.858131289482117,
          0.80915766954422,
          0.8106961250305179,
          0.830875158309937,
          0.8153284192085269,
          0.8097826242446899,
          0.798950731754303,
          0.8180918693542479,
          0.845089495182037,
          0.805335938930511,
          0.754444003105164,
          0.821944236755371,
          0.8444658517837521,
          0.888960599899292,
          0.712732911109924,
          0.699475347995758,
          0.498272627592087,
          0.8531443476676941,
          0.547349333763123,
          0.62894994020462,
          0.638566970825195,
          0.5894652009010309,
          0.6851583123207089,
          0.437726080417633,
          0.6060415506362921,
          0.834647238254547,
          0.7908282279968258,
          0.84471470117569,
          0.695168316364288,
          0.6377142667770389,
          0.65078467130661,
          0.6877634525299069,
          0.701288521289825,
          0.541452050209045,
          0.6674646735191351,
          0.5407757759094239,
          0.8101989030838009,
          0.795843541622162,
          0.705186307430267,
          0.644948184490204,
          0.5292351245880129,
          0.553457796573639,
          0.708217680454254,
          0.731159746646881,
          0.637524425983429,
          0.649546980857849,
          0.575903952121735
         ],
         "yaxis": "y"
        },
        {
         "hovertemplate": "<b>%{hovertext}</b><br><br>Region=North America<br>Score=%{x}<br>Healthy life expectancy=%{y}<extra></extra>",
         "hovertext": [
          "Canada",
          "United States"
         ],
         "legendgroup": "North America",
         "marker": {
          "color": "#EF553B",
          "line": {
           "color": "DarkSlateGrey",
           "width": 1
          },
          "size": 10,
          "symbol": "circle"
         },
         "mode": "markers",
         "name": "North America",
         "orientation": "v",
         "showlegend": true,
         "type": "scatter",
         "x": [
          7.31599998474121,
          6.993000030517581
         ],
         "xaxis": "x",
         "y": [
          0.83455765247345,
          0.7742866277694699
         ],
         "yaxis": "y"
        },
        {
         "hovertemplate": "<b>%{hovertext}</b><br><br>Region=Australia and New Zealand<br>Score=%{x}<br>Healthy life expectancy=%{y}<extra></extra>",
         "hovertext": [
          "New Zealand",
          "Australia"
         ],
         "legendgroup": "Australia and New Zealand",
         "marker": {
          "color": "#00cc96",
          "line": {
           "color": "DarkSlateGrey",
           "width": 1
          },
          "size": 10,
          "symbol": "circle"
         },
         "mode": "markers",
         "name": "Australia and New Zealand",
         "orientation": "v",
         "showlegend": true,
         "type": "scatter",
         "x": [
          7.31400012969971,
          7.28399991989136
         ],
         "xaxis": "x",
         "y": [
          0.816759705543518,
          0.84388679265976
         ],
         "yaxis": "y"
        },
        {
         "hovertemplate": "<b>%{hovertext}</b><br><br>Region=Middle East and Northern Africa<br>Score=%{x}<br>Healthy life expectancy=%{y}<extra></extra>",
         "hovertext": [
          "Israel",
          "United Arab Emirates",
          "Qatar",
          "Saudi Arabia",
          "Kuwait",
          "Bahrain",
          "Algeria",
          "Libya",
          "Turkey",
          "Jordan",
          "Morocco",
          "Lebanon",
          "Tunisia",
          "Palestinian Territories",
          "Egypt",
          "Iran",
          "Iraq",
          "Yemen",
          "Syria"
         ],
         "legendgroup": "Middle East and Northern Africa",
         "marker": {
          "color": "#ab63fa",
          "line": {
           "color": "DarkSlateGrey",
           "width": 1
          },
          "size": 10,
          "symbol": "circle"
         },
         "mode": "markers",
         "name": "Middle East and Northern Africa",
         "orientation": "v",
         "showlegend": true,
         "type": "scatter",
         "x": [
          7.212999820709231,
          6.6479997634887695,
          6.375,
          6.343999862670901,
          6.10500001907349,
          6.08699989318848,
          5.872000217437741,
          5.525000095367429,
          5.5,
          5.33599996566772,
          5.2350001335144,
          5.22499990463257,
          4.80499982833862,
          4.77500009536743,
          4.7350001335144,
          4.69199991226196,
          4.49700021743774,
          3.59299993515015,
          3.46199989318848
         ],
         "xaxis": "x",
         "y": [
          0.83840399980545,
          0.726798236370087,
          0.7100980877876278,
          0.590148329734802,
          0.6321057081222529,
          0.653133034706116,
          0.6175846457481379,
          0.520169019699097,
          0.6376056075096129,
          0.6045900583267211,
          0.59771066904068,
          0.7350810766220089,
          0.613212049007416,
          0.565666973590851,
          0.520187258720398,
          0.639333188533783,
          0.501180469989777,
          0.310080915689468,
          0.5005333423614501
         ],
         "yaxis": "y"
        },
        {
         "hovertemplate": "<b>%{hovertext}</b><br><br>Region=Latin America and Caribbean<br>Score=%{x}<br>Healthy life expectancy=%{y}<extra></extra>",
         "hovertext": [
          "Costa Rica",
          "Chile",
          "Brazil",
          "Argentina",
          "Mexico",
          "Uruguay",
          "Guatemala",
          "Panama",
          "Colombia",
          "Trinidad and Tobago",
          "Nicaragua",
          "Ecuador",
          "El Salvador",
          "Bolivia",
          "Peru",
          "Paraguay",
          "Jamaica",
          "Venezuela",
          "Dominican Republic",
          "Honduras",
          "Haiti"
         ],
         "legendgroup": "Latin America and Caribbean",
         "marker": {
          "color": "#FFA15A",
          "line": {
           "color": "DarkSlateGrey",
           "width": 1
          },
          "size": 10,
          "symbol": "circle"
         },
         "mode": "markers",
         "name": "Latin America and Caribbean",
         "orientation": "v",
         "showlegend": true,
         "type": "scatter",
         "x": [
          7.0789999961853,
          6.65199995040894,
          6.6350002288818395,
          6.59899997711182,
          6.57800006866455,
          6.4539999961853,
          6.4539999961853,
          6.4520001411438,
          6.35699987411499,
          6.1680002212524405,
          6.07100009918213,
          6.00799989700317,
          6.002999782562259,
          5.82299995422363,
          5.71500015258789,
          5.493000030517581,
          5.31099987030029,
          5.25,
          5.230000019073491,
          5.1810002326965305,
          3.6029999256133998
         ],
         "xaxis": "x",
         "y": [
          0.7595092654228209,
          0.8194797039031979,
          0.6165523529052729,
          0.695137083530426,
          0.709978997707367,
          0.719216823577881,
          0.540239989757538,
          0.706156134605408,
          0.595027923583984,
          0.5199832916259771,
          0.6530959606170649,
          0.685636222362518,
          0.596018552780151,
          0.47363024950027505,
          0.6301661133766171,
          0.579250693321228,
          0.6410223841667181,
          0.617144227027893,
          0.574873745441437,
          0.582569479942322,
          0.277321130037308
         ],
         "yaxis": "y"
        },
        {
         "hovertemplate": "<b>%{hovertext}</b><br><br>Region=Asia<br>Score=%{x}<br>Healthy life expectancy=%{y}<extra></extra>",
         "hovertext": [
          "Singapore",
          "Thailand",
          "Malaysia",
          "Japan",
          "South Korea",
          "Philippines",
          "China",
          "Pakistan",
          "Indonesia",
          "Vietnam",
          "Bhutan",
          "Nepal",
          "Mongolia",
          "Bangladesh",
          "Myanmar",
          "Sri Lanka",
          "India",
          "Cambodia",
          "Afghanistan"
         ],
         "legendgroup": "Asia",
         "marker": {
          "color": "#19d3f3",
          "line": {
           "color": "DarkSlateGrey",
           "width": 1
          },
          "size": 10,
          "symbol": "circle"
         },
         "mode": "markers",
         "name": "Asia",
         "orientation": "v",
         "showlegend": true,
         "type": "scatter",
         "x": [
          6.57200002670288,
          6.4239997863769505,
          6.08400011062622,
          5.92000007629395,
          5.837999820709231,
          5.42999982833862,
          5.2729997634887695,
          5.26900005340576,
          5.26200008392334,
          5.07399988174438,
          5.01100015640259,
          4.961999893188481,
          4.95499992370605,
          4.60799980163574,
          4.54500007629395,
          4.44000005722046,
          4.31500005722046,
          4.1680002212524405,
          3.7939999103546103
         ],
         "xaxis": "x",
         "y": [
          0.9494923949241642,
          0.647239029407501,
          0.618784427642822,
          0.9134758710861209,
          0.900214076042175,
          0.46800905466079706,
          0.741415500640869,
          0.40204778313636796,
          0.49234572052955605,
          0.6521689891815191,
          0.495879292488098,
          0.504130780696869,
          0.557783484458923,
          0.533241033554077,
          0.397522568702698,
          0.625130832195282,
          0.455427616834641,
          0.429783403873444,
          0.18074677884578697
         ],
         "yaxis": "y"
        },
        {
         "hovertemplate": "<b>%{hovertext}</b><br><br>Region=Sub-Saharan Africa<br>Score=%{x}<br>Healthy life expectancy=%{y}<extra></extra>",
         "hovertext": [
          "Mauritius",
          "Nigeria",
          "South Africa",
          "Sierra Leone",
          "Cameroon",
          "Kenya",
          "Mozambique",
          "Senegal",
          "Zambia",
          "Gabon",
          "Ethiopia",
          "Mauritania",
          "Congo (Brazzaville)",
          "Congo (Kinshasa)",
          "Mali",
          "Ivory Coast",
          "Sudan",
          "Ghana",
          "Uganda",
          "Burkina Faso",
          "Niger",
          "Malawi",
          "Chad",
          "Zimbabwe",
          "Lesotho",
          "Angola",
          "Botswana",
          "Benin",
          "Madagascar",
          "Liberia",
          "Guinea",
          "Togo",
          "Rwanda",
          "Tanzania",
          "Burundi",
          "Central African Republic"
         ],
         "legendgroup": "Sub-Saharan Africa",
         "marker": {
          "color": "#FF6692",
          "line": {
           "color": "DarkSlateGrey",
           "width": 1
          },
          "size": 10,
          "symbol": "circle"
         },
         "mode": "markers",
         "name": "Sub-Saharan Africa",
         "orientation": "v",
         "showlegend": true,
         "type": "scatter",
         "x": [
          5.62900018692017,
          5.07399988174438,
          4.8289999961853,
          4.70900011062622,
          4.69500017166138,
          4.55299997329712,
          4.550000190734861,
          4.53499984741211,
          4.513999938964839,
          4.46500015258789,
          4.46000003814697,
          4.29199981689453,
          4.29099988937378,
          4.2800002098083505,
          4.19000005722046,
          4.17999982833862,
          4.138999938964839,
          4.11999988555908,
          4.08099985122681,
          4.03200006484985,
          4.02799987792969,
          3.97000002861023,
          3.9360001087188703,
          3.875,
          3.80800008773804,
          3.79500007629395,
          3.7660000324249303,
          3.65700006484985,
          3.64400005340576,
          3.5329999923706095,
          3.50699996948242,
          3.4949998855590803,
          3.47099995613098,
          3.34899997711182,
          2.90499997138977,
          2.69300007820129
         ],
         "xaxis": "x",
         "y": [
          0.6380074620246889,
          0.0569157302379608,
          0.18708007037639604,
          0.005564753897488121,
          0.132892116904259,
          0.30998834967613204,
          0.10665443539619399,
          0.409362852573395,
          0.25783589482307395,
          0.35657858848571794,
          0.35340970754623396,
          0.285349279642105,
          0.28995743393898,
          0.191407024860382,
          0.16936567425727803,
          0.0486421696841717,
          0.290920823812485,
          0.29563772678375205,
          0.21763260662555703,
          0.21584425866603896,
          0.26850500702858,
          0.315089583396912,
          0.0411347150802612,
          0.19676375389099102,
          0,
          0.0498686656355858,
          0.34175550937652605,
          0.20993021130561804,
          0.375223308801651,
          0.229918196797371,
          0.194129139184952,
          0.247105568647385,
          0.326424807310104,
          0.364509284496307,
          0.151610791683197,
          0.0187726859003305
         ],
         "yaxis": "y"
        }
       ],
       "layout": {
        "height": 600,
        "legend": {
         "title": {
          "text": "Region"
         },
         "tracegroupgap": 0
        },
        "template": {
         "data": {
          "bar": [
           {
            "error_x": {
             "color": "#2a3f5f"
            },
            "error_y": {
             "color": "#2a3f5f"
            },
            "marker": {
             "line": {
              "color": "#E5ECF6",
              "width": 0.5
             }
            },
            "type": "bar"
           }
          ],
          "barpolar": [
           {
            "marker": {
             "line": {
              "color": "#E5ECF6",
              "width": 0.5
             }
            },
            "type": "barpolar"
           }
          ],
          "carpet": [
           {
            "aaxis": {
             "endlinecolor": "#2a3f5f",
             "gridcolor": "white",
             "linecolor": "white",
             "minorgridcolor": "white",
             "startlinecolor": "#2a3f5f"
            },
            "baxis": {
             "endlinecolor": "#2a3f5f",
             "gridcolor": "white",
             "linecolor": "white",
             "minorgridcolor": "white",
             "startlinecolor": "#2a3f5f"
            },
            "type": "carpet"
           }
          ],
          "choropleth": [
           {
            "colorbar": {
             "outlinewidth": 0,
             "ticks": ""
            },
            "type": "choropleth"
           }
          ],
          "contour": [
           {
            "colorbar": {
             "outlinewidth": 0,
             "ticks": ""
            },
            "colorscale": [
             [
              0,
              "#0d0887"
             ],
             [
              0.1111111111111111,
              "#46039f"
             ],
             [
              0.2222222222222222,
              "#7201a8"
             ],
             [
              0.3333333333333333,
              "#9c179e"
             ],
             [
              0.4444444444444444,
              "#bd3786"
             ],
             [
              0.5555555555555556,
              "#d8576b"
             ],
             [
              0.6666666666666666,
              "#ed7953"
             ],
             [
              0.7777777777777778,
              "#fb9f3a"
             ],
             [
              0.8888888888888888,
              "#fdca26"
             ],
             [
              1,
              "#f0f921"
             ]
            ],
            "type": "contour"
           }
          ],
          "contourcarpet": [
           {
            "colorbar": {
             "outlinewidth": 0,
             "ticks": ""
            },
            "type": "contourcarpet"
           }
          ],
          "heatmap": [
           {
            "colorbar": {
             "outlinewidth": 0,
             "ticks": ""
            },
            "colorscale": [
             [
              0,
              "#0d0887"
             ],
             [
              0.1111111111111111,
              "#46039f"
             ],
             [
              0.2222222222222222,
              "#7201a8"
             ],
             [
              0.3333333333333333,
              "#9c179e"
             ],
             [
              0.4444444444444444,
              "#bd3786"
             ],
             [
              0.5555555555555556,
              "#d8576b"
             ],
             [
              0.6666666666666666,
              "#ed7953"
             ],
             [
              0.7777777777777778,
              "#fb9f3a"
             ],
             [
              0.8888888888888888,
              "#fdca26"
             ],
             [
              1,
              "#f0f921"
             ]
            ],
            "type": "heatmap"
           }
          ],
          "heatmapgl": [
           {
            "colorbar": {
             "outlinewidth": 0,
             "ticks": ""
            },
            "colorscale": [
             [
              0,
              "#0d0887"
             ],
             [
              0.1111111111111111,
              "#46039f"
             ],
             [
              0.2222222222222222,
              "#7201a8"
             ],
             [
              0.3333333333333333,
              "#9c179e"
             ],
             [
              0.4444444444444444,
              "#bd3786"
             ],
             [
              0.5555555555555556,
              "#d8576b"
             ],
             [
              0.6666666666666666,
              "#ed7953"
             ],
             [
              0.7777777777777778,
              "#fb9f3a"
             ],
             [
              0.8888888888888888,
              "#fdca26"
             ],
             [
              1,
              "#f0f921"
             ]
            ],
            "type": "heatmapgl"
           }
          ],
          "histogram": [
           {
            "marker": {
             "colorbar": {
              "outlinewidth": 0,
              "ticks": ""
             }
            },
            "type": "histogram"
           }
          ],
          "histogram2d": [
           {
            "colorbar": {
             "outlinewidth": 0,
             "ticks": ""
            },
            "colorscale": [
             [
              0,
              "#0d0887"
             ],
             [
              0.1111111111111111,
              "#46039f"
             ],
             [
              0.2222222222222222,
              "#7201a8"
             ],
             [
              0.3333333333333333,
              "#9c179e"
             ],
             [
              0.4444444444444444,
              "#bd3786"
             ],
             [
              0.5555555555555556,
              "#d8576b"
             ],
             [
              0.6666666666666666,
              "#ed7953"
             ],
             [
              0.7777777777777778,
              "#fb9f3a"
             ],
             [
              0.8888888888888888,
              "#fdca26"
             ],
             [
              1,
              "#f0f921"
             ]
            ],
            "type": "histogram2d"
           }
          ],
          "histogram2dcontour": [
           {
            "colorbar": {
             "outlinewidth": 0,
             "ticks": ""
            },
            "colorscale": [
             [
              0,
              "#0d0887"
             ],
             [
              0.1111111111111111,
              "#46039f"
             ],
             [
              0.2222222222222222,
              "#7201a8"
             ],
             [
              0.3333333333333333,
              "#9c179e"
             ],
             [
              0.4444444444444444,
              "#bd3786"
             ],
             [
              0.5555555555555556,
              "#d8576b"
             ],
             [
              0.6666666666666666,
              "#ed7953"
             ],
             [
              0.7777777777777778,
              "#fb9f3a"
             ],
             [
              0.8888888888888888,
              "#fdca26"
             ],
             [
              1,
              "#f0f921"
             ]
            ],
            "type": "histogram2dcontour"
           }
          ],
          "mesh3d": [
           {
            "colorbar": {
             "outlinewidth": 0,
             "ticks": ""
            },
            "type": "mesh3d"
           }
          ],
          "parcoords": [
           {
            "line": {
             "colorbar": {
              "outlinewidth": 0,
              "ticks": ""
             }
            },
            "type": "parcoords"
           }
          ],
          "pie": [
           {
            "automargin": true,
            "type": "pie"
           }
          ],
          "scatter": [
           {
            "marker": {
             "colorbar": {
              "outlinewidth": 0,
              "ticks": ""
             }
            },
            "type": "scatter"
           }
          ],
          "scatter3d": [
           {
            "line": {
             "colorbar": {
              "outlinewidth": 0,
              "ticks": ""
             }
            },
            "marker": {
             "colorbar": {
              "outlinewidth": 0,
              "ticks": ""
             }
            },
            "type": "scatter3d"
           }
          ],
          "scattercarpet": [
           {
            "marker": {
             "colorbar": {
              "outlinewidth": 0,
              "ticks": ""
             }
            },
            "type": "scattercarpet"
           }
          ],
          "scattergeo": [
           {
            "marker": {
             "colorbar": {
              "outlinewidth": 0,
              "ticks": ""
             }
            },
            "type": "scattergeo"
           }
          ],
          "scattergl": [
           {
            "marker": {
             "colorbar": {
              "outlinewidth": 0,
              "ticks": ""
             }
            },
            "type": "scattergl"
           }
          ],
          "scattermapbox": [
           {
            "marker": {
             "colorbar": {
              "outlinewidth": 0,
              "ticks": ""
             }
            },
            "type": "scattermapbox"
           }
          ],
          "scatterpolar": [
           {
            "marker": {
             "colorbar": {
              "outlinewidth": 0,
              "ticks": ""
             }
            },
            "type": "scatterpolar"
           }
          ],
          "scatterpolargl": [
           {
            "marker": {
             "colorbar": {
              "outlinewidth": 0,
              "ticks": ""
             }
            },
            "type": "scatterpolargl"
           }
          ],
          "scatterternary": [
           {
            "marker": {
             "colorbar": {
              "outlinewidth": 0,
              "ticks": ""
             }
            },
            "type": "scatterternary"
           }
          ],
          "surface": [
           {
            "colorbar": {
             "outlinewidth": 0,
             "ticks": ""
            },
            "colorscale": [
             [
              0,
              "#0d0887"
             ],
             [
              0.1111111111111111,
              "#46039f"
             ],
             [
              0.2222222222222222,
              "#7201a8"
             ],
             [
              0.3333333333333333,
              "#9c179e"
             ],
             [
              0.4444444444444444,
              "#bd3786"
             ],
             [
              0.5555555555555556,
              "#d8576b"
             ],
             [
              0.6666666666666666,
              "#ed7953"
             ],
             [
              0.7777777777777778,
              "#fb9f3a"
             ],
             [
              0.8888888888888888,
              "#fdca26"
             ],
             [
              1,
              "#f0f921"
             ]
            ],
            "type": "surface"
           }
          ],
          "table": [
           {
            "cells": {
             "fill": {
              "color": "#EBF0F8"
             },
             "line": {
              "color": "white"
             }
            },
            "header": {
             "fill": {
              "color": "#C8D4E3"
             },
             "line": {
              "color": "white"
             }
            },
            "type": "table"
           }
          ]
         },
         "layout": {
          "annotationdefaults": {
           "arrowcolor": "#2a3f5f",
           "arrowhead": 0,
           "arrowwidth": 1
          },
          "autotypenumbers": "strict",
          "coloraxis": {
           "colorbar": {
            "outlinewidth": 0,
            "ticks": ""
           }
          },
          "colorscale": {
           "diverging": [
            [
             0,
             "#8e0152"
            ],
            [
             0.1,
             "#c51b7d"
            ],
            [
             0.2,
             "#de77ae"
            ],
            [
             0.3,
             "#f1b6da"
            ],
            [
             0.4,
             "#fde0ef"
            ],
            [
             0.5,
             "#f7f7f7"
            ],
            [
             0.6,
             "#e6f5d0"
            ],
            [
             0.7,
             "#b8e186"
            ],
            [
             0.8,
             "#7fbc41"
            ],
            [
             0.9,
             "#4d9221"
            ],
            [
             1,
             "#276419"
            ]
           ],
           "sequential": [
            [
             0,
             "#0d0887"
            ],
            [
             0.1111111111111111,
             "#46039f"
            ],
            [
             0.2222222222222222,
             "#7201a8"
            ],
            [
             0.3333333333333333,
             "#9c179e"
            ],
            [
             0.4444444444444444,
             "#bd3786"
            ],
            [
             0.5555555555555556,
             "#d8576b"
            ],
            [
             0.6666666666666666,
             "#ed7953"
            ],
            [
             0.7777777777777778,
             "#fb9f3a"
            ],
            [
             0.8888888888888888,
             "#fdca26"
            ],
            [
             1,
             "#f0f921"
            ]
           ],
           "sequentialminus": [
            [
             0,
             "#0d0887"
            ],
            [
             0.1111111111111111,
             "#46039f"
            ],
            [
             0.2222222222222222,
             "#7201a8"
            ],
            [
             0.3333333333333333,
             "#9c179e"
            ],
            [
             0.4444444444444444,
             "#bd3786"
            ],
            [
             0.5555555555555556,
             "#d8576b"
            ],
            [
             0.6666666666666666,
             "#ed7953"
            ],
            [
             0.7777777777777778,
             "#fb9f3a"
            ],
            [
             0.8888888888888888,
             "#fdca26"
            ],
            [
             1,
             "#f0f921"
            ]
           ]
          },
          "colorway": [
           "#636efa",
           "#EF553B",
           "#00cc96",
           "#ab63fa",
           "#FFA15A",
           "#19d3f3",
           "#FF6692",
           "#B6E880",
           "#FF97FF",
           "#FECB52"
          ],
          "font": {
           "color": "#2a3f5f"
          },
          "geo": {
           "bgcolor": "white",
           "lakecolor": "white",
           "landcolor": "#E5ECF6",
           "showlakes": true,
           "showland": true,
           "subunitcolor": "white"
          },
          "hoverlabel": {
           "align": "left"
          },
          "hovermode": "closest",
          "mapbox": {
           "style": "light"
          },
          "paper_bgcolor": "white",
          "plot_bgcolor": "#E5ECF6",
          "polar": {
           "angularaxis": {
            "gridcolor": "white",
            "linecolor": "white",
            "ticks": ""
           },
           "bgcolor": "#E5ECF6",
           "radialaxis": {
            "gridcolor": "white",
            "linecolor": "white",
            "ticks": ""
           }
          },
          "scene": {
           "xaxis": {
            "backgroundcolor": "#E5ECF6",
            "gridcolor": "white",
            "gridwidth": 2,
            "linecolor": "white",
            "showbackground": true,
            "ticks": "",
            "zerolinecolor": "white"
           },
           "yaxis": {
            "backgroundcolor": "#E5ECF6",
            "gridcolor": "white",
            "gridwidth": 2,
            "linecolor": "white",
            "showbackground": true,
            "ticks": "",
            "zerolinecolor": "white"
           },
           "zaxis": {
            "backgroundcolor": "#E5ECF6",
            "gridcolor": "white",
            "gridwidth": 2,
            "linecolor": "white",
            "showbackground": true,
            "ticks": "",
            "zerolinecolor": "white"
           }
          },
          "shapedefaults": {
           "line": {
            "color": "#2a3f5f"
           }
          },
          "ternary": {
           "aaxis": {
            "gridcolor": "white",
            "linecolor": "white",
            "ticks": ""
           },
           "baxis": {
            "gridcolor": "white",
            "linecolor": "white",
            "ticks": ""
           },
           "bgcolor": "#E5ECF6",
           "caxis": {
            "gridcolor": "white",
            "linecolor": "white",
            "ticks": ""
           }
          },
          "title": {
           "x": 0.05
          },
          "xaxis": {
           "automargin": true,
           "gridcolor": "white",
           "linecolor": "white",
           "ticks": "",
           "title": {
            "standoff": 15
           },
           "zerolinecolor": "white",
           "zerolinewidth": 2
          },
          "yaxis": {
           "automargin": true,
           "gridcolor": "white",
           "linecolor": "white",
           "ticks": "",
           "title": {
            "standoff": 15
           },
           "zerolinecolor": "white",
           "zerolinewidth": 2
          }
         }
        },
        "title": {
         "text": "Happiness Score compared to Healthy Life Expectancy Score"
        },
        "width": 1000,
        "xaxis": {
         "anchor": "y",
         "domain": [
          0,
          1
         ],
         "range": [
          0,
          8
         ],
         "title": {
          "text": "Happiness Score"
         }
        },
        "yaxis": {
         "anchor": "x",
         "domain": [
          0,
          1
         ],
         "title": {
          "text": "Healthy Life Expectancy"
         }
        }
       }
      },
      "text/html": [
       "<div>                            <div id=\"74af03c8-eea3-4171-8ac8-711a38af5218\" class=\"plotly-graph-div\" style=\"height:600px; width:1000px;\"></div>            <script type=\"text/javascript\">                require([\"plotly\"], function(Plotly) {                    window.PLOTLYENV=window.PLOTLYENV || {};                                    if (document.getElementById(\"74af03c8-eea3-4171-8ac8-711a38af5218\")) {                    Plotly.newPlot(                        \"74af03c8-eea3-4171-8ac8-711a38af5218\",                        [{\"hovertemplate\": \"<b>%{hovertext}</b><br><br>Region=Europe<br>Score=%{x}<br>Healthy life expectancy=%{y}<extra></extra>\", \"hovertext\": [\"Norway\", \"Denmark\", \"Iceland\", \"Switzerland\", \"Finland\", \"Netherlands\", \"Sweden\", \"Austria\", \"Ireland\", \"Germany\", \"Belgium\", \"Luxembourg\", \"United Kingdom\", \"Czech Republic\", \"Malta\", \"France\", \"Spain\", \"Slovakia\", \"Poland\", \"Uzbekistan\", \"Italy\", \"Russia\", \"Lithuania\", \"Latvia\", \"Moldova\", \"Romania\", \"Turkmenistan\", \"Kazakhstan\", \"North Cyprus\", \"Slovenia\", \"Cyprus\", \"Estonia\", \"Belarus\", \"Serbia\", \"Hungary\", \"Croatia\", \"Kosovo\", \"Montenegro\", \"Azerbaijan\", \"Greece\", \"Portugal\", \"Bosnia and Herzegovina\", \"Macedonia\", \"Tajikistan\", \"Kyrgyzstan\", \"Bulgaria\", \"Albania\", \"Armenia\", \"Georgia\", \"Ukraine\"], \"legendgroup\": \"Europe\", \"marker\": {\"color\": \"#636efa\", \"line\": {\"color\": \"DarkSlateGrey\", \"width\": 1}, \"size\": 10, \"symbol\": \"circle\"}, \"mode\": \"markers\", \"name\": \"Europe\", \"orientation\": \"v\", \"showlegend\": true, \"type\": \"scatter\", \"x\": [7.537000179290769, 7.52199983596802, 7.50400018692017, 7.49399995803833, 7.468999862670901, 7.3769998550415, 7.28399991989136, 7.00600004196167, 6.9770002365112305, 6.9510002136230495, 6.89099979400635, 6.86299991607666, 6.71400022506714, 6.60900020599365, 6.52699995040894, 6.44199991226196, 6.40299987792969, 6.09800004959106, 5.97300004959106, 5.97100019454956, 5.96400022506714, 5.962999820709231, 5.90199995040894, 5.849999904632571, 5.837999820709231, 5.824999809265139, 5.82200002670288, 5.8189997673034695, 5.80999994277954, 5.75799989700317, 5.62099981307983, 5.61100006103516, 5.5689997673034695, 5.39499998092651, 5.32399988174438, 5.2930002212524405, 5.27899980545044, 5.23699998855591, 5.234000205993651, 5.2270002365112305, 5.19500017166138, 5.18200016021729, 5.175000190734861, 5.04099988937378, 5.0040001869201705, 4.71400022506714, 4.64400005340576, 4.37599992752075, 4.28599977493286, 4.09600019454956], \"xaxis\": \"x\", \"y\": [0.796666502952576, 0.7925655245780941, 0.8335521221160892, 0.858131289482117, 0.80915766954422, 0.8106961250305179, 0.830875158309937, 0.8153284192085269, 0.8097826242446899, 0.798950731754303, 0.8180918693542479, 0.845089495182037, 0.805335938930511, 0.754444003105164, 0.821944236755371, 0.8444658517837521, 0.888960599899292, 0.712732911109924, 0.699475347995758, 0.498272627592087, 0.8531443476676941, 0.547349333763123, 0.62894994020462, 0.638566970825195, 0.5894652009010309, 0.6851583123207089, 0.437726080417633, 0.6060415506362921, 0.834647238254547, 0.7908282279968258, 0.84471470117569, 0.695168316364288, 0.6377142667770389, 0.65078467130661, 0.6877634525299069, 0.701288521289825, 0.541452050209045, 0.6674646735191351, 0.5407757759094239, 0.8101989030838009, 0.795843541622162, 0.705186307430267, 0.644948184490204, 0.5292351245880129, 0.553457796573639, 0.708217680454254, 0.731159746646881, 0.637524425983429, 0.649546980857849, 0.575903952121735], \"yaxis\": \"y\"}, {\"hovertemplate\": \"<b>%{hovertext}</b><br><br>Region=North America<br>Score=%{x}<br>Healthy life expectancy=%{y}<extra></extra>\", \"hovertext\": [\"Canada\", \"United States\"], \"legendgroup\": \"North America\", \"marker\": {\"color\": \"#EF553B\", \"line\": {\"color\": \"DarkSlateGrey\", \"width\": 1}, \"size\": 10, \"symbol\": \"circle\"}, \"mode\": \"markers\", \"name\": \"North America\", \"orientation\": \"v\", \"showlegend\": true, \"type\": \"scatter\", \"x\": [7.31599998474121, 6.993000030517581], \"xaxis\": \"x\", \"y\": [0.83455765247345, 0.7742866277694699], \"yaxis\": \"y\"}, {\"hovertemplate\": \"<b>%{hovertext}</b><br><br>Region=Australia and New Zealand<br>Score=%{x}<br>Healthy life expectancy=%{y}<extra></extra>\", \"hovertext\": [\"New Zealand\", \"Australia\"], \"legendgroup\": \"Australia and New Zealand\", \"marker\": {\"color\": \"#00cc96\", \"line\": {\"color\": \"DarkSlateGrey\", \"width\": 1}, \"size\": 10, \"symbol\": \"circle\"}, \"mode\": \"markers\", \"name\": \"Australia and New Zealand\", \"orientation\": \"v\", \"showlegend\": true, \"type\": \"scatter\", \"x\": [7.31400012969971, 7.28399991989136], \"xaxis\": \"x\", \"y\": [0.816759705543518, 0.84388679265976], \"yaxis\": \"y\"}, {\"hovertemplate\": \"<b>%{hovertext}</b><br><br>Region=Middle East and Northern Africa<br>Score=%{x}<br>Healthy life expectancy=%{y}<extra></extra>\", \"hovertext\": [\"Israel\", \"United Arab Emirates\", \"Qatar\", \"Saudi Arabia\", \"Kuwait\", \"Bahrain\", \"Algeria\", \"Libya\", \"Turkey\", \"Jordan\", \"Morocco\", \"Lebanon\", \"Tunisia\", \"Palestinian Territories\", \"Egypt\", \"Iran\", \"Iraq\", \"Yemen\", \"Syria\"], \"legendgroup\": \"Middle East and Northern Africa\", \"marker\": {\"color\": \"#ab63fa\", \"line\": {\"color\": \"DarkSlateGrey\", \"width\": 1}, \"size\": 10, \"symbol\": \"circle\"}, \"mode\": \"markers\", \"name\": \"Middle East and Northern Africa\", \"orientation\": \"v\", \"showlegend\": true, \"type\": \"scatter\", \"x\": [7.212999820709231, 6.6479997634887695, 6.375, 6.343999862670901, 6.10500001907349, 6.08699989318848, 5.872000217437741, 5.525000095367429, 5.5, 5.33599996566772, 5.2350001335144, 5.22499990463257, 4.80499982833862, 4.77500009536743, 4.7350001335144, 4.69199991226196, 4.49700021743774, 3.59299993515015, 3.46199989318848], \"xaxis\": \"x\", \"y\": [0.83840399980545, 0.726798236370087, 0.7100980877876278, 0.590148329734802, 0.6321057081222529, 0.653133034706116, 0.6175846457481379, 0.520169019699097, 0.6376056075096129, 0.6045900583267211, 0.59771066904068, 0.7350810766220089, 0.613212049007416, 0.565666973590851, 0.520187258720398, 0.639333188533783, 0.501180469989777, 0.310080915689468, 0.5005333423614501], \"yaxis\": \"y\"}, {\"hovertemplate\": \"<b>%{hovertext}</b><br><br>Region=Latin America and Caribbean<br>Score=%{x}<br>Healthy life expectancy=%{y}<extra></extra>\", \"hovertext\": [\"Costa Rica\", \"Chile\", \"Brazil\", \"Argentina\", \"Mexico\", \"Uruguay\", \"Guatemala\", \"Panama\", \"Colombia\", \"Trinidad and Tobago\", \"Nicaragua\", \"Ecuador\", \"El Salvador\", \"Bolivia\", \"Peru\", \"Paraguay\", \"Jamaica\", \"Venezuela\", \"Dominican Republic\", \"Honduras\", \"Haiti\"], \"legendgroup\": \"Latin America and Caribbean\", \"marker\": {\"color\": \"#FFA15A\", \"line\": {\"color\": \"DarkSlateGrey\", \"width\": 1}, \"size\": 10, \"symbol\": \"circle\"}, \"mode\": \"markers\", \"name\": \"Latin America and Caribbean\", \"orientation\": \"v\", \"showlegend\": true, \"type\": \"scatter\", \"x\": [7.0789999961853, 6.65199995040894, 6.6350002288818395, 6.59899997711182, 6.57800006866455, 6.4539999961853, 6.4539999961853, 6.4520001411438, 6.35699987411499, 6.1680002212524405, 6.07100009918213, 6.00799989700317, 6.002999782562259, 5.82299995422363, 5.71500015258789, 5.493000030517581, 5.31099987030029, 5.25, 5.230000019073491, 5.1810002326965305, 3.6029999256133998], \"xaxis\": \"x\", \"y\": [0.7595092654228209, 0.8194797039031979, 0.6165523529052729, 0.695137083530426, 0.709978997707367, 0.719216823577881, 0.540239989757538, 0.706156134605408, 0.595027923583984, 0.5199832916259771, 0.6530959606170649, 0.685636222362518, 0.596018552780151, 0.47363024950027505, 0.6301661133766171, 0.579250693321228, 0.6410223841667181, 0.617144227027893, 0.574873745441437, 0.582569479942322, 0.277321130037308], \"yaxis\": \"y\"}, {\"hovertemplate\": \"<b>%{hovertext}</b><br><br>Region=Asia<br>Score=%{x}<br>Healthy life expectancy=%{y}<extra></extra>\", \"hovertext\": [\"Singapore\", \"Thailand\", \"Malaysia\", \"Japan\", \"South Korea\", \"Philippines\", \"China\", \"Pakistan\", \"Indonesia\", \"Vietnam\", \"Bhutan\", \"Nepal\", \"Mongolia\", \"Bangladesh\", \"Myanmar\", \"Sri Lanka\", \"India\", \"Cambodia\", \"Afghanistan\"], \"legendgroup\": \"Asia\", \"marker\": {\"color\": \"#19d3f3\", \"line\": {\"color\": \"DarkSlateGrey\", \"width\": 1}, \"size\": 10, \"symbol\": \"circle\"}, \"mode\": \"markers\", \"name\": \"Asia\", \"orientation\": \"v\", \"showlegend\": true, \"type\": \"scatter\", \"x\": [6.57200002670288, 6.4239997863769505, 6.08400011062622, 5.92000007629395, 5.837999820709231, 5.42999982833862, 5.2729997634887695, 5.26900005340576, 5.26200008392334, 5.07399988174438, 5.01100015640259, 4.961999893188481, 4.95499992370605, 4.60799980163574, 4.54500007629395, 4.44000005722046, 4.31500005722046, 4.1680002212524405, 3.7939999103546103], \"xaxis\": \"x\", \"y\": [0.9494923949241642, 0.647239029407501, 0.618784427642822, 0.9134758710861209, 0.900214076042175, 0.46800905466079706, 0.741415500640869, 0.40204778313636796, 0.49234572052955605, 0.6521689891815191, 0.495879292488098, 0.504130780696869, 0.557783484458923, 0.533241033554077, 0.397522568702698, 0.625130832195282, 0.455427616834641, 0.429783403873444, 0.18074677884578697], \"yaxis\": \"y\"}, {\"hovertemplate\": \"<b>%{hovertext}</b><br><br>Region=Sub-Saharan Africa<br>Score=%{x}<br>Healthy life expectancy=%{y}<extra></extra>\", \"hovertext\": [\"Mauritius\", \"Nigeria\", \"South Africa\", \"Sierra Leone\", \"Cameroon\", \"Kenya\", \"Mozambique\", \"Senegal\", \"Zambia\", \"Gabon\", \"Ethiopia\", \"Mauritania\", \"Congo (Brazzaville)\", \"Congo (Kinshasa)\", \"Mali\", \"Ivory Coast\", \"Sudan\", \"Ghana\", \"Uganda\", \"Burkina Faso\", \"Niger\", \"Malawi\", \"Chad\", \"Zimbabwe\", \"Lesotho\", \"Angola\", \"Botswana\", \"Benin\", \"Madagascar\", \"Liberia\", \"Guinea\", \"Togo\", \"Rwanda\", \"Tanzania\", \"Burundi\", \"Central African Republic\"], \"legendgroup\": \"Sub-Saharan Africa\", \"marker\": {\"color\": \"#FF6692\", \"line\": {\"color\": \"DarkSlateGrey\", \"width\": 1}, \"size\": 10, \"symbol\": \"circle\"}, \"mode\": \"markers\", \"name\": \"Sub-Saharan Africa\", \"orientation\": \"v\", \"showlegend\": true, \"type\": \"scatter\", \"x\": [5.62900018692017, 5.07399988174438, 4.8289999961853, 4.70900011062622, 4.69500017166138, 4.55299997329712, 4.550000190734861, 4.53499984741211, 4.513999938964839, 4.46500015258789, 4.46000003814697, 4.29199981689453, 4.29099988937378, 4.2800002098083505, 4.19000005722046, 4.17999982833862, 4.138999938964839, 4.11999988555908, 4.08099985122681, 4.03200006484985, 4.02799987792969, 3.97000002861023, 3.9360001087188703, 3.875, 3.80800008773804, 3.79500007629395, 3.7660000324249303, 3.65700006484985, 3.64400005340576, 3.5329999923706095, 3.50699996948242, 3.4949998855590803, 3.47099995613098, 3.34899997711182, 2.90499997138977, 2.69300007820129], \"xaxis\": \"x\", \"y\": [0.6380074620246889, 0.0569157302379608, 0.18708007037639604, 0.005564753897488121, 0.132892116904259, 0.30998834967613204, 0.10665443539619399, 0.409362852573395, 0.25783589482307395, 0.35657858848571794, 0.35340970754623396, 0.285349279642105, 0.28995743393898, 0.191407024860382, 0.16936567425727803, 0.0486421696841717, 0.290920823812485, 0.29563772678375205, 0.21763260662555703, 0.21584425866603896, 0.26850500702858, 0.315089583396912, 0.0411347150802612, 0.19676375389099102, 0.0, 0.0498686656355858, 0.34175550937652605, 0.20993021130561804, 0.375223308801651, 0.229918196797371, 0.194129139184952, 0.247105568647385, 0.326424807310104, 0.364509284496307, 0.151610791683197, 0.0187726859003305], \"yaxis\": \"y\"}],                        {\"height\": 600, \"legend\": {\"title\": {\"text\": \"Region\"}, \"tracegroupgap\": 0}, \"template\": {\"data\": {\"bar\": [{\"error_x\": {\"color\": \"#2a3f5f\"}, \"error_y\": {\"color\": \"#2a3f5f\"}, \"marker\": {\"line\": {\"color\": \"#E5ECF6\", \"width\": 0.5}}, \"type\": \"bar\"}], \"barpolar\": [{\"marker\": {\"line\": {\"color\": \"#E5ECF6\", \"width\": 0.5}}, \"type\": \"barpolar\"}], \"carpet\": [{\"aaxis\": {\"endlinecolor\": \"#2a3f5f\", \"gridcolor\": \"white\", \"linecolor\": \"white\", \"minorgridcolor\": \"white\", \"startlinecolor\": \"#2a3f5f\"}, \"baxis\": {\"endlinecolor\": \"#2a3f5f\", \"gridcolor\": \"white\", \"linecolor\": \"white\", \"minorgridcolor\": \"white\", \"startlinecolor\": \"#2a3f5f\"}, \"type\": \"carpet\"}], \"choropleth\": [{\"colorbar\": {\"outlinewidth\": 0, \"ticks\": \"\"}, \"type\": \"choropleth\"}], \"contour\": [{\"colorbar\": {\"outlinewidth\": 0, \"ticks\": \"\"}, \"colorscale\": [[0.0, \"#0d0887\"], [0.1111111111111111, \"#46039f\"], [0.2222222222222222, \"#7201a8\"], [0.3333333333333333, \"#9c179e\"], [0.4444444444444444, \"#bd3786\"], [0.5555555555555556, \"#d8576b\"], [0.6666666666666666, \"#ed7953\"], [0.7777777777777778, \"#fb9f3a\"], [0.8888888888888888, \"#fdca26\"], [1.0, \"#f0f921\"]], \"type\": \"contour\"}], \"contourcarpet\": [{\"colorbar\": {\"outlinewidth\": 0, \"ticks\": \"\"}, \"type\": \"contourcarpet\"}], \"heatmap\": [{\"colorbar\": {\"outlinewidth\": 0, \"ticks\": \"\"}, \"colorscale\": [[0.0, \"#0d0887\"], [0.1111111111111111, \"#46039f\"], [0.2222222222222222, \"#7201a8\"], [0.3333333333333333, \"#9c179e\"], [0.4444444444444444, \"#bd3786\"], [0.5555555555555556, \"#d8576b\"], [0.6666666666666666, \"#ed7953\"], [0.7777777777777778, \"#fb9f3a\"], [0.8888888888888888, \"#fdca26\"], [1.0, \"#f0f921\"]], \"type\": \"heatmap\"}], \"heatmapgl\": [{\"colorbar\": {\"outlinewidth\": 0, \"ticks\": \"\"}, \"colorscale\": [[0.0, \"#0d0887\"], [0.1111111111111111, \"#46039f\"], [0.2222222222222222, \"#7201a8\"], [0.3333333333333333, \"#9c179e\"], [0.4444444444444444, \"#bd3786\"], [0.5555555555555556, \"#d8576b\"], [0.6666666666666666, \"#ed7953\"], [0.7777777777777778, \"#fb9f3a\"], [0.8888888888888888, \"#fdca26\"], [1.0, \"#f0f921\"]], \"type\": \"heatmapgl\"}], \"histogram\": [{\"marker\": {\"colorbar\": {\"outlinewidth\": 0, \"ticks\": \"\"}}, \"type\": \"histogram\"}], \"histogram2d\": [{\"colorbar\": {\"outlinewidth\": 0, \"ticks\": \"\"}, \"colorscale\": [[0.0, \"#0d0887\"], [0.1111111111111111, \"#46039f\"], [0.2222222222222222, \"#7201a8\"], [0.3333333333333333, \"#9c179e\"], [0.4444444444444444, \"#bd3786\"], [0.5555555555555556, \"#d8576b\"], [0.6666666666666666, \"#ed7953\"], [0.7777777777777778, \"#fb9f3a\"], [0.8888888888888888, \"#fdca26\"], [1.0, \"#f0f921\"]], \"type\": \"histogram2d\"}], \"histogram2dcontour\": [{\"colorbar\": {\"outlinewidth\": 0, \"ticks\": \"\"}, \"colorscale\": [[0.0, \"#0d0887\"], [0.1111111111111111, \"#46039f\"], [0.2222222222222222, \"#7201a8\"], [0.3333333333333333, \"#9c179e\"], [0.4444444444444444, \"#bd3786\"], [0.5555555555555556, \"#d8576b\"], [0.6666666666666666, \"#ed7953\"], [0.7777777777777778, \"#fb9f3a\"], [0.8888888888888888, \"#fdca26\"], [1.0, \"#f0f921\"]], \"type\": \"histogram2dcontour\"}], \"mesh3d\": [{\"colorbar\": {\"outlinewidth\": 0, \"ticks\": \"\"}, \"type\": \"mesh3d\"}], \"parcoords\": [{\"line\": {\"colorbar\": {\"outlinewidth\": 0, \"ticks\": \"\"}}, \"type\": \"parcoords\"}], \"pie\": [{\"automargin\": true, \"type\": \"pie\"}], \"scatter\": [{\"marker\": {\"colorbar\": {\"outlinewidth\": 0, \"ticks\": \"\"}}, \"type\": \"scatter\"}], \"scatter3d\": [{\"line\": {\"colorbar\": {\"outlinewidth\": 0, \"ticks\": \"\"}}, \"marker\": {\"colorbar\": {\"outlinewidth\": 0, \"ticks\": \"\"}}, \"type\": \"scatter3d\"}], \"scattercarpet\": [{\"marker\": {\"colorbar\": {\"outlinewidth\": 0, \"ticks\": \"\"}}, \"type\": \"scattercarpet\"}], \"scattergeo\": [{\"marker\": {\"colorbar\": {\"outlinewidth\": 0, \"ticks\": \"\"}}, \"type\": \"scattergeo\"}], \"scattergl\": [{\"marker\": {\"colorbar\": {\"outlinewidth\": 0, \"ticks\": \"\"}}, \"type\": \"scattergl\"}], \"scattermapbox\": [{\"marker\": {\"colorbar\": {\"outlinewidth\": 0, \"ticks\": \"\"}}, \"type\": \"scattermapbox\"}], \"scatterpolar\": [{\"marker\": {\"colorbar\": {\"outlinewidth\": 0, \"ticks\": \"\"}}, \"type\": \"scatterpolar\"}], \"scatterpolargl\": [{\"marker\": {\"colorbar\": {\"outlinewidth\": 0, \"ticks\": \"\"}}, \"type\": \"scatterpolargl\"}], \"scatterternary\": [{\"marker\": {\"colorbar\": {\"outlinewidth\": 0, \"ticks\": \"\"}}, \"type\": \"scatterternary\"}], \"surface\": [{\"colorbar\": {\"outlinewidth\": 0, \"ticks\": \"\"}, \"colorscale\": [[0.0, \"#0d0887\"], [0.1111111111111111, \"#46039f\"], [0.2222222222222222, \"#7201a8\"], [0.3333333333333333, \"#9c179e\"], [0.4444444444444444, \"#bd3786\"], [0.5555555555555556, \"#d8576b\"], [0.6666666666666666, \"#ed7953\"], [0.7777777777777778, \"#fb9f3a\"], [0.8888888888888888, \"#fdca26\"], [1.0, \"#f0f921\"]], \"type\": \"surface\"}], \"table\": [{\"cells\": {\"fill\": {\"color\": \"#EBF0F8\"}, \"line\": {\"color\": \"white\"}}, \"header\": {\"fill\": {\"color\": \"#C8D4E3\"}, \"line\": {\"color\": \"white\"}}, \"type\": \"table\"}]}, \"layout\": {\"annotationdefaults\": {\"arrowcolor\": \"#2a3f5f\", \"arrowhead\": 0, \"arrowwidth\": 1}, \"autotypenumbers\": \"strict\", \"coloraxis\": {\"colorbar\": {\"outlinewidth\": 0, \"ticks\": \"\"}}, \"colorscale\": {\"diverging\": [[0, \"#8e0152\"], [0.1, \"#c51b7d\"], [0.2, \"#de77ae\"], [0.3, \"#f1b6da\"], [0.4, \"#fde0ef\"], [0.5, \"#f7f7f7\"], [0.6, \"#e6f5d0\"], [0.7, \"#b8e186\"], [0.8, \"#7fbc41\"], [0.9, \"#4d9221\"], [1, \"#276419\"]], \"sequential\": [[0.0, \"#0d0887\"], [0.1111111111111111, \"#46039f\"], [0.2222222222222222, \"#7201a8\"], [0.3333333333333333, \"#9c179e\"], [0.4444444444444444, \"#bd3786\"], [0.5555555555555556, \"#d8576b\"], [0.6666666666666666, \"#ed7953\"], [0.7777777777777778, \"#fb9f3a\"], [0.8888888888888888, \"#fdca26\"], [1.0, \"#f0f921\"]], \"sequentialminus\": [[0.0, \"#0d0887\"], [0.1111111111111111, \"#46039f\"], [0.2222222222222222, \"#7201a8\"], [0.3333333333333333, \"#9c179e\"], [0.4444444444444444, \"#bd3786\"], [0.5555555555555556, \"#d8576b\"], [0.6666666666666666, \"#ed7953\"], [0.7777777777777778, \"#fb9f3a\"], [0.8888888888888888, \"#fdca26\"], [1.0, \"#f0f921\"]]}, \"colorway\": [\"#636efa\", \"#EF553B\", \"#00cc96\", \"#ab63fa\", \"#FFA15A\", \"#19d3f3\", \"#FF6692\", \"#B6E880\", \"#FF97FF\", \"#FECB52\"], \"font\": {\"color\": \"#2a3f5f\"}, \"geo\": {\"bgcolor\": \"white\", \"lakecolor\": \"white\", \"landcolor\": \"#E5ECF6\", \"showlakes\": true, \"showland\": true, \"subunitcolor\": \"white\"}, \"hoverlabel\": {\"align\": \"left\"}, \"hovermode\": \"closest\", \"mapbox\": {\"style\": \"light\"}, \"paper_bgcolor\": \"white\", \"plot_bgcolor\": \"#E5ECF6\", \"polar\": {\"angularaxis\": {\"gridcolor\": \"white\", \"linecolor\": \"white\", \"ticks\": \"\"}, \"bgcolor\": \"#E5ECF6\", \"radialaxis\": {\"gridcolor\": \"white\", \"linecolor\": \"white\", \"ticks\": \"\"}}, \"scene\": {\"xaxis\": {\"backgroundcolor\": \"#E5ECF6\", \"gridcolor\": \"white\", \"gridwidth\": 2, \"linecolor\": \"white\", \"showbackground\": true, \"ticks\": \"\", \"zerolinecolor\": \"white\"}, \"yaxis\": {\"backgroundcolor\": \"#E5ECF6\", \"gridcolor\": \"white\", \"gridwidth\": 2, \"linecolor\": \"white\", \"showbackground\": true, \"ticks\": \"\", \"zerolinecolor\": \"white\"}, \"zaxis\": {\"backgroundcolor\": \"#E5ECF6\", \"gridcolor\": \"white\", \"gridwidth\": 2, \"linecolor\": \"white\", \"showbackground\": true, \"ticks\": \"\", \"zerolinecolor\": \"white\"}}, \"shapedefaults\": {\"line\": {\"color\": \"#2a3f5f\"}}, \"ternary\": {\"aaxis\": {\"gridcolor\": \"white\", \"linecolor\": \"white\", \"ticks\": \"\"}, \"baxis\": {\"gridcolor\": \"white\", \"linecolor\": \"white\", \"ticks\": \"\"}, \"bgcolor\": \"#E5ECF6\", \"caxis\": {\"gridcolor\": \"white\", \"linecolor\": \"white\", \"ticks\": \"\"}}, \"title\": {\"x\": 0.05}, \"xaxis\": {\"automargin\": true, \"gridcolor\": \"white\", \"linecolor\": \"white\", \"ticks\": \"\", \"title\": {\"standoff\": 15}, \"zerolinecolor\": \"white\", \"zerolinewidth\": 2}, \"yaxis\": {\"automargin\": true, \"gridcolor\": \"white\", \"linecolor\": \"white\", \"ticks\": \"\", \"title\": {\"standoff\": 15}, \"zerolinecolor\": \"white\", \"zerolinewidth\": 2}}}, \"title\": {\"text\": \"Happiness Score compared to Healthy Life Expectancy Score\"}, \"width\": 1000, \"xaxis\": {\"anchor\": \"y\", \"domain\": [0.0, 1.0], \"range\": [0, 8], \"title\": {\"text\": \"Happiness Score\"}}, \"yaxis\": {\"anchor\": \"x\", \"domain\": [0.0, 1.0], \"title\": {\"text\": \"Healthy Life Expectancy\"}}},                        {\"responsive\": true}                    ).then(function(){\n",
       "                            \n",
       "var gd = document.getElementById('74af03c8-eea3-4171-8ac8-711a38af5218');\n",
       "var x = new MutationObserver(function (mutations, observer) {{\n",
       "        var display = window.getComputedStyle(gd).display;\n",
       "        if (!display || display === 'none') {{\n",
       "            console.log([gd, 'removed!']);\n",
       "            Plotly.purge(gd);\n",
       "            observer.disconnect();\n",
       "        }}\n",
       "}});\n",
       "\n",
       "// Listen for the removal of the full notebook cells\n",
       "var notebookContainer = gd.closest('#notebook-container');\n",
       "if (notebookContainer) {{\n",
       "    x.observe(notebookContainer, {childList: true});\n",
       "}}\n",
       "\n",
       "// Listen for the clearing of the current output cell\n",
       "var outputEl = gd.closest('.output');\n",
       "if (outputEl) {{\n",
       "    x.observe(outputEl, {childList: true});\n",
       "}}\n",
       "\n",
       "                        })                };                });            </script>        </div>"
      ]
     },
     "metadata": {},
     "output_type": "display_data"
    }
   ],
   "source": [
    "#happiness score vs healthy life expectancy\n",
    "\n",
    "#establish x and y values\n",
    "x_values = merged_2017[\"Score\"]\n",
    "y_values = merged_2017[\"Healthy life expectancy\"]\n",
    "\n",
    "df = px.data.iris() # iris is a pandas DataFrame\n",
    "\n",
    "#px.scatter\n",
    "fig = px.scatter(merged_2017, x_values, y_values, color=\"Region\", hover_name=\"Country or region\",\n",
    "                range_x=[0,8], title=\"Happiness Score compared to Healthy Life Expectancy Score\",\n",
    "                width= 1000, height =600) # use trendline=\"ols\" to see all lin reg equations\n",
    "\n",
    "#set axes labels\n",
    "fig.update_xaxes(title_text='Happiness Score')\n",
    "fig.update_yaxes(title_text='Healthy Life Expectancy')\n",
    "\n",
    "\n",
    "#formatting\n",
    "#marker size and colors\n",
    "fig.update_traces(marker=dict(size=10,\n",
    "                              line=dict(width=1, \n",
    "                                        color='DarkSlateGrey')))\n",
    "\n",
    "\n",
    "#linear regression\n",
    "#use linregress from dependencies to inplement linear regression\n",
    "(slope, intercept, rvalue, pvalue, stderr) = linregress(x_values, y_values)\n",
    "regress_values = x_values * slope + intercept\n",
    "\n",
    "#print out all variables calculated above (rvalue, pvalue...)\n",
    "print(f\"slope:{round(slope, 2)}\")\n",
    "print(f\"intercept:{round(intercept,2)}\")\n",
    "res = sts.linregress(x_values, y_values)\n",
    "print(f\"R-squared: {res.rvalue**2:.4f}\")\n",
    "\n",
    "\n",
    "#print out line eq for reference\n",
    "line_eq = (f\"y={round(slope, 2)}x + {round(intercept, 2)}\")\n",
    "print(line_eq)\n",
    "\n",
    "fig.show()"
   ]
  },
  {
   "cell_type": "code",
   "execution_count": 15,
   "metadata": {},
   "outputs": [
    {
     "name": "stdout",
     "output_type": "stream",
     "text": [
      "slope:0.08\n",
      "intercept:0.0\n",
      "R-squared: 0.3314\n",
      "y=0.08x + 0.0\n"
     ]
    },
    {
     "data": {
      "application/vnd.plotly.v1+json": {
       "config": {
        "plotlyServerURL": "https://plot.ly"
       },
       "data": [
        {
         "hovertemplate": "<b>%{hovertext}</b><br><br>Region=Europe<br>Score=%{x}<br>Freedom to make life choices=%{y}<extra></extra>",
         "hovertext": [
          "Norway",
          "Denmark",
          "Iceland",
          "Switzerland",
          "Finland",
          "Netherlands",
          "Sweden",
          "Austria",
          "Ireland",
          "Germany",
          "Belgium",
          "Luxembourg",
          "United Kingdom",
          "Czech Republic",
          "Malta",
          "France",
          "Spain",
          "Slovakia",
          "Poland",
          "Uzbekistan",
          "Italy",
          "Russia",
          "Lithuania",
          "Latvia",
          "Moldova",
          "Romania",
          "Turkmenistan",
          "Kazakhstan",
          "North Cyprus",
          "Slovenia",
          "Cyprus",
          "Estonia",
          "Belarus",
          "Serbia",
          "Hungary",
          "Croatia",
          "Kosovo",
          "Montenegro",
          "Azerbaijan",
          "Greece",
          "Portugal",
          "Bosnia and Herzegovina",
          "Macedonia",
          "Tajikistan",
          "Kyrgyzstan",
          "Bulgaria",
          "Albania",
          "Armenia",
          "Georgia",
          "Ukraine"
         ],
         "legendgroup": "Europe",
         "marker": {
          "color": "#636efa",
          "line": {
           "color": "DarkSlateGrey",
           "width": 1
          },
          "size": 10,
          "symbol": "circle"
         },
         "mode": "markers",
         "name": "Europe",
         "orientation": "v",
         "showlegend": true,
         "type": "scatter",
         "x": [
          7.537000179290769,
          7.52199983596802,
          7.50400018692017,
          7.49399995803833,
          7.468999862670901,
          7.3769998550415,
          7.28399991989136,
          7.00600004196167,
          6.9770002365112305,
          6.9510002136230495,
          6.89099979400635,
          6.86299991607666,
          6.71400022506714,
          6.60900020599365,
          6.52699995040894,
          6.44199991226196,
          6.40299987792969,
          6.09800004959106,
          5.97300004959106,
          5.97100019454956,
          5.96400022506714,
          5.962999820709231,
          5.90199995040894,
          5.849999904632571,
          5.837999820709231,
          5.824999809265139,
          5.82200002670288,
          5.8189997673034695,
          5.80999994277954,
          5.75799989700317,
          5.62099981307983,
          5.61100006103516,
          5.5689997673034695,
          5.39499998092651,
          5.32399988174438,
          5.2930002212524405,
          5.27899980545044,
          5.23699998855591,
          5.234000205993651,
          5.2270002365112305,
          5.19500017166138,
          5.18200016021729,
          5.175000190734861,
          5.04099988937378,
          5.0040001869201705,
          4.71400022506714,
          4.64400005340576,
          4.37599992752075,
          4.28599977493286,
          4.09600019454956
         ],
         "xaxis": "x",
         "y": [
          0.635422587394714,
          0.626006722450256,
          0.6271626353263849,
          0.620070576667786,
          0.6179508566856379,
          0.5853844881057739,
          0.612924098968506,
          0.567766189575195,
          0.5731103420257571,
          0.562511384487152,
          0.5397707223892211,
          0.59662789106369,
          0.508190035820007,
          0.49094617366790794,
          0.588767051696777,
          0.470222115516663,
          0.408781230449677,
          0.295817464590073,
          0.520342111587524,
          0.6582486629486078,
          0.256450712680817,
          0.373783111572266,
          0.234231784939766,
          0.32570791244506797,
          0.24072904884815197,
          0.457003742456436,
          0.41827192902565,
          0.43745428323745705,
          0.47120362520217896,
          0.572575807571411,
          0.35511153936386103,
          0.479131430387497,
          0.295400261878967,
          0.20871552824974102,
          0.17586351931095098,
          0.255772292613983,
          0.260287940502167,
          0.194989055395126,
          0.39815583825111406,
          0.0957312509417534,
          0.498465299606323,
          0.204403176903725,
          0.325905978679657,
          0.47156670689582797,
          0.454943388700485,
          0.28923171758651695,
          0.381498634815216,
          0.198303267359734,
          0.309410035610199,
          0.12297477573156401
         ],
         "yaxis": "y"
        },
        {
         "hovertemplate": "<b>%{hovertext}</b><br><br>Region=North America<br>Score=%{x}<br>Freedom to make life choices=%{y}<extra></extra>",
         "hovertext": [
          "Canada",
          "United States"
         ],
         "legendgroup": "North America",
         "marker": {
          "color": "#EF553B",
          "line": {
           "color": "DarkSlateGrey",
           "width": 1
          },
          "size": 10,
          "symbol": "circle"
         },
         "mode": "markers",
         "name": "North America",
         "orientation": "v",
         "showlegend": true,
         "type": "scatter",
         "x": [
          7.31599998474121,
          6.993000030517581
         ],
         "xaxis": "x",
         "y": [
          0.611100912094116,
          0.505740523338318
         ],
         "yaxis": "y"
        },
        {
         "hovertemplate": "<b>%{hovertext}</b><br><br>Region=Australia and New Zealand<br>Score=%{x}<br>Freedom to make life choices=%{y}<extra></extra>",
         "hovertext": [
          "New Zealand",
          "Australia"
         ],
         "legendgroup": "Australia and New Zealand",
         "marker": {
          "color": "#00cc96",
          "line": {
           "color": "DarkSlateGrey",
           "width": 1
          },
          "size": 10,
          "symbol": "circle"
         },
         "mode": "markers",
         "name": "Australia and New Zealand",
         "orientation": "v",
         "showlegend": true,
         "type": "scatter",
         "x": [
          7.31400012969971,
          7.28399991989136
         ],
         "xaxis": "x",
         "y": [
          0.6140621304512021,
          0.601607382297516
         ],
         "yaxis": "y"
        },
        {
         "hovertemplate": "<b>%{hovertext}</b><br><br>Region=Middle East and Northern Africa<br>Score=%{x}<br>Freedom to make life choices=%{y}<extra></extra>",
         "hovertext": [
          "Israel",
          "United Arab Emirates",
          "Qatar",
          "Saudi Arabia",
          "Kuwait",
          "Bahrain",
          "Algeria",
          "Libya",
          "Turkey",
          "Jordan",
          "Morocco",
          "Lebanon",
          "Tunisia",
          "Palestinian Territories",
          "Egypt",
          "Iran",
          "Iraq",
          "Yemen",
          "Syria"
         ],
         "legendgroup": "Middle East and Northern Africa",
         "marker": {
          "color": "#ab63fa",
          "line": {
           "color": "DarkSlateGrey",
           "width": 1
          },
          "size": 10,
          "symbol": "circle"
         },
         "mode": "markers",
         "name": "Middle East and Northern Africa",
         "orientation": "v",
         "showlegend": true,
         "type": "scatter",
         "x": [
          7.212999820709231,
          6.6479997634887695,
          6.375,
          6.343999862670901,
          6.10500001907349,
          6.08699989318848,
          5.872000217437741,
          5.525000095367429,
          5.5,
          5.33599996566772,
          5.2350001335144,
          5.22499990463257,
          4.80499982833862,
          4.77500009536743,
          4.7350001335144,
          4.69199991226196,
          4.49700021743774,
          3.59299993515015,
          3.46199989318848
         ],
         "xaxis": "x",
         "y": [
          0.40598860383033797,
          0.60834527015686,
          0.604130983352661,
          0.449750572443008,
          0.49633759260177596,
          0.536746919155121,
          0.233335807919502,
          0.465733230113983,
          0.300740599632263,
          0.418421149253845,
          0.408158332109451,
          0.28851598501205394,
          0.289680689573288,
          0.25471106171608,
          0.28211015462875394,
          0.24932260811328896,
          0.288555532693863,
          0.24946372210979503,
          0.0815394446253777
         ],
         "yaxis": "y"
        },
        {
         "hovertemplate": "<b>%{hovertext}</b><br><br>Region=Latin America and Caribbean<br>Score=%{x}<br>Freedom to make life choices=%{y}<extra></extra>",
         "hovertext": [
          "Costa Rica",
          "Chile",
          "Brazil",
          "Argentina",
          "Mexico",
          "Uruguay",
          "Guatemala",
          "Panama",
          "Colombia",
          "Trinidad and Tobago",
          "Nicaragua",
          "Ecuador",
          "El Salvador",
          "Bolivia",
          "Peru",
          "Paraguay",
          "Jamaica",
          "Venezuela",
          "Dominican Republic",
          "Honduras",
          "Haiti"
         ],
         "legendgroup": "Latin America and Caribbean",
         "marker": {
          "color": "#FFA15A",
          "line": {
           "color": "DarkSlateGrey",
           "width": 1
          },
          "size": 10,
          "symbol": "circle"
         },
         "mode": "markers",
         "name": "Latin America and Caribbean",
         "orientation": "v",
         "showlegend": true,
         "type": "scatter",
         "x": [
          7.0789999961853,
          6.65199995040894,
          6.6350002288818395,
          6.59899997711182,
          6.57800006866455,
          6.4539999961853,
          6.4539999961853,
          6.4520001411438,
          6.35699987411499,
          6.1680002212524405,
          6.07100009918213,
          6.00799989700317,
          6.002999782562259,
          5.82299995422363,
          5.71500015258789,
          5.493000030517581,
          5.31099987030029,
          5.25,
          5.230000019073491,
          5.1810002326965305,
          3.6029999256133998
         ],
         "xaxis": "x",
         "y": [
          0.580131649971008,
          0.376895278692245,
          0.437453746795654,
          0.49451920390129106,
          0.412730008363724,
          0.5793922543525699,
          0.5313106179237371,
          0.550026834011078,
          0.47748741507530196,
          0.518630743026733,
          0.447551846504211,
          0.4551981985569,
          0.432452529668808,
          0.5587329268455511,
          0.45000287890434293,
          0.473507791757584,
          0.474307239055634,
          0.15399712324142498,
          0.55258983373642,
          0.348079860210419,
          0.0303698573261499
         ],
         "yaxis": "y"
        },
        {
         "hovertemplate": "<b>%{hovertext}</b><br><br>Region=Asia<br>Score=%{x}<br>Freedom to make life choices=%{y}<extra></extra>",
         "hovertext": [
          "Singapore",
          "Thailand",
          "Malaysia",
          "Japan",
          "South Korea",
          "Philippines",
          "China",
          "Pakistan",
          "Indonesia",
          "Vietnam",
          "Bhutan",
          "Nepal",
          "Mongolia",
          "Bangladesh",
          "Myanmar",
          "Sri Lanka",
          "India",
          "Cambodia",
          "Afghanistan"
         ],
         "legendgroup": "Asia",
         "marker": {
          "color": "#19d3f3",
          "line": {
           "color": "DarkSlateGrey",
           "width": 1
          },
          "size": 10,
          "symbol": "circle"
         },
         "mode": "markers",
         "name": "Asia",
         "orientation": "v",
         "showlegend": true,
         "type": "scatter",
         "x": [
          6.57200002670288,
          6.4239997863769505,
          6.08400011062622,
          5.92000007629395,
          5.837999820709231,
          5.42999982833862,
          5.2729997634887695,
          5.26900005340576,
          5.26200008392334,
          5.07399988174438,
          5.01100015640259,
          4.961999893188481,
          4.95499992370605,
          4.60799980163574,
          4.54500007629395,
          4.44000005722046,
          4.31500005722046,
          4.1680002212524405,
          3.7939999103546103
         ],
         "xaxis": "x",
         "y": [
          0.549840569496155,
          0.580200731754303,
          0.40226498246192893,
          0.505625545978546,
          0.257921665906906,
          0.585214674472809,
          0.47278770804405196,
          0.23521526157856,
          0.443323463201523,
          0.571055591106415,
          0.5015376806259161,
          0.44030594825744607,
          0.39414396882057207,
          0.478356659412384,
          0.514492034912109,
          0.561213254928589,
          0.469987004995346,
          0.633375823497772,
          0.106179520487785
         ],
         "yaxis": "y"
        },
        {
         "hovertemplate": "<b>%{hovertext}</b><br><br>Region=Sub-Saharan Africa<br>Score=%{x}<br>Freedom to make life choices=%{y}<extra></extra>",
         "hovertext": [
          "Mauritius",
          "Nigeria",
          "South Africa",
          "Sierra Leone",
          "Cameroon",
          "Kenya",
          "Mozambique",
          "Senegal",
          "Zambia",
          "Gabon",
          "Ethiopia",
          "Mauritania",
          "Congo (Brazzaville)",
          "Congo (Kinshasa)",
          "Mali",
          "Ivory Coast",
          "Sudan",
          "Ghana",
          "Uganda",
          "Burkina Faso",
          "Niger",
          "Malawi",
          "Chad",
          "Zimbabwe",
          "Lesotho",
          "Angola",
          "Botswana",
          "Benin",
          "Madagascar",
          "Liberia",
          "Guinea",
          "Togo",
          "Rwanda",
          "Tanzania",
          "Burundi",
          "Central African Republic"
         ],
         "legendgroup": "Sub-Saharan Africa",
         "marker": {
          "color": "#FF6692",
          "line": {
           "color": "DarkSlateGrey",
           "width": 1
          },
          "size": 10,
          "symbol": "circle"
         },
         "mode": "markers",
         "name": "Sub-Saharan Africa",
         "orientation": "v",
         "showlegend": true,
         "type": "scatter",
         "x": [
          5.62900018692017,
          5.07399988174438,
          4.8289999961853,
          4.70900011062622,
          4.69500017166138,
          4.55299997329712,
          4.550000190734861,
          4.53499984741211,
          4.513999938964839,
          4.46500015258789,
          4.46000003814697,
          4.29199981689453,
          4.29099988937378,
          4.2800002098083505,
          4.19000005722046,
          4.17999982833862,
          4.138999938964839,
          4.11999988555908,
          4.08099985122681,
          4.03200006484985,
          4.02799987792969,
          3.97000002861023,
          3.9360001087188703,
          3.875,
          3.80800008773804,
          3.79500007629395,
          3.7660000324249303,
          3.65700006484985,
          3.64400005340576,
          3.5329999923706095,
          3.50699996948242,
          3.4949998855590803,
          3.47099995613098,
          3.34899997711182,
          2.90499997138977,
          2.69300007820129
         ],
         "xaxis": "x",
         "y": [
          0.491247326135635,
          0.394952565431595,
          0.479246735572815,
          0.318697690963745,
          0.430388748645782,
          0.45276376605033897,
          0.48079109191894503,
          0.37792226672172496,
          0.461603492498398,
          0.31232857704162603,
          0.408842742443085,
          0.0960980430245399,
          0.4350258708000179,
          0.235961347818375,
          0.306613743305206,
          0.4477061927318571,
          0.0149958552792668,
          0.423026293516159,
          0.443185955286026,
          0.32436785101890603,
          0.36365869641304,
          0.466914653778076,
          0.16234202682972002,
          0.336384207010269,
          0.390661299228668,
          0,
          0.505196332931519,
          0.42596277594566295,
          0.18919676542282102,
          0.33288118243217496,
          0.348587512969971,
          0.38042613863945,
          0.5818438529968261,
          0.390017777681351,
          0.0599007532000542,
          0.270842045545578
         ],
         "yaxis": "y"
        }
       ],
       "layout": {
        "height": 600,
        "legend": {
         "title": {
          "text": "Region"
         },
         "tracegroupgap": 0
        },
        "template": {
         "data": {
          "bar": [
           {
            "error_x": {
             "color": "#2a3f5f"
            },
            "error_y": {
             "color": "#2a3f5f"
            },
            "marker": {
             "line": {
              "color": "#E5ECF6",
              "width": 0.5
             }
            },
            "type": "bar"
           }
          ],
          "barpolar": [
           {
            "marker": {
             "line": {
              "color": "#E5ECF6",
              "width": 0.5
             }
            },
            "type": "barpolar"
           }
          ],
          "carpet": [
           {
            "aaxis": {
             "endlinecolor": "#2a3f5f",
             "gridcolor": "white",
             "linecolor": "white",
             "minorgridcolor": "white",
             "startlinecolor": "#2a3f5f"
            },
            "baxis": {
             "endlinecolor": "#2a3f5f",
             "gridcolor": "white",
             "linecolor": "white",
             "minorgridcolor": "white",
             "startlinecolor": "#2a3f5f"
            },
            "type": "carpet"
           }
          ],
          "choropleth": [
           {
            "colorbar": {
             "outlinewidth": 0,
             "ticks": ""
            },
            "type": "choropleth"
           }
          ],
          "contour": [
           {
            "colorbar": {
             "outlinewidth": 0,
             "ticks": ""
            },
            "colorscale": [
             [
              0,
              "#0d0887"
             ],
             [
              0.1111111111111111,
              "#46039f"
             ],
             [
              0.2222222222222222,
              "#7201a8"
             ],
             [
              0.3333333333333333,
              "#9c179e"
             ],
             [
              0.4444444444444444,
              "#bd3786"
             ],
             [
              0.5555555555555556,
              "#d8576b"
             ],
             [
              0.6666666666666666,
              "#ed7953"
             ],
             [
              0.7777777777777778,
              "#fb9f3a"
             ],
             [
              0.8888888888888888,
              "#fdca26"
             ],
             [
              1,
              "#f0f921"
             ]
            ],
            "type": "contour"
           }
          ],
          "contourcarpet": [
           {
            "colorbar": {
             "outlinewidth": 0,
             "ticks": ""
            },
            "type": "contourcarpet"
           }
          ],
          "heatmap": [
           {
            "colorbar": {
             "outlinewidth": 0,
             "ticks": ""
            },
            "colorscale": [
             [
              0,
              "#0d0887"
             ],
             [
              0.1111111111111111,
              "#46039f"
             ],
             [
              0.2222222222222222,
              "#7201a8"
             ],
             [
              0.3333333333333333,
              "#9c179e"
             ],
             [
              0.4444444444444444,
              "#bd3786"
             ],
             [
              0.5555555555555556,
              "#d8576b"
             ],
             [
              0.6666666666666666,
              "#ed7953"
             ],
             [
              0.7777777777777778,
              "#fb9f3a"
             ],
             [
              0.8888888888888888,
              "#fdca26"
             ],
             [
              1,
              "#f0f921"
             ]
            ],
            "type": "heatmap"
           }
          ],
          "heatmapgl": [
           {
            "colorbar": {
             "outlinewidth": 0,
             "ticks": ""
            },
            "colorscale": [
             [
              0,
              "#0d0887"
             ],
             [
              0.1111111111111111,
              "#46039f"
             ],
             [
              0.2222222222222222,
              "#7201a8"
             ],
             [
              0.3333333333333333,
              "#9c179e"
             ],
             [
              0.4444444444444444,
              "#bd3786"
             ],
             [
              0.5555555555555556,
              "#d8576b"
             ],
             [
              0.6666666666666666,
              "#ed7953"
             ],
             [
              0.7777777777777778,
              "#fb9f3a"
             ],
             [
              0.8888888888888888,
              "#fdca26"
             ],
             [
              1,
              "#f0f921"
             ]
            ],
            "type": "heatmapgl"
           }
          ],
          "histogram": [
           {
            "marker": {
             "colorbar": {
              "outlinewidth": 0,
              "ticks": ""
             }
            },
            "type": "histogram"
           }
          ],
          "histogram2d": [
           {
            "colorbar": {
             "outlinewidth": 0,
             "ticks": ""
            },
            "colorscale": [
             [
              0,
              "#0d0887"
             ],
             [
              0.1111111111111111,
              "#46039f"
             ],
             [
              0.2222222222222222,
              "#7201a8"
             ],
             [
              0.3333333333333333,
              "#9c179e"
             ],
             [
              0.4444444444444444,
              "#bd3786"
             ],
             [
              0.5555555555555556,
              "#d8576b"
             ],
             [
              0.6666666666666666,
              "#ed7953"
             ],
             [
              0.7777777777777778,
              "#fb9f3a"
             ],
             [
              0.8888888888888888,
              "#fdca26"
             ],
             [
              1,
              "#f0f921"
             ]
            ],
            "type": "histogram2d"
           }
          ],
          "histogram2dcontour": [
           {
            "colorbar": {
             "outlinewidth": 0,
             "ticks": ""
            },
            "colorscale": [
             [
              0,
              "#0d0887"
             ],
             [
              0.1111111111111111,
              "#46039f"
             ],
             [
              0.2222222222222222,
              "#7201a8"
             ],
             [
              0.3333333333333333,
              "#9c179e"
             ],
             [
              0.4444444444444444,
              "#bd3786"
             ],
             [
              0.5555555555555556,
              "#d8576b"
             ],
             [
              0.6666666666666666,
              "#ed7953"
             ],
             [
              0.7777777777777778,
              "#fb9f3a"
             ],
             [
              0.8888888888888888,
              "#fdca26"
             ],
             [
              1,
              "#f0f921"
             ]
            ],
            "type": "histogram2dcontour"
           }
          ],
          "mesh3d": [
           {
            "colorbar": {
             "outlinewidth": 0,
             "ticks": ""
            },
            "type": "mesh3d"
           }
          ],
          "parcoords": [
           {
            "line": {
             "colorbar": {
              "outlinewidth": 0,
              "ticks": ""
             }
            },
            "type": "parcoords"
           }
          ],
          "pie": [
           {
            "automargin": true,
            "type": "pie"
           }
          ],
          "scatter": [
           {
            "marker": {
             "colorbar": {
              "outlinewidth": 0,
              "ticks": ""
             }
            },
            "type": "scatter"
           }
          ],
          "scatter3d": [
           {
            "line": {
             "colorbar": {
              "outlinewidth": 0,
              "ticks": ""
             }
            },
            "marker": {
             "colorbar": {
              "outlinewidth": 0,
              "ticks": ""
             }
            },
            "type": "scatter3d"
           }
          ],
          "scattercarpet": [
           {
            "marker": {
             "colorbar": {
              "outlinewidth": 0,
              "ticks": ""
             }
            },
            "type": "scattercarpet"
           }
          ],
          "scattergeo": [
           {
            "marker": {
             "colorbar": {
              "outlinewidth": 0,
              "ticks": ""
             }
            },
            "type": "scattergeo"
           }
          ],
          "scattergl": [
           {
            "marker": {
             "colorbar": {
              "outlinewidth": 0,
              "ticks": ""
             }
            },
            "type": "scattergl"
           }
          ],
          "scattermapbox": [
           {
            "marker": {
             "colorbar": {
              "outlinewidth": 0,
              "ticks": ""
             }
            },
            "type": "scattermapbox"
           }
          ],
          "scatterpolar": [
           {
            "marker": {
             "colorbar": {
              "outlinewidth": 0,
              "ticks": ""
             }
            },
            "type": "scatterpolar"
           }
          ],
          "scatterpolargl": [
           {
            "marker": {
             "colorbar": {
              "outlinewidth": 0,
              "ticks": ""
             }
            },
            "type": "scatterpolargl"
           }
          ],
          "scatterternary": [
           {
            "marker": {
             "colorbar": {
              "outlinewidth": 0,
              "ticks": ""
             }
            },
            "type": "scatterternary"
           }
          ],
          "surface": [
           {
            "colorbar": {
             "outlinewidth": 0,
             "ticks": ""
            },
            "colorscale": [
             [
              0,
              "#0d0887"
             ],
             [
              0.1111111111111111,
              "#46039f"
             ],
             [
              0.2222222222222222,
              "#7201a8"
             ],
             [
              0.3333333333333333,
              "#9c179e"
             ],
             [
              0.4444444444444444,
              "#bd3786"
             ],
             [
              0.5555555555555556,
              "#d8576b"
             ],
             [
              0.6666666666666666,
              "#ed7953"
             ],
             [
              0.7777777777777778,
              "#fb9f3a"
             ],
             [
              0.8888888888888888,
              "#fdca26"
             ],
             [
              1,
              "#f0f921"
             ]
            ],
            "type": "surface"
           }
          ],
          "table": [
           {
            "cells": {
             "fill": {
              "color": "#EBF0F8"
             },
             "line": {
              "color": "white"
             }
            },
            "header": {
             "fill": {
              "color": "#C8D4E3"
             },
             "line": {
              "color": "white"
             }
            },
            "type": "table"
           }
          ]
         },
         "layout": {
          "annotationdefaults": {
           "arrowcolor": "#2a3f5f",
           "arrowhead": 0,
           "arrowwidth": 1
          },
          "autotypenumbers": "strict",
          "coloraxis": {
           "colorbar": {
            "outlinewidth": 0,
            "ticks": ""
           }
          },
          "colorscale": {
           "diverging": [
            [
             0,
             "#8e0152"
            ],
            [
             0.1,
             "#c51b7d"
            ],
            [
             0.2,
             "#de77ae"
            ],
            [
             0.3,
             "#f1b6da"
            ],
            [
             0.4,
             "#fde0ef"
            ],
            [
             0.5,
             "#f7f7f7"
            ],
            [
             0.6,
             "#e6f5d0"
            ],
            [
             0.7,
             "#b8e186"
            ],
            [
             0.8,
             "#7fbc41"
            ],
            [
             0.9,
             "#4d9221"
            ],
            [
             1,
             "#276419"
            ]
           ],
           "sequential": [
            [
             0,
             "#0d0887"
            ],
            [
             0.1111111111111111,
             "#46039f"
            ],
            [
             0.2222222222222222,
             "#7201a8"
            ],
            [
             0.3333333333333333,
             "#9c179e"
            ],
            [
             0.4444444444444444,
             "#bd3786"
            ],
            [
             0.5555555555555556,
             "#d8576b"
            ],
            [
             0.6666666666666666,
             "#ed7953"
            ],
            [
             0.7777777777777778,
             "#fb9f3a"
            ],
            [
             0.8888888888888888,
             "#fdca26"
            ],
            [
             1,
             "#f0f921"
            ]
           ],
           "sequentialminus": [
            [
             0,
             "#0d0887"
            ],
            [
             0.1111111111111111,
             "#46039f"
            ],
            [
             0.2222222222222222,
             "#7201a8"
            ],
            [
             0.3333333333333333,
             "#9c179e"
            ],
            [
             0.4444444444444444,
             "#bd3786"
            ],
            [
             0.5555555555555556,
             "#d8576b"
            ],
            [
             0.6666666666666666,
             "#ed7953"
            ],
            [
             0.7777777777777778,
             "#fb9f3a"
            ],
            [
             0.8888888888888888,
             "#fdca26"
            ],
            [
             1,
             "#f0f921"
            ]
           ]
          },
          "colorway": [
           "#636efa",
           "#EF553B",
           "#00cc96",
           "#ab63fa",
           "#FFA15A",
           "#19d3f3",
           "#FF6692",
           "#B6E880",
           "#FF97FF",
           "#FECB52"
          ],
          "font": {
           "color": "#2a3f5f"
          },
          "geo": {
           "bgcolor": "white",
           "lakecolor": "white",
           "landcolor": "#E5ECF6",
           "showlakes": true,
           "showland": true,
           "subunitcolor": "white"
          },
          "hoverlabel": {
           "align": "left"
          },
          "hovermode": "closest",
          "mapbox": {
           "style": "light"
          },
          "paper_bgcolor": "white",
          "plot_bgcolor": "#E5ECF6",
          "polar": {
           "angularaxis": {
            "gridcolor": "white",
            "linecolor": "white",
            "ticks": ""
           },
           "bgcolor": "#E5ECF6",
           "radialaxis": {
            "gridcolor": "white",
            "linecolor": "white",
            "ticks": ""
           }
          },
          "scene": {
           "xaxis": {
            "backgroundcolor": "#E5ECF6",
            "gridcolor": "white",
            "gridwidth": 2,
            "linecolor": "white",
            "showbackground": true,
            "ticks": "",
            "zerolinecolor": "white"
           },
           "yaxis": {
            "backgroundcolor": "#E5ECF6",
            "gridcolor": "white",
            "gridwidth": 2,
            "linecolor": "white",
            "showbackground": true,
            "ticks": "",
            "zerolinecolor": "white"
           },
           "zaxis": {
            "backgroundcolor": "#E5ECF6",
            "gridcolor": "white",
            "gridwidth": 2,
            "linecolor": "white",
            "showbackground": true,
            "ticks": "",
            "zerolinecolor": "white"
           }
          },
          "shapedefaults": {
           "line": {
            "color": "#2a3f5f"
           }
          },
          "ternary": {
           "aaxis": {
            "gridcolor": "white",
            "linecolor": "white",
            "ticks": ""
           },
           "baxis": {
            "gridcolor": "white",
            "linecolor": "white",
            "ticks": ""
           },
           "bgcolor": "#E5ECF6",
           "caxis": {
            "gridcolor": "white",
            "linecolor": "white",
            "ticks": ""
           }
          },
          "title": {
           "x": 0.05
          },
          "xaxis": {
           "automargin": true,
           "gridcolor": "white",
           "linecolor": "white",
           "ticks": "",
           "title": {
            "standoff": 15
           },
           "zerolinecolor": "white",
           "zerolinewidth": 2
          },
          "yaxis": {
           "automargin": true,
           "gridcolor": "white",
           "linecolor": "white",
           "ticks": "",
           "title": {
            "standoff": 15
           },
           "zerolinecolor": "white",
           "zerolinewidth": 2
          }
         }
        },
        "title": {
         "text": "Happiness Score compared to Freedom to Make Life Choices Score"
        },
        "width": 1000,
        "xaxis": {
         "anchor": "y",
         "domain": [
          0,
          1
         ],
         "range": [
          0,
          8
         ],
         "title": {
          "text": "Happiness Score"
         }
        },
        "yaxis": {
         "anchor": "x",
         "domain": [
          0,
          1
         ],
         "title": {
          "text": "Freedom to Make Life Choices Score"
         }
        }
       }
      },
      "text/html": [
       "<div>                            <div id=\"ec53ef75-648a-4f88-9c76-7a4c614b4a57\" class=\"plotly-graph-div\" style=\"height:600px; width:1000px;\"></div>            <script type=\"text/javascript\">                require([\"plotly\"], function(Plotly) {                    window.PLOTLYENV=window.PLOTLYENV || {};                                    if (document.getElementById(\"ec53ef75-648a-4f88-9c76-7a4c614b4a57\")) {                    Plotly.newPlot(                        \"ec53ef75-648a-4f88-9c76-7a4c614b4a57\",                        [{\"hovertemplate\": \"<b>%{hovertext}</b><br><br>Region=Europe<br>Score=%{x}<br>Freedom to make life choices=%{y}<extra></extra>\", \"hovertext\": [\"Norway\", \"Denmark\", \"Iceland\", \"Switzerland\", \"Finland\", \"Netherlands\", \"Sweden\", \"Austria\", \"Ireland\", \"Germany\", \"Belgium\", \"Luxembourg\", \"United Kingdom\", \"Czech Republic\", \"Malta\", \"France\", \"Spain\", \"Slovakia\", \"Poland\", \"Uzbekistan\", \"Italy\", \"Russia\", \"Lithuania\", \"Latvia\", \"Moldova\", \"Romania\", \"Turkmenistan\", \"Kazakhstan\", \"North Cyprus\", \"Slovenia\", \"Cyprus\", \"Estonia\", \"Belarus\", \"Serbia\", \"Hungary\", \"Croatia\", \"Kosovo\", \"Montenegro\", \"Azerbaijan\", \"Greece\", \"Portugal\", \"Bosnia and Herzegovina\", \"Macedonia\", \"Tajikistan\", \"Kyrgyzstan\", \"Bulgaria\", \"Albania\", \"Armenia\", \"Georgia\", \"Ukraine\"], \"legendgroup\": \"Europe\", \"marker\": {\"color\": \"#636efa\", \"line\": {\"color\": \"DarkSlateGrey\", \"width\": 1}, \"size\": 10, \"symbol\": \"circle\"}, \"mode\": \"markers\", \"name\": \"Europe\", \"orientation\": \"v\", \"showlegend\": true, \"type\": \"scatter\", \"x\": [7.537000179290769, 7.52199983596802, 7.50400018692017, 7.49399995803833, 7.468999862670901, 7.3769998550415, 7.28399991989136, 7.00600004196167, 6.9770002365112305, 6.9510002136230495, 6.89099979400635, 6.86299991607666, 6.71400022506714, 6.60900020599365, 6.52699995040894, 6.44199991226196, 6.40299987792969, 6.09800004959106, 5.97300004959106, 5.97100019454956, 5.96400022506714, 5.962999820709231, 5.90199995040894, 5.849999904632571, 5.837999820709231, 5.824999809265139, 5.82200002670288, 5.8189997673034695, 5.80999994277954, 5.75799989700317, 5.62099981307983, 5.61100006103516, 5.5689997673034695, 5.39499998092651, 5.32399988174438, 5.2930002212524405, 5.27899980545044, 5.23699998855591, 5.234000205993651, 5.2270002365112305, 5.19500017166138, 5.18200016021729, 5.175000190734861, 5.04099988937378, 5.0040001869201705, 4.71400022506714, 4.64400005340576, 4.37599992752075, 4.28599977493286, 4.09600019454956], \"xaxis\": \"x\", \"y\": [0.635422587394714, 0.626006722450256, 0.6271626353263849, 0.620070576667786, 0.6179508566856379, 0.5853844881057739, 0.612924098968506, 0.567766189575195, 0.5731103420257571, 0.562511384487152, 0.5397707223892211, 0.59662789106369, 0.508190035820007, 0.49094617366790794, 0.588767051696777, 0.470222115516663, 0.408781230449677, 0.295817464590073, 0.520342111587524, 0.6582486629486078, 0.256450712680817, 0.373783111572266, 0.234231784939766, 0.32570791244506797, 0.24072904884815197, 0.457003742456436, 0.41827192902565, 0.43745428323745705, 0.47120362520217896, 0.572575807571411, 0.35511153936386103, 0.479131430387497, 0.295400261878967, 0.20871552824974102, 0.17586351931095098, 0.255772292613983, 0.260287940502167, 0.194989055395126, 0.39815583825111406, 0.0957312509417534, 0.498465299606323, 0.204403176903725, 0.325905978679657, 0.47156670689582797, 0.454943388700485, 0.28923171758651695, 0.381498634815216, 0.198303267359734, 0.309410035610199, 0.12297477573156401], \"yaxis\": \"y\"}, {\"hovertemplate\": \"<b>%{hovertext}</b><br><br>Region=North America<br>Score=%{x}<br>Freedom to make life choices=%{y}<extra></extra>\", \"hovertext\": [\"Canada\", \"United States\"], \"legendgroup\": \"North America\", \"marker\": {\"color\": \"#EF553B\", \"line\": {\"color\": \"DarkSlateGrey\", \"width\": 1}, \"size\": 10, \"symbol\": \"circle\"}, \"mode\": \"markers\", \"name\": \"North America\", \"orientation\": \"v\", \"showlegend\": true, \"type\": \"scatter\", \"x\": [7.31599998474121, 6.993000030517581], \"xaxis\": \"x\", \"y\": [0.611100912094116, 0.505740523338318], \"yaxis\": \"y\"}, {\"hovertemplate\": \"<b>%{hovertext}</b><br><br>Region=Australia and New Zealand<br>Score=%{x}<br>Freedom to make life choices=%{y}<extra></extra>\", \"hovertext\": [\"New Zealand\", \"Australia\"], \"legendgroup\": \"Australia and New Zealand\", \"marker\": {\"color\": \"#00cc96\", \"line\": {\"color\": \"DarkSlateGrey\", \"width\": 1}, \"size\": 10, \"symbol\": \"circle\"}, \"mode\": \"markers\", \"name\": \"Australia and New Zealand\", \"orientation\": \"v\", \"showlegend\": true, \"type\": \"scatter\", \"x\": [7.31400012969971, 7.28399991989136], \"xaxis\": \"x\", \"y\": [0.6140621304512021, 0.601607382297516], \"yaxis\": \"y\"}, {\"hovertemplate\": \"<b>%{hovertext}</b><br><br>Region=Middle East and Northern Africa<br>Score=%{x}<br>Freedom to make life choices=%{y}<extra></extra>\", \"hovertext\": [\"Israel\", \"United Arab Emirates\", \"Qatar\", \"Saudi Arabia\", \"Kuwait\", \"Bahrain\", \"Algeria\", \"Libya\", \"Turkey\", \"Jordan\", \"Morocco\", \"Lebanon\", \"Tunisia\", \"Palestinian Territories\", \"Egypt\", \"Iran\", \"Iraq\", \"Yemen\", \"Syria\"], \"legendgroup\": \"Middle East and Northern Africa\", \"marker\": {\"color\": \"#ab63fa\", \"line\": {\"color\": \"DarkSlateGrey\", \"width\": 1}, \"size\": 10, \"symbol\": \"circle\"}, \"mode\": \"markers\", \"name\": \"Middle East and Northern Africa\", \"orientation\": \"v\", \"showlegend\": true, \"type\": \"scatter\", \"x\": [7.212999820709231, 6.6479997634887695, 6.375, 6.343999862670901, 6.10500001907349, 6.08699989318848, 5.872000217437741, 5.525000095367429, 5.5, 5.33599996566772, 5.2350001335144, 5.22499990463257, 4.80499982833862, 4.77500009536743, 4.7350001335144, 4.69199991226196, 4.49700021743774, 3.59299993515015, 3.46199989318848], \"xaxis\": \"x\", \"y\": [0.40598860383033797, 0.60834527015686, 0.604130983352661, 0.449750572443008, 0.49633759260177596, 0.536746919155121, 0.233335807919502, 0.465733230113983, 0.300740599632263, 0.418421149253845, 0.408158332109451, 0.28851598501205394, 0.289680689573288, 0.25471106171608, 0.28211015462875394, 0.24932260811328896, 0.288555532693863, 0.24946372210979503, 0.0815394446253777], \"yaxis\": \"y\"}, {\"hovertemplate\": \"<b>%{hovertext}</b><br><br>Region=Latin America and Caribbean<br>Score=%{x}<br>Freedom to make life choices=%{y}<extra></extra>\", \"hovertext\": [\"Costa Rica\", \"Chile\", \"Brazil\", \"Argentina\", \"Mexico\", \"Uruguay\", \"Guatemala\", \"Panama\", \"Colombia\", \"Trinidad and Tobago\", \"Nicaragua\", \"Ecuador\", \"El Salvador\", \"Bolivia\", \"Peru\", \"Paraguay\", \"Jamaica\", \"Venezuela\", \"Dominican Republic\", \"Honduras\", \"Haiti\"], \"legendgroup\": \"Latin America and Caribbean\", \"marker\": {\"color\": \"#FFA15A\", \"line\": {\"color\": \"DarkSlateGrey\", \"width\": 1}, \"size\": 10, \"symbol\": \"circle\"}, \"mode\": \"markers\", \"name\": \"Latin America and Caribbean\", \"orientation\": \"v\", \"showlegend\": true, \"type\": \"scatter\", \"x\": [7.0789999961853, 6.65199995040894, 6.6350002288818395, 6.59899997711182, 6.57800006866455, 6.4539999961853, 6.4539999961853, 6.4520001411438, 6.35699987411499, 6.1680002212524405, 6.07100009918213, 6.00799989700317, 6.002999782562259, 5.82299995422363, 5.71500015258789, 5.493000030517581, 5.31099987030029, 5.25, 5.230000019073491, 5.1810002326965305, 3.6029999256133998], \"xaxis\": \"x\", \"y\": [0.580131649971008, 0.376895278692245, 0.437453746795654, 0.49451920390129106, 0.412730008363724, 0.5793922543525699, 0.5313106179237371, 0.550026834011078, 0.47748741507530196, 0.518630743026733, 0.447551846504211, 0.4551981985569, 0.432452529668808, 0.5587329268455511, 0.45000287890434293, 0.473507791757584, 0.474307239055634, 0.15399712324142498, 0.55258983373642, 0.348079860210419, 0.0303698573261499], \"yaxis\": \"y\"}, {\"hovertemplate\": \"<b>%{hovertext}</b><br><br>Region=Asia<br>Score=%{x}<br>Freedom to make life choices=%{y}<extra></extra>\", \"hovertext\": [\"Singapore\", \"Thailand\", \"Malaysia\", \"Japan\", \"South Korea\", \"Philippines\", \"China\", \"Pakistan\", \"Indonesia\", \"Vietnam\", \"Bhutan\", \"Nepal\", \"Mongolia\", \"Bangladesh\", \"Myanmar\", \"Sri Lanka\", \"India\", \"Cambodia\", \"Afghanistan\"], \"legendgroup\": \"Asia\", \"marker\": {\"color\": \"#19d3f3\", \"line\": {\"color\": \"DarkSlateGrey\", \"width\": 1}, \"size\": 10, \"symbol\": \"circle\"}, \"mode\": \"markers\", \"name\": \"Asia\", \"orientation\": \"v\", \"showlegend\": true, \"type\": \"scatter\", \"x\": [6.57200002670288, 6.4239997863769505, 6.08400011062622, 5.92000007629395, 5.837999820709231, 5.42999982833862, 5.2729997634887695, 5.26900005340576, 5.26200008392334, 5.07399988174438, 5.01100015640259, 4.961999893188481, 4.95499992370605, 4.60799980163574, 4.54500007629395, 4.44000005722046, 4.31500005722046, 4.1680002212524405, 3.7939999103546103], \"xaxis\": \"x\", \"y\": [0.549840569496155, 0.580200731754303, 0.40226498246192893, 0.505625545978546, 0.257921665906906, 0.585214674472809, 0.47278770804405196, 0.23521526157856, 0.443323463201523, 0.571055591106415, 0.5015376806259161, 0.44030594825744607, 0.39414396882057207, 0.478356659412384, 0.514492034912109, 0.561213254928589, 0.469987004995346, 0.633375823497772, 0.106179520487785], \"yaxis\": \"y\"}, {\"hovertemplate\": \"<b>%{hovertext}</b><br><br>Region=Sub-Saharan Africa<br>Score=%{x}<br>Freedom to make life choices=%{y}<extra></extra>\", \"hovertext\": [\"Mauritius\", \"Nigeria\", \"South Africa\", \"Sierra Leone\", \"Cameroon\", \"Kenya\", \"Mozambique\", \"Senegal\", \"Zambia\", \"Gabon\", \"Ethiopia\", \"Mauritania\", \"Congo (Brazzaville)\", \"Congo (Kinshasa)\", \"Mali\", \"Ivory Coast\", \"Sudan\", \"Ghana\", \"Uganda\", \"Burkina Faso\", \"Niger\", \"Malawi\", \"Chad\", \"Zimbabwe\", \"Lesotho\", \"Angola\", \"Botswana\", \"Benin\", \"Madagascar\", \"Liberia\", \"Guinea\", \"Togo\", \"Rwanda\", \"Tanzania\", \"Burundi\", \"Central African Republic\"], \"legendgroup\": \"Sub-Saharan Africa\", \"marker\": {\"color\": \"#FF6692\", \"line\": {\"color\": \"DarkSlateGrey\", \"width\": 1}, \"size\": 10, \"symbol\": \"circle\"}, \"mode\": \"markers\", \"name\": \"Sub-Saharan Africa\", \"orientation\": \"v\", \"showlegend\": true, \"type\": \"scatter\", \"x\": [5.62900018692017, 5.07399988174438, 4.8289999961853, 4.70900011062622, 4.69500017166138, 4.55299997329712, 4.550000190734861, 4.53499984741211, 4.513999938964839, 4.46500015258789, 4.46000003814697, 4.29199981689453, 4.29099988937378, 4.2800002098083505, 4.19000005722046, 4.17999982833862, 4.138999938964839, 4.11999988555908, 4.08099985122681, 4.03200006484985, 4.02799987792969, 3.97000002861023, 3.9360001087188703, 3.875, 3.80800008773804, 3.79500007629395, 3.7660000324249303, 3.65700006484985, 3.64400005340576, 3.5329999923706095, 3.50699996948242, 3.4949998855590803, 3.47099995613098, 3.34899997711182, 2.90499997138977, 2.69300007820129], \"xaxis\": \"x\", \"y\": [0.491247326135635, 0.394952565431595, 0.479246735572815, 0.318697690963745, 0.430388748645782, 0.45276376605033897, 0.48079109191894503, 0.37792226672172496, 0.461603492498398, 0.31232857704162603, 0.408842742443085, 0.0960980430245399, 0.4350258708000179, 0.235961347818375, 0.306613743305206, 0.4477061927318571, 0.0149958552792668, 0.423026293516159, 0.443185955286026, 0.32436785101890603, 0.36365869641304, 0.466914653778076, 0.16234202682972002, 0.336384207010269, 0.390661299228668, 0.0, 0.505196332931519, 0.42596277594566295, 0.18919676542282102, 0.33288118243217496, 0.348587512969971, 0.38042613863945, 0.5818438529968261, 0.390017777681351, 0.0599007532000542, 0.270842045545578], \"yaxis\": \"y\"}],                        {\"height\": 600, \"legend\": {\"title\": {\"text\": \"Region\"}, \"tracegroupgap\": 0}, \"template\": {\"data\": {\"bar\": [{\"error_x\": {\"color\": \"#2a3f5f\"}, \"error_y\": {\"color\": \"#2a3f5f\"}, \"marker\": {\"line\": {\"color\": \"#E5ECF6\", \"width\": 0.5}}, \"type\": \"bar\"}], \"barpolar\": [{\"marker\": {\"line\": {\"color\": \"#E5ECF6\", \"width\": 0.5}}, \"type\": \"barpolar\"}], \"carpet\": [{\"aaxis\": {\"endlinecolor\": \"#2a3f5f\", \"gridcolor\": \"white\", \"linecolor\": \"white\", \"minorgridcolor\": \"white\", \"startlinecolor\": \"#2a3f5f\"}, \"baxis\": {\"endlinecolor\": \"#2a3f5f\", \"gridcolor\": \"white\", \"linecolor\": \"white\", \"minorgridcolor\": \"white\", \"startlinecolor\": \"#2a3f5f\"}, \"type\": \"carpet\"}], \"choropleth\": [{\"colorbar\": {\"outlinewidth\": 0, \"ticks\": \"\"}, \"type\": \"choropleth\"}], \"contour\": [{\"colorbar\": {\"outlinewidth\": 0, \"ticks\": \"\"}, \"colorscale\": [[0.0, \"#0d0887\"], [0.1111111111111111, \"#46039f\"], [0.2222222222222222, \"#7201a8\"], [0.3333333333333333, \"#9c179e\"], [0.4444444444444444, \"#bd3786\"], [0.5555555555555556, \"#d8576b\"], [0.6666666666666666, \"#ed7953\"], [0.7777777777777778, \"#fb9f3a\"], [0.8888888888888888, \"#fdca26\"], [1.0, \"#f0f921\"]], \"type\": \"contour\"}], \"contourcarpet\": [{\"colorbar\": {\"outlinewidth\": 0, \"ticks\": \"\"}, \"type\": \"contourcarpet\"}], \"heatmap\": [{\"colorbar\": {\"outlinewidth\": 0, \"ticks\": \"\"}, \"colorscale\": [[0.0, \"#0d0887\"], [0.1111111111111111, \"#46039f\"], [0.2222222222222222, \"#7201a8\"], [0.3333333333333333, \"#9c179e\"], [0.4444444444444444, \"#bd3786\"], [0.5555555555555556, \"#d8576b\"], [0.6666666666666666, \"#ed7953\"], [0.7777777777777778, \"#fb9f3a\"], [0.8888888888888888, \"#fdca26\"], [1.0, \"#f0f921\"]], \"type\": \"heatmap\"}], \"heatmapgl\": [{\"colorbar\": {\"outlinewidth\": 0, \"ticks\": \"\"}, \"colorscale\": [[0.0, \"#0d0887\"], [0.1111111111111111, \"#46039f\"], [0.2222222222222222, \"#7201a8\"], [0.3333333333333333, \"#9c179e\"], [0.4444444444444444, \"#bd3786\"], [0.5555555555555556, \"#d8576b\"], [0.6666666666666666, \"#ed7953\"], [0.7777777777777778, \"#fb9f3a\"], [0.8888888888888888, \"#fdca26\"], [1.0, \"#f0f921\"]], \"type\": \"heatmapgl\"}], \"histogram\": [{\"marker\": {\"colorbar\": {\"outlinewidth\": 0, \"ticks\": \"\"}}, \"type\": \"histogram\"}], \"histogram2d\": [{\"colorbar\": {\"outlinewidth\": 0, \"ticks\": \"\"}, \"colorscale\": [[0.0, \"#0d0887\"], [0.1111111111111111, \"#46039f\"], [0.2222222222222222, \"#7201a8\"], [0.3333333333333333, \"#9c179e\"], [0.4444444444444444, \"#bd3786\"], [0.5555555555555556, \"#d8576b\"], [0.6666666666666666, \"#ed7953\"], [0.7777777777777778, \"#fb9f3a\"], [0.8888888888888888, \"#fdca26\"], [1.0, \"#f0f921\"]], \"type\": \"histogram2d\"}], \"histogram2dcontour\": [{\"colorbar\": {\"outlinewidth\": 0, \"ticks\": \"\"}, \"colorscale\": [[0.0, \"#0d0887\"], [0.1111111111111111, \"#46039f\"], [0.2222222222222222, \"#7201a8\"], [0.3333333333333333, \"#9c179e\"], [0.4444444444444444, \"#bd3786\"], [0.5555555555555556, \"#d8576b\"], [0.6666666666666666, \"#ed7953\"], [0.7777777777777778, \"#fb9f3a\"], [0.8888888888888888, \"#fdca26\"], [1.0, \"#f0f921\"]], \"type\": \"histogram2dcontour\"}], \"mesh3d\": [{\"colorbar\": {\"outlinewidth\": 0, \"ticks\": \"\"}, \"type\": \"mesh3d\"}], \"parcoords\": [{\"line\": {\"colorbar\": {\"outlinewidth\": 0, \"ticks\": \"\"}}, \"type\": \"parcoords\"}], \"pie\": [{\"automargin\": true, \"type\": \"pie\"}], \"scatter\": [{\"marker\": {\"colorbar\": {\"outlinewidth\": 0, \"ticks\": \"\"}}, \"type\": \"scatter\"}], \"scatter3d\": [{\"line\": {\"colorbar\": {\"outlinewidth\": 0, \"ticks\": \"\"}}, \"marker\": {\"colorbar\": {\"outlinewidth\": 0, \"ticks\": \"\"}}, \"type\": \"scatter3d\"}], \"scattercarpet\": [{\"marker\": {\"colorbar\": {\"outlinewidth\": 0, \"ticks\": \"\"}}, \"type\": \"scattercarpet\"}], \"scattergeo\": [{\"marker\": {\"colorbar\": {\"outlinewidth\": 0, \"ticks\": \"\"}}, \"type\": \"scattergeo\"}], \"scattergl\": [{\"marker\": {\"colorbar\": {\"outlinewidth\": 0, \"ticks\": \"\"}}, \"type\": \"scattergl\"}], \"scattermapbox\": [{\"marker\": {\"colorbar\": {\"outlinewidth\": 0, \"ticks\": \"\"}}, \"type\": \"scattermapbox\"}], \"scatterpolar\": [{\"marker\": {\"colorbar\": {\"outlinewidth\": 0, \"ticks\": \"\"}}, \"type\": \"scatterpolar\"}], \"scatterpolargl\": [{\"marker\": {\"colorbar\": {\"outlinewidth\": 0, \"ticks\": \"\"}}, \"type\": \"scatterpolargl\"}], \"scatterternary\": [{\"marker\": {\"colorbar\": {\"outlinewidth\": 0, \"ticks\": \"\"}}, \"type\": \"scatterternary\"}], \"surface\": [{\"colorbar\": {\"outlinewidth\": 0, \"ticks\": \"\"}, \"colorscale\": [[0.0, \"#0d0887\"], [0.1111111111111111, \"#46039f\"], [0.2222222222222222, \"#7201a8\"], [0.3333333333333333, \"#9c179e\"], [0.4444444444444444, \"#bd3786\"], [0.5555555555555556, \"#d8576b\"], [0.6666666666666666, \"#ed7953\"], [0.7777777777777778, \"#fb9f3a\"], [0.8888888888888888, \"#fdca26\"], [1.0, \"#f0f921\"]], \"type\": \"surface\"}], \"table\": [{\"cells\": {\"fill\": {\"color\": \"#EBF0F8\"}, \"line\": {\"color\": \"white\"}}, \"header\": {\"fill\": {\"color\": \"#C8D4E3\"}, \"line\": {\"color\": \"white\"}}, \"type\": \"table\"}]}, \"layout\": {\"annotationdefaults\": {\"arrowcolor\": \"#2a3f5f\", \"arrowhead\": 0, \"arrowwidth\": 1}, \"autotypenumbers\": \"strict\", \"coloraxis\": {\"colorbar\": {\"outlinewidth\": 0, \"ticks\": \"\"}}, \"colorscale\": {\"diverging\": [[0, \"#8e0152\"], [0.1, \"#c51b7d\"], [0.2, \"#de77ae\"], [0.3, \"#f1b6da\"], [0.4, \"#fde0ef\"], [0.5, \"#f7f7f7\"], [0.6, \"#e6f5d0\"], [0.7, \"#b8e186\"], [0.8, \"#7fbc41\"], [0.9, \"#4d9221\"], [1, \"#276419\"]], \"sequential\": [[0.0, \"#0d0887\"], [0.1111111111111111, \"#46039f\"], [0.2222222222222222, \"#7201a8\"], [0.3333333333333333, \"#9c179e\"], [0.4444444444444444, \"#bd3786\"], [0.5555555555555556, \"#d8576b\"], [0.6666666666666666, \"#ed7953\"], [0.7777777777777778, \"#fb9f3a\"], [0.8888888888888888, \"#fdca26\"], [1.0, \"#f0f921\"]], \"sequentialminus\": [[0.0, \"#0d0887\"], [0.1111111111111111, \"#46039f\"], [0.2222222222222222, \"#7201a8\"], [0.3333333333333333, \"#9c179e\"], [0.4444444444444444, \"#bd3786\"], [0.5555555555555556, \"#d8576b\"], [0.6666666666666666, \"#ed7953\"], [0.7777777777777778, \"#fb9f3a\"], [0.8888888888888888, \"#fdca26\"], [1.0, \"#f0f921\"]]}, \"colorway\": [\"#636efa\", \"#EF553B\", \"#00cc96\", \"#ab63fa\", \"#FFA15A\", \"#19d3f3\", \"#FF6692\", \"#B6E880\", \"#FF97FF\", \"#FECB52\"], \"font\": {\"color\": \"#2a3f5f\"}, \"geo\": {\"bgcolor\": \"white\", \"lakecolor\": \"white\", \"landcolor\": \"#E5ECF6\", \"showlakes\": true, \"showland\": true, \"subunitcolor\": \"white\"}, \"hoverlabel\": {\"align\": \"left\"}, \"hovermode\": \"closest\", \"mapbox\": {\"style\": \"light\"}, \"paper_bgcolor\": \"white\", \"plot_bgcolor\": \"#E5ECF6\", \"polar\": {\"angularaxis\": {\"gridcolor\": \"white\", \"linecolor\": \"white\", \"ticks\": \"\"}, \"bgcolor\": \"#E5ECF6\", \"radialaxis\": {\"gridcolor\": \"white\", \"linecolor\": \"white\", \"ticks\": \"\"}}, \"scene\": {\"xaxis\": {\"backgroundcolor\": \"#E5ECF6\", \"gridcolor\": \"white\", \"gridwidth\": 2, \"linecolor\": \"white\", \"showbackground\": true, \"ticks\": \"\", \"zerolinecolor\": \"white\"}, \"yaxis\": {\"backgroundcolor\": \"#E5ECF6\", \"gridcolor\": \"white\", \"gridwidth\": 2, \"linecolor\": \"white\", \"showbackground\": true, \"ticks\": \"\", \"zerolinecolor\": \"white\"}, \"zaxis\": {\"backgroundcolor\": \"#E5ECF6\", \"gridcolor\": \"white\", \"gridwidth\": 2, \"linecolor\": \"white\", \"showbackground\": true, \"ticks\": \"\", \"zerolinecolor\": \"white\"}}, \"shapedefaults\": {\"line\": {\"color\": \"#2a3f5f\"}}, \"ternary\": {\"aaxis\": {\"gridcolor\": \"white\", \"linecolor\": \"white\", \"ticks\": \"\"}, \"baxis\": {\"gridcolor\": \"white\", \"linecolor\": \"white\", \"ticks\": \"\"}, \"bgcolor\": \"#E5ECF6\", \"caxis\": {\"gridcolor\": \"white\", \"linecolor\": \"white\", \"ticks\": \"\"}}, \"title\": {\"x\": 0.05}, \"xaxis\": {\"automargin\": true, \"gridcolor\": \"white\", \"linecolor\": \"white\", \"ticks\": \"\", \"title\": {\"standoff\": 15}, \"zerolinecolor\": \"white\", \"zerolinewidth\": 2}, \"yaxis\": {\"automargin\": true, \"gridcolor\": \"white\", \"linecolor\": \"white\", \"ticks\": \"\", \"title\": {\"standoff\": 15}, \"zerolinecolor\": \"white\", \"zerolinewidth\": 2}}}, \"title\": {\"text\": \"Happiness Score compared to Freedom to Make Life Choices Score\"}, \"width\": 1000, \"xaxis\": {\"anchor\": \"y\", \"domain\": [0.0, 1.0], \"range\": [0, 8], \"title\": {\"text\": \"Happiness Score\"}}, \"yaxis\": {\"anchor\": \"x\", \"domain\": [0.0, 1.0], \"title\": {\"text\": \"Freedom to Make Life Choices Score\"}}},                        {\"responsive\": true}                    ).then(function(){\n",
       "                            \n",
       "var gd = document.getElementById('ec53ef75-648a-4f88-9c76-7a4c614b4a57');\n",
       "var x = new MutationObserver(function (mutations, observer) {{\n",
       "        var display = window.getComputedStyle(gd).display;\n",
       "        if (!display || display === 'none') {{\n",
       "            console.log([gd, 'removed!']);\n",
       "            Plotly.purge(gd);\n",
       "            observer.disconnect();\n",
       "        }}\n",
       "}});\n",
       "\n",
       "// Listen for the removal of the full notebook cells\n",
       "var notebookContainer = gd.closest('#notebook-container');\n",
       "if (notebookContainer) {{\n",
       "    x.observe(notebookContainer, {childList: true});\n",
       "}}\n",
       "\n",
       "// Listen for the clearing of the current output cell\n",
       "var outputEl = gd.closest('.output');\n",
       "if (outputEl) {{\n",
       "    x.observe(outputEl, {childList: true});\n",
       "}}\n",
       "\n",
       "                        })                };                });            </script>        </div>"
      ]
     },
     "metadata": {},
     "output_type": "display_data"
    }
   ],
   "source": [
    "#happiness score vs freedom to make life choices\n",
    "\n",
    "#establish x and y values\n",
    "x_values = merged_2017[\"Score\"]\n",
    "y_values = merged_2017[\"Freedom to make life choices\"]\n",
    "\n",
    "#px.scatter\n",
    "fig = px.scatter(merged_2017, x_values, y_values, color=\"Region\", hover_name=\"Country or region\",\n",
    "                range_x=[0,8], title=\"Happiness Score compared to Freedom to Make Life Choices Score\",\n",
    "                width= 1000, height =600) # use trendline=\"ols\" to see all lin reg equations\n",
    "\n",
    "#set axes labels\n",
    "fig.update_xaxes(title_text='Happiness Score')\n",
    "fig.update_yaxes(title_text='Freedom to Make Life Choices Score')\n",
    "\n",
    "\n",
    "#formatting\n",
    "#marker size and colors\n",
    "fig.update_traces(marker=dict(size=10,\n",
    "                              line=dict(width=1, \n",
    "                                        color='DarkSlateGrey')))\n",
    "\n",
    "#linear regression\n",
    "#use linregress from dependencies to inplement linear regression\n",
    "(slope, intercept, rvalue, pvalue, stderr) = linregress(x_values, y_values)\n",
    "regress_values = x_values * slope + intercept\n",
    "\n",
    "#print out all variables calculated above (rvalue, pvalue...)\n",
    "print(f\"slope:{round(slope, 2)}\")\n",
    "print(f\"intercept:{round(intercept,2)}\")\n",
    "res = sts.linregress(x_values, y_values)\n",
    "print(f\"R-squared: {res.rvalue**2:.4f}\")\n",
    "\n",
    "\n",
    "#print out line eq for reference\n",
    "line_eq = (f\"y={round(slope, 2)}x + {round(intercept, 2)}\")\n",
    "print(line_eq)\n",
    "\n",
    "fig.show()"
   ]
  },
  {
   "cell_type": "code",
   "execution_count": 16,
   "metadata": {},
   "outputs": [
    {
     "name": "stdout",
     "output_type": "stream",
     "text": [
      "slope:0.02\n",
      "intercept:0.15\n",
      "R-squared: 0.0241\n",
      "y=0.02x + 0.15\n"
     ]
    },
    {
     "data": {
      "application/vnd.plotly.v1+json": {
       "config": {
        "plotlyServerURL": "https://plot.ly"
       },
       "data": [
        {
         "hovertemplate": "<b>%{hovertext}</b><br><br>Region=Europe<br>Score=%{x}<br>Generosity=%{y}<extra></extra>",
         "hovertext": [
          "Norway",
          "Denmark",
          "Iceland",
          "Switzerland",
          "Finland",
          "Netherlands",
          "Sweden",
          "Austria",
          "Ireland",
          "Germany",
          "Belgium",
          "Luxembourg",
          "United Kingdom",
          "Czech Republic",
          "Malta",
          "France",
          "Spain",
          "Slovakia",
          "Poland",
          "Uzbekistan",
          "Italy",
          "Russia",
          "Lithuania",
          "Latvia",
          "Moldova",
          "Romania",
          "Turkmenistan",
          "Kazakhstan",
          "North Cyprus",
          "Slovenia",
          "Cyprus",
          "Estonia",
          "Belarus",
          "Serbia",
          "Hungary",
          "Croatia",
          "Kosovo",
          "Montenegro",
          "Azerbaijan",
          "Greece",
          "Portugal",
          "Bosnia and Herzegovina",
          "Macedonia",
          "Tajikistan",
          "Kyrgyzstan",
          "Bulgaria",
          "Albania",
          "Armenia",
          "Georgia",
          "Ukraine"
         ],
         "legendgroup": "Europe",
         "marker": {
          "color": "#636efa",
          "line": {
           "color": "DarkSlateGrey",
           "width": 1
          },
          "size": 10,
          "symbol": "circle"
         },
         "mode": "markers",
         "name": "Europe",
         "orientation": "v",
         "showlegend": true,
         "type": "scatter",
         "x": [
          7.537000179290769,
          7.52199983596802,
          7.50400018692017,
          7.49399995803833,
          7.468999862670901,
          7.3769998550415,
          7.28399991989136,
          7.00600004196167,
          6.9770002365112305,
          6.9510002136230495,
          6.89099979400635,
          6.86299991607666,
          6.71400022506714,
          6.60900020599365,
          6.52699995040894,
          6.44199991226196,
          6.40299987792969,
          6.09800004959106,
          5.97300004959106,
          5.97100019454956,
          5.96400022506714,
          5.962999820709231,
          5.90199995040894,
          5.849999904632571,
          5.837999820709231,
          5.824999809265139,
          5.82200002670288,
          5.8189997673034695,
          5.80999994277954,
          5.75799989700317,
          5.62099981307983,
          5.61100006103516,
          5.5689997673034695,
          5.39499998092651,
          5.32399988174438,
          5.2930002212524405,
          5.27899980545044,
          5.23699998855591,
          5.234000205993651,
          5.2270002365112305,
          5.19500017166138,
          5.18200016021729,
          5.175000190734861,
          5.04099988937378,
          5.0040001869201705,
          4.71400022506714,
          4.64400005340576,
          4.37599992752075,
          4.28599977493286,
          4.09600019454956
         ],
         "xaxis": "x",
         "y": [
          0.36201223731041,
          0.3552804887294771,
          0.47554022073745705,
          0.29054927825927696,
          0.24548277258873,
          0.47048982977867104,
          0.38539925217628496,
          0.316472321748734,
          0.42785832285881,
          0.33626917004585305,
          0.23150333762168898,
          0.283180981874466,
          0.492774158716202,
          0.0881067588925362,
          0.5747305750846861,
          0.129762306809425,
          0.190133571624756,
          0.136544480919838,
          0.158465966582298,
          0.41598364710807795,
          0.17278964817523998,
          0.0522638224065304,
          0.010164656676352,
          0.153074786067009,
          0.20877912640571603,
          0.133519917726517,
          0.24992498755454998,
          0.20196442306041698,
          0.266845703125,
          0.242649093270302,
          0.271254301071167,
          0.0988908112049103,
          0.15513750910759,
          0.22012588381767298,
          0.0784016624093056,
          0.248002976179123,
          0.319931447505951,
          0.197911024093628,
          0.0452693402767181,
          0,
          0.0951027125120163,
          0.328867495059967,
          0.25376096367836,
          0.24899764358997303,
          0.42858037352562,
          0.113177694380283,
          0.20131294429302202,
          0.0834880918264389,
          0.0540088154375553,
          0.270061463117599
         ],
         "yaxis": "y"
        },
        {
         "hovertemplate": "<b>%{hovertext}</b><br><br>Region=North America<br>Score=%{x}<br>Generosity=%{y}<extra></extra>",
         "hovertext": [
          "Canada",
          "United States"
         ],
         "legendgroup": "North America",
         "marker": {
          "color": "#EF553B",
          "line": {
           "color": "DarkSlateGrey",
           "width": 1
          },
          "size": 10,
          "symbol": "circle"
         },
         "mode": "markers",
         "name": "North America",
         "orientation": "v",
         "showlegend": true,
         "type": "scatter",
         "x": [
          7.31599998474121,
          6.993000030517581
         ],
         "xaxis": "x",
         "y": [
          0.435539722442627,
          0.392578780651093
         ],
         "yaxis": "y"
        },
        {
         "hovertemplate": "<b>%{hovertext}</b><br><br>Region=Australia and New Zealand<br>Score=%{x}<br>Generosity=%{y}<extra></extra>",
         "hovertext": [
          "New Zealand",
          "Australia"
         ],
         "legendgroup": "Australia and New Zealand",
         "marker": {
          "color": "#00cc96",
          "line": {
           "color": "DarkSlateGrey",
           "width": 1
          },
          "size": 10,
          "symbol": "circle"
         },
         "mode": "markers",
         "name": "Australia and New Zealand",
         "orientation": "v",
         "showlegend": true,
         "type": "scatter",
         "x": [
          7.31400012969971,
          7.28399991989136
         ],
         "xaxis": "x",
         "y": [
          0.500005125999451,
          0.47769924998283403
         ],
         "yaxis": "y"
        },
        {
         "hovertemplate": "<b>%{hovertext}</b><br><br>Region=Middle East and Northern Africa<br>Score=%{x}<br>Generosity=%{y}<extra></extra>",
         "hovertext": [
          "Israel",
          "United Arab Emirates",
          "Qatar",
          "Saudi Arabia",
          "Kuwait",
          "Bahrain",
          "Algeria",
          "Libya",
          "Turkey",
          "Jordan",
          "Morocco",
          "Lebanon",
          "Tunisia",
          "Palestinian Territories",
          "Egypt",
          "Iran",
          "Iraq",
          "Yemen",
          "Syria"
         ],
         "legendgroup": "Middle East and Northern Africa",
         "marker": {
          "color": "#ab63fa",
          "line": {
           "color": "DarkSlateGrey",
           "width": 1
          },
          "size": 10,
          "symbol": "circle"
         },
         "mode": "markers",
         "name": "Middle East and Northern Africa",
         "orientation": "v",
         "showlegend": true,
         "type": "scatter",
         "x": [
          7.212999820709231,
          6.6479997634887695,
          6.375,
          6.343999862670901,
          6.10500001907349,
          6.08699989318848,
          5.872000217437741,
          5.525000095367429,
          5.5,
          5.33599996566772,
          5.2350001335144,
          5.22499990463257,
          4.80499982833862,
          4.77500009536743,
          4.7350001335144,
          4.69199991226196,
          4.49700021743774,
          3.59299993515015,
          3.46199989318848
         ],
         "xaxis": "x",
         "y": [
          0.330082654953003,
          0.3609419465065,
          0.33047387003898604,
          0.147616013884544,
          0.228289797902107,
          0.17266848683357197,
          0.0694366469979286,
          0.15207366645336198,
          0.0466930419206619,
          0.17217046022415197,
          0.0322099551558495,
          0.26445075869560203,
          0.0496933571994305,
          0.114173173904419,
          0.128631442785263,
          0.387242913246155,
          0.19963726401329,
          0.104125209152699,
          0.49366372823715204
         ],
         "yaxis": "y"
        },
        {
         "hovertemplate": "<b>%{hovertext}</b><br><br>Region=Latin America and Caribbean<br>Score=%{x}<br>Generosity=%{y}<extra></extra>",
         "hovertext": [
          "Costa Rica",
          "Chile",
          "Brazil",
          "Argentina",
          "Mexico",
          "Uruguay",
          "Guatemala",
          "Panama",
          "Colombia",
          "Trinidad and Tobago",
          "Nicaragua",
          "Ecuador",
          "El Salvador",
          "Bolivia",
          "Peru",
          "Paraguay",
          "Jamaica",
          "Venezuela",
          "Dominican Republic",
          "Honduras",
          "Haiti"
         ],
         "legendgroup": "Latin America and Caribbean",
         "marker": {
          "color": "#FFA15A",
          "line": {
           "color": "DarkSlateGrey",
           "width": 1
          },
          "size": 10,
          "symbol": "circle"
         },
         "mode": "markers",
         "name": "Latin America and Caribbean",
         "orientation": "v",
         "showlegend": true,
         "type": "scatter",
         "x": [
          7.0789999961853,
          6.65199995040894,
          6.6350002288818395,
          6.59899997711182,
          6.57800006866455,
          6.4539999961853,
          6.4539999961853,
          6.4520001411438,
          6.35699987411499,
          6.1680002212524405,
          6.07100009918213,
          6.00799989700317,
          6.002999782562259,
          5.82299995422363,
          5.71500015258789,
          5.493000030517581,
          5.31099987030029,
          5.25,
          5.230000019073491,
          5.1810002326965305,
          3.6029999256133998
         ],
         "xaxis": "x",
         "y": [
          0.21461322903633104,
          0.3266624212265011,
          0.16234989464282998,
          0.109457060694695,
          0.12099043279886199,
          0.175096929073334,
          0.283488392829895,
          0.21055693924427,
          0.14901447296142598,
          0.32529646158218395,
          0.301674216985703,
          0.15011246502399403,
          0.0782579854130745,
          0.22556072473526,
          0.126819714903831,
          0.224150657653809,
          0.23381833732128102,
          0.0650196298956871,
          0.186967849731445,
          0.23618887364864302,
          0.48920378088951094
         ],
         "yaxis": "y"
        },
        {
         "hovertemplate": "<b>%{hovertext}</b><br><br>Region=Asia<br>Score=%{x}<br>Generosity=%{y}<extra></extra>",
         "hovertext": [
          "Singapore",
          "Thailand",
          "Malaysia",
          "Japan",
          "South Korea",
          "Philippines",
          "China",
          "Pakistan",
          "Indonesia",
          "Vietnam",
          "Bhutan",
          "Nepal",
          "Mongolia",
          "Bangladesh",
          "Myanmar",
          "Sri Lanka",
          "India",
          "Cambodia",
          "Afghanistan"
         ],
         "legendgroup": "Asia",
         "marker": {
          "color": "#19d3f3",
          "line": {
           "color": "DarkSlateGrey",
           "width": 1
          },
          "size": 10,
          "symbol": "circle"
         },
         "mode": "markers",
         "name": "Asia",
         "orientation": "v",
         "showlegend": true,
         "type": "scatter",
         "x": [
          6.57200002670288,
          6.4239997863769505,
          6.08400011062622,
          5.92000007629395,
          5.837999820709231,
          5.42999982833862,
          5.2729997634887695,
          5.26900005340576,
          5.26200008392334,
          5.07399988174438,
          5.01100015640259,
          4.961999893188481,
          4.95499992370605,
          4.60799980163574,
          4.54500007629395,
          4.44000005722046,
          4.31500005722046,
          4.1680002212524405,
          3.7939999103546103
         ],
         "xaxis": "x",
         "y": [
          0.345965981483459,
          0.572123110294342,
          0.416608929634094,
          0.12057276815175999,
          0.206674367189407,
          0.193513423204422,
          0.0288068410009146,
          0.31544601917266807,
          0.611704587936401,
          0.23496805131435397,
          0.474054545164108,
          0.39409616589546204,
          0.338464230298996,
          0.17225535213947304,
          0.8380751609802249,
          0.49086356163024897,
          0.23153848946094502,
          0.385922968387604,
          0.311870932579041
         ],
         "yaxis": "y"
        },
        {
         "hovertemplate": "<b>%{hovertext}</b><br><br>Region=Sub-Saharan Africa<br>Score=%{x}<br>Generosity=%{y}<extra></extra>",
         "hovertext": [
          "Mauritius",
          "Nigeria",
          "South Africa",
          "Sierra Leone",
          "Cameroon",
          "Kenya",
          "Mozambique",
          "Senegal",
          "Zambia",
          "Gabon",
          "Ethiopia",
          "Mauritania",
          "Congo (Brazzaville)",
          "Congo (Kinshasa)",
          "Mali",
          "Ivory Coast",
          "Sudan",
          "Ghana",
          "Uganda",
          "Burkina Faso",
          "Niger",
          "Malawi",
          "Chad",
          "Zimbabwe",
          "Lesotho",
          "Angola",
          "Botswana",
          "Benin",
          "Madagascar",
          "Liberia",
          "Guinea",
          "Togo",
          "Rwanda",
          "Tanzania",
          "Burundi",
          "Central African Republic"
         ],
         "legendgroup": "Sub-Saharan Africa",
         "marker": {
          "color": "#FF6692",
          "line": {
           "color": "DarkSlateGrey",
           "width": 1
          },
          "size": 10,
          "symbol": "circle"
         },
         "mode": "markers",
         "name": "Sub-Saharan Africa",
         "orientation": "v",
         "showlegend": true,
         "type": "scatter",
         "x": [
          5.62900018692017,
          5.07399988174438,
          4.8289999961853,
          4.70900011062622,
          4.69500017166138,
          4.55299997329712,
          4.550000190734861,
          4.53499984741211,
          4.513999938964839,
          4.46500015258789,
          4.46000003814697,
          4.29199981689453,
          4.29099988937378,
          4.2800002098083505,
          4.19000005722046,
          4.17999982833862,
          4.138999938964839,
          4.11999988555908,
          4.08099985122681,
          4.03200006484985,
          4.02799987792969,
          3.97000002861023,
          3.9360001087188703,
          3.875,
          3.80800008773804,
          3.79500007629395,
          3.7660000324249303,
          3.65700006484985,
          3.64400005340576,
          3.5329999923706095,
          3.50699996948242,
          3.4949998855590803,
          3.47099995613098,
          3.34899997711182,
          2.90499997138977,
          2.69300007820129
         ],
         "xaxis": "x",
         "y": [
          0.360933750867844,
          0.23094719648361198,
          0.13936237990856198,
          0.293040901422501,
          0.23629845678806302,
          0.444860309362411,
          0.322228103876114,
          0.183468893170357,
          0.249580144882202,
          0.0437853783369064,
          0.31265074014663696,
          0.201870024204254,
          0.12085212767124198,
          0.246455833315849,
          0.183354198932648,
          0.201237469911575,
          0.182317450642586,
          0.25692394375801103,
          0.32576605677604703,
          0.250864684581757,
          0.22867384552955602,
          0.28717046976089505,
          0.21611385047435802,
          0.189143493771553,
          0.157497271895409,
          0.09792649000883098,
          0.0993484482169151,
          0.207948461174965,
          0.208732530474663,
          0.26654988527298,
          0.264815092086792,
          0.19689615070819896,
          0.25275602936744695,
          0.354256361722946,
          0.20443518459796897,
          0.280876487493515
         ],
         "yaxis": "y"
        }
       ],
       "layout": {
        "height": 600,
        "legend": {
         "title": {
          "text": "Region"
         },
         "tracegroupgap": 0
        },
        "template": {
         "data": {
          "bar": [
           {
            "error_x": {
             "color": "#2a3f5f"
            },
            "error_y": {
             "color": "#2a3f5f"
            },
            "marker": {
             "line": {
              "color": "#E5ECF6",
              "width": 0.5
             }
            },
            "type": "bar"
           }
          ],
          "barpolar": [
           {
            "marker": {
             "line": {
              "color": "#E5ECF6",
              "width": 0.5
             }
            },
            "type": "barpolar"
           }
          ],
          "carpet": [
           {
            "aaxis": {
             "endlinecolor": "#2a3f5f",
             "gridcolor": "white",
             "linecolor": "white",
             "minorgridcolor": "white",
             "startlinecolor": "#2a3f5f"
            },
            "baxis": {
             "endlinecolor": "#2a3f5f",
             "gridcolor": "white",
             "linecolor": "white",
             "minorgridcolor": "white",
             "startlinecolor": "#2a3f5f"
            },
            "type": "carpet"
           }
          ],
          "choropleth": [
           {
            "colorbar": {
             "outlinewidth": 0,
             "ticks": ""
            },
            "type": "choropleth"
           }
          ],
          "contour": [
           {
            "colorbar": {
             "outlinewidth": 0,
             "ticks": ""
            },
            "colorscale": [
             [
              0,
              "#0d0887"
             ],
             [
              0.1111111111111111,
              "#46039f"
             ],
             [
              0.2222222222222222,
              "#7201a8"
             ],
             [
              0.3333333333333333,
              "#9c179e"
             ],
             [
              0.4444444444444444,
              "#bd3786"
             ],
             [
              0.5555555555555556,
              "#d8576b"
             ],
             [
              0.6666666666666666,
              "#ed7953"
             ],
             [
              0.7777777777777778,
              "#fb9f3a"
             ],
             [
              0.8888888888888888,
              "#fdca26"
             ],
             [
              1,
              "#f0f921"
             ]
            ],
            "type": "contour"
           }
          ],
          "contourcarpet": [
           {
            "colorbar": {
             "outlinewidth": 0,
             "ticks": ""
            },
            "type": "contourcarpet"
           }
          ],
          "heatmap": [
           {
            "colorbar": {
             "outlinewidth": 0,
             "ticks": ""
            },
            "colorscale": [
             [
              0,
              "#0d0887"
             ],
             [
              0.1111111111111111,
              "#46039f"
             ],
             [
              0.2222222222222222,
              "#7201a8"
             ],
             [
              0.3333333333333333,
              "#9c179e"
             ],
             [
              0.4444444444444444,
              "#bd3786"
             ],
             [
              0.5555555555555556,
              "#d8576b"
             ],
             [
              0.6666666666666666,
              "#ed7953"
             ],
             [
              0.7777777777777778,
              "#fb9f3a"
             ],
             [
              0.8888888888888888,
              "#fdca26"
             ],
             [
              1,
              "#f0f921"
             ]
            ],
            "type": "heatmap"
           }
          ],
          "heatmapgl": [
           {
            "colorbar": {
             "outlinewidth": 0,
             "ticks": ""
            },
            "colorscale": [
             [
              0,
              "#0d0887"
             ],
             [
              0.1111111111111111,
              "#46039f"
             ],
             [
              0.2222222222222222,
              "#7201a8"
             ],
             [
              0.3333333333333333,
              "#9c179e"
             ],
             [
              0.4444444444444444,
              "#bd3786"
             ],
             [
              0.5555555555555556,
              "#d8576b"
             ],
             [
              0.6666666666666666,
              "#ed7953"
             ],
             [
              0.7777777777777778,
              "#fb9f3a"
             ],
             [
              0.8888888888888888,
              "#fdca26"
             ],
             [
              1,
              "#f0f921"
             ]
            ],
            "type": "heatmapgl"
           }
          ],
          "histogram": [
           {
            "marker": {
             "colorbar": {
              "outlinewidth": 0,
              "ticks": ""
             }
            },
            "type": "histogram"
           }
          ],
          "histogram2d": [
           {
            "colorbar": {
             "outlinewidth": 0,
             "ticks": ""
            },
            "colorscale": [
             [
              0,
              "#0d0887"
             ],
             [
              0.1111111111111111,
              "#46039f"
             ],
             [
              0.2222222222222222,
              "#7201a8"
             ],
             [
              0.3333333333333333,
              "#9c179e"
             ],
             [
              0.4444444444444444,
              "#bd3786"
             ],
             [
              0.5555555555555556,
              "#d8576b"
             ],
             [
              0.6666666666666666,
              "#ed7953"
             ],
             [
              0.7777777777777778,
              "#fb9f3a"
             ],
             [
              0.8888888888888888,
              "#fdca26"
             ],
             [
              1,
              "#f0f921"
             ]
            ],
            "type": "histogram2d"
           }
          ],
          "histogram2dcontour": [
           {
            "colorbar": {
             "outlinewidth": 0,
             "ticks": ""
            },
            "colorscale": [
             [
              0,
              "#0d0887"
             ],
             [
              0.1111111111111111,
              "#46039f"
             ],
             [
              0.2222222222222222,
              "#7201a8"
             ],
             [
              0.3333333333333333,
              "#9c179e"
             ],
             [
              0.4444444444444444,
              "#bd3786"
             ],
             [
              0.5555555555555556,
              "#d8576b"
             ],
             [
              0.6666666666666666,
              "#ed7953"
             ],
             [
              0.7777777777777778,
              "#fb9f3a"
             ],
             [
              0.8888888888888888,
              "#fdca26"
             ],
             [
              1,
              "#f0f921"
             ]
            ],
            "type": "histogram2dcontour"
           }
          ],
          "mesh3d": [
           {
            "colorbar": {
             "outlinewidth": 0,
             "ticks": ""
            },
            "type": "mesh3d"
           }
          ],
          "parcoords": [
           {
            "line": {
             "colorbar": {
              "outlinewidth": 0,
              "ticks": ""
             }
            },
            "type": "parcoords"
           }
          ],
          "pie": [
           {
            "automargin": true,
            "type": "pie"
           }
          ],
          "scatter": [
           {
            "marker": {
             "colorbar": {
              "outlinewidth": 0,
              "ticks": ""
             }
            },
            "type": "scatter"
           }
          ],
          "scatter3d": [
           {
            "line": {
             "colorbar": {
              "outlinewidth": 0,
              "ticks": ""
             }
            },
            "marker": {
             "colorbar": {
              "outlinewidth": 0,
              "ticks": ""
             }
            },
            "type": "scatter3d"
           }
          ],
          "scattercarpet": [
           {
            "marker": {
             "colorbar": {
              "outlinewidth": 0,
              "ticks": ""
             }
            },
            "type": "scattercarpet"
           }
          ],
          "scattergeo": [
           {
            "marker": {
             "colorbar": {
              "outlinewidth": 0,
              "ticks": ""
             }
            },
            "type": "scattergeo"
           }
          ],
          "scattergl": [
           {
            "marker": {
             "colorbar": {
              "outlinewidth": 0,
              "ticks": ""
             }
            },
            "type": "scattergl"
           }
          ],
          "scattermapbox": [
           {
            "marker": {
             "colorbar": {
              "outlinewidth": 0,
              "ticks": ""
             }
            },
            "type": "scattermapbox"
           }
          ],
          "scatterpolar": [
           {
            "marker": {
             "colorbar": {
              "outlinewidth": 0,
              "ticks": ""
             }
            },
            "type": "scatterpolar"
           }
          ],
          "scatterpolargl": [
           {
            "marker": {
             "colorbar": {
              "outlinewidth": 0,
              "ticks": ""
             }
            },
            "type": "scatterpolargl"
           }
          ],
          "scatterternary": [
           {
            "marker": {
             "colorbar": {
              "outlinewidth": 0,
              "ticks": ""
             }
            },
            "type": "scatterternary"
           }
          ],
          "surface": [
           {
            "colorbar": {
             "outlinewidth": 0,
             "ticks": ""
            },
            "colorscale": [
             [
              0,
              "#0d0887"
             ],
             [
              0.1111111111111111,
              "#46039f"
             ],
             [
              0.2222222222222222,
              "#7201a8"
             ],
             [
              0.3333333333333333,
              "#9c179e"
             ],
             [
              0.4444444444444444,
              "#bd3786"
             ],
             [
              0.5555555555555556,
              "#d8576b"
             ],
             [
              0.6666666666666666,
              "#ed7953"
             ],
             [
              0.7777777777777778,
              "#fb9f3a"
             ],
             [
              0.8888888888888888,
              "#fdca26"
             ],
             [
              1,
              "#f0f921"
             ]
            ],
            "type": "surface"
           }
          ],
          "table": [
           {
            "cells": {
             "fill": {
              "color": "#EBF0F8"
             },
             "line": {
              "color": "white"
             }
            },
            "header": {
             "fill": {
              "color": "#C8D4E3"
             },
             "line": {
              "color": "white"
             }
            },
            "type": "table"
           }
          ]
         },
         "layout": {
          "annotationdefaults": {
           "arrowcolor": "#2a3f5f",
           "arrowhead": 0,
           "arrowwidth": 1
          },
          "autotypenumbers": "strict",
          "coloraxis": {
           "colorbar": {
            "outlinewidth": 0,
            "ticks": ""
           }
          },
          "colorscale": {
           "diverging": [
            [
             0,
             "#8e0152"
            ],
            [
             0.1,
             "#c51b7d"
            ],
            [
             0.2,
             "#de77ae"
            ],
            [
             0.3,
             "#f1b6da"
            ],
            [
             0.4,
             "#fde0ef"
            ],
            [
             0.5,
             "#f7f7f7"
            ],
            [
             0.6,
             "#e6f5d0"
            ],
            [
             0.7,
             "#b8e186"
            ],
            [
             0.8,
             "#7fbc41"
            ],
            [
             0.9,
             "#4d9221"
            ],
            [
             1,
             "#276419"
            ]
           ],
           "sequential": [
            [
             0,
             "#0d0887"
            ],
            [
             0.1111111111111111,
             "#46039f"
            ],
            [
             0.2222222222222222,
             "#7201a8"
            ],
            [
             0.3333333333333333,
             "#9c179e"
            ],
            [
             0.4444444444444444,
             "#bd3786"
            ],
            [
             0.5555555555555556,
             "#d8576b"
            ],
            [
             0.6666666666666666,
             "#ed7953"
            ],
            [
             0.7777777777777778,
             "#fb9f3a"
            ],
            [
             0.8888888888888888,
             "#fdca26"
            ],
            [
             1,
             "#f0f921"
            ]
           ],
           "sequentialminus": [
            [
             0,
             "#0d0887"
            ],
            [
             0.1111111111111111,
             "#46039f"
            ],
            [
             0.2222222222222222,
             "#7201a8"
            ],
            [
             0.3333333333333333,
             "#9c179e"
            ],
            [
             0.4444444444444444,
             "#bd3786"
            ],
            [
             0.5555555555555556,
             "#d8576b"
            ],
            [
             0.6666666666666666,
             "#ed7953"
            ],
            [
             0.7777777777777778,
             "#fb9f3a"
            ],
            [
             0.8888888888888888,
             "#fdca26"
            ],
            [
             1,
             "#f0f921"
            ]
           ]
          },
          "colorway": [
           "#636efa",
           "#EF553B",
           "#00cc96",
           "#ab63fa",
           "#FFA15A",
           "#19d3f3",
           "#FF6692",
           "#B6E880",
           "#FF97FF",
           "#FECB52"
          ],
          "font": {
           "color": "#2a3f5f"
          },
          "geo": {
           "bgcolor": "white",
           "lakecolor": "white",
           "landcolor": "#E5ECF6",
           "showlakes": true,
           "showland": true,
           "subunitcolor": "white"
          },
          "hoverlabel": {
           "align": "left"
          },
          "hovermode": "closest",
          "mapbox": {
           "style": "light"
          },
          "paper_bgcolor": "white",
          "plot_bgcolor": "#E5ECF6",
          "polar": {
           "angularaxis": {
            "gridcolor": "white",
            "linecolor": "white",
            "ticks": ""
           },
           "bgcolor": "#E5ECF6",
           "radialaxis": {
            "gridcolor": "white",
            "linecolor": "white",
            "ticks": ""
           }
          },
          "scene": {
           "xaxis": {
            "backgroundcolor": "#E5ECF6",
            "gridcolor": "white",
            "gridwidth": 2,
            "linecolor": "white",
            "showbackground": true,
            "ticks": "",
            "zerolinecolor": "white"
           },
           "yaxis": {
            "backgroundcolor": "#E5ECF6",
            "gridcolor": "white",
            "gridwidth": 2,
            "linecolor": "white",
            "showbackground": true,
            "ticks": "",
            "zerolinecolor": "white"
           },
           "zaxis": {
            "backgroundcolor": "#E5ECF6",
            "gridcolor": "white",
            "gridwidth": 2,
            "linecolor": "white",
            "showbackground": true,
            "ticks": "",
            "zerolinecolor": "white"
           }
          },
          "shapedefaults": {
           "line": {
            "color": "#2a3f5f"
           }
          },
          "ternary": {
           "aaxis": {
            "gridcolor": "white",
            "linecolor": "white",
            "ticks": ""
           },
           "baxis": {
            "gridcolor": "white",
            "linecolor": "white",
            "ticks": ""
           },
           "bgcolor": "#E5ECF6",
           "caxis": {
            "gridcolor": "white",
            "linecolor": "white",
            "ticks": ""
           }
          },
          "title": {
           "x": 0.05
          },
          "xaxis": {
           "automargin": true,
           "gridcolor": "white",
           "linecolor": "white",
           "ticks": "",
           "title": {
            "standoff": 15
           },
           "zerolinecolor": "white",
           "zerolinewidth": 2
          },
          "yaxis": {
           "automargin": true,
           "gridcolor": "white",
           "linecolor": "white",
           "ticks": "",
           "title": {
            "standoff": 15
           },
           "zerolinecolor": "white",
           "zerolinewidth": 2
          }
         }
        },
        "title": {
         "text": "Happiness Score compared to Generosity Score"
        },
        "width": 1000,
        "xaxis": {
         "anchor": "y",
         "domain": [
          0,
          1
         ],
         "range": [
          0,
          8
         ],
         "title": {
          "text": "Happiness Score"
         }
        },
        "yaxis": {
         "anchor": "x",
         "domain": [
          0,
          1
         ],
         "title": {
          "text": "Generosity Score"
         }
        }
       }
      },
      "text/html": [
       "<div>                            <div id=\"42037796-96a5-4a54-aef6-5220f8e84c61\" class=\"plotly-graph-div\" style=\"height:600px; width:1000px;\"></div>            <script type=\"text/javascript\">                require([\"plotly\"], function(Plotly) {                    window.PLOTLYENV=window.PLOTLYENV || {};                                    if (document.getElementById(\"42037796-96a5-4a54-aef6-5220f8e84c61\")) {                    Plotly.newPlot(                        \"42037796-96a5-4a54-aef6-5220f8e84c61\",                        [{\"hovertemplate\": \"<b>%{hovertext}</b><br><br>Region=Europe<br>Score=%{x}<br>Generosity=%{y}<extra></extra>\", \"hovertext\": [\"Norway\", \"Denmark\", \"Iceland\", \"Switzerland\", \"Finland\", \"Netherlands\", \"Sweden\", \"Austria\", \"Ireland\", \"Germany\", \"Belgium\", \"Luxembourg\", \"United Kingdom\", \"Czech Republic\", \"Malta\", \"France\", \"Spain\", \"Slovakia\", \"Poland\", \"Uzbekistan\", \"Italy\", \"Russia\", \"Lithuania\", \"Latvia\", \"Moldova\", \"Romania\", \"Turkmenistan\", \"Kazakhstan\", \"North Cyprus\", \"Slovenia\", \"Cyprus\", \"Estonia\", \"Belarus\", \"Serbia\", \"Hungary\", \"Croatia\", \"Kosovo\", \"Montenegro\", \"Azerbaijan\", \"Greece\", \"Portugal\", \"Bosnia and Herzegovina\", \"Macedonia\", \"Tajikistan\", \"Kyrgyzstan\", \"Bulgaria\", \"Albania\", \"Armenia\", \"Georgia\", \"Ukraine\"], \"legendgroup\": \"Europe\", \"marker\": {\"color\": \"#636efa\", \"line\": {\"color\": \"DarkSlateGrey\", \"width\": 1}, \"size\": 10, \"symbol\": \"circle\"}, \"mode\": \"markers\", \"name\": \"Europe\", \"orientation\": \"v\", \"showlegend\": true, \"type\": \"scatter\", \"x\": [7.537000179290769, 7.52199983596802, 7.50400018692017, 7.49399995803833, 7.468999862670901, 7.3769998550415, 7.28399991989136, 7.00600004196167, 6.9770002365112305, 6.9510002136230495, 6.89099979400635, 6.86299991607666, 6.71400022506714, 6.60900020599365, 6.52699995040894, 6.44199991226196, 6.40299987792969, 6.09800004959106, 5.97300004959106, 5.97100019454956, 5.96400022506714, 5.962999820709231, 5.90199995040894, 5.849999904632571, 5.837999820709231, 5.824999809265139, 5.82200002670288, 5.8189997673034695, 5.80999994277954, 5.75799989700317, 5.62099981307983, 5.61100006103516, 5.5689997673034695, 5.39499998092651, 5.32399988174438, 5.2930002212524405, 5.27899980545044, 5.23699998855591, 5.234000205993651, 5.2270002365112305, 5.19500017166138, 5.18200016021729, 5.175000190734861, 5.04099988937378, 5.0040001869201705, 4.71400022506714, 4.64400005340576, 4.37599992752075, 4.28599977493286, 4.09600019454956], \"xaxis\": \"x\", \"y\": [0.36201223731041, 0.3552804887294771, 0.47554022073745705, 0.29054927825927696, 0.24548277258873, 0.47048982977867104, 0.38539925217628496, 0.316472321748734, 0.42785832285881, 0.33626917004585305, 0.23150333762168898, 0.283180981874466, 0.492774158716202, 0.0881067588925362, 0.5747305750846861, 0.129762306809425, 0.190133571624756, 0.136544480919838, 0.158465966582298, 0.41598364710807795, 0.17278964817523998, 0.0522638224065304, 0.010164656676352, 0.153074786067009, 0.20877912640571603, 0.133519917726517, 0.24992498755454998, 0.20196442306041698, 0.266845703125, 0.242649093270302, 0.271254301071167, 0.0988908112049103, 0.15513750910759, 0.22012588381767298, 0.0784016624093056, 0.248002976179123, 0.319931447505951, 0.197911024093628, 0.0452693402767181, 0.0, 0.0951027125120163, 0.328867495059967, 0.25376096367836, 0.24899764358997303, 0.42858037352562, 0.113177694380283, 0.20131294429302202, 0.0834880918264389, 0.0540088154375553, 0.270061463117599], \"yaxis\": \"y\"}, {\"hovertemplate\": \"<b>%{hovertext}</b><br><br>Region=North America<br>Score=%{x}<br>Generosity=%{y}<extra></extra>\", \"hovertext\": [\"Canada\", \"United States\"], \"legendgroup\": \"North America\", \"marker\": {\"color\": \"#EF553B\", \"line\": {\"color\": \"DarkSlateGrey\", \"width\": 1}, \"size\": 10, \"symbol\": \"circle\"}, \"mode\": \"markers\", \"name\": \"North America\", \"orientation\": \"v\", \"showlegend\": true, \"type\": \"scatter\", \"x\": [7.31599998474121, 6.993000030517581], \"xaxis\": \"x\", \"y\": [0.435539722442627, 0.392578780651093], \"yaxis\": \"y\"}, {\"hovertemplate\": \"<b>%{hovertext}</b><br><br>Region=Australia and New Zealand<br>Score=%{x}<br>Generosity=%{y}<extra></extra>\", \"hovertext\": [\"New Zealand\", \"Australia\"], \"legendgroup\": \"Australia and New Zealand\", \"marker\": {\"color\": \"#00cc96\", \"line\": {\"color\": \"DarkSlateGrey\", \"width\": 1}, \"size\": 10, \"symbol\": \"circle\"}, \"mode\": \"markers\", \"name\": \"Australia and New Zealand\", \"orientation\": \"v\", \"showlegend\": true, \"type\": \"scatter\", \"x\": [7.31400012969971, 7.28399991989136], \"xaxis\": \"x\", \"y\": [0.500005125999451, 0.47769924998283403], \"yaxis\": \"y\"}, {\"hovertemplate\": \"<b>%{hovertext}</b><br><br>Region=Middle East and Northern Africa<br>Score=%{x}<br>Generosity=%{y}<extra></extra>\", \"hovertext\": [\"Israel\", \"United Arab Emirates\", \"Qatar\", \"Saudi Arabia\", \"Kuwait\", \"Bahrain\", \"Algeria\", \"Libya\", \"Turkey\", \"Jordan\", \"Morocco\", \"Lebanon\", \"Tunisia\", \"Palestinian Territories\", \"Egypt\", \"Iran\", \"Iraq\", \"Yemen\", \"Syria\"], \"legendgroup\": \"Middle East and Northern Africa\", \"marker\": {\"color\": \"#ab63fa\", \"line\": {\"color\": \"DarkSlateGrey\", \"width\": 1}, \"size\": 10, \"symbol\": \"circle\"}, \"mode\": \"markers\", \"name\": \"Middle East and Northern Africa\", \"orientation\": \"v\", \"showlegend\": true, \"type\": \"scatter\", \"x\": [7.212999820709231, 6.6479997634887695, 6.375, 6.343999862670901, 6.10500001907349, 6.08699989318848, 5.872000217437741, 5.525000095367429, 5.5, 5.33599996566772, 5.2350001335144, 5.22499990463257, 4.80499982833862, 4.77500009536743, 4.7350001335144, 4.69199991226196, 4.49700021743774, 3.59299993515015, 3.46199989318848], \"xaxis\": \"x\", \"y\": [0.330082654953003, 0.3609419465065, 0.33047387003898604, 0.147616013884544, 0.228289797902107, 0.17266848683357197, 0.0694366469979286, 0.15207366645336198, 0.0466930419206619, 0.17217046022415197, 0.0322099551558495, 0.26445075869560203, 0.0496933571994305, 0.114173173904419, 0.128631442785263, 0.387242913246155, 0.19963726401329, 0.104125209152699, 0.49366372823715204], \"yaxis\": \"y\"}, {\"hovertemplate\": \"<b>%{hovertext}</b><br><br>Region=Latin America and Caribbean<br>Score=%{x}<br>Generosity=%{y}<extra></extra>\", \"hovertext\": [\"Costa Rica\", \"Chile\", \"Brazil\", \"Argentina\", \"Mexico\", \"Uruguay\", \"Guatemala\", \"Panama\", \"Colombia\", \"Trinidad and Tobago\", \"Nicaragua\", \"Ecuador\", \"El Salvador\", \"Bolivia\", \"Peru\", \"Paraguay\", \"Jamaica\", \"Venezuela\", \"Dominican Republic\", \"Honduras\", \"Haiti\"], \"legendgroup\": \"Latin America and Caribbean\", \"marker\": {\"color\": \"#FFA15A\", \"line\": {\"color\": \"DarkSlateGrey\", \"width\": 1}, \"size\": 10, \"symbol\": \"circle\"}, \"mode\": \"markers\", \"name\": \"Latin America and Caribbean\", \"orientation\": \"v\", \"showlegend\": true, \"type\": \"scatter\", \"x\": [7.0789999961853, 6.65199995040894, 6.6350002288818395, 6.59899997711182, 6.57800006866455, 6.4539999961853, 6.4539999961853, 6.4520001411438, 6.35699987411499, 6.1680002212524405, 6.07100009918213, 6.00799989700317, 6.002999782562259, 5.82299995422363, 5.71500015258789, 5.493000030517581, 5.31099987030029, 5.25, 5.230000019073491, 5.1810002326965305, 3.6029999256133998], \"xaxis\": \"x\", \"y\": [0.21461322903633104, 0.3266624212265011, 0.16234989464282998, 0.109457060694695, 0.12099043279886199, 0.175096929073334, 0.283488392829895, 0.21055693924427, 0.14901447296142598, 0.32529646158218395, 0.301674216985703, 0.15011246502399403, 0.0782579854130745, 0.22556072473526, 0.126819714903831, 0.224150657653809, 0.23381833732128102, 0.0650196298956871, 0.186967849731445, 0.23618887364864302, 0.48920378088951094], \"yaxis\": \"y\"}, {\"hovertemplate\": \"<b>%{hovertext}</b><br><br>Region=Asia<br>Score=%{x}<br>Generosity=%{y}<extra></extra>\", \"hovertext\": [\"Singapore\", \"Thailand\", \"Malaysia\", \"Japan\", \"South Korea\", \"Philippines\", \"China\", \"Pakistan\", \"Indonesia\", \"Vietnam\", \"Bhutan\", \"Nepal\", \"Mongolia\", \"Bangladesh\", \"Myanmar\", \"Sri Lanka\", \"India\", \"Cambodia\", \"Afghanistan\"], \"legendgroup\": \"Asia\", \"marker\": {\"color\": \"#19d3f3\", \"line\": {\"color\": \"DarkSlateGrey\", \"width\": 1}, \"size\": 10, \"symbol\": \"circle\"}, \"mode\": \"markers\", \"name\": \"Asia\", \"orientation\": \"v\", \"showlegend\": true, \"type\": \"scatter\", \"x\": [6.57200002670288, 6.4239997863769505, 6.08400011062622, 5.92000007629395, 5.837999820709231, 5.42999982833862, 5.2729997634887695, 5.26900005340576, 5.26200008392334, 5.07399988174438, 5.01100015640259, 4.961999893188481, 4.95499992370605, 4.60799980163574, 4.54500007629395, 4.44000005722046, 4.31500005722046, 4.1680002212524405, 3.7939999103546103], \"xaxis\": \"x\", \"y\": [0.345965981483459, 0.572123110294342, 0.416608929634094, 0.12057276815175999, 0.206674367189407, 0.193513423204422, 0.0288068410009146, 0.31544601917266807, 0.611704587936401, 0.23496805131435397, 0.474054545164108, 0.39409616589546204, 0.338464230298996, 0.17225535213947304, 0.8380751609802249, 0.49086356163024897, 0.23153848946094502, 0.385922968387604, 0.311870932579041], \"yaxis\": \"y\"}, {\"hovertemplate\": \"<b>%{hovertext}</b><br><br>Region=Sub-Saharan Africa<br>Score=%{x}<br>Generosity=%{y}<extra></extra>\", \"hovertext\": [\"Mauritius\", \"Nigeria\", \"South Africa\", \"Sierra Leone\", \"Cameroon\", \"Kenya\", \"Mozambique\", \"Senegal\", \"Zambia\", \"Gabon\", \"Ethiopia\", \"Mauritania\", \"Congo (Brazzaville)\", \"Congo (Kinshasa)\", \"Mali\", \"Ivory Coast\", \"Sudan\", \"Ghana\", \"Uganda\", \"Burkina Faso\", \"Niger\", \"Malawi\", \"Chad\", \"Zimbabwe\", \"Lesotho\", \"Angola\", \"Botswana\", \"Benin\", \"Madagascar\", \"Liberia\", \"Guinea\", \"Togo\", \"Rwanda\", \"Tanzania\", \"Burundi\", \"Central African Republic\"], \"legendgroup\": \"Sub-Saharan Africa\", \"marker\": {\"color\": \"#FF6692\", \"line\": {\"color\": \"DarkSlateGrey\", \"width\": 1}, \"size\": 10, \"symbol\": \"circle\"}, \"mode\": \"markers\", \"name\": \"Sub-Saharan Africa\", \"orientation\": \"v\", \"showlegend\": true, \"type\": \"scatter\", \"x\": [5.62900018692017, 5.07399988174438, 4.8289999961853, 4.70900011062622, 4.69500017166138, 4.55299997329712, 4.550000190734861, 4.53499984741211, 4.513999938964839, 4.46500015258789, 4.46000003814697, 4.29199981689453, 4.29099988937378, 4.2800002098083505, 4.19000005722046, 4.17999982833862, 4.138999938964839, 4.11999988555908, 4.08099985122681, 4.03200006484985, 4.02799987792969, 3.97000002861023, 3.9360001087188703, 3.875, 3.80800008773804, 3.79500007629395, 3.7660000324249303, 3.65700006484985, 3.64400005340576, 3.5329999923706095, 3.50699996948242, 3.4949998855590803, 3.47099995613098, 3.34899997711182, 2.90499997138977, 2.69300007820129], \"xaxis\": \"x\", \"y\": [0.360933750867844, 0.23094719648361198, 0.13936237990856198, 0.293040901422501, 0.23629845678806302, 0.444860309362411, 0.322228103876114, 0.183468893170357, 0.249580144882202, 0.0437853783369064, 0.31265074014663696, 0.201870024204254, 0.12085212767124198, 0.246455833315849, 0.183354198932648, 0.201237469911575, 0.182317450642586, 0.25692394375801103, 0.32576605677604703, 0.250864684581757, 0.22867384552955602, 0.28717046976089505, 0.21611385047435802, 0.189143493771553, 0.157497271895409, 0.09792649000883098, 0.0993484482169151, 0.207948461174965, 0.208732530474663, 0.26654988527298, 0.264815092086792, 0.19689615070819896, 0.25275602936744695, 0.354256361722946, 0.20443518459796897, 0.280876487493515], \"yaxis\": \"y\"}],                        {\"height\": 600, \"legend\": {\"title\": {\"text\": \"Region\"}, \"tracegroupgap\": 0}, \"template\": {\"data\": {\"bar\": [{\"error_x\": {\"color\": \"#2a3f5f\"}, \"error_y\": {\"color\": \"#2a3f5f\"}, \"marker\": {\"line\": {\"color\": \"#E5ECF6\", \"width\": 0.5}}, \"type\": \"bar\"}], \"barpolar\": [{\"marker\": {\"line\": {\"color\": \"#E5ECF6\", \"width\": 0.5}}, \"type\": \"barpolar\"}], \"carpet\": [{\"aaxis\": {\"endlinecolor\": \"#2a3f5f\", \"gridcolor\": \"white\", \"linecolor\": \"white\", \"minorgridcolor\": \"white\", \"startlinecolor\": \"#2a3f5f\"}, \"baxis\": {\"endlinecolor\": \"#2a3f5f\", \"gridcolor\": \"white\", \"linecolor\": \"white\", \"minorgridcolor\": \"white\", \"startlinecolor\": \"#2a3f5f\"}, \"type\": \"carpet\"}], \"choropleth\": [{\"colorbar\": {\"outlinewidth\": 0, \"ticks\": \"\"}, \"type\": \"choropleth\"}], \"contour\": [{\"colorbar\": {\"outlinewidth\": 0, \"ticks\": \"\"}, \"colorscale\": [[0.0, \"#0d0887\"], [0.1111111111111111, \"#46039f\"], [0.2222222222222222, \"#7201a8\"], [0.3333333333333333, \"#9c179e\"], [0.4444444444444444, \"#bd3786\"], [0.5555555555555556, \"#d8576b\"], [0.6666666666666666, \"#ed7953\"], [0.7777777777777778, \"#fb9f3a\"], [0.8888888888888888, \"#fdca26\"], [1.0, \"#f0f921\"]], \"type\": \"contour\"}], \"contourcarpet\": [{\"colorbar\": {\"outlinewidth\": 0, \"ticks\": \"\"}, \"type\": \"contourcarpet\"}], \"heatmap\": [{\"colorbar\": {\"outlinewidth\": 0, \"ticks\": \"\"}, \"colorscale\": [[0.0, \"#0d0887\"], [0.1111111111111111, \"#46039f\"], [0.2222222222222222, \"#7201a8\"], [0.3333333333333333, \"#9c179e\"], [0.4444444444444444, \"#bd3786\"], [0.5555555555555556, \"#d8576b\"], [0.6666666666666666, \"#ed7953\"], [0.7777777777777778, \"#fb9f3a\"], [0.8888888888888888, \"#fdca26\"], [1.0, \"#f0f921\"]], \"type\": \"heatmap\"}], \"heatmapgl\": [{\"colorbar\": {\"outlinewidth\": 0, \"ticks\": \"\"}, \"colorscale\": [[0.0, \"#0d0887\"], [0.1111111111111111, \"#46039f\"], [0.2222222222222222, \"#7201a8\"], [0.3333333333333333, \"#9c179e\"], [0.4444444444444444, \"#bd3786\"], [0.5555555555555556, \"#d8576b\"], [0.6666666666666666, \"#ed7953\"], [0.7777777777777778, \"#fb9f3a\"], [0.8888888888888888, \"#fdca26\"], [1.0, \"#f0f921\"]], \"type\": \"heatmapgl\"}], \"histogram\": [{\"marker\": {\"colorbar\": {\"outlinewidth\": 0, \"ticks\": \"\"}}, \"type\": \"histogram\"}], \"histogram2d\": [{\"colorbar\": {\"outlinewidth\": 0, \"ticks\": \"\"}, \"colorscale\": [[0.0, \"#0d0887\"], [0.1111111111111111, \"#46039f\"], [0.2222222222222222, \"#7201a8\"], [0.3333333333333333, \"#9c179e\"], [0.4444444444444444, \"#bd3786\"], [0.5555555555555556, \"#d8576b\"], [0.6666666666666666, \"#ed7953\"], [0.7777777777777778, \"#fb9f3a\"], [0.8888888888888888, \"#fdca26\"], [1.0, \"#f0f921\"]], \"type\": \"histogram2d\"}], \"histogram2dcontour\": [{\"colorbar\": {\"outlinewidth\": 0, \"ticks\": \"\"}, \"colorscale\": [[0.0, \"#0d0887\"], [0.1111111111111111, \"#46039f\"], [0.2222222222222222, \"#7201a8\"], [0.3333333333333333, \"#9c179e\"], [0.4444444444444444, \"#bd3786\"], [0.5555555555555556, \"#d8576b\"], [0.6666666666666666, \"#ed7953\"], [0.7777777777777778, \"#fb9f3a\"], [0.8888888888888888, \"#fdca26\"], [1.0, \"#f0f921\"]], \"type\": \"histogram2dcontour\"}], \"mesh3d\": [{\"colorbar\": {\"outlinewidth\": 0, \"ticks\": \"\"}, \"type\": \"mesh3d\"}], \"parcoords\": [{\"line\": {\"colorbar\": {\"outlinewidth\": 0, \"ticks\": \"\"}}, \"type\": \"parcoords\"}], \"pie\": [{\"automargin\": true, \"type\": \"pie\"}], \"scatter\": [{\"marker\": {\"colorbar\": {\"outlinewidth\": 0, \"ticks\": \"\"}}, \"type\": \"scatter\"}], \"scatter3d\": [{\"line\": {\"colorbar\": {\"outlinewidth\": 0, \"ticks\": \"\"}}, \"marker\": {\"colorbar\": {\"outlinewidth\": 0, \"ticks\": \"\"}}, \"type\": \"scatter3d\"}], \"scattercarpet\": [{\"marker\": {\"colorbar\": {\"outlinewidth\": 0, \"ticks\": \"\"}}, \"type\": \"scattercarpet\"}], \"scattergeo\": [{\"marker\": {\"colorbar\": {\"outlinewidth\": 0, \"ticks\": \"\"}}, \"type\": \"scattergeo\"}], \"scattergl\": [{\"marker\": {\"colorbar\": {\"outlinewidth\": 0, \"ticks\": \"\"}}, \"type\": \"scattergl\"}], \"scattermapbox\": [{\"marker\": {\"colorbar\": {\"outlinewidth\": 0, \"ticks\": \"\"}}, \"type\": \"scattermapbox\"}], \"scatterpolar\": [{\"marker\": {\"colorbar\": {\"outlinewidth\": 0, \"ticks\": \"\"}}, \"type\": \"scatterpolar\"}], \"scatterpolargl\": [{\"marker\": {\"colorbar\": {\"outlinewidth\": 0, \"ticks\": \"\"}}, \"type\": \"scatterpolargl\"}], \"scatterternary\": [{\"marker\": {\"colorbar\": {\"outlinewidth\": 0, \"ticks\": \"\"}}, \"type\": \"scatterternary\"}], \"surface\": [{\"colorbar\": {\"outlinewidth\": 0, \"ticks\": \"\"}, \"colorscale\": [[0.0, \"#0d0887\"], [0.1111111111111111, \"#46039f\"], [0.2222222222222222, \"#7201a8\"], [0.3333333333333333, \"#9c179e\"], [0.4444444444444444, \"#bd3786\"], [0.5555555555555556, \"#d8576b\"], [0.6666666666666666, \"#ed7953\"], [0.7777777777777778, \"#fb9f3a\"], [0.8888888888888888, \"#fdca26\"], [1.0, \"#f0f921\"]], \"type\": \"surface\"}], \"table\": [{\"cells\": {\"fill\": {\"color\": \"#EBF0F8\"}, \"line\": {\"color\": \"white\"}}, \"header\": {\"fill\": {\"color\": \"#C8D4E3\"}, \"line\": {\"color\": \"white\"}}, \"type\": \"table\"}]}, \"layout\": {\"annotationdefaults\": {\"arrowcolor\": \"#2a3f5f\", \"arrowhead\": 0, \"arrowwidth\": 1}, \"autotypenumbers\": \"strict\", \"coloraxis\": {\"colorbar\": {\"outlinewidth\": 0, \"ticks\": \"\"}}, \"colorscale\": {\"diverging\": [[0, \"#8e0152\"], [0.1, \"#c51b7d\"], [0.2, \"#de77ae\"], [0.3, \"#f1b6da\"], [0.4, \"#fde0ef\"], [0.5, \"#f7f7f7\"], [0.6, \"#e6f5d0\"], [0.7, \"#b8e186\"], [0.8, \"#7fbc41\"], [0.9, \"#4d9221\"], [1, \"#276419\"]], \"sequential\": [[0.0, \"#0d0887\"], [0.1111111111111111, \"#46039f\"], [0.2222222222222222, \"#7201a8\"], [0.3333333333333333, \"#9c179e\"], [0.4444444444444444, \"#bd3786\"], [0.5555555555555556, \"#d8576b\"], [0.6666666666666666, \"#ed7953\"], [0.7777777777777778, \"#fb9f3a\"], [0.8888888888888888, \"#fdca26\"], [1.0, \"#f0f921\"]], \"sequentialminus\": [[0.0, \"#0d0887\"], [0.1111111111111111, \"#46039f\"], [0.2222222222222222, \"#7201a8\"], [0.3333333333333333, \"#9c179e\"], [0.4444444444444444, \"#bd3786\"], [0.5555555555555556, \"#d8576b\"], [0.6666666666666666, \"#ed7953\"], [0.7777777777777778, \"#fb9f3a\"], [0.8888888888888888, \"#fdca26\"], [1.0, \"#f0f921\"]]}, \"colorway\": [\"#636efa\", \"#EF553B\", \"#00cc96\", \"#ab63fa\", \"#FFA15A\", \"#19d3f3\", \"#FF6692\", \"#B6E880\", \"#FF97FF\", \"#FECB52\"], \"font\": {\"color\": \"#2a3f5f\"}, \"geo\": {\"bgcolor\": \"white\", \"lakecolor\": \"white\", \"landcolor\": \"#E5ECF6\", \"showlakes\": true, \"showland\": true, \"subunitcolor\": \"white\"}, \"hoverlabel\": {\"align\": \"left\"}, \"hovermode\": \"closest\", \"mapbox\": {\"style\": \"light\"}, \"paper_bgcolor\": \"white\", \"plot_bgcolor\": \"#E5ECF6\", \"polar\": {\"angularaxis\": {\"gridcolor\": \"white\", \"linecolor\": \"white\", \"ticks\": \"\"}, \"bgcolor\": \"#E5ECF6\", \"radialaxis\": {\"gridcolor\": \"white\", \"linecolor\": \"white\", \"ticks\": \"\"}}, \"scene\": {\"xaxis\": {\"backgroundcolor\": \"#E5ECF6\", \"gridcolor\": \"white\", \"gridwidth\": 2, \"linecolor\": \"white\", \"showbackground\": true, \"ticks\": \"\", \"zerolinecolor\": \"white\"}, \"yaxis\": {\"backgroundcolor\": \"#E5ECF6\", \"gridcolor\": \"white\", \"gridwidth\": 2, \"linecolor\": \"white\", \"showbackground\": true, \"ticks\": \"\", \"zerolinecolor\": \"white\"}, \"zaxis\": {\"backgroundcolor\": \"#E5ECF6\", \"gridcolor\": \"white\", \"gridwidth\": 2, \"linecolor\": \"white\", \"showbackground\": true, \"ticks\": \"\", \"zerolinecolor\": \"white\"}}, \"shapedefaults\": {\"line\": {\"color\": \"#2a3f5f\"}}, \"ternary\": {\"aaxis\": {\"gridcolor\": \"white\", \"linecolor\": \"white\", \"ticks\": \"\"}, \"baxis\": {\"gridcolor\": \"white\", \"linecolor\": \"white\", \"ticks\": \"\"}, \"bgcolor\": \"#E5ECF6\", \"caxis\": {\"gridcolor\": \"white\", \"linecolor\": \"white\", \"ticks\": \"\"}}, \"title\": {\"x\": 0.05}, \"xaxis\": {\"automargin\": true, \"gridcolor\": \"white\", \"linecolor\": \"white\", \"ticks\": \"\", \"title\": {\"standoff\": 15}, \"zerolinecolor\": \"white\", \"zerolinewidth\": 2}, \"yaxis\": {\"automargin\": true, \"gridcolor\": \"white\", \"linecolor\": \"white\", \"ticks\": \"\", \"title\": {\"standoff\": 15}, \"zerolinecolor\": \"white\", \"zerolinewidth\": 2}}}, \"title\": {\"text\": \"Happiness Score compared to Generosity Score\"}, \"width\": 1000, \"xaxis\": {\"anchor\": \"y\", \"domain\": [0.0, 1.0], \"range\": [0, 8], \"title\": {\"text\": \"Happiness Score\"}}, \"yaxis\": {\"anchor\": \"x\", \"domain\": [0.0, 1.0], \"title\": {\"text\": \"Generosity Score\"}}},                        {\"responsive\": true}                    ).then(function(){\n",
       "                            \n",
       "var gd = document.getElementById('42037796-96a5-4a54-aef6-5220f8e84c61');\n",
       "var x = new MutationObserver(function (mutations, observer) {{\n",
       "        var display = window.getComputedStyle(gd).display;\n",
       "        if (!display || display === 'none') {{\n",
       "            console.log([gd, 'removed!']);\n",
       "            Plotly.purge(gd);\n",
       "            observer.disconnect();\n",
       "        }}\n",
       "}});\n",
       "\n",
       "// Listen for the removal of the full notebook cells\n",
       "var notebookContainer = gd.closest('#notebook-container');\n",
       "if (notebookContainer) {{\n",
       "    x.observe(notebookContainer, {childList: true});\n",
       "}}\n",
       "\n",
       "// Listen for the clearing of the current output cell\n",
       "var outputEl = gd.closest('.output');\n",
       "if (outputEl) {{\n",
       "    x.observe(outputEl, {childList: true});\n",
       "}}\n",
       "\n",
       "                        })                };                });            </script>        </div>"
      ]
     },
     "metadata": {},
     "output_type": "display_data"
    }
   ],
   "source": [
    "#happiness score vs generosity\n",
    "\n",
    "#establish x and y values\n",
    "x_values = merged_2017[\"Score\"]\n",
    "y_values = merged_2017[\"Generosity\"]\n",
    "\n",
    "#px.scatter\n",
    "fig = px.scatter(merged_2017, x_values, y_values, color=\"Region\", hover_name=\"Country or region\",\n",
    "                range_x=[0,8], title=\"Happiness Score compared to Generosity Score\",\n",
    "                width= 1000, height =600) # use trendline=\"ols\" to see all lin reg equations\n",
    "\n",
    "#set axes labels\n",
    "fig.update_xaxes(title_text='Happiness Score')\n",
    "fig.update_yaxes(title_text='Generosity Score')\n",
    "\n",
    "\n",
    "#formatting\n",
    "#marker size and colors\n",
    "fig.update_traces(marker=dict(size=10,\n",
    "                              line=dict(width=1, \n",
    "                                        color='DarkSlateGrey')))\n",
    "\n",
    "#linear regression\n",
    "#use linregress from dependencies to inplement linear regression\n",
    "(slope, intercept, rvalue, pvalue, stderr) = linregress(x_values, y_values)\n",
    "regress_values = x_values * slope + intercept\n",
    "\n",
    "#print out all variables calculated above (rvalue, pvalue...)\n",
    "print(f\"slope:{round(slope, 2)}\")\n",
    "print(f\"intercept:{round(intercept,2)}\")\n",
    "res = sts.linregress(x_values, y_values)\n",
    "print(f\"R-squared: {res.rvalue**2:.4f}\")\n",
    "\n",
    "\n",
    "#print out line eq for reference\n",
    "line_eq = (f\"y={round(slope, 2)}x + {round(intercept, 2)}\")\n",
    "print(line_eq)\n",
    "\n",
    "fig.show()"
   ]
  },
  {
   "cell_type": "code",
   "execution_count": 17,
   "metadata": {},
   "outputs": [
    {
     "name": "stdout",
     "output_type": "stream",
     "text": [
      "slope:0.04\n",
      "intercept:-0.09\n",
      "R-squared: 0.1996\n",
      "y=0.04x + -0.09\n"
     ]
    },
    {
     "data": {
      "application/vnd.plotly.v1+json": {
       "config": {
        "plotlyServerURL": "https://plot.ly"
       },
       "data": [
        {
         "hovertemplate": "<b>%{hovertext}</b><br><br>Region=Europe<br>Score=%{x}<br>Perceptions of corruption=%{y}<extra></extra>",
         "hovertext": [
          "Norway",
          "Denmark",
          "Iceland",
          "Switzerland",
          "Finland",
          "Netherlands",
          "Sweden",
          "Austria",
          "Ireland",
          "Germany",
          "Belgium",
          "Luxembourg",
          "United Kingdom",
          "Czech Republic",
          "Malta",
          "France",
          "Spain",
          "Slovakia",
          "Poland",
          "Uzbekistan",
          "Italy",
          "Russia",
          "Lithuania",
          "Latvia",
          "Moldova",
          "Romania",
          "Turkmenistan",
          "Kazakhstan",
          "North Cyprus",
          "Slovenia",
          "Cyprus",
          "Estonia",
          "Belarus",
          "Serbia",
          "Hungary",
          "Croatia",
          "Kosovo",
          "Montenegro",
          "Azerbaijan",
          "Greece",
          "Portugal",
          "Bosnia and Herzegovina",
          "Macedonia",
          "Tajikistan",
          "Kyrgyzstan",
          "Bulgaria",
          "Albania",
          "Armenia",
          "Georgia",
          "Ukraine"
         ],
         "legendgroup": "Europe",
         "marker": {
          "color": "#636efa",
          "line": {
           "color": "DarkSlateGrey",
           "width": 1
          },
          "size": 10,
          "symbol": "circle"
         },
         "mode": "markers",
         "name": "Europe",
         "orientation": "v",
         "showlegend": true,
         "type": "scatter",
         "x": [
          7.537000179290769,
          7.52199983596802,
          7.50400018692017,
          7.49399995803833,
          7.468999862670901,
          7.3769998550415,
          7.28399991989136,
          7.00600004196167,
          6.9770002365112305,
          6.9510002136230495,
          6.89099979400635,
          6.86299991607666,
          6.71400022506714,
          6.60900020599365,
          6.52699995040894,
          6.44199991226196,
          6.40299987792969,
          6.09800004959106,
          5.97300004959106,
          5.97100019454956,
          5.96400022506714,
          5.962999820709231,
          5.90199995040894,
          5.849999904632571,
          5.837999820709231,
          5.824999809265139,
          5.82200002670288,
          5.8189997673034695,
          5.80999994277954,
          5.75799989700317,
          5.62099981307983,
          5.61100006103516,
          5.5689997673034695,
          5.39499998092651,
          5.32399988174438,
          5.2930002212524405,
          5.27899980545044,
          5.23699998855591,
          5.234000205993651,
          5.2270002365112305,
          5.19500017166138,
          5.18200016021729,
          5.175000190734861,
          5.04099988937378,
          5.0040001869201705,
          4.71400022506714,
          4.64400005340576,
          4.37599992752075,
          4.28599977493286,
          4.09600019454956
         ],
         "xaxis": "x",
         "y": [
          0.31596383452415505,
          0.40077006816863997,
          0.15352655947208402,
          0.36700728535652205,
          0.38261154294014,
          0.282661825418472,
          0.384398728609085,
          0.22106036543846105,
          0.29838815331459007,
          0.276731938123703,
          0.251343131065369,
          0.31883442401886,
          0.265428066253662,
          0.0368729270994663,
          0.153066068887711,
          0.172502428293228,
          0.0709140971302986,
          0.0242108516395092,
          0.0593078061938286,
          0.246528223156929,
          0.0280280914157629,
          0.0329628810286522,
          0.0118656428530812,
          0.0738427266478539,
          0.0100912861526012,
          0.0043879006989300294,
          0.25927034020423895,
          0.11928288638591802,
          0.155353352427483,
          0.0451289787888527,
          0.0412379764020443,
          0.18324892222881303,
          0.156313821673393,
          0.0409037806093693,
          0.0366369374096394,
          0.0431031100451946,
          0.0574716180562973,
          0.0881741940975189,
          0.180987507104874,
          0.043289776891470004,
          0.0158694516867399,
          0,
          0.0602777935564518,
          0.14637714624404902,
          0.0394391790032387,
          0.0110515309497714,
          0.0398642159998417,
          0.0266744215041399,
          0.25166663527488703,
          0.0230294708162546
         ],
         "yaxis": "y"
        },
        {
         "hovertemplate": "<b>%{hovertext}</b><br><br>Region=North America<br>Score=%{x}<br>Perceptions of corruption=%{y}<extra></extra>",
         "hovertext": [
          "Canada",
          "United States"
         ],
         "legendgroup": "North America",
         "marker": {
          "color": "#EF553B",
          "line": {
           "color": "DarkSlateGrey",
           "width": 1
          },
          "size": 10,
          "symbol": "circle"
         },
         "mode": "markers",
         "name": "North America",
         "orientation": "v",
         "showlegend": true,
         "type": "scatter",
         "x": [
          7.31599998474121,
          6.993000030517581
         ],
         "xaxis": "x",
         "y": [
          0.287371516227722,
          0.135638788342476
         ],
         "yaxis": "y"
        },
        {
         "hovertemplate": "<b>%{hovertext}</b><br><br>Region=Australia and New Zealand<br>Score=%{x}<br>Perceptions of corruption=%{y}<extra></extra>",
         "hovertext": [
          "New Zealand",
          "Australia"
         ],
         "legendgroup": "Australia and New Zealand",
         "marker": {
          "color": "#00cc96",
          "line": {
           "color": "DarkSlateGrey",
           "width": 1
          },
          "size": 10,
          "symbol": "circle"
         },
         "mode": "markers",
         "name": "Australia and New Zealand",
         "orientation": "v",
         "showlegend": true,
         "type": "scatter",
         "x": [
          7.31400012969971,
          7.28399991989136
         ],
         "xaxis": "x",
         "y": [
          0.38281670212745705,
          0.301183730363846
         ],
         "yaxis": "y"
        },
        {
         "hovertemplate": "<b>%{hovertext}</b><br><br>Region=Middle East and Northern Africa<br>Score=%{x}<br>Perceptions of corruption=%{y}<extra></extra>",
         "hovertext": [
          "Israel",
          "United Arab Emirates",
          "Qatar",
          "Saudi Arabia",
          "Kuwait",
          "Bahrain",
          "Algeria",
          "Libya",
          "Turkey",
          "Jordan",
          "Morocco",
          "Lebanon",
          "Tunisia",
          "Palestinian Territories",
          "Egypt",
          "Iran",
          "Iraq",
          "Yemen",
          "Syria"
         ],
         "legendgroup": "Middle East and Northern Africa",
         "marker": {
          "color": "#ab63fa",
          "line": {
           "color": "DarkSlateGrey",
           "width": 1
          },
          "size": 10,
          "symbol": "circle"
         },
         "mode": "markers",
         "name": "Middle East and Northern Africa",
         "orientation": "v",
         "showlegend": true,
         "type": "scatter",
         "x": [
          7.212999820709231,
          6.6479997634887695,
          6.375,
          6.343999862670901,
          6.10500001907349,
          6.08699989318848,
          5.872000217437741,
          5.525000095367429,
          5.5,
          5.33599996566772,
          5.2350001335144,
          5.22499990463257,
          4.80499982833862,
          4.77500009536743,
          4.7350001335144,
          4.69199991226196,
          4.49700021743774,
          3.59299993515015,
          3.46199989318848
         ],
         "xaxis": "x",
         "y": [
          0.0852421000599861,
          0.324489563703537,
          0.43929925560951205,
          0.27343225479126004,
          0.21515955030918102,
          0.257042169570923,
          0.14609611034393302,
          0.0926102101802826,
          0.0996715798974037,
          0.11980327218771002,
          0.0877631828188896,
          0.037513829767704,
          0.0867231488227844,
          0.0892826020717621,
          0.114381365478039,
          0.048761073499918005,
          0.10721575468778599,
          0.0567674227058887,
          0.15134713053703303
         ],
         "yaxis": "y"
        },
        {
         "hovertemplate": "<b>%{hovertext}</b><br><br>Region=Latin America and Caribbean<br>Score=%{x}<br>Perceptions of corruption=%{y}<extra></extra>",
         "hovertext": [
          "Costa Rica",
          "Chile",
          "Brazil",
          "Argentina",
          "Mexico",
          "Uruguay",
          "Guatemala",
          "Panama",
          "Colombia",
          "Trinidad and Tobago",
          "Nicaragua",
          "Ecuador",
          "El Salvador",
          "Bolivia",
          "Peru",
          "Paraguay",
          "Jamaica",
          "Venezuela",
          "Dominican Republic",
          "Honduras",
          "Haiti"
         ],
         "legendgroup": "Latin America and Caribbean",
         "marker": {
          "color": "#FFA15A",
          "line": {
           "color": "DarkSlateGrey",
           "width": 1
          },
          "size": 10,
          "symbol": "circle"
         },
         "mode": "markers",
         "name": "Latin America and Caribbean",
         "orientation": "v",
         "showlegend": true,
         "type": "scatter",
         "x": [
          7.0789999961853,
          6.65199995040894,
          6.6350002288818395,
          6.59899997711182,
          6.57800006866455,
          6.4539999961853,
          6.4539999961853,
          6.4520001411438,
          6.35699987411499,
          6.1680002212524405,
          6.07100009918213,
          6.00799989700317,
          6.002999782562259,
          5.82299995422363,
          5.71500015258789,
          5.493000030517581,
          5.31099987030029,
          5.25,
          5.230000019073491,
          5.1810002326965305,
          3.6029999256133998
         ],
         "xaxis": "x",
         "y": [
          0.100106589496136,
          0.0822879821062088,
          0.11109276115894301,
          0.05973988771438599,
          0.132774114608765,
          0.17806187272071802,
          0.0772232785820961,
          0.070983923971653,
          0.0466687418520451,
          0.00896481610834599,
          0.130687981843948,
          0.140134647488594,
          0.0899809598922729,
          0.0604777261614799,
          0.0470490865409374,
          0.091065913438797,
          0.0552677810192108,
          0.0644911229610443,
          0.113945253193378,
          0.0733454525470734,
          0.0998721495270729
         ],
         "yaxis": "y"
        },
        {
         "hovertemplate": "<b>%{hovertext}</b><br><br>Region=Asia<br>Score=%{x}<br>Perceptions of corruption=%{y}<extra></extra>",
         "hovertext": [
          "Singapore",
          "Thailand",
          "Malaysia",
          "Japan",
          "South Korea",
          "Philippines",
          "China",
          "Pakistan",
          "Indonesia",
          "Vietnam",
          "Bhutan",
          "Nepal",
          "Mongolia",
          "Bangladesh",
          "Myanmar",
          "Sri Lanka",
          "India",
          "Cambodia",
          "Afghanistan"
         ],
         "legendgroup": "Asia",
         "marker": {
          "color": "#19d3f3",
          "line": {
           "color": "DarkSlateGrey",
           "width": 1
          },
          "size": 10,
          "symbol": "circle"
         },
         "mode": "markers",
         "name": "Asia",
         "orientation": "v",
         "showlegend": true,
         "type": "scatter",
         "x": [
          6.57200002670288,
          6.4239997863769505,
          6.08400011062622,
          5.92000007629395,
          5.837999820709231,
          5.42999982833862,
          5.2729997634887695,
          5.26900005340576,
          5.26200008392334,
          5.07399988174438,
          5.01100015640259,
          4.961999893188481,
          4.95499992370605,
          4.60799980163574,
          4.54500007629395,
          4.44000005722046,
          4.31500005722046,
          4.1680002212524405,
          3.7939999103546103
         ],
         "xaxis": "x",
         "y": [
          0.46430778503417997,
          0.0316127352416515,
          0.0656007081270218,
          0.163760736584663,
          0.0632826685905457,
          0.0993318930268288,
          0.0227942746132612,
          0.12434806674718901,
          0.0153171354904771,
          0.0876332372426987,
          0.17338038980960802,
          0.0729755461215973,
          0.0329022891819477,
          0.123717859387398,
          0.188816204667091,
          0.0736539661884308,
          0.0922268852591515,
          0.0681059509515762,
          0.0611578300595284
         ],
         "yaxis": "y"
        },
        {
         "hovertemplate": "<b>%{hovertext}</b><br><br>Region=Sub-Saharan Africa<br>Score=%{x}<br>Perceptions of corruption=%{y}<extra></extra>",
         "hovertext": [
          "Mauritius",
          "Nigeria",
          "South Africa",
          "Sierra Leone",
          "Cameroon",
          "Kenya",
          "Mozambique",
          "Senegal",
          "Zambia",
          "Gabon",
          "Ethiopia",
          "Mauritania",
          "Congo (Brazzaville)",
          "Congo (Kinshasa)",
          "Mali",
          "Ivory Coast",
          "Sudan",
          "Ghana",
          "Uganda",
          "Burkina Faso",
          "Niger",
          "Malawi",
          "Chad",
          "Zimbabwe",
          "Lesotho",
          "Angola",
          "Botswana",
          "Benin",
          "Madagascar",
          "Liberia",
          "Guinea",
          "Togo",
          "Rwanda",
          "Tanzania",
          "Burundi",
          "Central African Republic"
         ],
         "legendgroup": "Sub-Saharan Africa",
         "marker": {
          "color": "#FF6692",
          "line": {
           "color": "DarkSlateGrey",
           "width": 1
          },
          "size": 10,
          "symbol": "circle"
         },
         "mode": "markers",
         "name": "Sub-Saharan Africa",
         "orientation": "v",
         "showlegend": true,
         "type": "scatter",
         "x": [
          5.62900018692017,
          5.07399988174438,
          4.8289999961853,
          4.70900011062622,
          4.69500017166138,
          4.55299997329712,
          4.550000190734861,
          4.53499984741211,
          4.513999938964839,
          4.46500015258789,
          4.46000003814697,
          4.29199981689453,
          4.29099988937378,
          4.2800002098083505,
          4.19000005722046,
          4.17999982833862,
          4.138999938964839,
          4.11999988555908,
          4.08099985122681,
          4.03200006484985,
          4.02799987792969,
          3.97000002861023,
          3.9360001087188703,
          3.875,
          3.80800008773804,
          3.79500007629395,
          3.7660000324249303,
          3.65700006484985,
          3.64400005340576,
          3.5329999923706095,
          3.50699996948242,
          3.4949998855590803,
          3.47099995613098,
          3.34899997711182,
          2.90499997138977,
          2.69300007820129
         ],
         "xaxis": "x",
         "y": [
          0.0421815551817417,
          0.0261215660721064,
          0.0725094974040985,
          0.0710951760411263,
          0.0513066314160824,
          0.0646413192152977,
          0.17943638563156103,
          0.11546044796705199,
          0.0782135501503944,
          0.0760467872023582,
          0.16545571386814098,
          0.136957004666328,
          0.0796181336045265,
          0.0602413564920425,
          0.10497024655342098,
          0.130061775445938,
          0.089847519993782,
          0.0253363698720932,
          0.057069718837738,
          0.12032810598611803,
          0.13857294619083402,
          0.0727116540074348,
          0.0535818822681904,
          0.0953753814101219,
          0.119094640016556,
          0.0697203353047371,
          0.0985831990838051,
          0.0609290152788162,
          0.0672319754958153,
          0.0389482490718365,
          0.110937617719173,
          0.0956650152802467,
          0.455220013856888,
          0.0660351067781448,
          0.0841479450464249,
          0.0565650761127472
         ],
         "yaxis": "y"
        }
       ],
       "layout": {
        "height": 600,
        "legend": {
         "title": {
          "text": "Region"
         },
         "tracegroupgap": 0
        },
        "template": {
         "data": {
          "bar": [
           {
            "error_x": {
             "color": "#2a3f5f"
            },
            "error_y": {
             "color": "#2a3f5f"
            },
            "marker": {
             "line": {
              "color": "#E5ECF6",
              "width": 0.5
             }
            },
            "type": "bar"
           }
          ],
          "barpolar": [
           {
            "marker": {
             "line": {
              "color": "#E5ECF6",
              "width": 0.5
             }
            },
            "type": "barpolar"
           }
          ],
          "carpet": [
           {
            "aaxis": {
             "endlinecolor": "#2a3f5f",
             "gridcolor": "white",
             "linecolor": "white",
             "minorgridcolor": "white",
             "startlinecolor": "#2a3f5f"
            },
            "baxis": {
             "endlinecolor": "#2a3f5f",
             "gridcolor": "white",
             "linecolor": "white",
             "minorgridcolor": "white",
             "startlinecolor": "#2a3f5f"
            },
            "type": "carpet"
           }
          ],
          "choropleth": [
           {
            "colorbar": {
             "outlinewidth": 0,
             "ticks": ""
            },
            "type": "choropleth"
           }
          ],
          "contour": [
           {
            "colorbar": {
             "outlinewidth": 0,
             "ticks": ""
            },
            "colorscale": [
             [
              0,
              "#0d0887"
             ],
             [
              0.1111111111111111,
              "#46039f"
             ],
             [
              0.2222222222222222,
              "#7201a8"
             ],
             [
              0.3333333333333333,
              "#9c179e"
             ],
             [
              0.4444444444444444,
              "#bd3786"
             ],
             [
              0.5555555555555556,
              "#d8576b"
             ],
             [
              0.6666666666666666,
              "#ed7953"
             ],
             [
              0.7777777777777778,
              "#fb9f3a"
             ],
             [
              0.8888888888888888,
              "#fdca26"
             ],
             [
              1,
              "#f0f921"
             ]
            ],
            "type": "contour"
           }
          ],
          "contourcarpet": [
           {
            "colorbar": {
             "outlinewidth": 0,
             "ticks": ""
            },
            "type": "contourcarpet"
           }
          ],
          "heatmap": [
           {
            "colorbar": {
             "outlinewidth": 0,
             "ticks": ""
            },
            "colorscale": [
             [
              0,
              "#0d0887"
             ],
             [
              0.1111111111111111,
              "#46039f"
             ],
             [
              0.2222222222222222,
              "#7201a8"
             ],
             [
              0.3333333333333333,
              "#9c179e"
             ],
             [
              0.4444444444444444,
              "#bd3786"
             ],
             [
              0.5555555555555556,
              "#d8576b"
             ],
             [
              0.6666666666666666,
              "#ed7953"
             ],
             [
              0.7777777777777778,
              "#fb9f3a"
             ],
             [
              0.8888888888888888,
              "#fdca26"
             ],
             [
              1,
              "#f0f921"
             ]
            ],
            "type": "heatmap"
           }
          ],
          "heatmapgl": [
           {
            "colorbar": {
             "outlinewidth": 0,
             "ticks": ""
            },
            "colorscale": [
             [
              0,
              "#0d0887"
             ],
             [
              0.1111111111111111,
              "#46039f"
             ],
             [
              0.2222222222222222,
              "#7201a8"
             ],
             [
              0.3333333333333333,
              "#9c179e"
             ],
             [
              0.4444444444444444,
              "#bd3786"
             ],
             [
              0.5555555555555556,
              "#d8576b"
             ],
             [
              0.6666666666666666,
              "#ed7953"
             ],
             [
              0.7777777777777778,
              "#fb9f3a"
             ],
             [
              0.8888888888888888,
              "#fdca26"
             ],
             [
              1,
              "#f0f921"
             ]
            ],
            "type": "heatmapgl"
           }
          ],
          "histogram": [
           {
            "marker": {
             "colorbar": {
              "outlinewidth": 0,
              "ticks": ""
             }
            },
            "type": "histogram"
           }
          ],
          "histogram2d": [
           {
            "colorbar": {
             "outlinewidth": 0,
             "ticks": ""
            },
            "colorscale": [
             [
              0,
              "#0d0887"
             ],
             [
              0.1111111111111111,
              "#46039f"
             ],
             [
              0.2222222222222222,
              "#7201a8"
             ],
             [
              0.3333333333333333,
              "#9c179e"
             ],
             [
              0.4444444444444444,
              "#bd3786"
             ],
             [
              0.5555555555555556,
              "#d8576b"
             ],
             [
              0.6666666666666666,
              "#ed7953"
             ],
             [
              0.7777777777777778,
              "#fb9f3a"
             ],
             [
              0.8888888888888888,
              "#fdca26"
             ],
             [
              1,
              "#f0f921"
             ]
            ],
            "type": "histogram2d"
           }
          ],
          "histogram2dcontour": [
           {
            "colorbar": {
             "outlinewidth": 0,
             "ticks": ""
            },
            "colorscale": [
             [
              0,
              "#0d0887"
             ],
             [
              0.1111111111111111,
              "#46039f"
             ],
             [
              0.2222222222222222,
              "#7201a8"
             ],
             [
              0.3333333333333333,
              "#9c179e"
             ],
             [
              0.4444444444444444,
              "#bd3786"
             ],
             [
              0.5555555555555556,
              "#d8576b"
             ],
             [
              0.6666666666666666,
              "#ed7953"
             ],
             [
              0.7777777777777778,
              "#fb9f3a"
             ],
             [
              0.8888888888888888,
              "#fdca26"
             ],
             [
              1,
              "#f0f921"
             ]
            ],
            "type": "histogram2dcontour"
           }
          ],
          "mesh3d": [
           {
            "colorbar": {
             "outlinewidth": 0,
             "ticks": ""
            },
            "type": "mesh3d"
           }
          ],
          "parcoords": [
           {
            "line": {
             "colorbar": {
              "outlinewidth": 0,
              "ticks": ""
             }
            },
            "type": "parcoords"
           }
          ],
          "pie": [
           {
            "automargin": true,
            "type": "pie"
           }
          ],
          "scatter": [
           {
            "marker": {
             "colorbar": {
              "outlinewidth": 0,
              "ticks": ""
             }
            },
            "type": "scatter"
           }
          ],
          "scatter3d": [
           {
            "line": {
             "colorbar": {
              "outlinewidth": 0,
              "ticks": ""
             }
            },
            "marker": {
             "colorbar": {
              "outlinewidth": 0,
              "ticks": ""
             }
            },
            "type": "scatter3d"
           }
          ],
          "scattercarpet": [
           {
            "marker": {
             "colorbar": {
              "outlinewidth": 0,
              "ticks": ""
             }
            },
            "type": "scattercarpet"
           }
          ],
          "scattergeo": [
           {
            "marker": {
             "colorbar": {
              "outlinewidth": 0,
              "ticks": ""
             }
            },
            "type": "scattergeo"
           }
          ],
          "scattergl": [
           {
            "marker": {
             "colorbar": {
              "outlinewidth": 0,
              "ticks": ""
             }
            },
            "type": "scattergl"
           }
          ],
          "scattermapbox": [
           {
            "marker": {
             "colorbar": {
              "outlinewidth": 0,
              "ticks": ""
             }
            },
            "type": "scattermapbox"
           }
          ],
          "scatterpolar": [
           {
            "marker": {
             "colorbar": {
              "outlinewidth": 0,
              "ticks": ""
             }
            },
            "type": "scatterpolar"
           }
          ],
          "scatterpolargl": [
           {
            "marker": {
             "colorbar": {
              "outlinewidth": 0,
              "ticks": ""
             }
            },
            "type": "scatterpolargl"
           }
          ],
          "scatterternary": [
           {
            "marker": {
             "colorbar": {
              "outlinewidth": 0,
              "ticks": ""
             }
            },
            "type": "scatterternary"
           }
          ],
          "surface": [
           {
            "colorbar": {
             "outlinewidth": 0,
             "ticks": ""
            },
            "colorscale": [
             [
              0,
              "#0d0887"
             ],
             [
              0.1111111111111111,
              "#46039f"
             ],
             [
              0.2222222222222222,
              "#7201a8"
             ],
             [
              0.3333333333333333,
              "#9c179e"
             ],
             [
              0.4444444444444444,
              "#bd3786"
             ],
             [
              0.5555555555555556,
              "#d8576b"
             ],
             [
              0.6666666666666666,
              "#ed7953"
             ],
             [
              0.7777777777777778,
              "#fb9f3a"
             ],
             [
              0.8888888888888888,
              "#fdca26"
             ],
             [
              1,
              "#f0f921"
             ]
            ],
            "type": "surface"
           }
          ],
          "table": [
           {
            "cells": {
             "fill": {
              "color": "#EBF0F8"
             },
             "line": {
              "color": "white"
             }
            },
            "header": {
             "fill": {
              "color": "#C8D4E3"
             },
             "line": {
              "color": "white"
             }
            },
            "type": "table"
           }
          ]
         },
         "layout": {
          "annotationdefaults": {
           "arrowcolor": "#2a3f5f",
           "arrowhead": 0,
           "arrowwidth": 1
          },
          "autotypenumbers": "strict",
          "coloraxis": {
           "colorbar": {
            "outlinewidth": 0,
            "ticks": ""
           }
          },
          "colorscale": {
           "diverging": [
            [
             0,
             "#8e0152"
            ],
            [
             0.1,
             "#c51b7d"
            ],
            [
             0.2,
             "#de77ae"
            ],
            [
             0.3,
             "#f1b6da"
            ],
            [
             0.4,
             "#fde0ef"
            ],
            [
             0.5,
             "#f7f7f7"
            ],
            [
             0.6,
             "#e6f5d0"
            ],
            [
             0.7,
             "#b8e186"
            ],
            [
             0.8,
             "#7fbc41"
            ],
            [
             0.9,
             "#4d9221"
            ],
            [
             1,
             "#276419"
            ]
           ],
           "sequential": [
            [
             0,
             "#0d0887"
            ],
            [
             0.1111111111111111,
             "#46039f"
            ],
            [
             0.2222222222222222,
             "#7201a8"
            ],
            [
             0.3333333333333333,
             "#9c179e"
            ],
            [
             0.4444444444444444,
             "#bd3786"
            ],
            [
             0.5555555555555556,
             "#d8576b"
            ],
            [
             0.6666666666666666,
             "#ed7953"
            ],
            [
             0.7777777777777778,
             "#fb9f3a"
            ],
            [
             0.8888888888888888,
             "#fdca26"
            ],
            [
             1,
             "#f0f921"
            ]
           ],
           "sequentialminus": [
            [
             0,
             "#0d0887"
            ],
            [
             0.1111111111111111,
             "#46039f"
            ],
            [
             0.2222222222222222,
             "#7201a8"
            ],
            [
             0.3333333333333333,
             "#9c179e"
            ],
            [
             0.4444444444444444,
             "#bd3786"
            ],
            [
             0.5555555555555556,
             "#d8576b"
            ],
            [
             0.6666666666666666,
             "#ed7953"
            ],
            [
             0.7777777777777778,
             "#fb9f3a"
            ],
            [
             0.8888888888888888,
             "#fdca26"
            ],
            [
             1,
             "#f0f921"
            ]
           ]
          },
          "colorway": [
           "#636efa",
           "#EF553B",
           "#00cc96",
           "#ab63fa",
           "#FFA15A",
           "#19d3f3",
           "#FF6692",
           "#B6E880",
           "#FF97FF",
           "#FECB52"
          ],
          "font": {
           "color": "#2a3f5f"
          },
          "geo": {
           "bgcolor": "white",
           "lakecolor": "white",
           "landcolor": "#E5ECF6",
           "showlakes": true,
           "showland": true,
           "subunitcolor": "white"
          },
          "hoverlabel": {
           "align": "left"
          },
          "hovermode": "closest",
          "mapbox": {
           "style": "light"
          },
          "paper_bgcolor": "white",
          "plot_bgcolor": "#E5ECF6",
          "polar": {
           "angularaxis": {
            "gridcolor": "white",
            "linecolor": "white",
            "ticks": ""
           },
           "bgcolor": "#E5ECF6",
           "radialaxis": {
            "gridcolor": "white",
            "linecolor": "white",
            "ticks": ""
           }
          },
          "scene": {
           "xaxis": {
            "backgroundcolor": "#E5ECF6",
            "gridcolor": "white",
            "gridwidth": 2,
            "linecolor": "white",
            "showbackground": true,
            "ticks": "",
            "zerolinecolor": "white"
           },
           "yaxis": {
            "backgroundcolor": "#E5ECF6",
            "gridcolor": "white",
            "gridwidth": 2,
            "linecolor": "white",
            "showbackground": true,
            "ticks": "",
            "zerolinecolor": "white"
           },
           "zaxis": {
            "backgroundcolor": "#E5ECF6",
            "gridcolor": "white",
            "gridwidth": 2,
            "linecolor": "white",
            "showbackground": true,
            "ticks": "",
            "zerolinecolor": "white"
           }
          },
          "shapedefaults": {
           "line": {
            "color": "#2a3f5f"
           }
          },
          "ternary": {
           "aaxis": {
            "gridcolor": "white",
            "linecolor": "white",
            "ticks": ""
           },
           "baxis": {
            "gridcolor": "white",
            "linecolor": "white",
            "ticks": ""
           },
           "bgcolor": "#E5ECF6",
           "caxis": {
            "gridcolor": "white",
            "linecolor": "white",
            "ticks": ""
           }
          },
          "title": {
           "x": 0.05
          },
          "xaxis": {
           "automargin": true,
           "gridcolor": "white",
           "linecolor": "white",
           "ticks": "",
           "title": {
            "standoff": 15
           },
           "zerolinecolor": "white",
           "zerolinewidth": 2
          },
          "yaxis": {
           "automargin": true,
           "gridcolor": "white",
           "linecolor": "white",
           "ticks": "",
           "title": {
            "standoff": 15
           },
           "zerolinecolor": "white",
           "zerolinewidth": 2
          }
         }
        },
        "title": {
         "text": "Happiness Score compared to Perception of Corruption Score"
        },
        "width": 1000,
        "xaxis": {
         "anchor": "y",
         "domain": [
          0,
          1
         ],
         "range": [
          0,
          8
         ],
         "title": {
          "text": "Happiness Score"
         }
        },
        "yaxis": {
         "anchor": "x",
         "domain": [
          0,
          1
         ],
         "title": {
          "text": "Perception of Corruption Score"
         }
        }
       }
      },
      "text/html": [
       "<div>                            <div id=\"709d8a2c-b0d5-4d74-ba78-ea3089c5eb7d\" class=\"plotly-graph-div\" style=\"height:600px; width:1000px;\"></div>            <script type=\"text/javascript\">                require([\"plotly\"], function(Plotly) {                    window.PLOTLYENV=window.PLOTLYENV || {};                                    if (document.getElementById(\"709d8a2c-b0d5-4d74-ba78-ea3089c5eb7d\")) {                    Plotly.newPlot(                        \"709d8a2c-b0d5-4d74-ba78-ea3089c5eb7d\",                        [{\"hovertemplate\": \"<b>%{hovertext}</b><br><br>Region=Europe<br>Score=%{x}<br>Perceptions of corruption=%{y}<extra></extra>\", \"hovertext\": [\"Norway\", \"Denmark\", \"Iceland\", \"Switzerland\", \"Finland\", \"Netherlands\", \"Sweden\", \"Austria\", \"Ireland\", \"Germany\", \"Belgium\", \"Luxembourg\", \"United Kingdom\", \"Czech Republic\", \"Malta\", \"France\", \"Spain\", \"Slovakia\", \"Poland\", \"Uzbekistan\", \"Italy\", \"Russia\", \"Lithuania\", \"Latvia\", \"Moldova\", \"Romania\", \"Turkmenistan\", \"Kazakhstan\", \"North Cyprus\", \"Slovenia\", \"Cyprus\", \"Estonia\", \"Belarus\", \"Serbia\", \"Hungary\", \"Croatia\", \"Kosovo\", \"Montenegro\", \"Azerbaijan\", \"Greece\", \"Portugal\", \"Bosnia and Herzegovina\", \"Macedonia\", \"Tajikistan\", \"Kyrgyzstan\", \"Bulgaria\", \"Albania\", \"Armenia\", \"Georgia\", \"Ukraine\"], \"legendgroup\": \"Europe\", \"marker\": {\"color\": \"#636efa\", \"line\": {\"color\": \"DarkSlateGrey\", \"width\": 1}, \"size\": 10, \"symbol\": \"circle\"}, \"mode\": \"markers\", \"name\": \"Europe\", \"orientation\": \"v\", \"showlegend\": true, \"type\": \"scatter\", \"x\": [7.537000179290769, 7.52199983596802, 7.50400018692017, 7.49399995803833, 7.468999862670901, 7.3769998550415, 7.28399991989136, 7.00600004196167, 6.9770002365112305, 6.9510002136230495, 6.89099979400635, 6.86299991607666, 6.71400022506714, 6.60900020599365, 6.52699995040894, 6.44199991226196, 6.40299987792969, 6.09800004959106, 5.97300004959106, 5.97100019454956, 5.96400022506714, 5.962999820709231, 5.90199995040894, 5.849999904632571, 5.837999820709231, 5.824999809265139, 5.82200002670288, 5.8189997673034695, 5.80999994277954, 5.75799989700317, 5.62099981307983, 5.61100006103516, 5.5689997673034695, 5.39499998092651, 5.32399988174438, 5.2930002212524405, 5.27899980545044, 5.23699998855591, 5.234000205993651, 5.2270002365112305, 5.19500017166138, 5.18200016021729, 5.175000190734861, 5.04099988937378, 5.0040001869201705, 4.71400022506714, 4.64400005340576, 4.37599992752075, 4.28599977493286, 4.09600019454956], \"xaxis\": \"x\", \"y\": [0.31596383452415505, 0.40077006816863997, 0.15352655947208402, 0.36700728535652205, 0.38261154294014, 0.282661825418472, 0.384398728609085, 0.22106036543846105, 0.29838815331459007, 0.276731938123703, 0.251343131065369, 0.31883442401886, 0.265428066253662, 0.0368729270994663, 0.153066068887711, 0.172502428293228, 0.0709140971302986, 0.0242108516395092, 0.0593078061938286, 0.246528223156929, 0.0280280914157629, 0.0329628810286522, 0.0118656428530812, 0.0738427266478539, 0.0100912861526012, 0.0043879006989300294, 0.25927034020423895, 0.11928288638591802, 0.155353352427483, 0.0451289787888527, 0.0412379764020443, 0.18324892222881303, 0.156313821673393, 0.0409037806093693, 0.0366369374096394, 0.0431031100451946, 0.0574716180562973, 0.0881741940975189, 0.180987507104874, 0.043289776891470004, 0.0158694516867399, 0.0, 0.0602777935564518, 0.14637714624404902, 0.0394391790032387, 0.0110515309497714, 0.0398642159998417, 0.0266744215041399, 0.25166663527488703, 0.0230294708162546], \"yaxis\": \"y\"}, {\"hovertemplate\": \"<b>%{hovertext}</b><br><br>Region=North America<br>Score=%{x}<br>Perceptions of corruption=%{y}<extra></extra>\", \"hovertext\": [\"Canada\", \"United States\"], \"legendgroup\": \"North America\", \"marker\": {\"color\": \"#EF553B\", \"line\": {\"color\": \"DarkSlateGrey\", \"width\": 1}, \"size\": 10, \"symbol\": \"circle\"}, \"mode\": \"markers\", \"name\": \"North America\", \"orientation\": \"v\", \"showlegend\": true, \"type\": \"scatter\", \"x\": [7.31599998474121, 6.993000030517581], \"xaxis\": \"x\", \"y\": [0.287371516227722, 0.135638788342476], \"yaxis\": \"y\"}, {\"hovertemplate\": \"<b>%{hovertext}</b><br><br>Region=Australia and New Zealand<br>Score=%{x}<br>Perceptions of corruption=%{y}<extra></extra>\", \"hovertext\": [\"New Zealand\", \"Australia\"], \"legendgroup\": \"Australia and New Zealand\", \"marker\": {\"color\": \"#00cc96\", \"line\": {\"color\": \"DarkSlateGrey\", \"width\": 1}, \"size\": 10, \"symbol\": \"circle\"}, \"mode\": \"markers\", \"name\": \"Australia and New Zealand\", \"orientation\": \"v\", \"showlegend\": true, \"type\": \"scatter\", \"x\": [7.31400012969971, 7.28399991989136], \"xaxis\": \"x\", \"y\": [0.38281670212745705, 0.301183730363846], \"yaxis\": \"y\"}, {\"hovertemplate\": \"<b>%{hovertext}</b><br><br>Region=Middle East and Northern Africa<br>Score=%{x}<br>Perceptions of corruption=%{y}<extra></extra>\", \"hovertext\": [\"Israel\", \"United Arab Emirates\", \"Qatar\", \"Saudi Arabia\", \"Kuwait\", \"Bahrain\", \"Algeria\", \"Libya\", \"Turkey\", \"Jordan\", \"Morocco\", \"Lebanon\", \"Tunisia\", \"Palestinian Territories\", \"Egypt\", \"Iran\", \"Iraq\", \"Yemen\", \"Syria\"], \"legendgroup\": \"Middle East and Northern Africa\", \"marker\": {\"color\": \"#ab63fa\", \"line\": {\"color\": \"DarkSlateGrey\", \"width\": 1}, \"size\": 10, \"symbol\": \"circle\"}, \"mode\": \"markers\", \"name\": \"Middle East and Northern Africa\", \"orientation\": \"v\", \"showlegend\": true, \"type\": \"scatter\", \"x\": [7.212999820709231, 6.6479997634887695, 6.375, 6.343999862670901, 6.10500001907349, 6.08699989318848, 5.872000217437741, 5.525000095367429, 5.5, 5.33599996566772, 5.2350001335144, 5.22499990463257, 4.80499982833862, 4.77500009536743, 4.7350001335144, 4.69199991226196, 4.49700021743774, 3.59299993515015, 3.46199989318848], \"xaxis\": \"x\", \"y\": [0.0852421000599861, 0.324489563703537, 0.43929925560951205, 0.27343225479126004, 0.21515955030918102, 0.257042169570923, 0.14609611034393302, 0.0926102101802826, 0.0996715798974037, 0.11980327218771002, 0.0877631828188896, 0.037513829767704, 0.0867231488227844, 0.0892826020717621, 0.114381365478039, 0.048761073499918005, 0.10721575468778599, 0.0567674227058887, 0.15134713053703303], \"yaxis\": \"y\"}, {\"hovertemplate\": \"<b>%{hovertext}</b><br><br>Region=Latin America and Caribbean<br>Score=%{x}<br>Perceptions of corruption=%{y}<extra></extra>\", \"hovertext\": [\"Costa Rica\", \"Chile\", \"Brazil\", \"Argentina\", \"Mexico\", \"Uruguay\", \"Guatemala\", \"Panama\", \"Colombia\", \"Trinidad and Tobago\", \"Nicaragua\", \"Ecuador\", \"El Salvador\", \"Bolivia\", \"Peru\", \"Paraguay\", \"Jamaica\", \"Venezuela\", \"Dominican Republic\", \"Honduras\", \"Haiti\"], \"legendgroup\": \"Latin America and Caribbean\", \"marker\": {\"color\": \"#FFA15A\", \"line\": {\"color\": \"DarkSlateGrey\", \"width\": 1}, \"size\": 10, \"symbol\": \"circle\"}, \"mode\": \"markers\", \"name\": \"Latin America and Caribbean\", \"orientation\": \"v\", \"showlegend\": true, \"type\": \"scatter\", \"x\": [7.0789999961853, 6.65199995040894, 6.6350002288818395, 6.59899997711182, 6.57800006866455, 6.4539999961853, 6.4539999961853, 6.4520001411438, 6.35699987411499, 6.1680002212524405, 6.07100009918213, 6.00799989700317, 6.002999782562259, 5.82299995422363, 5.71500015258789, 5.493000030517581, 5.31099987030029, 5.25, 5.230000019073491, 5.1810002326965305, 3.6029999256133998], \"xaxis\": \"x\", \"y\": [0.100106589496136, 0.0822879821062088, 0.11109276115894301, 0.05973988771438599, 0.132774114608765, 0.17806187272071802, 0.0772232785820961, 0.070983923971653, 0.0466687418520451, 0.00896481610834599, 0.130687981843948, 0.140134647488594, 0.0899809598922729, 0.0604777261614799, 0.0470490865409374, 0.091065913438797, 0.0552677810192108, 0.0644911229610443, 0.113945253193378, 0.0733454525470734, 0.0998721495270729], \"yaxis\": \"y\"}, {\"hovertemplate\": \"<b>%{hovertext}</b><br><br>Region=Asia<br>Score=%{x}<br>Perceptions of corruption=%{y}<extra></extra>\", \"hovertext\": [\"Singapore\", \"Thailand\", \"Malaysia\", \"Japan\", \"South Korea\", \"Philippines\", \"China\", \"Pakistan\", \"Indonesia\", \"Vietnam\", \"Bhutan\", \"Nepal\", \"Mongolia\", \"Bangladesh\", \"Myanmar\", \"Sri Lanka\", \"India\", \"Cambodia\", \"Afghanistan\"], \"legendgroup\": \"Asia\", \"marker\": {\"color\": \"#19d3f3\", \"line\": {\"color\": \"DarkSlateGrey\", \"width\": 1}, \"size\": 10, \"symbol\": \"circle\"}, \"mode\": \"markers\", \"name\": \"Asia\", \"orientation\": \"v\", \"showlegend\": true, \"type\": \"scatter\", \"x\": [6.57200002670288, 6.4239997863769505, 6.08400011062622, 5.92000007629395, 5.837999820709231, 5.42999982833862, 5.2729997634887695, 5.26900005340576, 5.26200008392334, 5.07399988174438, 5.01100015640259, 4.961999893188481, 4.95499992370605, 4.60799980163574, 4.54500007629395, 4.44000005722046, 4.31500005722046, 4.1680002212524405, 3.7939999103546103], \"xaxis\": \"x\", \"y\": [0.46430778503417997, 0.0316127352416515, 0.0656007081270218, 0.163760736584663, 0.0632826685905457, 0.0993318930268288, 0.0227942746132612, 0.12434806674718901, 0.0153171354904771, 0.0876332372426987, 0.17338038980960802, 0.0729755461215973, 0.0329022891819477, 0.123717859387398, 0.188816204667091, 0.0736539661884308, 0.0922268852591515, 0.0681059509515762, 0.0611578300595284], \"yaxis\": \"y\"}, {\"hovertemplate\": \"<b>%{hovertext}</b><br><br>Region=Sub-Saharan Africa<br>Score=%{x}<br>Perceptions of corruption=%{y}<extra></extra>\", \"hovertext\": [\"Mauritius\", \"Nigeria\", \"South Africa\", \"Sierra Leone\", \"Cameroon\", \"Kenya\", \"Mozambique\", \"Senegal\", \"Zambia\", \"Gabon\", \"Ethiopia\", \"Mauritania\", \"Congo (Brazzaville)\", \"Congo (Kinshasa)\", \"Mali\", \"Ivory Coast\", \"Sudan\", \"Ghana\", \"Uganda\", \"Burkina Faso\", \"Niger\", \"Malawi\", \"Chad\", \"Zimbabwe\", \"Lesotho\", \"Angola\", \"Botswana\", \"Benin\", \"Madagascar\", \"Liberia\", \"Guinea\", \"Togo\", \"Rwanda\", \"Tanzania\", \"Burundi\", \"Central African Republic\"], \"legendgroup\": \"Sub-Saharan Africa\", \"marker\": {\"color\": \"#FF6692\", \"line\": {\"color\": \"DarkSlateGrey\", \"width\": 1}, \"size\": 10, \"symbol\": \"circle\"}, \"mode\": \"markers\", \"name\": \"Sub-Saharan Africa\", \"orientation\": \"v\", \"showlegend\": true, \"type\": \"scatter\", \"x\": [5.62900018692017, 5.07399988174438, 4.8289999961853, 4.70900011062622, 4.69500017166138, 4.55299997329712, 4.550000190734861, 4.53499984741211, 4.513999938964839, 4.46500015258789, 4.46000003814697, 4.29199981689453, 4.29099988937378, 4.2800002098083505, 4.19000005722046, 4.17999982833862, 4.138999938964839, 4.11999988555908, 4.08099985122681, 4.03200006484985, 4.02799987792969, 3.97000002861023, 3.9360001087188703, 3.875, 3.80800008773804, 3.79500007629395, 3.7660000324249303, 3.65700006484985, 3.64400005340576, 3.5329999923706095, 3.50699996948242, 3.4949998855590803, 3.47099995613098, 3.34899997711182, 2.90499997138977, 2.69300007820129], \"xaxis\": \"x\", \"y\": [0.0421815551817417, 0.0261215660721064, 0.0725094974040985, 0.0710951760411263, 0.0513066314160824, 0.0646413192152977, 0.17943638563156103, 0.11546044796705199, 0.0782135501503944, 0.0760467872023582, 0.16545571386814098, 0.136957004666328, 0.0796181336045265, 0.0602413564920425, 0.10497024655342098, 0.130061775445938, 0.089847519993782, 0.0253363698720932, 0.057069718837738, 0.12032810598611803, 0.13857294619083402, 0.0727116540074348, 0.0535818822681904, 0.0953753814101219, 0.119094640016556, 0.0697203353047371, 0.0985831990838051, 0.0609290152788162, 0.0672319754958153, 0.0389482490718365, 0.110937617719173, 0.0956650152802467, 0.455220013856888, 0.0660351067781448, 0.0841479450464249, 0.0565650761127472], \"yaxis\": \"y\"}],                        {\"height\": 600, \"legend\": {\"title\": {\"text\": \"Region\"}, \"tracegroupgap\": 0}, \"template\": {\"data\": {\"bar\": [{\"error_x\": {\"color\": \"#2a3f5f\"}, \"error_y\": {\"color\": \"#2a3f5f\"}, \"marker\": {\"line\": {\"color\": \"#E5ECF6\", \"width\": 0.5}}, \"type\": \"bar\"}], \"barpolar\": [{\"marker\": {\"line\": {\"color\": \"#E5ECF6\", \"width\": 0.5}}, \"type\": \"barpolar\"}], \"carpet\": [{\"aaxis\": {\"endlinecolor\": \"#2a3f5f\", \"gridcolor\": \"white\", \"linecolor\": \"white\", \"minorgridcolor\": \"white\", \"startlinecolor\": \"#2a3f5f\"}, \"baxis\": {\"endlinecolor\": \"#2a3f5f\", \"gridcolor\": \"white\", \"linecolor\": \"white\", \"minorgridcolor\": \"white\", \"startlinecolor\": \"#2a3f5f\"}, \"type\": \"carpet\"}], \"choropleth\": [{\"colorbar\": {\"outlinewidth\": 0, \"ticks\": \"\"}, \"type\": \"choropleth\"}], \"contour\": [{\"colorbar\": {\"outlinewidth\": 0, \"ticks\": \"\"}, \"colorscale\": [[0.0, \"#0d0887\"], [0.1111111111111111, \"#46039f\"], [0.2222222222222222, \"#7201a8\"], [0.3333333333333333, \"#9c179e\"], [0.4444444444444444, \"#bd3786\"], [0.5555555555555556, \"#d8576b\"], [0.6666666666666666, \"#ed7953\"], [0.7777777777777778, \"#fb9f3a\"], [0.8888888888888888, \"#fdca26\"], [1.0, \"#f0f921\"]], \"type\": \"contour\"}], \"contourcarpet\": [{\"colorbar\": {\"outlinewidth\": 0, \"ticks\": \"\"}, \"type\": \"contourcarpet\"}], \"heatmap\": [{\"colorbar\": {\"outlinewidth\": 0, \"ticks\": \"\"}, \"colorscale\": [[0.0, \"#0d0887\"], [0.1111111111111111, \"#46039f\"], [0.2222222222222222, \"#7201a8\"], [0.3333333333333333, \"#9c179e\"], [0.4444444444444444, \"#bd3786\"], [0.5555555555555556, \"#d8576b\"], [0.6666666666666666, \"#ed7953\"], [0.7777777777777778, \"#fb9f3a\"], [0.8888888888888888, \"#fdca26\"], [1.0, \"#f0f921\"]], \"type\": \"heatmap\"}], \"heatmapgl\": [{\"colorbar\": {\"outlinewidth\": 0, \"ticks\": \"\"}, \"colorscale\": [[0.0, \"#0d0887\"], [0.1111111111111111, \"#46039f\"], [0.2222222222222222, \"#7201a8\"], [0.3333333333333333, \"#9c179e\"], [0.4444444444444444, \"#bd3786\"], [0.5555555555555556, \"#d8576b\"], [0.6666666666666666, \"#ed7953\"], [0.7777777777777778, \"#fb9f3a\"], [0.8888888888888888, \"#fdca26\"], [1.0, \"#f0f921\"]], \"type\": \"heatmapgl\"}], \"histogram\": [{\"marker\": {\"colorbar\": {\"outlinewidth\": 0, \"ticks\": \"\"}}, \"type\": \"histogram\"}], \"histogram2d\": [{\"colorbar\": {\"outlinewidth\": 0, \"ticks\": \"\"}, \"colorscale\": [[0.0, \"#0d0887\"], [0.1111111111111111, \"#46039f\"], [0.2222222222222222, \"#7201a8\"], [0.3333333333333333, \"#9c179e\"], [0.4444444444444444, \"#bd3786\"], [0.5555555555555556, \"#d8576b\"], [0.6666666666666666, \"#ed7953\"], [0.7777777777777778, \"#fb9f3a\"], [0.8888888888888888, \"#fdca26\"], [1.0, \"#f0f921\"]], \"type\": \"histogram2d\"}], \"histogram2dcontour\": [{\"colorbar\": {\"outlinewidth\": 0, \"ticks\": \"\"}, \"colorscale\": [[0.0, \"#0d0887\"], [0.1111111111111111, \"#46039f\"], [0.2222222222222222, \"#7201a8\"], [0.3333333333333333, \"#9c179e\"], [0.4444444444444444, \"#bd3786\"], [0.5555555555555556, \"#d8576b\"], [0.6666666666666666, \"#ed7953\"], [0.7777777777777778, \"#fb9f3a\"], [0.8888888888888888, \"#fdca26\"], [1.0, \"#f0f921\"]], \"type\": \"histogram2dcontour\"}], \"mesh3d\": [{\"colorbar\": {\"outlinewidth\": 0, \"ticks\": \"\"}, \"type\": \"mesh3d\"}], \"parcoords\": [{\"line\": {\"colorbar\": {\"outlinewidth\": 0, \"ticks\": \"\"}}, \"type\": \"parcoords\"}], \"pie\": [{\"automargin\": true, \"type\": \"pie\"}], \"scatter\": [{\"marker\": {\"colorbar\": {\"outlinewidth\": 0, \"ticks\": \"\"}}, \"type\": \"scatter\"}], \"scatter3d\": [{\"line\": {\"colorbar\": {\"outlinewidth\": 0, \"ticks\": \"\"}}, \"marker\": {\"colorbar\": {\"outlinewidth\": 0, \"ticks\": \"\"}}, \"type\": \"scatter3d\"}], \"scattercarpet\": [{\"marker\": {\"colorbar\": {\"outlinewidth\": 0, \"ticks\": \"\"}}, \"type\": \"scattercarpet\"}], \"scattergeo\": [{\"marker\": {\"colorbar\": {\"outlinewidth\": 0, \"ticks\": \"\"}}, \"type\": \"scattergeo\"}], \"scattergl\": [{\"marker\": {\"colorbar\": {\"outlinewidth\": 0, \"ticks\": \"\"}}, \"type\": \"scattergl\"}], \"scattermapbox\": [{\"marker\": {\"colorbar\": {\"outlinewidth\": 0, \"ticks\": \"\"}}, \"type\": \"scattermapbox\"}], \"scatterpolar\": [{\"marker\": {\"colorbar\": {\"outlinewidth\": 0, \"ticks\": \"\"}}, \"type\": \"scatterpolar\"}], \"scatterpolargl\": [{\"marker\": {\"colorbar\": {\"outlinewidth\": 0, \"ticks\": \"\"}}, \"type\": \"scatterpolargl\"}], \"scatterternary\": [{\"marker\": {\"colorbar\": {\"outlinewidth\": 0, \"ticks\": \"\"}}, \"type\": \"scatterternary\"}], \"surface\": [{\"colorbar\": {\"outlinewidth\": 0, \"ticks\": \"\"}, \"colorscale\": [[0.0, \"#0d0887\"], [0.1111111111111111, \"#46039f\"], [0.2222222222222222, \"#7201a8\"], [0.3333333333333333, \"#9c179e\"], [0.4444444444444444, \"#bd3786\"], [0.5555555555555556, \"#d8576b\"], [0.6666666666666666, \"#ed7953\"], [0.7777777777777778, \"#fb9f3a\"], [0.8888888888888888, \"#fdca26\"], [1.0, \"#f0f921\"]], \"type\": \"surface\"}], \"table\": [{\"cells\": {\"fill\": {\"color\": \"#EBF0F8\"}, \"line\": {\"color\": \"white\"}}, \"header\": {\"fill\": {\"color\": \"#C8D4E3\"}, \"line\": {\"color\": \"white\"}}, \"type\": \"table\"}]}, \"layout\": {\"annotationdefaults\": {\"arrowcolor\": \"#2a3f5f\", \"arrowhead\": 0, \"arrowwidth\": 1}, \"autotypenumbers\": \"strict\", \"coloraxis\": {\"colorbar\": {\"outlinewidth\": 0, \"ticks\": \"\"}}, \"colorscale\": {\"diverging\": [[0, \"#8e0152\"], [0.1, \"#c51b7d\"], [0.2, \"#de77ae\"], [0.3, \"#f1b6da\"], [0.4, \"#fde0ef\"], [0.5, \"#f7f7f7\"], [0.6, \"#e6f5d0\"], [0.7, \"#b8e186\"], [0.8, \"#7fbc41\"], [0.9, \"#4d9221\"], [1, \"#276419\"]], \"sequential\": [[0.0, \"#0d0887\"], [0.1111111111111111, \"#46039f\"], [0.2222222222222222, \"#7201a8\"], [0.3333333333333333, \"#9c179e\"], [0.4444444444444444, \"#bd3786\"], [0.5555555555555556, \"#d8576b\"], [0.6666666666666666, \"#ed7953\"], [0.7777777777777778, \"#fb9f3a\"], [0.8888888888888888, \"#fdca26\"], [1.0, \"#f0f921\"]], \"sequentialminus\": [[0.0, \"#0d0887\"], [0.1111111111111111, \"#46039f\"], [0.2222222222222222, \"#7201a8\"], [0.3333333333333333, \"#9c179e\"], [0.4444444444444444, \"#bd3786\"], [0.5555555555555556, \"#d8576b\"], [0.6666666666666666, \"#ed7953\"], [0.7777777777777778, \"#fb9f3a\"], [0.8888888888888888, \"#fdca26\"], [1.0, \"#f0f921\"]]}, \"colorway\": [\"#636efa\", \"#EF553B\", \"#00cc96\", \"#ab63fa\", \"#FFA15A\", \"#19d3f3\", \"#FF6692\", \"#B6E880\", \"#FF97FF\", \"#FECB52\"], \"font\": {\"color\": \"#2a3f5f\"}, \"geo\": {\"bgcolor\": \"white\", \"lakecolor\": \"white\", \"landcolor\": \"#E5ECF6\", \"showlakes\": true, \"showland\": true, \"subunitcolor\": \"white\"}, \"hoverlabel\": {\"align\": \"left\"}, \"hovermode\": \"closest\", \"mapbox\": {\"style\": \"light\"}, \"paper_bgcolor\": \"white\", \"plot_bgcolor\": \"#E5ECF6\", \"polar\": {\"angularaxis\": {\"gridcolor\": \"white\", \"linecolor\": \"white\", \"ticks\": \"\"}, \"bgcolor\": \"#E5ECF6\", \"radialaxis\": {\"gridcolor\": \"white\", \"linecolor\": \"white\", \"ticks\": \"\"}}, \"scene\": {\"xaxis\": {\"backgroundcolor\": \"#E5ECF6\", \"gridcolor\": \"white\", \"gridwidth\": 2, \"linecolor\": \"white\", \"showbackground\": true, \"ticks\": \"\", \"zerolinecolor\": \"white\"}, \"yaxis\": {\"backgroundcolor\": \"#E5ECF6\", \"gridcolor\": \"white\", \"gridwidth\": 2, \"linecolor\": \"white\", \"showbackground\": true, \"ticks\": \"\", \"zerolinecolor\": \"white\"}, \"zaxis\": {\"backgroundcolor\": \"#E5ECF6\", \"gridcolor\": \"white\", \"gridwidth\": 2, \"linecolor\": \"white\", \"showbackground\": true, \"ticks\": \"\", \"zerolinecolor\": \"white\"}}, \"shapedefaults\": {\"line\": {\"color\": \"#2a3f5f\"}}, \"ternary\": {\"aaxis\": {\"gridcolor\": \"white\", \"linecolor\": \"white\", \"ticks\": \"\"}, \"baxis\": {\"gridcolor\": \"white\", \"linecolor\": \"white\", \"ticks\": \"\"}, \"bgcolor\": \"#E5ECF6\", \"caxis\": {\"gridcolor\": \"white\", \"linecolor\": \"white\", \"ticks\": \"\"}}, \"title\": {\"x\": 0.05}, \"xaxis\": {\"automargin\": true, \"gridcolor\": \"white\", \"linecolor\": \"white\", \"ticks\": \"\", \"title\": {\"standoff\": 15}, \"zerolinecolor\": \"white\", \"zerolinewidth\": 2}, \"yaxis\": {\"automargin\": true, \"gridcolor\": \"white\", \"linecolor\": \"white\", \"ticks\": \"\", \"title\": {\"standoff\": 15}, \"zerolinecolor\": \"white\", \"zerolinewidth\": 2}}}, \"title\": {\"text\": \"Happiness Score compared to Perception of Corruption Score\"}, \"width\": 1000, \"xaxis\": {\"anchor\": \"y\", \"domain\": [0.0, 1.0], \"range\": [0, 8], \"title\": {\"text\": \"Happiness Score\"}}, \"yaxis\": {\"anchor\": \"x\", \"domain\": [0.0, 1.0], \"title\": {\"text\": \"Perception of Corruption Score\"}}},                        {\"responsive\": true}                    ).then(function(){\n",
       "                            \n",
       "var gd = document.getElementById('709d8a2c-b0d5-4d74-ba78-ea3089c5eb7d');\n",
       "var x = new MutationObserver(function (mutations, observer) {{\n",
       "        var display = window.getComputedStyle(gd).display;\n",
       "        if (!display || display === 'none') {{\n",
       "            console.log([gd, 'removed!']);\n",
       "            Plotly.purge(gd);\n",
       "            observer.disconnect();\n",
       "        }}\n",
       "}});\n",
       "\n",
       "// Listen for the removal of the full notebook cells\n",
       "var notebookContainer = gd.closest('#notebook-container');\n",
       "if (notebookContainer) {{\n",
       "    x.observe(notebookContainer, {childList: true});\n",
       "}}\n",
       "\n",
       "// Listen for the clearing of the current output cell\n",
       "var outputEl = gd.closest('.output');\n",
       "if (outputEl) {{\n",
       "    x.observe(outputEl, {childList: true});\n",
       "}}\n",
       "\n",
       "                        })                };                });            </script>        </div>"
      ]
     },
     "metadata": {},
     "output_type": "display_data"
    }
   ],
   "source": [
    "#happiness score vs perception of corruption\n",
    "\n",
    "#establish x and y values\n",
    "x_values = merged_2017[\"Score\"]\n",
    "y_values = merged_2017[\"Perceptions of corruption\"]\n",
    "\n",
    "#px.scatter\n",
    "fig = px.scatter(merged_2017, x_values, y_values, color=\"Region\", hover_name=\"Country or region\",\n",
    "                range_x=[0,8], title=\"Happiness Score compared to Perception of Corruption Score\",\n",
    "                width= 1000, height =600) # use trendline=\"ols\" to see all lin reg equations\n",
    "\n",
    "#set axes labels\n",
    "fig.update_xaxes(title_text='Happiness Score')\n",
    "fig.update_yaxes(title_text='Perception of Corruption Score')\n",
    "\n",
    "\n",
    "#formatting\n",
    "#marker size and colors\n",
    "fig.update_traces(marker=dict(size=10,\n",
    "                              line=dict(width=1, \n",
    "                                        color='DarkSlateGrey')))\n",
    "\n",
    "#linear regression\n",
    "#use linregress from dependencies to inplement linear regression\n",
    "(slope, intercept, rvalue, pvalue, stderr) = linregress(x_values, y_values)\n",
    "regress_values = x_values * slope + intercept\n",
    "\n",
    "#print out all variables calculated above (rvalue, pvalue...)\n",
    "print(f\"slope:{round(slope, 2)}\")\n",
    "print(f\"intercept:{round(intercept,2)}\")\n",
    "res = sts.linregress(x_values, y_values)\n",
    "print(f\"R-squared: {res.rvalue**2:.4f}\")\n",
    "\n",
    "\n",
    "#print out line eq for reference\n",
    "line_eq = (f\"y={round(slope, 2)}x + {round(intercept, 2)}\")\n",
    "print(line_eq)\n",
    "\n",
    "fig.show()"
   ]
  },
  {
   "cell_type": "code",
   "execution_count": null,
   "metadata": {},
   "outputs": [],
   "source": []
  }
 ],
 "metadata": {
  "kernelspec": {
   "display_name": "Python 3",
   "language": "python",
   "name": "python3"
  },
  "language_info": {
   "codemirror_mode": {
    "name": "ipython",
    "version": 3
   },
   "file_extension": ".py",
   "mimetype": "text/x-python",
   "name": "python",
   "nbconvert_exporter": "python",
   "pygments_lexer": "ipython3",
   "version": "3.6.12"
  }
 },
 "nbformat": 4,
 "nbformat_minor": 4
}

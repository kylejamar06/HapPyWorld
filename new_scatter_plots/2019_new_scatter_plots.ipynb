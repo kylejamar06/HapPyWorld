{
 "cells": [
  {
   "cell_type": "code",
   "execution_count": 19,
   "metadata": {},
   "outputs": [],
   "source": [
    "#Dependencies\n",
    "\n",
    "import numpy as np # linear algebra\n",
    "import pandas as pd # data processing, CSV file I/O (e.g. pd.read_csv)\n",
    "import plotly.express as px # for visualization \n",
    "import os\n",
    "import plotly.graph_objects as go\n",
    "from scipy.stats import linregress\n",
    "import scipy.stats as sts"
   ]
  },
  {
   "cell_type": "code",
   "execution_count": 29,
   "metadata": {},
   "outputs": [
    {
     "data": {
      "text/html": [
       "<div>\n",
       "<style scoped>\n",
       "    .dataframe tbody tr th:only-of-type {\n",
       "        vertical-align: middle;\n",
       "    }\n",
       "\n",
       "    .dataframe tbody tr th {\n",
       "        vertical-align: top;\n",
       "    }\n",
       "\n",
       "    .dataframe thead th {\n",
       "        text-align: right;\n",
       "    }\n",
       "</style>\n",
       "<table border=\"1\" class=\"dataframe\">\n",
       "  <thead>\n",
       "    <tr style=\"text-align: right;\">\n",
       "      <th></th>\n",
       "      <th>Overall rank</th>\n",
       "      <th>Country or region</th>\n",
       "      <th>Score</th>\n",
       "      <th>GDP per capita</th>\n",
       "      <th>Social support</th>\n",
       "      <th>Healthy life expectancy</th>\n",
       "      <th>Freedom to make life choices</th>\n",
       "      <th>Generosity</th>\n",
       "      <th>Perceptions of corruption</th>\n",
       "    </tr>\n",
       "  </thead>\n",
       "  <tbody>\n",
       "    <tr>\n",
       "      <th>0</th>\n",
       "      <td>1</td>\n",
       "      <td>Finland</td>\n",
       "      <td>7.769</td>\n",
       "      <td>1.340</td>\n",
       "      <td>1.587</td>\n",
       "      <td>0.986</td>\n",
       "      <td>0.596</td>\n",
       "      <td>0.153</td>\n",
       "      <td>0.393</td>\n",
       "    </tr>\n",
       "    <tr>\n",
       "      <th>1</th>\n",
       "      <td>2</td>\n",
       "      <td>Denmark</td>\n",
       "      <td>7.600</td>\n",
       "      <td>1.383</td>\n",
       "      <td>1.573</td>\n",
       "      <td>0.996</td>\n",
       "      <td>0.592</td>\n",
       "      <td>0.252</td>\n",
       "      <td>0.410</td>\n",
       "    </tr>\n",
       "    <tr>\n",
       "      <th>2</th>\n",
       "      <td>3</td>\n",
       "      <td>Norway</td>\n",
       "      <td>7.554</td>\n",
       "      <td>1.488</td>\n",
       "      <td>1.582</td>\n",
       "      <td>1.028</td>\n",
       "      <td>0.603</td>\n",
       "      <td>0.271</td>\n",
       "      <td>0.341</td>\n",
       "    </tr>\n",
       "    <tr>\n",
       "      <th>3</th>\n",
       "      <td>4</td>\n",
       "      <td>Iceland</td>\n",
       "      <td>7.494</td>\n",
       "      <td>1.380</td>\n",
       "      <td>1.624</td>\n",
       "      <td>1.026</td>\n",
       "      <td>0.591</td>\n",
       "      <td>0.354</td>\n",
       "      <td>0.118</td>\n",
       "    </tr>\n",
       "    <tr>\n",
       "      <th>4</th>\n",
       "      <td>5</td>\n",
       "      <td>Netherlands</td>\n",
       "      <td>7.488</td>\n",
       "      <td>1.396</td>\n",
       "      <td>1.522</td>\n",
       "      <td>0.999</td>\n",
       "      <td>0.557</td>\n",
       "      <td>0.322</td>\n",
       "      <td>0.298</td>\n",
       "    </tr>\n",
       "  </tbody>\n",
       "</table>\n",
       "</div>"
      ],
      "text/plain": [
       "   Overall rank Country or region  Score  GDP per capita  Social support  \\\n",
       "0             1           Finland  7.769           1.340           1.587   \n",
       "1             2           Denmark  7.600           1.383           1.573   \n",
       "2             3            Norway  7.554           1.488           1.582   \n",
       "3             4           Iceland  7.494           1.380           1.624   \n",
       "4             5       Netherlands  7.488           1.396           1.522   \n",
       "\n",
       "   Healthy life expectancy  Freedom to make life choices  Generosity  \\\n",
       "0                    0.986                         0.596       0.153   \n",
       "1                    0.996                         0.592       0.252   \n",
       "2                    1.028                         0.603       0.271   \n",
       "3                    1.026                         0.591       0.354   \n",
       "4                    0.999                         0.557       0.322   \n",
       "\n",
       "   Perceptions of corruption  \n",
       "0                      0.393  \n",
       "1                      0.410  \n",
       "2                      0.341  \n",
       "3                      0.118  \n",
       "4                      0.298  "
      ]
     },
     "execution_count": 29,
     "metadata": {},
     "output_type": "execute_result"
    }
   ],
   "source": [
    "#import 2019 data\n",
    "\n",
    "csvpath_2019 = os.path.join('..','Resources', '2019.csv')\n",
    "csv_2019 = pd.read_csv(csvpath_2019)\n",
    "csv_2019.head()"
   ]
  },
  {
   "cell_type": "code",
   "execution_count": 30,
   "metadata": {},
   "outputs": [],
   "source": [
    "#import happy_region df so we can merge and make region column\n",
    "\n",
    "csvpath_region = os.path.join('..','happy_regions.csv')\n",
    "csv_happy_regions = pd.read_csv(csvpath_region)\n",
    "\n",
    "#lets take out just country and region columns\n",
    "new_region_df = csv_happy_regions[[\"Country\", \"Region\"]]\n",
    "\n",
    "#rename column so it matches with the newly structured csv below\n",
    "new_region_df = new_region_df.rename(columns={\"Country\": \"Country or region\"})\n",
    "\n",
    "#let's merge df with region category with csv 2019\n",
    "merged_2019 = pd.merge(csv_2019, new_region_df, on=\"Country or region\")\n",
    "#merged_2019"
   ]
  },
  {
   "cell_type": "code",
   "execution_count": 31,
   "metadata": {},
   "outputs": [
    {
     "data": {
      "text/html": [
       "<div>\n",
       "<style scoped>\n",
       "    .dataframe tbody tr th:only-of-type {\n",
       "        vertical-align: middle;\n",
       "    }\n",
       "\n",
       "    .dataframe tbody tr th {\n",
       "        vertical-align: top;\n",
       "    }\n",
       "\n",
       "    .dataframe thead th {\n",
       "        text-align: right;\n",
       "    }\n",
       "</style>\n",
       "<table border=\"1\" class=\"dataframe\">\n",
       "  <thead>\n",
       "    <tr style=\"text-align: right;\">\n",
       "      <th></th>\n",
       "      <th>Overall rank</th>\n",
       "      <th>Country or region</th>\n",
       "      <th>Score</th>\n",
       "      <th>GDP per capita</th>\n",
       "      <th>Social support</th>\n",
       "      <th>Healthy life expectancy</th>\n",
       "      <th>Freedom to make life choices</th>\n",
       "      <th>Generosity</th>\n",
       "      <th>Perceptions of corruption</th>\n",
       "      <th>Region</th>\n",
       "    </tr>\n",
       "  </thead>\n",
       "  <tbody>\n",
       "    <tr>\n",
       "      <th>0</th>\n",
       "      <td>1</td>\n",
       "      <td>Finland</td>\n",
       "      <td>7.769</td>\n",
       "      <td>1.340</td>\n",
       "      <td>1.587</td>\n",
       "      <td>0.986</td>\n",
       "      <td>0.596</td>\n",
       "      <td>0.153</td>\n",
       "      <td>0.393</td>\n",
       "      <td>Europe</td>\n",
       "    </tr>\n",
       "    <tr>\n",
       "      <th>1</th>\n",
       "      <td>2</td>\n",
       "      <td>Denmark</td>\n",
       "      <td>7.600</td>\n",
       "      <td>1.383</td>\n",
       "      <td>1.573</td>\n",
       "      <td>0.996</td>\n",
       "      <td>0.592</td>\n",
       "      <td>0.252</td>\n",
       "      <td>0.410</td>\n",
       "      <td>Europe</td>\n",
       "    </tr>\n",
       "    <tr>\n",
       "      <th>2</th>\n",
       "      <td>3</td>\n",
       "      <td>Norway</td>\n",
       "      <td>7.554</td>\n",
       "      <td>1.488</td>\n",
       "      <td>1.582</td>\n",
       "      <td>1.028</td>\n",
       "      <td>0.603</td>\n",
       "      <td>0.271</td>\n",
       "      <td>0.341</td>\n",
       "      <td>Europe</td>\n",
       "    </tr>\n",
       "    <tr>\n",
       "      <th>3</th>\n",
       "      <td>4</td>\n",
       "      <td>Iceland</td>\n",
       "      <td>7.494</td>\n",
       "      <td>1.380</td>\n",
       "      <td>1.624</td>\n",
       "      <td>1.026</td>\n",
       "      <td>0.591</td>\n",
       "      <td>0.354</td>\n",
       "      <td>0.118</td>\n",
       "      <td>Europe</td>\n",
       "    </tr>\n",
       "    <tr>\n",
       "      <th>4</th>\n",
       "      <td>5</td>\n",
       "      <td>Netherlands</td>\n",
       "      <td>7.488</td>\n",
       "      <td>1.396</td>\n",
       "      <td>1.522</td>\n",
       "      <td>0.999</td>\n",
       "      <td>0.557</td>\n",
       "      <td>0.322</td>\n",
       "      <td>0.298</td>\n",
       "      <td>Europe</td>\n",
       "    </tr>\n",
       "    <tr>\n",
       "      <th>...</th>\n",
       "      <td>...</td>\n",
       "      <td>...</td>\n",
       "      <td>...</td>\n",
       "      <td>...</td>\n",
       "      <td>...</td>\n",
       "      <td>...</td>\n",
       "      <td>...</td>\n",
       "      <td>...</td>\n",
       "      <td>...</td>\n",
       "      <td>...</td>\n",
       "    </tr>\n",
       "    <tr>\n",
       "      <th>144</th>\n",
       "      <td>151</td>\n",
       "      <td>Yemen</td>\n",
       "      <td>3.380</td>\n",
       "      <td>0.287</td>\n",
       "      <td>1.163</td>\n",
       "      <td>0.463</td>\n",
       "      <td>0.143</td>\n",
       "      <td>0.108</td>\n",
       "      <td>0.077</td>\n",
       "      <td>Middle East and Northern Africa</td>\n",
       "    </tr>\n",
       "    <tr>\n",
       "      <th>145</th>\n",
       "      <td>152</td>\n",
       "      <td>Rwanda</td>\n",
       "      <td>3.334</td>\n",
       "      <td>0.359</td>\n",
       "      <td>0.711</td>\n",
       "      <td>0.614</td>\n",
       "      <td>0.555</td>\n",
       "      <td>0.217</td>\n",
       "      <td>0.411</td>\n",
       "      <td>Sub-Saharan Africa</td>\n",
       "    </tr>\n",
       "    <tr>\n",
       "      <th>146</th>\n",
       "      <td>153</td>\n",
       "      <td>Tanzania</td>\n",
       "      <td>3.231</td>\n",
       "      <td>0.476</td>\n",
       "      <td>0.885</td>\n",
       "      <td>0.499</td>\n",
       "      <td>0.417</td>\n",
       "      <td>0.276</td>\n",
       "      <td>0.147</td>\n",
       "      <td>Sub-Saharan Africa</td>\n",
       "    </tr>\n",
       "    <tr>\n",
       "      <th>147</th>\n",
       "      <td>154</td>\n",
       "      <td>Afghanistan</td>\n",
       "      <td>3.203</td>\n",
       "      <td>0.350</td>\n",
       "      <td>0.517</td>\n",
       "      <td>0.361</td>\n",
       "      <td>0.000</td>\n",
       "      <td>0.158</td>\n",
       "      <td>0.025</td>\n",
       "      <td>Asia</td>\n",
       "    </tr>\n",
       "    <tr>\n",
       "      <th>148</th>\n",
       "      <td>155</td>\n",
       "      <td>Central African Republic</td>\n",
       "      <td>3.083</td>\n",
       "      <td>0.026</td>\n",
       "      <td>0.000</td>\n",
       "      <td>0.105</td>\n",
       "      <td>0.225</td>\n",
       "      <td>0.235</td>\n",
       "      <td>0.035</td>\n",
       "      <td>Sub-Saharan Africa</td>\n",
       "    </tr>\n",
       "  </tbody>\n",
       "</table>\n",
       "<p>149 rows × 10 columns</p>\n",
       "</div>"
      ],
      "text/plain": [
       "     Overall rank         Country or region  Score  GDP per capita  \\\n",
       "0               1                   Finland  7.769           1.340   \n",
       "1               2                   Denmark  7.600           1.383   \n",
       "2               3                    Norway  7.554           1.488   \n",
       "3               4                   Iceland  7.494           1.380   \n",
       "4               5               Netherlands  7.488           1.396   \n",
       "..            ...                       ...    ...             ...   \n",
       "144           151                     Yemen  3.380           0.287   \n",
       "145           152                    Rwanda  3.334           0.359   \n",
       "146           153                  Tanzania  3.231           0.476   \n",
       "147           154               Afghanistan  3.203           0.350   \n",
       "148           155  Central African Republic  3.083           0.026   \n",
       "\n",
       "     Social support  Healthy life expectancy  Freedom to make life choices  \\\n",
       "0             1.587                    0.986                         0.596   \n",
       "1             1.573                    0.996                         0.592   \n",
       "2             1.582                    1.028                         0.603   \n",
       "3             1.624                    1.026                         0.591   \n",
       "4             1.522                    0.999                         0.557   \n",
       "..              ...                      ...                           ...   \n",
       "144           1.163                    0.463                         0.143   \n",
       "145           0.711                    0.614                         0.555   \n",
       "146           0.885                    0.499                         0.417   \n",
       "147           0.517                    0.361                         0.000   \n",
       "148           0.000                    0.105                         0.225   \n",
       "\n",
       "     Generosity  Perceptions of corruption                           Region  \n",
       "0         0.153                      0.393                           Europe  \n",
       "1         0.252                      0.410                           Europe  \n",
       "2         0.271                      0.341                           Europe  \n",
       "3         0.354                      0.118                           Europe  \n",
       "4         0.322                      0.298                           Europe  \n",
       "..          ...                        ...                              ...  \n",
       "144       0.108                      0.077  Middle East and Northern Africa  \n",
       "145       0.217                      0.411               Sub-Saharan Africa  \n",
       "146       0.276                      0.147               Sub-Saharan Africa  \n",
       "147       0.158                      0.025                             Asia  \n",
       "148       0.235                      0.035               Sub-Saharan Africa  \n",
       "\n",
       "[149 rows x 10 columns]"
      ]
     },
     "execution_count": 31,
     "metadata": {},
     "output_type": "execute_result"
    }
   ],
   "source": [
    "#write it as csv so we can look at it\n",
    "#output file for data\n",
    "output_file = os.path.join(\"../clean_csvs/2019_csv_regions.csv\")\n",
    "#open output file\n",
    "with open(output_file, 'w') as datafile:\n",
    "    merged_2019.to_csv(output_file)\n",
    "\n",
    "merged_2019"
   ]
  },
  {
   "cell_type": "code",
   "execution_count": 23,
   "metadata": {},
   "outputs": [
    {
     "name": "stdout",
     "output_type": "stream",
     "text": [
      "slope:0.28\n",
      "intercept:-0.61\n",
      "R-squared: 0.6343\n",
      "y=0.28x + -0.61\n"
     ]
    },
    {
     "data": {
      "application/vnd.plotly.v1+json": {
       "config": {
        "plotlyServerURL": "https://plot.ly"
       },
       "data": [
        {
         "hovertemplate": "<b>%{hovertext}</b><br><br>Region=Europe<br>Score=%{x}<br>GDP per capita=%{y}<extra></extra>",
         "hovertext": [
          "Finland",
          "Denmark",
          "Norway",
          "Iceland",
          "Netherlands",
          "Switzerland",
          "Sweden",
          "Austria",
          "Luxembourg",
          "United Kingdom",
          "Ireland",
          "Germany",
          "Belgium",
          "Czech Republic",
          "Malta",
          "France",
          "Spain",
          "Italy",
          "Slovakia",
          "Poland",
          "Uzbekistan",
          "Lithuania",
          "Slovenia",
          "Kosovo",
          "Romania",
          "Cyprus",
          "Latvia",
          "Estonia",
          "Kazakhstan",
          "Hungary",
          "Portugal",
          "Russia",
          "Serbia",
          "Moldova",
          "Montenegro",
          "Tajikistan",
          "Croatia",
          "Bosnia and Herzegovina",
          "Belarus",
          "Greece",
          "Kyrgyzstan",
          "Turkmenistan",
          "Azerbaijan",
          "Bulgaria",
          "Albania",
          "Armenia",
          "Georgia",
          "Ukraine"
         ],
         "legendgroup": "Europe",
         "marker": {
          "color": "#636efa",
          "line": {
           "color": "DarkSlateGrey",
           "width": 1
          },
          "size": 10,
          "symbol": "circle"
         },
         "mode": "markers",
         "name": "Europe",
         "orientation": "v",
         "showlegend": true,
         "type": "scatter",
         "x": [
          7.769,
          7.6,
          7.553999999999999,
          7.494,
          7.4879999999999995,
          7.48,
          7.343,
          7.246,
          7.09,
          7.053999999999999,
          7.021,
          6.985,
          6.922999999999999,
          6.852,
          6.726,
          6.5920000000000005,
          6.354,
          6.223,
          6.1979999999999995,
          6.182,
          6.1739999999999995,
          6.149,
          6.117999999999999,
          6.1,
          6.07,
          6.046,
          5.94,
          5.893,
          5.809,
          5.757999999999999,
          5.693,
          5.648,
          5.603,
          5.529,
          5.523,
          5.4670000000000005,
          5.432,
          5.386,
          5.3229999999999995,
          5.287000000000001,
          5.261,
          5.247000000000001,
          5.207999999999999,
          5.011,
          4.718999999999999,
          4.559,
          4.519,
          4.332
         ],
         "xaxis": "x",
         "y": [
          1.34,
          1.383,
          1.4880000000000002,
          1.38,
          1.396,
          1.452,
          1.3869999999999998,
          1.376,
          1.609,
          1.3330000000000002,
          1.499,
          1.3730000000000002,
          1.3559999999999999,
          1.2690000000000001,
          1.3,
          1.324,
          1.286,
          1.294,
          1.246,
          1.206,
          0.745,
          1.238,
          1.258,
          0.882,
          1.162,
          1.263,
          1.187,
          1.237,
          1.173,
          1.2009999999999998,
          1.2209999999999999,
          1.183,
          1.004,
          0.685,
          1.051,
          0.493,
          1.155,
          0.945,
          1.067,
          1.181,
          0.551,
          1.052,
          1.043,
          1.092,
          0.9470000000000001,
          0.85,
          0.8859999999999999,
          0.82
         ],
         "yaxis": "y"
        },
        {
         "hovertemplate": "<b>OLS trendline</b><br>GDP per capita = 0.200947 * Score + -0.0667705<br>R<sup>2</sup>=0.560369<br><br>Region=Europe<br>Score=%{x}<br>GDP per capita=%{y} <b>(trend)</b><extra></extra>",
         "legendgroup": "Europe",
         "marker": {
          "color": "#636efa",
          "line": {
           "color": "DarkSlateGrey",
           "width": 1
          },
          "size": 10,
          "symbol": "circle"
         },
         "mode": "lines",
         "name": "Europe",
         "showlegend": false,
         "type": "scatter",
         "x": [
          4.332,
          4.519,
          4.559,
          4.718999999999999,
          5.011,
          5.207999999999999,
          5.247000000000001,
          5.261,
          5.287000000000001,
          5.3229999999999995,
          5.386,
          5.432,
          5.4670000000000005,
          5.523,
          5.529,
          5.603,
          5.648,
          5.693,
          5.757999999999999,
          5.809,
          5.893,
          5.94,
          6.046,
          6.07,
          6.1,
          6.117999999999999,
          6.149,
          6.1739999999999995,
          6.182,
          6.1979999999999995,
          6.223,
          6.354,
          6.5920000000000005,
          6.726,
          6.852,
          6.922999999999999,
          6.985,
          7.021,
          7.053999999999999,
          7.09,
          7.246,
          7.343,
          7.48,
          7.4879999999999995,
          7.494,
          7.553999999999999,
          7.6,
          7.769
         ],
         "xaxis": "x",
         "y": [
          0.8037317070149816,
          0.8413087879502634,
          0.8493466662251901,
          0.8814981793248964,
          0.9401746907318607,
          0.979761241235874,
          0.9875981725539278,
          0.9904114299501519,
          0.9956360508288544,
          1.002870141276288,
          1.0155297995592976,
          1.0247733595754631,
          1.031806503066024,
          1.043059532650921,
          1.04426521439216,
          1.0591352892007742,
          1.0681779022600666,
          1.077220515319359,
          1.0902820675161147,
          1.1005303623166462,
          1.117409906693992,
          1.1268544136670309,
          1.1481547910955863,
          1.1529775180605424,
          1.1590059267667372,
          1.1626229719904542,
          1.1688523276535223,
          1.1738760015753513,
          1.1754835772303367,
          1.1786987285403072,
          1.1837224024621364,
          1.210046453812521,
          1.2578718295483344,
          1.2847987217693384,
          1.3101180383353572,
          1.3243852722733518,
          1.336843983599488,
          1.344078074046922,
          1.3507093236237364,
          1.3579434140711704,
          1.3892911393433842,
          1.4087829941600811,
          1.436312727251705,
          1.43792030290669,
          1.439125984647929,
          1.4511828020603188,
          1.4604263620764844,
          1.4943863977880494
         ],
         "yaxis": "y"
        },
        {
         "hovertemplate": "<b>%{hovertext}</b><br><br>Region=Australia and New Zealand<br>Score=%{x}<br>GDP per capita=%{y}<extra></extra>",
         "hovertext": [
          "New Zealand",
          "Australia"
         ],
         "legendgroup": "Australia and New Zealand",
         "marker": {
          "color": "#EF553B",
          "line": {
           "color": "DarkSlateGrey",
           "width": 1
          },
          "size": 10,
          "symbol": "circle"
         },
         "mode": "markers",
         "name": "Australia and New Zealand",
         "orientation": "v",
         "showlegend": true,
         "type": "scatter",
         "x": [
          7.307,
          7.228
         ],
         "xaxis": "x",
         "y": [
          1.3030000000000002,
          1.3719999999999999
         ],
         "yaxis": "y"
        },
        {
         "hovertemplate": "<b>OLS trendline</b><br>GDP per capita = -0.873418 * Score + 7.68506<br>R<sup>2</sup>=1.000000<br><br>Region=Australia and New Zealand<br>Score=%{x}<br>GDP per capita=%{y} <b>(trend)</b><extra></extra>",
         "legendgroup": "Australia and New Zealand",
         "marker": {
          "color": "#EF553B",
          "line": {
           "color": "DarkSlateGrey",
           "width": 1
          },
          "size": 10,
          "symbol": "circle"
         },
         "mode": "lines",
         "name": "Australia and New Zealand",
         "showlegend": false,
         "type": "scatter",
         "x": [
          7.228,
          7.307
         ],
         "xaxis": "x",
         "y": [
          1.3720000000000026,
          1.3030000000000026
         ],
         "yaxis": "y"
        },
        {
         "hovertemplate": "<b>%{hovertext}</b><br><br>Region=North America<br>Score=%{x}<br>GDP per capita=%{y}<extra></extra>",
         "hovertext": [
          "Canada",
          "United States"
         ],
         "legendgroup": "North America",
         "marker": {
          "color": "#00cc96",
          "line": {
           "color": "DarkSlateGrey",
           "width": 1
          },
          "size": 10,
          "symbol": "circle"
         },
         "mode": "markers",
         "name": "North America",
         "orientation": "v",
         "showlegend": true,
         "type": "scatter",
         "x": [
          7.278,
          6.892
         ],
         "xaxis": "x",
         "y": [
          1.365,
          1.433
         ],
         "yaxis": "y"
        },
        {
         "hovertemplate": "<b>OLS trendline</b><br>GDP per capita = -0.176166 * Score + 2.64713<br>R<sup>2</sup>=1.000000<br><br>Region=North America<br>Score=%{x}<br>GDP per capita=%{y} <b>(trend)</b><extra></extra>",
         "legendgroup": "North America",
         "marker": {
          "color": "#00cc96",
          "line": {
           "color": "DarkSlateGrey",
           "width": 1
          },
          "size": 10,
          "symbol": "circle"
         },
         "mode": "lines",
         "name": "North America",
         "showlegend": false,
         "type": "scatter",
         "x": [
          6.892,
          7.278
         ],
         "xaxis": "x",
         "y": [
          1.4330000000000065,
          1.3650000000000062
         ],
         "yaxis": "y"
        },
        {
         "hovertemplate": "<b>%{hovertext}</b><br><br>Region=Latin America and Caribbean<br>Score=%{x}<br>GDP per capita=%{y}<extra></extra>",
         "hovertext": [
          "Costa Rica",
          "Mexico",
          "Chile",
          "Guatemala",
          "Panama",
          "Brazil",
          "Uruguay",
          "El Salvador",
          "Colombia",
          "Nicaragua",
          "Argentina",
          "Ecuador",
          "Jamaica",
          "Honduras",
          "Bolivia",
          "Paraguay",
          "Peru",
          "Dominican Republic",
          "Venezuela",
          "Haiti"
         ],
         "legendgroup": "Latin America and Caribbean",
         "marker": {
          "color": "#ab63fa",
          "line": {
           "color": "DarkSlateGrey",
           "width": 1
          },
          "size": 10,
          "symbol": "circle"
         },
         "mode": "markers",
         "name": "Latin America and Caribbean",
         "orientation": "v",
         "showlegend": true,
         "type": "scatter",
         "x": [
          7.167000000000001,
          6.595,
          6.444,
          6.436,
          6.321000000000001,
          6.3,
          6.292999999999999,
          6.252999999999999,
          6.125,
          6.105,
          6.086,
          6.028,
          5.89,
          5.86,
          5.779,
          5.742999999999999,
          5.697,
          5.425,
          4.707,
          3.597
         ],
         "xaxis": "x",
         "y": [
          1.034,
          1.07,
          1.159,
          0.8,
          1.149,
          1.004,
          1.124,
          0.794,
          0.985,
          0.6940000000000001,
          1.092,
          0.912,
          0.831,
          0.642,
          0.7759999999999999,
          0.855,
          0.96,
          1.015,
          0.96,
          0.32299999999999995
         ],
         "yaxis": "y"
        },
        {
         "hovertemplate": "<b>OLS trendline</b><br>GDP per capita = 0.172799 * Score + -0.117916<br>R<sup>2</sup>=0.396579<br><br>Region=Latin America and Caribbean<br>Score=%{x}<br>GDP per capita=%{y} <b>(trend)</b><extra></extra>",
         "legendgroup": "Latin America and Caribbean",
         "marker": {
          "color": "#ab63fa",
          "line": {
           "color": "DarkSlateGrey",
           "width": 1
          },
          "size": 10,
          "symbol": "circle"
         },
         "mode": "lines",
         "name": "Latin America and Caribbean",
         "showlegend": false,
         "type": "scatter",
         "x": [
          3.597,
          4.707,
          5.425,
          5.697,
          5.742999999999999,
          5.779,
          5.86,
          5.89,
          6.028,
          6.086,
          6.105,
          6.125,
          6.252999999999999,
          6.292999999999999,
          6.3,
          6.321000000000001,
          6.436,
          6.444,
          6.595,
          7.167000000000001
         ],
         "xaxis": "x",
         "y": [
          0.5036413983841328,
          0.6954482444516276,
          0.8195178980340251,
          0.8665192152685824,
          0.874467967447956,
          0.8806887300231181,
          0.8946854458172327,
          0.8998694146298675,
          0.9237156711679885,
          0.9337380108724164,
          0.9370211911204184,
          0.9404771703288418,
          0.9625954372627509,
          0.9695073956795975,
          0.9707169884025458,
          0.9743457665713905,
          0.9942176470198244,
          0.9956000387031939,
          1.02169268172679,
          1.1205336870876974
         ],
         "yaxis": "y"
        },
        {
         "hovertemplate": "<b>%{hovertext}</b><br><br>Region=Middle East and Northern Africa<br>Score=%{x}<br>GDP per capita=%{y}<extra></extra>",
         "hovertext": [
          "Israel",
          "United Arab Emirates",
          "Saudi Arabia",
          "Qatar",
          "Bahrain",
          "Kuwait",
          "Libya",
          "Turkey",
          "Algeria",
          "Morocco",
          "Lebanon",
          "Jordan",
          "Palestinian Territories",
          "Iran",
          "Tunisia",
          "Iraq",
          "Egypt",
          "Syria",
          "Yemen"
         ],
         "legendgroup": "Middle East and Northern Africa",
         "marker": {
          "color": "#FFA15A",
          "line": {
           "color": "DarkSlateGrey",
           "width": 1
          },
          "size": 10,
          "symbol": "circle"
         },
         "mode": "markers",
         "name": "Middle East and Northern Africa",
         "orientation": "v",
         "showlegend": true,
         "type": "scatter",
         "x": [
          7.138999999999999,
          6.825,
          6.375,
          6.374,
          6.199,
          6.021,
          5.525,
          5.372999999999999,
          5.211,
          5.207999999999999,
          5.197,
          4.906000000000001,
          4.696000000000001,
          4.548,
          4.461,
          4.437,
          4.166,
          3.4619999999999997,
          3.38
         ],
         "xaxis": "x",
         "y": [
          1.276,
          1.5030000000000001,
          1.403,
          1.6840000000000002,
          1.3619999999999999,
          1.5,
          1.044,
          1.183,
          1.002,
          0.8009999999999999,
          0.987,
          0.8370000000000001,
          0.657,
          1.1,
          0.9209999999999999,
          1.043,
          0.9129999999999999,
          0.619,
          0.287
         ],
         "yaxis": "y"
        },
        {
         "hovertemplate": "<b>OLS trendline</b><br>GDP per capita = 0.278454 * Score + -0.399211<br>R<sup>2</sup>=0.722148<br><br>Region=Middle East and Northern Africa<br>Score=%{x}<br>GDP per capita=%{y} <b>(trend)</b><extra></extra>",
         "legendgroup": "Middle East and Northern Africa",
         "marker": {
          "color": "#FFA15A",
          "line": {
           "color": "DarkSlateGrey",
           "width": 1
          },
          "size": 10,
          "symbol": "circle"
         },
         "mode": "lines",
         "name": "Middle East and Northern Africa",
         "showlegend": false,
         "type": "scatter",
         "x": [
          3.38,
          3.4619999999999997,
          4.166,
          4.437,
          4.461,
          4.548,
          4.696000000000001,
          4.906000000000001,
          5.197,
          5.207999999999999,
          5.211,
          5.372999999999999,
          5.525,
          6.021,
          6.199,
          6.374,
          6.375,
          6.825,
          7.138999999999999
         ],
         "xaxis": "x",
         "y": [
          0.5419635211582305,
          0.5647967505898399,
          0.7608283788807313,
          0.8362894176120259,
          0.8429723140310337,
          0.8671978135499363,
          0.908409008133817,
          0.966884351800134,
          1.0479144708806014,
          1.0509774650726464,
          1.0518128271250227,
          1.0969223779533241,
          1.1392473886070396,
          1.277360581266531,
          1.326925396374171,
          1.375654849429435,
          1.3759333034468937,
          1.5012376113032873,
          1.588672172785304
         ],
         "yaxis": "y"
        },
        {
         "hovertemplate": "<b>%{hovertext}</b><br><br>Region=Asia<br>Score=%{x}<br>GDP per capita=%{y}<extra></extra>",
         "hovertext": [
          "Taiwan",
          "Singapore",
          "Thailand",
          "South Korea",
          "Japan",
          "Pakistan",
          "Philippines",
          "Hong Kong",
          "Malaysia",
          "Mongolia",
          "Indonesia",
          "China",
          "Vietnam",
          "Bhutan",
          "Nepal",
          "Laos",
          "Cambodia",
          "Bangladesh",
          "Sri Lanka",
          "Myanmar",
          "India",
          "Afghanistan"
         ],
         "legendgroup": "Asia",
         "marker": {
          "color": "#19d3f3",
          "line": {
           "color": "DarkSlateGrey",
           "width": 1
          },
          "size": 10,
          "symbol": "circle"
         },
         "mode": "markers",
         "name": "Asia",
         "orientation": "v",
         "showlegend": true,
         "type": "scatter",
         "x": [
          6.446000000000001,
          6.2620000000000005,
          6.007999999999999,
          5.895,
          5.886,
          5.653,
          5.631,
          5.43,
          5.3389999999999995,
          5.285,
          5.192,
          5.191,
          5.175,
          5.082,
          4.913,
          4.796,
          4.7,
          4.456,
          4.3660000000000005,
          4.36,
          4.015,
          3.2030000000000003
         ],
         "xaxis": "x",
         "y": [
          1.368,
          1.5719999999999998,
          1.05,
          1.301,
          1.327,
          0.677,
          0.807,
          1.4380000000000002,
          1.2209999999999999,
          0.948,
          0.9309999999999999,
          1.0290000000000001,
          0.741,
          0.813,
          0.446,
          0.764,
          0.574,
          0.562,
          0.9490000000000001,
          0.71,
          0.755,
          0.35
         ],
         "yaxis": "y"
        },
        {
         "hovertemplate": "<b>OLS trendline</b><br>GDP per capita = 0.322463 * Score + -0.736221<br>R<sup>2</sup>=0.559441<br><br>Region=Asia<br>Score=%{x}<br>GDP per capita=%{y} <b>(trend)</b><extra></extra>",
         "legendgroup": "Asia",
         "marker": {
          "color": "#19d3f3",
          "line": {
           "color": "DarkSlateGrey",
           "width": 1
          },
          "size": 10,
          "symbol": "circle"
         },
         "mode": "lines",
         "name": "Asia",
         "showlegend": false,
         "type": "scatter",
         "x": [
          3.2030000000000003,
          4.015,
          4.36,
          4.3660000000000005,
          4.456,
          4.7,
          4.796,
          4.913,
          5.082,
          5.175,
          5.191,
          5.192,
          5.285,
          5.3389999999999995,
          5.43,
          5.631,
          5.653,
          5.886,
          5.895,
          6.007999999999999,
          6.2620000000000005,
          6.446000000000001
         ],
         "xaxis": "x",
         "y": [
          0.2966270672701351,
          0.5584667157891298,
          0.6697163201475699,
          0.6716510958755427,
          0.7006727317951359,
          0.7793536113993657,
          0.8103100230469317,
          0.8480381497424027,
          0.9025343327469716,
          0.932523356530551,
          0.937682758471812,
          0.938005221093141,
          0.9679942448767204,
          0.985407226428476,
          1.014751324969398,
          1.0795663118564893,
          1.0866604895257228,
          1.1617942802953358,
          1.164696443887295,
          1.2011347200974507,
          1.2830402259149691,
          1.3423733482394709
         ],
         "yaxis": "y"
        },
        {
         "hovertemplate": "<b>%{hovertext}</b><br><br>Region=Sub-Saharan Africa<br>Score=%{x}<br>GDP per capita=%{y}<extra></extra>",
         "hovertext": [
          "Mauritius",
          "Nigeria",
          "Cameroon",
          "Ghana",
          "Ivory Coast",
          "Benin",
          "Congo (Brazzaville)",
          "Gabon",
          "South Africa",
          "Senegal",
          "Niger",
          "Burkina Faso",
          "Guinea",
          "Kenya",
          "Mauritania",
          "Mozambique",
          "Congo (Kinshasa)",
          "Mali",
          "Sierra Leone",
          "Chad",
          "Ethiopia",
          "Swaziland",
          "Uganda",
          "Zambia",
          "Togo",
          "Liberia",
          "Comoros",
          "Madagascar",
          "Lesotho",
          "Burundi",
          "Zimbabwe",
          "Botswana",
          "Malawi",
          "Rwanda",
          "Tanzania",
          "Central African Republic"
         ],
         "legendgroup": "Sub-Saharan Africa",
         "marker": {
          "color": "#FF6692",
          "line": {
           "color": "DarkSlateGrey",
           "width": 1
          },
          "size": 10,
          "symbol": "circle"
         },
         "mode": "markers",
         "name": "Sub-Saharan Africa",
         "orientation": "v",
         "showlegend": true,
         "type": "scatter",
         "x": [
          5.888,
          5.265,
          5.044,
          4.996,
          4.944,
          4.883,
          4.812,
          4.7989999999999995,
          4.7219999999999995,
          4.681,
          4.628,
          4.587,
          4.534,
          4.5089999999999995,
          4.49,
          4.466,
          4.418,
          4.39,
          4.374,
          4.35,
          4.2860000000000005,
          4.212,
          4.189,
          4.107,
          4.085,
          3.975,
          3.9730000000000003,
          3.9330000000000003,
          3.802,
          3.775,
          3.6630000000000003,
          3.488,
          3.41,
          3.3339999999999996,
          3.2310000000000003,
          3.083
         ],
         "xaxis": "x",
         "y": [
          1.12,
          0.696,
          0.5489999999999999,
          0.611,
          0.569,
          0.39299999999999996,
          0.6729999999999999,
          1.057,
          0.96,
          0.45,
          0.138,
          0.331,
          0.38,
          0.512,
          0.57,
          0.204,
          0.094,
          0.385,
          0.268,
          0.35,
          0.336,
          0.8109999999999999,
          0.332,
          0.578,
          0.275,
          0.073,
          0.27399999999999997,
          0.27399999999999997,
          0.489,
          0.046,
          0.366,
          1.041,
          0.191,
          0.359,
          0.47600000000000003,
          0.026000000000000002
         ],
         "yaxis": "y"
        },
        {
         "hovertemplate": "<b>OLS trendline</b><br>GDP per capita = 0.214207 * Score + -0.472638<br>R<sup>2</sup>=0.210827<br><br>Region=Sub-Saharan Africa<br>Score=%{x}<br>GDP per capita=%{y} <b>(trend)</b><extra></extra>",
         "legendgroup": "Sub-Saharan Africa",
         "marker": {
          "color": "#FF6692",
          "line": {
           "color": "DarkSlateGrey",
           "width": 1
          },
          "size": 10,
          "symbol": "circle"
         },
         "mode": "lines",
         "name": "Sub-Saharan Africa",
         "showlegend": false,
         "type": "scatter",
         "x": [
          3.083,
          3.2310000000000003,
          3.3339999999999996,
          3.41,
          3.488,
          3.6630000000000003,
          3.775,
          3.802,
          3.9330000000000003,
          3.9730000000000003,
          3.975,
          4.085,
          4.107,
          4.189,
          4.212,
          4.2860000000000005,
          4.35,
          4.374,
          4.39,
          4.418,
          4.466,
          4.49,
          4.5089999999999995,
          4.534,
          4.587,
          4.628,
          4.681,
          4.7219999999999995,
          4.7989999999999995,
          4.812,
          4.883,
          4.944,
          4.996,
          5.044,
          5.265,
          5.888
         ],
         "xaxis": "x",
         "y": [
          0.18776328472143894,
          0.2194659600564603,
          0.24152930843150872,
          0.2578090606305738,
          0.27451722736119305,
          0.31200349887219797,
          0.335994712639241,
          0.3417783088152247,
          0.36983946063203416,
          0.37840775126312093,
          0.3788361657946752,
          0.402398965030164,
          0.4071115248772618,
          0.42467652067098977,
          0.42960328778386464,
          0.44545462545137543,
          0.4591638904611142,
          0.46430486483976624,
          0.467732181092201,
          0.4737299845339619,
          0.48401193329126607,
          0.4891529076699182,
          0.4932228457196843,
          0.49857802736411366,
          0.5099310124503036,
          0.5187135103471678,
          0.5300664954333578,
          0.5388489933302216,
          0.555342952795064,
          0.5581276472501673,
          0.5733363631203463,
          0.5864030063327537,
          0.5975417841531667,
          0.6078237329104708,
          0.6551635386472254,
          0.788614665226403
         ],
         "yaxis": "y"
        }
       ],
       "layout": {
        "height": 600,
        "legend": {
         "title": {
          "text": "Region"
         },
         "tracegroupgap": 0
        },
        "template": {
         "data": {
          "bar": [
           {
            "error_x": {
             "color": "#2a3f5f"
            },
            "error_y": {
             "color": "#2a3f5f"
            },
            "marker": {
             "line": {
              "color": "#E5ECF6",
              "width": 0.5
             }
            },
            "type": "bar"
           }
          ],
          "barpolar": [
           {
            "marker": {
             "line": {
              "color": "#E5ECF6",
              "width": 0.5
             }
            },
            "type": "barpolar"
           }
          ],
          "carpet": [
           {
            "aaxis": {
             "endlinecolor": "#2a3f5f",
             "gridcolor": "white",
             "linecolor": "white",
             "minorgridcolor": "white",
             "startlinecolor": "#2a3f5f"
            },
            "baxis": {
             "endlinecolor": "#2a3f5f",
             "gridcolor": "white",
             "linecolor": "white",
             "minorgridcolor": "white",
             "startlinecolor": "#2a3f5f"
            },
            "type": "carpet"
           }
          ],
          "choropleth": [
           {
            "colorbar": {
             "outlinewidth": 0,
             "ticks": ""
            },
            "type": "choropleth"
           }
          ],
          "contour": [
           {
            "colorbar": {
             "outlinewidth": 0,
             "ticks": ""
            },
            "colorscale": [
             [
              0,
              "#0d0887"
             ],
             [
              0.1111111111111111,
              "#46039f"
             ],
             [
              0.2222222222222222,
              "#7201a8"
             ],
             [
              0.3333333333333333,
              "#9c179e"
             ],
             [
              0.4444444444444444,
              "#bd3786"
             ],
             [
              0.5555555555555556,
              "#d8576b"
             ],
             [
              0.6666666666666666,
              "#ed7953"
             ],
             [
              0.7777777777777778,
              "#fb9f3a"
             ],
             [
              0.8888888888888888,
              "#fdca26"
             ],
             [
              1,
              "#f0f921"
             ]
            ],
            "type": "contour"
           }
          ],
          "contourcarpet": [
           {
            "colorbar": {
             "outlinewidth": 0,
             "ticks": ""
            },
            "type": "contourcarpet"
           }
          ],
          "heatmap": [
           {
            "colorbar": {
             "outlinewidth": 0,
             "ticks": ""
            },
            "colorscale": [
             [
              0,
              "#0d0887"
             ],
             [
              0.1111111111111111,
              "#46039f"
             ],
             [
              0.2222222222222222,
              "#7201a8"
             ],
             [
              0.3333333333333333,
              "#9c179e"
             ],
             [
              0.4444444444444444,
              "#bd3786"
             ],
             [
              0.5555555555555556,
              "#d8576b"
             ],
             [
              0.6666666666666666,
              "#ed7953"
             ],
             [
              0.7777777777777778,
              "#fb9f3a"
             ],
             [
              0.8888888888888888,
              "#fdca26"
             ],
             [
              1,
              "#f0f921"
             ]
            ],
            "type": "heatmap"
           }
          ],
          "heatmapgl": [
           {
            "colorbar": {
             "outlinewidth": 0,
             "ticks": ""
            },
            "colorscale": [
             [
              0,
              "#0d0887"
             ],
             [
              0.1111111111111111,
              "#46039f"
             ],
             [
              0.2222222222222222,
              "#7201a8"
             ],
             [
              0.3333333333333333,
              "#9c179e"
             ],
             [
              0.4444444444444444,
              "#bd3786"
             ],
             [
              0.5555555555555556,
              "#d8576b"
             ],
             [
              0.6666666666666666,
              "#ed7953"
             ],
             [
              0.7777777777777778,
              "#fb9f3a"
             ],
             [
              0.8888888888888888,
              "#fdca26"
             ],
             [
              1,
              "#f0f921"
             ]
            ],
            "type": "heatmapgl"
           }
          ],
          "histogram": [
           {
            "marker": {
             "colorbar": {
              "outlinewidth": 0,
              "ticks": ""
             }
            },
            "type": "histogram"
           }
          ],
          "histogram2d": [
           {
            "colorbar": {
             "outlinewidth": 0,
             "ticks": ""
            },
            "colorscale": [
             [
              0,
              "#0d0887"
             ],
             [
              0.1111111111111111,
              "#46039f"
             ],
             [
              0.2222222222222222,
              "#7201a8"
             ],
             [
              0.3333333333333333,
              "#9c179e"
             ],
             [
              0.4444444444444444,
              "#bd3786"
             ],
             [
              0.5555555555555556,
              "#d8576b"
             ],
             [
              0.6666666666666666,
              "#ed7953"
             ],
             [
              0.7777777777777778,
              "#fb9f3a"
             ],
             [
              0.8888888888888888,
              "#fdca26"
             ],
             [
              1,
              "#f0f921"
             ]
            ],
            "type": "histogram2d"
           }
          ],
          "histogram2dcontour": [
           {
            "colorbar": {
             "outlinewidth": 0,
             "ticks": ""
            },
            "colorscale": [
             [
              0,
              "#0d0887"
             ],
             [
              0.1111111111111111,
              "#46039f"
             ],
             [
              0.2222222222222222,
              "#7201a8"
             ],
             [
              0.3333333333333333,
              "#9c179e"
             ],
             [
              0.4444444444444444,
              "#bd3786"
             ],
             [
              0.5555555555555556,
              "#d8576b"
             ],
             [
              0.6666666666666666,
              "#ed7953"
             ],
             [
              0.7777777777777778,
              "#fb9f3a"
             ],
             [
              0.8888888888888888,
              "#fdca26"
             ],
             [
              1,
              "#f0f921"
             ]
            ],
            "type": "histogram2dcontour"
           }
          ],
          "mesh3d": [
           {
            "colorbar": {
             "outlinewidth": 0,
             "ticks": ""
            },
            "type": "mesh3d"
           }
          ],
          "parcoords": [
           {
            "line": {
             "colorbar": {
              "outlinewidth": 0,
              "ticks": ""
             }
            },
            "type": "parcoords"
           }
          ],
          "pie": [
           {
            "automargin": true,
            "type": "pie"
           }
          ],
          "scatter": [
           {
            "marker": {
             "colorbar": {
              "outlinewidth": 0,
              "ticks": ""
             }
            },
            "type": "scatter"
           }
          ],
          "scatter3d": [
           {
            "line": {
             "colorbar": {
              "outlinewidth": 0,
              "ticks": ""
             }
            },
            "marker": {
             "colorbar": {
              "outlinewidth": 0,
              "ticks": ""
             }
            },
            "type": "scatter3d"
           }
          ],
          "scattercarpet": [
           {
            "marker": {
             "colorbar": {
              "outlinewidth": 0,
              "ticks": ""
             }
            },
            "type": "scattercarpet"
           }
          ],
          "scattergeo": [
           {
            "marker": {
             "colorbar": {
              "outlinewidth": 0,
              "ticks": ""
             }
            },
            "type": "scattergeo"
           }
          ],
          "scattergl": [
           {
            "marker": {
             "colorbar": {
              "outlinewidth": 0,
              "ticks": ""
             }
            },
            "type": "scattergl"
           }
          ],
          "scattermapbox": [
           {
            "marker": {
             "colorbar": {
              "outlinewidth": 0,
              "ticks": ""
             }
            },
            "type": "scattermapbox"
           }
          ],
          "scatterpolar": [
           {
            "marker": {
             "colorbar": {
              "outlinewidth": 0,
              "ticks": ""
             }
            },
            "type": "scatterpolar"
           }
          ],
          "scatterpolargl": [
           {
            "marker": {
             "colorbar": {
              "outlinewidth": 0,
              "ticks": ""
             }
            },
            "type": "scatterpolargl"
           }
          ],
          "scatterternary": [
           {
            "marker": {
             "colorbar": {
              "outlinewidth": 0,
              "ticks": ""
             }
            },
            "type": "scatterternary"
           }
          ],
          "surface": [
           {
            "colorbar": {
             "outlinewidth": 0,
             "ticks": ""
            },
            "colorscale": [
             [
              0,
              "#0d0887"
             ],
             [
              0.1111111111111111,
              "#46039f"
             ],
             [
              0.2222222222222222,
              "#7201a8"
             ],
             [
              0.3333333333333333,
              "#9c179e"
             ],
             [
              0.4444444444444444,
              "#bd3786"
             ],
             [
              0.5555555555555556,
              "#d8576b"
             ],
             [
              0.6666666666666666,
              "#ed7953"
             ],
             [
              0.7777777777777778,
              "#fb9f3a"
             ],
             [
              0.8888888888888888,
              "#fdca26"
             ],
             [
              1,
              "#f0f921"
             ]
            ],
            "type": "surface"
           }
          ],
          "table": [
           {
            "cells": {
             "fill": {
              "color": "#EBF0F8"
             },
             "line": {
              "color": "white"
             }
            },
            "header": {
             "fill": {
              "color": "#C8D4E3"
             },
             "line": {
              "color": "white"
             }
            },
            "type": "table"
           }
          ]
         },
         "layout": {
          "annotationdefaults": {
           "arrowcolor": "#2a3f5f",
           "arrowhead": 0,
           "arrowwidth": 1
          },
          "autotypenumbers": "strict",
          "coloraxis": {
           "colorbar": {
            "outlinewidth": 0,
            "ticks": ""
           }
          },
          "colorscale": {
           "diverging": [
            [
             0,
             "#8e0152"
            ],
            [
             0.1,
             "#c51b7d"
            ],
            [
             0.2,
             "#de77ae"
            ],
            [
             0.3,
             "#f1b6da"
            ],
            [
             0.4,
             "#fde0ef"
            ],
            [
             0.5,
             "#f7f7f7"
            ],
            [
             0.6,
             "#e6f5d0"
            ],
            [
             0.7,
             "#b8e186"
            ],
            [
             0.8,
             "#7fbc41"
            ],
            [
             0.9,
             "#4d9221"
            ],
            [
             1,
             "#276419"
            ]
           ],
           "sequential": [
            [
             0,
             "#0d0887"
            ],
            [
             0.1111111111111111,
             "#46039f"
            ],
            [
             0.2222222222222222,
             "#7201a8"
            ],
            [
             0.3333333333333333,
             "#9c179e"
            ],
            [
             0.4444444444444444,
             "#bd3786"
            ],
            [
             0.5555555555555556,
             "#d8576b"
            ],
            [
             0.6666666666666666,
             "#ed7953"
            ],
            [
             0.7777777777777778,
             "#fb9f3a"
            ],
            [
             0.8888888888888888,
             "#fdca26"
            ],
            [
             1,
             "#f0f921"
            ]
           ],
           "sequentialminus": [
            [
             0,
             "#0d0887"
            ],
            [
             0.1111111111111111,
             "#46039f"
            ],
            [
             0.2222222222222222,
             "#7201a8"
            ],
            [
             0.3333333333333333,
             "#9c179e"
            ],
            [
             0.4444444444444444,
             "#bd3786"
            ],
            [
             0.5555555555555556,
             "#d8576b"
            ],
            [
             0.6666666666666666,
             "#ed7953"
            ],
            [
             0.7777777777777778,
             "#fb9f3a"
            ],
            [
             0.8888888888888888,
             "#fdca26"
            ],
            [
             1,
             "#f0f921"
            ]
           ]
          },
          "colorway": [
           "#636efa",
           "#EF553B",
           "#00cc96",
           "#ab63fa",
           "#FFA15A",
           "#19d3f3",
           "#FF6692",
           "#B6E880",
           "#FF97FF",
           "#FECB52"
          ],
          "font": {
           "color": "#2a3f5f"
          },
          "geo": {
           "bgcolor": "white",
           "lakecolor": "white",
           "landcolor": "#E5ECF6",
           "showlakes": true,
           "showland": true,
           "subunitcolor": "white"
          },
          "hoverlabel": {
           "align": "left"
          },
          "hovermode": "closest",
          "mapbox": {
           "style": "light"
          },
          "paper_bgcolor": "white",
          "plot_bgcolor": "#E5ECF6",
          "polar": {
           "angularaxis": {
            "gridcolor": "white",
            "linecolor": "white",
            "ticks": ""
           },
           "bgcolor": "#E5ECF6",
           "radialaxis": {
            "gridcolor": "white",
            "linecolor": "white",
            "ticks": ""
           }
          },
          "scene": {
           "xaxis": {
            "backgroundcolor": "#E5ECF6",
            "gridcolor": "white",
            "gridwidth": 2,
            "linecolor": "white",
            "showbackground": true,
            "ticks": "",
            "zerolinecolor": "white"
           },
           "yaxis": {
            "backgroundcolor": "#E5ECF6",
            "gridcolor": "white",
            "gridwidth": 2,
            "linecolor": "white",
            "showbackground": true,
            "ticks": "",
            "zerolinecolor": "white"
           },
           "zaxis": {
            "backgroundcolor": "#E5ECF6",
            "gridcolor": "white",
            "gridwidth": 2,
            "linecolor": "white",
            "showbackground": true,
            "ticks": "",
            "zerolinecolor": "white"
           }
          },
          "shapedefaults": {
           "line": {
            "color": "#2a3f5f"
           }
          },
          "ternary": {
           "aaxis": {
            "gridcolor": "white",
            "linecolor": "white",
            "ticks": ""
           },
           "baxis": {
            "gridcolor": "white",
            "linecolor": "white",
            "ticks": ""
           },
           "bgcolor": "#E5ECF6",
           "caxis": {
            "gridcolor": "white",
            "linecolor": "white",
            "ticks": ""
           }
          },
          "title": {
           "x": 0.05
          },
          "xaxis": {
           "automargin": true,
           "gridcolor": "white",
           "linecolor": "white",
           "ticks": "",
           "title": {
            "standoff": 15
           },
           "zerolinecolor": "white",
           "zerolinewidth": 2
          },
          "yaxis": {
           "automargin": true,
           "gridcolor": "white",
           "linecolor": "white",
           "ticks": "",
           "title": {
            "standoff": 15
           },
           "zerolinecolor": "white",
           "zerolinewidth": 2
          }
         }
        },
        "title": {
         "text": "Happiness Score compared to GDP per Capita Score"
        },
        "width": 1000,
        "xaxis": {
         "anchor": "y",
         "domain": [
          0,
          1
         ],
         "range": [
          0,
          8
         ],
         "title": {
          "text": "Happiness Score"
         }
        },
        "yaxis": {
         "anchor": "x",
         "domain": [
          0,
          1
         ],
         "title": {
          "text": "GDP per Capita Score"
         }
        }
       }
      },
      "text/html": [
       "<div>                            <div id=\"d20f8e4b-0490-478e-b716-939987a12ade\" class=\"plotly-graph-div\" style=\"height:600px; width:1000px;\"></div>            <script type=\"text/javascript\">                require([\"plotly\"], function(Plotly) {                    window.PLOTLYENV=window.PLOTLYENV || {};                                    if (document.getElementById(\"d20f8e4b-0490-478e-b716-939987a12ade\")) {                    Plotly.newPlot(                        \"d20f8e4b-0490-478e-b716-939987a12ade\",                        [{\"hovertemplate\": \"<b>%{hovertext}</b><br><br>Region=Europe<br>Score=%{x}<br>GDP per capita=%{y}<extra></extra>\", \"hovertext\": [\"Finland\", \"Denmark\", \"Norway\", \"Iceland\", \"Netherlands\", \"Switzerland\", \"Sweden\", \"Austria\", \"Luxembourg\", \"United Kingdom\", \"Ireland\", \"Germany\", \"Belgium\", \"Czech Republic\", \"Malta\", \"France\", \"Spain\", \"Italy\", \"Slovakia\", \"Poland\", \"Uzbekistan\", \"Lithuania\", \"Slovenia\", \"Kosovo\", \"Romania\", \"Cyprus\", \"Latvia\", \"Estonia\", \"Kazakhstan\", \"Hungary\", \"Portugal\", \"Russia\", \"Serbia\", \"Moldova\", \"Montenegro\", \"Tajikistan\", \"Croatia\", \"Bosnia and Herzegovina\", \"Belarus\", \"Greece\", \"Kyrgyzstan\", \"Turkmenistan\", \"Azerbaijan\", \"Bulgaria\", \"Albania\", \"Armenia\", \"Georgia\", \"Ukraine\"], \"legendgroup\": \"Europe\", \"marker\": {\"color\": \"#636efa\", \"line\": {\"color\": \"DarkSlateGrey\", \"width\": 1}, \"size\": 10, \"symbol\": \"circle\"}, \"mode\": \"markers\", \"name\": \"Europe\", \"orientation\": \"v\", \"showlegend\": true, \"type\": \"scatter\", \"x\": [7.769, 7.6, 7.553999999999999, 7.494, 7.4879999999999995, 7.48, 7.343, 7.246, 7.09, 7.053999999999999, 7.021, 6.985, 6.922999999999999, 6.852, 6.726, 6.5920000000000005, 6.354, 6.223, 6.1979999999999995, 6.182, 6.1739999999999995, 6.149, 6.117999999999999, 6.1, 6.07, 6.046, 5.94, 5.893, 5.809, 5.757999999999999, 5.693, 5.648, 5.603, 5.529, 5.523, 5.4670000000000005, 5.432, 5.386, 5.3229999999999995, 5.287000000000001, 5.261, 5.247000000000001, 5.207999999999999, 5.011, 4.718999999999999, 4.559, 4.519, 4.332], \"xaxis\": \"x\", \"y\": [1.34, 1.383, 1.4880000000000002, 1.38, 1.396, 1.452, 1.3869999999999998, 1.376, 1.609, 1.3330000000000002, 1.499, 1.3730000000000002, 1.3559999999999999, 1.2690000000000001, 1.3, 1.324, 1.286, 1.294, 1.246, 1.206, 0.745, 1.238, 1.258, 0.882, 1.162, 1.263, 1.187, 1.237, 1.173, 1.2009999999999998, 1.2209999999999999, 1.183, 1.004, 0.685, 1.051, 0.493, 1.155, 0.945, 1.067, 1.181, 0.551, 1.052, 1.043, 1.092, 0.9470000000000001, 0.85, 0.8859999999999999, 0.82], \"yaxis\": \"y\"}, {\"hovertemplate\": \"<b>OLS trendline</b><br>GDP per capita = 0.200947 * Score + -0.0667705<br>R<sup>2</sup>=0.560369<br><br>Region=Europe<br>Score=%{x}<br>GDP per capita=%{y} <b>(trend)</b><extra></extra>\", \"legendgroup\": \"Europe\", \"marker\": {\"color\": \"#636efa\", \"line\": {\"color\": \"DarkSlateGrey\", \"width\": 1}, \"size\": 10, \"symbol\": \"circle\"}, \"mode\": \"lines\", \"name\": \"Europe\", \"showlegend\": false, \"type\": \"scatter\", \"x\": [4.332, 4.519, 4.559, 4.718999999999999, 5.011, 5.207999999999999, 5.247000000000001, 5.261, 5.287000000000001, 5.3229999999999995, 5.386, 5.432, 5.4670000000000005, 5.523, 5.529, 5.603, 5.648, 5.693, 5.757999999999999, 5.809, 5.893, 5.94, 6.046, 6.07, 6.1, 6.117999999999999, 6.149, 6.1739999999999995, 6.182, 6.1979999999999995, 6.223, 6.354, 6.5920000000000005, 6.726, 6.852, 6.922999999999999, 6.985, 7.021, 7.053999999999999, 7.09, 7.246, 7.343, 7.48, 7.4879999999999995, 7.494, 7.553999999999999, 7.6, 7.769], \"xaxis\": \"x\", \"y\": [0.8037317070149816, 0.8413087879502634, 0.8493466662251901, 0.8814981793248964, 0.9401746907318607, 0.979761241235874, 0.9875981725539278, 0.9904114299501519, 0.9956360508288544, 1.002870141276288, 1.0155297995592976, 1.0247733595754631, 1.031806503066024, 1.043059532650921, 1.04426521439216, 1.0591352892007742, 1.0681779022600666, 1.077220515319359, 1.0902820675161147, 1.1005303623166462, 1.117409906693992, 1.1268544136670309, 1.1481547910955863, 1.1529775180605424, 1.1590059267667372, 1.1626229719904542, 1.1688523276535223, 1.1738760015753513, 1.1754835772303367, 1.1786987285403072, 1.1837224024621364, 1.210046453812521, 1.2578718295483344, 1.2847987217693384, 1.3101180383353572, 1.3243852722733518, 1.336843983599488, 1.344078074046922, 1.3507093236237364, 1.3579434140711704, 1.3892911393433842, 1.4087829941600811, 1.436312727251705, 1.43792030290669, 1.439125984647929, 1.4511828020603188, 1.4604263620764844, 1.4943863977880494], \"yaxis\": \"y\"}, {\"hovertemplate\": \"<b>%{hovertext}</b><br><br>Region=Australia and New Zealand<br>Score=%{x}<br>GDP per capita=%{y}<extra></extra>\", \"hovertext\": [\"New Zealand\", \"Australia\"], \"legendgroup\": \"Australia and New Zealand\", \"marker\": {\"color\": \"#EF553B\", \"line\": {\"color\": \"DarkSlateGrey\", \"width\": 1}, \"size\": 10, \"symbol\": \"circle\"}, \"mode\": \"markers\", \"name\": \"Australia and New Zealand\", \"orientation\": \"v\", \"showlegend\": true, \"type\": \"scatter\", \"x\": [7.307, 7.228], \"xaxis\": \"x\", \"y\": [1.3030000000000002, 1.3719999999999999], \"yaxis\": \"y\"}, {\"hovertemplate\": \"<b>OLS trendline</b><br>GDP per capita = -0.873418 * Score + 7.68506<br>R<sup>2</sup>=1.000000<br><br>Region=Australia and New Zealand<br>Score=%{x}<br>GDP per capita=%{y} <b>(trend)</b><extra></extra>\", \"legendgroup\": \"Australia and New Zealand\", \"marker\": {\"color\": \"#EF553B\", \"line\": {\"color\": \"DarkSlateGrey\", \"width\": 1}, \"size\": 10, \"symbol\": \"circle\"}, \"mode\": \"lines\", \"name\": \"Australia and New Zealand\", \"showlegend\": false, \"type\": \"scatter\", \"x\": [7.228, 7.307], \"xaxis\": \"x\", \"y\": [1.3720000000000026, 1.3030000000000026], \"yaxis\": \"y\"}, {\"hovertemplate\": \"<b>%{hovertext}</b><br><br>Region=North America<br>Score=%{x}<br>GDP per capita=%{y}<extra></extra>\", \"hovertext\": [\"Canada\", \"United States\"], \"legendgroup\": \"North America\", \"marker\": {\"color\": \"#00cc96\", \"line\": {\"color\": \"DarkSlateGrey\", \"width\": 1}, \"size\": 10, \"symbol\": \"circle\"}, \"mode\": \"markers\", \"name\": \"North America\", \"orientation\": \"v\", \"showlegend\": true, \"type\": \"scatter\", \"x\": [7.278, 6.892], \"xaxis\": \"x\", \"y\": [1.365, 1.433], \"yaxis\": \"y\"}, {\"hovertemplate\": \"<b>OLS trendline</b><br>GDP per capita = -0.176166 * Score + 2.64713<br>R<sup>2</sup>=1.000000<br><br>Region=North America<br>Score=%{x}<br>GDP per capita=%{y} <b>(trend)</b><extra></extra>\", \"legendgroup\": \"North America\", \"marker\": {\"color\": \"#00cc96\", \"line\": {\"color\": \"DarkSlateGrey\", \"width\": 1}, \"size\": 10, \"symbol\": \"circle\"}, \"mode\": \"lines\", \"name\": \"North America\", \"showlegend\": false, \"type\": \"scatter\", \"x\": [6.892, 7.278], \"xaxis\": \"x\", \"y\": [1.4330000000000065, 1.3650000000000062], \"yaxis\": \"y\"}, {\"hovertemplate\": \"<b>%{hovertext}</b><br><br>Region=Latin America and Caribbean<br>Score=%{x}<br>GDP per capita=%{y}<extra></extra>\", \"hovertext\": [\"Costa Rica\", \"Mexico\", \"Chile\", \"Guatemala\", \"Panama\", \"Brazil\", \"Uruguay\", \"El Salvador\", \"Colombia\", \"Nicaragua\", \"Argentina\", \"Ecuador\", \"Jamaica\", \"Honduras\", \"Bolivia\", \"Paraguay\", \"Peru\", \"Dominican Republic\", \"Venezuela\", \"Haiti\"], \"legendgroup\": \"Latin America and Caribbean\", \"marker\": {\"color\": \"#ab63fa\", \"line\": {\"color\": \"DarkSlateGrey\", \"width\": 1}, \"size\": 10, \"symbol\": \"circle\"}, \"mode\": \"markers\", \"name\": \"Latin America and Caribbean\", \"orientation\": \"v\", \"showlegend\": true, \"type\": \"scatter\", \"x\": [7.167000000000001, 6.595, 6.444, 6.436, 6.321000000000001, 6.3, 6.292999999999999, 6.252999999999999, 6.125, 6.105, 6.086, 6.028, 5.89, 5.86, 5.779, 5.742999999999999, 5.697, 5.425, 4.707, 3.597], \"xaxis\": \"x\", \"y\": [1.034, 1.07, 1.159, 0.8, 1.149, 1.004, 1.124, 0.794, 0.985, 0.6940000000000001, 1.092, 0.912, 0.831, 0.642, 0.7759999999999999, 0.855, 0.96, 1.015, 0.96, 0.32299999999999995], \"yaxis\": \"y\"}, {\"hovertemplate\": \"<b>OLS trendline</b><br>GDP per capita = 0.172799 * Score + -0.117916<br>R<sup>2</sup>=0.396579<br><br>Region=Latin America and Caribbean<br>Score=%{x}<br>GDP per capita=%{y} <b>(trend)</b><extra></extra>\", \"legendgroup\": \"Latin America and Caribbean\", \"marker\": {\"color\": \"#ab63fa\", \"line\": {\"color\": \"DarkSlateGrey\", \"width\": 1}, \"size\": 10, \"symbol\": \"circle\"}, \"mode\": \"lines\", \"name\": \"Latin America and Caribbean\", \"showlegend\": false, \"type\": \"scatter\", \"x\": [3.597, 4.707, 5.425, 5.697, 5.742999999999999, 5.779, 5.86, 5.89, 6.028, 6.086, 6.105, 6.125, 6.252999999999999, 6.292999999999999, 6.3, 6.321000000000001, 6.436, 6.444, 6.595, 7.167000000000001], \"xaxis\": \"x\", \"y\": [0.5036413983841328, 0.6954482444516276, 0.8195178980340251, 0.8665192152685824, 0.874467967447956, 0.8806887300231181, 0.8946854458172327, 0.8998694146298675, 0.9237156711679885, 0.9337380108724164, 0.9370211911204184, 0.9404771703288418, 0.9625954372627509, 0.9695073956795975, 0.9707169884025458, 0.9743457665713905, 0.9942176470198244, 0.9956000387031939, 1.02169268172679, 1.1205336870876974], \"yaxis\": \"y\"}, {\"hovertemplate\": \"<b>%{hovertext}</b><br><br>Region=Middle East and Northern Africa<br>Score=%{x}<br>GDP per capita=%{y}<extra></extra>\", \"hovertext\": [\"Israel\", \"United Arab Emirates\", \"Saudi Arabia\", \"Qatar\", \"Bahrain\", \"Kuwait\", \"Libya\", \"Turkey\", \"Algeria\", \"Morocco\", \"Lebanon\", \"Jordan\", \"Palestinian Territories\", \"Iran\", \"Tunisia\", \"Iraq\", \"Egypt\", \"Syria\", \"Yemen\"], \"legendgroup\": \"Middle East and Northern Africa\", \"marker\": {\"color\": \"#FFA15A\", \"line\": {\"color\": \"DarkSlateGrey\", \"width\": 1}, \"size\": 10, \"symbol\": \"circle\"}, \"mode\": \"markers\", \"name\": \"Middle East and Northern Africa\", \"orientation\": \"v\", \"showlegend\": true, \"type\": \"scatter\", \"x\": [7.138999999999999, 6.825, 6.375, 6.374, 6.199, 6.021, 5.525, 5.372999999999999, 5.211, 5.207999999999999, 5.197, 4.906000000000001, 4.696000000000001, 4.548, 4.461, 4.437, 4.166, 3.4619999999999997, 3.38], \"xaxis\": \"x\", \"y\": [1.276, 1.5030000000000001, 1.403, 1.6840000000000002, 1.3619999999999999, 1.5, 1.044, 1.183, 1.002, 0.8009999999999999, 0.987, 0.8370000000000001, 0.657, 1.1, 0.9209999999999999, 1.043, 0.9129999999999999, 0.619, 0.287], \"yaxis\": \"y\"}, {\"hovertemplate\": \"<b>OLS trendline</b><br>GDP per capita = 0.278454 * Score + -0.399211<br>R<sup>2</sup>=0.722148<br><br>Region=Middle East and Northern Africa<br>Score=%{x}<br>GDP per capita=%{y} <b>(trend)</b><extra></extra>\", \"legendgroup\": \"Middle East and Northern Africa\", \"marker\": {\"color\": \"#FFA15A\", \"line\": {\"color\": \"DarkSlateGrey\", \"width\": 1}, \"size\": 10, \"symbol\": \"circle\"}, \"mode\": \"lines\", \"name\": \"Middle East and Northern Africa\", \"showlegend\": false, \"type\": \"scatter\", \"x\": [3.38, 3.4619999999999997, 4.166, 4.437, 4.461, 4.548, 4.696000000000001, 4.906000000000001, 5.197, 5.207999999999999, 5.211, 5.372999999999999, 5.525, 6.021, 6.199, 6.374, 6.375, 6.825, 7.138999999999999], \"xaxis\": \"x\", \"y\": [0.5419635211582305, 0.5647967505898399, 0.7608283788807313, 0.8362894176120259, 0.8429723140310337, 0.8671978135499363, 0.908409008133817, 0.966884351800134, 1.0479144708806014, 1.0509774650726464, 1.0518128271250227, 1.0969223779533241, 1.1392473886070396, 1.277360581266531, 1.326925396374171, 1.375654849429435, 1.3759333034468937, 1.5012376113032873, 1.588672172785304], \"yaxis\": \"y\"}, {\"hovertemplate\": \"<b>%{hovertext}</b><br><br>Region=Asia<br>Score=%{x}<br>GDP per capita=%{y}<extra></extra>\", \"hovertext\": [\"Taiwan\", \"Singapore\", \"Thailand\", \"South Korea\", \"Japan\", \"Pakistan\", \"Philippines\", \"Hong Kong\", \"Malaysia\", \"Mongolia\", \"Indonesia\", \"China\", \"Vietnam\", \"Bhutan\", \"Nepal\", \"Laos\", \"Cambodia\", \"Bangladesh\", \"Sri Lanka\", \"Myanmar\", \"India\", \"Afghanistan\"], \"legendgroup\": \"Asia\", \"marker\": {\"color\": \"#19d3f3\", \"line\": {\"color\": \"DarkSlateGrey\", \"width\": 1}, \"size\": 10, \"symbol\": \"circle\"}, \"mode\": \"markers\", \"name\": \"Asia\", \"orientation\": \"v\", \"showlegend\": true, \"type\": \"scatter\", \"x\": [6.446000000000001, 6.2620000000000005, 6.007999999999999, 5.895, 5.886, 5.653, 5.631, 5.43, 5.3389999999999995, 5.285, 5.192, 5.191, 5.175, 5.082, 4.913, 4.796, 4.7, 4.456, 4.3660000000000005, 4.36, 4.015, 3.2030000000000003], \"xaxis\": \"x\", \"y\": [1.368, 1.5719999999999998, 1.05, 1.301, 1.327, 0.677, 0.807, 1.4380000000000002, 1.2209999999999999, 0.948, 0.9309999999999999, 1.0290000000000001, 0.741, 0.813, 0.446, 0.764, 0.574, 0.562, 0.9490000000000001, 0.71, 0.755, 0.35], \"yaxis\": \"y\"}, {\"hovertemplate\": \"<b>OLS trendline</b><br>GDP per capita = 0.322463 * Score + -0.736221<br>R<sup>2</sup>=0.559441<br><br>Region=Asia<br>Score=%{x}<br>GDP per capita=%{y} <b>(trend)</b><extra></extra>\", \"legendgroup\": \"Asia\", \"marker\": {\"color\": \"#19d3f3\", \"line\": {\"color\": \"DarkSlateGrey\", \"width\": 1}, \"size\": 10, \"symbol\": \"circle\"}, \"mode\": \"lines\", \"name\": \"Asia\", \"showlegend\": false, \"type\": \"scatter\", \"x\": [3.2030000000000003, 4.015, 4.36, 4.3660000000000005, 4.456, 4.7, 4.796, 4.913, 5.082, 5.175, 5.191, 5.192, 5.285, 5.3389999999999995, 5.43, 5.631, 5.653, 5.886, 5.895, 6.007999999999999, 6.2620000000000005, 6.446000000000001], \"xaxis\": \"x\", \"y\": [0.2966270672701351, 0.5584667157891298, 0.6697163201475699, 0.6716510958755427, 0.7006727317951359, 0.7793536113993657, 0.8103100230469317, 0.8480381497424027, 0.9025343327469716, 0.932523356530551, 0.937682758471812, 0.938005221093141, 0.9679942448767204, 0.985407226428476, 1.014751324969398, 1.0795663118564893, 1.0866604895257228, 1.1617942802953358, 1.164696443887295, 1.2011347200974507, 1.2830402259149691, 1.3423733482394709], \"yaxis\": \"y\"}, {\"hovertemplate\": \"<b>%{hovertext}</b><br><br>Region=Sub-Saharan Africa<br>Score=%{x}<br>GDP per capita=%{y}<extra></extra>\", \"hovertext\": [\"Mauritius\", \"Nigeria\", \"Cameroon\", \"Ghana\", \"Ivory Coast\", \"Benin\", \"Congo (Brazzaville)\", \"Gabon\", \"South Africa\", \"Senegal\", \"Niger\", \"Burkina Faso\", \"Guinea\", \"Kenya\", \"Mauritania\", \"Mozambique\", \"Congo (Kinshasa)\", \"Mali\", \"Sierra Leone\", \"Chad\", \"Ethiopia\", \"Swaziland\", \"Uganda\", \"Zambia\", \"Togo\", \"Liberia\", \"Comoros\", \"Madagascar\", \"Lesotho\", \"Burundi\", \"Zimbabwe\", \"Botswana\", \"Malawi\", \"Rwanda\", \"Tanzania\", \"Central African Republic\"], \"legendgroup\": \"Sub-Saharan Africa\", \"marker\": {\"color\": \"#FF6692\", \"line\": {\"color\": \"DarkSlateGrey\", \"width\": 1}, \"size\": 10, \"symbol\": \"circle\"}, \"mode\": \"markers\", \"name\": \"Sub-Saharan Africa\", \"orientation\": \"v\", \"showlegend\": true, \"type\": \"scatter\", \"x\": [5.888, 5.265, 5.044, 4.996, 4.944, 4.883, 4.812, 4.7989999999999995, 4.7219999999999995, 4.681, 4.628, 4.587, 4.534, 4.5089999999999995, 4.49, 4.466, 4.418, 4.39, 4.374, 4.35, 4.2860000000000005, 4.212, 4.189, 4.107, 4.085, 3.975, 3.9730000000000003, 3.9330000000000003, 3.802, 3.775, 3.6630000000000003, 3.488, 3.41, 3.3339999999999996, 3.2310000000000003, 3.083], \"xaxis\": \"x\", \"y\": [1.12, 0.696, 0.5489999999999999, 0.611, 0.569, 0.39299999999999996, 0.6729999999999999, 1.057, 0.96, 0.45, 0.138, 0.331, 0.38, 0.512, 0.57, 0.204, 0.094, 0.385, 0.268, 0.35, 0.336, 0.8109999999999999, 0.332, 0.578, 0.275, 0.073, 0.27399999999999997, 0.27399999999999997, 0.489, 0.046, 0.366, 1.041, 0.191, 0.359, 0.47600000000000003, 0.026000000000000002], \"yaxis\": \"y\"}, {\"hovertemplate\": \"<b>OLS trendline</b><br>GDP per capita = 0.214207 * Score + -0.472638<br>R<sup>2</sup>=0.210827<br><br>Region=Sub-Saharan Africa<br>Score=%{x}<br>GDP per capita=%{y} <b>(trend)</b><extra></extra>\", \"legendgroup\": \"Sub-Saharan Africa\", \"marker\": {\"color\": \"#FF6692\", \"line\": {\"color\": \"DarkSlateGrey\", \"width\": 1}, \"size\": 10, \"symbol\": \"circle\"}, \"mode\": \"lines\", \"name\": \"Sub-Saharan Africa\", \"showlegend\": false, \"type\": \"scatter\", \"x\": [3.083, 3.2310000000000003, 3.3339999999999996, 3.41, 3.488, 3.6630000000000003, 3.775, 3.802, 3.9330000000000003, 3.9730000000000003, 3.975, 4.085, 4.107, 4.189, 4.212, 4.2860000000000005, 4.35, 4.374, 4.39, 4.418, 4.466, 4.49, 4.5089999999999995, 4.534, 4.587, 4.628, 4.681, 4.7219999999999995, 4.7989999999999995, 4.812, 4.883, 4.944, 4.996, 5.044, 5.265, 5.888], \"xaxis\": \"x\", \"y\": [0.18776328472143894, 0.2194659600564603, 0.24152930843150872, 0.2578090606305738, 0.27451722736119305, 0.31200349887219797, 0.335994712639241, 0.3417783088152247, 0.36983946063203416, 0.37840775126312093, 0.3788361657946752, 0.402398965030164, 0.4071115248772618, 0.42467652067098977, 0.42960328778386464, 0.44545462545137543, 0.4591638904611142, 0.46430486483976624, 0.467732181092201, 0.4737299845339619, 0.48401193329126607, 0.4891529076699182, 0.4932228457196843, 0.49857802736411366, 0.5099310124503036, 0.5187135103471678, 0.5300664954333578, 0.5388489933302216, 0.555342952795064, 0.5581276472501673, 0.5733363631203463, 0.5864030063327537, 0.5975417841531667, 0.6078237329104708, 0.6551635386472254, 0.788614665226403], \"yaxis\": \"y\"}],                        {\"height\": 600, \"legend\": {\"title\": {\"text\": \"Region\"}, \"tracegroupgap\": 0}, \"template\": {\"data\": {\"bar\": [{\"error_x\": {\"color\": \"#2a3f5f\"}, \"error_y\": {\"color\": \"#2a3f5f\"}, \"marker\": {\"line\": {\"color\": \"#E5ECF6\", \"width\": 0.5}}, \"type\": \"bar\"}], \"barpolar\": [{\"marker\": {\"line\": {\"color\": \"#E5ECF6\", \"width\": 0.5}}, \"type\": \"barpolar\"}], \"carpet\": [{\"aaxis\": {\"endlinecolor\": \"#2a3f5f\", \"gridcolor\": \"white\", \"linecolor\": \"white\", \"minorgridcolor\": \"white\", \"startlinecolor\": \"#2a3f5f\"}, \"baxis\": {\"endlinecolor\": \"#2a3f5f\", \"gridcolor\": \"white\", \"linecolor\": \"white\", \"minorgridcolor\": \"white\", \"startlinecolor\": \"#2a3f5f\"}, \"type\": \"carpet\"}], \"choropleth\": [{\"colorbar\": {\"outlinewidth\": 0, \"ticks\": \"\"}, \"type\": \"choropleth\"}], \"contour\": [{\"colorbar\": {\"outlinewidth\": 0, \"ticks\": \"\"}, \"colorscale\": [[0.0, \"#0d0887\"], [0.1111111111111111, \"#46039f\"], [0.2222222222222222, \"#7201a8\"], [0.3333333333333333, \"#9c179e\"], [0.4444444444444444, \"#bd3786\"], [0.5555555555555556, \"#d8576b\"], [0.6666666666666666, \"#ed7953\"], [0.7777777777777778, \"#fb9f3a\"], [0.8888888888888888, \"#fdca26\"], [1.0, \"#f0f921\"]], \"type\": \"contour\"}], \"contourcarpet\": [{\"colorbar\": {\"outlinewidth\": 0, \"ticks\": \"\"}, \"type\": \"contourcarpet\"}], \"heatmap\": [{\"colorbar\": {\"outlinewidth\": 0, \"ticks\": \"\"}, \"colorscale\": [[0.0, \"#0d0887\"], [0.1111111111111111, \"#46039f\"], [0.2222222222222222, \"#7201a8\"], [0.3333333333333333, \"#9c179e\"], [0.4444444444444444, \"#bd3786\"], [0.5555555555555556, \"#d8576b\"], [0.6666666666666666, \"#ed7953\"], [0.7777777777777778, \"#fb9f3a\"], [0.8888888888888888, \"#fdca26\"], [1.0, \"#f0f921\"]], \"type\": \"heatmap\"}], \"heatmapgl\": [{\"colorbar\": {\"outlinewidth\": 0, \"ticks\": \"\"}, \"colorscale\": [[0.0, \"#0d0887\"], [0.1111111111111111, \"#46039f\"], [0.2222222222222222, \"#7201a8\"], [0.3333333333333333, \"#9c179e\"], [0.4444444444444444, \"#bd3786\"], [0.5555555555555556, \"#d8576b\"], [0.6666666666666666, \"#ed7953\"], [0.7777777777777778, \"#fb9f3a\"], [0.8888888888888888, \"#fdca26\"], [1.0, \"#f0f921\"]], \"type\": \"heatmapgl\"}], \"histogram\": [{\"marker\": {\"colorbar\": {\"outlinewidth\": 0, \"ticks\": \"\"}}, \"type\": \"histogram\"}], \"histogram2d\": [{\"colorbar\": {\"outlinewidth\": 0, \"ticks\": \"\"}, \"colorscale\": [[0.0, \"#0d0887\"], [0.1111111111111111, \"#46039f\"], [0.2222222222222222, \"#7201a8\"], [0.3333333333333333, \"#9c179e\"], [0.4444444444444444, \"#bd3786\"], [0.5555555555555556, \"#d8576b\"], [0.6666666666666666, \"#ed7953\"], [0.7777777777777778, \"#fb9f3a\"], [0.8888888888888888, \"#fdca26\"], [1.0, \"#f0f921\"]], \"type\": \"histogram2d\"}], \"histogram2dcontour\": [{\"colorbar\": {\"outlinewidth\": 0, \"ticks\": \"\"}, \"colorscale\": [[0.0, \"#0d0887\"], [0.1111111111111111, \"#46039f\"], [0.2222222222222222, \"#7201a8\"], [0.3333333333333333, \"#9c179e\"], [0.4444444444444444, \"#bd3786\"], [0.5555555555555556, \"#d8576b\"], [0.6666666666666666, \"#ed7953\"], [0.7777777777777778, \"#fb9f3a\"], [0.8888888888888888, \"#fdca26\"], [1.0, \"#f0f921\"]], \"type\": \"histogram2dcontour\"}], \"mesh3d\": [{\"colorbar\": {\"outlinewidth\": 0, \"ticks\": \"\"}, \"type\": \"mesh3d\"}], \"parcoords\": [{\"line\": {\"colorbar\": {\"outlinewidth\": 0, \"ticks\": \"\"}}, \"type\": \"parcoords\"}], \"pie\": [{\"automargin\": true, \"type\": \"pie\"}], \"scatter\": [{\"marker\": {\"colorbar\": {\"outlinewidth\": 0, \"ticks\": \"\"}}, \"type\": \"scatter\"}], \"scatter3d\": [{\"line\": {\"colorbar\": {\"outlinewidth\": 0, \"ticks\": \"\"}}, \"marker\": {\"colorbar\": {\"outlinewidth\": 0, \"ticks\": \"\"}}, \"type\": \"scatter3d\"}], \"scattercarpet\": [{\"marker\": {\"colorbar\": {\"outlinewidth\": 0, \"ticks\": \"\"}}, \"type\": \"scattercarpet\"}], \"scattergeo\": [{\"marker\": {\"colorbar\": {\"outlinewidth\": 0, \"ticks\": \"\"}}, \"type\": \"scattergeo\"}], \"scattergl\": [{\"marker\": {\"colorbar\": {\"outlinewidth\": 0, \"ticks\": \"\"}}, \"type\": \"scattergl\"}], \"scattermapbox\": [{\"marker\": {\"colorbar\": {\"outlinewidth\": 0, \"ticks\": \"\"}}, \"type\": \"scattermapbox\"}], \"scatterpolar\": [{\"marker\": {\"colorbar\": {\"outlinewidth\": 0, \"ticks\": \"\"}}, \"type\": \"scatterpolar\"}], \"scatterpolargl\": [{\"marker\": {\"colorbar\": {\"outlinewidth\": 0, \"ticks\": \"\"}}, \"type\": \"scatterpolargl\"}], \"scatterternary\": [{\"marker\": {\"colorbar\": {\"outlinewidth\": 0, \"ticks\": \"\"}}, \"type\": \"scatterternary\"}], \"surface\": [{\"colorbar\": {\"outlinewidth\": 0, \"ticks\": \"\"}, \"colorscale\": [[0.0, \"#0d0887\"], [0.1111111111111111, \"#46039f\"], [0.2222222222222222, \"#7201a8\"], [0.3333333333333333, \"#9c179e\"], [0.4444444444444444, \"#bd3786\"], [0.5555555555555556, \"#d8576b\"], [0.6666666666666666, \"#ed7953\"], [0.7777777777777778, \"#fb9f3a\"], [0.8888888888888888, \"#fdca26\"], [1.0, \"#f0f921\"]], \"type\": \"surface\"}], \"table\": [{\"cells\": {\"fill\": {\"color\": \"#EBF0F8\"}, \"line\": {\"color\": \"white\"}}, \"header\": {\"fill\": {\"color\": \"#C8D4E3\"}, \"line\": {\"color\": \"white\"}}, \"type\": \"table\"}]}, \"layout\": {\"annotationdefaults\": {\"arrowcolor\": \"#2a3f5f\", \"arrowhead\": 0, \"arrowwidth\": 1}, \"autotypenumbers\": \"strict\", \"coloraxis\": {\"colorbar\": {\"outlinewidth\": 0, \"ticks\": \"\"}}, \"colorscale\": {\"diverging\": [[0, \"#8e0152\"], [0.1, \"#c51b7d\"], [0.2, \"#de77ae\"], [0.3, \"#f1b6da\"], [0.4, \"#fde0ef\"], [0.5, \"#f7f7f7\"], [0.6, \"#e6f5d0\"], [0.7, \"#b8e186\"], [0.8, \"#7fbc41\"], [0.9, \"#4d9221\"], [1, \"#276419\"]], \"sequential\": [[0.0, \"#0d0887\"], [0.1111111111111111, \"#46039f\"], [0.2222222222222222, \"#7201a8\"], [0.3333333333333333, \"#9c179e\"], [0.4444444444444444, \"#bd3786\"], [0.5555555555555556, \"#d8576b\"], [0.6666666666666666, \"#ed7953\"], [0.7777777777777778, \"#fb9f3a\"], [0.8888888888888888, \"#fdca26\"], [1.0, \"#f0f921\"]], \"sequentialminus\": [[0.0, \"#0d0887\"], [0.1111111111111111, \"#46039f\"], [0.2222222222222222, \"#7201a8\"], [0.3333333333333333, \"#9c179e\"], [0.4444444444444444, \"#bd3786\"], [0.5555555555555556, \"#d8576b\"], [0.6666666666666666, \"#ed7953\"], [0.7777777777777778, \"#fb9f3a\"], [0.8888888888888888, \"#fdca26\"], [1.0, \"#f0f921\"]]}, \"colorway\": [\"#636efa\", \"#EF553B\", \"#00cc96\", \"#ab63fa\", \"#FFA15A\", \"#19d3f3\", \"#FF6692\", \"#B6E880\", \"#FF97FF\", \"#FECB52\"], \"font\": {\"color\": \"#2a3f5f\"}, \"geo\": {\"bgcolor\": \"white\", \"lakecolor\": \"white\", \"landcolor\": \"#E5ECF6\", \"showlakes\": true, \"showland\": true, \"subunitcolor\": \"white\"}, \"hoverlabel\": {\"align\": \"left\"}, \"hovermode\": \"closest\", \"mapbox\": {\"style\": \"light\"}, \"paper_bgcolor\": \"white\", \"plot_bgcolor\": \"#E5ECF6\", \"polar\": {\"angularaxis\": {\"gridcolor\": \"white\", \"linecolor\": \"white\", \"ticks\": \"\"}, \"bgcolor\": \"#E5ECF6\", \"radialaxis\": {\"gridcolor\": \"white\", \"linecolor\": \"white\", \"ticks\": \"\"}}, \"scene\": {\"xaxis\": {\"backgroundcolor\": \"#E5ECF6\", \"gridcolor\": \"white\", \"gridwidth\": 2, \"linecolor\": \"white\", \"showbackground\": true, \"ticks\": \"\", \"zerolinecolor\": \"white\"}, \"yaxis\": {\"backgroundcolor\": \"#E5ECF6\", \"gridcolor\": \"white\", \"gridwidth\": 2, \"linecolor\": \"white\", \"showbackground\": true, \"ticks\": \"\", \"zerolinecolor\": \"white\"}, \"zaxis\": {\"backgroundcolor\": \"#E5ECF6\", \"gridcolor\": \"white\", \"gridwidth\": 2, \"linecolor\": \"white\", \"showbackground\": true, \"ticks\": \"\", \"zerolinecolor\": \"white\"}}, \"shapedefaults\": {\"line\": {\"color\": \"#2a3f5f\"}}, \"ternary\": {\"aaxis\": {\"gridcolor\": \"white\", \"linecolor\": \"white\", \"ticks\": \"\"}, \"baxis\": {\"gridcolor\": \"white\", \"linecolor\": \"white\", \"ticks\": \"\"}, \"bgcolor\": \"#E5ECF6\", \"caxis\": {\"gridcolor\": \"white\", \"linecolor\": \"white\", \"ticks\": \"\"}}, \"title\": {\"x\": 0.05}, \"xaxis\": {\"automargin\": true, \"gridcolor\": \"white\", \"linecolor\": \"white\", \"ticks\": \"\", \"title\": {\"standoff\": 15}, \"zerolinecolor\": \"white\", \"zerolinewidth\": 2}, \"yaxis\": {\"automargin\": true, \"gridcolor\": \"white\", \"linecolor\": \"white\", \"ticks\": \"\", \"title\": {\"standoff\": 15}, \"zerolinecolor\": \"white\", \"zerolinewidth\": 2}}}, \"title\": {\"text\": \"Happiness Score compared to GDP per Capita Score\"}, \"width\": 1000, \"xaxis\": {\"anchor\": \"y\", \"domain\": [0.0, 1.0], \"range\": [0, 8], \"title\": {\"text\": \"Happiness Score\"}}, \"yaxis\": {\"anchor\": \"x\", \"domain\": [0.0, 1.0], \"title\": {\"text\": \"GDP per Capita Score\"}}},                        {\"responsive\": true}                    ).then(function(){\n",
       "                            \n",
       "var gd = document.getElementById('d20f8e4b-0490-478e-b716-939987a12ade');\n",
       "var x = new MutationObserver(function (mutations, observer) {{\n",
       "        var display = window.getComputedStyle(gd).display;\n",
       "        if (!display || display === 'none') {{\n",
       "            console.log([gd, 'removed!']);\n",
       "            Plotly.purge(gd);\n",
       "            observer.disconnect();\n",
       "        }}\n",
       "}});\n",
       "\n",
       "// Listen for the removal of the full notebook cells\n",
       "var notebookContainer = gd.closest('#notebook-container');\n",
       "if (notebookContainer) {{\n",
       "    x.observe(notebookContainer, {childList: true});\n",
       "}}\n",
       "\n",
       "// Listen for the clearing of the current output cell\n",
       "var outputEl = gd.closest('.output');\n",
       "if (outputEl) {{\n",
       "    x.observe(outputEl, {childList: true});\n",
       "}}\n",
       "\n",
       "                        })                };                });            </script>        </div>"
      ]
     },
     "metadata": {},
     "output_type": "display_data"
    }
   ],
   "source": [
    "#happiness score vs. gdp\n",
    "\n",
    "#establish x and y values\n",
    "x_values = merged_2019[\"Score\"]\n",
    "y_values = merged_2019[\"GDP per capita\"]\n",
    "\n",
    "#px.scatter\n",
    "fig = px.scatter(merged_2019, x_values, y_values, color=\"Region\", hover_name=\"Country or region\",\n",
    "                range_x=[0,8], title=\"Happiness Score compared to GDP per Capita Score\",\n",
    "                width= 1000, height =600, trendline=\"ols\") # use trendline=\"ols\" to see all lin reg equations\n",
    "\n",
    "#set axes labels\n",
    "fig.update_xaxes(title_text='Happiness Score')\n",
    "fig.update_yaxes(title_text='GDP per Capita Score')\n",
    "\n",
    "#formatting\n",
    "#marker size and colors\n",
    "fig.update_traces(marker=dict(size=10,\n",
    "                              line=dict(width=1, \n",
    "                                        color='DarkSlateGrey')))\n",
    "\n",
    "\n",
    "#linear regression\n",
    "#use linregress from dependencies to inplement linear regression\n",
    "(slope, intercept, rvalue, pvalue, stderr) = linregress(x_values, y_values)\n",
    "regress_values = x_values * slope + intercept\n",
    "\n",
    "#print out all variables calculated above (rvalue, pvalue...)\n",
    "print(f\"slope:{round(slope, 2)}\")\n",
    "print(f\"intercept:{round(intercept,2)}\")\n",
    "res = sts.linregress(x_values, y_values)\n",
    "print(f\"R-squared: {res.rvalue**2:.4f}\")\n",
    "\n",
    "\n",
    "#print out line eq for reference\n",
    "line_eq = (f\"y={round(slope, 2)}x + {round(intercept, 2)}\")\n",
    "print(line_eq)\n",
    "\n",
    "fig.show()"
   ]
  },
  {
   "cell_type": "code",
   "execution_count": 24,
   "metadata": {},
   "outputs": [
    {
     "name": "stdout",
     "output_type": "stream",
     "text": [
      "slope:0.21\n",
      "intercept:0.09\n",
      "R-squared: 0.5969\n",
      "y=0.21x + 0.09\n"
     ]
    },
    {
     "data": {
      "application/vnd.plotly.v1+json": {
       "config": {
        "plotlyServerURL": "https://plot.ly"
       },
       "data": [
        {
         "hovertemplate": "<b>%{hovertext}</b><br><br>Region=Europe<br>Score=%{x}<br>Social support=%{y}<extra></extra>",
         "hovertext": [
          "Finland",
          "Denmark",
          "Norway",
          "Iceland",
          "Netherlands",
          "Switzerland",
          "Sweden",
          "Austria",
          "Luxembourg",
          "United Kingdom",
          "Ireland",
          "Germany",
          "Belgium",
          "Czech Republic",
          "Malta",
          "France",
          "Spain",
          "Italy",
          "Slovakia",
          "Poland",
          "Uzbekistan",
          "Lithuania",
          "Slovenia",
          "Kosovo",
          "Romania",
          "Cyprus",
          "Latvia",
          "Estonia",
          "Kazakhstan",
          "Hungary",
          "Portugal",
          "Russia",
          "Serbia",
          "Moldova",
          "Montenegro",
          "Tajikistan",
          "Croatia",
          "Bosnia and Herzegovina",
          "Belarus",
          "Greece",
          "Kyrgyzstan",
          "Turkmenistan",
          "Azerbaijan",
          "Bulgaria",
          "Albania",
          "Armenia",
          "Georgia",
          "Ukraine"
         ],
         "legendgroup": "Europe",
         "marker": {
          "color": "#636efa",
          "line": {
           "color": "DarkSlateGrey",
           "width": 1
          },
          "size": 10,
          "symbol": "circle"
         },
         "mode": "markers",
         "name": "Europe",
         "orientation": "v",
         "showlegend": true,
         "type": "scatter",
         "x": [
          7.769,
          7.6,
          7.553999999999999,
          7.494,
          7.4879999999999995,
          7.48,
          7.343,
          7.246,
          7.09,
          7.053999999999999,
          7.021,
          6.985,
          6.922999999999999,
          6.852,
          6.726,
          6.5920000000000005,
          6.354,
          6.223,
          6.1979999999999995,
          6.182,
          6.1739999999999995,
          6.149,
          6.117999999999999,
          6.1,
          6.07,
          6.046,
          5.94,
          5.893,
          5.809,
          5.757999999999999,
          5.693,
          5.648,
          5.603,
          5.529,
          5.523,
          5.4670000000000005,
          5.432,
          5.386,
          5.3229999999999995,
          5.287000000000001,
          5.261,
          5.247000000000001,
          5.207999999999999,
          5.011,
          4.718999999999999,
          4.559,
          4.519,
          4.332
         ],
         "xaxis": "x",
         "y": [
          1.587,
          1.5730000000000002,
          1.5819999999999999,
          1.624,
          1.5219999999999998,
          1.526,
          1.4869999999999999,
          1.475,
          1.479,
          1.538,
          1.5530000000000002,
          1.454,
          1.504,
          1.4869999999999999,
          1.52,
          1.472,
          1.484,
          1.4880000000000002,
          1.504,
          1.4380000000000002,
          1.5290000000000001,
          1.515,
          1.5230000000000001,
          1.232,
          1.232,
          1.2229999999999999,
          1.465,
          1.528,
          1.508,
          1.41,
          1.431,
          1.452,
          1.383,
          1.328,
          1.361,
          1.0979999999999999,
          1.266,
          1.212,
          1.465,
          1.156,
          1.4380000000000002,
          1.538,
          1.147,
          1.5130000000000001,
          0.848,
          1.055,
          0.6659999999999999,
          1.39
         ],
         "yaxis": "y"
        },
        {
         "hovertemplate": "<b>%{hovertext}</b><br><br>Region=Australia and New Zealand<br>Score=%{x}<br>Social support=%{y}<extra></extra>",
         "hovertext": [
          "New Zealand",
          "Australia"
         ],
         "legendgroup": "Australia and New Zealand",
         "marker": {
          "color": "#EF553B",
          "line": {
           "color": "DarkSlateGrey",
           "width": 1
          },
          "size": 10,
          "symbol": "circle"
         },
         "mode": "markers",
         "name": "Australia and New Zealand",
         "orientation": "v",
         "showlegend": true,
         "type": "scatter",
         "x": [
          7.307,
          7.228
         ],
         "xaxis": "x",
         "y": [
          1.557,
          1.548
         ],
         "yaxis": "y"
        },
        {
         "hovertemplate": "<b>%{hovertext}</b><br><br>Region=North America<br>Score=%{x}<br>Social support=%{y}<extra></extra>",
         "hovertext": [
          "Canada",
          "United States"
         ],
         "legendgroup": "North America",
         "marker": {
          "color": "#00cc96",
          "line": {
           "color": "DarkSlateGrey",
           "width": 1
          },
          "size": 10,
          "symbol": "circle"
         },
         "mode": "markers",
         "name": "North America",
         "orientation": "v",
         "showlegend": true,
         "type": "scatter",
         "x": [
          7.278,
          6.892
         ],
         "xaxis": "x",
         "y": [
          1.505,
          1.4569999999999999
         ],
         "yaxis": "y"
        },
        {
         "hovertemplate": "<b>%{hovertext}</b><br><br>Region=Latin America and Caribbean<br>Score=%{x}<br>Social support=%{y}<extra></extra>",
         "hovertext": [
          "Costa Rica",
          "Mexico",
          "Chile",
          "Guatemala",
          "Panama",
          "Brazil",
          "Uruguay",
          "El Salvador",
          "Colombia",
          "Nicaragua",
          "Argentina",
          "Ecuador",
          "Jamaica",
          "Honduras",
          "Bolivia",
          "Paraguay",
          "Peru",
          "Dominican Republic",
          "Venezuela",
          "Haiti"
         ],
         "legendgroup": "Latin America and Caribbean",
         "marker": {
          "color": "#ab63fa",
          "line": {
           "color": "DarkSlateGrey",
           "width": 1
          },
          "size": 10,
          "symbol": "circle"
         },
         "mode": "markers",
         "name": "Latin America and Caribbean",
         "orientation": "v",
         "showlegend": true,
         "type": "scatter",
         "x": [
          7.167000000000001,
          6.595,
          6.444,
          6.436,
          6.321000000000001,
          6.3,
          6.292999999999999,
          6.252999999999999,
          6.125,
          6.105,
          6.086,
          6.028,
          5.89,
          5.86,
          5.779,
          5.742999999999999,
          5.697,
          5.425,
          4.707,
          3.597
         ],
         "xaxis": "x",
         "y": [
          1.4409999999999998,
          1.3230000000000002,
          1.369,
          1.2690000000000001,
          1.442,
          1.439,
          1.465,
          1.242,
          1.41,
          1.325,
          1.432,
          1.3119999999999998,
          1.4780000000000002,
          1.236,
          1.209,
          1.475,
          1.274,
          1.401,
          1.4269999999999998,
          0.688
         ],
         "yaxis": "y"
        },
        {
         "hovertemplate": "<b>%{hovertext}</b><br><br>Region=Middle East and Northern Africa<br>Score=%{x}<br>Social support=%{y}<extra></extra>",
         "hovertext": [
          "Israel",
          "United Arab Emirates",
          "Saudi Arabia",
          "Qatar",
          "Bahrain",
          "Kuwait",
          "Libya",
          "Turkey",
          "Algeria",
          "Morocco",
          "Lebanon",
          "Jordan",
          "Palestinian Territories",
          "Iran",
          "Tunisia",
          "Iraq",
          "Egypt",
          "Syria",
          "Yemen"
         ],
         "legendgroup": "Middle East and Northern Africa",
         "marker": {
          "color": "#FFA15A",
          "line": {
           "color": "DarkSlateGrey",
           "width": 1
          },
          "size": 10,
          "symbol": "circle"
         },
         "mode": "markers",
         "name": "Middle East and Northern Africa",
         "orientation": "v",
         "showlegend": true,
         "type": "scatter",
         "x": [
          7.138999999999999,
          6.825,
          6.375,
          6.374,
          6.199,
          6.021,
          5.525,
          5.372999999999999,
          5.211,
          5.207999999999999,
          5.197,
          4.906000000000001,
          4.696000000000001,
          4.548,
          4.461,
          4.437,
          4.166,
          3.4619999999999997,
          3.38
         ],
         "xaxis": "x",
         "y": [
          1.455,
          1.31,
          1.357,
          1.3130000000000002,
          1.368,
          1.319,
          1.3030000000000002,
          1.36,
          1.16,
          0.782,
          1.224,
          1.225,
          1.247,
          0.8420000000000001,
          1,
          0.98,
          1.0390000000000001,
          0.37799999999999995,
          1.163
         ],
         "yaxis": "y"
        },
        {
         "hovertemplate": "<b>%{hovertext}</b><br><br>Region=Asia<br>Score=%{x}<br>Social support=%{y}<extra></extra>",
         "hovertext": [
          "Taiwan",
          "Singapore",
          "Thailand",
          "South Korea",
          "Japan",
          "Pakistan",
          "Philippines",
          "Hong Kong",
          "Malaysia",
          "Mongolia",
          "Indonesia",
          "China",
          "Vietnam",
          "Bhutan",
          "Nepal",
          "Laos",
          "Cambodia",
          "Bangladesh",
          "Sri Lanka",
          "Myanmar",
          "India",
          "Afghanistan"
         ],
         "legendgroup": "Asia",
         "marker": {
          "color": "#19d3f3",
          "line": {
           "color": "DarkSlateGrey",
           "width": 1
          },
          "size": 10,
          "symbol": "circle"
         },
         "mode": "markers",
         "name": "Asia",
         "orientation": "v",
         "showlegend": true,
         "type": "scatter",
         "x": [
          6.446000000000001,
          6.2620000000000005,
          6.007999999999999,
          5.895,
          5.886,
          5.653,
          5.631,
          5.43,
          5.3389999999999995,
          5.285,
          5.192,
          5.191,
          5.175,
          5.082,
          4.913,
          4.796,
          4.7,
          4.456,
          4.3660000000000005,
          4.36,
          4.015,
          3.2030000000000003
         ],
         "xaxis": "x",
         "y": [
          1.43,
          1.463,
          1.409,
          1.219,
          1.419,
          0.8859999999999999,
          1.2930000000000001,
          1.2770000000000001,
          1.171,
          1.531,
          1.203,
          1.125,
          1.3459999999999999,
          1.321,
          1.226,
          1.03,
          1.122,
          0.9279999999999999,
          1.265,
          1.181,
          0.765,
          0.517
         ],
         "yaxis": "y"
        },
        {
         "hovertemplate": "<b>%{hovertext}</b><br><br>Region=Sub-Saharan Africa<br>Score=%{x}<br>Social support=%{y}<extra></extra>",
         "hovertext": [
          "Mauritius",
          "Nigeria",
          "Cameroon",
          "Ghana",
          "Ivory Coast",
          "Benin",
          "Congo (Brazzaville)",
          "Gabon",
          "South Africa",
          "Senegal",
          "Niger",
          "Burkina Faso",
          "Guinea",
          "Kenya",
          "Mauritania",
          "Mozambique",
          "Congo (Kinshasa)",
          "Mali",
          "Sierra Leone",
          "Chad",
          "Ethiopia",
          "Swaziland",
          "Uganda",
          "Zambia",
          "Togo",
          "Liberia",
          "Comoros",
          "Madagascar",
          "Lesotho",
          "Burundi",
          "Zimbabwe",
          "Botswana",
          "Malawi",
          "Rwanda",
          "Tanzania",
          "Central African Republic"
         ],
         "legendgroup": "Sub-Saharan Africa",
         "marker": {
          "color": "#FF6692",
          "line": {
           "color": "DarkSlateGrey",
           "width": 1
          },
          "size": 10,
          "symbol": "circle"
         },
         "mode": "markers",
         "name": "Sub-Saharan Africa",
         "orientation": "v",
         "showlegend": true,
         "type": "scatter",
         "x": [
          5.888,
          5.265,
          5.044,
          4.996,
          4.944,
          4.883,
          4.812,
          4.7989999999999995,
          4.7219999999999995,
          4.681,
          4.628,
          4.587,
          4.534,
          4.5089999999999995,
          4.49,
          4.466,
          4.418,
          4.39,
          4.374,
          4.35,
          4.2860000000000005,
          4.212,
          4.189,
          4.107,
          4.085,
          3.975,
          3.9730000000000003,
          3.9330000000000003,
          3.802,
          3.775,
          3.6630000000000003,
          3.488,
          3.41,
          3.3339999999999996,
          3.2310000000000003,
          3.083
         ],
         "xaxis": "x",
         "y": [
          1.402,
          1.111,
          0.91,
          0.868,
          0.8079999999999999,
          0.43700000000000006,
          0.799,
          1.183,
          1.351,
          1.1340000000000001,
          0.774,
          1.056,
          0.8290000000000001,
          0.983,
          1.167,
          0.986,
          1.125,
          1.105,
          0.841,
          0.7659999999999999,
          1.033,
          1.149,
          1.069,
          1.058,
          0.5720000000000001,
          0.922,
          0.757,
          0.9159999999999999,
          1.169,
          0.447,
          1.114,
          1.145,
          0.56,
          0.711,
          0.885,
          0
         ],
         "yaxis": "y"
        }
       ],
       "layout": {
        "height": 600,
        "legend": {
         "title": {
          "text": "Region"
         },
         "tracegroupgap": 0
        },
        "template": {
         "data": {
          "bar": [
           {
            "error_x": {
             "color": "#2a3f5f"
            },
            "error_y": {
             "color": "#2a3f5f"
            },
            "marker": {
             "line": {
              "color": "#E5ECF6",
              "width": 0.5
             }
            },
            "type": "bar"
           }
          ],
          "barpolar": [
           {
            "marker": {
             "line": {
              "color": "#E5ECF6",
              "width": 0.5
             }
            },
            "type": "barpolar"
           }
          ],
          "carpet": [
           {
            "aaxis": {
             "endlinecolor": "#2a3f5f",
             "gridcolor": "white",
             "linecolor": "white",
             "minorgridcolor": "white",
             "startlinecolor": "#2a3f5f"
            },
            "baxis": {
             "endlinecolor": "#2a3f5f",
             "gridcolor": "white",
             "linecolor": "white",
             "minorgridcolor": "white",
             "startlinecolor": "#2a3f5f"
            },
            "type": "carpet"
           }
          ],
          "choropleth": [
           {
            "colorbar": {
             "outlinewidth": 0,
             "ticks": ""
            },
            "type": "choropleth"
           }
          ],
          "contour": [
           {
            "colorbar": {
             "outlinewidth": 0,
             "ticks": ""
            },
            "colorscale": [
             [
              0,
              "#0d0887"
             ],
             [
              0.1111111111111111,
              "#46039f"
             ],
             [
              0.2222222222222222,
              "#7201a8"
             ],
             [
              0.3333333333333333,
              "#9c179e"
             ],
             [
              0.4444444444444444,
              "#bd3786"
             ],
             [
              0.5555555555555556,
              "#d8576b"
             ],
             [
              0.6666666666666666,
              "#ed7953"
             ],
             [
              0.7777777777777778,
              "#fb9f3a"
             ],
             [
              0.8888888888888888,
              "#fdca26"
             ],
             [
              1,
              "#f0f921"
             ]
            ],
            "type": "contour"
           }
          ],
          "contourcarpet": [
           {
            "colorbar": {
             "outlinewidth": 0,
             "ticks": ""
            },
            "type": "contourcarpet"
           }
          ],
          "heatmap": [
           {
            "colorbar": {
             "outlinewidth": 0,
             "ticks": ""
            },
            "colorscale": [
             [
              0,
              "#0d0887"
             ],
             [
              0.1111111111111111,
              "#46039f"
             ],
             [
              0.2222222222222222,
              "#7201a8"
             ],
             [
              0.3333333333333333,
              "#9c179e"
             ],
             [
              0.4444444444444444,
              "#bd3786"
             ],
             [
              0.5555555555555556,
              "#d8576b"
             ],
             [
              0.6666666666666666,
              "#ed7953"
             ],
             [
              0.7777777777777778,
              "#fb9f3a"
             ],
             [
              0.8888888888888888,
              "#fdca26"
             ],
             [
              1,
              "#f0f921"
             ]
            ],
            "type": "heatmap"
           }
          ],
          "heatmapgl": [
           {
            "colorbar": {
             "outlinewidth": 0,
             "ticks": ""
            },
            "colorscale": [
             [
              0,
              "#0d0887"
             ],
             [
              0.1111111111111111,
              "#46039f"
             ],
             [
              0.2222222222222222,
              "#7201a8"
             ],
             [
              0.3333333333333333,
              "#9c179e"
             ],
             [
              0.4444444444444444,
              "#bd3786"
             ],
             [
              0.5555555555555556,
              "#d8576b"
             ],
             [
              0.6666666666666666,
              "#ed7953"
             ],
             [
              0.7777777777777778,
              "#fb9f3a"
             ],
             [
              0.8888888888888888,
              "#fdca26"
             ],
             [
              1,
              "#f0f921"
             ]
            ],
            "type": "heatmapgl"
           }
          ],
          "histogram": [
           {
            "marker": {
             "colorbar": {
              "outlinewidth": 0,
              "ticks": ""
             }
            },
            "type": "histogram"
           }
          ],
          "histogram2d": [
           {
            "colorbar": {
             "outlinewidth": 0,
             "ticks": ""
            },
            "colorscale": [
             [
              0,
              "#0d0887"
             ],
             [
              0.1111111111111111,
              "#46039f"
             ],
             [
              0.2222222222222222,
              "#7201a8"
             ],
             [
              0.3333333333333333,
              "#9c179e"
             ],
             [
              0.4444444444444444,
              "#bd3786"
             ],
             [
              0.5555555555555556,
              "#d8576b"
             ],
             [
              0.6666666666666666,
              "#ed7953"
             ],
             [
              0.7777777777777778,
              "#fb9f3a"
             ],
             [
              0.8888888888888888,
              "#fdca26"
             ],
             [
              1,
              "#f0f921"
             ]
            ],
            "type": "histogram2d"
           }
          ],
          "histogram2dcontour": [
           {
            "colorbar": {
             "outlinewidth": 0,
             "ticks": ""
            },
            "colorscale": [
             [
              0,
              "#0d0887"
             ],
             [
              0.1111111111111111,
              "#46039f"
             ],
             [
              0.2222222222222222,
              "#7201a8"
             ],
             [
              0.3333333333333333,
              "#9c179e"
             ],
             [
              0.4444444444444444,
              "#bd3786"
             ],
             [
              0.5555555555555556,
              "#d8576b"
             ],
             [
              0.6666666666666666,
              "#ed7953"
             ],
             [
              0.7777777777777778,
              "#fb9f3a"
             ],
             [
              0.8888888888888888,
              "#fdca26"
             ],
             [
              1,
              "#f0f921"
             ]
            ],
            "type": "histogram2dcontour"
           }
          ],
          "mesh3d": [
           {
            "colorbar": {
             "outlinewidth": 0,
             "ticks": ""
            },
            "type": "mesh3d"
           }
          ],
          "parcoords": [
           {
            "line": {
             "colorbar": {
              "outlinewidth": 0,
              "ticks": ""
             }
            },
            "type": "parcoords"
           }
          ],
          "pie": [
           {
            "automargin": true,
            "type": "pie"
           }
          ],
          "scatter": [
           {
            "marker": {
             "colorbar": {
              "outlinewidth": 0,
              "ticks": ""
             }
            },
            "type": "scatter"
           }
          ],
          "scatter3d": [
           {
            "line": {
             "colorbar": {
              "outlinewidth": 0,
              "ticks": ""
             }
            },
            "marker": {
             "colorbar": {
              "outlinewidth": 0,
              "ticks": ""
             }
            },
            "type": "scatter3d"
           }
          ],
          "scattercarpet": [
           {
            "marker": {
             "colorbar": {
              "outlinewidth": 0,
              "ticks": ""
             }
            },
            "type": "scattercarpet"
           }
          ],
          "scattergeo": [
           {
            "marker": {
             "colorbar": {
              "outlinewidth": 0,
              "ticks": ""
             }
            },
            "type": "scattergeo"
           }
          ],
          "scattergl": [
           {
            "marker": {
             "colorbar": {
              "outlinewidth": 0,
              "ticks": ""
             }
            },
            "type": "scattergl"
           }
          ],
          "scattermapbox": [
           {
            "marker": {
             "colorbar": {
              "outlinewidth": 0,
              "ticks": ""
             }
            },
            "type": "scattermapbox"
           }
          ],
          "scatterpolar": [
           {
            "marker": {
             "colorbar": {
              "outlinewidth": 0,
              "ticks": ""
             }
            },
            "type": "scatterpolar"
           }
          ],
          "scatterpolargl": [
           {
            "marker": {
             "colorbar": {
              "outlinewidth": 0,
              "ticks": ""
             }
            },
            "type": "scatterpolargl"
           }
          ],
          "scatterternary": [
           {
            "marker": {
             "colorbar": {
              "outlinewidth": 0,
              "ticks": ""
             }
            },
            "type": "scatterternary"
           }
          ],
          "surface": [
           {
            "colorbar": {
             "outlinewidth": 0,
             "ticks": ""
            },
            "colorscale": [
             [
              0,
              "#0d0887"
             ],
             [
              0.1111111111111111,
              "#46039f"
             ],
             [
              0.2222222222222222,
              "#7201a8"
             ],
             [
              0.3333333333333333,
              "#9c179e"
             ],
             [
              0.4444444444444444,
              "#bd3786"
             ],
             [
              0.5555555555555556,
              "#d8576b"
             ],
             [
              0.6666666666666666,
              "#ed7953"
             ],
             [
              0.7777777777777778,
              "#fb9f3a"
             ],
             [
              0.8888888888888888,
              "#fdca26"
             ],
             [
              1,
              "#f0f921"
             ]
            ],
            "type": "surface"
           }
          ],
          "table": [
           {
            "cells": {
             "fill": {
              "color": "#EBF0F8"
             },
             "line": {
              "color": "white"
             }
            },
            "header": {
             "fill": {
              "color": "#C8D4E3"
             },
             "line": {
              "color": "white"
             }
            },
            "type": "table"
           }
          ]
         },
         "layout": {
          "annotationdefaults": {
           "arrowcolor": "#2a3f5f",
           "arrowhead": 0,
           "arrowwidth": 1
          },
          "autotypenumbers": "strict",
          "coloraxis": {
           "colorbar": {
            "outlinewidth": 0,
            "ticks": ""
           }
          },
          "colorscale": {
           "diverging": [
            [
             0,
             "#8e0152"
            ],
            [
             0.1,
             "#c51b7d"
            ],
            [
             0.2,
             "#de77ae"
            ],
            [
             0.3,
             "#f1b6da"
            ],
            [
             0.4,
             "#fde0ef"
            ],
            [
             0.5,
             "#f7f7f7"
            ],
            [
             0.6,
             "#e6f5d0"
            ],
            [
             0.7,
             "#b8e186"
            ],
            [
             0.8,
             "#7fbc41"
            ],
            [
             0.9,
             "#4d9221"
            ],
            [
             1,
             "#276419"
            ]
           ],
           "sequential": [
            [
             0,
             "#0d0887"
            ],
            [
             0.1111111111111111,
             "#46039f"
            ],
            [
             0.2222222222222222,
             "#7201a8"
            ],
            [
             0.3333333333333333,
             "#9c179e"
            ],
            [
             0.4444444444444444,
             "#bd3786"
            ],
            [
             0.5555555555555556,
             "#d8576b"
            ],
            [
             0.6666666666666666,
             "#ed7953"
            ],
            [
             0.7777777777777778,
             "#fb9f3a"
            ],
            [
             0.8888888888888888,
             "#fdca26"
            ],
            [
             1,
             "#f0f921"
            ]
           ],
           "sequentialminus": [
            [
             0,
             "#0d0887"
            ],
            [
             0.1111111111111111,
             "#46039f"
            ],
            [
             0.2222222222222222,
             "#7201a8"
            ],
            [
             0.3333333333333333,
             "#9c179e"
            ],
            [
             0.4444444444444444,
             "#bd3786"
            ],
            [
             0.5555555555555556,
             "#d8576b"
            ],
            [
             0.6666666666666666,
             "#ed7953"
            ],
            [
             0.7777777777777778,
             "#fb9f3a"
            ],
            [
             0.8888888888888888,
             "#fdca26"
            ],
            [
             1,
             "#f0f921"
            ]
           ]
          },
          "colorway": [
           "#636efa",
           "#EF553B",
           "#00cc96",
           "#ab63fa",
           "#FFA15A",
           "#19d3f3",
           "#FF6692",
           "#B6E880",
           "#FF97FF",
           "#FECB52"
          ],
          "font": {
           "color": "#2a3f5f"
          },
          "geo": {
           "bgcolor": "white",
           "lakecolor": "white",
           "landcolor": "#E5ECF6",
           "showlakes": true,
           "showland": true,
           "subunitcolor": "white"
          },
          "hoverlabel": {
           "align": "left"
          },
          "hovermode": "closest",
          "mapbox": {
           "style": "light"
          },
          "paper_bgcolor": "white",
          "plot_bgcolor": "#E5ECF6",
          "polar": {
           "angularaxis": {
            "gridcolor": "white",
            "linecolor": "white",
            "ticks": ""
           },
           "bgcolor": "#E5ECF6",
           "radialaxis": {
            "gridcolor": "white",
            "linecolor": "white",
            "ticks": ""
           }
          },
          "scene": {
           "xaxis": {
            "backgroundcolor": "#E5ECF6",
            "gridcolor": "white",
            "gridwidth": 2,
            "linecolor": "white",
            "showbackground": true,
            "ticks": "",
            "zerolinecolor": "white"
           },
           "yaxis": {
            "backgroundcolor": "#E5ECF6",
            "gridcolor": "white",
            "gridwidth": 2,
            "linecolor": "white",
            "showbackground": true,
            "ticks": "",
            "zerolinecolor": "white"
           },
           "zaxis": {
            "backgroundcolor": "#E5ECF6",
            "gridcolor": "white",
            "gridwidth": 2,
            "linecolor": "white",
            "showbackground": true,
            "ticks": "",
            "zerolinecolor": "white"
           }
          },
          "shapedefaults": {
           "line": {
            "color": "#2a3f5f"
           }
          },
          "ternary": {
           "aaxis": {
            "gridcolor": "white",
            "linecolor": "white",
            "ticks": ""
           },
           "baxis": {
            "gridcolor": "white",
            "linecolor": "white",
            "ticks": ""
           },
           "bgcolor": "#E5ECF6",
           "caxis": {
            "gridcolor": "white",
            "linecolor": "white",
            "ticks": ""
           }
          },
          "title": {
           "x": 0.05
          },
          "xaxis": {
           "automargin": true,
           "gridcolor": "white",
           "linecolor": "white",
           "ticks": "",
           "title": {
            "standoff": 15
           },
           "zerolinecolor": "white",
           "zerolinewidth": 2
          },
          "yaxis": {
           "automargin": true,
           "gridcolor": "white",
           "linecolor": "white",
           "ticks": "",
           "title": {
            "standoff": 15
           },
           "zerolinecolor": "white",
           "zerolinewidth": 2
          }
         }
        },
        "title": {
         "text": "Happiness Score compared to Social Support Score"
        },
        "width": 1000,
        "xaxis": {
         "anchor": "y",
         "domain": [
          0,
          1
         ],
         "range": [
          0,
          8
         ],
         "title": {
          "text": "Happiness Score"
         }
        },
        "yaxis": {
         "anchor": "x",
         "domain": [
          0,
          1
         ],
         "title": {
          "text": "Social Support Score"
         }
        }
       }
      },
      "text/html": [
       "<div>                            <div id=\"3d5c4b46-4085-4975-803c-386a4b2f9bd4\" class=\"plotly-graph-div\" style=\"height:600px; width:1000px;\"></div>            <script type=\"text/javascript\">                require([\"plotly\"], function(Plotly) {                    window.PLOTLYENV=window.PLOTLYENV || {};                                    if (document.getElementById(\"3d5c4b46-4085-4975-803c-386a4b2f9bd4\")) {                    Plotly.newPlot(                        \"3d5c4b46-4085-4975-803c-386a4b2f9bd4\",                        [{\"hovertemplate\": \"<b>%{hovertext}</b><br><br>Region=Europe<br>Score=%{x}<br>Social support=%{y}<extra></extra>\", \"hovertext\": [\"Finland\", \"Denmark\", \"Norway\", \"Iceland\", \"Netherlands\", \"Switzerland\", \"Sweden\", \"Austria\", \"Luxembourg\", \"United Kingdom\", \"Ireland\", \"Germany\", \"Belgium\", \"Czech Republic\", \"Malta\", \"France\", \"Spain\", \"Italy\", \"Slovakia\", \"Poland\", \"Uzbekistan\", \"Lithuania\", \"Slovenia\", \"Kosovo\", \"Romania\", \"Cyprus\", \"Latvia\", \"Estonia\", \"Kazakhstan\", \"Hungary\", \"Portugal\", \"Russia\", \"Serbia\", \"Moldova\", \"Montenegro\", \"Tajikistan\", \"Croatia\", \"Bosnia and Herzegovina\", \"Belarus\", \"Greece\", \"Kyrgyzstan\", \"Turkmenistan\", \"Azerbaijan\", \"Bulgaria\", \"Albania\", \"Armenia\", \"Georgia\", \"Ukraine\"], \"legendgroup\": \"Europe\", \"marker\": {\"color\": \"#636efa\", \"line\": {\"color\": \"DarkSlateGrey\", \"width\": 1}, \"size\": 10, \"symbol\": \"circle\"}, \"mode\": \"markers\", \"name\": \"Europe\", \"orientation\": \"v\", \"showlegend\": true, \"type\": \"scatter\", \"x\": [7.769, 7.6, 7.553999999999999, 7.494, 7.4879999999999995, 7.48, 7.343, 7.246, 7.09, 7.053999999999999, 7.021, 6.985, 6.922999999999999, 6.852, 6.726, 6.5920000000000005, 6.354, 6.223, 6.1979999999999995, 6.182, 6.1739999999999995, 6.149, 6.117999999999999, 6.1, 6.07, 6.046, 5.94, 5.893, 5.809, 5.757999999999999, 5.693, 5.648, 5.603, 5.529, 5.523, 5.4670000000000005, 5.432, 5.386, 5.3229999999999995, 5.287000000000001, 5.261, 5.247000000000001, 5.207999999999999, 5.011, 4.718999999999999, 4.559, 4.519, 4.332], \"xaxis\": \"x\", \"y\": [1.587, 1.5730000000000002, 1.5819999999999999, 1.624, 1.5219999999999998, 1.526, 1.4869999999999999, 1.475, 1.479, 1.538, 1.5530000000000002, 1.454, 1.504, 1.4869999999999999, 1.52, 1.472, 1.484, 1.4880000000000002, 1.504, 1.4380000000000002, 1.5290000000000001, 1.515, 1.5230000000000001, 1.232, 1.232, 1.2229999999999999, 1.465, 1.528, 1.508, 1.41, 1.431, 1.452, 1.383, 1.328, 1.361, 1.0979999999999999, 1.266, 1.212, 1.465, 1.156, 1.4380000000000002, 1.538, 1.147, 1.5130000000000001, 0.848, 1.055, 0.6659999999999999, 1.39], \"yaxis\": \"y\"}, {\"hovertemplate\": \"<b>%{hovertext}</b><br><br>Region=Australia and New Zealand<br>Score=%{x}<br>Social support=%{y}<extra></extra>\", \"hovertext\": [\"New Zealand\", \"Australia\"], \"legendgroup\": \"Australia and New Zealand\", \"marker\": {\"color\": \"#EF553B\", \"line\": {\"color\": \"DarkSlateGrey\", \"width\": 1}, \"size\": 10, \"symbol\": \"circle\"}, \"mode\": \"markers\", \"name\": \"Australia and New Zealand\", \"orientation\": \"v\", \"showlegend\": true, \"type\": \"scatter\", \"x\": [7.307, 7.228], \"xaxis\": \"x\", \"y\": [1.557, 1.548], \"yaxis\": \"y\"}, {\"hovertemplate\": \"<b>%{hovertext}</b><br><br>Region=North America<br>Score=%{x}<br>Social support=%{y}<extra></extra>\", \"hovertext\": [\"Canada\", \"United States\"], \"legendgroup\": \"North America\", \"marker\": {\"color\": \"#00cc96\", \"line\": {\"color\": \"DarkSlateGrey\", \"width\": 1}, \"size\": 10, \"symbol\": \"circle\"}, \"mode\": \"markers\", \"name\": \"North America\", \"orientation\": \"v\", \"showlegend\": true, \"type\": \"scatter\", \"x\": [7.278, 6.892], \"xaxis\": \"x\", \"y\": [1.505, 1.4569999999999999], \"yaxis\": \"y\"}, {\"hovertemplate\": \"<b>%{hovertext}</b><br><br>Region=Latin America and Caribbean<br>Score=%{x}<br>Social support=%{y}<extra></extra>\", \"hovertext\": [\"Costa Rica\", \"Mexico\", \"Chile\", \"Guatemala\", \"Panama\", \"Brazil\", \"Uruguay\", \"El Salvador\", \"Colombia\", \"Nicaragua\", \"Argentina\", \"Ecuador\", \"Jamaica\", \"Honduras\", \"Bolivia\", \"Paraguay\", \"Peru\", \"Dominican Republic\", \"Venezuela\", \"Haiti\"], \"legendgroup\": \"Latin America and Caribbean\", \"marker\": {\"color\": \"#ab63fa\", \"line\": {\"color\": \"DarkSlateGrey\", \"width\": 1}, \"size\": 10, \"symbol\": \"circle\"}, \"mode\": \"markers\", \"name\": \"Latin America and Caribbean\", \"orientation\": \"v\", \"showlegend\": true, \"type\": \"scatter\", \"x\": [7.167000000000001, 6.595, 6.444, 6.436, 6.321000000000001, 6.3, 6.292999999999999, 6.252999999999999, 6.125, 6.105, 6.086, 6.028, 5.89, 5.86, 5.779, 5.742999999999999, 5.697, 5.425, 4.707, 3.597], \"xaxis\": \"x\", \"y\": [1.4409999999999998, 1.3230000000000002, 1.369, 1.2690000000000001, 1.442, 1.439, 1.465, 1.242, 1.41, 1.325, 1.432, 1.3119999999999998, 1.4780000000000002, 1.236, 1.209, 1.475, 1.274, 1.401, 1.4269999999999998, 0.688], \"yaxis\": \"y\"}, {\"hovertemplate\": \"<b>%{hovertext}</b><br><br>Region=Middle East and Northern Africa<br>Score=%{x}<br>Social support=%{y}<extra></extra>\", \"hovertext\": [\"Israel\", \"United Arab Emirates\", \"Saudi Arabia\", \"Qatar\", \"Bahrain\", \"Kuwait\", \"Libya\", \"Turkey\", \"Algeria\", \"Morocco\", \"Lebanon\", \"Jordan\", \"Palestinian Territories\", \"Iran\", \"Tunisia\", \"Iraq\", \"Egypt\", \"Syria\", \"Yemen\"], \"legendgroup\": \"Middle East and Northern Africa\", \"marker\": {\"color\": \"#FFA15A\", \"line\": {\"color\": \"DarkSlateGrey\", \"width\": 1}, \"size\": 10, \"symbol\": \"circle\"}, \"mode\": \"markers\", \"name\": \"Middle East and Northern Africa\", \"orientation\": \"v\", \"showlegend\": true, \"type\": \"scatter\", \"x\": [7.138999999999999, 6.825, 6.375, 6.374, 6.199, 6.021, 5.525, 5.372999999999999, 5.211, 5.207999999999999, 5.197, 4.906000000000001, 4.696000000000001, 4.548, 4.461, 4.437, 4.166, 3.4619999999999997, 3.38], \"xaxis\": \"x\", \"y\": [1.455, 1.31, 1.357, 1.3130000000000002, 1.368, 1.319, 1.3030000000000002, 1.36, 1.16, 0.782, 1.224, 1.225, 1.247, 0.8420000000000001, 1.0, 0.98, 1.0390000000000001, 0.37799999999999995, 1.163], \"yaxis\": \"y\"}, {\"hovertemplate\": \"<b>%{hovertext}</b><br><br>Region=Asia<br>Score=%{x}<br>Social support=%{y}<extra></extra>\", \"hovertext\": [\"Taiwan\", \"Singapore\", \"Thailand\", \"South Korea\", \"Japan\", \"Pakistan\", \"Philippines\", \"Hong Kong\", \"Malaysia\", \"Mongolia\", \"Indonesia\", \"China\", \"Vietnam\", \"Bhutan\", \"Nepal\", \"Laos\", \"Cambodia\", \"Bangladesh\", \"Sri Lanka\", \"Myanmar\", \"India\", \"Afghanistan\"], \"legendgroup\": \"Asia\", \"marker\": {\"color\": \"#19d3f3\", \"line\": {\"color\": \"DarkSlateGrey\", \"width\": 1}, \"size\": 10, \"symbol\": \"circle\"}, \"mode\": \"markers\", \"name\": \"Asia\", \"orientation\": \"v\", \"showlegend\": true, \"type\": \"scatter\", \"x\": [6.446000000000001, 6.2620000000000005, 6.007999999999999, 5.895, 5.886, 5.653, 5.631, 5.43, 5.3389999999999995, 5.285, 5.192, 5.191, 5.175, 5.082, 4.913, 4.796, 4.7, 4.456, 4.3660000000000005, 4.36, 4.015, 3.2030000000000003], \"xaxis\": \"x\", \"y\": [1.43, 1.463, 1.409, 1.219, 1.419, 0.8859999999999999, 1.2930000000000001, 1.2770000000000001, 1.171, 1.531, 1.203, 1.125, 1.3459999999999999, 1.321, 1.226, 1.03, 1.122, 0.9279999999999999, 1.265, 1.181, 0.765, 0.517], \"yaxis\": \"y\"}, {\"hovertemplate\": \"<b>%{hovertext}</b><br><br>Region=Sub-Saharan Africa<br>Score=%{x}<br>Social support=%{y}<extra></extra>\", \"hovertext\": [\"Mauritius\", \"Nigeria\", \"Cameroon\", \"Ghana\", \"Ivory Coast\", \"Benin\", \"Congo (Brazzaville)\", \"Gabon\", \"South Africa\", \"Senegal\", \"Niger\", \"Burkina Faso\", \"Guinea\", \"Kenya\", \"Mauritania\", \"Mozambique\", \"Congo (Kinshasa)\", \"Mali\", \"Sierra Leone\", \"Chad\", \"Ethiopia\", \"Swaziland\", \"Uganda\", \"Zambia\", \"Togo\", \"Liberia\", \"Comoros\", \"Madagascar\", \"Lesotho\", \"Burundi\", \"Zimbabwe\", \"Botswana\", \"Malawi\", \"Rwanda\", \"Tanzania\", \"Central African Republic\"], \"legendgroup\": \"Sub-Saharan Africa\", \"marker\": {\"color\": \"#FF6692\", \"line\": {\"color\": \"DarkSlateGrey\", \"width\": 1}, \"size\": 10, \"symbol\": \"circle\"}, \"mode\": \"markers\", \"name\": \"Sub-Saharan Africa\", \"orientation\": \"v\", \"showlegend\": true, \"type\": \"scatter\", \"x\": [5.888, 5.265, 5.044, 4.996, 4.944, 4.883, 4.812, 4.7989999999999995, 4.7219999999999995, 4.681, 4.628, 4.587, 4.534, 4.5089999999999995, 4.49, 4.466, 4.418, 4.39, 4.374, 4.35, 4.2860000000000005, 4.212, 4.189, 4.107, 4.085, 3.975, 3.9730000000000003, 3.9330000000000003, 3.802, 3.775, 3.6630000000000003, 3.488, 3.41, 3.3339999999999996, 3.2310000000000003, 3.083], \"xaxis\": \"x\", \"y\": [1.402, 1.111, 0.91, 0.868, 0.8079999999999999, 0.43700000000000006, 0.799, 1.183, 1.351, 1.1340000000000001, 0.774, 1.056, 0.8290000000000001, 0.983, 1.167, 0.986, 1.125, 1.105, 0.841, 0.7659999999999999, 1.033, 1.149, 1.069, 1.058, 0.5720000000000001, 0.922, 0.757, 0.9159999999999999, 1.169, 0.447, 1.114, 1.145, 0.56, 0.711, 0.885, 0.0], \"yaxis\": \"y\"}],                        {\"height\": 600, \"legend\": {\"title\": {\"text\": \"Region\"}, \"tracegroupgap\": 0}, \"template\": {\"data\": {\"bar\": [{\"error_x\": {\"color\": \"#2a3f5f\"}, \"error_y\": {\"color\": \"#2a3f5f\"}, \"marker\": {\"line\": {\"color\": \"#E5ECF6\", \"width\": 0.5}}, \"type\": \"bar\"}], \"barpolar\": [{\"marker\": {\"line\": {\"color\": \"#E5ECF6\", \"width\": 0.5}}, \"type\": \"barpolar\"}], \"carpet\": [{\"aaxis\": {\"endlinecolor\": \"#2a3f5f\", \"gridcolor\": \"white\", \"linecolor\": \"white\", \"minorgridcolor\": \"white\", \"startlinecolor\": \"#2a3f5f\"}, \"baxis\": {\"endlinecolor\": \"#2a3f5f\", \"gridcolor\": \"white\", \"linecolor\": \"white\", \"minorgridcolor\": \"white\", \"startlinecolor\": \"#2a3f5f\"}, \"type\": \"carpet\"}], \"choropleth\": [{\"colorbar\": {\"outlinewidth\": 0, \"ticks\": \"\"}, \"type\": \"choropleth\"}], \"contour\": [{\"colorbar\": {\"outlinewidth\": 0, \"ticks\": \"\"}, \"colorscale\": [[0.0, \"#0d0887\"], [0.1111111111111111, \"#46039f\"], [0.2222222222222222, \"#7201a8\"], [0.3333333333333333, \"#9c179e\"], [0.4444444444444444, \"#bd3786\"], [0.5555555555555556, \"#d8576b\"], [0.6666666666666666, \"#ed7953\"], [0.7777777777777778, \"#fb9f3a\"], [0.8888888888888888, \"#fdca26\"], [1.0, \"#f0f921\"]], \"type\": \"contour\"}], \"contourcarpet\": [{\"colorbar\": {\"outlinewidth\": 0, \"ticks\": \"\"}, \"type\": \"contourcarpet\"}], \"heatmap\": [{\"colorbar\": {\"outlinewidth\": 0, \"ticks\": \"\"}, \"colorscale\": [[0.0, \"#0d0887\"], [0.1111111111111111, \"#46039f\"], [0.2222222222222222, \"#7201a8\"], [0.3333333333333333, \"#9c179e\"], [0.4444444444444444, \"#bd3786\"], [0.5555555555555556, \"#d8576b\"], [0.6666666666666666, \"#ed7953\"], [0.7777777777777778, \"#fb9f3a\"], [0.8888888888888888, \"#fdca26\"], [1.0, \"#f0f921\"]], \"type\": \"heatmap\"}], \"heatmapgl\": [{\"colorbar\": {\"outlinewidth\": 0, \"ticks\": \"\"}, \"colorscale\": [[0.0, \"#0d0887\"], [0.1111111111111111, \"#46039f\"], [0.2222222222222222, \"#7201a8\"], [0.3333333333333333, \"#9c179e\"], [0.4444444444444444, \"#bd3786\"], [0.5555555555555556, \"#d8576b\"], [0.6666666666666666, \"#ed7953\"], [0.7777777777777778, \"#fb9f3a\"], [0.8888888888888888, \"#fdca26\"], [1.0, \"#f0f921\"]], \"type\": \"heatmapgl\"}], \"histogram\": [{\"marker\": {\"colorbar\": {\"outlinewidth\": 0, \"ticks\": \"\"}}, \"type\": \"histogram\"}], \"histogram2d\": [{\"colorbar\": {\"outlinewidth\": 0, \"ticks\": \"\"}, \"colorscale\": [[0.0, \"#0d0887\"], [0.1111111111111111, \"#46039f\"], [0.2222222222222222, \"#7201a8\"], [0.3333333333333333, \"#9c179e\"], [0.4444444444444444, \"#bd3786\"], [0.5555555555555556, \"#d8576b\"], [0.6666666666666666, \"#ed7953\"], [0.7777777777777778, \"#fb9f3a\"], [0.8888888888888888, \"#fdca26\"], [1.0, \"#f0f921\"]], \"type\": \"histogram2d\"}], \"histogram2dcontour\": [{\"colorbar\": {\"outlinewidth\": 0, \"ticks\": \"\"}, \"colorscale\": [[0.0, \"#0d0887\"], [0.1111111111111111, \"#46039f\"], [0.2222222222222222, \"#7201a8\"], [0.3333333333333333, \"#9c179e\"], [0.4444444444444444, \"#bd3786\"], [0.5555555555555556, \"#d8576b\"], [0.6666666666666666, \"#ed7953\"], [0.7777777777777778, \"#fb9f3a\"], [0.8888888888888888, \"#fdca26\"], [1.0, \"#f0f921\"]], \"type\": \"histogram2dcontour\"}], \"mesh3d\": [{\"colorbar\": {\"outlinewidth\": 0, \"ticks\": \"\"}, \"type\": \"mesh3d\"}], \"parcoords\": [{\"line\": {\"colorbar\": {\"outlinewidth\": 0, \"ticks\": \"\"}}, \"type\": \"parcoords\"}], \"pie\": [{\"automargin\": true, \"type\": \"pie\"}], \"scatter\": [{\"marker\": {\"colorbar\": {\"outlinewidth\": 0, \"ticks\": \"\"}}, \"type\": \"scatter\"}], \"scatter3d\": [{\"line\": {\"colorbar\": {\"outlinewidth\": 0, \"ticks\": \"\"}}, \"marker\": {\"colorbar\": {\"outlinewidth\": 0, \"ticks\": \"\"}}, \"type\": \"scatter3d\"}], \"scattercarpet\": [{\"marker\": {\"colorbar\": {\"outlinewidth\": 0, \"ticks\": \"\"}}, \"type\": \"scattercarpet\"}], \"scattergeo\": [{\"marker\": {\"colorbar\": {\"outlinewidth\": 0, \"ticks\": \"\"}}, \"type\": \"scattergeo\"}], \"scattergl\": [{\"marker\": {\"colorbar\": {\"outlinewidth\": 0, \"ticks\": \"\"}}, \"type\": \"scattergl\"}], \"scattermapbox\": [{\"marker\": {\"colorbar\": {\"outlinewidth\": 0, \"ticks\": \"\"}}, \"type\": \"scattermapbox\"}], \"scatterpolar\": [{\"marker\": {\"colorbar\": {\"outlinewidth\": 0, \"ticks\": \"\"}}, \"type\": \"scatterpolar\"}], \"scatterpolargl\": [{\"marker\": {\"colorbar\": {\"outlinewidth\": 0, \"ticks\": \"\"}}, \"type\": \"scatterpolargl\"}], \"scatterternary\": [{\"marker\": {\"colorbar\": {\"outlinewidth\": 0, \"ticks\": \"\"}}, \"type\": \"scatterternary\"}], \"surface\": [{\"colorbar\": {\"outlinewidth\": 0, \"ticks\": \"\"}, \"colorscale\": [[0.0, \"#0d0887\"], [0.1111111111111111, \"#46039f\"], [0.2222222222222222, \"#7201a8\"], [0.3333333333333333, \"#9c179e\"], [0.4444444444444444, \"#bd3786\"], [0.5555555555555556, \"#d8576b\"], [0.6666666666666666, \"#ed7953\"], [0.7777777777777778, \"#fb9f3a\"], [0.8888888888888888, \"#fdca26\"], [1.0, \"#f0f921\"]], \"type\": \"surface\"}], \"table\": [{\"cells\": {\"fill\": {\"color\": \"#EBF0F8\"}, \"line\": {\"color\": \"white\"}}, \"header\": {\"fill\": {\"color\": \"#C8D4E3\"}, \"line\": {\"color\": \"white\"}}, \"type\": \"table\"}]}, \"layout\": {\"annotationdefaults\": {\"arrowcolor\": \"#2a3f5f\", \"arrowhead\": 0, \"arrowwidth\": 1}, \"autotypenumbers\": \"strict\", \"coloraxis\": {\"colorbar\": {\"outlinewidth\": 0, \"ticks\": \"\"}}, \"colorscale\": {\"diverging\": [[0, \"#8e0152\"], [0.1, \"#c51b7d\"], [0.2, \"#de77ae\"], [0.3, \"#f1b6da\"], [0.4, \"#fde0ef\"], [0.5, \"#f7f7f7\"], [0.6, \"#e6f5d0\"], [0.7, \"#b8e186\"], [0.8, \"#7fbc41\"], [0.9, \"#4d9221\"], [1, \"#276419\"]], \"sequential\": [[0.0, \"#0d0887\"], [0.1111111111111111, \"#46039f\"], [0.2222222222222222, \"#7201a8\"], [0.3333333333333333, \"#9c179e\"], [0.4444444444444444, \"#bd3786\"], [0.5555555555555556, \"#d8576b\"], [0.6666666666666666, \"#ed7953\"], [0.7777777777777778, \"#fb9f3a\"], [0.8888888888888888, \"#fdca26\"], [1.0, \"#f0f921\"]], \"sequentialminus\": [[0.0, \"#0d0887\"], [0.1111111111111111, \"#46039f\"], [0.2222222222222222, \"#7201a8\"], [0.3333333333333333, \"#9c179e\"], [0.4444444444444444, \"#bd3786\"], [0.5555555555555556, \"#d8576b\"], [0.6666666666666666, \"#ed7953\"], [0.7777777777777778, \"#fb9f3a\"], [0.8888888888888888, \"#fdca26\"], [1.0, \"#f0f921\"]]}, \"colorway\": [\"#636efa\", \"#EF553B\", \"#00cc96\", \"#ab63fa\", \"#FFA15A\", \"#19d3f3\", \"#FF6692\", \"#B6E880\", \"#FF97FF\", \"#FECB52\"], \"font\": {\"color\": \"#2a3f5f\"}, \"geo\": {\"bgcolor\": \"white\", \"lakecolor\": \"white\", \"landcolor\": \"#E5ECF6\", \"showlakes\": true, \"showland\": true, \"subunitcolor\": \"white\"}, \"hoverlabel\": {\"align\": \"left\"}, \"hovermode\": \"closest\", \"mapbox\": {\"style\": \"light\"}, \"paper_bgcolor\": \"white\", \"plot_bgcolor\": \"#E5ECF6\", \"polar\": {\"angularaxis\": {\"gridcolor\": \"white\", \"linecolor\": \"white\", \"ticks\": \"\"}, \"bgcolor\": \"#E5ECF6\", \"radialaxis\": {\"gridcolor\": \"white\", \"linecolor\": \"white\", \"ticks\": \"\"}}, \"scene\": {\"xaxis\": {\"backgroundcolor\": \"#E5ECF6\", \"gridcolor\": \"white\", \"gridwidth\": 2, \"linecolor\": \"white\", \"showbackground\": true, \"ticks\": \"\", \"zerolinecolor\": \"white\"}, \"yaxis\": {\"backgroundcolor\": \"#E5ECF6\", \"gridcolor\": \"white\", \"gridwidth\": 2, \"linecolor\": \"white\", \"showbackground\": true, \"ticks\": \"\", \"zerolinecolor\": \"white\"}, \"zaxis\": {\"backgroundcolor\": \"#E5ECF6\", \"gridcolor\": \"white\", \"gridwidth\": 2, \"linecolor\": \"white\", \"showbackground\": true, \"ticks\": \"\", \"zerolinecolor\": \"white\"}}, \"shapedefaults\": {\"line\": {\"color\": \"#2a3f5f\"}}, \"ternary\": {\"aaxis\": {\"gridcolor\": \"white\", \"linecolor\": \"white\", \"ticks\": \"\"}, \"baxis\": {\"gridcolor\": \"white\", \"linecolor\": \"white\", \"ticks\": \"\"}, \"bgcolor\": \"#E5ECF6\", \"caxis\": {\"gridcolor\": \"white\", \"linecolor\": \"white\", \"ticks\": \"\"}}, \"title\": {\"x\": 0.05}, \"xaxis\": {\"automargin\": true, \"gridcolor\": \"white\", \"linecolor\": \"white\", \"ticks\": \"\", \"title\": {\"standoff\": 15}, \"zerolinecolor\": \"white\", \"zerolinewidth\": 2}, \"yaxis\": {\"automargin\": true, \"gridcolor\": \"white\", \"linecolor\": \"white\", \"ticks\": \"\", \"title\": {\"standoff\": 15}, \"zerolinecolor\": \"white\", \"zerolinewidth\": 2}}}, \"title\": {\"text\": \"Happiness Score compared to Social Support Score\"}, \"width\": 1000, \"xaxis\": {\"anchor\": \"y\", \"domain\": [0.0, 1.0], \"range\": [0, 8], \"title\": {\"text\": \"Happiness Score\"}}, \"yaxis\": {\"anchor\": \"x\", \"domain\": [0.0, 1.0], \"title\": {\"text\": \"Social Support Score\"}}},                        {\"responsive\": true}                    ).then(function(){\n",
       "                            \n",
       "var gd = document.getElementById('3d5c4b46-4085-4975-803c-386a4b2f9bd4');\n",
       "var x = new MutationObserver(function (mutations, observer) {{\n",
       "        var display = window.getComputedStyle(gd).display;\n",
       "        if (!display || display === 'none') {{\n",
       "            console.log([gd, 'removed!']);\n",
       "            Plotly.purge(gd);\n",
       "            observer.disconnect();\n",
       "        }}\n",
       "}});\n",
       "\n",
       "// Listen for the removal of the full notebook cells\n",
       "var notebookContainer = gd.closest('#notebook-container');\n",
       "if (notebookContainer) {{\n",
       "    x.observe(notebookContainer, {childList: true});\n",
       "}}\n",
       "\n",
       "// Listen for the clearing of the current output cell\n",
       "var outputEl = gd.closest('.output');\n",
       "if (outputEl) {{\n",
       "    x.observe(outputEl, {childList: true});\n",
       "}}\n",
       "\n",
       "                        })                };                });            </script>        </div>"
      ]
     },
     "metadata": {},
     "output_type": "display_data"
    }
   ],
   "source": [
    "#happiness score vs social support\n",
    "\n",
    "#establish x and y values\n",
    "x_values = merged_2019[\"Score\"]\n",
    "y_values = merged_2019[\"Social support\"]\n",
    "\n",
    "#px.scatter\n",
    "fig = px.scatter(merged_2019, x_values, y_values, color=\"Region\", hover_name=\"Country or region\",\n",
    "                range_x=[0,8], title=\"Happiness Score compared to Social Support Score\",\n",
    "                width= 1000, height =600) # use trendline=\"ols\" to see all lin reg equations\n",
    "\n",
    "#set axes labels\n",
    "fig.update_xaxes(title_text='Happiness Score')\n",
    "fig.update_yaxes(title_text='Social Support Score')\n",
    "\n",
    "\n",
    "#formatting\n",
    "#marker size and colors\n",
    "fig.update_traces(marker=dict(size=10,\n",
    "                              line=dict(width=1, \n",
    "                                        color='DarkSlateGrey')))\n",
    "\n",
    "\n",
    "#linear regression\n",
    "#use linregress from dependencies to inplement linear regression\n",
    "(slope, intercept, rvalue, pvalue, stderr) = linregress(x_values, y_values)\n",
    "regress_values = x_values * slope + intercept\n",
    "\n",
    "#print out all variables calculated above (rvalue, pvalue...)\n",
    "print(f\"slope:{round(slope, 2)}\")\n",
    "print(f\"intercept:{round(intercept,2)}\")\n",
    "res = sts.linregress(x_values, y_values)\n",
    "print(f\"R-squared: {res.rvalue**2:.4f}\")\n",
    "\n",
    "\n",
    "#print out line eq for reference\n",
    "line_eq = (f\"y={round(slope, 2)}x + {round(intercept, 2)}\")\n",
    "print(line_eq)\n",
    "\n",
    "fig.show()"
   ]
  },
  {
   "cell_type": "code",
   "execution_count": 28,
   "metadata": {},
   "outputs": [
    {
     "name": "stdout",
     "output_type": "stream",
     "text": [
      "slope:0.17\n",
      "intercept:-0.18\n",
      "R-squared: 0.6077\n",
      "y=0.17x + -0.18\n"
     ]
    },
    {
     "data": {
      "application/vnd.plotly.v1+json": {
       "config": {
        "plotlyServerURL": "https://plot.ly"
       },
       "data": [
        {
         "hovertemplate": "<b>%{hovertext}</b><br><br>Region=Europe<br>Score=%{x}<br>Healthy life expectancy=%{y}<extra></extra>",
         "hovertext": [
          "Finland",
          "Denmark",
          "Norway",
          "Iceland",
          "Netherlands",
          "Switzerland",
          "Sweden",
          "Austria",
          "Luxembourg",
          "United Kingdom",
          "Ireland",
          "Germany",
          "Belgium",
          "Czech Republic",
          "Malta",
          "France",
          "Spain",
          "Italy",
          "Slovakia",
          "Poland",
          "Uzbekistan",
          "Lithuania",
          "Slovenia",
          "Kosovo",
          "Romania",
          "Cyprus",
          "Latvia",
          "Estonia",
          "Kazakhstan",
          "Hungary",
          "Portugal",
          "Russia",
          "Serbia",
          "Moldova",
          "Montenegro",
          "Tajikistan",
          "Croatia",
          "Bosnia and Herzegovina",
          "Belarus",
          "Greece",
          "Kyrgyzstan",
          "Turkmenistan",
          "Azerbaijan",
          "Bulgaria",
          "Albania",
          "Armenia",
          "Georgia",
          "Ukraine"
         ],
         "legendgroup": "Europe",
         "marker": {
          "color": "#636efa",
          "line": {
           "color": "DarkSlateGrey",
           "width": 1
          },
          "size": 10,
          "symbol": "circle"
         },
         "mode": "markers",
         "name": "Europe",
         "orientation": "v",
         "showlegend": true,
         "type": "scatter",
         "x": [
          7.769,
          7.6,
          7.553999999999999,
          7.494,
          7.4879999999999995,
          7.48,
          7.343,
          7.246,
          7.09,
          7.053999999999999,
          7.021,
          6.985,
          6.922999999999999,
          6.852,
          6.726,
          6.5920000000000005,
          6.354,
          6.223,
          6.1979999999999995,
          6.182,
          6.1739999999999995,
          6.149,
          6.117999999999999,
          6.1,
          6.07,
          6.046,
          5.94,
          5.893,
          5.809,
          5.757999999999999,
          5.693,
          5.648,
          5.603,
          5.529,
          5.523,
          5.4670000000000005,
          5.432,
          5.386,
          5.3229999999999995,
          5.287000000000001,
          5.261,
          5.247000000000001,
          5.207999999999999,
          5.011,
          4.718999999999999,
          4.559,
          4.519,
          4.332
         ],
         "xaxis": "x",
         "y": [
          0.986,
          0.996,
          1.028,
          1.026,
          0.9990000000000001,
          1.052,
          1.0090000000000001,
          1.016,
          1.012,
          0.996,
          0.9990000000000001,
          0.987,
          0.986,
          0.92,
          0.9990000000000001,
          1.045,
          1.062,
          1.0390000000000001,
          0.8809999999999999,
          0.884,
          0.7559999999999999,
          0.818,
          0.953,
          0.758,
          0.825,
          1.042,
          0.812,
          0.8740000000000001,
          0.7290000000000001,
          0.828,
          0.9990000000000001,
          0.726,
          0.8540000000000001,
          0.7390000000000001,
          0.871,
          0.718,
          0.914,
          0.845,
          0.789,
          0.9990000000000001,
          0.723,
          0.657,
          0.769,
          0.815,
          0.8740000000000001,
          0.815,
          0.752,
          0.7390000000000001
         ],
         "yaxis": "y"
        },
        {
         "hovertemplate": "<b>%{hovertext}</b><br><br>Region=Australia and New Zealand<br>Score=%{x}<br>Healthy life expectancy=%{y}<extra></extra>",
         "hovertext": [
          "New Zealand",
          "Australia"
         ],
         "legendgroup": "Australia and New Zealand",
         "marker": {
          "color": "#EF553B",
          "line": {
           "color": "DarkSlateGrey",
           "width": 1
          },
          "size": 10,
          "symbol": "circle"
         },
         "mode": "markers",
         "name": "Australia and New Zealand",
         "orientation": "v",
         "showlegend": true,
         "type": "scatter",
         "x": [
          7.307,
          7.228
         ],
         "xaxis": "x",
         "y": [
          1.026,
          1.036
         ],
         "yaxis": "y"
        },
        {
         "hovertemplate": "<b>%{hovertext}</b><br><br>Region=North America<br>Score=%{x}<br>Healthy life expectancy=%{y}<extra></extra>",
         "hovertext": [
          "Canada",
          "United States"
         ],
         "legendgroup": "North America",
         "marker": {
          "color": "#00cc96",
          "line": {
           "color": "DarkSlateGrey",
           "width": 1
          },
          "size": 10,
          "symbol": "circle"
         },
         "mode": "markers",
         "name": "North America",
         "orientation": "v",
         "showlegend": true,
         "type": "scatter",
         "x": [
          7.278,
          6.892
         ],
         "xaxis": "x",
         "y": [
          1.0390000000000001,
          0.8740000000000001
         ],
         "yaxis": "y"
        },
        {
         "hovertemplate": "<b>%{hovertext}</b><br><br>Region=Latin America and Caribbean<br>Score=%{x}<br>Healthy life expectancy=%{y}<extra></extra>",
         "hovertext": [
          "Costa Rica",
          "Mexico",
          "Chile",
          "Guatemala",
          "Panama",
          "Brazil",
          "Uruguay",
          "El Salvador",
          "Colombia",
          "Nicaragua",
          "Argentina",
          "Ecuador",
          "Jamaica",
          "Honduras",
          "Bolivia",
          "Paraguay",
          "Peru",
          "Dominican Republic",
          "Venezuela",
          "Haiti"
         ],
         "legendgroup": "Latin America and Caribbean",
         "marker": {
          "color": "#ab63fa",
          "line": {
           "color": "DarkSlateGrey",
           "width": 1
          },
          "size": 10,
          "symbol": "circle"
         },
         "mode": "markers",
         "name": "Latin America and Caribbean",
         "orientation": "v",
         "showlegend": true,
         "type": "scatter",
         "x": [
          7.167000000000001,
          6.595,
          6.444,
          6.436,
          6.321000000000001,
          6.3,
          6.292999999999999,
          6.252999999999999,
          6.125,
          6.105,
          6.086,
          6.028,
          5.89,
          5.86,
          5.779,
          5.742999999999999,
          5.697,
          5.425,
          4.707,
          3.597
         ],
         "xaxis": "x",
         "y": [
          0.963,
          0.861,
          0.92,
          0.746,
          0.91,
          0.802,
          0.8909999999999999,
          0.789,
          0.841,
          0.835,
          0.8809999999999999,
          0.868,
          0.831,
          0.828,
          0.706,
          0.777,
          0.8540000000000001,
          0.779,
          0.805,
          0.449
         ],
         "yaxis": "y"
        },
        {
         "hovertemplate": "<b>%{hovertext}</b><br><br>Region=Middle East and Northern Africa<br>Score=%{x}<br>Healthy life expectancy=%{y}<extra></extra>",
         "hovertext": [
          "Israel",
          "United Arab Emirates",
          "Saudi Arabia",
          "Qatar",
          "Bahrain",
          "Kuwait",
          "Libya",
          "Turkey",
          "Algeria",
          "Morocco",
          "Lebanon",
          "Jordan",
          "Palestinian Territories",
          "Iran",
          "Tunisia",
          "Iraq",
          "Egypt",
          "Syria",
          "Yemen"
         ],
         "legendgroup": "Middle East and Northern Africa",
         "marker": {
          "color": "#FFA15A",
          "line": {
           "color": "DarkSlateGrey",
           "width": 1
          },
          "size": 10,
          "symbol": "circle"
         },
         "mode": "markers",
         "name": "Middle East and Northern Africa",
         "orientation": "v",
         "showlegend": true,
         "type": "scatter",
         "x": [
          7.138999999999999,
          6.825,
          6.375,
          6.374,
          6.199,
          6.021,
          5.525,
          5.372999999999999,
          5.211,
          5.207999999999999,
          5.197,
          4.906000000000001,
          4.696000000000001,
          4.548,
          4.461,
          4.437,
          4.166,
          3.4619999999999997,
          3.38
         ],
         "xaxis": "x",
         "y": [
          1.0290000000000001,
          0.825,
          0.795,
          0.871,
          0.871,
          0.8079999999999999,
          0.6729999999999999,
          0.8079999999999999,
          0.785,
          0.782,
          0.815,
          0.815,
          0.672,
          0.785,
          0.815,
          0.574,
          0.644,
          0.44,
          0.46299999999999997
         ],
         "yaxis": "y"
        },
        {
         "hovertemplate": "<b>%{hovertext}</b><br><br>Region=Asia<br>Score=%{x}<br>Healthy life expectancy=%{y}<extra></extra>",
         "hovertext": [
          "Taiwan",
          "Singapore",
          "Thailand",
          "South Korea",
          "Japan",
          "Pakistan",
          "Philippines",
          "Hong Kong",
          "Malaysia",
          "Mongolia",
          "Indonesia",
          "China",
          "Vietnam",
          "Bhutan",
          "Nepal",
          "Laos",
          "Cambodia",
          "Bangladesh",
          "Sri Lanka",
          "Myanmar",
          "India",
          "Afghanistan"
         ],
         "legendgroup": "Asia",
         "marker": {
          "color": "#19d3f3",
          "line": {
           "color": "DarkSlateGrey",
           "width": 1
          },
          "size": 10,
          "symbol": "circle"
         },
         "mode": "markers",
         "name": "Asia",
         "orientation": "v",
         "showlegend": true,
         "type": "scatter",
         "x": [
          6.446000000000001,
          6.2620000000000005,
          6.007999999999999,
          5.895,
          5.886,
          5.653,
          5.631,
          5.43,
          5.3389999999999995,
          5.285,
          5.192,
          5.191,
          5.175,
          5.082,
          4.913,
          4.796,
          4.7,
          4.456,
          4.3660000000000005,
          4.36,
          4.015,
          3.2030000000000003
         ],
         "xaxis": "x",
         "y": [
          0.914,
          1.141,
          0.828,
          1.036,
          1.088,
          0.535,
          0.657,
          1.122,
          0.828,
          0.667,
          0.66,
          0.893,
          0.851,
          0.604,
          0.677,
          0.551,
          0.637,
          0.723,
          0.831,
          0.555,
          0.588,
          0.361
         ],
         "yaxis": "y"
        },
        {
         "hovertemplate": "<b>%{hovertext}</b><br><br>Region=Sub-Saharan Africa<br>Score=%{x}<br>Healthy life expectancy=%{y}<extra></extra>",
         "hovertext": [
          "Mauritius",
          "Nigeria",
          "Cameroon",
          "Ghana",
          "Ivory Coast",
          "Benin",
          "Congo (Brazzaville)",
          "Gabon",
          "South Africa",
          "Senegal",
          "Niger",
          "Burkina Faso",
          "Guinea",
          "Kenya",
          "Mauritania",
          "Mozambique",
          "Congo (Kinshasa)",
          "Mali",
          "Sierra Leone",
          "Chad",
          "Ethiopia",
          "Swaziland",
          "Uganda",
          "Zambia",
          "Togo",
          "Liberia",
          "Comoros",
          "Madagascar",
          "Lesotho",
          "Burundi",
          "Zimbabwe",
          "Botswana",
          "Malawi",
          "Rwanda",
          "Tanzania",
          "Central African Republic"
         ],
         "legendgroup": "Sub-Saharan Africa",
         "marker": {
          "color": "#FF6692",
          "line": {
           "color": "DarkSlateGrey",
           "width": 1
          },
          "size": 10,
          "symbol": "circle"
         },
         "mode": "markers",
         "name": "Sub-Saharan Africa",
         "orientation": "v",
         "showlegend": true,
         "type": "scatter",
         "x": [
          5.888,
          5.265,
          5.044,
          4.996,
          4.944,
          4.883,
          4.812,
          4.7989999999999995,
          4.7219999999999995,
          4.681,
          4.628,
          4.587,
          4.534,
          4.5089999999999995,
          4.49,
          4.466,
          4.418,
          4.39,
          4.374,
          4.35,
          4.2860000000000005,
          4.212,
          4.189,
          4.107,
          4.085,
          3.975,
          3.9730000000000003,
          3.9330000000000003,
          3.802,
          3.775,
          3.6630000000000003,
          3.488,
          3.41,
          3.3339999999999996,
          3.2310000000000003,
          3.083
         ],
         "xaxis": "x",
         "y": [
          0.7979999999999999,
          0.245,
          0.331,
          0.486,
          0.23199999999999998,
          0.397,
          0.508,
          0.5710000000000001,
          0.469,
          0.5710000000000001,
          0.366,
          0.38,
          0.375,
          0.581,
          0.489,
          0.39,
          0.35700000000000004,
          0.308,
          0.242,
          0.192,
          0.532,
          0,
          0.44299999999999995,
          0.426,
          0.41,
          0.44299999999999995,
          0.505,
          0.555,
          0.168,
          0.38,
          0.433,
          0.5379999999999999,
          0.495,
          0.614,
          0.499,
          0.105
         ],
         "yaxis": "y"
        }
       ],
       "layout": {
        "height": 600,
        "legend": {
         "title": {
          "text": "Region"
         },
         "tracegroupgap": 0
        },
        "template": {
         "data": {
          "bar": [
           {
            "error_x": {
             "color": "#2a3f5f"
            },
            "error_y": {
             "color": "#2a3f5f"
            },
            "marker": {
             "line": {
              "color": "#E5ECF6",
              "width": 0.5
             }
            },
            "type": "bar"
           }
          ],
          "barpolar": [
           {
            "marker": {
             "line": {
              "color": "#E5ECF6",
              "width": 0.5
             }
            },
            "type": "barpolar"
           }
          ],
          "carpet": [
           {
            "aaxis": {
             "endlinecolor": "#2a3f5f",
             "gridcolor": "white",
             "linecolor": "white",
             "minorgridcolor": "white",
             "startlinecolor": "#2a3f5f"
            },
            "baxis": {
             "endlinecolor": "#2a3f5f",
             "gridcolor": "white",
             "linecolor": "white",
             "minorgridcolor": "white",
             "startlinecolor": "#2a3f5f"
            },
            "type": "carpet"
           }
          ],
          "choropleth": [
           {
            "colorbar": {
             "outlinewidth": 0,
             "ticks": ""
            },
            "type": "choropleth"
           }
          ],
          "contour": [
           {
            "colorbar": {
             "outlinewidth": 0,
             "ticks": ""
            },
            "colorscale": [
             [
              0,
              "#0d0887"
             ],
             [
              0.1111111111111111,
              "#46039f"
             ],
             [
              0.2222222222222222,
              "#7201a8"
             ],
             [
              0.3333333333333333,
              "#9c179e"
             ],
             [
              0.4444444444444444,
              "#bd3786"
             ],
             [
              0.5555555555555556,
              "#d8576b"
             ],
             [
              0.6666666666666666,
              "#ed7953"
             ],
             [
              0.7777777777777778,
              "#fb9f3a"
             ],
             [
              0.8888888888888888,
              "#fdca26"
             ],
             [
              1,
              "#f0f921"
             ]
            ],
            "type": "contour"
           }
          ],
          "contourcarpet": [
           {
            "colorbar": {
             "outlinewidth": 0,
             "ticks": ""
            },
            "type": "contourcarpet"
           }
          ],
          "heatmap": [
           {
            "colorbar": {
             "outlinewidth": 0,
             "ticks": ""
            },
            "colorscale": [
             [
              0,
              "#0d0887"
             ],
             [
              0.1111111111111111,
              "#46039f"
             ],
             [
              0.2222222222222222,
              "#7201a8"
             ],
             [
              0.3333333333333333,
              "#9c179e"
             ],
             [
              0.4444444444444444,
              "#bd3786"
             ],
             [
              0.5555555555555556,
              "#d8576b"
             ],
             [
              0.6666666666666666,
              "#ed7953"
             ],
             [
              0.7777777777777778,
              "#fb9f3a"
             ],
             [
              0.8888888888888888,
              "#fdca26"
             ],
             [
              1,
              "#f0f921"
             ]
            ],
            "type": "heatmap"
           }
          ],
          "heatmapgl": [
           {
            "colorbar": {
             "outlinewidth": 0,
             "ticks": ""
            },
            "colorscale": [
             [
              0,
              "#0d0887"
             ],
             [
              0.1111111111111111,
              "#46039f"
             ],
             [
              0.2222222222222222,
              "#7201a8"
             ],
             [
              0.3333333333333333,
              "#9c179e"
             ],
             [
              0.4444444444444444,
              "#bd3786"
             ],
             [
              0.5555555555555556,
              "#d8576b"
             ],
             [
              0.6666666666666666,
              "#ed7953"
             ],
             [
              0.7777777777777778,
              "#fb9f3a"
             ],
             [
              0.8888888888888888,
              "#fdca26"
             ],
             [
              1,
              "#f0f921"
             ]
            ],
            "type": "heatmapgl"
           }
          ],
          "histogram": [
           {
            "marker": {
             "colorbar": {
              "outlinewidth": 0,
              "ticks": ""
             }
            },
            "type": "histogram"
           }
          ],
          "histogram2d": [
           {
            "colorbar": {
             "outlinewidth": 0,
             "ticks": ""
            },
            "colorscale": [
             [
              0,
              "#0d0887"
             ],
             [
              0.1111111111111111,
              "#46039f"
             ],
             [
              0.2222222222222222,
              "#7201a8"
             ],
             [
              0.3333333333333333,
              "#9c179e"
             ],
             [
              0.4444444444444444,
              "#bd3786"
             ],
             [
              0.5555555555555556,
              "#d8576b"
             ],
             [
              0.6666666666666666,
              "#ed7953"
             ],
             [
              0.7777777777777778,
              "#fb9f3a"
             ],
             [
              0.8888888888888888,
              "#fdca26"
             ],
             [
              1,
              "#f0f921"
             ]
            ],
            "type": "histogram2d"
           }
          ],
          "histogram2dcontour": [
           {
            "colorbar": {
             "outlinewidth": 0,
             "ticks": ""
            },
            "colorscale": [
             [
              0,
              "#0d0887"
             ],
             [
              0.1111111111111111,
              "#46039f"
             ],
             [
              0.2222222222222222,
              "#7201a8"
             ],
             [
              0.3333333333333333,
              "#9c179e"
             ],
             [
              0.4444444444444444,
              "#bd3786"
             ],
             [
              0.5555555555555556,
              "#d8576b"
             ],
             [
              0.6666666666666666,
              "#ed7953"
             ],
             [
              0.7777777777777778,
              "#fb9f3a"
             ],
             [
              0.8888888888888888,
              "#fdca26"
             ],
             [
              1,
              "#f0f921"
             ]
            ],
            "type": "histogram2dcontour"
           }
          ],
          "mesh3d": [
           {
            "colorbar": {
             "outlinewidth": 0,
             "ticks": ""
            },
            "type": "mesh3d"
           }
          ],
          "parcoords": [
           {
            "line": {
             "colorbar": {
              "outlinewidth": 0,
              "ticks": ""
             }
            },
            "type": "parcoords"
           }
          ],
          "pie": [
           {
            "automargin": true,
            "type": "pie"
           }
          ],
          "scatter": [
           {
            "marker": {
             "colorbar": {
              "outlinewidth": 0,
              "ticks": ""
             }
            },
            "type": "scatter"
           }
          ],
          "scatter3d": [
           {
            "line": {
             "colorbar": {
              "outlinewidth": 0,
              "ticks": ""
             }
            },
            "marker": {
             "colorbar": {
              "outlinewidth": 0,
              "ticks": ""
             }
            },
            "type": "scatter3d"
           }
          ],
          "scattercarpet": [
           {
            "marker": {
             "colorbar": {
              "outlinewidth": 0,
              "ticks": ""
             }
            },
            "type": "scattercarpet"
           }
          ],
          "scattergeo": [
           {
            "marker": {
             "colorbar": {
              "outlinewidth": 0,
              "ticks": ""
             }
            },
            "type": "scattergeo"
           }
          ],
          "scattergl": [
           {
            "marker": {
             "colorbar": {
              "outlinewidth": 0,
              "ticks": ""
             }
            },
            "type": "scattergl"
           }
          ],
          "scattermapbox": [
           {
            "marker": {
             "colorbar": {
              "outlinewidth": 0,
              "ticks": ""
             }
            },
            "type": "scattermapbox"
           }
          ],
          "scatterpolar": [
           {
            "marker": {
             "colorbar": {
              "outlinewidth": 0,
              "ticks": ""
             }
            },
            "type": "scatterpolar"
           }
          ],
          "scatterpolargl": [
           {
            "marker": {
             "colorbar": {
              "outlinewidth": 0,
              "ticks": ""
             }
            },
            "type": "scatterpolargl"
           }
          ],
          "scatterternary": [
           {
            "marker": {
             "colorbar": {
              "outlinewidth": 0,
              "ticks": ""
             }
            },
            "type": "scatterternary"
           }
          ],
          "surface": [
           {
            "colorbar": {
             "outlinewidth": 0,
             "ticks": ""
            },
            "colorscale": [
             [
              0,
              "#0d0887"
             ],
             [
              0.1111111111111111,
              "#46039f"
             ],
             [
              0.2222222222222222,
              "#7201a8"
             ],
             [
              0.3333333333333333,
              "#9c179e"
             ],
             [
              0.4444444444444444,
              "#bd3786"
             ],
             [
              0.5555555555555556,
              "#d8576b"
             ],
             [
              0.6666666666666666,
              "#ed7953"
             ],
             [
              0.7777777777777778,
              "#fb9f3a"
             ],
             [
              0.8888888888888888,
              "#fdca26"
             ],
             [
              1,
              "#f0f921"
             ]
            ],
            "type": "surface"
           }
          ],
          "table": [
           {
            "cells": {
             "fill": {
              "color": "#EBF0F8"
             },
             "line": {
              "color": "white"
             }
            },
            "header": {
             "fill": {
              "color": "#C8D4E3"
             },
             "line": {
              "color": "white"
             }
            },
            "type": "table"
           }
          ]
         },
         "layout": {
          "annotationdefaults": {
           "arrowcolor": "#2a3f5f",
           "arrowhead": 0,
           "arrowwidth": 1
          },
          "autotypenumbers": "strict",
          "coloraxis": {
           "colorbar": {
            "outlinewidth": 0,
            "ticks": ""
           }
          },
          "colorscale": {
           "diverging": [
            [
             0,
             "#8e0152"
            ],
            [
             0.1,
             "#c51b7d"
            ],
            [
             0.2,
             "#de77ae"
            ],
            [
             0.3,
             "#f1b6da"
            ],
            [
             0.4,
             "#fde0ef"
            ],
            [
             0.5,
             "#f7f7f7"
            ],
            [
             0.6,
             "#e6f5d0"
            ],
            [
             0.7,
             "#b8e186"
            ],
            [
             0.8,
             "#7fbc41"
            ],
            [
             0.9,
             "#4d9221"
            ],
            [
             1,
             "#276419"
            ]
           ],
           "sequential": [
            [
             0,
             "#0d0887"
            ],
            [
             0.1111111111111111,
             "#46039f"
            ],
            [
             0.2222222222222222,
             "#7201a8"
            ],
            [
             0.3333333333333333,
             "#9c179e"
            ],
            [
             0.4444444444444444,
             "#bd3786"
            ],
            [
             0.5555555555555556,
             "#d8576b"
            ],
            [
             0.6666666666666666,
             "#ed7953"
            ],
            [
             0.7777777777777778,
             "#fb9f3a"
            ],
            [
             0.8888888888888888,
             "#fdca26"
            ],
            [
             1,
             "#f0f921"
            ]
           ],
           "sequentialminus": [
            [
             0,
             "#0d0887"
            ],
            [
             0.1111111111111111,
             "#46039f"
            ],
            [
             0.2222222222222222,
             "#7201a8"
            ],
            [
             0.3333333333333333,
             "#9c179e"
            ],
            [
             0.4444444444444444,
             "#bd3786"
            ],
            [
             0.5555555555555556,
             "#d8576b"
            ],
            [
             0.6666666666666666,
             "#ed7953"
            ],
            [
             0.7777777777777778,
             "#fb9f3a"
            ],
            [
             0.8888888888888888,
             "#fdca26"
            ],
            [
             1,
             "#f0f921"
            ]
           ]
          },
          "colorway": [
           "#636efa",
           "#EF553B",
           "#00cc96",
           "#ab63fa",
           "#FFA15A",
           "#19d3f3",
           "#FF6692",
           "#B6E880",
           "#FF97FF",
           "#FECB52"
          ],
          "font": {
           "color": "#2a3f5f"
          },
          "geo": {
           "bgcolor": "white",
           "lakecolor": "white",
           "landcolor": "#E5ECF6",
           "showlakes": true,
           "showland": true,
           "subunitcolor": "white"
          },
          "hoverlabel": {
           "align": "left"
          },
          "hovermode": "closest",
          "mapbox": {
           "style": "light"
          },
          "paper_bgcolor": "white",
          "plot_bgcolor": "#E5ECF6",
          "polar": {
           "angularaxis": {
            "gridcolor": "white",
            "linecolor": "white",
            "ticks": ""
           },
           "bgcolor": "#E5ECF6",
           "radialaxis": {
            "gridcolor": "white",
            "linecolor": "white",
            "ticks": ""
           }
          },
          "scene": {
           "xaxis": {
            "backgroundcolor": "#E5ECF6",
            "gridcolor": "white",
            "gridwidth": 2,
            "linecolor": "white",
            "showbackground": true,
            "ticks": "",
            "zerolinecolor": "white"
           },
           "yaxis": {
            "backgroundcolor": "#E5ECF6",
            "gridcolor": "white",
            "gridwidth": 2,
            "linecolor": "white",
            "showbackground": true,
            "ticks": "",
            "zerolinecolor": "white"
           },
           "zaxis": {
            "backgroundcolor": "#E5ECF6",
            "gridcolor": "white",
            "gridwidth": 2,
            "linecolor": "white",
            "showbackground": true,
            "ticks": "",
            "zerolinecolor": "white"
           }
          },
          "shapedefaults": {
           "line": {
            "color": "#2a3f5f"
           }
          },
          "ternary": {
           "aaxis": {
            "gridcolor": "white",
            "linecolor": "white",
            "ticks": ""
           },
           "baxis": {
            "gridcolor": "white",
            "linecolor": "white",
            "ticks": ""
           },
           "bgcolor": "#E5ECF6",
           "caxis": {
            "gridcolor": "white",
            "linecolor": "white",
            "ticks": ""
           }
          },
          "title": {
           "x": 0.05
          },
          "xaxis": {
           "automargin": true,
           "gridcolor": "white",
           "linecolor": "white",
           "ticks": "",
           "title": {
            "standoff": 15
           },
           "zerolinecolor": "white",
           "zerolinewidth": 2
          },
          "yaxis": {
           "automargin": true,
           "gridcolor": "white",
           "linecolor": "white",
           "ticks": "",
           "title": {
            "standoff": 15
           },
           "zerolinecolor": "white",
           "zerolinewidth": 2
          }
         }
        },
        "title": {
         "text": "Happiness Score compared to Healthy Life Expectancy Score"
        },
        "width": 1000,
        "xaxis": {
         "anchor": "y",
         "domain": [
          0,
          1
         ],
         "range": [
          0,
          8
         ],
         "title": {
          "text": "Happiness Score"
         }
        },
        "yaxis": {
         "anchor": "x",
         "domain": [
          0,
          1
         ],
         "title": {
          "text": "Healthy Life Expectancy"
         }
        }
       }
      },
      "text/html": [
       "<div>                            <div id=\"f4f22c1a-3161-4a2d-891d-24fb5e382191\" class=\"plotly-graph-div\" style=\"height:600px; width:1000px;\"></div>            <script type=\"text/javascript\">                require([\"plotly\"], function(Plotly) {                    window.PLOTLYENV=window.PLOTLYENV || {};                                    if (document.getElementById(\"f4f22c1a-3161-4a2d-891d-24fb5e382191\")) {                    Plotly.newPlot(                        \"f4f22c1a-3161-4a2d-891d-24fb5e382191\",                        [{\"hovertemplate\": \"<b>%{hovertext}</b><br><br>Region=Europe<br>Score=%{x}<br>Healthy life expectancy=%{y}<extra></extra>\", \"hovertext\": [\"Finland\", \"Denmark\", \"Norway\", \"Iceland\", \"Netherlands\", \"Switzerland\", \"Sweden\", \"Austria\", \"Luxembourg\", \"United Kingdom\", \"Ireland\", \"Germany\", \"Belgium\", \"Czech Republic\", \"Malta\", \"France\", \"Spain\", \"Italy\", \"Slovakia\", \"Poland\", \"Uzbekistan\", \"Lithuania\", \"Slovenia\", \"Kosovo\", \"Romania\", \"Cyprus\", \"Latvia\", \"Estonia\", \"Kazakhstan\", \"Hungary\", \"Portugal\", \"Russia\", \"Serbia\", \"Moldova\", \"Montenegro\", \"Tajikistan\", \"Croatia\", \"Bosnia and Herzegovina\", \"Belarus\", \"Greece\", \"Kyrgyzstan\", \"Turkmenistan\", \"Azerbaijan\", \"Bulgaria\", \"Albania\", \"Armenia\", \"Georgia\", \"Ukraine\"], \"legendgroup\": \"Europe\", \"marker\": {\"color\": \"#636efa\", \"line\": {\"color\": \"DarkSlateGrey\", \"width\": 1}, \"size\": 10, \"symbol\": \"circle\"}, \"mode\": \"markers\", \"name\": \"Europe\", \"orientation\": \"v\", \"showlegend\": true, \"type\": \"scatter\", \"x\": [7.769, 7.6, 7.553999999999999, 7.494, 7.4879999999999995, 7.48, 7.343, 7.246, 7.09, 7.053999999999999, 7.021, 6.985, 6.922999999999999, 6.852, 6.726, 6.5920000000000005, 6.354, 6.223, 6.1979999999999995, 6.182, 6.1739999999999995, 6.149, 6.117999999999999, 6.1, 6.07, 6.046, 5.94, 5.893, 5.809, 5.757999999999999, 5.693, 5.648, 5.603, 5.529, 5.523, 5.4670000000000005, 5.432, 5.386, 5.3229999999999995, 5.287000000000001, 5.261, 5.247000000000001, 5.207999999999999, 5.011, 4.718999999999999, 4.559, 4.519, 4.332], \"xaxis\": \"x\", \"y\": [0.986, 0.996, 1.028, 1.026, 0.9990000000000001, 1.052, 1.0090000000000001, 1.016, 1.012, 0.996, 0.9990000000000001, 0.987, 0.986, 0.92, 0.9990000000000001, 1.045, 1.062, 1.0390000000000001, 0.8809999999999999, 0.884, 0.7559999999999999, 0.818, 0.953, 0.758, 0.825, 1.042, 0.812, 0.8740000000000001, 0.7290000000000001, 0.828, 0.9990000000000001, 0.726, 0.8540000000000001, 0.7390000000000001, 0.871, 0.718, 0.914, 0.845, 0.789, 0.9990000000000001, 0.723, 0.657, 0.769, 0.815, 0.8740000000000001, 0.815, 0.752, 0.7390000000000001], \"yaxis\": \"y\"}, {\"hovertemplate\": \"<b>%{hovertext}</b><br><br>Region=Australia and New Zealand<br>Score=%{x}<br>Healthy life expectancy=%{y}<extra></extra>\", \"hovertext\": [\"New Zealand\", \"Australia\"], \"legendgroup\": \"Australia and New Zealand\", \"marker\": {\"color\": \"#EF553B\", \"line\": {\"color\": \"DarkSlateGrey\", \"width\": 1}, \"size\": 10, \"symbol\": \"circle\"}, \"mode\": \"markers\", \"name\": \"Australia and New Zealand\", \"orientation\": \"v\", \"showlegend\": true, \"type\": \"scatter\", \"x\": [7.307, 7.228], \"xaxis\": \"x\", \"y\": [1.026, 1.036], \"yaxis\": \"y\"}, {\"hovertemplate\": \"<b>%{hovertext}</b><br><br>Region=North America<br>Score=%{x}<br>Healthy life expectancy=%{y}<extra></extra>\", \"hovertext\": [\"Canada\", \"United States\"], \"legendgroup\": \"North America\", \"marker\": {\"color\": \"#00cc96\", \"line\": {\"color\": \"DarkSlateGrey\", \"width\": 1}, \"size\": 10, \"symbol\": \"circle\"}, \"mode\": \"markers\", \"name\": \"North America\", \"orientation\": \"v\", \"showlegend\": true, \"type\": \"scatter\", \"x\": [7.278, 6.892], \"xaxis\": \"x\", \"y\": [1.0390000000000001, 0.8740000000000001], \"yaxis\": \"y\"}, {\"hovertemplate\": \"<b>%{hovertext}</b><br><br>Region=Latin America and Caribbean<br>Score=%{x}<br>Healthy life expectancy=%{y}<extra></extra>\", \"hovertext\": [\"Costa Rica\", \"Mexico\", \"Chile\", \"Guatemala\", \"Panama\", \"Brazil\", \"Uruguay\", \"El Salvador\", \"Colombia\", \"Nicaragua\", \"Argentina\", \"Ecuador\", \"Jamaica\", \"Honduras\", \"Bolivia\", \"Paraguay\", \"Peru\", \"Dominican Republic\", \"Venezuela\", \"Haiti\"], \"legendgroup\": \"Latin America and Caribbean\", \"marker\": {\"color\": \"#ab63fa\", \"line\": {\"color\": \"DarkSlateGrey\", \"width\": 1}, \"size\": 10, \"symbol\": \"circle\"}, \"mode\": \"markers\", \"name\": \"Latin America and Caribbean\", \"orientation\": \"v\", \"showlegend\": true, \"type\": \"scatter\", \"x\": [7.167000000000001, 6.595, 6.444, 6.436, 6.321000000000001, 6.3, 6.292999999999999, 6.252999999999999, 6.125, 6.105, 6.086, 6.028, 5.89, 5.86, 5.779, 5.742999999999999, 5.697, 5.425, 4.707, 3.597], \"xaxis\": \"x\", \"y\": [0.963, 0.861, 0.92, 0.746, 0.91, 0.802, 0.8909999999999999, 0.789, 0.841, 0.835, 0.8809999999999999, 0.868, 0.831, 0.828, 0.706, 0.777, 0.8540000000000001, 0.779, 0.805, 0.449], \"yaxis\": \"y\"}, {\"hovertemplate\": \"<b>%{hovertext}</b><br><br>Region=Middle East and Northern Africa<br>Score=%{x}<br>Healthy life expectancy=%{y}<extra></extra>\", \"hovertext\": [\"Israel\", \"United Arab Emirates\", \"Saudi Arabia\", \"Qatar\", \"Bahrain\", \"Kuwait\", \"Libya\", \"Turkey\", \"Algeria\", \"Morocco\", \"Lebanon\", \"Jordan\", \"Palestinian Territories\", \"Iran\", \"Tunisia\", \"Iraq\", \"Egypt\", \"Syria\", \"Yemen\"], \"legendgroup\": \"Middle East and Northern Africa\", \"marker\": {\"color\": \"#FFA15A\", \"line\": {\"color\": \"DarkSlateGrey\", \"width\": 1}, \"size\": 10, \"symbol\": \"circle\"}, \"mode\": \"markers\", \"name\": \"Middle East and Northern Africa\", \"orientation\": \"v\", \"showlegend\": true, \"type\": \"scatter\", \"x\": [7.138999999999999, 6.825, 6.375, 6.374, 6.199, 6.021, 5.525, 5.372999999999999, 5.211, 5.207999999999999, 5.197, 4.906000000000001, 4.696000000000001, 4.548, 4.461, 4.437, 4.166, 3.4619999999999997, 3.38], \"xaxis\": \"x\", \"y\": [1.0290000000000001, 0.825, 0.795, 0.871, 0.871, 0.8079999999999999, 0.6729999999999999, 0.8079999999999999, 0.785, 0.782, 0.815, 0.815, 0.672, 0.785, 0.815, 0.574, 0.644, 0.44, 0.46299999999999997], \"yaxis\": \"y\"}, {\"hovertemplate\": \"<b>%{hovertext}</b><br><br>Region=Asia<br>Score=%{x}<br>Healthy life expectancy=%{y}<extra></extra>\", \"hovertext\": [\"Taiwan\", \"Singapore\", \"Thailand\", \"South Korea\", \"Japan\", \"Pakistan\", \"Philippines\", \"Hong Kong\", \"Malaysia\", \"Mongolia\", \"Indonesia\", \"China\", \"Vietnam\", \"Bhutan\", \"Nepal\", \"Laos\", \"Cambodia\", \"Bangladesh\", \"Sri Lanka\", \"Myanmar\", \"India\", \"Afghanistan\"], \"legendgroup\": \"Asia\", \"marker\": {\"color\": \"#19d3f3\", \"line\": {\"color\": \"DarkSlateGrey\", \"width\": 1}, \"size\": 10, \"symbol\": \"circle\"}, \"mode\": \"markers\", \"name\": \"Asia\", \"orientation\": \"v\", \"showlegend\": true, \"type\": \"scatter\", \"x\": [6.446000000000001, 6.2620000000000005, 6.007999999999999, 5.895, 5.886, 5.653, 5.631, 5.43, 5.3389999999999995, 5.285, 5.192, 5.191, 5.175, 5.082, 4.913, 4.796, 4.7, 4.456, 4.3660000000000005, 4.36, 4.015, 3.2030000000000003], \"xaxis\": \"x\", \"y\": [0.914, 1.141, 0.828, 1.036, 1.088, 0.535, 0.657, 1.122, 0.828, 0.667, 0.66, 0.893, 0.851, 0.604, 0.677, 0.551, 0.637, 0.723, 0.831, 0.555, 0.588, 0.361], \"yaxis\": \"y\"}, {\"hovertemplate\": \"<b>%{hovertext}</b><br><br>Region=Sub-Saharan Africa<br>Score=%{x}<br>Healthy life expectancy=%{y}<extra></extra>\", \"hovertext\": [\"Mauritius\", \"Nigeria\", \"Cameroon\", \"Ghana\", \"Ivory Coast\", \"Benin\", \"Congo (Brazzaville)\", \"Gabon\", \"South Africa\", \"Senegal\", \"Niger\", \"Burkina Faso\", \"Guinea\", \"Kenya\", \"Mauritania\", \"Mozambique\", \"Congo (Kinshasa)\", \"Mali\", \"Sierra Leone\", \"Chad\", \"Ethiopia\", \"Swaziland\", \"Uganda\", \"Zambia\", \"Togo\", \"Liberia\", \"Comoros\", \"Madagascar\", \"Lesotho\", \"Burundi\", \"Zimbabwe\", \"Botswana\", \"Malawi\", \"Rwanda\", \"Tanzania\", \"Central African Republic\"], \"legendgroup\": \"Sub-Saharan Africa\", \"marker\": {\"color\": \"#FF6692\", \"line\": {\"color\": \"DarkSlateGrey\", \"width\": 1}, \"size\": 10, \"symbol\": \"circle\"}, \"mode\": \"markers\", \"name\": \"Sub-Saharan Africa\", \"orientation\": \"v\", \"showlegend\": true, \"type\": \"scatter\", \"x\": [5.888, 5.265, 5.044, 4.996, 4.944, 4.883, 4.812, 4.7989999999999995, 4.7219999999999995, 4.681, 4.628, 4.587, 4.534, 4.5089999999999995, 4.49, 4.466, 4.418, 4.39, 4.374, 4.35, 4.2860000000000005, 4.212, 4.189, 4.107, 4.085, 3.975, 3.9730000000000003, 3.9330000000000003, 3.802, 3.775, 3.6630000000000003, 3.488, 3.41, 3.3339999999999996, 3.2310000000000003, 3.083], \"xaxis\": \"x\", \"y\": [0.7979999999999999, 0.245, 0.331, 0.486, 0.23199999999999998, 0.397, 0.508, 0.5710000000000001, 0.469, 0.5710000000000001, 0.366, 0.38, 0.375, 0.581, 0.489, 0.39, 0.35700000000000004, 0.308, 0.242, 0.192, 0.532, 0.0, 0.44299999999999995, 0.426, 0.41, 0.44299999999999995, 0.505, 0.555, 0.168, 0.38, 0.433, 0.5379999999999999, 0.495, 0.614, 0.499, 0.105], \"yaxis\": \"y\"}],                        {\"height\": 600, \"legend\": {\"title\": {\"text\": \"Region\"}, \"tracegroupgap\": 0}, \"template\": {\"data\": {\"bar\": [{\"error_x\": {\"color\": \"#2a3f5f\"}, \"error_y\": {\"color\": \"#2a3f5f\"}, \"marker\": {\"line\": {\"color\": \"#E5ECF6\", \"width\": 0.5}}, \"type\": \"bar\"}], \"barpolar\": [{\"marker\": {\"line\": {\"color\": \"#E5ECF6\", \"width\": 0.5}}, \"type\": \"barpolar\"}], \"carpet\": [{\"aaxis\": {\"endlinecolor\": \"#2a3f5f\", \"gridcolor\": \"white\", \"linecolor\": \"white\", \"minorgridcolor\": \"white\", \"startlinecolor\": \"#2a3f5f\"}, \"baxis\": {\"endlinecolor\": \"#2a3f5f\", \"gridcolor\": \"white\", \"linecolor\": \"white\", \"minorgridcolor\": \"white\", \"startlinecolor\": \"#2a3f5f\"}, \"type\": \"carpet\"}], \"choropleth\": [{\"colorbar\": {\"outlinewidth\": 0, \"ticks\": \"\"}, \"type\": \"choropleth\"}], \"contour\": [{\"colorbar\": {\"outlinewidth\": 0, \"ticks\": \"\"}, \"colorscale\": [[0.0, \"#0d0887\"], [0.1111111111111111, \"#46039f\"], [0.2222222222222222, \"#7201a8\"], [0.3333333333333333, \"#9c179e\"], [0.4444444444444444, \"#bd3786\"], [0.5555555555555556, \"#d8576b\"], [0.6666666666666666, \"#ed7953\"], [0.7777777777777778, \"#fb9f3a\"], [0.8888888888888888, \"#fdca26\"], [1.0, \"#f0f921\"]], \"type\": \"contour\"}], \"contourcarpet\": [{\"colorbar\": {\"outlinewidth\": 0, \"ticks\": \"\"}, \"type\": \"contourcarpet\"}], \"heatmap\": [{\"colorbar\": {\"outlinewidth\": 0, \"ticks\": \"\"}, \"colorscale\": [[0.0, \"#0d0887\"], [0.1111111111111111, \"#46039f\"], [0.2222222222222222, \"#7201a8\"], [0.3333333333333333, \"#9c179e\"], [0.4444444444444444, \"#bd3786\"], [0.5555555555555556, \"#d8576b\"], [0.6666666666666666, \"#ed7953\"], [0.7777777777777778, \"#fb9f3a\"], [0.8888888888888888, \"#fdca26\"], [1.0, \"#f0f921\"]], \"type\": \"heatmap\"}], \"heatmapgl\": [{\"colorbar\": {\"outlinewidth\": 0, \"ticks\": \"\"}, \"colorscale\": [[0.0, \"#0d0887\"], [0.1111111111111111, \"#46039f\"], [0.2222222222222222, \"#7201a8\"], [0.3333333333333333, \"#9c179e\"], [0.4444444444444444, \"#bd3786\"], [0.5555555555555556, \"#d8576b\"], [0.6666666666666666, \"#ed7953\"], [0.7777777777777778, \"#fb9f3a\"], [0.8888888888888888, \"#fdca26\"], [1.0, \"#f0f921\"]], \"type\": \"heatmapgl\"}], \"histogram\": [{\"marker\": {\"colorbar\": {\"outlinewidth\": 0, \"ticks\": \"\"}}, \"type\": \"histogram\"}], \"histogram2d\": [{\"colorbar\": {\"outlinewidth\": 0, \"ticks\": \"\"}, \"colorscale\": [[0.0, \"#0d0887\"], [0.1111111111111111, \"#46039f\"], [0.2222222222222222, \"#7201a8\"], [0.3333333333333333, \"#9c179e\"], [0.4444444444444444, \"#bd3786\"], [0.5555555555555556, \"#d8576b\"], [0.6666666666666666, \"#ed7953\"], [0.7777777777777778, \"#fb9f3a\"], [0.8888888888888888, \"#fdca26\"], [1.0, \"#f0f921\"]], \"type\": \"histogram2d\"}], \"histogram2dcontour\": [{\"colorbar\": {\"outlinewidth\": 0, \"ticks\": \"\"}, \"colorscale\": [[0.0, \"#0d0887\"], [0.1111111111111111, \"#46039f\"], [0.2222222222222222, \"#7201a8\"], [0.3333333333333333, \"#9c179e\"], [0.4444444444444444, \"#bd3786\"], [0.5555555555555556, \"#d8576b\"], [0.6666666666666666, \"#ed7953\"], [0.7777777777777778, \"#fb9f3a\"], [0.8888888888888888, \"#fdca26\"], [1.0, \"#f0f921\"]], \"type\": \"histogram2dcontour\"}], \"mesh3d\": [{\"colorbar\": {\"outlinewidth\": 0, \"ticks\": \"\"}, \"type\": \"mesh3d\"}], \"parcoords\": [{\"line\": {\"colorbar\": {\"outlinewidth\": 0, \"ticks\": \"\"}}, \"type\": \"parcoords\"}], \"pie\": [{\"automargin\": true, \"type\": \"pie\"}], \"scatter\": [{\"marker\": {\"colorbar\": {\"outlinewidth\": 0, \"ticks\": \"\"}}, \"type\": \"scatter\"}], \"scatter3d\": [{\"line\": {\"colorbar\": {\"outlinewidth\": 0, \"ticks\": \"\"}}, \"marker\": {\"colorbar\": {\"outlinewidth\": 0, \"ticks\": \"\"}}, \"type\": \"scatter3d\"}], \"scattercarpet\": [{\"marker\": {\"colorbar\": {\"outlinewidth\": 0, \"ticks\": \"\"}}, \"type\": \"scattercarpet\"}], \"scattergeo\": [{\"marker\": {\"colorbar\": {\"outlinewidth\": 0, \"ticks\": \"\"}}, \"type\": \"scattergeo\"}], \"scattergl\": [{\"marker\": {\"colorbar\": {\"outlinewidth\": 0, \"ticks\": \"\"}}, \"type\": \"scattergl\"}], \"scattermapbox\": [{\"marker\": {\"colorbar\": {\"outlinewidth\": 0, \"ticks\": \"\"}}, \"type\": \"scattermapbox\"}], \"scatterpolar\": [{\"marker\": {\"colorbar\": {\"outlinewidth\": 0, \"ticks\": \"\"}}, \"type\": \"scatterpolar\"}], \"scatterpolargl\": [{\"marker\": {\"colorbar\": {\"outlinewidth\": 0, \"ticks\": \"\"}}, \"type\": \"scatterpolargl\"}], \"scatterternary\": [{\"marker\": {\"colorbar\": {\"outlinewidth\": 0, \"ticks\": \"\"}}, \"type\": \"scatterternary\"}], \"surface\": [{\"colorbar\": {\"outlinewidth\": 0, \"ticks\": \"\"}, \"colorscale\": [[0.0, \"#0d0887\"], [0.1111111111111111, \"#46039f\"], [0.2222222222222222, \"#7201a8\"], [0.3333333333333333, \"#9c179e\"], [0.4444444444444444, \"#bd3786\"], [0.5555555555555556, \"#d8576b\"], [0.6666666666666666, \"#ed7953\"], [0.7777777777777778, \"#fb9f3a\"], [0.8888888888888888, \"#fdca26\"], [1.0, \"#f0f921\"]], \"type\": \"surface\"}], \"table\": [{\"cells\": {\"fill\": {\"color\": \"#EBF0F8\"}, \"line\": {\"color\": \"white\"}}, \"header\": {\"fill\": {\"color\": \"#C8D4E3\"}, \"line\": {\"color\": \"white\"}}, \"type\": \"table\"}]}, \"layout\": {\"annotationdefaults\": {\"arrowcolor\": \"#2a3f5f\", \"arrowhead\": 0, \"arrowwidth\": 1}, \"autotypenumbers\": \"strict\", \"coloraxis\": {\"colorbar\": {\"outlinewidth\": 0, \"ticks\": \"\"}}, \"colorscale\": {\"diverging\": [[0, \"#8e0152\"], [0.1, \"#c51b7d\"], [0.2, \"#de77ae\"], [0.3, \"#f1b6da\"], [0.4, \"#fde0ef\"], [0.5, \"#f7f7f7\"], [0.6, \"#e6f5d0\"], [0.7, \"#b8e186\"], [0.8, \"#7fbc41\"], [0.9, \"#4d9221\"], [1, \"#276419\"]], \"sequential\": [[0.0, \"#0d0887\"], [0.1111111111111111, \"#46039f\"], [0.2222222222222222, \"#7201a8\"], [0.3333333333333333, \"#9c179e\"], [0.4444444444444444, \"#bd3786\"], [0.5555555555555556, \"#d8576b\"], [0.6666666666666666, \"#ed7953\"], [0.7777777777777778, \"#fb9f3a\"], [0.8888888888888888, \"#fdca26\"], [1.0, \"#f0f921\"]], \"sequentialminus\": [[0.0, \"#0d0887\"], [0.1111111111111111, \"#46039f\"], [0.2222222222222222, \"#7201a8\"], [0.3333333333333333, \"#9c179e\"], [0.4444444444444444, \"#bd3786\"], [0.5555555555555556, \"#d8576b\"], [0.6666666666666666, \"#ed7953\"], [0.7777777777777778, \"#fb9f3a\"], [0.8888888888888888, \"#fdca26\"], [1.0, \"#f0f921\"]]}, \"colorway\": [\"#636efa\", \"#EF553B\", \"#00cc96\", \"#ab63fa\", \"#FFA15A\", \"#19d3f3\", \"#FF6692\", \"#B6E880\", \"#FF97FF\", \"#FECB52\"], \"font\": {\"color\": \"#2a3f5f\"}, \"geo\": {\"bgcolor\": \"white\", \"lakecolor\": \"white\", \"landcolor\": \"#E5ECF6\", \"showlakes\": true, \"showland\": true, \"subunitcolor\": \"white\"}, \"hoverlabel\": {\"align\": \"left\"}, \"hovermode\": \"closest\", \"mapbox\": {\"style\": \"light\"}, \"paper_bgcolor\": \"white\", \"plot_bgcolor\": \"#E5ECF6\", \"polar\": {\"angularaxis\": {\"gridcolor\": \"white\", \"linecolor\": \"white\", \"ticks\": \"\"}, \"bgcolor\": \"#E5ECF6\", \"radialaxis\": {\"gridcolor\": \"white\", \"linecolor\": \"white\", \"ticks\": \"\"}}, \"scene\": {\"xaxis\": {\"backgroundcolor\": \"#E5ECF6\", \"gridcolor\": \"white\", \"gridwidth\": 2, \"linecolor\": \"white\", \"showbackground\": true, \"ticks\": \"\", \"zerolinecolor\": \"white\"}, \"yaxis\": {\"backgroundcolor\": \"#E5ECF6\", \"gridcolor\": \"white\", \"gridwidth\": 2, \"linecolor\": \"white\", \"showbackground\": true, \"ticks\": \"\", \"zerolinecolor\": \"white\"}, \"zaxis\": {\"backgroundcolor\": \"#E5ECF6\", \"gridcolor\": \"white\", \"gridwidth\": 2, \"linecolor\": \"white\", \"showbackground\": true, \"ticks\": \"\", \"zerolinecolor\": \"white\"}}, \"shapedefaults\": {\"line\": {\"color\": \"#2a3f5f\"}}, \"ternary\": {\"aaxis\": {\"gridcolor\": \"white\", \"linecolor\": \"white\", \"ticks\": \"\"}, \"baxis\": {\"gridcolor\": \"white\", \"linecolor\": \"white\", \"ticks\": \"\"}, \"bgcolor\": \"#E5ECF6\", \"caxis\": {\"gridcolor\": \"white\", \"linecolor\": \"white\", \"ticks\": \"\"}}, \"title\": {\"x\": 0.05}, \"xaxis\": {\"automargin\": true, \"gridcolor\": \"white\", \"linecolor\": \"white\", \"ticks\": \"\", \"title\": {\"standoff\": 15}, \"zerolinecolor\": \"white\", \"zerolinewidth\": 2}, \"yaxis\": {\"automargin\": true, \"gridcolor\": \"white\", \"linecolor\": \"white\", \"ticks\": \"\", \"title\": {\"standoff\": 15}, \"zerolinecolor\": \"white\", \"zerolinewidth\": 2}}}, \"title\": {\"text\": \"Happiness Score compared to Healthy Life Expectancy Score\"}, \"width\": 1000, \"xaxis\": {\"anchor\": \"y\", \"domain\": [0.0, 1.0], \"range\": [0, 8], \"title\": {\"text\": \"Happiness Score\"}}, \"yaxis\": {\"anchor\": \"x\", \"domain\": [0.0, 1.0], \"title\": {\"text\": \"Healthy Life Expectancy\"}}},                        {\"responsive\": true}                    ).then(function(){\n",
       "                            \n",
       "var gd = document.getElementById('f4f22c1a-3161-4a2d-891d-24fb5e382191');\n",
       "var x = new MutationObserver(function (mutations, observer) {{\n",
       "        var display = window.getComputedStyle(gd).display;\n",
       "        if (!display || display === 'none') {{\n",
       "            console.log([gd, 'removed!']);\n",
       "            Plotly.purge(gd);\n",
       "            observer.disconnect();\n",
       "        }}\n",
       "}});\n",
       "\n",
       "// Listen for the removal of the full notebook cells\n",
       "var notebookContainer = gd.closest('#notebook-container');\n",
       "if (notebookContainer) {{\n",
       "    x.observe(notebookContainer, {childList: true});\n",
       "}}\n",
       "\n",
       "// Listen for the clearing of the current output cell\n",
       "var outputEl = gd.closest('.output');\n",
       "if (outputEl) {{\n",
       "    x.observe(outputEl, {childList: true});\n",
       "}}\n",
       "\n",
       "                        })                };                });            </script>        </div>"
      ]
     },
     "metadata": {},
     "output_type": "display_data"
    }
   ],
   "source": [
    "#happiness score vs healthy life expectancy\n",
    "\n",
    "#establish x and y values\n",
    "x_values = merged_2019[\"Score\"]\n",
    "y_values = merged_2019[\"Healthy life expectancy\"]\n",
    "\n",
    "df = px.data.iris() # iris is a pandas DataFrame\n",
    "\n",
    "#px.scatter\n",
    "fig = px.scatter(merged_2019, x_values, y_values, color=\"Region\", hover_name=\"Country or region\",\n",
    "                range_x=[0,8], title=\"Happiness Score compared to Healthy Life Expectancy Score\",\n",
    "                width= 1000, height =600) # use trendline=\"ols\" to see all lin reg equations\n",
    "\n",
    "#set axes labels\n",
    "fig.update_xaxes(title_text='Happiness Score')\n",
    "fig.update_yaxes(title_text='Healthy Life Expectancy')\n",
    "\n",
    "\n",
    "#formatting\n",
    "#marker size and colors\n",
    "fig.update_traces(marker=dict(size=10,\n",
    "                              line=dict(width=1, \n",
    "                                        color='DarkSlateGrey')))\n",
    "\n",
    "\n",
    "#linear regression\n",
    "#use linregress from dependencies to inplement linear regression\n",
    "(slope, intercept, rvalue, pvalue, stderr) = linregress(x_values, y_values)\n",
    "regress_values = x_values * slope + intercept\n",
    "\n",
    "#print out all variables calculated above (rvalue, pvalue...)\n",
    "print(f\"slope:{round(slope, 2)}\")\n",
    "print(f\"intercept:{round(intercept,2)}\")\n",
    "res = sts.linregress(x_values, y_values)\n",
    "print(f\"R-squared: {res.rvalue**2:.4f}\")\n",
    "\n",
    "\n",
    "#print out line eq for reference\n",
    "line_eq = (f\"y={round(slope, 2)}x + {round(intercept, 2)}\")\n",
    "print(line_eq)\n",
    "\n",
    "fig.show()"
   ]
  },
  {
   "cell_type": "code",
   "execution_count": 25,
   "metadata": {},
   "outputs": [
    {
     "name": "stdout",
     "output_type": "stream",
     "text": [
      "slope:0.07\n",
      "intercept:0.01\n",
      "R-squared: 0.3115\n",
      "y=0.07x + 0.01\n"
     ]
    },
    {
     "data": {
      "application/vnd.plotly.v1+json": {
       "config": {
        "plotlyServerURL": "https://plot.ly"
       },
       "data": [
        {
         "hovertemplate": "<b>%{hovertext}</b><br><br>Region=Europe<br>Score=%{x}<br>Freedom to make life choices=%{y}<extra></extra>",
         "hovertext": [
          "Finland",
          "Denmark",
          "Norway",
          "Iceland",
          "Netherlands",
          "Switzerland",
          "Sweden",
          "Austria",
          "Luxembourg",
          "United Kingdom",
          "Ireland",
          "Germany",
          "Belgium",
          "Czech Republic",
          "Malta",
          "France",
          "Spain",
          "Italy",
          "Slovakia",
          "Poland",
          "Uzbekistan",
          "Lithuania",
          "Slovenia",
          "Kosovo",
          "Romania",
          "Cyprus",
          "Latvia",
          "Estonia",
          "Kazakhstan",
          "Hungary",
          "Portugal",
          "Russia",
          "Serbia",
          "Moldova",
          "Montenegro",
          "Tajikistan",
          "Croatia",
          "Bosnia and Herzegovina",
          "Belarus",
          "Greece",
          "Kyrgyzstan",
          "Turkmenistan",
          "Azerbaijan",
          "Bulgaria",
          "Albania",
          "Armenia",
          "Georgia",
          "Ukraine"
         ],
         "legendgroup": "Europe",
         "marker": {
          "color": "#636efa",
          "line": {
           "color": "DarkSlateGrey",
           "width": 1
          },
          "size": 10,
          "symbol": "circle"
         },
         "mode": "markers",
         "name": "Europe",
         "orientation": "v",
         "showlegend": true,
         "type": "scatter",
         "x": [
          7.769,
          7.6,
          7.553999999999999,
          7.494,
          7.4879999999999995,
          7.48,
          7.343,
          7.246,
          7.09,
          7.053999999999999,
          7.021,
          6.985,
          6.922999999999999,
          6.852,
          6.726,
          6.5920000000000005,
          6.354,
          6.223,
          6.1979999999999995,
          6.182,
          6.1739999999999995,
          6.149,
          6.117999999999999,
          6.1,
          6.07,
          6.046,
          5.94,
          5.893,
          5.809,
          5.757999999999999,
          5.693,
          5.648,
          5.603,
          5.529,
          5.523,
          5.4670000000000005,
          5.432,
          5.386,
          5.3229999999999995,
          5.287000000000001,
          5.261,
          5.247000000000001,
          5.207999999999999,
          5.011,
          4.718999999999999,
          4.559,
          4.519,
          4.332
         ],
         "xaxis": "x",
         "y": [
          0.596,
          0.5920000000000001,
          0.603,
          0.591,
          0.557,
          0.5720000000000001,
          0.574,
          0.532,
          0.526,
          0.45,
          0.516,
          0.495,
          0.473,
          0.457,
          0.564,
          0.436,
          0.36200000000000004,
          0.231,
          0.33399999999999996,
          0.483,
          0.631,
          0.29100000000000004,
          0.564,
          0.489,
          0.462,
          0.406,
          0.264,
          0.495,
          0.41,
          0.19899999999999998,
          0.508,
          0.33399999999999996,
          0.282,
          0.245,
          0.19699999999999998,
          0.389,
          0.29600000000000004,
          0.212,
          0.235,
          0.067,
          0.508,
          0.39399999999999996,
          0.35100000000000003,
          0.311,
          0.38299999999999995,
          0.28300000000000003,
          0.34600000000000003,
          0.17800000000000002
         ],
         "yaxis": "y"
        },
        {
         "hovertemplate": "<b>%{hovertext}</b><br><br>Region=Australia and New Zealand<br>Score=%{x}<br>Freedom to make life choices=%{y}<extra></extra>",
         "hovertext": [
          "New Zealand",
          "Australia"
         ],
         "legendgroup": "Australia and New Zealand",
         "marker": {
          "color": "#EF553B",
          "line": {
           "color": "DarkSlateGrey",
           "width": 1
          },
          "size": 10,
          "symbol": "circle"
         },
         "mode": "markers",
         "name": "Australia and New Zealand",
         "orientation": "v",
         "showlegend": true,
         "type": "scatter",
         "x": [
          7.307,
          7.228
         ],
         "xaxis": "x",
         "y": [
          0.585,
          0.557
         ],
         "yaxis": "y"
        },
        {
         "hovertemplate": "<b>%{hovertext}</b><br><br>Region=North America<br>Score=%{x}<br>Freedom to make life choices=%{y}<extra></extra>",
         "hovertext": [
          "Canada",
          "United States"
         ],
         "legendgroup": "North America",
         "marker": {
          "color": "#00cc96",
          "line": {
           "color": "DarkSlateGrey",
           "width": 1
          },
          "size": 10,
          "symbol": "circle"
         },
         "mode": "markers",
         "name": "North America",
         "orientation": "v",
         "showlegend": true,
         "type": "scatter",
         "x": [
          7.278,
          6.892
         ],
         "xaxis": "x",
         "y": [
          0.584,
          0.45399999999999996
         ],
         "yaxis": "y"
        },
        {
         "hovertemplate": "<b>%{hovertext}</b><br><br>Region=Latin America and Caribbean<br>Score=%{x}<br>Freedom to make life choices=%{y}<extra></extra>",
         "hovertext": [
          "Costa Rica",
          "Mexico",
          "Chile",
          "Guatemala",
          "Panama",
          "Brazil",
          "Uruguay",
          "El Salvador",
          "Colombia",
          "Nicaragua",
          "Argentina",
          "Ecuador",
          "Jamaica",
          "Honduras",
          "Bolivia",
          "Paraguay",
          "Peru",
          "Dominican Republic",
          "Venezuela",
          "Haiti"
         ],
         "legendgroup": "Latin America and Caribbean",
         "marker": {
          "color": "#ab63fa",
          "line": {
           "color": "DarkSlateGrey",
           "width": 1
          },
          "size": 10,
          "symbol": "circle"
         },
         "mode": "markers",
         "name": "Latin America and Caribbean",
         "orientation": "v",
         "showlegend": true,
         "type": "scatter",
         "x": [
          7.167000000000001,
          6.595,
          6.444,
          6.436,
          6.321000000000001,
          6.3,
          6.292999999999999,
          6.252999999999999,
          6.125,
          6.105,
          6.086,
          6.028,
          5.89,
          5.86,
          5.779,
          5.742999999999999,
          5.697,
          5.425,
          4.707,
          3.597
         ],
         "xaxis": "x",
         "y": [
          0.5579999999999999,
          0.433,
          0.35700000000000004,
          0.535,
          0.516,
          0.39,
          0.523,
          0.43,
          0.47,
          0.435,
          0.47100000000000003,
          0.498,
          0.49,
          0.507,
          0.511,
          0.514,
          0.455,
          0.49700000000000005,
          0.154,
          0.026000000000000002
         ],
         "yaxis": "y"
        },
        {
         "hovertemplate": "<b>%{hovertext}</b><br><br>Region=Middle East and Northern Africa<br>Score=%{x}<br>Freedom to make life choices=%{y}<extra></extra>",
         "hovertext": [
          "Israel",
          "United Arab Emirates",
          "Saudi Arabia",
          "Qatar",
          "Bahrain",
          "Kuwait",
          "Libya",
          "Turkey",
          "Algeria",
          "Morocco",
          "Lebanon",
          "Jordan",
          "Palestinian Territories",
          "Iran",
          "Tunisia",
          "Iraq",
          "Egypt",
          "Syria",
          "Yemen"
         ],
         "legendgroup": "Middle East and Northern Africa",
         "marker": {
          "color": "#FFA15A",
          "line": {
           "color": "DarkSlateGrey",
           "width": 1
          },
          "size": 10,
          "symbol": "circle"
         },
         "mode": "markers",
         "name": "Middle East and Northern Africa",
         "orientation": "v",
         "showlegend": true,
         "type": "scatter",
         "x": [
          7.138999999999999,
          6.825,
          6.375,
          6.374,
          6.199,
          6.021,
          5.525,
          5.372999999999999,
          5.211,
          5.207999999999999,
          5.197,
          4.906000000000001,
          4.696000000000001,
          4.548,
          4.461,
          4.437,
          4.166,
          3.4619999999999997,
          3.38
         ],
         "xaxis": "x",
         "y": [
          0.371,
          0.598,
          0.439,
          0.555,
          0.536,
          0.493,
          0.41600000000000004,
          0.195,
          0.086,
          0.418,
          0.21600000000000003,
          0.38299999999999995,
          0.225,
          0.305,
          0.16699999999999998,
          0.24100000000000002,
          0.24100000000000002,
          0.013000000000000001,
          0.14300000000000002
         ],
         "yaxis": "y"
        },
        {
         "hovertemplate": "<b>%{hovertext}</b><br><br>Region=Asia<br>Score=%{x}<br>Freedom to make life choices=%{y}<extra></extra>",
         "hovertext": [
          "Taiwan",
          "Singapore",
          "Thailand",
          "South Korea",
          "Japan",
          "Pakistan",
          "Philippines",
          "Hong Kong",
          "Malaysia",
          "Mongolia",
          "Indonesia",
          "China",
          "Vietnam",
          "Bhutan",
          "Nepal",
          "Laos",
          "Cambodia",
          "Bangladesh",
          "Sri Lanka",
          "Myanmar",
          "India",
          "Afghanistan"
         ],
         "legendgroup": "Asia",
         "marker": {
          "color": "#19d3f3",
          "line": {
           "color": "DarkSlateGrey",
           "width": 1
          },
          "size": 10,
          "symbol": "circle"
         },
         "mode": "markers",
         "name": "Asia",
         "orientation": "v",
         "showlegend": true,
         "type": "scatter",
         "x": [
          6.446000000000001,
          6.2620000000000005,
          6.007999999999999,
          5.895,
          5.886,
          5.653,
          5.631,
          5.43,
          5.3389999999999995,
          5.285,
          5.192,
          5.191,
          5.175,
          5.082,
          4.913,
          4.796,
          4.7,
          4.456,
          4.3660000000000005,
          4.36,
          4.015,
          3.2030000000000003
         ],
         "xaxis": "x",
         "y": [
          0.35100000000000003,
          0.556,
          0.557,
          0.159,
          0.445,
          0.313,
          0.5579999999999999,
          0.44,
          0.508,
          0.317,
          0.491,
          0.521,
          0.5429999999999999,
          0.457,
          0.439,
          0.547,
          0.609,
          0.527,
          0.47,
          0.525,
          0.498,
          0
         ],
         "yaxis": "y"
        },
        {
         "hovertemplate": "<b>%{hovertext}</b><br><br>Region=Sub-Saharan Africa<br>Score=%{x}<br>Freedom to make life choices=%{y}<extra></extra>",
         "hovertext": [
          "Mauritius",
          "Nigeria",
          "Cameroon",
          "Ghana",
          "Ivory Coast",
          "Benin",
          "Congo (Brazzaville)",
          "Gabon",
          "South Africa",
          "Senegal",
          "Niger",
          "Burkina Faso",
          "Guinea",
          "Kenya",
          "Mauritania",
          "Mozambique",
          "Congo (Kinshasa)",
          "Mali",
          "Sierra Leone",
          "Chad",
          "Ethiopia",
          "Swaziland",
          "Uganda",
          "Zambia",
          "Togo",
          "Liberia",
          "Comoros",
          "Madagascar",
          "Lesotho",
          "Burundi",
          "Zimbabwe",
          "Botswana",
          "Malawi",
          "Rwanda",
          "Tanzania",
          "Central African Republic"
         ],
         "legendgroup": "Sub-Saharan Africa",
         "marker": {
          "color": "#FF6692",
          "line": {
           "color": "DarkSlateGrey",
           "width": 1
          },
          "size": 10,
          "symbol": "circle"
         },
         "mode": "markers",
         "name": "Sub-Saharan Africa",
         "orientation": "v",
         "showlegend": true,
         "type": "scatter",
         "x": [
          5.888,
          5.265,
          5.044,
          4.996,
          4.944,
          4.883,
          4.812,
          4.7989999999999995,
          4.7219999999999995,
          4.681,
          4.628,
          4.587,
          4.534,
          4.5089999999999995,
          4.49,
          4.466,
          4.418,
          4.39,
          4.374,
          4.35,
          4.2860000000000005,
          4.212,
          4.189,
          4.107,
          4.085,
          3.975,
          3.9730000000000003,
          3.9330000000000003,
          3.802,
          3.775,
          3.6630000000000003,
          3.488,
          3.41,
          3.3339999999999996,
          3.2310000000000003,
          3.083
         ],
         "xaxis": "x",
         "y": [
          0.498,
          0.426,
          0.381,
          0.381,
          0.35200000000000004,
          0.349,
          0.37200000000000005,
          0.295,
          0.389,
          0.292,
          0.318,
          0.255,
          0.332,
          0.431,
          0.066,
          0.494,
          0.26899999999999996,
          0.327,
          0.309,
          0.174,
          0.344,
          0.313,
          0.35600000000000004,
          0.431,
          0.293,
          0.37,
          0.142,
          0.14800000000000002,
          0.359,
          0.22,
          0.361,
          0.455,
          0.44299999999999995,
          0.555,
          0.41700000000000004,
          0.225
         ],
         "yaxis": "y"
        }
       ],
       "layout": {
        "height": 600,
        "legend": {
         "title": {
          "text": "Region"
         },
         "tracegroupgap": 0
        },
        "template": {
         "data": {
          "bar": [
           {
            "error_x": {
             "color": "#2a3f5f"
            },
            "error_y": {
             "color": "#2a3f5f"
            },
            "marker": {
             "line": {
              "color": "#E5ECF6",
              "width": 0.5
             }
            },
            "type": "bar"
           }
          ],
          "barpolar": [
           {
            "marker": {
             "line": {
              "color": "#E5ECF6",
              "width": 0.5
             }
            },
            "type": "barpolar"
           }
          ],
          "carpet": [
           {
            "aaxis": {
             "endlinecolor": "#2a3f5f",
             "gridcolor": "white",
             "linecolor": "white",
             "minorgridcolor": "white",
             "startlinecolor": "#2a3f5f"
            },
            "baxis": {
             "endlinecolor": "#2a3f5f",
             "gridcolor": "white",
             "linecolor": "white",
             "minorgridcolor": "white",
             "startlinecolor": "#2a3f5f"
            },
            "type": "carpet"
           }
          ],
          "choropleth": [
           {
            "colorbar": {
             "outlinewidth": 0,
             "ticks": ""
            },
            "type": "choropleth"
           }
          ],
          "contour": [
           {
            "colorbar": {
             "outlinewidth": 0,
             "ticks": ""
            },
            "colorscale": [
             [
              0,
              "#0d0887"
             ],
             [
              0.1111111111111111,
              "#46039f"
             ],
             [
              0.2222222222222222,
              "#7201a8"
             ],
             [
              0.3333333333333333,
              "#9c179e"
             ],
             [
              0.4444444444444444,
              "#bd3786"
             ],
             [
              0.5555555555555556,
              "#d8576b"
             ],
             [
              0.6666666666666666,
              "#ed7953"
             ],
             [
              0.7777777777777778,
              "#fb9f3a"
             ],
             [
              0.8888888888888888,
              "#fdca26"
             ],
             [
              1,
              "#f0f921"
             ]
            ],
            "type": "contour"
           }
          ],
          "contourcarpet": [
           {
            "colorbar": {
             "outlinewidth": 0,
             "ticks": ""
            },
            "type": "contourcarpet"
           }
          ],
          "heatmap": [
           {
            "colorbar": {
             "outlinewidth": 0,
             "ticks": ""
            },
            "colorscale": [
             [
              0,
              "#0d0887"
             ],
             [
              0.1111111111111111,
              "#46039f"
             ],
             [
              0.2222222222222222,
              "#7201a8"
             ],
             [
              0.3333333333333333,
              "#9c179e"
             ],
             [
              0.4444444444444444,
              "#bd3786"
             ],
             [
              0.5555555555555556,
              "#d8576b"
             ],
             [
              0.6666666666666666,
              "#ed7953"
             ],
             [
              0.7777777777777778,
              "#fb9f3a"
             ],
             [
              0.8888888888888888,
              "#fdca26"
             ],
             [
              1,
              "#f0f921"
             ]
            ],
            "type": "heatmap"
           }
          ],
          "heatmapgl": [
           {
            "colorbar": {
             "outlinewidth": 0,
             "ticks": ""
            },
            "colorscale": [
             [
              0,
              "#0d0887"
             ],
             [
              0.1111111111111111,
              "#46039f"
             ],
             [
              0.2222222222222222,
              "#7201a8"
             ],
             [
              0.3333333333333333,
              "#9c179e"
             ],
             [
              0.4444444444444444,
              "#bd3786"
             ],
             [
              0.5555555555555556,
              "#d8576b"
             ],
             [
              0.6666666666666666,
              "#ed7953"
             ],
             [
              0.7777777777777778,
              "#fb9f3a"
             ],
             [
              0.8888888888888888,
              "#fdca26"
             ],
             [
              1,
              "#f0f921"
             ]
            ],
            "type": "heatmapgl"
           }
          ],
          "histogram": [
           {
            "marker": {
             "colorbar": {
              "outlinewidth": 0,
              "ticks": ""
             }
            },
            "type": "histogram"
           }
          ],
          "histogram2d": [
           {
            "colorbar": {
             "outlinewidth": 0,
             "ticks": ""
            },
            "colorscale": [
             [
              0,
              "#0d0887"
             ],
             [
              0.1111111111111111,
              "#46039f"
             ],
             [
              0.2222222222222222,
              "#7201a8"
             ],
             [
              0.3333333333333333,
              "#9c179e"
             ],
             [
              0.4444444444444444,
              "#bd3786"
             ],
             [
              0.5555555555555556,
              "#d8576b"
             ],
             [
              0.6666666666666666,
              "#ed7953"
             ],
             [
              0.7777777777777778,
              "#fb9f3a"
             ],
             [
              0.8888888888888888,
              "#fdca26"
             ],
             [
              1,
              "#f0f921"
             ]
            ],
            "type": "histogram2d"
           }
          ],
          "histogram2dcontour": [
           {
            "colorbar": {
             "outlinewidth": 0,
             "ticks": ""
            },
            "colorscale": [
             [
              0,
              "#0d0887"
             ],
             [
              0.1111111111111111,
              "#46039f"
             ],
             [
              0.2222222222222222,
              "#7201a8"
             ],
             [
              0.3333333333333333,
              "#9c179e"
             ],
             [
              0.4444444444444444,
              "#bd3786"
             ],
             [
              0.5555555555555556,
              "#d8576b"
             ],
             [
              0.6666666666666666,
              "#ed7953"
             ],
             [
              0.7777777777777778,
              "#fb9f3a"
             ],
             [
              0.8888888888888888,
              "#fdca26"
             ],
             [
              1,
              "#f0f921"
             ]
            ],
            "type": "histogram2dcontour"
           }
          ],
          "mesh3d": [
           {
            "colorbar": {
             "outlinewidth": 0,
             "ticks": ""
            },
            "type": "mesh3d"
           }
          ],
          "parcoords": [
           {
            "line": {
             "colorbar": {
              "outlinewidth": 0,
              "ticks": ""
             }
            },
            "type": "parcoords"
           }
          ],
          "pie": [
           {
            "automargin": true,
            "type": "pie"
           }
          ],
          "scatter": [
           {
            "marker": {
             "colorbar": {
              "outlinewidth": 0,
              "ticks": ""
             }
            },
            "type": "scatter"
           }
          ],
          "scatter3d": [
           {
            "line": {
             "colorbar": {
              "outlinewidth": 0,
              "ticks": ""
             }
            },
            "marker": {
             "colorbar": {
              "outlinewidth": 0,
              "ticks": ""
             }
            },
            "type": "scatter3d"
           }
          ],
          "scattercarpet": [
           {
            "marker": {
             "colorbar": {
              "outlinewidth": 0,
              "ticks": ""
             }
            },
            "type": "scattercarpet"
           }
          ],
          "scattergeo": [
           {
            "marker": {
             "colorbar": {
              "outlinewidth": 0,
              "ticks": ""
             }
            },
            "type": "scattergeo"
           }
          ],
          "scattergl": [
           {
            "marker": {
             "colorbar": {
              "outlinewidth": 0,
              "ticks": ""
             }
            },
            "type": "scattergl"
           }
          ],
          "scattermapbox": [
           {
            "marker": {
             "colorbar": {
              "outlinewidth": 0,
              "ticks": ""
             }
            },
            "type": "scattermapbox"
           }
          ],
          "scatterpolar": [
           {
            "marker": {
             "colorbar": {
              "outlinewidth": 0,
              "ticks": ""
             }
            },
            "type": "scatterpolar"
           }
          ],
          "scatterpolargl": [
           {
            "marker": {
             "colorbar": {
              "outlinewidth": 0,
              "ticks": ""
             }
            },
            "type": "scatterpolargl"
           }
          ],
          "scatterternary": [
           {
            "marker": {
             "colorbar": {
              "outlinewidth": 0,
              "ticks": ""
             }
            },
            "type": "scatterternary"
           }
          ],
          "surface": [
           {
            "colorbar": {
             "outlinewidth": 0,
             "ticks": ""
            },
            "colorscale": [
             [
              0,
              "#0d0887"
             ],
             [
              0.1111111111111111,
              "#46039f"
             ],
             [
              0.2222222222222222,
              "#7201a8"
             ],
             [
              0.3333333333333333,
              "#9c179e"
             ],
             [
              0.4444444444444444,
              "#bd3786"
             ],
             [
              0.5555555555555556,
              "#d8576b"
             ],
             [
              0.6666666666666666,
              "#ed7953"
             ],
             [
              0.7777777777777778,
              "#fb9f3a"
             ],
             [
              0.8888888888888888,
              "#fdca26"
             ],
             [
              1,
              "#f0f921"
             ]
            ],
            "type": "surface"
           }
          ],
          "table": [
           {
            "cells": {
             "fill": {
              "color": "#EBF0F8"
             },
             "line": {
              "color": "white"
             }
            },
            "header": {
             "fill": {
              "color": "#C8D4E3"
             },
             "line": {
              "color": "white"
             }
            },
            "type": "table"
           }
          ]
         },
         "layout": {
          "annotationdefaults": {
           "arrowcolor": "#2a3f5f",
           "arrowhead": 0,
           "arrowwidth": 1
          },
          "autotypenumbers": "strict",
          "coloraxis": {
           "colorbar": {
            "outlinewidth": 0,
            "ticks": ""
           }
          },
          "colorscale": {
           "diverging": [
            [
             0,
             "#8e0152"
            ],
            [
             0.1,
             "#c51b7d"
            ],
            [
             0.2,
             "#de77ae"
            ],
            [
             0.3,
             "#f1b6da"
            ],
            [
             0.4,
             "#fde0ef"
            ],
            [
             0.5,
             "#f7f7f7"
            ],
            [
             0.6,
             "#e6f5d0"
            ],
            [
             0.7,
             "#b8e186"
            ],
            [
             0.8,
             "#7fbc41"
            ],
            [
             0.9,
             "#4d9221"
            ],
            [
             1,
             "#276419"
            ]
           ],
           "sequential": [
            [
             0,
             "#0d0887"
            ],
            [
             0.1111111111111111,
             "#46039f"
            ],
            [
             0.2222222222222222,
             "#7201a8"
            ],
            [
             0.3333333333333333,
             "#9c179e"
            ],
            [
             0.4444444444444444,
             "#bd3786"
            ],
            [
             0.5555555555555556,
             "#d8576b"
            ],
            [
             0.6666666666666666,
             "#ed7953"
            ],
            [
             0.7777777777777778,
             "#fb9f3a"
            ],
            [
             0.8888888888888888,
             "#fdca26"
            ],
            [
             1,
             "#f0f921"
            ]
           ],
           "sequentialminus": [
            [
             0,
             "#0d0887"
            ],
            [
             0.1111111111111111,
             "#46039f"
            ],
            [
             0.2222222222222222,
             "#7201a8"
            ],
            [
             0.3333333333333333,
             "#9c179e"
            ],
            [
             0.4444444444444444,
             "#bd3786"
            ],
            [
             0.5555555555555556,
             "#d8576b"
            ],
            [
             0.6666666666666666,
             "#ed7953"
            ],
            [
             0.7777777777777778,
             "#fb9f3a"
            ],
            [
             0.8888888888888888,
             "#fdca26"
            ],
            [
             1,
             "#f0f921"
            ]
           ]
          },
          "colorway": [
           "#636efa",
           "#EF553B",
           "#00cc96",
           "#ab63fa",
           "#FFA15A",
           "#19d3f3",
           "#FF6692",
           "#B6E880",
           "#FF97FF",
           "#FECB52"
          ],
          "font": {
           "color": "#2a3f5f"
          },
          "geo": {
           "bgcolor": "white",
           "lakecolor": "white",
           "landcolor": "#E5ECF6",
           "showlakes": true,
           "showland": true,
           "subunitcolor": "white"
          },
          "hoverlabel": {
           "align": "left"
          },
          "hovermode": "closest",
          "mapbox": {
           "style": "light"
          },
          "paper_bgcolor": "white",
          "plot_bgcolor": "#E5ECF6",
          "polar": {
           "angularaxis": {
            "gridcolor": "white",
            "linecolor": "white",
            "ticks": ""
           },
           "bgcolor": "#E5ECF6",
           "radialaxis": {
            "gridcolor": "white",
            "linecolor": "white",
            "ticks": ""
           }
          },
          "scene": {
           "xaxis": {
            "backgroundcolor": "#E5ECF6",
            "gridcolor": "white",
            "gridwidth": 2,
            "linecolor": "white",
            "showbackground": true,
            "ticks": "",
            "zerolinecolor": "white"
           },
           "yaxis": {
            "backgroundcolor": "#E5ECF6",
            "gridcolor": "white",
            "gridwidth": 2,
            "linecolor": "white",
            "showbackground": true,
            "ticks": "",
            "zerolinecolor": "white"
           },
           "zaxis": {
            "backgroundcolor": "#E5ECF6",
            "gridcolor": "white",
            "gridwidth": 2,
            "linecolor": "white",
            "showbackground": true,
            "ticks": "",
            "zerolinecolor": "white"
           }
          },
          "shapedefaults": {
           "line": {
            "color": "#2a3f5f"
           }
          },
          "ternary": {
           "aaxis": {
            "gridcolor": "white",
            "linecolor": "white",
            "ticks": ""
           },
           "baxis": {
            "gridcolor": "white",
            "linecolor": "white",
            "ticks": ""
           },
           "bgcolor": "#E5ECF6",
           "caxis": {
            "gridcolor": "white",
            "linecolor": "white",
            "ticks": ""
           }
          },
          "title": {
           "x": 0.05
          },
          "xaxis": {
           "automargin": true,
           "gridcolor": "white",
           "linecolor": "white",
           "ticks": "",
           "title": {
            "standoff": 15
           },
           "zerolinecolor": "white",
           "zerolinewidth": 2
          },
          "yaxis": {
           "automargin": true,
           "gridcolor": "white",
           "linecolor": "white",
           "ticks": "",
           "title": {
            "standoff": 15
           },
           "zerolinecolor": "white",
           "zerolinewidth": 2
          }
         }
        },
        "title": {
         "text": "Happiness Score compared to Freedom to Make Life Choices Score"
        },
        "width": 1000,
        "xaxis": {
         "anchor": "y",
         "domain": [
          0,
          1
         ],
         "range": [
          0,
          8
         ],
         "title": {
          "text": "Happiness Score"
         }
        },
        "yaxis": {
         "anchor": "x",
         "domain": [
          0,
          1
         ],
         "title": {
          "text": "Freedom to Make Life Choices Score"
         }
        }
       }
      },
      "text/html": [
       "<div>                            <div id=\"33cef73d-e8c7-4c14-bb86-6fe77065424e\" class=\"plotly-graph-div\" style=\"height:600px; width:1000px;\"></div>            <script type=\"text/javascript\">                require([\"plotly\"], function(Plotly) {                    window.PLOTLYENV=window.PLOTLYENV || {};                                    if (document.getElementById(\"33cef73d-e8c7-4c14-bb86-6fe77065424e\")) {                    Plotly.newPlot(                        \"33cef73d-e8c7-4c14-bb86-6fe77065424e\",                        [{\"hovertemplate\": \"<b>%{hovertext}</b><br><br>Region=Europe<br>Score=%{x}<br>Freedom to make life choices=%{y}<extra></extra>\", \"hovertext\": [\"Finland\", \"Denmark\", \"Norway\", \"Iceland\", \"Netherlands\", \"Switzerland\", \"Sweden\", \"Austria\", \"Luxembourg\", \"United Kingdom\", \"Ireland\", \"Germany\", \"Belgium\", \"Czech Republic\", \"Malta\", \"France\", \"Spain\", \"Italy\", \"Slovakia\", \"Poland\", \"Uzbekistan\", \"Lithuania\", \"Slovenia\", \"Kosovo\", \"Romania\", \"Cyprus\", \"Latvia\", \"Estonia\", \"Kazakhstan\", \"Hungary\", \"Portugal\", \"Russia\", \"Serbia\", \"Moldova\", \"Montenegro\", \"Tajikistan\", \"Croatia\", \"Bosnia and Herzegovina\", \"Belarus\", \"Greece\", \"Kyrgyzstan\", \"Turkmenistan\", \"Azerbaijan\", \"Bulgaria\", \"Albania\", \"Armenia\", \"Georgia\", \"Ukraine\"], \"legendgroup\": \"Europe\", \"marker\": {\"color\": \"#636efa\", \"line\": {\"color\": \"DarkSlateGrey\", \"width\": 1}, \"size\": 10, \"symbol\": \"circle\"}, \"mode\": \"markers\", \"name\": \"Europe\", \"orientation\": \"v\", \"showlegend\": true, \"type\": \"scatter\", \"x\": [7.769, 7.6, 7.553999999999999, 7.494, 7.4879999999999995, 7.48, 7.343, 7.246, 7.09, 7.053999999999999, 7.021, 6.985, 6.922999999999999, 6.852, 6.726, 6.5920000000000005, 6.354, 6.223, 6.1979999999999995, 6.182, 6.1739999999999995, 6.149, 6.117999999999999, 6.1, 6.07, 6.046, 5.94, 5.893, 5.809, 5.757999999999999, 5.693, 5.648, 5.603, 5.529, 5.523, 5.4670000000000005, 5.432, 5.386, 5.3229999999999995, 5.287000000000001, 5.261, 5.247000000000001, 5.207999999999999, 5.011, 4.718999999999999, 4.559, 4.519, 4.332], \"xaxis\": \"x\", \"y\": [0.596, 0.5920000000000001, 0.603, 0.591, 0.557, 0.5720000000000001, 0.574, 0.532, 0.526, 0.45, 0.516, 0.495, 0.473, 0.457, 0.564, 0.436, 0.36200000000000004, 0.231, 0.33399999999999996, 0.483, 0.631, 0.29100000000000004, 0.564, 0.489, 0.462, 0.406, 0.264, 0.495, 0.41, 0.19899999999999998, 0.508, 0.33399999999999996, 0.282, 0.245, 0.19699999999999998, 0.389, 0.29600000000000004, 0.212, 0.235, 0.067, 0.508, 0.39399999999999996, 0.35100000000000003, 0.311, 0.38299999999999995, 0.28300000000000003, 0.34600000000000003, 0.17800000000000002], \"yaxis\": \"y\"}, {\"hovertemplate\": \"<b>%{hovertext}</b><br><br>Region=Australia and New Zealand<br>Score=%{x}<br>Freedom to make life choices=%{y}<extra></extra>\", \"hovertext\": [\"New Zealand\", \"Australia\"], \"legendgroup\": \"Australia and New Zealand\", \"marker\": {\"color\": \"#EF553B\", \"line\": {\"color\": \"DarkSlateGrey\", \"width\": 1}, \"size\": 10, \"symbol\": \"circle\"}, \"mode\": \"markers\", \"name\": \"Australia and New Zealand\", \"orientation\": \"v\", \"showlegend\": true, \"type\": \"scatter\", \"x\": [7.307, 7.228], \"xaxis\": \"x\", \"y\": [0.585, 0.557], \"yaxis\": \"y\"}, {\"hovertemplate\": \"<b>%{hovertext}</b><br><br>Region=North America<br>Score=%{x}<br>Freedom to make life choices=%{y}<extra></extra>\", \"hovertext\": [\"Canada\", \"United States\"], \"legendgroup\": \"North America\", \"marker\": {\"color\": \"#00cc96\", \"line\": {\"color\": \"DarkSlateGrey\", \"width\": 1}, \"size\": 10, \"symbol\": \"circle\"}, \"mode\": \"markers\", \"name\": \"North America\", \"orientation\": \"v\", \"showlegend\": true, \"type\": \"scatter\", \"x\": [7.278, 6.892], \"xaxis\": \"x\", \"y\": [0.584, 0.45399999999999996], \"yaxis\": \"y\"}, {\"hovertemplate\": \"<b>%{hovertext}</b><br><br>Region=Latin America and Caribbean<br>Score=%{x}<br>Freedom to make life choices=%{y}<extra></extra>\", \"hovertext\": [\"Costa Rica\", \"Mexico\", \"Chile\", \"Guatemala\", \"Panama\", \"Brazil\", \"Uruguay\", \"El Salvador\", \"Colombia\", \"Nicaragua\", \"Argentina\", \"Ecuador\", \"Jamaica\", \"Honduras\", \"Bolivia\", \"Paraguay\", \"Peru\", \"Dominican Republic\", \"Venezuela\", \"Haiti\"], \"legendgroup\": \"Latin America and Caribbean\", \"marker\": {\"color\": \"#ab63fa\", \"line\": {\"color\": \"DarkSlateGrey\", \"width\": 1}, \"size\": 10, \"symbol\": \"circle\"}, \"mode\": \"markers\", \"name\": \"Latin America and Caribbean\", \"orientation\": \"v\", \"showlegend\": true, \"type\": \"scatter\", \"x\": [7.167000000000001, 6.595, 6.444, 6.436, 6.321000000000001, 6.3, 6.292999999999999, 6.252999999999999, 6.125, 6.105, 6.086, 6.028, 5.89, 5.86, 5.779, 5.742999999999999, 5.697, 5.425, 4.707, 3.597], \"xaxis\": \"x\", \"y\": [0.5579999999999999, 0.433, 0.35700000000000004, 0.535, 0.516, 0.39, 0.523, 0.43, 0.47, 0.435, 0.47100000000000003, 0.498, 0.49, 0.507, 0.511, 0.514, 0.455, 0.49700000000000005, 0.154, 0.026000000000000002], \"yaxis\": \"y\"}, {\"hovertemplate\": \"<b>%{hovertext}</b><br><br>Region=Middle East and Northern Africa<br>Score=%{x}<br>Freedom to make life choices=%{y}<extra></extra>\", \"hovertext\": [\"Israel\", \"United Arab Emirates\", \"Saudi Arabia\", \"Qatar\", \"Bahrain\", \"Kuwait\", \"Libya\", \"Turkey\", \"Algeria\", \"Morocco\", \"Lebanon\", \"Jordan\", \"Palestinian Territories\", \"Iran\", \"Tunisia\", \"Iraq\", \"Egypt\", \"Syria\", \"Yemen\"], \"legendgroup\": \"Middle East and Northern Africa\", \"marker\": {\"color\": \"#FFA15A\", \"line\": {\"color\": \"DarkSlateGrey\", \"width\": 1}, \"size\": 10, \"symbol\": \"circle\"}, \"mode\": \"markers\", \"name\": \"Middle East and Northern Africa\", \"orientation\": \"v\", \"showlegend\": true, \"type\": \"scatter\", \"x\": [7.138999999999999, 6.825, 6.375, 6.374, 6.199, 6.021, 5.525, 5.372999999999999, 5.211, 5.207999999999999, 5.197, 4.906000000000001, 4.696000000000001, 4.548, 4.461, 4.437, 4.166, 3.4619999999999997, 3.38], \"xaxis\": \"x\", \"y\": [0.371, 0.598, 0.439, 0.555, 0.536, 0.493, 0.41600000000000004, 0.195, 0.086, 0.418, 0.21600000000000003, 0.38299999999999995, 0.225, 0.305, 0.16699999999999998, 0.24100000000000002, 0.24100000000000002, 0.013000000000000001, 0.14300000000000002], \"yaxis\": \"y\"}, {\"hovertemplate\": \"<b>%{hovertext}</b><br><br>Region=Asia<br>Score=%{x}<br>Freedom to make life choices=%{y}<extra></extra>\", \"hovertext\": [\"Taiwan\", \"Singapore\", \"Thailand\", \"South Korea\", \"Japan\", \"Pakistan\", \"Philippines\", \"Hong Kong\", \"Malaysia\", \"Mongolia\", \"Indonesia\", \"China\", \"Vietnam\", \"Bhutan\", \"Nepal\", \"Laos\", \"Cambodia\", \"Bangladesh\", \"Sri Lanka\", \"Myanmar\", \"India\", \"Afghanistan\"], \"legendgroup\": \"Asia\", \"marker\": {\"color\": \"#19d3f3\", \"line\": {\"color\": \"DarkSlateGrey\", \"width\": 1}, \"size\": 10, \"symbol\": \"circle\"}, \"mode\": \"markers\", \"name\": \"Asia\", \"orientation\": \"v\", \"showlegend\": true, \"type\": \"scatter\", \"x\": [6.446000000000001, 6.2620000000000005, 6.007999999999999, 5.895, 5.886, 5.653, 5.631, 5.43, 5.3389999999999995, 5.285, 5.192, 5.191, 5.175, 5.082, 4.913, 4.796, 4.7, 4.456, 4.3660000000000005, 4.36, 4.015, 3.2030000000000003], \"xaxis\": \"x\", \"y\": [0.35100000000000003, 0.556, 0.557, 0.159, 0.445, 0.313, 0.5579999999999999, 0.44, 0.508, 0.317, 0.491, 0.521, 0.5429999999999999, 0.457, 0.439, 0.547, 0.609, 0.527, 0.47, 0.525, 0.498, 0.0], \"yaxis\": \"y\"}, {\"hovertemplate\": \"<b>%{hovertext}</b><br><br>Region=Sub-Saharan Africa<br>Score=%{x}<br>Freedom to make life choices=%{y}<extra></extra>\", \"hovertext\": [\"Mauritius\", \"Nigeria\", \"Cameroon\", \"Ghana\", \"Ivory Coast\", \"Benin\", \"Congo (Brazzaville)\", \"Gabon\", \"South Africa\", \"Senegal\", \"Niger\", \"Burkina Faso\", \"Guinea\", \"Kenya\", \"Mauritania\", \"Mozambique\", \"Congo (Kinshasa)\", \"Mali\", \"Sierra Leone\", \"Chad\", \"Ethiopia\", \"Swaziland\", \"Uganda\", \"Zambia\", \"Togo\", \"Liberia\", \"Comoros\", \"Madagascar\", \"Lesotho\", \"Burundi\", \"Zimbabwe\", \"Botswana\", \"Malawi\", \"Rwanda\", \"Tanzania\", \"Central African Republic\"], \"legendgroup\": \"Sub-Saharan Africa\", \"marker\": {\"color\": \"#FF6692\", \"line\": {\"color\": \"DarkSlateGrey\", \"width\": 1}, \"size\": 10, \"symbol\": \"circle\"}, \"mode\": \"markers\", \"name\": \"Sub-Saharan Africa\", \"orientation\": \"v\", \"showlegend\": true, \"type\": \"scatter\", \"x\": [5.888, 5.265, 5.044, 4.996, 4.944, 4.883, 4.812, 4.7989999999999995, 4.7219999999999995, 4.681, 4.628, 4.587, 4.534, 4.5089999999999995, 4.49, 4.466, 4.418, 4.39, 4.374, 4.35, 4.2860000000000005, 4.212, 4.189, 4.107, 4.085, 3.975, 3.9730000000000003, 3.9330000000000003, 3.802, 3.775, 3.6630000000000003, 3.488, 3.41, 3.3339999999999996, 3.2310000000000003, 3.083], \"xaxis\": \"x\", \"y\": [0.498, 0.426, 0.381, 0.381, 0.35200000000000004, 0.349, 0.37200000000000005, 0.295, 0.389, 0.292, 0.318, 0.255, 0.332, 0.431, 0.066, 0.494, 0.26899999999999996, 0.327, 0.309, 0.174, 0.344, 0.313, 0.35600000000000004, 0.431, 0.293, 0.37, 0.142, 0.14800000000000002, 0.359, 0.22, 0.361, 0.455, 0.44299999999999995, 0.555, 0.41700000000000004, 0.225], \"yaxis\": \"y\"}],                        {\"height\": 600, \"legend\": {\"title\": {\"text\": \"Region\"}, \"tracegroupgap\": 0}, \"template\": {\"data\": {\"bar\": [{\"error_x\": {\"color\": \"#2a3f5f\"}, \"error_y\": {\"color\": \"#2a3f5f\"}, \"marker\": {\"line\": {\"color\": \"#E5ECF6\", \"width\": 0.5}}, \"type\": \"bar\"}], \"barpolar\": [{\"marker\": {\"line\": {\"color\": \"#E5ECF6\", \"width\": 0.5}}, \"type\": \"barpolar\"}], \"carpet\": [{\"aaxis\": {\"endlinecolor\": \"#2a3f5f\", \"gridcolor\": \"white\", \"linecolor\": \"white\", \"minorgridcolor\": \"white\", \"startlinecolor\": \"#2a3f5f\"}, \"baxis\": {\"endlinecolor\": \"#2a3f5f\", \"gridcolor\": \"white\", \"linecolor\": \"white\", \"minorgridcolor\": \"white\", \"startlinecolor\": \"#2a3f5f\"}, \"type\": \"carpet\"}], \"choropleth\": [{\"colorbar\": {\"outlinewidth\": 0, \"ticks\": \"\"}, \"type\": \"choropleth\"}], \"contour\": [{\"colorbar\": {\"outlinewidth\": 0, \"ticks\": \"\"}, \"colorscale\": [[0.0, \"#0d0887\"], [0.1111111111111111, \"#46039f\"], [0.2222222222222222, \"#7201a8\"], [0.3333333333333333, \"#9c179e\"], [0.4444444444444444, \"#bd3786\"], [0.5555555555555556, \"#d8576b\"], [0.6666666666666666, \"#ed7953\"], [0.7777777777777778, \"#fb9f3a\"], [0.8888888888888888, \"#fdca26\"], [1.0, \"#f0f921\"]], \"type\": \"contour\"}], \"contourcarpet\": [{\"colorbar\": {\"outlinewidth\": 0, \"ticks\": \"\"}, \"type\": \"contourcarpet\"}], \"heatmap\": [{\"colorbar\": {\"outlinewidth\": 0, \"ticks\": \"\"}, \"colorscale\": [[0.0, \"#0d0887\"], [0.1111111111111111, \"#46039f\"], [0.2222222222222222, \"#7201a8\"], [0.3333333333333333, \"#9c179e\"], [0.4444444444444444, \"#bd3786\"], [0.5555555555555556, \"#d8576b\"], [0.6666666666666666, \"#ed7953\"], [0.7777777777777778, \"#fb9f3a\"], [0.8888888888888888, \"#fdca26\"], [1.0, \"#f0f921\"]], \"type\": \"heatmap\"}], \"heatmapgl\": [{\"colorbar\": {\"outlinewidth\": 0, \"ticks\": \"\"}, \"colorscale\": [[0.0, \"#0d0887\"], [0.1111111111111111, \"#46039f\"], [0.2222222222222222, \"#7201a8\"], [0.3333333333333333, \"#9c179e\"], [0.4444444444444444, \"#bd3786\"], [0.5555555555555556, \"#d8576b\"], [0.6666666666666666, \"#ed7953\"], [0.7777777777777778, \"#fb9f3a\"], [0.8888888888888888, \"#fdca26\"], [1.0, \"#f0f921\"]], \"type\": \"heatmapgl\"}], \"histogram\": [{\"marker\": {\"colorbar\": {\"outlinewidth\": 0, \"ticks\": \"\"}}, \"type\": \"histogram\"}], \"histogram2d\": [{\"colorbar\": {\"outlinewidth\": 0, \"ticks\": \"\"}, \"colorscale\": [[0.0, \"#0d0887\"], [0.1111111111111111, \"#46039f\"], [0.2222222222222222, \"#7201a8\"], [0.3333333333333333, \"#9c179e\"], [0.4444444444444444, \"#bd3786\"], [0.5555555555555556, \"#d8576b\"], [0.6666666666666666, \"#ed7953\"], [0.7777777777777778, \"#fb9f3a\"], [0.8888888888888888, \"#fdca26\"], [1.0, \"#f0f921\"]], \"type\": \"histogram2d\"}], \"histogram2dcontour\": [{\"colorbar\": {\"outlinewidth\": 0, \"ticks\": \"\"}, \"colorscale\": [[0.0, \"#0d0887\"], [0.1111111111111111, \"#46039f\"], [0.2222222222222222, \"#7201a8\"], [0.3333333333333333, \"#9c179e\"], [0.4444444444444444, \"#bd3786\"], [0.5555555555555556, \"#d8576b\"], [0.6666666666666666, \"#ed7953\"], [0.7777777777777778, \"#fb9f3a\"], [0.8888888888888888, \"#fdca26\"], [1.0, \"#f0f921\"]], \"type\": \"histogram2dcontour\"}], \"mesh3d\": [{\"colorbar\": {\"outlinewidth\": 0, \"ticks\": \"\"}, \"type\": \"mesh3d\"}], \"parcoords\": [{\"line\": {\"colorbar\": {\"outlinewidth\": 0, \"ticks\": \"\"}}, \"type\": \"parcoords\"}], \"pie\": [{\"automargin\": true, \"type\": \"pie\"}], \"scatter\": [{\"marker\": {\"colorbar\": {\"outlinewidth\": 0, \"ticks\": \"\"}}, \"type\": \"scatter\"}], \"scatter3d\": [{\"line\": {\"colorbar\": {\"outlinewidth\": 0, \"ticks\": \"\"}}, \"marker\": {\"colorbar\": {\"outlinewidth\": 0, \"ticks\": \"\"}}, \"type\": \"scatter3d\"}], \"scattercarpet\": [{\"marker\": {\"colorbar\": {\"outlinewidth\": 0, \"ticks\": \"\"}}, \"type\": \"scattercarpet\"}], \"scattergeo\": [{\"marker\": {\"colorbar\": {\"outlinewidth\": 0, \"ticks\": \"\"}}, \"type\": \"scattergeo\"}], \"scattergl\": [{\"marker\": {\"colorbar\": {\"outlinewidth\": 0, \"ticks\": \"\"}}, \"type\": \"scattergl\"}], \"scattermapbox\": [{\"marker\": {\"colorbar\": {\"outlinewidth\": 0, \"ticks\": \"\"}}, \"type\": \"scattermapbox\"}], \"scatterpolar\": [{\"marker\": {\"colorbar\": {\"outlinewidth\": 0, \"ticks\": \"\"}}, \"type\": \"scatterpolar\"}], \"scatterpolargl\": [{\"marker\": {\"colorbar\": {\"outlinewidth\": 0, \"ticks\": \"\"}}, \"type\": \"scatterpolargl\"}], \"scatterternary\": [{\"marker\": {\"colorbar\": {\"outlinewidth\": 0, \"ticks\": \"\"}}, \"type\": \"scatterternary\"}], \"surface\": [{\"colorbar\": {\"outlinewidth\": 0, \"ticks\": \"\"}, \"colorscale\": [[0.0, \"#0d0887\"], [0.1111111111111111, \"#46039f\"], [0.2222222222222222, \"#7201a8\"], [0.3333333333333333, \"#9c179e\"], [0.4444444444444444, \"#bd3786\"], [0.5555555555555556, \"#d8576b\"], [0.6666666666666666, \"#ed7953\"], [0.7777777777777778, \"#fb9f3a\"], [0.8888888888888888, \"#fdca26\"], [1.0, \"#f0f921\"]], \"type\": \"surface\"}], \"table\": [{\"cells\": {\"fill\": {\"color\": \"#EBF0F8\"}, \"line\": {\"color\": \"white\"}}, \"header\": {\"fill\": {\"color\": \"#C8D4E3\"}, \"line\": {\"color\": \"white\"}}, \"type\": \"table\"}]}, \"layout\": {\"annotationdefaults\": {\"arrowcolor\": \"#2a3f5f\", \"arrowhead\": 0, \"arrowwidth\": 1}, \"autotypenumbers\": \"strict\", \"coloraxis\": {\"colorbar\": {\"outlinewidth\": 0, \"ticks\": \"\"}}, \"colorscale\": {\"diverging\": [[0, \"#8e0152\"], [0.1, \"#c51b7d\"], [0.2, \"#de77ae\"], [0.3, \"#f1b6da\"], [0.4, \"#fde0ef\"], [0.5, \"#f7f7f7\"], [0.6, \"#e6f5d0\"], [0.7, \"#b8e186\"], [0.8, \"#7fbc41\"], [0.9, \"#4d9221\"], [1, \"#276419\"]], \"sequential\": [[0.0, \"#0d0887\"], [0.1111111111111111, \"#46039f\"], [0.2222222222222222, \"#7201a8\"], [0.3333333333333333, \"#9c179e\"], [0.4444444444444444, \"#bd3786\"], [0.5555555555555556, \"#d8576b\"], [0.6666666666666666, \"#ed7953\"], [0.7777777777777778, \"#fb9f3a\"], [0.8888888888888888, \"#fdca26\"], [1.0, \"#f0f921\"]], \"sequentialminus\": [[0.0, \"#0d0887\"], [0.1111111111111111, \"#46039f\"], [0.2222222222222222, \"#7201a8\"], [0.3333333333333333, \"#9c179e\"], [0.4444444444444444, \"#bd3786\"], [0.5555555555555556, \"#d8576b\"], [0.6666666666666666, \"#ed7953\"], [0.7777777777777778, \"#fb9f3a\"], [0.8888888888888888, \"#fdca26\"], [1.0, \"#f0f921\"]]}, \"colorway\": [\"#636efa\", \"#EF553B\", \"#00cc96\", \"#ab63fa\", \"#FFA15A\", \"#19d3f3\", \"#FF6692\", \"#B6E880\", \"#FF97FF\", \"#FECB52\"], \"font\": {\"color\": \"#2a3f5f\"}, \"geo\": {\"bgcolor\": \"white\", \"lakecolor\": \"white\", \"landcolor\": \"#E5ECF6\", \"showlakes\": true, \"showland\": true, \"subunitcolor\": \"white\"}, \"hoverlabel\": {\"align\": \"left\"}, \"hovermode\": \"closest\", \"mapbox\": {\"style\": \"light\"}, \"paper_bgcolor\": \"white\", \"plot_bgcolor\": \"#E5ECF6\", \"polar\": {\"angularaxis\": {\"gridcolor\": \"white\", \"linecolor\": \"white\", \"ticks\": \"\"}, \"bgcolor\": \"#E5ECF6\", \"radialaxis\": {\"gridcolor\": \"white\", \"linecolor\": \"white\", \"ticks\": \"\"}}, \"scene\": {\"xaxis\": {\"backgroundcolor\": \"#E5ECF6\", \"gridcolor\": \"white\", \"gridwidth\": 2, \"linecolor\": \"white\", \"showbackground\": true, \"ticks\": \"\", \"zerolinecolor\": \"white\"}, \"yaxis\": {\"backgroundcolor\": \"#E5ECF6\", \"gridcolor\": \"white\", \"gridwidth\": 2, \"linecolor\": \"white\", \"showbackground\": true, \"ticks\": \"\", \"zerolinecolor\": \"white\"}, \"zaxis\": {\"backgroundcolor\": \"#E5ECF6\", \"gridcolor\": \"white\", \"gridwidth\": 2, \"linecolor\": \"white\", \"showbackground\": true, \"ticks\": \"\", \"zerolinecolor\": \"white\"}}, \"shapedefaults\": {\"line\": {\"color\": \"#2a3f5f\"}}, \"ternary\": {\"aaxis\": {\"gridcolor\": \"white\", \"linecolor\": \"white\", \"ticks\": \"\"}, \"baxis\": {\"gridcolor\": \"white\", \"linecolor\": \"white\", \"ticks\": \"\"}, \"bgcolor\": \"#E5ECF6\", \"caxis\": {\"gridcolor\": \"white\", \"linecolor\": \"white\", \"ticks\": \"\"}}, \"title\": {\"x\": 0.05}, \"xaxis\": {\"automargin\": true, \"gridcolor\": \"white\", \"linecolor\": \"white\", \"ticks\": \"\", \"title\": {\"standoff\": 15}, \"zerolinecolor\": \"white\", \"zerolinewidth\": 2}, \"yaxis\": {\"automargin\": true, \"gridcolor\": \"white\", \"linecolor\": \"white\", \"ticks\": \"\", \"title\": {\"standoff\": 15}, \"zerolinecolor\": \"white\", \"zerolinewidth\": 2}}}, \"title\": {\"text\": \"Happiness Score compared to Freedom to Make Life Choices Score\"}, \"width\": 1000, \"xaxis\": {\"anchor\": \"y\", \"domain\": [0.0, 1.0], \"range\": [0, 8], \"title\": {\"text\": \"Happiness Score\"}}, \"yaxis\": {\"anchor\": \"x\", \"domain\": [0.0, 1.0], \"title\": {\"text\": \"Freedom to Make Life Choices Score\"}}},                        {\"responsive\": true}                    ).then(function(){\n",
       "                            \n",
       "var gd = document.getElementById('33cef73d-e8c7-4c14-bb86-6fe77065424e');\n",
       "var x = new MutationObserver(function (mutations, observer) {{\n",
       "        var display = window.getComputedStyle(gd).display;\n",
       "        if (!display || display === 'none') {{\n",
       "            console.log([gd, 'removed!']);\n",
       "            Plotly.purge(gd);\n",
       "            observer.disconnect();\n",
       "        }}\n",
       "}});\n",
       "\n",
       "// Listen for the removal of the full notebook cells\n",
       "var notebookContainer = gd.closest('#notebook-container');\n",
       "if (notebookContainer) {{\n",
       "    x.observe(notebookContainer, {childList: true});\n",
       "}}\n",
       "\n",
       "// Listen for the clearing of the current output cell\n",
       "var outputEl = gd.closest('.output');\n",
       "if (outputEl) {{\n",
       "    x.observe(outputEl, {childList: true});\n",
       "}}\n",
       "\n",
       "                        })                };                });            </script>        </div>"
      ]
     },
     "metadata": {},
     "output_type": "display_data"
    }
   ],
   "source": [
    "#happiness score vs freedom to make life choices\n",
    "\n",
    "#establish x and y values\n",
    "x_values = merged_2019[\"Score\"]\n",
    "y_values = merged_2019[\"Freedom to make life choices\"]\n",
    "\n",
    "#px.scatter\n",
    "fig = px.scatter(merged_2019, x_values, y_values, color=\"Region\", hover_name=\"Country or region\",\n",
    "                range_x=[0,8], title=\"Happiness Score compared to Freedom to Make Life Choices Score\",\n",
    "                width= 1000, height =600) # use trendline=\"ols\" to see all lin reg equations\n",
    "\n",
    "#set axes labels\n",
    "fig.update_xaxes(title_text='Happiness Score')\n",
    "fig.update_yaxes(title_text='Freedom to Make Life Choices Score')\n",
    "\n",
    "\n",
    "#formatting\n",
    "#marker size and colors\n",
    "fig.update_traces(marker=dict(size=10,\n",
    "                              line=dict(width=1, \n",
    "                                        color='DarkSlateGrey')))\n",
    "\n",
    "#linear regression\n",
    "#use linregress from dependencies to inplement linear regression\n",
    "(slope, intercept, rvalue, pvalue, stderr) = linregress(x_values, y_values)\n",
    "regress_values = x_values * slope + intercept\n",
    "\n",
    "#print out all variables calculated above (rvalue, pvalue...)\n",
    "print(f\"slope:{round(slope, 2)}\")\n",
    "print(f\"intercept:{round(intercept,2)}\")\n",
    "res = sts.linregress(x_values, y_values)\n",
    "print(f\"R-squared: {res.rvalue**2:.4f}\")\n",
    "\n",
    "\n",
    "#print out line eq for reference\n",
    "line_eq = (f\"y={round(slope, 2)}x + {round(intercept, 2)}\")\n",
    "print(line_eq)\n",
    "\n",
    "fig.show()"
   ]
  },
  {
   "cell_type": "code",
   "execution_count": 27,
   "metadata": {},
   "outputs": [
    {
     "name": "stdout",
     "output_type": "stream",
     "text": [
      "slope:0.01\n",
      "intercept:0.15\n",
      "R-squared: 0.0069\n",
      "y=0.01x + 0.15\n"
     ]
    },
    {
     "data": {
      "application/vnd.plotly.v1+json": {
       "config": {
        "plotlyServerURL": "https://plot.ly"
       },
       "data": [
        {
         "hovertemplate": "<b>%{hovertext}</b><br><br>Region=Europe<br>Score=%{x}<br>Generosity=%{y}<extra></extra>",
         "hovertext": [
          "Finland",
          "Denmark",
          "Norway",
          "Iceland",
          "Netherlands",
          "Switzerland",
          "Sweden",
          "Austria",
          "Luxembourg",
          "United Kingdom",
          "Ireland",
          "Germany",
          "Belgium",
          "Czech Republic",
          "Malta",
          "France",
          "Spain",
          "Italy",
          "Slovakia",
          "Poland",
          "Uzbekistan",
          "Lithuania",
          "Slovenia",
          "Kosovo",
          "Romania",
          "Cyprus",
          "Latvia",
          "Estonia",
          "Kazakhstan",
          "Hungary",
          "Portugal",
          "Russia",
          "Serbia",
          "Moldova",
          "Montenegro",
          "Tajikistan",
          "Croatia",
          "Bosnia and Herzegovina",
          "Belarus",
          "Greece",
          "Kyrgyzstan",
          "Turkmenistan",
          "Azerbaijan",
          "Bulgaria",
          "Albania",
          "Armenia",
          "Georgia",
          "Ukraine"
         ],
         "legendgroup": "Europe",
         "marker": {
          "color": "#636efa",
          "line": {
           "color": "DarkSlateGrey",
           "width": 1
          },
          "size": 10,
          "symbol": "circle"
         },
         "mode": "markers",
         "name": "Europe",
         "orientation": "v",
         "showlegend": true,
         "type": "scatter",
         "x": [
          7.769,
          7.6,
          7.553999999999999,
          7.494,
          7.4879999999999995,
          7.48,
          7.343,
          7.246,
          7.09,
          7.053999999999999,
          7.021,
          6.985,
          6.922999999999999,
          6.852,
          6.726,
          6.5920000000000005,
          6.354,
          6.223,
          6.1979999999999995,
          6.182,
          6.1739999999999995,
          6.149,
          6.117999999999999,
          6.1,
          6.07,
          6.046,
          5.94,
          5.893,
          5.809,
          5.757999999999999,
          5.693,
          5.648,
          5.603,
          5.529,
          5.523,
          5.4670000000000005,
          5.432,
          5.386,
          5.3229999999999995,
          5.287000000000001,
          5.261,
          5.247000000000001,
          5.207999999999999,
          5.011,
          4.718999999999999,
          4.559,
          4.519,
          4.332
         ],
         "xaxis": "x",
         "y": [
          0.153,
          0.252,
          0.271,
          0.354,
          0.322,
          0.263,
          0.267,
          0.244,
          0.19399999999999998,
          0.348,
          0.298,
          0.261,
          0.16,
          0.046,
          0.375,
          0.111,
          0.153,
          0.158,
          0.121,
          0.11699999999999999,
          0.322,
          0.043,
          0.14400000000000002,
          0.262,
          0.083,
          0.19,
          0.075,
          0.10300000000000001,
          0.146,
          0.081,
          0.047,
          0.08199999999999999,
          0.13699999999999998,
          0.18100000000000002,
          0.142,
          0.23,
          0.11900000000000001,
          0.263,
          0.094,
          0,
          0.3,
          0.244,
          0.035,
          0.081,
          0.17800000000000002,
          0.095,
          0.043,
          0.187
         ],
         "yaxis": "y"
        },
        {
         "hovertemplate": "<b>%{hovertext}</b><br><br>Region=Australia and New Zealand<br>Score=%{x}<br>Generosity=%{y}<extra></extra>",
         "hovertext": [
          "New Zealand",
          "Australia"
         ],
         "legendgroup": "Australia and New Zealand",
         "marker": {
          "color": "#EF553B",
          "line": {
           "color": "DarkSlateGrey",
           "width": 1
          },
          "size": 10,
          "symbol": "circle"
         },
         "mode": "markers",
         "name": "Australia and New Zealand",
         "orientation": "v",
         "showlegend": true,
         "type": "scatter",
         "x": [
          7.307,
          7.228
         ],
         "xaxis": "x",
         "y": [
          0.33,
          0.332
         ],
         "yaxis": "y"
        },
        {
         "hovertemplate": "<b>%{hovertext}</b><br><br>Region=North America<br>Score=%{x}<br>Generosity=%{y}<extra></extra>",
         "hovertext": [
          "Canada",
          "United States"
         ],
         "legendgroup": "North America",
         "marker": {
          "color": "#00cc96",
          "line": {
           "color": "DarkSlateGrey",
           "width": 1
          },
          "size": 10,
          "symbol": "circle"
         },
         "mode": "markers",
         "name": "North America",
         "orientation": "v",
         "showlegend": true,
         "type": "scatter",
         "x": [
          7.278,
          6.892
         ],
         "xaxis": "x",
         "y": [
          0.285,
          0.28
         ],
         "yaxis": "y"
        },
        {
         "hovertemplate": "<b>%{hovertext}</b><br><br>Region=Latin America and Caribbean<br>Score=%{x}<br>Generosity=%{y}<extra></extra>",
         "hovertext": [
          "Costa Rica",
          "Mexico",
          "Chile",
          "Guatemala",
          "Panama",
          "Brazil",
          "Uruguay",
          "El Salvador",
          "Colombia",
          "Nicaragua",
          "Argentina",
          "Ecuador",
          "Jamaica",
          "Honduras",
          "Bolivia",
          "Paraguay",
          "Peru",
          "Dominican Republic",
          "Venezuela",
          "Haiti"
         ],
         "legendgroup": "Latin America and Caribbean",
         "marker": {
          "color": "#ab63fa",
          "line": {
           "color": "DarkSlateGrey",
           "width": 1
          },
          "size": 10,
          "symbol": "circle"
         },
         "mode": "markers",
         "name": "Latin America and Caribbean",
         "orientation": "v",
         "showlegend": true,
         "type": "scatter",
         "x": [
          7.167000000000001,
          6.595,
          6.444,
          6.436,
          6.321000000000001,
          6.3,
          6.292999999999999,
          6.252999999999999,
          6.125,
          6.105,
          6.086,
          6.028,
          5.89,
          5.86,
          5.779,
          5.742999999999999,
          5.697,
          5.425,
          4.707,
          3.597
         ],
         "xaxis": "x",
         "y": [
          0.14400000000000002,
          0.07400000000000001,
          0.187,
          0.175,
          0.109,
          0.099,
          0.127,
          0.09300000000000001,
          0.099,
          0.2,
          0.066,
          0.126,
          0.107,
          0.24600000000000002,
          0.13699999999999998,
          0.184,
          0.083,
          0.113,
          0.064,
          0.419
         ],
         "yaxis": "y"
        },
        {
         "hovertemplate": "<b>%{hovertext}</b><br><br>Region=Middle East and Northern Africa<br>Score=%{x}<br>Generosity=%{y}<extra></extra>",
         "hovertext": [
          "Israel",
          "United Arab Emirates",
          "Saudi Arabia",
          "Qatar",
          "Bahrain",
          "Kuwait",
          "Libya",
          "Turkey",
          "Algeria",
          "Morocco",
          "Lebanon",
          "Jordan",
          "Palestinian Territories",
          "Iran",
          "Tunisia",
          "Iraq",
          "Egypt",
          "Syria",
          "Yemen"
         ],
         "legendgroup": "Middle East and Northern Africa",
         "marker": {
          "color": "#FFA15A",
          "line": {
           "color": "DarkSlateGrey",
           "width": 1
          },
          "size": 10,
          "symbol": "circle"
         },
         "mode": "markers",
         "name": "Middle East and Northern Africa",
         "orientation": "v",
         "showlegend": true,
         "type": "scatter",
         "x": [
          7.138999999999999,
          6.825,
          6.375,
          6.374,
          6.199,
          6.021,
          5.525,
          5.372999999999999,
          5.211,
          5.207999999999999,
          5.197,
          4.906000000000001,
          4.696000000000001,
          4.548,
          4.461,
          4.437,
          4.166,
          3.4619999999999997,
          3.38
         ],
         "xaxis": "x",
         "y": [
          0.261,
          0.262,
          0.08,
          0.22,
          0.255,
          0.142,
          0.133,
          0.083,
          0.073,
          0.036000000000000004,
          0.166,
          0.11,
          0.10300000000000001,
          0.27,
          0.059000000000000004,
          0.14800000000000002,
          0.076,
          0.331,
          0.10800000000000001
         ],
         "yaxis": "y"
        },
        {
         "hovertemplate": "<b>%{hovertext}</b><br><br>Region=Asia<br>Score=%{x}<br>Generosity=%{y}<extra></extra>",
         "hovertext": [
          "Taiwan",
          "Singapore",
          "Thailand",
          "South Korea",
          "Japan",
          "Pakistan",
          "Philippines",
          "Hong Kong",
          "Malaysia",
          "Mongolia",
          "Indonesia",
          "China",
          "Vietnam",
          "Bhutan",
          "Nepal",
          "Laos",
          "Cambodia",
          "Bangladesh",
          "Sri Lanka",
          "Myanmar",
          "India",
          "Afghanistan"
         ],
         "legendgroup": "Asia",
         "marker": {
          "color": "#19d3f3",
          "line": {
           "color": "DarkSlateGrey",
           "width": 1
          },
          "size": 10,
          "symbol": "circle"
         },
         "mode": "markers",
         "name": "Asia",
         "orientation": "v",
         "showlegend": true,
         "type": "scatter",
         "x": [
          6.446000000000001,
          6.2620000000000005,
          6.007999999999999,
          5.895,
          5.886,
          5.653,
          5.631,
          5.43,
          5.3389999999999995,
          5.285,
          5.192,
          5.191,
          5.175,
          5.082,
          4.913,
          4.796,
          4.7,
          4.456,
          4.3660000000000005,
          4.36,
          4.015,
          3.2030000000000003
         ],
         "xaxis": "x",
         "y": [
          0.242,
          0.271,
          0.359,
          0.175,
          0.069,
          0.22,
          0.11699999999999999,
          0.258,
          0.26,
          0.235,
          0.498,
          0.057999999999999996,
          0.147,
          0.37,
          0.285,
          0.266,
          0.23199999999999998,
          0.166,
          0.244,
          0.5660000000000001,
          0.2,
          0.158
         ],
         "yaxis": "y"
        },
        {
         "hovertemplate": "<b>%{hovertext}</b><br><br>Region=Sub-Saharan Africa<br>Score=%{x}<br>Generosity=%{y}<extra></extra>",
         "hovertext": [
          "Mauritius",
          "Nigeria",
          "Cameroon",
          "Ghana",
          "Ivory Coast",
          "Benin",
          "Congo (Brazzaville)",
          "Gabon",
          "South Africa",
          "Senegal",
          "Niger",
          "Burkina Faso",
          "Guinea",
          "Kenya",
          "Mauritania",
          "Mozambique",
          "Congo (Kinshasa)",
          "Mali",
          "Sierra Leone",
          "Chad",
          "Ethiopia",
          "Swaziland",
          "Uganda",
          "Zambia",
          "Togo",
          "Liberia",
          "Comoros",
          "Madagascar",
          "Lesotho",
          "Burundi",
          "Zimbabwe",
          "Botswana",
          "Malawi",
          "Rwanda",
          "Tanzania",
          "Central African Republic"
         ],
         "legendgroup": "Sub-Saharan Africa",
         "marker": {
          "color": "#FF6692",
          "line": {
           "color": "DarkSlateGrey",
           "width": 1
          },
          "size": 10,
          "symbol": "circle"
         },
         "mode": "markers",
         "name": "Sub-Saharan Africa",
         "orientation": "v",
         "showlegend": true,
         "type": "scatter",
         "x": [
          5.888,
          5.265,
          5.044,
          4.996,
          4.944,
          4.883,
          4.812,
          4.7989999999999995,
          4.7219999999999995,
          4.681,
          4.628,
          4.587,
          4.534,
          4.5089999999999995,
          4.49,
          4.466,
          4.418,
          4.39,
          4.374,
          4.35,
          4.2860000000000005,
          4.212,
          4.189,
          4.107,
          4.085,
          3.975,
          3.9730000000000003,
          3.9330000000000003,
          3.802,
          3.775,
          3.6630000000000003,
          3.488,
          3.41,
          3.3339999999999996,
          3.2310000000000003,
          3.083
         ],
         "xaxis": "x",
         "y": [
          0.215,
          0.215,
          0.187,
          0.245,
          0.154,
          0.175,
          0.105,
          0.043,
          0.13,
          0.153,
          0.188,
          0.177,
          0.207,
          0.37200000000000005,
          0.106,
          0.19699999999999998,
          0.212,
          0.153,
          0.252,
          0.198,
          0.209,
          0.07400000000000001,
          0.252,
          0.247,
          0.177,
          0.233,
          0.275,
          0.16899999999999998,
          0.107,
          0.17600000000000002,
          0.151,
          0.025,
          0.218,
          0.217,
          0.276,
          0.235
         ],
         "yaxis": "y"
        }
       ],
       "layout": {
        "height": 600,
        "legend": {
         "title": {
          "text": "Region"
         },
         "tracegroupgap": 0
        },
        "template": {
         "data": {
          "bar": [
           {
            "error_x": {
             "color": "#2a3f5f"
            },
            "error_y": {
             "color": "#2a3f5f"
            },
            "marker": {
             "line": {
              "color": "#E5ECF6",
              "width": 0.5
             }
            },
            "type": "bar"
           }
          ],
          "barpolar": [
           {
            "marker": {
             "line": {
              "color": "#E5ECF6",
              "width": 0.5
             }
            },
            "type": "barpolar"
           }
          ],
          "carpet": [
           {
            "aaxis": {
             "endlinecolor": "#2a3f5f",
             "gridcolor": "white",
             "linecolor": "white",
             "minorgridcolor": "white",
             "startlinecolor": "#2a3f5f"
            },
            "baxis": {
             "endlinecolor": "#2a3f5f",
             "gridcolor": "white",
             "linecolor": "white",
             "minorgridcolor": "white",
             "startlinecolor": "#2a3f5f"
            },
            "type": "carpet"
           }
          ],
          "choropleth": [
           {
            "colorbar": {
             "outlinewidth": 0,
             "ticks": ""
            },
            "type": "choropleth"
           }
          ],
          "contour": [
           {
            "colorbar": {
             "outlinewidth": 0,
             "ticks": ""
            },
            "colorscale": [
             [
              0,
              "#0d0887"
             ],
             [
              0.1111111111111111,
              "#46039f"
             ],
             [
              0.2222222222222222,
              "#7201a8"
             ],
             [
              0.3333333333333333,
              "#9c179e"
             ],
             [
              0.4444444444444444,
              "#bd3786"
             ],
             [
              0.5555555555555556,
              "#d8576b"
             ],
             [
              0.6666666666666666,
              "#ed7953"
             ],
             [
              0.7777777777777778,
              "#fb9f3a"
             ],
             [
              0.8888888888888888,
              "#fdca26"
             ],
             [
              1,
              "#f0f921"
             ]
            ],
            "type": "contour"
           }
          ],
          "contourcarpet": [
           {
            "colorbar": {
             "outlinewidth": 0,
             "ticks": ""
            },
            "type": "contourcarpet"
           }
          ],
          "heatmap": [
           {
            "colorbar": {
             "outlinewidth": 0,
             "ticks": ""
            },
            "colorscale": [
             [
              0,
              "#0d0887"
             ],
             [
              0.1111111111111111,
              "#46039f"
             ],
             [
              0.2222222222222222,
              "#7201a8"
             ],
             [
              0.3333333333333333,
              "#9c179e"
             ],
             [
              0.4444444444444444,
              "#bd3786"
             ],
             [
              0.5555555555555556,
              "#d8576b"
             ],
             [
              0.6666666666666666,
              "#ed7953"
             ],
             [
              0.7777777777777778,
              "#fb9f3a"
             ],
             [
              0.8888888888888888,
              "#fdca26"
             ],
             [
              1,
              "#f0f921"
             ]
            ],
            "type": "heatmap"
           }
          ],
          "heatmapgl": [
           {
            "colorbar": {
             "outlinewidth": 0,
             "ticks": ""
            },
            "colorscale": [
             [
              0,
              "#0d0887"
             ],
             [
              0.1111111111111111,
              "#46039f"
             ],
             [
              0.2222222222222222,
              "#7201a8"
             ],
             [
              0.3333333333333333,
              "#9c179e"
             ],
             [
              0.4444444444444444,
              "#bd3786"
             ],
             [
              0.5555555555555556,
              "#d8576b"
             ],
             [
              0.6666666666666666,
              "#ed7953"
             ],
             [
              0.7777777777777778,
              "#fb9f3a"
             ],
             [
              0.8888888888888888,
              "#fdca26"
             ],
             [
              1,
              "#f0f921"
             ]
            ],
            "type": "heatmapgl"
           }
          ],
          "histogram": [
           {
            "marker": {
             "colorbar": {
              "outlinewidth": 0,
              "ticks": ""
             }
            },
            "type": "histogram"
           }
          ],
          "histogram2d": [
           {
            "colorbar": {
             "outlinewidth": 0,
             "ticks": ""
            },
            "colorscale": [
             [
              0,
              "#0d0887"
             ],
             [
              0.1111111111111111,
              "#46039f"
             ],
             [
              0.2222222222222222,
              "#7201a8"
             ],
             [
              0.3333333333333333,
              "#9c179e"
             ],
             [
              0.4444444444444444,
              "#bd3786"
             ],
             [
              0.5555555555555556,
              "#d8576b"
             ],
             [
              0.6666666666666666,
              "#ed7953"
             ],
             [
              0.7777777777777778,
              "#fb9f3a"
             ],
             [
              0.8888888888888888,
              "#fdca26"
             ],
             [
              1,
              "#f0f921"
             ]
            ],
            "type": "histogram2d"
           }
          ],
          "histogram2dcontour": [
           {
            "colorbar": {
             "outlinewidth": 0,
             "ticks": ""
            },
            "colorscale": [
             [
              0,
              "#0d0887"
             ],
             [
              0.1111111111111111,
              "#46039f"
             ],
             [
              0.2222222222222222,
              "#7201a8"
             ],
             [
              0.3333333333333333,
              "#9c179e"
             ],
             [
              0.4444444444444444,
              "#bd3786"
             ],
             [
              0.5555555555555556,
              "#d8576b"
             ],
             [
              0.6666666666666666,
              "#ed7953"
             ],
             [
              0.7777777777777778,
              "#fb9f3a"
             ],
             [
              0.8888888888888888,
              "#fdca26"
             ],
             [
              1,
              "#f0f921"
             ]
            ],
            "type": "histogram2dcontour"
           }
          ],
          "mesh3d": [
           {
            "colorbar": {
             "outlinewidth": 0,
             "ticks": ""
            },
            "type": "mesh3d"
           }
          ],
          "parcoords": [
           {
            "line": {
             "colorbar": {
              "outlinewidth": 0,
              "ticks": ""
             }
            },
            "type": "parcoords"
           }
          ],
          "pie": [
           {
            "automargin": true,
            "type": "pie"
           }
          ],
          "scatter": [
           {
            "marker": {
             "colorbar": {
              "outlinewidth": 0,
              "ticks": ""
             }
            },
            "type": "scatter"
           }
          ],
          "scatter3d": [
           {
            "line": {
             "colorbar": {
              "outlinewidth": 0,
              "ticks": ""
             }
            },
            "marker": {
             "colorbar": {
              "outlinewidth": 0,
              "ticks": ""
             }
            },
            "type": "scatter3d"
           }
          ],
          "scattercarpet": [
           {
            "marker": {
             "colorbar": {
              "outlinewidth": 0,
              "ticks": ""
             }
            },
            "type": "scattercarpet"
           }
          ],
          "scattergeo": [
           {
            "marker": {
             "colorbar": {
              "outlinewidth": 0,
              "ticks": ""
             }
            },
            "type": "scattergeo"
           }
          ],
          "scattergl": [
           {
            "marker": {
             "colorbar": {
              "outlinewidth": 0,
              "ticks": ""
             }
            },
            "type": "scattergl"
           }
          ],
          "scattermapbox": [
           {
            "marker": {
             "colorbar": {
              "outlinewidth": 0,
              "ticks": ""
             }
            },
            "type": "scattermapbox"
           }
          ],
          "scatterpolar": [
           {
            "marker": {
             "colorbar": {
              "outlinewidth": 0,
              "ticks": ""
             }
            },
            "type": "scatterpolar"
           }
          ],
          "scatterpolargl": [
           {
            "marker": {
             "colorbar": {
              "outlinewidth": 0,
              "ticks": ""
             }
            },
            "type": "scatterpolargl"
           }
          ],
          "scatterternary": [
           {
            "marker": {
             "colorbar": {
              "outlinewidth": 0,
              "ticks": ""
             }
            },
            "type": "scatterternary"
           }
          ],
          "surface": [
           {
            "colorbar": {
             "outlinewidth": 0,
             "ticks": ""
            },
            "colorscale": [
             [
              0,
              "#0d0887"
             ],
             [
              0.1111111111111111,
              "#46039f"
             ],
             [
              0.2222222222222222,
              "#7201a8"
             ],
             [
              0.3333333333333333,
              "#9c179e"
             ],
             [
              0.4444444444444444,
              "#bd3786"
             ],
             [
              0.5555555555555556,
              "#d8576b"
             ],
             [
              0.6666666666666666,
              "#ed7953"
             ],
             [
              0.7777777777777778,
              "#fb9f3a"
             ],
             [
              0.8888888888888888,
              "#fdca26"
             ],
             [
              1,
              "#f0f921"
             ]
            ],
            "type": "surface"
           }
          ],
          "table": [
           {
            "cells": {
             "fill": {
              "color": "#EBF0F8"
             },
             "line": {
              "color": "white"
             }
            },
            "header": {
             "fill": {
              "color": "#C8D4E3"
             },
             "line": {
              "color": "white"
             }
            },
            "type": "table"
           }
          ]
         },
         "layout": {
          "annotationdefaults": {
           "arrowcolor": "#2a3f5f",
           "arrowhead": 0,
           "arrowwidth": 1
          },
          "autotypenumbers": "strict",
          "coloraxis": {
           "colorbar": {
            "outlinewidth": 0,
            "ticks": ""
           }
          },
          "colorscale": {
           "diverging": [
            [
             0,
             "#8e0152"
            ],
            [
             0.1,
             "#c51b7d"
            ],
            [
             0.2,
             "#de77ae"
            ],
            [
             0.3,
             "#f1b6da"
            ],
            [
             0.4,
             "#fde0ef"
            ],
            [
             0.5,
             "#f7f7f7"
            ],
            [
             0.6,
             "#e6f5d0"
            ],
            [
             0.7,
             "#b8e186"
            ],
            [
             0.8,
             "#7fbc41"
            ],
            [
             0.9,
             "#4d9221"
            ],
            [
             1,
             "#276419"
            ]
           ],
           "sequential": [
            [
             0,
             "#0d0887"
            ],
            [
             0.1111111111111111,
             "#46039f"
            ],
            [
             0.2222222222222222,
             "#7201a8"
            ],
            [
             0.3333333333333333,
             "#9c179e"
            ],
            [
             0.4444444444444444,
             "#bd3786"
            ],
            [
             0.5555555555555556,
             "#d8576b"
            ],
            [
             0.6666666666666666,
             "#ed7953"
            ],
            [
             0.7777777777777778,
             "#fb9f3a"
            ],
            [
             0.8888888888888888,
             "#fdca26"
            ],
            [
             1,
             "#f0f921"
            ]
           ],
           "sequentialminus": [
            [
             0,
             "#0d0887"
            ],
            [
             0.1111111111111111,
             "#46039f"
            ],
            [
             0.2222222222222222,
             "#7201a8"
            ],
            [
             0.3333333333333333,
             "#9c179e"
            ],
            [
             0.4444444444444444,
             "#bd3786"
            ],
            [
             0.5555555555555556,
             "#d8576b"
            ],
            [
             0.6666666666666666,
             "#ed7953"
            ],
            [
             0.7777777777777778,
             "#fb9f3a"
            ],
            [
             0.8888888888888888,
             "#fdca26"
            ],
            [
             1,
             "#f0f921"
            ]
           ]
          },
          "colorway": [
           "#636efa",
           "#EF553B",
           "#00cc96",
           "#ab63fa",
           "#FFA15A",
           "#19d3f3",
           "#FF6692",
           "#B6E880",
           "#FF97FF",
           "#FECB52"
          ],
          "font": {
           "color": "#2a3f5f"
          },
          "geo": {
           "bgcolor": "white",
           "lakecolor": "white",
           "landcolor": "#E5ECF6",
           "showlakes": true,
           "showland": true,
           "subunitcolor": "white"
          },
          "hoverlabel": {
           "align": "left"
          },
          "hovermode": "closest",
          "mapbox": {
           "style": "light"
          },
          "paper_bgcolor": "white",
          "plot_bgcolor": "#E5ECF6",
          "polar": {
           "angularaxis": {
            "gridcolor": "white",
            "linecolor": "white",
            "ticks": ""
           },
           "bgcolor": "#E5ECF6",
           "radialaxis": {
            "gridcolor": "white",
            "linecolor": "white",
            "ticks": ""
           }
          },
          "scene": {
           "xaxis": {
            "backgroundcolor": "#E5ECF6",
            "gridcolor": "white",
            "gridwidth": 2,
            "linecolor": "white",
            "showbackground": true,
            "ticks": "",
            "zerolinecolor": "white"
           },
           "yaxis": {
            "backgroundcolor": "#E5ECF6",
            "gridcolor": "white",
            "gridwidth": 2,
            "linecolor": "white",
            "showbackground": true,
            "ticks": "",
            "zerolinecolor": "white"
           },
           "zaxis": {
            "backgroundcolor": "#E5ECF6",
            "gridcolor": "white",
            "gridwidth": 2,
            "linecolor": "white",
            "showbackground": true,
            "ticks": "",
            "zerolinecolor": "white"
           }
          },
          "shapedefaults": {
           "line": {
            "color": "#2a3f5f"
           }
          },
          "ternary": {
           "aaxis": {
            "gridcolor": "white",
            "linecolor": "white",
            "ticks": ""
           },
           "baxis": {
            "gridcolor": "white",
            "linecolor": "white",
            "ticks": ""
           },
           "bgcolor": "#E5ECF6",
           "caxis": {
            "gridcolor": "white",
            "linecolor": "white",
            "ticks": ""
           }
          },
          "title": {
           "x": 0.05
          },
          "xaxis": {
           "automargin": true,
           "gridcolor": "white",
           "linecolor": "white",
           "ticks": "",
           "title": {
            "standoff": 15
           },
           "zerolinecolor": "white",
           "zerolinewidth": 2
          },
          "yaxis": {
           "automargin": true,
           "gridcolor": "white",
           "linecolor": "white",
           "ticks": "",
           "title": {
            "standoff": 15
           },
           "zerolinecolor": "white",
           "zerolinewidth": 2
          }
         }
        },
        "title": {
         "text": "Happiness Score compared to Generosity Score"
        },
        "width": 1000,
        "xaxis": {
         "anchor": "y",
         "domain": [
          0,
          1
         ],
         "range": [
          0,
          8
         ],
         "title": {
          "text": "Happiness Score"
         }
        },
        "yaxis": {
         "anchor": "x",
         "domain": [
          0,
          1
         ],
         "title": {
          "text": "Generosity Score"
         }
        }
       }
      },
      "text/html": [
       "<div>                            <div id=\"0131c827-1c3b-49e4-8332-d69be4d7755d\" class=\"plotly-graph-div\" style=\"height:600px; width:1000px;\"></div>            <script type=\"text/javascript\">                require([\"plotly\"], function(Plotly) {                    window.PLOTLYENV=window.PLOTLYENV || {};                                    if (document.getElementById(\"0131c827-1c3b-49e4-8332-d69be4d7755d\")) {                    Plotly.newPlot(                        \"0131c827-1c3b-49e4-8332-d69be4d7755d\",                        [{\"hovertemplate\": \"<b>%{hovertext}</b><br><br>Region=Europe<br>Score=%{x}<br>Generosity=%{y}<extra></extra>\", \"hovertext\": [\"Finland\", \"Denmark\", \"Norway\", \"Iceland\", \"Netherlands\", \"Switzerland\", \"Sweden\", \"Austria\", \"Luxembourg\", \"United Kingdom\", \"Ireland\", \"Germany\", \"Belgium\", \"Czech Republic\", \"Malta\", \"France\", \"Spain\", \"Italy\", \"Slovakia\", \"Poland\", \"Uzbekistan\", \"Lithuania\", \"Slovenia\", \"Kosovo\", \"Romania\", \"Cyprus\", \"Latvia\", \"Estonia\", \"Kazakhstan\", \"Hungary\", \"Portugal\", \"Russia\", \"Serbia\", \"Moldova\", \"Montenegro\", \"Tajikistan\", \"Croatia\", \"Bosnia and Herzegovina\", \"Belarus\", \"Greece\", \"Kyrgyzstan\", \"Turkmenistan\", \"Azerbaijan\", \"Bulgaria\", \"Albania\", \"Armenia\", \"Georgia\", \"Ukraine\"], \"legendgroup\": \"Europe\", \"marker\": {\"color\": \"#636efa\", \"line\": {\"color\": \"DarkSlateGrey\", \"width\": 1}, \"size\": 10, \"symbol\": \"circle\"}, \"mode\": \"markers\", \"name\": \"Europe\", \"orientation\": \"v\", \"showlegend\": true, \"type\": \"scatter\", \"x\": [7.769, 7.6, 7.553999999999999, 7.494, 7.4879999999999995, 7.48, 7.343, 7.246, 7.09, 7.053999999999999, 7.021, 6.985, 6.922999999999999, 6.852, 6.726, 6.5920000000000005, 6.354, 6.223, 6.1979999999999995, 6.182, 6.1739999999999995, 6.149, 6.117999999999999, 6.1, 6.07, 6.046, 5.94, 5.893, 5.809, 5.757999999999999, 5.693, 5.648, 5.603, 5.529, 5.523, 5.4670000000000005, 5.432, 5.386, 5.3229999999999995, 5.287000000000001, 5.261, 5.247000000000001, 5.207999999999999, 5.011, 4.718999999999999, 4.559, 4.519, 4.332], \"xaxis\": \"x\", \"y\": [0.153, 0.252, 0.271, 0.354, 0.322, 0.263, 0.267, 0.244, 0.19399999999999998, 0.348, 0.298, 0.261, 0.16, 0.046, 0.375, 0.111, 0.153, 0.158, 0.121, 0.11699999999999999, 0.322, 0.043, 0.14400000000000002, 0.262, 0.083, 0.19, 0.075, 0.10300000000000001, 0.146, 0.081, 0.047, 0.08199999999999999, 0.13699999999999998, 0.18100000000000002, 0.142, 0.23, 0.11900000000000001, 0.263, 0.094, 0.0, 0.3, 0.244, 0.035, 0.081, 0.17800000000000002, 0.095, 0.043, 0.187], \"yaxis\": \"y\"}, {\"hovertemplate\": \"<b>%{hovertext}</b><br><br>Region=Australia and New Zealand<br>Score=%{x}<br>Generosity=%{y}<extra></extra>\", \"hovertext\": [\"New Zealand\", \"Australia\"], \"legendgroup\": \"Australia and New Zealand\", \"marker\": {\"color\": \"#EF553B\", \"line\": {\"color\": \"DarkSlateGrey\", \"width\": 1}, \"size\": 10, \"symbol\": \"circle\"}, \"mode\": \"markers\", \"name\": \"Australia and New Zealand\", \"orientation\": \"v\", \"showlegend\": true, \"type\": \"scatter\", \"x\": [7.307, 7.228], \"xaxis\": \"x\", \"y\": [0.33, 0.332], \"yaxis\": \"y\"}, {\"hovertemplate\": \"<b>%{hovertext}</b><br><br>Region=North America<br>Score=%{x}<br>Generosity=%{y}<extra></extra>\", \"hovertext\": [\"Canada\", \"United States\"], \"legendgroup\": \"North America\", \"marker\": {\"color\": \"#00cc96\", \"line\": {\"color\": \"DarkSlateGrey\", \"width\": 1}, \"size\": 10, \"symbol\": \"circle\"}, \"mode\": \"markers\", \"name\": \"North America\", \"orientation\": \"v\", \"showlegend\": true, \"type\": \"scatter\", \"x\": [7.278, 6.892], \"xaxis\": \"x\", \"y\": [0.285, 0.28], \"yaxis\": \"y\"}, {\"hovertemplate\": \"<b>%{hovertext}</b><br><br>Region=Latin America and Caribbean<br>Score=%{x}<br>Generosity=%{y}<extra></extra>\", \"hovertext\": [\"Costa Rica\", \"Mexico\", \"Chile\", \"Guatemala\", \"Panama\", \"Brazil\", \"Uruguay\", \"El Salvador\", \"Colombia\", \"Nicaragua\", \"Argentina\", \"Ecuador\", \"Jamaica\", \"Honduras\", \"Bolivia\", \"Paraguay\", \"Peru\", \"Dominican Republic\", \"Venezuela\", \"Haiti\"], \"legendgroup\": \"Latin America and Caribbean\", \"marker\": {\"color\": \"#ab63fa\", \"line\": {\"color\": \"DarkSlateGrey\", \"width\": 1}, \"size\": 10, \"symbol\": \"circle\"}, \"mode\": \"markers\", \"name\": \"Latin America and Caribbean\", \"orientation\": \"v\", \"showlegend\": true, \"type\": \"scatter\", \"x\": [7.167000000000001, 6.595, 6.444, 6.436, 6.321000000000001, 6.3, 6.292999999999999, 6.252999999999999, 6.125, 6.105, 6.086, 6.028, 5.89, 5.86, 5.779, 5.742999999999999, 5.697, 5.425, 4.707, 3.597], \"xaxis\": \"x\", \"y\": [0.14400000000000002, 0.07400000000000001, 0.187, 0.175, 0.109, 0.099, 0.127, 0.09300000000000001, 0.099, 0.2, 0.066, 0.126, 0.107, 0.24600000000000002, 0.13699999999999998, 0.184, 0.083, 0.113, 0.064, 0.419], \"yaxis\": \"y\"}, {\"hovertemplate\": \"<b>%{hovertext}</b><br><br>Region=Middle East and Northern Africa<br>Score=%{x}<br>Generosity=%{y}<extra></extra>\", \"hovertext\": [\"Israel\", \"United Arab Emirates\", \"Saudi Arabia\", \"Qatar\", \"Bahrain\", \"Kuwait\", \"Libya\", \"Turkey\", \"Algeria\", \"Morocco\", \"Lebanon\", \"Jordan\", \"Palestinian Territories\", \"Iran\", \"Tunisia\", \"Iraq\", \"Egypt\", \"Syria\", \"Yemen\"], \"legendgroup\": \"Middle East and Northern Africa\", \"marker\": {\"color\": \"#FFA15A\", \"line\": {\"color\": \"DarkSlateGrey\", \"width\": 1}, \"size\": 10, \"symbol\": \"circle\"}, \"mode\": \"markers\", \"name\": \"Middle East and Northern Africa\", \"orientation\": \"v\", \"showlegend\": true, \"type\": \"scatter\", \"x\": [7.138999999999999, 6.825, 6.375, 6.374, 6.199, 6.021, 5.525, 5.372999999999999, 5.211, 5.207999999999999, 5.197, 4.906000000000001, 4.696000000000001, 4.548, 4.461, 4.437, 4.166, 3.4619999999999997, 3.38], \"xaxis\": \"x\", \"y\": [0.261, 0.262, 0.08, 0.22, 0.255, 0.142, 0.133, 0.083, 0.073, 0.036000000000000004, 0.166, 0.11, 0.10300000000000001, 0.27, 0.059000000000000004, 0.14800000000000002, 0.076, 0.331, 0.10800000000000001], \"yaxis\": \"y\"}, {\"hovertemplate\": \"<b>%{hovertext}</b><br><br>Region=Asia<br>Score=%{x}<br>Generosity=%{y}<extra></extra>\", \"hovertext\": [\"Taiwan\", \"Singapore\", \"Thailand\", \"South Korea\", \"Japan\", \"Pakistan\", \"Philippines\", \"Hong Kong\", \"Malaysia\", \"Mongolia\", \"Indonesia\", \"China\", \"Vietnam\", \"Bhutan\", \"Nepal\", \"Laos\", \"Cambodia\", \"Bangladesh\", \"Sri Lanka\", \"Myanmar\", \"India\", \"Afghanistan\"], \"legendgroup\": \"Asia\", \"marker\": {\"color\": \"#19d3f3\", \"line\": {\"color\": \"DarkSlateGrey\", \"width\": 1}, \"size\": 10, \"symbol\": \"circle\"}, \"mode\": \"markers\", \"name\": \"Asia\", \"orientation\": \"v\", \"showlegend\": true, \"type\": \"scatter\", \"x\": [6.446000000000001, 6.2620000000000005, 6.007999999999999, 5.895, 5.886, 5.653, 5.631, 5.43, 5.3389999999999995, 5.285, 5.192, 5.191, 5.175, 5.082, 4.913, 4.796, 4.7, 4.456, 4.3660000000000005, 4.36, 4.015, 3.2030000000000003], \"xaxis\": \"x\", \"y\": [0.242, 0.271, 0.359, 0.175, 0.069, 0.22, 0.11699999999999999, 0.258, 0.26, 0.235, 0.498, 0.057999999999999996, 0.147, 0.37, 0.285, 0.266, 0.23199999999999998, 0.166, 0.244, 0.5660000000000001, 0.2, 0.158], \"yaxis\": \"y\"}, {\"hovertemplate\": \"<b>%{hovertext}</b><br><br>Region=Sub-Saharan Africa<br>Score=%{x}<br>Generosity=%{y}<extra></extra>\", \"hovertext\": [\"Mauritius\", \"Nigeria\", \"Cameroon\", \"Ghana\", \"Ivory Coast\", \"Benin\", \"Congo (Brazzaville)\", \"Gabon\", \"South Africa\", \"Senegal\", \"Niger\", \"Burkina Faso\", \"Guinea\", \"Kenya\", \"Mauritania\", \"Mozambique\", \"Congo (Kinshasa)\", \"Mali\", \"Sierra Leone\", \"Chad\", \"Ethiopia\", \"Swaziland\", \"Uganda\", \"Zambia\", \"Togo\", \"Liberia\", \"Comoros\", \"Madagascar\", \"Lesotho\", \"Burundi\", \"Zimbabwe\", \"Botswana\", \"Malawi\", \"Rwanda\", \"Tanzania\", \"Central African Republic\"], \"legendgroup\": \"Sub-Saharan Africa\", \"marker\": {\"color\": \"#FF6692\", \"line\": {\"color\": \"DarkSlateGrey\", \"width\": 1}, \"size\": 10, \"symbol\": \"circle\"}, \"mode\": \"markers\", \"name\": \"Sub-Saharan Africa\", \"orientation\": \"v\", \"showlegend\": true, \"type\": \"scatter\", \"x\": [5.888, 5.265, 5.044, 4.996, 4.944, 4.883, 4.812, 4.7989999999999995, 4.7219999999999995, 4.681, 4.628, 4.587, 4.534, 4.5089999999999995, 4.49, 4.466, 4.418, 4.39, 4.374, 4.35, 4.2860000000000005, 4.212, 4.189, 4.107, 4.085, 3.975, 3.9730000000000003, 3.9330000000000003, 3.802, 3.775, 3.6630000000000003, 3.488, 3.41, 3.3339999999999996, 3.2310000000000003, 3.083], \"xaxis\": \"x\", \"y\": [0.215, 0.215, 0.187, 0.245, 0.154, 0.175, 0.105, 0.043, 0.13, 0.153, 0.188, 0.177, 0.207, 0.37200000000000005, 0.106, 0.19699999999999998, 0.212, 0.153, 0.252, 0.198, 0.209, 0.07400000000000001, 0.252, 0.247, 0.177, 0.233, 0.275, 0.16899999999999998, 0.107, 0.17600000000000002, 0.151, 0.025, 0.218, 0.217, 0.276, 0.235], \"yaxis\": \"y\"}],                        {\"height\": 600, \"legend\": {\"title\": {\"text\": \"Region\"}, \"tracegroupgap\": 0}, \"template\": {\"data\": {\"bar\": [{\"error_x\": {\"color\": \"#2a3f5f\"}, \"error_y\": {\"color\": \"#2a3f5f\"}, \"marker\": {\"line\": {\"color\": \"#E5ECF6\", \"width\": 0.5}}, \"type\": \"bar\"}], \"barpolar\": [{\"marker\": {\"line\": {\"color\": \"#E5ECF6\", \"width\": 0.5}}, \"type\": \"barpolar\"}], \"carpet\": [{\"aaxis\": {\"endlinecolor\": \"#2a3f5f\", \"gridcolor\": \"white\", \"linecolor\": \"white\", \"minorgridcolor\": \"white\", \"startlinecolor\": \"#2a3f5f\"}, \"baxis\": {\"endlinecolor\": \"#2a3f5f\", \"gridcolor\": \"white\", \"linecolor\": \"white\", \"minorgridcolor\": \"white\", \"startlinecolor\": \"#2a3f5f\"}, \"type\": \"carpet\"}], \"choropleth\": [{\"colorbar\": {\"outlinewidth\": 0, \"ticks\": \"\"}, \"type\": \"choropleth\"}], \"contour\": [{\"colorbar\": {\"outlinewidth\": 0, \"ticks\": \"\"}, \"colorscale\": [[0.0, \"#0d0887\"], [0.1111111111111111, \"#46039f\"], [0.2222222222222222, \"#7201a8\"], [0.3333333333333333, \"#9c179e\"], [0.4444444444444444, \"#bd3786\"], [0.5555555555555556, \"#d8576b\"], [0.6666666666666666, \"#ed7953\"], [0.7777777777777778, \"#fb9f3a\"], [0.8888888888888888, \"#fdca26\"], [1.0, \"#f0f921\"]], \"type\": \"contour\"}], \"contourcarpet\": [{\"colorbar\": {\"outlinewidth\": 0, \"ticks\": \"\"}, \"type\": \"contourcarpet\"}], \"heatmap\": [{\"colorbar\": {\"outlinewidth\": 0, \"ticks\": \"\"}, \"colorscale\": [[0.0, \"#0d0887\"], [0.1111111111111111, \"#46039f\"], [0.2222222222222222, \"#7201a8\"], [0.3333333333333333, \"#9c179e\"], [0.4444444444444444, \"#bd3786\"], [0.5555555555555556, \"#d8576b\"], [0.6666666666666666, \"#ed7953\"], [0.7777777777777778, \"#fb9f3a\"], [0.8888888888888888, \"#fdca26\"], [1.0, \"#f0f921\"]], \"type\": \"heatmap\"}], \"heatmapgl\": [{\"colorbar\": {\"outlinewidth\": 0, \"ticks\": \"\"}, \"colorscale\": [[0.0, \"#0d0887\"], [0.1111111111111111, \"#46039f\"], [0.2222222222222222, \"#7201a8\"], [0.3333333333333333, \"#9c179e\"], [0.4444444444444444, \"#bd3786\"], [0.5555555555555556, \"#d8576b\"], [0.6666666666666666, \"#ed7953\"], [0.7777777777777778, \"#fb9f3a\"], [0.8888888888888888, \"#fdca26\"], [1.0, \"#f0f921\"]], \"type\": \"heatmapgl\"}], \"histogram\": [{\"marker\": {\"colorbar\": {\"outlinewidth\": 0, \"ticks\": \"\"}}, \"type\": \"histogram\"}], \"histogram2d\": [{\"colorbar\": {\"outlinewidth\": 0, \"ticks\": \"\"}, \"colorscale\": [[0.0, \"#0d0887\"], [0.1111111111111111, \"#46039f\"], [0.2222222222222222, \"#7201a8\"], [0.3333333333333333, \"#9c179e\"], [0.4444444444444444, \"#bd3786\"], [0.5555555555555556, \"#d8576b\"], [0.6666666666666666, \"#ed7953\"], [0.7777777777777778, \"#fb9f3a\"], [0.8888888888888888, \"#fdca26\"], [1.0, \"#f0f921\"]], \"type\": \"histogram2d\"}], \"histogram2dcontour\": [{\"colorbar\": {\"outlinewidth\": 0, \"ticks\": \"\"}, \"colorscale\": [[0.0, \"#0d0887\"], [0.1111111111111111, \"#46039f\"], [0.2222222222222222, \"#7201a8\"], [0.3333333333333333, \"#9c179e\"], [0.4444444444444444, \"#bd3786\"], [0.5555555555555556, \"#d8576b\"], [0.6666666666666666, \"#ed7953\"], [0.7777777777777778, \"#fb9f3a\"], [0.8888888888888888, \"#fdca26\"], [1.0, \"#f0f921\"]], \"type\": \"histogram2dcontour\"}], \"mesh3d\": [{\"colorbar\": {\"outlinewidth\": 0, \"ticks\": \"\"}, \"type\": \"mesh3d\"}], \"parcoords\": [{\"line\": {\"colorbar\": {\"outlinewidth\": 0, \"ticks\": \"\"}}, \"type\": \"parcoords\"}], \"pie\": [{\"automargin\": true, \"type\": \"pie\"}], \"scatter\": [{\"marker\": {\"colorbar\": {\"outlinewidth\": 0, \"ticks\": \"\"}}, \"type\": \"scatter\"}], \"scatter3d\": [{\"line\": {\"colorbar\": {\"outlinewidth\": 0, \"ticks\": \"\"}}, \"marker\": {\"colorbar\": {\"outlinewidth\": 0, \"ticks\": \"\"}}, \"type\": \"scatter3d\"}], \"scattercarpet\": [{\"marker\": {\"colorbar\": {\"outlinewidth\": 0, \"ticks\": \"\"}}, \"type\": \"scattercarpet\"}], \"scattergeo\": [{\"marker\": {\"colorbar\": {\"outlinewidth\": 0, \"ticks\": \"\"}}, \"type\": \"scattergeo\"}], \"scattergl\": [{\"marker\": {\"colorbar\": {\"outlinewidth\": 0, \"ticks\": \"\"}}, \"type\": \"scattergl\"}], \"scattermapbox\": [{\"marker\": {\"colorbar\": {\"outlinewidth\": 0, \"ticks\": \"\"}}, \"type\": \"scattermapbox\"}], \"scatterpolar\": [{\"marker\": {\"colorbar\": {\"outlinewidth\": 0, \"ticks\": \"\"}}, \"type\": \"scatterpolar\"}], \"scatterpolargl\": [{\"marker\": {\"colorbar\": {\"outlinewidth\": 0, \"ticks\": \"\"}}, \"type\": \"scatterpolargl\"}], \"scatterternary\": [{\"marker\": {\"colorbar\": {\"outlinewidth\": 0, \"ticks\": \"\"}}, \"type\": \"scatterternary\"}], \"surface\": [{\"colorbar\": {\"outlinewidth\": 0, \"ticks\": \"\"}, \"colorscale\": [[0.0, \"#0d0887\"], [0.1111111111111111, \"#46039f\"], [0.2222222222222222, \"#7201a8\"], [0.3333333333333333, \"#9c179e\"], [0.4444444444444444, \"#bd3786\"], [0.5555555555555556, \"#d8576b\"], [0.6666666666666666, \"#ed7953\"], [0.7777777777777778, \"#fb9f3a\"], [0.8888888888888888, \"#fdca26\"], [1.0, \"#f0f921\"]], \"type\": \"surface\"}], \"table\": [{\"cells\": {\"fill\": {\"color\": \"#EBF0F8\"}, \"line\": {\"color\": \"white\"}}, \"header\": {\"fill\": {\"color\": \"#C8D4E3\"}, \"line\": {\"color\": \"white\"}}, \"type\": \"table\"}]}, \"layout\": {\"annotationdefaults\": {\"arrowcolor\": \"#2a3f5f\", \"arrowhead\": 0, \"arrowwidth\": 1}, \"autotypenumbers\": \"strict\", \"coloraxis\": {\"colorbar\": {\"outlinewidth\": 0, \"ticks\": \"\"}}, \"colorscale\": {\"diverging\": [[0, \"#8e0152\"], [0.1, \"#c51b7d\"], [0.2, \"#de77ae\"], [0.3, \"#f1b6da\"], [0.4, \"#fde0ef\"], [0.5, \"#f7f7f7\"], [0.6, \"#e6f5d0\"], [0.7, \"#b8e186\"], [0.8, \"#7fbc41\"], [0.9, \"#4d9221\"], [1, \"#276419\"]], \"sequential\": [[0.0, \"#0d0887\"], [0.1111111111111111, \"#46039f\"], [0.2222222222222222, \"#7201a8\"], [0.3333333333333333, \"#9c179e\"], [0.4444444444444444, \"#bd3786\"], [0.5555555555555556, \"#d8576b\"], [0.6666666666666666, \"#ed7953\"], [0.7777777777777778, \"#fb9f3a\"], [0.8888888888888888, \"#fdca26\"], [1.0, \"#f0f921\"]], \"sequentialminus\": [[0.0, \"#0d0887\"], [0.1111111111111111, \"#46039f\"], [0.2222222222222222, \"#7201a8\"], [0.3333333333333333, \"#9c179e\"], [0.4444444444444444, \"#bd3786\"], [0.5555555555555556, \"#d8576b\"], [0.6666666666666666, \"#ed7953\"], [0.7777777777777778, \"#fb9f3a\"], [0.8888888888888888, \"#fdca26\"], [1.0, \"#f0f921\"]]}, \"colorway\": [\"#636efa\", \"#EF553B\", \"#00cc96\", \"#ab63fa\", \"#FFA15A\", \"#19d3f3\", \"#FF6692\", \"#B6E880\", \"#FF97FF\", \"#FECB52\"], \"font\": {\"color\": \"#2a3f5f\"}, \"geo\": {\"bgcolor\": \"white\", \"lakecolor\": \"white\", \"landcolor\": \"#E5ECF6\", \"showlakes\": true, \"showland\": true, \"subunitcolor\": \"white\"}, \"hoverlabel\": {\"align\": \"left\"}, \"hovermode\": \"closest\", \"mapbox\": {\"style\": \"light\"}, \"paper_bgcolor\": \"white\", \"plot_bgcolor\": \"#E5ECF6\", \"polar\": {\"angularaxis\": {\"gridcolor\": \"white\", \"linecolor\": \"white\", \"ticks\": \"\"}, \"bgcolor\": \"#E5ECF6\", \"radialaxis\": {\"gridcolor\": \"white\", \"linecolor\": \"white\", \"ticks\": \"\"}}, \"scene\": {\"xaxis\": {\"backgroundcolor\": \"#E5ECF6\", \"gridcolor\": \"white\", \"gridwidth\": 2, \"linecolor\": \"white\", \"showbackground\": true, \"ticks\": \"\", \"zerolinecolor\": \"white\"}, \"yaxis\": {\"backgroundcolor\": \"#E5ECF6\", \"gridcolor\": \"white\", \"gridwidth\": 2, \"linecolor\": \"white\", \"showbackground\": true, \"ticks\": \"\", \"zerolinecolor\": \"white\"}, \"zaxis\": {\"backgroundcolor\": \"#E5ECF6\", \"gridcolor\": \"white\", \"gridwidth\": 2, \"linecolor\": \"white\", \"showbackground\": true, \"ticks\": \"\", \"zerolinecolor\": \"white\"}}, \"shapedefaults\": {\"line\": {\"color\": \"#2a3f5f\"}}, \"ternary\": {\"aaxis\": {\"gridcolor\": \"white\", \"linecolor\": \"white\", \"ticks\": \"\"}, \"baxis\": {\"gridcolor\": \"white\", \"linecolor\": \"white\", \"ticks\": \"\"}, \"bgcolor\": \"#E5ECF6\", \"caxis\": {\"gridcolor\": \"white\", \"linecolor\": \"white\", \"ticks\": \"\"}}, \"title\": {\"x\": 0.05}, \"xaxis\": {\"automargin\": true, \"gridcolor\": \"white\", \"linecolor\": \"white\", \"ticks\": \"\", \"title\": {\"standoff\": 15}, \"zerolinecolor\": \"white\", \"zerolinewidth\": 2}, \"yaxis\": {\"automargin\": true, \"gridcolor\": \"white\", \"linecolor\": \"white\", \"ticks\": \"\", \"title\": {\"standoff\": 15}, \"zerolinecolor\": \"white\", \"zerolinewidth\": 2}}}, \"title\": {\"text\": \"Happiness Score compared to Generosity Score\"}, \"width\": 1000, \"xaxis\": {\"anchor\": \"y\", \"domain\": [0.0, 1.0], \"range\": [0, 8], \"title\": {\"text\": \"Happiness Score\"}}, \"yaxis\": {\"anchor\": \"x\", \"domain\": [0.0, 1.0], \"title\": {\"text\": \"Generosity Score\"}}},                        {\"responsive\": true}                    ).then(function(){\n",
       "                            \n",
       "var gd = document.getElementById('0131c827-1c3b-49e4-8332-d69be4d7755d');\n",
       "var x = new MutationObserver(function (mutations, observer) {{\n",
       "        var display = window.getComputedStyle(gd).display;\n",
       "        if (!display || display === 'none') {{\n",
       "            console.log([gd, 'removed!']);\n",
       "            Plotly.purge(gd);\n",
       "            observer.disconnect();\n",
       "        }}\n",
       "}});\n",
       "\n",
       "// Listen for the removal of the full notebook cells\n",
       "var notebookContainer = gd.closest('#notebook-container');\n",
       "if (notebookContainer) {{\n",
       "    x.observe(notebookContainer, {childList: true});\n",
       "}}\n",
       "\n",
       "// Listen for the clearing of the current output cell\n",
       "var outputEl = gd.closest('.output');\n",
       "if (outputEl) {{\n",
       "    x.observe(outputEl, {childList: true});\n",
       "}}\n",
       "\n",
       "                        })                };                });            </script>        </div>"
      ]
     },
     "metadata": {},
     "output_type": "display_data"
    }
   ],
   "source": [
    "#happiness score vs generosity\n",
    "\n",
    "#establish x and y values\n",
    "x_values = merged_2019[\"Score\"]\n",
    "y_values = merged_2019[\"Generosity\"]\n",
    "\n",
    "#px.scatter\n",
    "fig = px.scatter(merged_2019, x_values, y_values, color=\"Region\", hover_name=\"Country or region\",\n",
    "                range_x=[0,8], title=\"Happiness Score compared to Generosity Score\",\n",
    "                width= 1000, height =600) # use trendline=\"ols\" to see all lin reg equations\n",
    "\n",
    "#set axes labels\n",
    "fig.update_xaxes(title_text='Happiness Score')\n",
    "fig.update_yaxes(title_text='Generosity Score')\n",
    "\n",
    "\n",
    "#formatting\n",
    "#marker size and colors\n",
    "fig.update_traces(marker=dict(size=10,\n",
    "                              line=dict(width=1, \n",
    "                                        color='DarkSlateGrey')))\n",
    "\n",
    "#linear regression\n",
    "#use linregress from dependencies to inplement linear regression\n",
    "(slope, intercept, rvalue, pvalue, stderr) = linregress(x_values, y_values)\n",
    "regress_values = x_values * slope + intercept\n",
    "\n",
    "#print out all variables calculated above (rvalue, pvalue...)\n",
    "print(f\"slope:{round(slope, 2)}\")\n",
    "print(f\"intercept:{round(intercept,2)}\")\n",
    "res = sts.linregress(x_values, y_values)\n",
    "print(f\"R-squared: {res.rvalue**2:.4f}\")\n",
    "\n",
    "\n",
    "#print out line eq for reference\n",
    "line_eq = (f\"y={round(slope, 2)}x + {round(intercept, 2)}\")\n",
    "print(line_eq)\n",
    "\n",
    "fig.show()"
   ]
  },
  {
   "cell_type": "code",
   "execution_count": 26,
   "metadata": {},
   "outputs": [
    {
     "name": "stdout",
     "output_type": "stream",
     "text": [
      "slope:0.04\n",
      "intercept:-0.08\n",
      "R-squared: 0.1685\n",
      "y=0.04x + -0.08\n"
     ]
    },
    {
     "data": {
      "application/vnd.plotly.v1+json": {
       "config": {
        "plotlyServerURL": "https://plot.ly"
       },
       "data": [
        {
         "hovertemplate": "<b>%{hovertext}</b><br><br>Region=Europe<br>Score=%{x}<br>Perceptions of corruption=%{y}<extra></extra>",
         "hovertext": [
          "Finland",
          "Denmark",
          "Norway",
          "Iceland",
          "Netherlands",
          "Switzerland",
          "Sweden",
          "Austria",
          "Luxembourg",
          "United Kingdom",
          "Ireland",
          "Germany",
          "Belgium",
          "Czech Republic",
          "Malta",
          "France",
          "Spain",
          "Italy",
          "Slovakia",
          "Poland",
          "Uzbekistan",
          "Lithuania",
          "Slovenia",
          "Kosovo",
          "Romania",
          "Cyprus",
          "Latvia",
          "Estonia",
          "Kazakhstan",
          "Hungary",
          "Portugal",
          "Russia",
          "Serbia",
          "Moldova",
          "Montenegro",
          "Tajikistan",
          "Croatia",
          "Bosnia and Herzegovina",
          "Belarus",
          "Greece",
          "Kyrgyzstan",
          "Turkmenistan",
          "Azerbaijan",
          "Bulgaria",
          "Albania",
          "Armenia",
          "Georgia",
          "Ukraine"
         ],
         "legendgroup": "Europe",
         "marker": {
          "color": "#636efa",
          "line": {
           "color": "DarkSlateGrey",
           "width": 1
          },
          "size": 10,
          "symbol": "circle"
         },
         "mode": "markers",
         "name": "Europe",
         "orientation": "v",
         "showlegend": true,
         "type": "scatter",
         "x": [
          7.769,
          7.6,
          7.553999999999999,
          7.494,
          7.4879999999999995,
          7.48,
          7.343,
          7.246,
          7.09,
          7.053999999999999,
          7.021,
          6.985,
          6.922999999999999,
          6.852,
          6.726,
          6.5920000000000005,
          6.354,
          6.223,
          6.1979999999999995,
          6.182,
          6.1739999999999995,
          6.149,
          6.117999999999999,
          6.1,
          6.07,
          6.046,
          5.94,
          5.893,
          5.809,
          5.757999999999999,
          5.693,
          5.648,
          5.603,
          5.529,
          5.523,
          5.4670000000000005,
          5.432,
          5.386,
          5.3229999999999995,
          5.287000000000001,
          5.261,
          5.247000000000001,
          5.207999999999999,
          5.011,
          4.718999999999999,
          4.559,
          4.519,
          4.332
         ],
         "xaxis": "x",
         "y": [
          0.39299999999999996,
          0.41,
          0.341,
          0.11800000000000001,
          0.298,
          0.34299999999999997,
          0.373,
          0.226,
          0.316,
          0.278,
          0.31,
          0.265,
          0.21,
          0.036000000000000004,
          0.151,
          0.183,
          0.079,
          0.03,
          0.013999999999999999,
          0.05,
          0.24,
          0.042,
          0.057,
          0.006,
          0.005,
          0.040999999999999995,
          0.064,
          0.161,
          0.096,
          0.02,
          0.025,
          0.031,
          0.039,
          0,
          0.08,
          0.14400000000000002,
          0.022000000000000002,
          0.006,
          0.142,
          0.034,
          0.023,
          0.027999999999999997,
          0.182,
          0.004,
          0.027000000000000003,
          0.064,
          0.16399999999999998,
          0.01
         ],
         "yaxis": "y"
        },
        {
         "hovertemplate": "<b>%{hovertext}</b><br><br>Region=Australia and New Zealand<br>Score=%{x}<br>Perceptions of corruption=%{y}<extra></extra>",
         "hovertext": [
          "New Zealand",
          "Australia"
         ],
         "legendgroup": "Australia and New Zealand",
         "marker": {
          "color": "#EF553B",
          "line": {
           "color": "DarkSlateGrey",
           "width": 1
          },
          "size": 10,
          "symbol": "circle"
         },
         "mode": "markers",
         "name": "Australia and New Zealand",
         "orientation": "v",
         "showlegend": true,
         "type": "scatter",
         "x": [
          7.307,
          7.228
         ],
         "xaxis": "x",
         "y": [
          0.38,
          0.29
         ],
         "yaxis": "y"
        },
        {
         "hovertemplate": "<b>%{hovertext}</b><br><br>Region=North America<br>Score=%{x}<br>Perceptions of corruption=%{y}<extra></extra>",
         "hovertext": [
          "Canada",
          "United States"
         ],
         "legendgroup": "North America",
         "marker": {
          "color": "#00cc96",
          "line": {
           "color": "DarkSlateGrey",
           "width": 1
          },
          "size": 10,
          "symbol": "circle"
         },
         "mode": "markers",
         "name": "North America",
         "orientation": "v",
         "showlegend": true,
         "type": "scatter",
         "x": [
          7.278,
          6.892
         ],
         "xaxis": "x",
         "y": [
          0.308,
          0.128
         ],
         "yaxis": "y"
        },
        {
         "hovertemplate": "<b>%{hovertext}</b><br><br>Region=Latin America and Caribbean<br>Score=%{x}<br>Perceptions of corruption=%{y}<extra></extra>",
         "hovertext": [
          "Costa Rica",
          "Mexico",
          "Chile",
          "Guatemala",
          "Panama",
          "Brazil",
          "Uruguay",
          "El Salvador",
          "Colombia",
          "Nicaragua",
          "Argentina",
          "Ecuador",
          "Jamaica",
          "Honduras",
          "Bolivia",
          "Paraguay",
          "Peru",
          "Dominican Republic",
          "Venezuela",
          "Haiti"
         ],
         "legendgroup": "Latin America and Caribbean",
         "marker": {
          "color": "#ab63fa",
          "line": {
           "color": "DarkSlateGrey",
           "width": 1
          },
          "size": 10,
          "symbol": "circle"
         },
         "mode": "markers",
         "name": "Latin America and Caribbean",
         "orientation": "v",
         "showlegend": true,
         "type": "scatter",
         "x": [
          7.167000000000001,
          6.595,
          6.444,
          6.436,
          6.321000000000001,
          6.3,
          6.292999999999999,
          6.252999999999999,
          6.125,
          6.105,
          6.086,
          6.028,
          5.89,
          5.86,
          5.779,
          5.742999999999999,
          5.697,
          5.425,
          4.707,
          3.597
         ],
         "xaxis": "x",
         "y": [
          0.09300000000000001,
          0.073,
          0.055999999999999994,
          0.078,
          0.054000000000000006,
          0.086,
          0.15,
          0.07400000000000001,
          0.034,
          0.127,
          0.05,
          0.087,
          0.027999999999999997,
          0.078,
          0.064,
          0.08,
          0.027000000000000003,
          0.10099999999999999,
          0.047,
          0.11
         ],
         "yaxis": "y"
        },
        {
         "hovertemplate": "<b>%{hovertext}</b><br><br>Region=Middle East and Northern Africa<br>Score=%{x}<br>Perceptions of corruption=%{y}<extra></extra>",
         "hovertext": [
          "Israel",
          "United Arab Emirates",
          "Saudi Arabia",
          "Qatar",
          "Bahrain",
          "Kuwait",
          "Libya",
          "Turkey",
          "Algeria",
          "Morocco",
          "Lebanon",
          "Jordan",
          "Palestinian Territories",
          "Iran",
          "Tunisia",
          "Iraq",
          "Egypt",
          "Syria",
          "Yemen"
         ],
         "legendgroup": "Middle East and Northern Africa",
         "marker": {
          "color": "#FFA15A",
          "line": {
           "color": "DarkSlateGrey",
           "width": 1
          },
          "size": 10,
          "symbol": "circle"
         },
         "mode": "markers",
         "name": "Middle East and Northern Africa",
         "orientation": "v",
         "showlegend": true,
         "type": "scatter",
         "x": [
          7.138999999999999,
          6.825,
          6.375,
          6.374,
          6.199,
          6.021,
          5.525,
          5.372999999999999,
          5.211,
          5.207999999999999,
          5.197,
          4.906000000000001,
          4.696000000000001,
          4.548,
          4.461,
          4.437,
          4.166,
          3.4619999999999997,
          3.38
         ],
         "xaxis": "x",
         "y": [
          0.08199999999999999,
          0.182,
          0.132,
          0.16699999999999998,
          0.11,
          0.09699999999999999,
          0.152,
          0.106,
          0.114,
          0.076,
          0.027000000000000003,
          0.13,
          0.066,
          0.125,
          0.055,
          0.08900000000000001,
          0.067,
          0.141,
          0.077
         ],
         "yaxis": "y"
        },
        {
         "hovertemplate": "<b>%{hovertext}</b><br><br>Region=Asia<br>Score=%{x}<br>Perceptions of corruption=%{y}<extra></extra>",
         "hovertext": [
          "Taiwan",
          "Singapore",
          "Thailand",
          "South Korea",
          "Japan",
          "Pakistan",
          "Philippines",
          "Hong Kong",
          "Malaysia",
          "Mongolia",
          "Indonesia",
          "China",
          "Vietnam",
          "Bhutan",
          "Nepal",
          "Laos",
          "Cambodia",
          "Bangladesh",
          "Sri Lanka",
          "Myanmar",
          "India",
          "Afghanistan"
         ],
         "legendgroup": "Asia",
         "marker": {
          "color": "#19d3f3",
          "line": {
           "color": "DarkSlateGrey",
           "width": 1
          },
          "size": 10,
          "symbol": "circle"
         },
         "mode": "markers",
         "name": "Asia",
         "orientation": "v",
         "showlegend": true,
         "type": "scatter",
         "x": [
          6.446000000000001,
          6.2620000000000005,
          6.007999999999999,
          5.895,
          5.886,
          5.653,
          5.631,
          5.43,
          5.3389999999999995,
          5.285,
          5.192,
          5.191,
          5.175,
          5.082,
          4.913,
          4.796,
          4.7,
          4.456,
          4.3660000000000005,
          4.36,
          4.015,
          3.2030000000000003
         ],
         "xaxis": "x",
         "y": [
          0.09699999999999999,
          0.45299999999999996,
          0.027999999999999997,
          0.055999999999999994,
          0.14,
          0.098,
          0.107,
          0.287,
          0.024,
          0.038,
          0.027999999999999997,
          0.1,
          0.073,
          0.16699999999999998,
          0.08900000000000001,
          0.16399999999999998,
          0.062,
          0.14300000000000002,
          0.047,
          0.172,
          0.085,
          0.025
         ],
         "yaxis": "y"
        },
        {
         "hovertemplate": "<b>%{hovertext}</b><br><br>Region=Sub-Saharan Africa<br>Score=%{x}<br>Perceptions of corruption=%{y}<extra></extra>",
         "hovertext": [
          "Mauritius",
          "Nigeria",
          "Cameroon",
          "Ghana",
          "Ivory Coast",
          "Benin",
          "Congo (Brazzaville)",
          "Gabon",
          "South Africa",
          "Senegal",
          "Niger",
          "Burkina Faso",
          "Guinea",
          "Kenya",
          "Mauritania",
          "Mozambique",
          "Congo (Kinshasa)",
          "Mali",
          "Sierra Leone",
          "Chad",
          "Ethiopia",
          "Swaziland",
          "Uganda",
          "Zambia",
          "Togo",
          "Liberia",
          "Comoros",
          "Madagascar",
          "Lesotho",
          "Burundi",
          "Zimbabwe",
          "Botswana",
          "Malawi",
          "Rwanda",
          "Tanzania",
          "Central African Republic"
         ],
         "legendgroup": "Sub-Saharan Africa",
         "marker": {
          "color": "#FF6692",
          "line": {
           "color": "DarkSlateGrey",
           "width": 1
          },
          "size": 10,
          "symbol": "circle"
         },
         "mode": "markers",
         "name": "Sub-Saharan Africa",
         "orientation": "v",
         "showlegend": true,
         "type": "scatter",
         "x": [
          5.888,
          5.265,
          5.044,
          4.996,
          4.944,
          4.883,
          4.812,
          4.7989999999999995,
          4.7219999999999995,
          4.681,
          4.628,
          4.587,
          4.534,
          4.5089999999999995,
          4.49,
          4.466,
          4.418,
          4.39,
          4.374,
          4.35,
          4.2860000000000005,
          4.212,
          4.189,
          4.107,
          4.085,
          3.975,
          3.9730000000000003,
          3.9330000000000003,
          3.802,
          3.775,
          3.6630000000000003,
          3.488,
          3.41,
          3.3339999999999996,
          3.2310000000000003,
          3.083
         ],
         "xaxis": "x",
         "y": [
          0.06,
          0.040999999999999995,
          0.037000000000000005,
          0.04,
          0.09,
          0.08199999999999999,
          0.09300000000000001,
          0.055,
          0.055,
          0.07200000000000001,
          0.102,
          0.113,
          0.086,
          0.053,
          0.08800000000000001,
          0.138,
          0.053,
          0.052000000000000005,
          0.045,
          0.078,
          0.1,
          0.135,
          0.06,
          0.087,
          0.085,
          0.033,
          0.078,
          0.040999999999999995,
          0.09300000000000001,
          0.18,
          0.08900000000000001,
          0.1,
          0.08900000000000001,
          0.41100000000000003,
          0.147,
          0.035
         ],
         "yaxis": "y"
        }
       ],
       "layout": {
        "height": 600,
        "legend": {
         "title": {
          "text": "Region"
         },
         "tracegroupgap": 0
        },
        "template": {
         "data": {
          "bar": [
           {
            "error_x": {
             "color": "#2a3f5f"
            },
            "error_y": {
             "color": "#2a3f5f"
            },
            "marker": {
             "line": {
              "color": "#E5ECF6",
              "width": 0.5
             }
            },
            "type": "bar"
           }
          ],
          "barpolar": [
           {
            "marker": {
             "line": {
              "color": "#E5ECF6",
              "width": 0.5
             }
            },
            "type": "barpolar"
           }
          ],
          "carpet": [
           {
            "aaxis": {
             "endlinecolor": "#2a3f5f",
             "gridcolor": "white",
             "linecolor": "white",
             "minorgridcolor": "white",
             "startlinecolor": "#2a3f5f"
            },
            "baxis": {
             "endlinecolor": "#2a3f5f",
             "gridcolor": "white",
             "linecolor": "white",
             "minorgridcolor": "white",
             "startlinecolor": "#2a3f5f"
            },
            "type": "carpet"
           }
          ],
          "choropleth": [
           {
            "colorbar": {
             "outlinewidth": 0,
             "ticks": ""
            },
            "type": "choropleth"
           }
          ],
          "contour": [
           {
            "colorbar": {
             "outlinewidth": 0,
             "ticks": ""
            },
            "colorscale": [
             [
              0,
              "#0d0887"
             ],
             [
              0.1111111111111111,
              "#46039f"
             ],
             [
              0.2222222222222222,
              "#7201a8"
             ],
             [
              0.3333333333333333,
              "#9c179e"
             ],
             [
              0.4444444444444444,
              "#bd3786"
             ],
             [
              0.5555555555555556,
              "#d8576b"
             ],
             [
              0.6666666666666666,
              "#ed7953"
             ],
             [
              0.7777777777777778,
              "#fb9f3a"
             ],
             [
              0.8888888888888888,
              "#fdca26"
             ],
             [
              1,
              "#f0f921"
             ]
            ],
            "type": "contour"
           }
          ],
          "contourcarpet": [
           {
            "colorbar": {
             "outlinewidth": 0,
             "ticks": ""
            },
            "type": "contourcarpet"
           }
          ],
          "heatmap": [
           {
            "colorbar": {
             "outlinewidth": 0,
             "ticks": ""
            },
            "colorscale": [
             [
              0,
              "#0d0887"
             ],
             [
              0.1111111111111111,
              "#46039f"
             ],
             [
              0.2222222222222222,
              "#7201a8"
             ],
             [
              0.3333333333333333,
              "#9c179e"
             ],
             [
              0.4444444444444444,
              "#bd3786"
             ],
             [
              0.5555555555555556,
              "#d8576b"
             ],
             [
              0.6666666666666666,
              "#ed7953"
             ],
             [
              0.7777777777777778,
              "#fb9f3a"
             ],
             [
              0.8888888888888888,
              "#fdca26"
             ],
             [
              1,
              "#f0f921"
             ]
            ],
            "type": "heatmap"
           }
          ],
          "heatmapgl": [
           {
            "colorbar": {
             "outlinewidth": 0,
             "ticks": ""
            },
            "colorscale": [
             [
              0,
              "#0d0887"
             ],
             [
              0.1111111111111111,
              "#46039f"
             ],
             [
              0.2222222222222222,
              "#7201a8"
             ],
             [
              0.3333333333333333,
              "#9c179e"
             ],
             [
              0.4444444444444444,
              "#bd3786"
             ],
             [
              0.5555555555555556,
              "#d8576b"
             ],
             [
              0.6666666666666666,
              "#ed7953"
             ],
             [
              0.7777777777777778,
              "#fb9f3a"
             ],
             [
              0.8888888888888888,
              "#fdca26"
             ],
             [
              1,
              "#f0f921"
             ]
            ],
            "type": "heatmapgl"
           }
          ],
          "histogram": [
           {
            "marker": {
             "colorbar": {
              "outlinewidth": 0,
              "ticks": ""
             }
            },
            "type": "histogram"
           }
          ],
          "histogram2d": [
           {
            "colorbar": {
             "outlinewidth": 0,
             "ticks": ""
            },
            "colorscale": [
             [
              0,
              "#0d0887"
             ],
             [
              0.1111111111111111,
              "#46039f"
             ],
             [
              0.2222222222222222,
              "#7201a8"
             ],
             [
              0.3333333333333333,
              "#9c179e"
             ],
             [
              0.4444444444444444,
              "#bd3786"
             ],
             [
              0.5555555555555556,
              "#d8576b"
             ],
             [
              0.6666666666666666,
              "#ed7953"
             ],
             [
              0.7777777777777778,
              "#fb9f3a"
             ],
             [
              0.8888888888888888,
              "#fdca26"
             ],
             [
              1,
              "#f0f921"
             ]
            ],
            "type": "histogram2d"
           }
          ],
          "histogram2dcontour": [
           {
            "colorbar": {
             "outlinewidth": 0,
             "ticks": ""
            },
            "colorscale": [
             [
              0,
              "#0d0887"
             ],
             [
              0.1111111111111111,
              "#46039f"
             ],
             [
              0.2222222222222222,
              "#7201a8"
             ],
             [
              0.3333333333333333,
              "#9c179e"
             ],
             [
              0.4444444444444444,
              "#bd3786"
             ],
             [
              0.5555555555555556,
              "#d8576b"
             ],
             [
              0.6666666666666666,
              "#ed7953"
             ],
             [
              0.7777777777777778,
              "#fb9f3a"
             ],
             [
              0.8888888888888888,
              "#fdca26"
             ],
             [
              1,
              "#f0f921"
             ]
            ],
            "type": "histogram2dcontour"
           }
          ],
          "mesh3d": [
           {
            "colorbar": {
             "outlinewidth": 0,
             "ticks": ""
            },
            "type": "mesh3d"
           }
          ],
          "parcoords": [
           {
            "line": {
             "colorbar": {
              "outlinewidth": 0,
              "ticks": ""
             }
            },
            "type": "parcoords"
           }
          ],
          "pie": [
           {
            "automargin": true,
            "type": "pie"
           }
          ],
          "scatter": [
           {
            "marker": {
             "colorbar": {
              "outlinewidth": 0,
              "ticks": ""
             }
            },
            "type": "scatter"
           }
          ],
          "scatter3d": [
           {
            "line": {
             "colorbar": {
              "outlinewidth": 0,
              "ticks": ""
             }
            },
            "marker": {
             "colorbar": {
              "outlinewidth": 0,
              "ticks": ""
             }
            },
            "type": "scatter3d"
           }
          ],
          "scattercarpet": [
           {
            "marker": {
             "colorbar": {
              "outlinewidth": 0,
              "ticks": ""
             }
            },
            "type": "scattercarpet"
           }
          ],
          "scattergeo": [
           {
            "marker": {
             "colorbar": {
              "outlinewidth": 0,
              "ticks": ""
             }
            },
            "type": "scattergeo"
           }
          ],
          "scattergl": [
           {
            "marker": {
             "colorbar": {
              "outlinewidth": 0,
              "ticks": ""
             }
            },
            "type": "scattergl"
           }
          ],
          "scattermapbox": [
           {
            "marker": {
             "colorbar": {
              "outlinewidth": 0,
              "ticks": ""
             }
            },
            "type": "scattermapbox"
           }
          ],
          "scatterpolar": [
           {
            "marker": {
             "colorbar": {
              "outlinewidth": 0,
              "ticks": ""
             }
            },
            "type": "scatterpolar"
           }
          ],
          "scatterpolargl": [
           {
            "marker": {
             "colorbar": {
              "outlinewidth": 0,
              "ticks": ""
             }
            },
            "type": "scatterpolargl"
           }
          ],
          "scatterternary": [
           {
            "marker": {
             "colorbar": {
              "outlinewidth": 0,
              "ticks": ""
             }
            },
            "type": "scatterternary"
           }
          ],
          "surface": [
           {
            "colorbar": {
             "outlinewidth": 0,
             "ticks": ""
            },
            "colorscale": [
             [
              0,
              "#0d0887"
             ],
             [
              0.1111111111111111,
              "#46039f"
             ],
             [
              0.2222222222222222,
              "#7201a8"
             ],
             [
              0.3333333333333333,
              "#9c179e"
             ],
             [
              0.4444444444444444,
              "#bd3786"
             ],
             [
              0.5555555555555556,
              "#d8576b"
             ],
             [
              0.6666666666666666,
              "#ed7953"
             ],
             [
              0.7777777777777778,
              "#fb9f3a"
             ],
             [
              0.8888888888888888,
              "#fdca26"
             ],
             [
              1,
              "#f0f921"
             ]
            ],
            "type": "surface"
           }
          ],
          "table": [
           {
            "cells": {
             "fill": {
              "color": "#EBF0F8"
             },
             "line": {
              "color": "white"
             }
            },
            "header": {
             "fill": {
              "color": "#C8D4E3"
             },
             "line": {
              "color": "white"
             }
            },
            "type": "table"
           }
          ]
         },
         "layout": {
          "annotationdefaults": {
           "arrowcolor": "#2a3f5f",
           "arrowhead": 0,
           "arrowwidth": 1
          },
          "autotypenumbers": "strict",
          "coloraxis": {
           "colorbar": {
            "outlinewidth": 0,
            "ticks": ""
           }
          },
          "colorscale": {
           "diverging": [
            [
             0,
             "#8e0152"
            ],
            [
             0.1,
             "#c51b7d"
            ],
            [
             0.2,
             "#de77ae"
            ],
            [
             0.3,
             "#f1b6da"
            ],
            [
             0.4,
             "#fde0ef"
            ],
            [
             0.5,
             "#f7f7f7"
            ],
            [
             0.6,
             "#e6f5d0"
            ],
            [
             0.7,
             "#b8e186"
            ],
            [
             0.8,
             "#7fbc41"
            ],
            [
             0.9,
             "#4d9221"
            ],
            [
             1,
             "#276419"
            ]
           ],
           "sequential": [
            [
             0,
             "#0d0887"
            ],
            [
             0.1111111111111111,
             "#46039f"
            ],
            [
             0.2222222222222222,
             "#7201a8"
            ],
            [
             0.3333333333333333,
             "#9c179e"
            ],
            [
             0.4444444444444444,
             "#bd3786"
            ],
            [
             0.5555555555555556,
             "#d8576b"
            ],
            [
             0.6666666666666666,
             "#ed7953"
            ],
            [
             0.7777777777777778,
             "#fb9f3a"
            ],
            [
             0.8888888888888888,
             "#fdca26"
            ],
            [
             1,
             "#f0f921"
            ]
           ],
           "sequentialminus": [
            [
             0,
             "#0d0887"
            ],
            [
             0.1111111111111111,
             "#46039f"
            ],
            [
             0.2222222222222222,
             "#7201a8"
            ],
            [
             0.3333333333333333,
             "#9c179e"
            ],
            [
             0.4444444444444444,
             "#bd3786"
            ],
            [
             0.5555555555555556,
             "#d8576b"
            ],
            [
             0.6666666666666666,
             "#ed7953"
            ],
            [
             0.7777777777777778,
             "#fb9f3a"
            ],
            [
             0.8888888888888888,
             "#fdca26"
            ],
            [
             1,
             "#f0f921"
            ]
           ]
          },
          "colorway": [
           "#636efa",
           "#EF553B",
           "#00cc96",
           "#ab63fa",
           "#FFA15A",
           "#19d3f3",
           "#FF6692",
           "#B6E880",
           "#FF97FF",
           "#FECB52"
          ],
          "font": {
           "color": "#2a3f5f"
          },
          "geo": {
           "bgcolor": "white",
           "lakecolor": "white",
           "landcolor": "#E5ECF6",
           "showlakes": true,
           "showland": true,
           "subunitcolor": "white"
          },
          "hoverlabel": {
           "align": "left"
          },
          "hovermode": "closest",
          "mapbox": {
           "style": "light"
          },
          "paper_bgcolor": "white",
          "plot_bgcolor": "#E5ECF6",
          "polar": {
           "angularaxis": {
            "gridcolor": "white",
            "linecolor": "white",
            "ticks": ""
           },
           "bgcolor": "#E5ECF6",
           "radialaxis": {
            "gridcolor": "white",
            "linecolor": "white",
            "ticks": ""
           }
          },
          "scene": {
           "xaxis": {
            "backgroundcolor": "#E5ECF6",
            "gridcolor": "white",
            "gridwidth": 2,
            "linecolor": "white",
            "showbackground": true,
            "ticks": "",
            "zerolinecolor": "white"
           },
           "yaxis": {
            "backgroundcolor": "#E5ECF6",
            "gridcolor": "white",
            "gridwidth": 2,
            "linecolor": "white",
            "showbackground": true,
            "ticks": "",
            "zerolinecolor": "white"
           },
           "zaxis": {
            "backgroundcolor": "#E5ECF6",
            "gridcolor": "white",
            "gridwidth": 2,
            "linecolor": "white",
            "showbackground": true,
            "ticks": "",
            "zerolinecolor": "white"
           }
          },
          "shapedefaults": {
           "line": {
            "color": "#2a3f5f"
           }
          },
          "ternary": {
           "aaxis": {
            "gridcolor": "white",
            "linecolor": "white",
            "ticks": ""
           },
           "baxis": {
            "gridcolor": "white",
            "linecolor": "white",
            "ticks": ""
           },
           "bgcolor": "#E5ECF6",
           "caxis": {
            "gridcolor": "white",
            "linecolor": "white",
            "ticks": ""
           }
          },
          "title": {
           "x": 0.05
          },
          "xaxis": {
           "automargin": true,
           "gridcolor": "white",
           "linecolor": "white",
           "ticks": "",
           "title": {
            "standoff": 15
           },
           "zerolinecolor": "white",
           "zerolinewidth": 2
          },
          "yaxis": {
           "automargin": true,
           "gridcolor": "white",
           "linecolor": "white",
           "ticks": "",
           "title": {
            "standoff": 15
           },
           "zerolinecolor": "white",
           "zerolinewidth": 2
          }
         }
        },
        "title": {
         "text": "Happiness Score compared to Perception of Corruption Score"
        },
        "width": 1000,
        "xaxis": {
         "anchor": "y",
         "domain": [
          0,
          1
         ],
         "range": [
          0,
          8
         ],
         "title": {
          "text": "Happiness Score"
         }
        },
        "yaxis": {
         "anchor": "x",
         "domain": [
          0,
          1
         ],
         "title": {
          "text": "Perception of Corruption Score"
         }
        }
       }
      },
      "text/html": [
       "<div>                            <div id=\"867e507b-cf05-4753-ac12-f95cfadf5988\" class=\"plotly-graph-div\" style=\"height:600px; width:1000px;\"></div>            <script type=\"text/javascript\">                require([\"plotly\"], function(Plotly) {                    window.PLOTLYENV=window.PLOTLYENV || {};                                    if (document.getElementById(\"867e507b-cf05-4753-ac12-f95cfadf5988\")) {                    Plotly.newPlot(                        \"867e507b-cf05-4753-ac12-f95cfadf5988\",                        [{\"hovertemplate\": \"<b>%{hovertext}</b><br><br>Region=Europe<br>Score=%{x}<br>Perceptions of corruption=%{y}<extra></extra>\", \"hovertext\": [\"Finland\", \"Denmark\", \"Norway\", \"Iceland\", \"Netherlands\", \"Switzerland\", \"Sweden\", \"Austria\", \"Luxembourg\", \"United Kingdom\", \"Ireland\", \"Germany\", \"Belgium\", \"Czech Republic\", \"Malta\", \"France\", \"Spain\", \"Italy\", \"Slovakia\", \"Poland\", \"Uzbekistan\", \"Lithuania\", \"Slovenia\", \"Kosovo\", \"Romania\", \"Cyprus\", \"Latvia\", \"Estonia\", \"Kazakhstan\", \"Hungary\", \"Portugal\", \"Russia\", \"Serbia\", \"Moldova\", \"Montenegro\", \"Tajikistan\", \"Croatia\", \"Bosnia and Herzegovina\", \"Belarus\", \"Greece\", \"Kyrgyzstan\", \"Turkmenistan\", \"Azerbaijan\", \"Bulgaria\", \"Albania\", \"Armenia\", \"Georgia\", \"Ukraine\"], \"legendgroup\": \"Europe\", \"marker\": {\"color\": \"#636efa\", \"line\": {\"color\": \"DarkSlateGrey\", \"width\": 1}, \"size\": 10, \"symbol\": \"circle\"}, \"mode\": \"markers\", \"name\": \"Europe\", \"orientation\": \"v\", \"showlegend\": true, \"type\": \"scatter\", \"x\": [7.769, 7.6, 7.553999999999999, 7.494, 7.4879999999999995, 7.48, 7.343, 7.246, 7.09, 7.053999999999999, 7.021, 6.985, 6.922999999999999, 6.852, 6.726, 6.5920000000000005, 6.354, 6.223, 6.1979999999999995, 6.182, 6.1739999999999995, 6.149, 6.117999999999999, 6.1, 6.07, 6.046, 5.94, 5.893, 5.809, 5.757999999999999, 5.693, 5.648, 5.603, 5.529, 5.523, 5.4670000000000005, 5.432, 5.386, 5.3229999999999995, 5.287000000000001, 5.261, 5.247000000000001, 5.207999999999999, 5.011, 4.718999999999999, 4.559, 4.519, 4.332], \"xaxis\": \"x\", \"y\": [0.39299999999999996, 0.41, 0.341, 0.11800000000000001, 0.298, 0.34299999999999997, 0.373, 0.226, 0.316, 0.278, 0.31, 0.265, 0.21, 0.036000000000000004, 0.151, 0.183, 0.079, 0.03, 0.013999999999999999, 0.05, 0.24, 0.042, 0.057, 0.006, 0.005, 0.040999999999999995, 0.064, 0.161, 0.096, 0.02, 0.025, 0.031, 0.039, 0.0, 0.08, 0.14400000000000002, 0.022000000000000002, 0.006, 0.142, 0.034, 0.023, 0.027999999999999997, 0.182, 0.004, 0.027000000000000003, 0.064, 0.16399999999999998, 0.01], \"yaxis\": \"y\"}, {\"hovertemplate\": \"<b>%{hovertext}</b><br><br>Region=Australia and New Zealand<br>Score=%{x}<br>Perceptions of corruption=%{y}<extra></extra>\", \"hovertext\": [\"New Zealand\", \"Australia\"], \"legendgroup\": \"Australia and New Zealand\", \"marker\": {\"color\": \"#EF553B\", \"line\": {\"color\": \"DarkSlateGrey\", \"width\": 1}, \"size\": 10, \"symbol\": \"circle\"}, \"mode\": \"markers\", \"name\": \"Australia and New Zealand\", \"orientation\": \"v\", \"showlegend\": true, \"type\": \"scatter\", \"x\": [7.307, 7.228], \"xaxis\": \"x\", \"y\": [0.38, 0.29], \"yaxis\": \"y\"}, {\"hovertemplate\": \"<b>%{hovertext}</b><br><br>Region=North America<br>Score=%{x}<br>Perceptions of corruption=%{y}<extra></extra>\", \"hovertext\": [\"Canada\", \"United States\"], \"legendgroup\": \"North America\", \"marker\": {\"color\": \"#00cc96\", \"line\": {\"color\": \"DarkSlateGrey\", \"width\": 1}, \"size\": 10, \"symbol\": \"circle\"}, \"mode\": \"markers\", \"name\": \"North America\", \"orientation\": \"v\", \"showlegend\": true, \"type\": \"scatter\", \"x\": [7.278, 6.892], \"xaxis\": \"x\", \"y\": [0.308, 0.128], \"yaxis\": \"y\"}, {\"hovertemplate\": \"<b>%{hovertext}</b><br><br>Region=Latin America and Caribbean<br>Score=%{x}<br>Perceptions of corruption=%{y}<extra></extra>\", \"hovertext\": [\"Costa Rica\", \"Mexico\", \"Chile\", \"Guatemala\", \"Panama\", \"Brazil\", \"Uruguay\", \"El Salvador\", \"Colombia\", \"Nicaragua\", \"Argentina\", \"Ecuador\", \"Jamaica\", \"Honduras\", \"Bolivia\", \"Paraguay\", \"Peru\", \"Dominican Republic\", \"Venezuela\", \"Haiti\"], \"legendgroup\": \"Latin America and Caribbean\", \"marker\": {\"color\": \"#ab63fa\", \"line\": {\"color\": \"DarkSlateGrey\", \"width\": 1}, \"size\": 10, \"symbol\": \"circle\"}, \"mode\": \"markers\", \"name\": \"Latin America and Caribbean\", \"orientation\": \"v\", \"showlegend\": true, \"type\": \"scatter\", \"x\": [7.167000000000001, 6.595, 6.444, 6.436, 6.321000000000001, 6.3, 6.292999999999999, 6.252999999999999, 6.125, 6.105, 6.086, 6.028, 5.89, 5.86, 5.779, 5.742999999999999, 5.697, 5.425, 4.707, 3.597], \"xaxis\": \"x\", \"y\": [0.09300000000000001, 0.073, 0.055999999999999994, 0.078, 0.054000000000000006, 0.086, 0.15, 0.07400000000000001, 0.034, 0.127, 0.05, 0.087, 0.027999999999999997, 0.078, 0.064, 0.08, 0.027000000000000003, 0.10099999999999999, 0.047, 0.11], \"yaxis\": \"y\"}, {\"hovertemplate\": \"<b>%{hovertext}</b><br><br>Region=Middle East and Northern Africa<br>Score=%{x}<br>Perceptions of corruption=%{y}<extra></extra>\", \"hovertext\": [\"Israel\", \"United Arab Emirates\", \"Saudi Arabia\", \"Qatar\", \"Bahrain\", \"Kuwait\", \"Libya\", \"Turkey\", \"Algeria\", \"Morocco\", \"Lebanon\", \"Jordan\", \"Palestinian Territories\", \"Iran\", \"Tunisia\", \"Iraq\", \"Egypt\", \"Syria\", \"Yemen\"], \"legendgroup\": \"Middle East and Northern Africa\", \"marker\": {\"color\": \"#FFA15A\", \"line\": {\"color\": \"DarkSlateGrey\", \"width\": 1}, \"size\": 10, \"symbol\": \"circle\"}, \"mode\": \"markers\", \"name\": \"Middle East and Northern Africa\", \"orientation\": \"v\", \"showlegend\": true, \"type\": \"scatter\", \"x\": [7.138999999999999, 6.825, 6.375, 6.374, 6.199, 6.021, 5.525, 5.372999999999999, 5.211, 5.207999999999999, 5.197, 4.906000000000001, 4.696000000000001, 4.548, 4.461, 4.437, 4.166, 3.4619999999999997, 3.38], \"xaxis\": \"x\", \"y\": [0.08199999999999999, 0.182, 0.132, 0.16699999999999998, 0.11, 0.09699999999999999, 0.152, 0.106, 0.114, 0.076, 0.027000000000000003, 0.13, 0.066, 0.125, 0.055, 0.08900000000000001, 0.067, 0.141, 0.077], \"yaxis\": \"y\"}, {\"hovertemplate\": \"<b>%{hovertext}</b><br><br>Region=Asia<br>Score=%{x}<br>Perceptions of corruption=%{y}<extra></extra>\", \"hovertext\": [\"Taiwan\", \"Singapore\", \"Thailand\", \"South Korea\", \"Japan\", \"Pakistan\", \"Philippines\", \"Hong Kong\", \"Malaysia\", \"Mongolia\", \"Indonesia\", \"China\", \"Vietnam\", \"Bhutan\", \"Nepal\", \"Laos\", \"Cambodia\", \"Bangladesh\", \"Sri Lanka\", \"Myanmar\", \"India\", \"Afghanistan\"], \"legendgroup\": \"Asia\", \"marker\": {\"color\": \"#19d3f3\", \"line\": {\"color\": \"DarkSlateGrey\", \"width\": 1}, \"size\": 10, \"symbol\": \"circle\"}, \"mode\": \"markers\", \"name\": \"Asia\", \"orientation\": \"v\", \"showlegend\": true, \"type\": \"scatter\", \"x\": [6.446000000000001, 6.2620000000000005, 6.007999999999999, 5.895, 5.886, 5.653, 5.631, 5.43, 5.3389999999999995, 5.285, 5.192, 5.191, 5.175, 5.082, 4.913, 4.796, 4.7, 4.456, 4.3660000000000005, 4.36, 4.015, 3.2030000000000003], \"xaxis\": \"x\", \"y\": [0.09699999999999999, 0.45299999999999996, 0.027999999999999997, 0.055999999999999994, 0.14, 0.098, 0.107, 0.287, 0.024, 0.038, 0.027999999999999997, 0.1, 0.073, 0.16699999999999998, 0.08900000000000001, 0.16399999999999998, 0.062, 0.14300000000000002, 0.047, 0.172, 0.085, 0.025], \"yaxis\": \"y\"}, {\"hovertemplate\": \"<b>%{hovertext}</b><br><br>Region=Sub-Saharan Africa<br>Score=%{x}<br>Perceptions of corruption=%{y}<extra></extra>\", \"hovertext\": [\"Mauritius\", \"Nigeria\", \"Cameroon\", \"Ghana\", \"Ivory Coast\", \"Benin\", \"Congo (Brazzaville)\", \"Gabon\", \"South Africa\", \"Senegal\", \"Niger\", \"Burkina Faso\", \"Guinea\", \"Kenya\", \"Mauritania\", \"Mozambique\", \"Congo (Kinshasa)\", \"Mali\", \"Sierra Leone\", \"Chad\", \"Ethiopia\", \"Swaziland\", \"Uganda\", \"Zambia\", \"Togo\", \"Liberia\", \"Comoros\", \"Madagascar\", \"Lesotho\", \"Burundi\", \"Zimbabwe\", \"Botswana\", \"Malawi\", \"Rwanda\", \"Tanzania\", \"Central African Republic\"], \"legendgroup\": \"Sub-Saharan Africa\", \"marker\": {\"color\": \"#FF6692\", \"line\": {\"color\": \"DarkSlateGrey\", \"width\": 1}, \"size\": 10, \"symbol\": \"circle\"}, \"mode\": \"markers\", \"name\": \"Sub-Saharan Africa\", \"orientation\": \"v\", \"showlegend\": true, \"type\": \"scatter\", \"x\": [5.888, 5.265, 5.044, 4.996, 4.944, 4.883, 4.812, 4.7989999999999995, 4.7219999999999995, 4.681, 4.628, 4.587, 4.534, 4.5089999999999995, 4.49, 4.466, 4.418, 4.39, 4.374, 4.35, 4.2860000000000005, 4.212, 4.189, 4.107, 4.085, 3.975, 3.9730000000000003, 3.9330000000000003, 3.802, 3.775, 3.6630000000000003, 3.488, 3.41, 3.3339999999999996, 3.2310000000000003, 3.083], \"xaxis\": \"x\", \"y\": [0.06, 0.040999999999999995, 0.037000000000000005, 0.04, 0.09, 0.08199999999999999, 0.09300000000000001, 0.055, 0.055, 0.07200000000000001, 0.102, 0.113, 0.086, 0.053, 0.08800000000000001, 0.138, 0.053, 0.052000000000000005, 0.045, 0.078, 0.1, 0.135, 0.06, 0.087, 0.085, 0.033, 0.078, 0.040999999999999995, 0.09300000000000001, 0.18, 0.08900000000000001, 0.1, 0.08900000000000001, 0.41100000000000003, 0.147, 0.035], \"yaxis\": \"y\"}],                        {\"height\": 600, \"legend\": {\"title\": {\"text\": \"Region\"}, \"tracegroupgap\": 0}, \"template\": {\"data\": {\"bar\": [{\"error_x\": {\"color\": \"#2a3f5f\"}, \"error_y\": {\"color\": \"#2a3f5f\"}, \"marker\": {\"line\": {\"color\": \"#E5ECF6\", \"width\": 0.5}}, \"type\": \"bar\"}], \"barpolar\": [{\"marker\": {\"line\": {\"color\": \"#E5ECF6\", \"width\": 0.5}}, \"type\": \"barpolar\"}], \"carpet\": [{\"aaxis\": {\"endlinecolor\": \"#2a3f5f\", \"gridcolor\": \"white\", \"linecolor\": \"white\", \"minorgridcolor\": \"white\", \"startlinecolor\": \"#2a3f5f\"}, \"baxis\": {\"endlinecolor\": \"#2a3f5f\", \"gridcolor\": \"white\", \"linecolor\": \"white\", \"minorgridcolor\": \"white\", \"startlinecolor\": \"#2a3f5f\"}, \"type\": \"carpet\"}], \"choropleth\": [{\"colorbar\": {\"outlinewidth\": 0, \"ticks\": \"\"}, \"type\": \"choropleth\"}], \"contour\": [{\"colorbar\": {\"outlinewidth\": 0, \"ticks\": \"\"}, \"colorscale\": [[0.0, \"#0d0887\"], [0.1111111111111111, \"#46039f\"], [0.2222222222222222, \"#7201a8\"], [0.3333333333333333, \"#9c179e\"], [0.4444444444444444, \"#bd3786\"], [0.5555555555555556, \"#d8576b\"], [0.6666666666666666, \"#ed7953\"], [0.7777777777777778, \"#fb9f3a\"], [0.8888888888888888, \"#fdca26\"], [1.0, \"#f0f921\"]], \"type\": \"contour\"}], \"contourcarpet\": [{\"colorbar\": {\"outlinewidth\": 0, \"ticks\": \"\"}, \"type\": \"contourcarpet\"}], \"heatmap\": [{\"colorbar\": {\"outlinewidth\": 0, \"ticks\": \"\"}, \"colorscale\": [[0.0, \"#0d0887\"], [0.1111111111111111, \"#46039f\"], [0.2222222222222222, \"#7201a8\"], [0.3333333333333333, \"#9c179e\"], [0.4444444444444444, \"#bd3786\"], [0.5555555555555556, \"#d8576b\"], [0.6666666666666666, \"#ed7953\"], [0.7777777777777778, \"#fb9f3a\"], [0.8888888888888888, \"#fdca26\"], [1.0, \"#f0f921\"]], \"type\": \"heatmap\"}], \"heatmapgl\": [{\"colorbar\": {\"outlinewidth\": 0, \"ticks\": \"\"}, \"colorscale\": [[0.0, \"#0d0887\"], [0.1111111111111111, \"#46039f\"], [0.2222222222222222, \"#7201a8\"], [0.3333333333333333, \"#9c179e\"], [0.4444444444444444, \"#bd3786\"], [0.5555555555555556, \"#d8576b\"], [0.6666666666666666, \"#ed7953\"], [0.7777777777777778, \"#fb9f3a\"], [0.8888888888888888, \"#fdca26\"], [1.0, \"#f0f921\"]], \"type\": \"heatmapgl\"}], \"histogram\": [{\"marker\": {\"colorbar\": {\"outlinewidth\": 0, \"ticks\": \"\"}}, \"type\": \"histogram\"}], \"histogram2d\": [{\"colorbar\": {\"outlinewidth\": 0, \"ticks\": \"\"}, \"colorscale\": [[0.0, \"#0d0887\"], [0.1111111111111111, \"#46039f\"], [0.2222222222222222, \"#7201a8\"], [0.3333333333333333, \"#9c179e\"], [0.4444444444444444, \"#bd3786\"], [0.5555555555555556, \"#d8576b\"], [0.6666666666666666, \"#ed7953\"], [0.7777777777777778, \"#fb9f3a\"], [0.8888888888888888, \"#fdca26\"], [1.0, \"#f0f921\"]], \"type\": \"histogram2d\"}], \"histogram2dcontour\": [{\"colorbar\": {\"outlinewidth\": 0, \"ticks\": \"\"}, \"colorscale\": [[0.0, \"#0d0887\"], [0.1111111111111111, \"#46039f\"], [0.2222222222222222, \"#7201a8\"], [0.3333333333333333, \"#9c179e\"], [0.4444444444444444, \"#bd3786\"], [0.5555555555555556, \"#d8576b\"], [0.6666666666666666, \"#ed7953\"], [0.7777777777777778, \"#fb9f3a\"], [0.8888888888888888, \"#fdca26\"], [1.0, \"#f0f921\"]], \"type\": \"histogram2dcontour\"}], \"mesh3d\": [{\"colorbar\": {\"outlinewidth\": 0, \"ticks\": \"\"}, \"type\": \"mesh3d\"}], \"parcoords\": [{\"line\": {\"colorbar\": {\"outlinewidth\": 0, \"ticks\": \"\"}}, \"type\": \"parcoords\"}], \"pie\": [{\"automargin\": true, \"type\": \"pie\"}], \"scatter\": [{\"marker\": {\"colorbar\": {\"outlinewidth\": 0, \"ticks\": \"\"}}, \"type\": \"scatter\"}], \"scatter3d\": [{\"line\": {\"colorbar\": {\"outlinewidth\": 0, \"ticks\": \"\"}}, \"marker\": {\"colorbar\": {\"outlinewidth\": 0, \"ticks\": \"\"}}, \"type\": \"scatter3d\"}], \"scattercarpet\": [{\"marker\": {\"colorbar\": {\"outlinewidth\": 0, \"ticks\": \"\"}}, \"type\": \"scattercarpet\"}], \"scattergeo\": [{\"marker\": {\"colorbar\": {\"outlinewidth\": 0, \"ticks\": \"\"}}, \"type\": \"scattergeo\"}], \"scattergl\": [{\"marker\": {\"colorbar\": {\"outlinewidth\": 0, \"ticks\": \"\"}}, \"type\": \"scattergl\"}], \"scattermapbox\": [{\"marker\": {\"colorbar\": {\"outlinewidth\": 0, \"ticks\": \"\"}}, \"type\": \"scattermapbox\"}], \"scatterpolar\": [{\"marker\": {\"colorbar\": {\"outlinewidth\": 0, \"ticks\": \"\"}}, \"type\": \"scatterpolar\"}], \"scatterpolargl\": [{\"marker\": {\"colorbar\": {\"outlinewidth\": 0, \"ticks\": \"\"}}, \"type\": \"scatterpolargl\"}], \"scatterternary\": [{\"marker\": {\"colorbar\": {\"outlinewidth\": 0, \"ticks\": \"\"}}, \"type\": \"scatterternary\"}], \"surface\": [{\"colorbar\": {\"outlinewidth\": 0, \"ticks\": \"\"}, \"colorscale\": [[0.0, \"#0d0887\"], [0.1111111111111111, \"#46039f\"], [0.2222222222222222, \"#7201a8\"], [0.3333333333333333, \"#9c179e\"], [0.4444444444444444, \"#bd3786\"], [0.5555555555555556, \"#d8576b\"], [0.6666666666666666, \"#ed7953\"], [0.7777777777777778, \"#fb9f3a\"], [0.8888888888888888, \"#fdca26\"], [1.0, \"#f0f921\"]], \"type\": \"surface\"}], \"table\": [{\"cells\": {\"fill\": {\"color\": \"#EBF0F8\"}, \"line\": {\"color\": \"white\"}}, \"header\": {\"fill\": {\"color\": \"#C8D4E3\"}, \"line\": {\"color\": \"white\"}}, \"type\": \"table\"}]}, \"layout\": {\"annotationdefaults\": {\"arrowcolor\": \"#2a3f5f\", \"arrowhead\": 0, \"arrowwidth\": 1}, \"autotypenumbers\": \"strict\", \"coloraxis\": {\"colorbar\": {\"outlinewidth\": 0, \"ticks\": \"\"}}, \"colorscale\": {\"diverging\": [[0, \"#8e0152\"], [0.1, \"#c51b7d\"], [0.2, \"#de77ae\"], [0.3, \"#f1b6da\"], [0.4, \"#fde0ef\"], [0.5, \"#f7f7f7\"], [0.6, \"#e6f5d0\"], [0.7, \"#b8e186\"], [0.8, \"#7fbc41\"], [0.9, \"#4d9221\"], [1, \"#276419\"]], \"sequential\": [[0.0, \"#0d0887\"], [0.1111111111111111, \"#46039f\"], [0.2222222222222222, \"#7201a8\"], [0.3333333333333333, \"#9c179e\"], [0.4444444444444444, \"#bd3786\"], [0.5555555555555556, \"#d8576b\"], [0.6666666666666666, \"#ed7953\"], [0.7777777777777778, \"#fb9f3a\"], [0.8888888888888888, \"#fdca26\"], [1.0, \"#f0f921\"]], \"sequentialminus\": [[0.0, \"#0d0887\"], [0.1111111111111111, \"#46039f\"], [0.2222222222222222, \"#7201a8\"], [0.3333333333333333, \"#9c179e\"], [0.4444444444444444, \"#bd3786\"], [0.5555555555555556, \"#d8576b\"], [0.6666666666666666, \"#ed7953\"], [0.7777777777777778, \"#fb9f3a\"], [0.8888888888888888, \"#fdca26\"], [1.0, \"#f0f921\"]]}, \"colorway\": [\"#636efa\", \"#EF553B\", \"#00cc96\", \"#ab63fa\", \"#FFA15A\", \"#19d3f3\", \"#FF6692\", \"#B6E880\", \"#FF97FF\", \"#FECB52\"], \"font\": {\"color\": \"#2a3f5f\"}, \"geo\": {\"bgcolor\": \"white\", \"lakecolor\": \"white\", \"landcolor\": \"#E5ECF6\", \"showlakes\": true, \"showland\": true, \"subunitcolor\": \"white\"}, \"hoverlabel\": {\"align\": \"left\"}, \"hovermode\": \"closest\", \"mapbox\": {\"style\": \"light\"}, \"paper_bgcolor\": \"white\", \"plot_bgcolor\": \"#E5ECF6\", \"polar\": {\"angularaxis\": {\"gridcolor\": \"white\", \"linecolor\": \"white\", \"ticks\": \"\"}, \"bgcolor\": \"#E5ECF6\", \"radialaxis\": {\"gridcolor\": \"white\", \"linecolor\": \"white\", \"ticks\": \"\"}}, \"scene\": {\"xaxis\": {\"backgroundcolor\": \"#E5ECF6\", \"gridcolor\": \"white\", \"gridwidth\": 2, \"linecolor\": \"white\", \"showbackground\": true, \"ticks\": \"\", \"zerolinecolor\": \"white\"}, \"yaxis\": {\"backgroundcolor\": \"#E5ECF6\", \"gridcolor\": \"white\", \"gridwidth\": 2, \"linecolor\": \"white\", \"showbackground\": true, \"ticks\": \"\", \"zerolinecolor\": \"white\"}, \"zaxis\": {\"backgroundcolor\": \"#E5ECF6\", \"gridcolor\": \"white\", \"gridwidth\": 2, \"linecolor\": \"white\", \"showbackground\": true, \"ticks\": \"\", \"zerolinecolor\": \"white\"}}, \"shapedefaults\": {\"line\": {\"color\": \"#2a3f5f\"}}, \"ternary\": {\"aaxis\": {\"gridcolor\": \"white\", \"linecolor\": \"white\", \"ticks\": \"\"}, \"baxis\": {\"gridcolor\": \"white\", \"linecolor\": \"white\", \"ticks\": \"\"}, \"bgcolor\": \"#E5ECF6\", \"caxis\": {\"gridcolor\": \"white\", \"linecolor\": \"white\", \"ticks\": \"\"}}, \"title\": {\"x\": 0.05}, \"xaxis\": {\"automargin\": true, \"gridcolor\": \"white\", \"linecolor\": \"white\", \"ticks\": \"\", \"title\": {\"standoff\": 15}, \"zerolinecolor\": \"white\", \"zerolinewidth\": 2}, \"yaxis\": {\"automargin\": true, \"gridcolor\": \"white\", \"linecolor\": \"white\", \"ticks\": \"\", \"title\": {\"standoff\": 15}, \"zerolinecolor\": \"white\", \"zerolinewidth\": 2}}}, \"title\": {\"text\": \"Happiness Score compared to Perception of Corruption Score\"}, \"width\": 1000, \"xaxis\": {\"anchor\": \"y\", \"domain\": [0.0, 1.0], \"range\": [0, 8], \"title\": {\"text\": \"Happiness Score\"}}, \"yaxis\": {\"anchor\": \"x\", \"domain\": [0.0, 1.0], \"title\": {\"text\": \"Perception of Corruption Score\"}}},                        {\"responsive\": true}                    ).then(function(){\n",
       "                            \n",
       "var gd = document.getElementById('867e507b-cf05-4753-ac12-f95cfadf5988');\n",
       "var x = new MutationObserver(function (mutations, observer) {{\n",
       "        var display = window.getComputedStyle(gd).display;\n",
       "        if (!display || display === 'none') {{\n",
       "            console.log([gd, 'removed!']);\n",
       "            Plotly.purge(gd);\n",
       "            observer.disconnect();\n",
       "        }}\n",
       "}});\n",
       "\n",
       "// Listen for the removal of the full notebook cells\n",
       "var notebookContainer = gd.closest('#notebook-container');\n",
       "if (notebookContainer) {{\n",
       "    x.observe(notebookContainer, {childList: true});\n",
       "}}\n",
       "\n",
       "// Listen for the clearing of the current output cell\n",
       "var outputEl = gd.closest('.output');\n",
       "if (outputEl) {{\n",
       "    x.observe(outputEl, {childList: true});\n",
       "}}\n",
       "\n",
       "                        })                };                });            </script>        </div>"
      ]
     },
     "metadata": {},
     "output_type": "display_data"
    }
   ],
   "source": [
    "#happiness score vs perception of corruption\n",
    "\n",
    "#establish x and y values\n",
    "x_values = merged_2019[\"Score\"]\n",
    "y_values = merged_2019[\"Perceptions of corruption\"]\n",
    "\n",
    "#px.scatter\n",
    "fig = px.scatter(merged_2019, x_values, y_values, color=\"Region\", hover_name=\"Country or region\",\n",
    "                range_x=[0,8], title=\"Happiness Score compared to Perception of Corruption Score\",\n",
    "                width= 1000, height =600) # use trendline=\"ols\" to see all lin reg equations\n",
    "\n",
    "#set axes labels\n",
    "fig.update_xaxes(title_text='Happiness Score')\n",
    "fig.update_yaxes(title_text='Perception of Corruption Score')\n",
    "\n",
    "\n",
    "#formatting\n",
    "#marker size and colors\n",
    "fig.update_traces(marker=dict(size=10,\n",
    "                              line=dict(width=1, \n",
    "                                        color='DarkSlateGrey')))\n",
    "\n",
    "#linear regression\n",
    "#use linregress from dependencies to inplement linear regression\\\n",
    "#creating mask because returning nan for this\n",
    "mask = ~np.isnan(x_values) & ~np.isnan(y_values)\n",
    "\n",
    "(slope, intercept, rvalue, pvalue, stderr) = linregress(x_values[mask], y_values[mask])\n",
    "regress_values = x_values * slope + intercept\n",
    "\n",
    "#print out all variables calculated above (rvalue, pvalue...)\n",
    "print(f\"slope:{round(slope, 2)}\")\n",
    "print(f\"intercept:{round(intercept,2)}\")\n",
    "res = sts.linregress(x_values, y_values)\n",
    "print(f\"R-squared: {res.rvalue**2:.4f}\")\n",
    "\n",
    "\n",
    "#print out line eq for reference\n",
    "line_eq = (f\"y={round(slope, 2)}x + {round(intercept, 2)}\")\n",
    "print(line_eq)\n",
    "\n",
    "fig.show()"
   ]
  },
  {
   "cell_type": "code",
   "execution_count": null,
   "metadata": {},
   "outputs": [],
   "source": []
  }
 ],
 "metadata": {
  "kernelspec": {
   "display_name": "Python 3",
   "language": "python",
   "name": "python3"
  },
  "language_info": {
   "codemirror_mode": {
    "name": "ipython",
    "version": 3
   },
   "file_extension": ".py",
   "mimetype": "text/x-python",
   "name": "python",
   "nbconvert_exporter": "python",
   "pygments_lexer": "ipython3",
   "version": "3.6.12"
  }
 },
 "nbformat": 4,
 "nbformat_minor": 4
}
